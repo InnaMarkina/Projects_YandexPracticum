{
 "cells": [
  {
   "cell_type": "markdown",
   "metadata": {},
   "source": [
    "# Анализ пользовательского поведения в мобильном приложении"
   ]
  },
  {
   "cell_type": "markdown",
   "metadata": {},
   "source": [
    "Описание проекта  \n",
    "\n",
    "Вы работаете в стартапе, который продаёт продукты питания. Нужно разобраться, как ведут себя пользователи вашего мобильного приложения.  \n",
    "\n",
    "\n",
    "После этого исследуйте результаты A/A/B-эксперимента. Дизайнеры захотели поменять шрифты во всём приложении, а менеджеры испугались, что пользователям будет непривычно. Договорились принять решение по результатам A/A/B-теста. Пользователей разбили на 3 группы: 2 контрольные со старыми шрифтами и одну экспериментальную — с новыми. Выясните, какой шрифт лучше.  \n",
    "\n",
    "\n",
    "Задача\n",
    "На основе данных использования мобильного приложения для продажи продуктов питания проанализировать воронку продаж, а также оценить результаты A/A/B-тестирования.  \n",
    "\n",
    "\n",
    "\n",
    "Описание данных  \n",
    "\n",
    "Каждая запись в логе — это действие пользователя, или событие.  \n",
    "\n",
    "EventName — название события;  \n",
    "\n",
    "DeviceIDHash — уникальный идентификатор пользователя;  \n",
    "\n",
    "EventTimestamp — время события;  \n",
    "\n",
    "ExpId — номер эксперимента: 246 и 247 — контрольные группы, а 248 — экспериментальная."
   ]
  },
  {
   "cell_type": "markdown",
   "metadata": {},
   "source": [
    "Шаг 1. Открытие файла с данными и изучение общей информации\n",
    "\n",
    "Шаг 2. Подготовка данных\n",
    "\n",
    "Шаг 3. Изучение и проверка данных\n",
    "\n",
    "Шаг 4. Изучение воронки событий\n",
    "\n",
    "Шаг 5. Изучение результатов эксперимента"
   ]
  },
  {
   "cell_type": "code",
   "execution_count": 1,
   "metadata": {},
   "outputs": [],
   "source": [
    "#Импорт библиотек\n",
    "import pandas as pd\n",
    "import numpy as np\n",
    "import matplotlib.pyplot as plt\n",
    "import seaborn as sns\n",
    "from IPython.display import display\n",
    "import math as mth\n",
    "from scipy import stats as st"
   ]
  },
  {
   "cell_type": "markdown",
   "metadata": {},
   "source": [
    "## Шаг 1. Откроем файл с данными и изучим общую информацию"
   ]
  },
  {
   "cell_type": "code",
   "execution_count": 1,
   "metadata": {},
   "outputs": [
    {
     "ename": "NameError",
     "evalue": "name 'pd' is not defined",
     "output_type": "error",
     "traceback": [
      "\u001b[0;31m---------------------------------------------------------------------------\u001b[0m",
      "\u001b[0;31mNameError\u001b[0m                                 Traceback (most recent call last)",
      "\u001b[0;32m/tmp/ipykernel_31/2800713481.py\u001b[0m in \u001b[0;36m<module>\u001b[0;34m\u001b[0m\n\u001b[0;32m----> 1\u001b[0;31m \u001b[0mdata\u001b[0m \u001b[0;34m=\u001b[0m \u001b[0mpd\u001b[0m\u001b[0;34m.\u001b[0m\u001b[0mread_csv\u001b[0m\u001b[0;34m(\u001b[0m\u001b[0;34m'/ecom_dataset_upd.csv'\u001b[0m\u001b[0;34m,\u001b[0m \u001b[0msep\u001b[0m\u001b[0;34m=\u001b[0m\u001b[0;34m'\\t'\u001b[0m\u001b[0;34m)\u001b[0m\u001b[0;34m\u001b[0m\u001b[0;34m\u001b[0m\u001b[0m\n\u001b[0m\u001b[1;32m      2\u001b[0m \u001b[0mdisplay\u001b[0m\u001b[0;34m(\u001b[0m\u001b[0mdata\u001b[0m\u001b[0;34m.\u001b[0m\u001b[0mhead\u001b[0m\u001b[0;34m(\u001b[0m\u001b[0;36m10\u001b[0m\u001b[0;34m)\u001b[0m\u001b[0;34m)\u001b[0m\u001b[0;34m\u001b[0m\u001b[0;34m\u001b[0m\u001b[0m\n",
      "\u001b[0;31mNameError\u001b[0m: name 'pd' is not defined"
     ]
    }
   ],
   "source": [
    "data = pd.read_csv('/datasets/logs_exp.csv', sep='\\t')\n",
    "display(data.head(10))"
   ]
  },
  {
   "cell_type": "markdown",
   "metadata": {},
   "source": [
    "## Шаг 2. Подготовим данные"
   ]
  },
  {
   "cell_type": "code",
   "execution_count": 3,
   "metadata": {},
   "outputs": [],
   "source": [
    "#заменим название столбцов\n",
    "data.columns = ['event_name', 'device_id', 'event_time', 'experiment_id']"
   ]
  },
  {
   "cell_type": "code",
   "execution_count": 4,
   "metadata": {},
   "outputs": [
    {
     "name": "stdout",
     "output_type": "stream",
     "text": [
      "<class 'pandas.core.frame.DataFrame'>\n",
      "RangeIndex: 244126 entries, 0 to 244125\n",
      "Data columns (total 4 columns):\n",
      " #   Column         Non-Null Count   Dtype \n",
      "---  ------         --------------   ----- \n",
      " 0   event_name     244126 non-null  object\n",
      " 1   device_id      244126 non-null  int64 \n",
      " 2   event_time     244126 non-null  int64 \n",
      " 3   experiment_id  244126 non-null  int64 \n",
      "dtypes: int64(3), object(1)\n",
      "memory usage: 7.5+ MB\n"
     ]
    }
   ],
   "source": [
    "#Посмотрим общую информацию о таблице\n",
    "data.info()"
   ]
  },
  {
   "cell_type": "code",
   "execution_count": 5,
   "metadata": {},
   "outputs": [],
   "source": [
    "# Откорректируем типы данных\n",
    "data['event_time'] = pd.to_datetime(data['event_time'], unit='s')\n",
    "data['device_id'] = data['device_id'].astype(str)\n",
    "data['experiment_id'] = data['experiment_id'].astype(str)"
   ]
  },
  {
   "cell_type": "code",
   "execution_count": 6,
   "metadata": {},
   "outputs": [
    {
     "data": {
      "text/plain": [
       "413"
      ]
     },
     "execution_count": 6,
     "metadata": {},
     "output_type": "execute_result"
    }
   ],
   "source": [
    "# Проверим наличие дубликатов\n",
    "data.duplicated().sum()"
   ]
  },
  {
   "cell_type": "code",
   "execution_count": 7,
   "metadata": {},
   "outputs": [
    {
     "data": {
      "text/plain": [
       "0"
      ]
     },
     "execution_count": 7,
     "metadata": {},
     "output_type": "execute_result"
    }
   ],
   "source": [
    "# Удалим дубликаты\n",
    "data = data.drop_duplicates()\n",
    "data.duplicated().sum()"
   ]
  },
  {
   "cell_type": "code",
   "execution_count": 8,
   "metadata": {},
   "outputs": [],
   "source": [
    "#добавим столбец даты и времени, а также отдельный столбец дат\n",
    "data['date'] = data['event_time'].dt.date\n"
   ]
  },
  {
   "cell_type": "code",
   "execution_count": 9,
   "metadata": {},
   "outputs": [
    {
     "data": {
      "text/plain": [
       "array(['246', '248', '247'], dtype=object)"
      ]
     },
     "execution_count": 9,
     "metadata": {},
     "output_type": "execute_result"
    }
   ],
   "source": [
    "#уникальные значения\n",
    "data.experiment_id.unique()"
   ]
  },
  {
   "cell_type": "code",
   "execution_count": 10,
   "metadata": {},
   "outputs": [
    {
     "data": {
      "text/plain": [
       "device_id    0.0\n",
       "dtype: float64"
      ]
     },
     "metadata": {},
     "output_type": "display_data"
    },
    {
     "data": {
      "text/plain": [
       "device_id    0.0\n",
       "dtype: float64"
      ]
     },
     "metadata": {},
     "output_type": "display_data"
    },
    {
     "data": {
      "text/plain": [
       "device_id    0.0\n",
       "dtype: float64"
      ]
     },
     "execution_count": 10,
     "metadata": {},
     "output_type": "execute_result"
    }
   ],
   "source": [
    "# количество уникальных пользователей, которые оказались одновременно в нескольких группах\n",
    "unique_246 = data.query('experiment_id == 246').loc[:, ['device_id', 'experiment_id']].drop_duplicates().drop(columns=['experiment_id'])\n",
    "unique_247 = data.query('experiment_id == 247').loc[:, ['device_id', 'experiment_id']].drop_duplicates().drop(columns=['experiment_id'])\n",
    "unique_248 = data.query('experiment_id == 248').loc[:, ['device_id', 'experiment_id']].drop_duplicates().drop(columns=['experiment_id'])\n",
    "display(unique_246.isin(unique_247).sum())\n",
    "display(unique_247.isin(unique_248).sum())\n",
    "unique_247.isin(unique_248).sum()"
   ]
  },
  {
   "cell_type": "code",
   "execution_count": 11,
   "metadata": {},
   "outputs": [
    {
     "data": {
      "text/html": [
       "<div>\n",
       "<style scoped>\n",
       "    .dataframe tbody tr th:only-of-type {\n",
       "        vertical-align: middle;\n",
       "    }\n",
       "\n",
       "    .dataframe tbody tr th {\n",
       "        vertical-align: top;\n",
       "    }\n",
       "\n",
       "    .dataframe thead th {\n",
       "        text-align: right;\n",
       "    }\n",
       "</style>\n",
       "<table border=\"1\" class=\"dataframe\">\n",
       "  <thead>\n",
       "    <tr style=\"text-align: right;\">\n",
       "      <th></th>\n",
       "      <th>event_name</th>\n",
       "      <th>device_id</th>\n",
       "      <th>event_time</th>\n",
       "      <th>experiment_id</th>\n",
       "      <th>date</th>\n",
       "    </tr>\n",
       "  </thead>\n",
       "  <tbody>\n",
       "    <tr>\n",
       "      <th>0</th>\n",
       "      <td>MainScreenAppear</td>\n",
       "      <td>4575588528974610257</td>\n",
       "      <td>2019-07-25 04:43:36</td>\n",
       "      <td>246</td>\n",
       "      <td>2019-07-25</td>\n",
       "    </tr>\n",
       "    <tr>\n",
       "      <th>1</th>\n",
       "      <td>MainScreenAppear</td>\n",
       "      <td>7416695313311560658</td>\n",
       "      <td>2019-07-25 11:11:42</td>\n",
       "      <td>246</td>\n",
       "      <td>2019-07-25</td>\n",
       "    </tr>\n",
       "    <tr>\n",
       "      <th>2</th>\n",
       "      <td>PaymentScreenSuccessful</td>\n",
       "      <td>3518123091307005509</td>\n",
       "      <td>2019-07-25 11:28:47</td>\n",
       "      <td>248</td>\n",
       "      <td>2019-07-25</td>\n",
       "    </tr>\n",
       "    <tr>\n",
       "      <th>3</th>\n",
       "      <td>CartScreenAppear</td>\n",
       "      <td>3518123091307005509</td>\n",
       "      <td>2019-07-25 11:28:47</td>\n",
       "      <td>248</td>\n",
       "      <td>2019-07-25</td>\n",
       "    </tr>\n",
       "    <tr>\n",
       "      <th>4</th>\n",
       "      <td>PaymentScreenSuccessful</td>\n",
       "      <td>6217807653094995999</td>\n",
       "      <td>2019-07-25 11:48:42</td>\n",
       "      <td>248</td>\n",
       "      <td>2019-07-25</td>\n",
       "    </tr>\n",
       "  </tbody>\n",
       "</table>\n",
       "</div>"
      ],
      "text/plain": [
       "                event_name            device_id          event_time  \\\n",
       "0         MainScreenAppear  4575588528974610257 2019-07-25 04:43:36   \n",
       "1         MainScreenAppear  7416695313311560658 2019-07-25 11:11:42   \n",
       "2  PaymentScreenSuccessful  3518123091307005509 2019-07-25 11:28:47   \n",
       "3         CartScreenAppear  3518123091307005509 2019-07-25 11:28:47   \n",
       "4  PaymentScreenSuccessful  6217807653094995999 2019-07-25 11:48:42   \n",
       "\n",
       "  experiment_id        date  \n",
       "0           246  2019-07-25  \n",
       "1           246  2019-07-25  \n",
       "2           248  2019-07-25  \n",
       "3           248  2019-07-25  \n",
       "4           248  2019-07-25  "
      ]
     },
     "execution_count": 11,
     "metadata": {},
     "output_type": "execute_result"
    }
   ],
   "source": [
    "data.head()"
   ]
  },
  {
   "cell_type": "markdown",
   "metadata": {},
   "source": [
    "Вывод:  \n",
    "\n",
    "В таблице data содержится 244126 строк и 4 столбцa:  \n",
    "\n",
    "\n",
    "event_name — название события\n",
    "device_id — уникальный идентификатор пользователя\n",
    "datetime — время события\n",
    "experiment_id — номер эксперимента: 246 и 247 — контрольные группы, а 248 — экспериментальная\n",
    "date - дата  \n",
    "\n",
    "Две группы А (246 и 247) вместо одной созданы для большей точности исследования во время A/A/B-эксперимента Если две контрольные группы будут иметь существенные различия, это может помочь выявить факторы, исказившие результаты. Сравнение двух групп также позволит определить, сколько данных и времени необходимо для тестов. Пользователи во всех трех группах уникальные и не пересекаются друг с другом.\n",
    "\n",
    "В таблице отсутствуют пропущенные значения, но есть 413 дубликатов, которые были удалены. Типы данных были откорректированы. Добавлен столбец даты.\n",
    "\n"
   ]
  },
  {
   "cell_type": "markdown",
   "metadata": {},
   "source": [
    "## Шаг 3. Изучите и проверьте данные"
   ]
  },
  {
   "cell_type": "code",
   "execution_count": 12,
   "metadata": {},
   "outputs": [
    {
     "name": "stdout",
     "output_type": "stream",
     "text": [
      "Всего событий в логе 243713\n"
     ]
    }
   ],
   "source": [
    "print('Всего событий в логе', len(data['event_name']))"
   ]
  },
  {
   "cell_type": "code",
   "execution_count": 13,
   "metadata": {},
   "outputs": [
    {
     "name": "stdout",
     "output_type": "stream",
     "text": [
      "В логе всего 7551 пользователь\n"
     ]
    }
   ],
   "source": [
    "print('В логе всего', len(data['device_id'].value_counts()), 'пользователь')"
   ]
  },
  {
   "cell_type": "code",
   "execution_count": 14,
   "metadata": {},
   "outputs": [
    {
     "name": "stdout",
     "output_type": "stream",
     "text": [
      "В среднем на пользователя приходится 32.3 события\n"
     ]
    }
   ],
   "source": [
    "df_events = data.pivot_table(index='device_id',values='event_name',aggfunc='count')\n",
    "print('В среднем на пользователя приходится', round(df_events['event_name'].mean(), 1), 'события')"
   ]
  },
  {
   "cell_type": "code",
   "execution_count": 15,
   "metadata": {},
   "outputs": [
    {
     "name": "stdout",
     "output_type": "stream",
     "text": [
      "Минимальная дата 2019-07-25\n",
      "Максимальная дата 2019-08-07\n"
     ]
    }
   ],
   "source": [
    "print('Минимальная дата', data['date'].min())\n",
    "print('Максимальная дата', data['date'].max())"
   ]
  },
  {
   "cell_type": "code",
   "execution_count": 16,
   "metadata": {},
   "outputs": [
    {
     "data": {
      "image/png": "[encoded data removed]",
      "text/plain": [
       "<Figure size 432x288 with 1 Axes>"
      ]
     },
     "metadata": {
      "needs_background": "light"
     },
     "output_type": "display_data"
    }
   ],
   "source": [
    "# Посмотрим гистограмму событий по дате\n",
    "data['date'].hist(bins = 14).set_title('Гистограмма по дате')\n",
    "plt.xlabel(\"Дата\")\n",
    "plt.xticks(rotation=50) \n",
    "plt.show()"
   ]
  },
  {
   "cell_type": "code",
   "execution_count": 17,
   "metadata": {},
   "outputs": [
    {
     "data": {
      "image/png": "[encoded data removed]",
      "text/plain": [
       "<Figure size 432x288 with 1 Axes>"
      ]
     },
     "metadata": {
      "needs_background": "light"
     },
     "output_type": "display_data"
    }
   ],
   "source": [
    "# Посмотрим гистограмму  событий по дате, начиная с 01.08.2019\n",
    "data['date'] = pd.to_datetime(data['date'])\n",
    "new_data = data.query('date > \"2019-07-31\"')\n",
    "new_data['date'].hist(bins = 7).set_title('Гистограмма по дате')\n",
    "plt.xlabel(\"Дата\")\n",
    "plt.xticks(rotation=50) \n",
    "plt.show()"
   ]
  },
  {
   "cell_type": "code",
   "execution_count": 18,
   "metadata": {},
   "outputs": [
    {
     "name": "stdout",
     "output_type": "stream",
     "text": [
      "Потеряно 2826 событий\n"
     ]
    }
   ],
   "source": [
    "# Посмотрим, сколько событий было потеряно\n",
    "old_data = data.query('date <= \"2019-07-31\"')\n",
    "print('Потеряно', len(old_data['event_name']), 'событий')"
   ]
  },
  {
   "cell_type": "code",
   "execution_count": 19,
   "metadata": {},
   "outputs": [
    {
     "name": "stdout",
     "output_type": "stream",
     "text": [
      "Потеряно 5 пользователей\n"
     ]
    }
   ],
   "source": [
    "# Посмотрим, сколько пользователей было потеряно\n",
    "devices_lost = 0\n",
    "for row in new_data:\n",
    "    if row not in old_data['device_id'].unique():\n",
    "        devices_lost +=1 \n",
    "print('Потеряно', devices_lost, 'пользователей')"
   ]
  },
  {
   "cell_type": "code",
   "execution_count": 20,
   "metadata": {},
   "outputs": [
    {
     "data": {
      "text/plain": [
       "1.16"
      ]
     },
     "execution_count": 20,
     "metadata": {},
     "output_type": "execute_result"
    }
   ],
   "source": [
    "# доля отброшенных событий\n",
    "round((data.shape[0] - new_data.shape[0]) / data.shape[0] * 100, 3)"
   ]
  },
  {
   "cell_type": "code",
   "execution_count": 21,
   "metadata": {},
   "outputs": [
    {
     "data": {
      "text/plain": [
       "0.225"
      ]
     },
     "execution_count": 21,
     "metadata": {},
     "output_type": "execute_result"
    }
   ],
   "source": [
    "# доля отброшенных пользователей\n",
    "round((data.device_id.nunique() - new_data.device_id.nunique()) / data.device_id.nunique() * 100, 3)\n",
    "round((data.device_id.nunique() - new_data.device_id.nunique()) / data.device_id.nunique() * 100, 3)"
   ]
  },
  {
   "cell_type": "code",
   "execution_count": 22,
   "metadata": {},
   "outputs": [
    {
     "data": {
      "text/plain": [
       "248    84563\n",
       "246    79302\n",
       "247    77022\n",
       "Name: experiment_id, dtype: int64"
      ]
     },
     "execution_count": 22,
     "metadata": {},
     "output_type": "execute_result"
    }
   ],
   "source": [
    "new_data['experiment_id'].value_counts()"
   ]
  },
  {
   "cell_type": "code",
   "execution_count": 23,
   "metadata": {},
   "outputs": [
    {
     "data": {
      "text/html": [
       "<div>\n",
       "<style scoped>\n",
       "    .dataframe tbody tr th:only-of-type {\n",
       "        vertical-align: middle;\n",
       "    }\n",
       "\n",
       "    .dataframe tbody tr th {\n",
       "        vertical-align: top;\n",
       "    }\n",
       "\n",
       "    .dataframe thead th {\n",
       "        text-align: right;\n",
       "    }\n",
       "</style>\n",
       "<table border=\"1\" class=\"dataframe\">\n",
       "  <thead>\n",
       "    <tr style=\"text-align: right;\">\n",
       "      <th></th>\n",
       "      <th>device_id</th>\n",
       "    </tr>\n",
       "    <tr>\n",
       "      <th>experiment_id</th>\n",
       "      <th></th>\n",
       "    </tr>\n",
       "  </thead>\n",
       "  <tbody>\n",
       "    <tr>\n",
       "      <th>246</th>\n",
       "      <td>2484</td>\n",
       "    </tr>\n",
       "    <tr>\n",
       "      <th>247</th>\n",
       "      <td>2513</td>\n",
       "    </tr>\n",
       "    <tr>\n",
       "      <th>248</th>\n",
       "      <td>2537</td>\n",
       "    </tr>\n",
       "  </tbody>\n",
       "</table>\n",
       "</div>"
      ],
      "text/plain": [
       "               device_id\n",
       "experiment_id           \n",
       "246                 2484\n",
       "247                 2513\n",
       "248                 2537"
      ]
     },
     "execution_count": 23,
     "metadata": {},
     "output_type": "execute_result"
    }
   ],
   "source": [
    "#количество device_id\n",
    "new_data.groupby('experiment_id').agg({'device_id': 'nunique'})"
   ]
  },
  {
   "cell_type": "markdown",
   "metadata": {},
   "source": [
    "## Шаг 4. Изучим воронку событий"
   ]
  },
  {
   "cell_type": "markdown",
   "metadata": {},
   "source": [
    "### Какие события есть в логах, как часто они встречаются"
   ]
  },
  {
   "cell_type": "code",
   "execution_count": 24,
   "metadata": {},
   "outputs": [
    {
     "name": "stdout",
     "output_type": "stream",
     "text": [
      "Всего событий в логе 243713\n"
     ]
    }
   ],
   "source": [
    "print('Всего событий в логе', len(data['event_name']))"
   ]
  },
  {
   "cell_type": "code",
   "execution_count": 25,
   "metadata": {},
   "outputs": [
    {
     "data": {
      "text/plain": [
       "MainScreenAppear           119101\n",
       "OffersScreenAppear          46808\n",
       "CartScreenAppear            42668\n",
       "PaymentScreenSuccessful     34118\n",
       "Tutorial                     1018\n",
       "Name: event_name, dtype: int64"
      ]
     },
     "execution_count": 25,
     "metadata": {},
     "output_type": "execute_result"
    }
   ],
   "source": [
    "# количество событий каждого вида\n",
    "events = data['event_name'].value_counts()\n",
    "events"
   ]
  },
  {
   "cell_type": "markdown",
   "metadata": {},
   "source": [
    "В логе 5 видов событий, которые мы отсортировали по частоте. Чаще всего пользователи заходят на главную страницу (MainScreenAppear)"
   ]
  },
  {
   "cell_type": "markdown",
   "metadata": {},
   "source": [
    "### Сколько пользователей совершали каждое из этих событий. Посчитаем долю пользователей, которые хоть раз совершали событие"
   ]
  },
  {
   "cell_type": "code",
   "execution_count": 26,
   "metadata": {},
   "outputs": [
    {
     "data": {
      "text/html": [
       "<div>\n",
       "<style scoped>\n",
       "    .dataframe tbody tr th:only-of-type {\n",
       "        vertical-align: middle;\n",
       "    }\n",
       "\n",
       "    .dataframe tbody tr th {\n",
       "        vertical-align: top;\n",
       "    }\n",
       "\n",
       "    .dataframe thead th {\n",
       "        text-align: right;\n",
       "    }\n",
       "</style>\n",
       "<table border=\"1\" class=\"dataframe\">\n",
       "  <thead>\n",
       "    <tr style=\"text-align: right;\">\n",
       "      <th></th>\n",
       "      <th>device_id</th>\n",
       "      <th>%</th>\n",
       "    </tr>\n",
       "    <tr>\n",
       "      <th>event_name</th>\n",
       "      <th></th>\n",
       "      <th></th>\n",
       "    </tr>\n",
       "  </thead>\n",
       "  <tbody>\n",
       "    <tr>\n",
       "      <th>MainScreenAppear</th>\n",
       "      <td>7439</td>\n",
       "      <td>98.516753</td>\n",
       "    </tr>\n",
       "    <tr>\n",
       "      <th>OffersScreenAppear</th>\n",
       "      <td>4613</td>\n",
       "      <td>61.091246</td>\n",
       "    </tr>\n",
       "    <tr>\n",
       "      <th>CartScreenAppear</th>\n",
       "      <td>3749</td>\n",
       "      <td>49.649053</td>\n",
       "    </tr>\n",
       "    <tr>\n",
       "      <th>PaymentScreenSuccessful</th>\n",
       "      <td>3547</td>\n",
       "      <td>46.973911</td>\n",
       "    </tr>\n",
       "    <tr>\n",
       "      <th>Tutorial</th>\n",
       "      <td>847</td>\n",
       "      <td>11.217057</td>\n",
       "    </tr>\n",
       "  </tbody>\n",
       "</table>\n",
       "</div>"
      ],
      "text/plain": [
       "                         device_id          %\n",
       "event_name                                   \n",
       "MainScreenAppear              7439  98.516753\n",
       "OffersScreenAppear            4613  61.091246\n",
       "CartScreenAppear              3749  49.649053\n",
       "PaymentScreenSuccessful       3547  46.973911\n",
       "Tutorial                       847  11.217057"
      ]
     },
     "execution_count": 26,
     "metadata": {},
     "output_type": "execute_result"
    }
   ],
   "source": [
    "users_event = data.groupby('event_name').agg({'device_id': 'nunique'}).sort_values(by='device_id', ascending=False)\n",
    "users_event['%'] = users_event / data.device_id.nunique() * 100\n",
    "users_event"
   ]
  },
  {
   "cell_type": "code",
   "execution_count": 27,
   "metadata": {},
   "outputs": [
    {
     "data": {
      "image/png": "[encoded data removed]",
      "text/plain": [
       "<Figure size 432x288 with 1 Axes>"
      ]
     },
     "metadata": {
      "needs_background": "light"
     },
     "output_type": "display_data"
    }
   ],
   "source": [
    "sns.barplot(x=users_event.index, y=users_event.device_id, data=users_event) \n",
    "\n",
    "plt.ylabel('Количество пользователей')\n",
    "plt.xlabel('Название события')\n",
    "plt.title('Число пользователей по каждому событию')\n",
    "plt.xticks(rotation=15);"
   ]
  },
  {
   "cell_type": "markdown",
   "metadata": {},
   "source": [
    "Судя по всему, события складываются в воронку продаж, они происходят последовательно. Самое популярное событие - показ главного экрана, а самое непопулярное, которое входит в воронку продаж, - показ экрана оплаты. Событие - справочник, самое не популярное, но оно не попадает в воронку."
   ]
  },
  {
   "cell_type": "markdown",
   "metadata": {},
   "source": [
    "### Посчитаем, какая доля пользователей проходит на следующий шаг воронки (от числа пользователей на предыдущем). "
   ]
  },
  {
   "cell_type": "code",
   "execution_count": 28,
   "metadata": {},
   "outputs": [
    {
     "data": {
      "text/html": [
       "<div>\n",
       "<style scoped>\n",
       "    .dataframe tbody tr th:only-of-type {\n",
       "        vertical-align: middle;\n",
       "    }\n",
       "\n",
       "    .dataframe tbody tr th {\n",
       "        vertical-align: top;\n",
       "    }\n",
       "\n",
       "    .dataframe thead th {\n",
       "        text-align: right;\n",
       "    }\n",
       "</style>\n",
       "<table border=\"1\" class=\"dataframe\">\n",
       "  <thead>\n",
       "    <tr style=\"text-align: right;\">\n",
       "      <th></th>\n",
       "      <th>event_name</th>\n",
       "      <th>device_id</th>\n",
       "      <th>share</th>\n",
       "    </tr>\n",
       "  </thead>\n",
       "  <tbody>\n",
       "    <tr>\n",
       "      <th>0</th>\n",
       "      <td>MainScreenAppear</td>\n",
       "      <td>7439</td>\n",
       "      <td>NaN</td>\n",
       "    </tr>\n",
       "    <tr>\n",
       "      <th>1</th>\n",
       "      <td>OffersScreenAppear</td>\n",
       "      <td>4613</td>\n",
       "      <td>62.011023</td>\n",
       "    </tr>\n",
       "    <tr>\n",
       "      <th>2</th>\n",
       "      <td>CartScreenAppear</td>\n",
       "      <td>3749</td>\n",
       "      <td>81.270323</td>\n",
       "    </tr>\n",
       "    <tr>\n",
       "      <th>3</th>\n",
       "      <td>PaymentScreenSuccessful</td>\n",
       "      <td>3547</td>\n",
       "      <td>94.611897</td>\n",
       "    </tr>\n",
       "  </tbody>\n",
       "</table>\n",
       "</div>"
      ],
      "text/plain": [
       "                event_name  device_id      share\n",
       "0         MainScreenAppear       7439        NaN\n",
       "1       OffersScreenAppear       4613  62.011023\n",
       "2         CartScreenAppear       3749  81.270323\n",
       "3  PaymentScreenSuccessful       3547  94.611897"
      ]
     },
     "execution_count": 28,
     "metadata": {},
     "output_type": "execute_result"
    }
   ],
   "source": [
    "part_of_users = data.query('event_name != \"Tutorial\"').groupby('event_name').agg({'device_id': 'nunique'}) \\\n",
    "                    .sort_values(by='device_id', ascending=False).reset_index()\n",
    "part_of_users['share'] = 100 + part_of_users.device_id.pct_change() * 100\n",
    "part_of_users"
   ]
  },
  {
   "cell_type": "markdown",
   "metadata": {},
   "source": [
    "В каталог заходят 61,91% посетителей после главной страницы, в корзину - 81,3% от количества посетителей предыдущего шага. Оплачивают 94,78% посетителей, добавивших товар в корзину. Самые большие потери происходят на этапе перехода из главной страницы на страницу каталога - 38% не доходят до второго этапа."
   ]
  },
  {
   "cell_type": "code",
   "execution_count": 29,
   "metadata": {},
   "outputs": [
    {
     "data": {
      "text/html": [
       "<div>\n",
       "<style scoped>\n",
       "    .dataframe tbody tr th:only-of-type {\n",
       "        vertical-align: middle;\n",
       "    }\n",
       "\n",
       "    .dataframe tbody tr th {\n",
       "        vertical-align: top;\n",
       "    }\n",
       "\n",
       "    .dataframe thead th {\n",
       "        text-align: right;\n",
       "    }\n",
       "</style>\n",
       "<table border=\"1\" class=\"dataframe\">\n",
       "  <thead>\n",
       "    <tr style=\"text-align: right;\">\n",
       "      <th></th>\n",
       "      <th>event_name</th>\n",
       "      <th>device_id</th>\n",
       "      <th>share</th>\n",
       "      <th>part_of_all</th>\n",
       "    </tr>\n",
       "  </thead>\n",
       "  <tbody>\n",
       "    <tr>\n",
       "      <th>0</th>\n",
       "      <td>MainScreenAppear</td>\n",
       "      <td>7439</td>\n",
       "      <td>NaN</td>\n",
       "      <td>100.000000</td>\n",
       "    </tr>\n",
       "    <tr>\n",
       "      <th>1</th>\n",
       "      <td>OffersScreenAppear</td>\n",
       "      <td>4613</td>\n",
       "      <td>62.011023</td>\n",
       "      <td>62.011023</td>\n",
       "    </tr>\n",
       "    <tr>\n",
       "      <th>2</th>\n",
       "      <td>CartScreenAppear</td>\n",
       "      <td>3749</td>\n",
       "      <td>81.270323</td>\n",
       "      <td>50.396559</td>\n",
       "    </tr>\n",
       "    <tr>\n",
       "      <th>3</th>\n",
       "      <td>PaymentScreenSuccessful</td>\n",
       "      <td>3547</td>\n",
       "      <td>94.611897</td>\n",
       "      <td>47.681140</td>\n",
       "    </tr>\n",
       "  </tbody>\n",
       "</table>\n",
       "</div>"
      ],
      "text/plain": [
       "                event_name  device_id      share  part_of_all\n",
       "0         MainScreenAppear       7439        NaN   100.000000\n",
       "1       OffersScreenAppear       4613  62.011023    62.011023\n",
       "2         CartScreenAppear       3749  81.270323    50.396559\n",
       "3  PaymentScreenSuccessful       3547  94.611897    47.681140"
      ]
     },
     "execution_count": 29,
     "metadata": {},
     "output_type": "execute_result"
    }
   ],
   "source": [
    "part_of_users['part_of_all'] = part_of_users.device_id / part_of_users.device_id[0] * 100\n",
    "part_of_users"
   ]
  },
  {
   "cell_type": "markdown",
   "metadata": {},
   "source": [
    "*Вывод*  \n",
    "\n",
    "Пользователи сначала заходят на главную страницу, затем в каталог с предложениями товаров, в корзину и в конце оплачивают покупку. В справочник заходят только 11,15% пользователей. Конверсия составляет меньше половины (47,7% пользователей оплачивают товары).  \n",
    "\n",
    "\n",
    "Наибольшее количество посетителей отпадает после посещения главной страницы (чуть больше 38%), в корзину не доходят 19,7%, не оплачивают 5,22% после предыдущего шага."
   ]
  },
  {
   "cell_type": "markdown",
   "metadata": {},
   "source": [
    "## Шаг 5. Изучите результаты эксперимента"
   ]
  },
  {
   "cell_type": "code",
   "execution_count": 30,
   "metadata": {},
   "outputs": [
    {
     "data": {
      "text/html": [
       "<div>\n",
       "<style scoped>\n",
       "    .dataframe tbody tr th:only-of-type {\n",
       "        vertical-align: middle;\n",
       "    }\n",
       "\n",
       "    .dataframe tbody tr th {\n",
       "        vertical-align: top;\n",
       "    }\n",
       "\n",
       "    .dataframe thead th {\n",
       "        text-align: right;\n",
       "    }\n",
       "</style>\n",
       "<table border=\"1\" class=\"dataframe\">\n",
       "  <thead>\n",
       "    <tr style=\"text-align: right;\">\n",
       "      <th></th>\n",
       "      <th>device_id</th>\n",
       "    </tr>\n",
       "    <tr>\n",
       "      <th>experiment_id</th>\n",
       "      <th></th>\n",
       "    </tr>\n",
       "  </thead>\n",
       "  <tbody>\n",
       "    <tr>\n",
       "      <th>246</th>\n",
       "      <td>2484</td>\n",
       "    </tr>\n",
       "    <tr>\n",
       "      <th>247</th>\n",
       "      <td>2513</td>\n",
       "    </tr>\n",
       "    <tr>\n",
       "      <th>248</th>\n",
       "      <td>2537</td>\n",
       "    </tr>\n",
       "  </tbody>\n",
       "</table>\n",
       "</div>"
      ],
      "text/plain": [
       "               device_id\n",
       "experiment_id           \n",
       "246                 2484\n",
       "247                 2513\n",
       "248                 2537"
      ]
     },
     "metadata": {},
     "output_type": "display_data"
    }
   ],
   "source": [
    "# Посмотрим сколько пользователей в каждой экспериментальной группе\n",
    "groups = new_data.pivot_table(index='experiment_id',values='device_id',aggfunc='nunique')\n",
    "display(groups)"
   ]
  },
  {
   "cell_type": "markdown",
   "metadata": {},
   "source": [
    "Проверим, находят ли статистические критерии разницу между выборками 246 и 247"
   ]
  },
  {
   "cell_type": "code",
   "execution_count": 31,
   "metadata": {},
   "outputs": [
    {
     "data": {
      "text/html": [
       "<div>\n",
       "<style scoped>\n",
       "    .dataframe tbody tr th:only-of-type {\n",
       "        vertical-align: middle;\n",
       "    }\n",
       "\n",
       "    .dataframe tbody tr th {\n",
       "        vertical-align: top;\n",
       "    }\n",
       "\n",
       "    .dataframe thead th {\n",
       "        text-align: right;\n",
       "    }\n",
       "</style>\n",
       "<table border=\"1\" class=\"dataframe\">\n",
       "  <thead>\n",
       "    <tr style=\"text-align: right;\">\n",
       "      <th></th>\n",
       "      <th>CartScreenAppear</th>\n",
       "      <th>MainScreenAppear</th>\n",
       "      <th>OffersScreenAppear</th>\n",
       "      <th>PaymentScreenSuccessful</th>\n",
       "      <th>Total</th>\n",
       "    </tr>\n",
       "    <tr>\n",
       "      <th>experiment_id</th>\n",
       "      <th></th>\n",
       "      <th></th>\n",
       "      <th></th>\n",
       "      <th></th>\n",
       "      <th></th>\n",
       "    </tr>\n",
       "  </thead>\n",
       "  <tbody>\n",
       "    <tr>\n",
       "      <th>246</th>\n",
       "      <td>1266</td>\n",
       "      <td>2450</td>\n",
       "      <td>1542</td>\n",
       "      <td>1200</td>\n",
       "      <td>2484</td>\n",
       "    </tr>\n",
       "    <tr>\n",
       "      <th>247</th>\n",
       "      <td>1238</td>\n",
       "      <td>2476</td>\n",
       "      <td>1520</td>\n",
       "      <td>1158</td>\n",
       "      <td>2513</td>\n",
       "    </tr>\n",
       "    <tr>\n",
       "      <th>248</th>\n",
       "      <td>1230</td>\n",
       "      <td>2493</td>\n",
       "      <td>1531</td>\n",
       "      <td>1181</td>\n",
       "      <td>2537</td>\n",
       "    </tr>\n",
       "  </tbody>\n",
       "</table>\n",
       "</div>"
      ],
      "text/plain": [
       "               CartScreenAppear  MainScreenAppear  OffersScreenAppear  \\\n",
       "experiment_id                                                           \n",
       "246                        1266              2450                1542   \n",
       "247                        1238              2476                1520   \n",
       "248                        1230              2493                1531   \n",
       "\n",
       "               PaymentScreenSuccessful  Total  \n",
       "experiment_id                                  \n",
       "246                               1200   2484  \n",
       "247                               1158   2513  \n",
       "248                               1181   2537  "
      ]
     },
     "execution_count": 31,
     "metadata": {},
     "output_type": "execute_result"
    }
   ],
   "source": [
    "funnel = (new_data\n",
    "          .pivot_table(index='experiment_id',columns = 'event_name', values='device_id',aggfunc='nunique')\n",
    "          .rename_axis(None, axis=1)\n",
    "          .drop(columns='Tutorial')\n",
    "         )\n",
    "funnel['Total'] = new_data.groupby('experiment_id')['device_id'].nunique()\n",
    "funnel"
   ]
  },
  {
   "cell_type": "code",
   "execution_count": 32,
   "metadata": {},
   "outputs": [
    {
     "data": {
      "text/plain": [
       "['MainScreenAppear',\n",
       " 'OffersScreenAppear',\n",
       " 'CartScreenAppear',\n",
       " 'PaymentScreenSuccessful']"
      ]
     },
     "execution_count": 32,
     "metadata": {},
     "output_type": "execute_result"
    }
   ],
   "source": [
    "#список долей в последовательном порядке как в воронке\n",
    "event_names = (funnel\n",
    "               .sort_values(axis=1, by='246', ascending=False)\n",
    "              .columns[1:5]\n",
    "               .tolist()\n",
    "              )\n",
    "event_names"
   ]
  },
  {
   "cell_type": "code",
   "execution_count": 33,
   "metadata": {},
   "outputs": [],
   "source": [
    "# подготовим функцию о проверке гипотезы на равенство долей\n",
    "def z_test(event_names, exp_id_1, exp_id_2, alpha_value):\n",
    "    \n",
    "    for event in event_names:\n",
    "        \n",
    "        alpha = alpha_value\n",
    "        \n",
    "        successes = np.array([funnel[event][exp_id_1], funnel[event][exp_id_2]])\n",
    "        trials = np.array([funnel['Total'][exp_id_1], funnel['Total'][exp_id_2]])\n",
    "\n",
    "        p1 = successes[0]/trials[0]\n",
    "        p2 = successes[1]/trials[1]\n",
    "        p_combined = (successes[0] + successes[1]) / (trials[0] + trials[1])\n",
    "        difference = p1 - p2\n",
    "        z_value = difference / mth.sqrt(p_combined * (1 - p_combined) * (1/trials[0] + 1/trials[1]))\n",
    "        distr = st.norm(0, 1) \n",
    "        p_value = (1 - distr.cdf(abs(z_value))) * 2\n",
    "        print()\n",
    "        \n",
    "        print('p-значение: ', p_value)\n",
    "\n",
    "        if p_value < alpha:\n",
    "            print('Отвергаем нулевую гипотезу: между долями групп {} и {} по событию {} есть значимая разница'\n",
    "                  .format(exp_id_1, exp_id_2, event)\n",
    "                 )\n",
    "        else:\n",
    "            print(\n",
    "                'Не получилось отвергнуть нулевую гипотезу, нет оснований считать доли групп {} и {} по событию {} разными'\n",
    "                .format(exp_id_1, exp_id_2, event)\n",
    "                 )\n",
    "\n"
   ]
  },
  {
   "cell_type": "markdown",
   "metadata": {},
   "source": [
    "Сравнение двух контрольных групп 246 и 247"
   ]
  },
  {
   "cell_type": "markdown",
   "metadata": {},
   "source": [
    "Нулевая гипотеза H₀: доли пользователей, совершивших событие равны  \n",
    "\n",
    "    \n",
    "Альтернативная гипотеза H₁: доли пользователей, совершивших событие различаются   \n",
    "alpha = 0.05\n",
    "\n"
   ]
  },
  {
   "cell_type": "code",
   "execution_count": 34,
   "metadata": {},
   "outputs": [
    {
     "name": "stdout",
     "output_type": "stream",
     "text": [
      "\n",
      "p-значение:  0.7570597232046099\n",
      "Не получилось отвергнуть нулевую гипотезу, нет оснований считать доли групп 0 и 1 по событию MainScreenAppear разными\n",
      "\n",
      "p-значение:  0.2480954578522181\n",
      "Не получилось отвергнуть нулевую гипотезу, нет оснований считать доли групп 0 и 1 по событию OffersScreenAppear разными\n",
      "\n",
      "p-значение:  0.22883372237997213\n",
      "Не получилось отвергнуть нулевую гипотезу, нет оснований считать доли групп 0 и 1 по событию CartScreenAppear разными\n",
      "\n",
      "p-значение:  0.11456679313141849\n",
      "Не получилось отвергнуть нулевую гипотезу, нет оснований считать доли групп 0 и 1 по событию PaymentScreenSuccessful разными\n"
     ]
    }
   ],
   "source": [
    "# Сделаем проверку групп А/А (246 и 247)\n",
    "z_test(event_names, 0, 1, 0.05)"
   ]
  },
  {
   "cell_type": "markdown",
   "metadata": {},
   "source": [
    "Как видно из проверги гипотез о равенстве долей, нет оснований считать контрольные выборки групп 246 и 247 разными. Равные доли говорят о том, что контрольные группы выбраны верны.\n",
    "Самым популярным событием, как и ожидалось, становится показ главного экрана сайта. С этого и начинается воронка продаж."
   ]
  },
  {
   "cell_type": "code",
   "execution_count": 35,
   "metadata": {},
   "outputs": [
    {
     "data": {
      "text/html": [
       "<div>\n",
       "<style scoped>\n",
       "    .dataframe tbody tr th:only-of-type {\n",
       "        vertical-align: middle;\n",
       "    }\n",
       "\n",
       "    .dataframe tbody tr th {\n",
       "        vertical-align: top;\n",
       "    }\n",
       "\n",
       "    .dataframe thead th {\n",
       "        text-align: right;\n",
       "    }\n",
       "</style>\n",
       "<table border=\"1\" class=\"dataframe\">\n",
       "  <thead>\n",
       "    <tr style=\"text-align: right;\">\n",
       "      <th></th>\n",
       "      <th>CartScreenAppear</th>\n",
       "      <th>MainScreenAppear</th>\n",
       "      <th>OffersScreenAppear</th>\n",
       "      <th>PaymentScreenSuccessful</th>\n",
       "      <th>Total</th>\n",
       "    </tr>\n",
       "    <tr>\n",
       "      <th>experiment_id</th>\n",
       "      <th></th>\n",
       "      <th></th>\n",
       "      <th></th>\n",
       "      <th></th>\n",
       "      <th></th>\n",
       "    </tr>\n",
       "  </thead>\n",
       "  <tbody>\n",
       "    <tr>\n",
       "      <th>246</th>\n",
       "      <td>1266</td>\n",
       "      <td>2450</td>\n",
       "      <td>1542</td>\n",
       "      <td>1200</td>\n",
       "      <td>2484</td>\n",
       "    </tr>\n",
       "    <tr>\n",
       "      <th>247</th>\n",
       "      <td>1238</td>\n",
       "      <td>2476</td>\n",
       "      <td>1520</td>\n",
       "      <td>1158</td>\n",
       "      <td>2513</td>\n",
       "    </tr>\n",
       "    <tr>\n",
       "      <th>248</th>\n",
       "      <td>1230</td>\n",
       "      <td>2493</td>\n",
       "      <td>1531</td>\n",
       "      <td>1181</td>\n",
       "      <td>2537</td>\n",
       "    </tr>\n",
       "    <tr>\n",
       "      <th>249</th>\n",
       "      <td>2504</td>\n",
       "      <td>4926</td>\n",
       "      <td>3062</td>\n",
       "      <td>2358</td>\n",
       "      <td>4997</td>\n",
       "    </tr>\n",
       "  </tbody>\n",
       "</table>\n",
       "</div>"
      ],
      "text/plain": [
       "               CartScreenAppear  MainScreenAppear  OffersScreenAppear  \\\n",
       "experiment_id                                                           \n",
       "246                        1266              2450                1542   \n",
       "247                        1238              2476                1520   \n",
       "248                        1230              2493                1531   \n",
       "249                        2504              4926                3062   \n",
       "\n",
       "               PaymentScreenSuccessful  Total  \n",
       "experiment_id                                  \n",
       "246                               1200   2484  \n",
       "247                               1158   2513  \n",
       "248                               1181   2537  \n",
       "249                               2358   4997  "
      ]
     },
     "metadata": {},
     "output_type": "display_data"
    }
   ],
   "source": [
    "#Соединим две контрольные группы в группу 249\n",
    "funnel.loc['249'] = [funnel['CartScreenAppear'][0]+funnel['CartScreenAppear'][1] , funnel['MainScreenAppear'][0]+funnel['MainScreenAppear'][1], funnel['OffersScreenAppear'][0]+funnel['OffersScreenAppear'][1], funnel['PaymentScreenSuccessful'][0]+funnel['PaymentScreenSuccessful'][1], funnel['Total'][0]+funnel['Total'][1]]\n",
    "display(funnel)"
   ]
  },
  {
   "cell_type": "code",
   "execution_count": 36,
   "metadata": {},
   "outputs": [
    {
     "name": "stdout",
     "output_type": "stream",
     "text": [
      "\n",
      "p-значение:  0.2949721933554552\n",
      "Не получилось отвергнуть нулевую гипотезу, нет оснований считать доли групп 0 и 2 по событию MainScreenAppear разными\n",
      "\n",
      "p-значение:  0.20836205402738917\n",
      "Не получилось отвергнуть нулевую гипотезу, нет оснований считать доли групп 0 и 2 по событию OffersScreenAppear разными\n",
      "\n",
      "p-значение:  0.07842923237520116\n",
      "Не получилось отвергнуть нулевую гипотезу, нет оснований считать доли групп 0 и 2 по событию CartScreenAppear разными\n",
      "\n",
      "p-значение:  0.2122553275697796\n",
      "Не получилось отвергнуть нулевую гипотезу, нет оснований считать доли групп 0 и 2 по событию PaymentScreenSuccessful разными\n"
     ]
    }
   ],
   "source": [
    "# Сделаем проверку групп А1/B (246 и 248)\n",
    "z_test(event_names, 0, 2, 0.05)\n"
   ]
  },
  {
   "cell_type": "code",
   "execution_count": 37,
   "metadata": {},
   "outputs": [
    {
     "name": "stdout",
     "output_type": "stream",
     "text": [
      "\n",
      "p-значение:  0.4587053616621515\n",
      "Не получилось отвергнуть нулевую гипотезу, нет оснований считать доли групп 1 и 2 по событию MainScreenAppear разными\n",
      "\n",
      "p-значение:  0.9197817830592261\n",
      "Не получилось отвергнуть нулевую гипотезу, нет оснований считать доли групп 1 и 2 по событию OffersScreenAppear разными\n",
      "\n",
      "p-значение:  0.5786197879539783\n",
      "Не получилось отвергнуть нулевую гипотезу, нет оснований считать доли групп 1 и 2 по событию CartScreenAppear разными\n",
      "\n",
      "p-значение:  0.7373415053803964\n",
      "Не получилось отвергнуть нулевую гипотезу, нет оснований считать доли групп 1 и 2 по событию PaymentScreenSuccessful разными\n"
     ]
    }
   ],
   "source": [
    "# Сделаем проверку групп А2/B (247 и 248)\n",
    "z_test(event_names, 1, 2, 0.05)"
   ]
  },
  {
   "cell_type": "code",
   "execution_count": 38,
   "metadata": {},
   "outputs": [
    {
     "name": "stdout",
     "output_type": "stream",
     "text": [
      "\n",
      "p-значение:  0.29424526837179577\n",
      "Не получилось отвергнуть нулевую гипотезу, нет оснований считать доли групп 3 и 2 по событию MainScreenAppear разными\n",
      "\n",
      "p-значение:  0.43425549655188256\n",
      "Не получилось отвергнуть нулевую гипотезу, нет оснований считать доли групп 3 и 2 по событию OffersScreenAppear разными\n",
      "\n",
      "p-значение:  0.18175875284404386\n",
      "Не получилось отвергнуть нулевую гипотезу, нет оснований считать доли групп 3 и 2 по событию CartScreenAppear разными\n",
      "\n",
      "p-значение:  0.6004294282308704\n",
      "Не получилось отвергнуть нулевую гипотезу, нет оснований считать доли групп 3 и 2 по событию PaymentScreenSuccessful разными\n"
     ]
    }
   ],
   "source": [
    "# Сделаем проверку объедененной группы с экспериментальной (249 и 248)\n",
    "z_test(event_names, 3, 2, 0.05)"
   ]
  },
  {
   "cell_type": "markdown",
   "metadata": {},
   "source": [
    "Статистически значимых различий между группами 246 и экспериментальной, группами 247 и экспериментальной и объединенной контрольной группой и экспериментальной при p-value, равному 0.05, не выявлено. Т.е. изменение шрифта не повлияло на поведение пользователей. Приложение может функционировать как со старым, так и с новым шрифтом в равной степени, не влияя на отток и приток пользователей.\n",
    "\n"
   ]
  },
  {
   "cell_type": "markdown",
   "metadata": {},
   "source": [
    "Изменим критический уровень статистической значимости, посчитаем при уровне значимости 0.1\n"
   ]
  },
  {
   "cell_type": "code",
   "execution_count": 39,
   "metadata": {},
   "outputs": [
    {
     "name": "stdout",
     "output_type": "stream",
     "text": [
      "\n",
      "p-значение:  0.7570597232046099\n",
      "Не получилось отвергнуть нулевую гипотезу, нет оснований считать доли групп 0 и 1 по событию MainScreenAppear разными\n",
      "\n",
      "p-значение:  0.2480954578522181\n",
      "Не получилось отвергнуть нулевую гипотезу, нет оснований считать доли групп 0 и 1 по событию OffersScreenAppear разными\n",
      "\n",
      "p-значение:  0.22883372237997213\n",
      "Не получилось отвергнуть нулевую гипотезу, нет оснований считать доли групп 0 и 1 по событию CartScreenAppear разными\n",
      "\n",
      "p-значение:  0.11456679313141849\n",
      "Не получилось отвергнуть нулевую гипотезу, нет оснований считать доли групп 0 и 1 по событию PaymentScreenSuccessful разными\n"
     ]
    }
   ],
   "source": [
    "# Сделаем проверку групп А/А (246 и 247)\n",
    "z_test(event_names, 0, 1, 0.1)"
   ]
  },
  {
   "cell_type": "code",
   "execution_count": 40,
   "metadata": {},
   "outputs": [
    {
     "name": "stdout",
     "output_type": "stream",
     "text": [
      "\n",
      "p-значение:  0.2949721933554552\n",
      "Не получилось отвергнуть нулевую гипотезу, нет оснований считать доли групп 0 и 2 по событию MainScreenAppear разными\n",
      "\n",
      "p-значение:  0.20836205402738917\n",
      "Не получилось отвергнуть нулевую гипотезу, нет оснований считать доли групп 0 и 2 по событию OffersScreenAppear разными\n",
      "\n",
      "p-значение:  0.07842923237520116\n",
      "Отвергаем нулевую гипотезу: между долями групп 0 и 2 по событию CartScreenAppear есть значимая разница\n",
      "\n",
      "p-значение:  0.2122553275697796\n",
      "Не получилось отвергнуть нулевую гипотезу, нет оснований считать доли групп 0 и 2 по событию PaymentScreenSuccessful разными\n"
     ]
    }
   ],
   "source": [
    "# Сделаем проверку групп А1/B (246 и 248)\n",
    "z_test(event_names, 0, 2, 0.1)"
   ]
  },
  {
   "cell_type": "code",
   "execution_count": 41,
   "metadata": {},
   "outputs": [
    {
     "name": "stdout",
     "output_type": "stream",
     "text": [
      "\n",
      "p-значение:  0.4587053616621515\n",
      "Не получилось отвергнуть нулевую гипотезу, нет оснований считать доли групп 1 и 2 по событию MainScreenAppear разными\n",
      "\n",
      "p-значение:  0.9197817830592261\n",
      "Не получилось отвергнуть нулевую гипотезу, нет оснований считать доли групп 1 и 2 по событию OffersScreenAppear разными\n",
      "\n",
      "p-значение:  0.5786197879539783\n",
      "Не получилось отвергнуть нулевую гипотезу, нет оснований считать доли групп 1 и 2 по событию CartScreenAppear разными\n",
      "\n",
      "p-значение:  0.7373415053803964\n",
      "Не получилось отвергнуть нулевую гипотезу, нет оснований считать доли групп 1 и 2 по событию PaymentScreenSuccessful разными\n"
     ]
    }
   ],
   "source": [
    "# Сделаем проверку групп А2/B (247 и 248)\n",
    "z_test(event_names, 1, 2, 0.1)"
   ]
  },
  {
   "cell_type": "code",
   "execution_count": 42,
   "metadata": {},
   "outputs": [
    {
     "name": "stdout",
     "output_type": "stream",
     "text": [
      "\n",
      "p-значение:  0.29424526837179577\n",
      "Не получилось отвергнуть нулевую гипотезу, нет оснований считать доли групп 3 и 2 по событию MainScreenAppear разными\n",
      "\n",
      "p-значение:  0.43425549655188256\n",
      "Не получилось отвергнуть нулевую гипотезу, нет оснований считать доли групп 3 и 2 по событию OffersScreenAppear разными\n",
      "\n",
      "p-значение:  0.18175875284404386\n",
      "Не получилось отвергнуть нулевую гипотезу, нет оснований считать доли групп 3 и 2 по событию CartScreenAppear разными\n",
      "\n",
      "p-значение:  0.6004294282308704\n",
      "Не получилось отвергнуть нулевую гипотезу, нет оснований считать доли групп 3 и 2 по событию PaymentScreenSuccessful разными\n"
     ]
    }
   ],
   "source": [
    "# Сделаем проверку объедененной группы с экспериментальной (249 и 248)\n",
    "z_test(event_names, 3, 2, 0.1)"
   ]
  },
  {
   "cell_type": "markdown",
   "metadata": {},
   "source": [
    "Изначальный уровень значимости при проверке статистических гипотез между 3 комбинациями групп по видам событий составил 0.05. Всего провели 16 проверок гипотез, включая A/А тест. \n",
    "При увеличении уровня статистической значимости растет вероятность ошибки первого рода. При уровне значимости 0.1 каждый десятый раз можно получать ложный результат. Из всех экспериментов при данном уровне значимости только в одном тесте (при сравнении 246 и экспериментальной групп) получилось отвергнуть нулевую гипотезу. Во всех случаях p-value достаточно высок, снижение p-value не повлияло бы на результат.\n",
    "\n"
   ]
  },
  {
   "cell_type": "markdown",
   "metadata": {},
   "source": [
    "### Чтобы снизить групповую вероятность ошибки первого рода и скорректировать требуемые уровни значимости, используем метод Шидака"
   ]
  },
  {
   "cell_type": "code",
   "execution_count": 43,
   "metadata": {},
   "outputs": [
    {
     "data": {
      "text/plain": [
       "0.0032006977101884937"
      ]
     },
     "execution_count": 43,
     "metadata": {},
     "output_type": "execute_result"
    }
   ],
   "source": [
    "shidaka_alpha = 1 - (1 - 0.05) ** (1/16)\n",
    "shidaka_alpha"
   ]
  },
  {
   "cell_type": "code",
   "execution_count": 44,
   "metadata": {},
   "outputs": [],
   "source": [
    "def sh_test(event_names, exp_id_1, exp_id_2, shidaka_alpha):\n",
    "    \n",
    "    for event in event_names:\n",
    "        \n",
    "        alpha = shidaka_alpha\n",
    "        \n",
    "        successes = np.array([funnel[event][exp_id_1], funnel[event][exp_id_2]])\n",
    "        trials = np.array([funnel['Total'][exp_id_1], funnel['Total'][exp_id_2]])\n",
    "\n",
    "        p1 = successes[0]/trials[0]\n",
    "        p2 = successes[1]/trials[1]\n",
    "        p_combined = (successes[0] + successes[1]) / (trials[0] + trials[1])\n",
    "        difference = p1 - p2\n",
    "        z_value = difference / mth.sqrt(p_combined * (1 - p_combined) * (1/trials[0] + 1/trials[1]))\n",
    "        distr = st.norm(0, 1) \n",
    "        p_value = (1 - distr.cdf(abs(z_value))) * 2\n",
    "        print()\n",
    "        \n",
    "        print('p-значение: ', p_value)\n",
    "\n",
    "        if p_value < alpha:\n",
    "            print('Отвергаем нулевую гипотезу: между долями групп {} и {} по событию {} есть значимая разница'\n",
    "                  .format(exp_id_1, exp_id_2, event)\n",
    "                 )\n",
    "        else:\n",
    "            print(\n",
    "                'Не получилось отвергнуть нулевую гипотезу, нет оснований считать доли групп {} и {} по событию {} разными'\n",
    "                .format(exp_id_1, exp_id_2, event)\n",
    "                 )\n",
    "\n"
   ]
  },
  {
   "cell_type": "code",
   "execution_count": 45,
   "metadata": {},
   "outputs": [
    {
     "name": "stdout",
     "output_type": "stream",
     "text": [
      "\n",
      "p-значение:  0.7570597232046099\n",
      "Не получилось отвергнуть нулевую гипотезу, нет оснований считать доли групп 0 и 1 по событию MainScreenAppear разными\n",
      "\n",
      "p-значение:  0.2480954578522181\n",
      "Не получилось отвергнуть нулевую гипотезу, нет оснований считать доли групп 0 и 1 по событию OffersScreenAppear разными\n",
      "\n",
      "p-значение:  0.22883372237997213\n",
      "Не получилось отвергнуть нулевую гипотезу, нет оснований считать доли групп 0 и 1 по событию CartScreenAppear разными\n",
      "\n",
      "p-значение:  0.11456679313141849\n",
      "Не получилось отвергнуть нулевую гипотезу, нет оснований считать доли групп 0 и 1 по событию PaymentScreenSuccessful разными\n"
     ]
    }
   ],
   "source": [
    "# Сделаем проверку групп А/А (246 и 247)\n",
    "sh_test(event_names, 0, 1, shidaka_alpha)"
   ]
  },
  {
   "cell_type": "code",
   "execution_count": 46,
   "metadata": {},
   "outputs": [
    {
     "name": "stdout",
     "output_type": "stream",
     "text": [
      "\n",
      "p-значение:  0.2949721933554552\n",
      "Не получилось отвергнуть нулевую гипотезу, нет оснований считать доли групп 0 и 2 по событию MainScreenAppear разными\n",
      "\n",
      "p-значение:  0.20836205402738917\n",
      "Не получилось отвергнуть нулевую гипотезу, нет оснований считать доли групп 0 и 2 по событию OffersScreenAppear разными\n",
      "\n",
      "p-значение:  0.07842923237520116\n",
      "Не получилось отвергнуть нулевую гипотезу, нет оснований считать доли групп 0 и 2 по событию CartScreenAppear разными\n",
      "\n",
      "p-значение:  0.2122553275697796\n",
      "Не получилось отвергнуть нулевую гипотезу, нет оснований считать доли групп 0 и 2 по событию PaymentScreenSuccessful разными\n"
     ]
    }
   ],
   "source": [
    "# Сделаем проверку групп А1/B (246 и 248)\n",
    "sh_test(event_names, 0, 2, shidaka_alpha)\n"
   ]
  },
  {
   "cell_type": "code",
   "execution_count": 47,
   "metadata": {},
   "outputs": [
    {
     "name": "stdout",
     "output_type": "stream",
     "text": [
      "\n",
      "p-значение:  0.4587053616621515\n",
      "Не получилось отвергнуть нулевую гипотезу, нет оснований считать доли групп 1 и 2 по событию MainScreenAppear разными\n",
      "\n",
      "p-значение:  0.9197817830592261\n",
      "Не получилось отвергнуть нулевую гипотезу, нет оснований считать доли групп 1 и 2 по событию OffersScreenAppear разными\n",
      "\n",
      "p-значение:  0.5786197879539783\n",
      "Не получилось отвергнуть нулевую гипотезу, нет оснований считать доли групп 1 и 2 по событию CartScreenAppear разными\n",
      "\n",
      "p-значение:  0.7373415053803964\n",
      "Не получилось отвергнуть нулевую гипотезу, нет оснований считать доли групп 1 и 2 по событию PaymentScreenSuccessful разными\n"
     ]
    }
   ],
   "source": [
    "# Сделаем проверку групп А2/B (247 и 248)\n",
    "sh_test(event_names, 1, 2, shidaka_alpha)"
   ]
  },
  {
   "cell_type": "code",
   "execution_count": 48,
   "metadata": {},
   "outputs": [
    {
     "name": "stdout",
     "output_type": "stream",
     "text": [
      "\n",
      "p-значение:  0.29424526837179577\n",
      "Не получилось отвергнуть нулевую гипотезу, нет оснований считать доли групп 3 и 2 по событию MainScreenAppear разными\n",
      "\n",
      "p-значение:  0.43425549655188256\n",
      "Не получилось отвергнуть нулевую гипотезу, нет оснований считать доли групп 3 и 2 по событию OffersScreenAppear разными\n",
      "\n",
      "p-значение:  0.18175875284404386\n",
      "Не получилось отвергнуть нулевую гипотезу, нет оснований считать доли групп 3 и 2 по событию CartScreenAppear разными\n",
      "\n",
      "p-значение:  0.6004294282308704\n",
      "Не получилось отвергнуть нулевую гипотезу, нет оснований считать доли групп 3 и 2 по событию PaymentScreenSuccessful разными\n"
     ]
    }
   ],
   "source": [
    "# Сделаем проверку объедененной группы с экспериментальной (249 и 248)\n",
    "sh_test(event_names, 3, 2, shidaka_alpha)"
   ]
  },
  {
   "cell_type": "markdown",
   "metadata": {},
   "source": [
    "**Общий вывод**  \n",
    "    \n",
    "В данном исследовании проведен анализ данных, полученных с мобильного приложения стартапа по продаже продуктов питания с 1 по 7 августа 2019 г. В датасете имеются столбцы с названием события, ID пользователя, временем события и номером экспериментальной группы. Дата записана в неправильном формате. Видны такие события: 'Появление главного экрана', 'Появление экрана оплаты' и т д. События являются частью воронки продаж на сайте. В таблице были удалены дубликаты, откорректированы типы данных, добавлен столбец с данной. Пропуски в таблице отсутствуют.  \n",
    "    \n",
    "В логе есть 5 событий, по убыванию их популярности: показ пользователю главного экрана, показ экрана с предложением, показ экрана корзины, показ экрана с подтверждением оплаты, показ обучения. В логе всего 7551 пользователь. В среднем на пользователя приходится 32 события. Все остальные данные, а именно 1,16% событий и 0,23% пользователей были отброшены.\n",
    "\n",
    "В ходе анализа выяснилось, что чаще всего пользователи заходят на главный экран, затем в каталог, корзину и в конце совершают покупки. Именно в такой последовательности совершаются действия. Справочником пользуется примерно десятая часть пользователей.\n",
    "\n",
    "Чаще всего пользователи выпадают после первого шага, перехода с главной страницы в страницу с предложениями - около 38%. В корзину не добавляют товары 19,7%. Доля не оплативших после добавления в корзину достаточно низкая - 5,22%. От первого шага до оплаты доходят 47,7% пользователей.\n",
    "\n",
    "При проведении 16 экспериментов (A/А/В тестов) статистически значимые различия между тестируемыми группами не выявлены. При повышении p-value до 0.1 различия выявлены только в одном результате, это обусловлено тем, что при уровне значимости 0.1 каждый десятый раз можно получить ложный результат.. Внедрение нового шрифта не внесло никаких изменений в использовании приложения клиентами, т.е. влияние этого фактора на конверсию практически отсутствует.\n",
    "    \n",
    "Благодаря методу Шидака, мы скорректировали уровень значимости = 0.0032"
   ]
  }
 ],
 "metadata": {
  "ExecuteTimeLog": [
   {
    "duration": 53,
    "start_time": "2023-04-30T11:49:43.749Z"
   },
   {
    "duration": 1481,
    "start_time": "2023-04-30T11:50:34.155Z"
   },
   {
    "duration": 1201,
    "start_time": "2023-04-30T11:50:35.638Z"
   },
   {
    "duration": 201,
    "start_time": "2023-04-30T11:51:04.972Z"
   },
   {
    "duration": 183,
    "start_time": "2023-04-30T11:51:17.654Z"
   },
   {
    "duration": 209,
    "start_time": "2023-04-30T11:51:26.846Z"
   },
   {
    "duration": 4,
    "start_time": "2023-04-30T12:20:00.856Z"
   },
   {
    "duration": 37,
    "start_time": "2023-04-30T12:20:12.487Z"
   },
   {
    "duration": 77,
    "start_time": "2023-04-30T12:23:31.640Z"
   },
   {
    "duration": 299,
    "start_time": "2023-04-30T12:23:41.557Z"
   },
   {
    "duration": 38,
    "start_time": "2023-04-30T12:28:47.116Z"
   },
   {
    "duration": 99,
    "start_time": "2023-04-30T12:28:47.540Z"
   },
   {
    "duration": 153,
    "start_time": "2023-04-30T12:28:49.515Z"
   },
   {
    "duration": 80,
    "start_time": "2023-04-30T12:28:51.305Z"
   },
   {
    "duration": 17,
    "start_time": "2023-04-30T12:28:53.523Z"
   },
   {
    "duration": 16,
    "start_time": "2023-04-30T12:30:42.115Z"
   },
   {
    "duration": 108,
    "start_time": "2023-04-30T12:32:17.898Z"
   },
   {
    "duration": 10,
    "start_time": "2023-04-30T13:59:47.089Z"
   },
   {
    "duration": 1392,
    "start_time": "2023-04-30T13:59:59.640Z"
   },
   {
    "duration": 193,
    "start_time": "2023-04-30T14:00:01.035Z"
   },
   {
    "duration": 3,
    "start_time": "2023-04-30T14:00:01.230Z"
   },
   {
    "duration": 66,
    "start_time": "2023-04-30T14:00:01.236Z"
   },
   {
    "duration": 167,
    "start_time": "2023-04-30T14:00:01.305Z"
   },
   {
    "duration": 0,
    "start_time": "2023-04-30T14:00:01.474Z"
   },
   {
    "duration": 0,
    "start_time": "2023-04-30T14:00:01.475Z"
   },
   {
    "duration": 0,
    "start_time": "2023-04-30T14:00:01.485Z"
   },
   {
    "duration": 0,
    "start_time": "2023-04-30T14:00:01.488Z"
   },
   {
    "duration": 0,
    "start_time": "2023-04-30T14:00:01.489Z"
   },
   {
    "duration": 0,
    "start_time": "2023-04-30T14:00:01.490Z"
   },
   {
    "duration": 8,
    "start_time": "2023-04-30T14:02:01.440Z"
   },
   {
    "duration": 342,
    "start_time": "2023-04-30T14:04:27.782Z"
   },
   {
    "duration": 120,
    "start_time": "2023-04-30T14:04:28.254Z"
   },
   {
    "duration": 156,
    "start_time": "2023-04-30T14:04:32.791Z"
   },
   {
    "duration": 184,
    "start_time": "2023-04-30T14:04:42.693Z"
   },
   {
    "duration": 15,
    "start_time": "2023-04-30T14:04:44.457Z"
   },
   {
    "duration": 801,
    "start_time": "2023-04-30T14:06:25.825Z"
   },
   {
    "duration": 118,
    "start_time": "2023-04-30T14:06:26.909Z"
   },
   {
    "duration": 3,
    "start_time": "2023-04-30T14:06:34.582Z"
   },
   {
    "duration": 60,
    "start_time": "2023-04-30T14:06:35.025Z"
   },
   {
    "duration": 47,
    "start_time": "2023-04-30T14:06:35.725Z"
   },
   {
    "duration": 141,
    "start_time": "2023-04-30T14:06:37.546Z"
   },
   {
    "duration": 235,
    "start_time": "2023-04-30T14:06:38.413Z"
   },
   {
    "duration": 728,
    "start_time": "2023-04-30T14:06:42.881Z"
   },
   {
    "duration": 19,
    "start_time": "2023-04-30T14:06:58.884Z"
   },
   {
    "duration": 71,
    "start_time": "2023-04-30T14:07:38.589Z"
   },
   {
    "duration": 19,
    "start_time": "2023-04-30T14:07:47.288Z"
   },
   {
    "duration": 24,
    "start_time": "2023-04-30T14:08:22.016Z"
   },
   {
    "duration": 118,
    "start_time": "2023-04-30T14:10:06.808Z"
   },
   {
    "duration": 111,
    "start_time": "2023-04-30T14:10:07.808Z"
   },
   {
    "duration": 28,
    "start_time": "2023-04-30T14:10:15.456Z"
   },
   {
    "duration": 143,
    "start_time": "2023-04-30T14:10:16.976Z"
   },
   {
    "duration": 14,
    "start_time": "2023-04-30T14:10:18.355Z"
   },
   {
    "duration": 10,
    "start_time": "2023-04-30T14:15:23.144Z"
   },
   {
    "duration": 4,
    "start_time": "2023-04-30T14:15:57.078Z"
   },
   {
    "duration": 69,
    "start_time": "2023-04-30T14:15:58.235Z"
   },
   {
    "duration": 83,
    "start_time": "2023-04-30T14:17:03.176Z"
   },
   {
    "duration": 33,
    "start_time": "2023-04-30T14:18:35.525Z"
   },
   {
    "duration": 547,
    "start_time": "2023-04-30T14:19:11.118Z"
   },
   {
    "duration": 268,
    "start_time": "2023-04-30T14:20:54.181Z"
   },
   {
    "duration": 8,
    "start_time": "2023-04-30T14:21:39.926Z"
   },
   {
    "duration": 8,
    "start_time": "2023-04-30T14:22:34.447Z"
   },
   {
    "duration": 56,
    "start_time": "2023-04-30T14:22:54.557Z"
   },
   {
    "duration": 50,
    "start_time": "2023-05-03T08:48:07.108Z"
   },
   {
    "duration": 1381,
    "start_time": "2023-05-03T08:48:12.758Z"
   },
   {
    "duration": 718,
    "start_time": "2023-05-03T08:48:14.142Z"
   },
   {
    "duration": 3,
    "start_time": "2023-05-03T08:48:14.862Z"
   },
   {
    "duration": 28,
    "start_time": "2023-05-03T08:48:14.867Z"
   },
   {
    "duration": 321,
    "start_time": "2023-05-03T08:48:14.897Z"
   },
   {
    "duration": 109,
    "start_time": "2023-05-03T08:48:15.221Z"
   },
   {
    "duration": 230,
    "start_time": "2023-05-03T08:48:15.332Z"
   },
   {
    "duration": 107,
    "start_time": "2023-05-03T08:48:15.565Z"
   },
   {
    "duration": 26,
    "start_time": "2023-05-03T08:48:15.674Z"
   },
   {
    "duration": 121,
    "start_time": "2023-05-03T08:48:15.702Z"
   },
   {
    "duration": 10,
    "start_time": "2023-05-03T08:48:15.824Z"
   },
   {
    "duration": 15,
    "start_time": "2023-05-03T08:48:15.836Z"
   },
   {
    "duration": 54,
    "start_time": "2023-05-03T08:48:15.853Z"
   },
   {
    "duration": 81,
    "start_time": "2023-05-03T08:48:15.910Z"
   },
   {
    "duration": 40,
    "start_time": "2023-05-03T08:48:15.994Z"
   },
   {
    "duration": 606,
    "start_time": "2023-05-03T08:48:16.036Z"
   },
   {
    "duration": 284,
    "start_time": "2023-05-03T08:48:16.644Z"
   },
   {
    "duration": 8,
    "start_time": "2023-05-03T08:48:16.930Z"
   },
   {
    "duration": 22,
    "start_time": "2023-05-03T08:48:16.941Z"
   },
   {
    "duration": 35,
    "start_time": "2023-05-03T08:48:16.964Z"
   },
   {
    "duration": 12,
    "start_time": "2023-05-03T08:48:36.227Z"
   },
   {
    "duration": 9,
    "start_time": "2023-05-03T08:48:36.796Z"
   },
   {
    "duration": 34,
    "start_time": "2023-05-03T08:48:37.287Z"
   },
   {
    "duration": 20,
    "start_time": "2023-05-03T08:54:03.080Z"
   },
   {
    "duration": 21,
    "start_time": "2023-05-03T08:54:15.912Z"
   },
   {
    "duration": 4,
    "start_time": "2023-05-03T08:55:45.762Z"
   },
   {
    "duration": 1388,
    "start_time": "2023-05-03T09:05:08.387Z"
   },
   {
    "duration": 195,
    "start_time": "2023-05-03T09:05:09.777Z"
   },
   {
    "duration": 4,
    "start_time": "2023-05-03T09:05:09.974Z"
   },
   {
    "duration": 57,
    "start_time": "2023-05-03T09:05:09.980Z"
   },
   {
    "duration": 416,
    "start_time": "2023-05-03T09:05:10.039Z"
   },
   {
    "duration": 132,
    "start_time": "2023-05-03T09:05:10.457Z"
   },
   {
    "duration": 289,
    "start_time": "2023-05-03T09:05:10.591Z"
   },
   {
    "duration": 95,
    "start_time": "2023-05-03T09:05:10.883Z"
   },
   {
    "duration": 30,
    "start_time": "2023-05-03T09:05:10.980Z"
   },
   {
    "duration": 128,
    "start_time": "2023-05-03T09:05:11.016Z"
   },
   {
    "duration": 11,
    "start_time": "2023-05-03T09:05:11.146Z"
   },
   {
    "duration": 5,
    "start_time": "2023-05-03T09:05:11.159Z"
   },
   {
    "duration": 86,
    "start_time": "2023-05-03T09:05:11.166Z"
   },
   {
    "duration": 77,
    "start_time": "2023-05-03T09:05:11.259Z"
   },
   {
    "duration": 28,
    "start_time": "2023-05-03T09:05:11.341Z"
   },
   {
    "duration": 739,
    "start_time": "2023-05-03T09:05:11.371Z"
   },
   {
    "duration": 335,
    "start_time": "2023-05-03T09:05:12.112Z"
   },
   {
    "duration": 11,
    "start_time": "2023-05-03T09:05:12.449Z"
   },
   {
    "duration": 27,
    "start_time": "2023-05-03T09:05:12.462Z"
   },
   {
    "duration": 56,
    "start_time": "2023-05-03T09:05:12.491Z"
   },
   {
    "duration": 40,
    "start_time": "2023-05-03T09:05:12.549Z"
   },
   {
    "duration": 58,
    "start_time": "2023-05-03T09:05:12.590Z"
   },
   {
    "duration": 126,
    "start_time": "2023-05-03T09:05:12.649Z"
   },
   {
    "duration": 202,
    "start_time": "2023-05-03T09:05:12.777Z"
   },
   {
    "duration": 151,
    "start_time": "2023-05-03T09:05:25.432Z"
   },
   {
    "duration": 182,
    "start_time": "2023-05-03T09:05:30.820Z"
   },
   {
    "duration": 78,
    "start_time": "2023-05-03T09:18:19.377Z"
   },
   {
    "duration": 126,
    "start_time": "2023-05-03T09:24:41.860Z"
   },
   {
    "duration": 12,
    "start_time": "2023-05-03T09:26:54.675Z"
   },
   {
    "duration": 107,
    "start_time": "2023-05-03T12:01:51.144Z"
   },
   {
    "duration": 0,
    "start_time": "2023-05-03T12:03:38.216Z"
   },
   {
    "duration": 0,
    "start_time": "2023-05-03T12:03:38.227Z"
   },
   {
    "duration": 867,
    "start_time": "2023-05-03T12:03:41.921Z"
   },
   {
    "duration": 48,
    "start_time": "2023-05-03T14:45:10.867Z"
   },
   {
    "duration": 1387,
    "start_time": "2023-05-03T14:45:21.447Z"
   },
   {
    "duration": 700,
    "start_time": "2023-05-03T14:45:22.836Z"
   },
   {
    "duration": 4,
    "start_time": "2023-05-03T14:45:23.537Z"
   },
   {
    "duration": 43,
    "start_time": "2023-05-03T14:45:23.543Z"
   },
   {
    "duration": 321,
    "start_time": "2023-05-03T14:45:23.588Z"
   },
   {
    "duration": 122,
    "start_time": "2023-05-03T14:45:23.911Z"
   },
   {
    "duration": 257,
    "start_time": "2023-05-03T14:45:24.034Z"
   },
   {
    "duration": 110,
    "start_time": "2023-05-03T14:45:24.294Z"
   },
   {
    "duration": 18,
    "start_time": "2023-05-03T14:45:24.406Z"
   },
   {
    "duration": 144,
    "start_time": "2023-05-03T14:45:24.428Z"
   },
   {
    "duration": 16,
    "start_time": "2023-05-03T14:45:24.573Z"
   },
   {
    "duration": 4,
    "start_time": "2023-05-03T14:45:24.592Z"
   },
   {
    "duration": 45,
    "start_time": "2023-05-03T14:45:24.599Z"
   },
   {
    "duration": 78,
    "start_time": "2023-05-03T14:45:24.647Z"
   },
   {
    "duration": 31,
    "start_time": "2023-05-03T14:45:24.727Z"
   },
   {
    "duration": 526,
    "start_time": "2023-05-03T14:45:24.760Z"
   },
   {
    "duration": 245,
    "start_time": "2023-05-03T14:45:25.288Z"
   },
   {
    "duration": 9,
    "start_time": "2023-05-03T14:45:25.534Z"
   },
   {
    "duration": 7,
    "start_time": "2023-05-03T14:45:25.545Z"
   },
   {
    "duration": 51,
    "start_time": "2023-05-03T14:45:25.554Z"
   },
   {
    "duration": 5,
    "start_time": "2023-05-03T14:45:25.607Z"
   },
   {
    "duration": 27,
    "start_time": "2023-05-03T14:45:25.613Z"
   },
   {
    "duration": 136,
    "start_time": "2023-05-03T14:45:25.642Z"
   },
   {
    "duration": 167,
    "start_time": "2023-05-03T14:45:25.784Z"
   },
   {
    "duration": 117,
    "start_time": "2023-05-03T14:45:25.953Z"
   },
   {
    "duration": 16,
    "start_time": "2023-05-03T14:45:26.071Z"
   },
   {
    "duration": 124,
    "start_time": "2023-05-03T14:45:26.089Z"
   },
   {
    "duration": 756,
    "start_time": "2023-05-03T14:45:26.216Z"
   },
   {
    "duration": 0,
    "start_time": "2023-05-03T14:45:26.974Z"
   },
   {
    "duration": 3,
    "start_time": "2023-05-03T14:48:15.742Z"
   },
   {
    "duration": 167,
    "start_time": "2023-05-03T14:48:18.720Z"
   },
   {
    "duration": 3,
    "start_time": "2023-05-03T14:48:22.324Z"
   },
   {
    "duration": 22,
    "start_time": "2023-05-03T14:48:25.688Z"
   },
   {
    "duration": 12,
    "start_time": "2023-05-03T14:50:41.775Z"
   },
   {
    "duration": 45,
    "start_time": "2023-05-03T14:50:47.876Z"
   },
   {
    "duration": 835,
    "start_time": "2023-05-03T14:51:20.232Z"
   },
   {
    "duration": 1180,
    "start_time": "2023-05-03T14:51:29.332Z"
   },
   {
    "duration": 179,
    "start_time": "2023-05-03T14:51:30.514Z"
   },
   {
    "duration": 4,
    "start_time": "2023-05-03T14:51:30.695Z"
   },
   {
    "duration": 50,
    "start_time": "2023-05-03T14:51:30.701Z"
   },
   {
    "duration": 373,
    "start_time": "2023-05-03T14:51:30.753Z"
   },
   {
    "duration": 108,
    "start_time": "2023-05-03T14:51:31.127Z"
   },
   {
    "duration": 238,
    "start_time": "2023-05-03T14:51:31.237Z"
   },
   {
    "duration": 77,
    "start_time": "2023-05-03T14:51:31.477Z"
   },
   {
    "duration": 59,
    "start_time": "2023-05-03T14:51:31.556Z"
   },
   {
    "duration": 121,
    "start_time": "2023-05-03T14:51:31.618Z"
   },
   {
    "duration": 10,
    "start_time": "2023-05-03T14:51:31.740Z"
   },
   {
    "duration": 57,
    "start_time": "2023-05-03T14:51:31.752Z"
   },
   {
    "duration": 76,
    "start_time": "2023-05-03T14:51:31.811Z"
   },
   {
    "duration": 99,
    "start_time": "2023-05-03T14:51:31.889Z"
   },
   {
    "duration": 32,
    "start_time": "2023-05-03T14:51:31.990Z"
   },
   {
    "duration": 554,
    "start_time": "2023-05-03T14:51:32.025Z"
   },
   {
    "duration": 263,
    "start_time": "2023-05-03T14:51:32.582Z"
   },
   {
    "duration": 114,
    "start_time": "2023-05-03T14:51:32.846Z"
   },
   {
    "duration": 0,
    "start_time": "2023-05-03T14:51:32.961Z"
   },
   {
    "duration": 0,
    "start_time": "2023-05-03T14:51:32.963Z"
   },
   {
    "duration": 0,
    "start_time": "2023-05-03T14:51:32.964Z"
   },
   {
    "duration": 0,
    "start_time": "2023-05-03T14:51:32.965Z"
   },
   {
    "duration": 0,
    "start_time": "2023-05-03T14:51:32.966Z"
   },
   {
    "duration": 0,
    "start_time": "2023-05-03T14:51:32.967Z"
   },
   {
    "duration": 0,
    "start_time": "2023-05-03T14:51:32.968Z"
   },
   {
    "duration": 0,
    "start_time": "2023-05-03T14:51:32.969Z"
   },
   {
    "duration": 0,
    "start_time": "2023-05-03T14:51:32.985Z"
   },
   {
    "duration": 0,
    "start_time": "2023-05-03T14:51:32.986Z"
   },
   {
    "duration": 0,
    "start_time": "2023-05-03T14:51:32.987Z"
   },
   {
    "duration": 8,
    "start_time": "2023-05-03T14:51:57.022Z"
   },
   {
    "duration": 7,
    "start_time": "2023-05-03T14:52:04.140Z"
   },
   {
    "duration": 34,
    "start_time": "2023-05-03T14:52:10.425Z"
   },
   {
    "duration": 4,
    "start_time": "2023-05-03T14:52:20.791Z"
   },
   {
    "duration": 27,
    "start_time": "2023-05-03T14:52:23.825Z"
   },
   {
    "duration": 116,
    "start_time": "2023-05-03T14:52:27.919Z"
   },
   {
    "duration": 155,
    "start_time": "2023-05-03T14:52:32.142Z"
   },
   {
    "duration": 126,
    "start_time": "2023-05-03T14:52:44.055Z"
   },
   {
    "duration": 15,
    "start_time": "2023-05-03T14:52:48.257Z"
   },
   {
    "duration": 70,
    "start_time": "2023-05-03T14:52:55.655Z"
   },
   {
    "duration": 573,
    "start_time": "2023-05-03T14:53:10.377Z"
   },
   {
    "duration": 1148,
    "start_time": "2023-05-03T14:55:18.151Z"
   },
   {
    "duration": 918,
    "start_time": "2023-05-03T14:55:37.526Z"
   },
   {
    "duration": 101,
    "start_time": "2023-05-03T14:57:07.828Z"
   },
   {
    "duration": 133,
    "start_time": "2023-05-03T14:57:16.519Z"
   },
   {
    "duration": 13,
    "start_time": "2023-05-03T15:28:52.927Z"
   },
   {
    "duration": 154,
    "start_time": "2023-05-03T15:30:04.009Z"
   },
   {
    "duration": 7,
    "start_time": "2023-05-03T15:30:05.157Z"
   },
   {
    "duration": 12,
    "start_time": "2023-05-03T15:30:06.952Z"
   },
   {
    "duration": 8,
    "start_time": "2023-05-03T15:36:03.172Z"
   },
   {
    "duration": 11,
    "start_time": "2023-05-03T15:36:14.191Z"
   },
   {
    "duration": 55,
    "start_time": "2023-05-03T15:52:39.344Z"
   },
   {
    "duration": 10,
    "start_time": "2023-05-03T15:52:51.140Z"
   },
   {
    "duration": 135,
    "start_time": "2023-05-03T15:53:06.574Z"
   },
   {
    "duration": 239,
    "start_time": "2023-05-03T15:53:24.810Z"
   },
   {
    "duration": 193,
    "start_time": "2023-05-03T15:54:23.275Z"
   },
   {
    "duration": 8,
    "start_time": "2023-05-03T15:54:28.226Z"
   },
   {
    "duration": 11,
    "start_time": "2023-05-03T15:54:28.861Z"
   },
   {
    "duration": 11,
    "start_time": "2023-05-03T15:54:33.520Z"
   },
   {
    "duration": 8,
    "start_time": "2023-05-03T15:59:10.280Z"
   },
   {
    "duration": 7,
    "start_time": "2023-05-03T17:13:43.257Z"
   },
   {
    "duration": 13,
    "start_time": "2023-05-03T17:14:45.376Z"
   },
   {
    "duration": 6,
    "start_time": "2023-05-03T17:15:08.449Z"
   },
   {
    "duration": 6,
    "start_time": "2023-05-03T17:15:09.654Z"
   },
   {
    "duration": 21,
    "start_time": "2023-05-03T17:15:11.373Z"
   },
   {
    "duration": 260,
    "start_time": "2023-05-03T17:27:58.398Z"
   },
   {
    "duration": 9,
    "start_time": "2023-05-03T17:27:59.495Z"
   },
   {
    "duration": 6,
    "start_time": "2023-05-03T17:28:00.941Z"
   },
   {
    "duration": 13,
    "start_time": "2023-05-03T17:28:03.534Z"
   },
   {
    "duration": 3,
    "start_time": "2023-05-03T17:39:28.435Z"
   },
   {
    "duration": 2,
    "start_time": "2023-05-03T17:39:38.714Z"
   },
   {
    "duration": 6,
    "start_time": "2023-05-03T17:43:40.405Z"
   },
   {
    "duration": 4,
    "start_time": "2023-05-03T17:44:20.643Z"
   },
   {
    "duration": 3,
    "start_time": "2023-05-03T17:44:21.429Z"
   },
   {
    "duration": 8,
    "start_time": "2023-05-03T17:44:38.548Z"
   },
   {
    "duration": 3,
    "start_time": "2023-05-03T17:44:41.286Z"
   },
   {
    "duration": 2,
    "start_time": "2023-05-03T17:44:41.995Z"
   },
   {
    "duration": 12,
    "start_time": "2023-05-03T17:44:56.886Z"
   },
   {
    "duration": 2,
    "start_time": "2023-05-03T17:45:12.024Z"
   },
   {
    "duration": 2,
    "start_time": "2023-05-03T17:45:12.980Z"
   },
   {
    "duration": 17,
    "start_time": "2023-05-03T17:45:13.583Z"
   },
   {
    "duration": 8,
    "start_time": "2023-05-03T20:29:32.708Z"
   },
   {
    "duration": 3,
    "start_time": "2023-05-03T20:29:33.629Z"
   },
   {
    "duration": 4,
    "start_time": "2023-05-03T20:29:34.396Z"
   },
   {
    "duration": 73,
    "start_time": "2023-05-03T20:29:35.996Z"
   },
   {
    "duration": 335,
    "start_time": "2023-05-03T20:29:48.211Z"
   },
   {
    "duration": 297,
    "start_time": "2023-05-03T20:30:01.111Z"
   },
   {
    "duration": 3,
    "start_time": "2023-05-03T20:31:05.869Z"
   },
   {
    "duration": 6,
    "start_time": "2023-05-03T20:31:08.277Z"
   },
   {
    "duration": 3,
    "start_time": "2023-05-03T20:31:09.195Z"
   },
   {
    "duration": 3,
    "start_time": "2023-05-03T20:31:09.678Z"
   },
   {
    "duration": 307,
    "start_time": "2023-05-03T20:31:10.319Z"
   },
   {
    "duration": 3,
    "start_time": "2023-05-03T20:35:10.860Z"
   },
   {
    "duration": 3,
    "start_time": "2023-05-03T20:35:11.445Z"
   },
   {
    "duration": 78,
    "start_time": "2023-05-03T20:35:12.026Z"
   },
   {
    "duration": 6,
    "start_time": "2023-05-03T20:53:21.582Z"
   },
   {
    "duration": 3,
    "start_time": "2023-05-03T20:53:22.684Z"
   },
   {
    "duration": 3,
    "start_time": "2023-05-03T20:53:23.232Z"
   },
   {
    "duration": 357,
    "start_time": "2023-05-03T20:53:23.835Z"
   },
   {
    "duration": 3,
    "start_time": "2023-05-03T21:00:07.586Z"
   },
   {
    "duration": 2,
    "start_time": "2023-05-03T21:00:08.085Z"
   },
   {
    "duration": 298,
    "start_time": "2023-05-03T21:00:08.524Z"
   },
   {
    "duration": 2,
    "start_time": "2023-05-03T21:00:18.559Z"
   },
   {
    "duration": 4,
    "start_time": "2023-05-03T21:00:18.563Z"
   },
   {
    "duration": 279,
    "start_time": "2023-05-03T21:00:18.569Z"
   },
   {
    "duration": 1229,
    "start_time": "2023-05-04T05:34:19.963Z"
   },
   {
    "duration": 154,
    "start_time": "2023-05-04T05:34:21.195Z"
   },
   {
    "duration": 3,
    "start_time": "2023-05-04T05:34:21.350Z"
   },
   {
    "duration": 56,
    "start_time": "2023-05-04T05:34:21.357Z"
   },
   {
    "duration": 299,
    "start_time": "2023-05-04T05:34:21.415Z"
   },
   {
    "duration": 94,
    "start_time": "2023-05-04T05:34:21.715Z"
   },
   {
    "duration": 206,
    "start_time": "2023-05-04T05:34:21.810Z"
   },
   {
    "duration": 74,
    "start_time": "2023-05-04T05:34:22.018Z"
   },
   {
    "duration": 69,
    "start_time": "2023-05-04T05:34:22.094Z"
   },
   {
    "duration": 101,
    "start_time": "2023-05-04T05:34:22.167Z"
   },
   {
    "duration": 24,
    "start_time": "2023-05-04T05:34:22.270Z"
   },
   {
    "duration": 39,
    "start_time": "2023-05-04T05:34:22.296Z"
   },
   {
    "duration": 53,
    "start_time": "2023-05-04T05:34:22.337Z"
   },
   {
    "duration": 94,
    "start_time": "2023-05-04T05:34:22.392Z"
   },
   {
    "duration": 39,
    "start_time": "2023-05-04T05:34:22.488Z"
   },
   {
    "duration": 516,
    "start_time": "2023-05-04T05:34:22.529Z"
   },
   {
    "duration": 257,
    "start_time": "2023-05-04T05:34:23.047Z"
   },
   {
    "duration": 9,
    "start_time": "2023-05-04T05:34:23.306Z"
   },
   {
    "duration": 20,
    "start_time": "2023-05-04T05:34:23.317Z"
   },
   {
    "duration": 52,
    "start_time": "2023-05-04T05:34:23.339Z"
   },
   {
    "duration": 7,
    "start_time": "2023-05-04T05:34:23.393Z"
   },
   {
    "duration": 38,
    "start_time": "2023-05-04T05:34:23.402Z"
   },
   {
    "duration": 163,
    "start_time": "2023-05-04T05:34:23.443Z"
   },
   {
    "duration": 199,
    "start_time": "2023-05-04T05:34:23.608Z"
   },
   {
    "duration": 129,
    "start_time": "2023-05-04T05:34:23.810Z"
   },
   {
    "duration": 10,
    "start_time": "2023-05-04T05:34:23.941Z"
   },
   {
    "duration": 102,
    "start_time": "2023-05-04T05:34:23.953Z"
   },
   {
    "duration": 207,
    "start_time": "2023-05-04T05:34:24.058Z"
   },
   {
    "duration": 3,
    "start_time": "2023-05-04T05:34:24.267Z"
   },
   {
    "duration": 23,
    "start_time": "2023-05-04T05:34:24.272Z"
   },
   {
    "duration": 22,
    "start_time": "2023-05-04T05:34:24.297Z"
   },
   {
    "duration": 23,
    "start_time": "2023-05-04T05:34:24.322Z"
   },
   {
    "duration": 468,
    "start_time": "2023-05-04T05:34:24.347Z"
   },
   {
    "duration": 58,
    "start_time": "2023-05-04T13:11:10.174Z"
   },
   {
    "duration": 7,
    "start_time": "2023-05-04T13:35:15.399Z"
   },
   {
    "duration": 1763,
    "start_time": "2023-05-04T13:36:41.692Z"
   },
   {
    "duration": 696,
    "start_time": "2023-05-04T13:36:43.457Z"
   },
   {
    "duration": 3,
    "start_time": "2023-05-04T13:36:44.155Z"
   },
   {
    "duration": 31,
    "start_time": "2023-05-04T13:36:44.160Z"
   },
   {
    "duration": 402,
    "start_time": "2023-05-04T13:36:44.193Z"
   },
   {
    "duration": 127,
    "start_time": "2023-05-04T13:36:44.597Z"
   },
   {
    "duration": 283,
    "start_time": "2023-05-04T13:36:44.727Z"
   },
   {
    "duration": 95,
    "start_time": "2023-05-04T13:36:45.011Z"
   },
   {
    "duration": 41,
    "start_time": "2023-05-04T13:36:45.108Z"
   },
   {
    "duration": 155,
    "start_time": "2023-05-04T13:36:45.152Z"
   },
   {
    "duration": 27,
    "start_time": "2023-05-04T13:36:45.309Z"
   },
   {
    "duration": 34,
    "start_time": "2023-05-04T13:36:45.340Z"
   },
   {
    "duration": 82,
    "start_time": "2023-05-04T13:36:45.376Z"
   },
   {
    "duration": 86,
    "start_time": "2023-05-04T13:36:45.462Z"
   },
   {
    "duration": 34,
    "start_time": "2023-05-04T13:36:45.550Z"
   },
   {
    "duration": 690,
    "start_time": "2023-05-04T13:36:45.586Z"
   },
   {
    "duration": 304,
    "start_time": "2023-05-04T13:36:46.277Z"
   },
   {
    "duration": 9,
    "start_time": "2023-05-04T13:36:46.583Z"
   },
   {
    "duration": 29,
    "start_time": "2023-05-04T13:36:46.593Z"
   },
   {
    "duration": 10,
    "start_time": "2023-05-04T13:36:46.623Z"
   },
   {
    "duration": 308,
    "start_time": "2023-05-04T13:36:46.636Z"
   },
   {
    "duration": 34,
    "start_time": "2023-05-04T13:36:46.947Z"
   },
   {
    "duration": 72,
    "start_time": "2023-05-04T13:36:46.983Z"
   },
   {
    "duration": 24,
    "start_time": "2023-05-04T13:36:47.057Z"
   },
   {
    "duration": 82,
    "start_time": "2023-05-04T13:36:47.082Z"
   },
   {
    "duration": 167,
    "start_time": "2023-05-04T13:36:47.166Z"
   },
   {
    "duration": 193,
    "start_time": "2023-05-04T13:36:47.336Z"
   },
   {
    "duration": 141,
    "start_time": "2023-05-04T13:36:47.532Z"
   },
   {
    "duration": 10,
    "start_time": "2023-05-04T13:36:47.675Z"
   },
   {
    "duration": 134,
    "start_time": "2023-05-04T13:36:47.686Z"
   },
   {
    "duration": 243,
    "start_time": "2023-05-04T13:36:47.822Z"
   },
   {
    "duration": 36,
    "start_time": "2023-05-04T13:36:48.067Z"
   },
   {
    "duration": 52,
    "start_time": "2023-05-04T13:36:48.104Z"
   },
   {
    "duration": 36,
    "start_time": "2023-05-04T13:36:48.158Z"
   },
   {
    "duration": 17,
    "start_time": "2023-05-04T13:36:48.197Z"
   },
   {
    "duration": 458,
    "start_time": "2023-05-04T13:36:48.216Z"
   },
   {
    "duration": 119,
    "start_time": "2023-05-04T13:39:16.333Z"
   },
   {
    "duration": 126,
    "start_time": "2023-05-04T13:40:08.602Z"
   },
   {
    "duration": 6,
    "start_time": "2023-05-04T13:48:49.640Z"
   },
   {
    "duration": 7,
    "start_time": "2023-05-04T13:54:56.086Z"
   },
   {
    "duration": 7,
    "start_time": "2023-05-04T13:56:16.679Z"
   },
   {
    "duration": 128,
    "start_time": "2023-05-04T13:56:59.174Z"
   },
   {
    "duration": 15,
    "start_time": "2023-05-04T13:58:38.904Z"
   },
   {
    "duration": 11,
    "start_time": "2023-05-04T14:04:29.644Z"
   },
   {
    "duration": 51,
    "start_time": "2023-05-05T11:27:17.139Z"
   },
   {
    "duration": 1289,
    "start_time": "2023-05-05T11:27:24.445Z"
   },
   {
    "duration": 725,
    "start_time": "2023-05-05T11:27:25.736Z"
   },
   {
    "duration": 4,
    "start_time": "2023-05-05T11:27:26.463Z"
   },
   {
    "duration": 26,
    "start_time": "2023-05-05T11:27:26.468Z"
   },
   {
    "duration": 307,
    "start_time": "2023-05-05T11:27:26.497Z"
   },
   {
    "duration": 108,
    "start_time": "2023-05-05T11:27:26.806Z"
   },
   {
    "duration": 232,
    "start_time": "2023-05-05T11:27:26.916Z"
   },
   {
    "duration": 83,
    "start_time": "2023-05-05T11:27:27.150Z"
   },
   {
    "duration": 25,
    "start_time": "2023-05-05T11:27:27.235Z"
   },
   {
    "duration": 110,
    "start_time": "2023-05-05T11:27:27.262Z"
   },
   {
    "duration": 21,
    "start_time": "2023-05-05T11:27:27.374Z"
   },
   {
    "duration": 5,
    "start_time": "2023-05-05T11:27:27.397Z"
   },
   {
    "duration": 44,
    "start_time": "2023-05-05T11:27:27.404Z"
   },
   {
    "duration": 85,
    "start_time": "2023-05-05T11:27:27.452Z"
   },
   {
    "duration": 32,
    "start_time": "2023-05-05T11:27:27.539Z"
   },
   {
    "duration": 515,
    "start_time": "2023-05-05T11:27:27.585Z"
   },
   {
    "duration": 280,
    "start_time": "2023-05-05T11:27:28.102Z"
   },
   {
    "duration": 9,
    "start_time": "2023-05-05T11:27:28.385Z"
   },
   {
    "duration": 7,
    "start_time": "2023-05-05T11:27:28.396Z"
   },
   {
    "duration": 5,
    "start_time": "2023-05-05T11:27:28.405Z"
   },
   {
    "duration": 259,
    "start_time": "2023-05-05T11:27:28.412Z"
   },
   {
    "duration": 41,
    "start_time": "2023-05-05T11:27:28.673Z"
   },
   {
    "duration": 86,
    "start_time": "2023-05-05T11:27:28.716Z"
   },
   {
    "duration": 3,
    "start_time": "2023-05-05T11:27:28.804Z"
   },
   {
    "duration": 25,
    "start_time": "2023-05-05T11:27:28.809Z"
   },
   {
    "duration": 130,
    "start_time": "2023-05-05T11:27:28.836Z"
   },
   {
    "duration": 160,
    "start_time": "2023-05-05T11:27:28.968Z"
   },
   {
    "duration": 114,
    "start_time": "2023-05-05T11:27:29.130Z"
   },
   {
    "duration": 9,
    "start_time": "2023-05-05T11:27:29.245Z"
   },
   {
    "duration": 106,
    "start_time": "2023-05-05T11:27:29.255Z"
   },
   {
    "duration": 203,
    "start_time": "2023-05-05T11:27:29.363Z"
   },
   {
    "duration": 17,
    "start_time": "2023-05-05T11:27:29.568Z"
   },
   {
    "duration": 6,
    "start_time": "2023-05-05T11:27:29.586Z"
   },
   {
    "duration": 20,
    "start_time": "2023-05-05T11:27:29.594Z"
   },
   {
    "duration": 11,
    "start_time": "2023-05-05T11:27:29.616Z"
   },
   {
    "duration": 10,
    "start_time": "2023-05-05T11:29:31.973Z"
   },
   {
    "duration": 10,
    "start_time": "2023-05-05T11:31:23.788Z"
   },
   {
    "duration": 9,
    "start_time": "2023-05-05T11:33:14.371Z"
   },
   {
    "duration": 11,
    "start_time": "2023-05-05T11:38:02.063Z"
   },
   {
    "duration": 10,
    "start_time": "2023-05-05T11:54:00.191Z"
   },
   {
    "duration": 11,
    "start_time": "2023-05-05T11:54:05.056Z"
   },
   {
    "duration": 10,
    "start_time": "2023-05-05T11:54:09.672Z"
   },
   {
    "duration": 8,
    "start_time": "2023-05-05T11:54:14.743Z"
   },
   {
    "duration": 9,
    "start_time": "2023-05-05T13:11:15.329Z"
   },
   {
    "duration": 10,
    "start_time": "2023-05-05T13:11:16.812Z"
   },
   {
    "duration": 10,
    "start_time": "2023-05-05T13:11:19.719Z"
   },
   {
    "duration": 9,
    "start_time": "2023-05-05T13:11:21.867Z"
   },
   {
    "duration": 1291,
    "start_time": "2023-05-05T17:29:57.805Z"
   },
   {
    "duration": 182,
    "start_time": "2023-05-05T17:29:59.098Z"
   },
   {
    "duration": 3,
    "start_time": "2023-05-05T17:29:59.282Z"
   },
   {
    "duration": 30,
    "start_time": "2023-05-05T17:29:59.287Z"
   },
   {
    "duration": 321,
    "start_time": "2023-05-05T17:29:59.319Z"
   },
   {
    "duration": 106,
    "start_time": "2023-05-05T17:29:59.642Z"
   },
   {
    "duration": 246,
    "start_time": "2023-05-05T17:29:59.750Z"
   },
   {
    "duration": 83,
    "start_time": "2023-05-05T17:29:59.998Z"
   },
   {
    "duration": 27,
    "start_time": "2023-05-05T17:30:00.083Z"
   },
   {
    "duration": 117,
    "start_time": "2023-05-05T17:30:00.113Z"
   },
   {
    "duration": 10,
    "start_time": "2023-05-05T17:30:00.232Z"
   },
   {
    "duration": 35,
    "start_time": "2023-05-05T17:30:00.244Z"
   },
   {
    "duration": 96,
    "start_time": "2023-05-05T17:30:00.281Z"
   },
   {
    "duration": 97,
    "start_time": "2023-05-05T17:30:00.380Z"
   },
   {
    "duration": 34,
    "start_time": "2023-05-05T17:30:00.479Z"
   },
   {
    "duration": 598,
    "start_time": "2023-05-05T17:30:00.515Z"
   },
   {
    "duration": 262,
    "start_time": "2023-05-05T17:30:01.115Z"
   },
   {
    "duration": 9,
    "start_time": "2023-05-05T17:30:01.380Z"
   },
   {
    "duration": 80,
    "start_time": "2023-05-05T17:30:01.391Z"
   },
   {
    "duration": 30,
    "start_time": "2023-05-05T17:30:01.474Z"
   },
   {
    "duration": 274,
    "start_time": "2023-05-05T17:30:01.507Z"
   },
   {
    "duration": 40,
    "start_time": "2023-05-05T17:30:01.784Z"
   },
   {
    "duration": 125,
    "start_time": "2023-05-05T17:30:01.826Z"
   },
   {
    "duration": 3,
    "start_time": "2023-05-05T17:30:01.953Z"
   },
   {
    "duration": 76,
    "start_time": "2023-05-05T17:30:01.958Z"
   },
   {
    "duration": 158,
    "start_time": "2023-05-05T17:30:02.036Z"
   },
   {
    "duration": 156,
    "start_time": "2023-05-05T17:30:02.196Z"
   },
   {
    "duration": 122,
    "start_time": "2023-05-05T17:30:02.356Z"
   },
   {
    "duration": 9,
    "start_time": "2023-05-05T17:30:02.480Z"
   },
   {
    "duration": 113,
    "start_time": "2023-05-05T17:30:02.491Z"
   },
   {
    "duration": 193,
    "start_time": "2023-05-05T17:30:02.606Z"
   },
   {
    "duration": 15,
    "start_time": "2023-05-05T17:30:02.801Z"
   },
   {
    "duration": 34,
    "start_time": "2023-05-05T17:30:02.818Z"
   },
   {
    "duration": 83,
    "start_time": "2023-05-05T17:30:02.854Z"
   },
   {
    "duration": 34,
    "start_time": "2023-05-05T17:30:02.939Z"
   },
   {
    "duration": 24,
    "start_time": "2023-05-05T17:30:02.974Z"
   },
   {
    "duration": 72,
    "start_time": "2023-05-05T17:30:03.000Z"
   },
   {
    "duration": 57,
    "start_time": "2023-05-05T17:30:03.075Z"
   },
   {
    "duration": 60,
    "start_time": "2023-05-05T17:30:03.134Z"
   },
   {
    "duration": 58,
    "start_time": "2023-05-05T17:30:03.196Z"
   },
   {
    "duration": 39,
    "start_time": "2023-05-05T17:30:03.256Z"
   },
   {
    "duration": 10,
    "start_time": "2023-05-05T17:30:03.297Z"
   },
   {
    "duration": 1276,
    "start_time": "2023-05-05T18:06:49.780Z"
   },
   {
    "duration": 182,
    "start_time": "2023-05-05T18:06:51.058Z"
   },
   {
    "duration": 3,
    "start_time": "2023-05-05T18:06:51.242Z"
   },
   {
    "duration": 31,
    "start_time": "2023-05-05T18:06:51.247Z"
   },
   {
    "duration": 326,
    "start_time": "2023-05-05T18:06:51.280Z"
   },
   {
    "duration": 112,
    "start_time": "2023-05-05T18:06:51.608Z"
   },
   {
    "duration": 233,
    "start_time": "2023-05-05T18:06:51.722Z"
   },
   {
    "duration": 75,
    "start_time": "2023-05-05T18:06:51.957Z"
   },
   {
    "duration": 33,
    "start_time": "2023-05-05T18:06:52.034Z"
   },
   {
    "duration": 117,
    "start_time": "2023-05-05T18:06:52.071Z"
   },
   {
    "duration": 9,
    "start_time": "2023-05-05T18:06:52.190Z"
   },
   {
    "duration": 4,
    "start_time": "2023-05-05T18:06:52.212Z"
   },
   {
    "duration": 43,
    "start_time": "2023-05-05T18:06:52.218Z"
   },
   {
    "duration": 85,
    "start_time": "2023-05-05T18:06:52.262Z"
   },
   {
    "duration": 32,
    "start_time": "2023-05-05T18:06:52.349Z"
   },
   {
    "duration": 583,
    "start_time": "2023-05-05T18:06:52.383Z"
   },
   {
    "duration": 261,
    "start_time": "2023-05-05T18:06:52.968Z"
   },
   {
    "duration": 9,
    "start_time": "2023-05-05T18:06:53.231Z"
   },
   {
    "duration": 16,
    "start_time": "2023-05-05T18:06:53.242Z"
   },
   {
    "duration": 7,
    "start_time": "2023-05-05T18:06:53.260Z"
   },
   {
    "duration": 270,
    "start_time": "2023-05-05T18:06:53.268Z"
   },
   {
    "duration": 32,
    "start_time": "2023-05-05T18:06:53.540Z"
   },
   {
    "duration": 91,
    "start_time": "2023-05-05T18:06:53.574Z"
   },
   {
    "duration": 4,
    "start_time": "2023-05-05T18:06:53.667Z"
   },
   {
    "duration": 42,
    "start_time": "2023-05-05T18:06:53.674Z"
   },
   {
    "duration": 167,
    "start_time": "2023-05-05T18:06:53.719Z"
   },
   {
    "duration": 185,
    "start_time": "2023-05-05T18:06:53.887Z"
   },
   {
    "duration": 136,
    "start_time": "2023-05-05T18:06:54.077Z"
   },
   {
    "duration": 10,
    "start_time": "2023-05-05T18:06:54.215Z"
   },
   {
    "duration": 112,
    "start_time": "2023-05-05T18:06:54.228Z"
   },
   {
    "duration": 225,
    "start_time": "2023-05-05T18:06:54.342Z"
   },
   {
    "duration": 6,
    "start_time": "2023-05-05T18:06:54.570Z"
   },
   {
    "duration": 51,
    "start_time": "2023-05-05T18:06:54.578Z"
   },
   {
    "duration": 78,
    "start_time": "2023-05-05T18:06:54.631Z"
   },
   {
    "duration": 21,
    "start_time": "2023-05-05T18:06:54.711Z"
   },
   {
    "duration": 37,
    "start_time": "2023-05-05T18:06:54.734Z"
   },
   {
    "duration": 11,
    "start_time": "2023-05-05T18:06:54.773Z"
   },
   {
    "duration": 19,
    "start_time": "2023-05-05T18:06:54.786Z"
   },
   {
    "duration": 10,
    "start_time": "2023-05-05T18:06:54.807Z"
   },
   {
    "duration": 13,
    "start_time": "2023-05-05T18:06:54.819Z"
   },
   {
    "duration": 12,
    "start_time": "2023-05-05T18:06:54.834Z"
   },
   {
    "duration": 21,
    "start_time": "2023-05-05T18:06:54.848Z"
   },
   {
    "duration": 51,
    "start_time": "2023-05-06T11:41:32.798Z"
   },
   {
    "duration": 11,
    "start_time": "2023-05-06T11:42:44.193Z"
   },
   {
    "duration": 5,
    "start_time": "2023-05-06T11:44:09.044Z"
   },
   {
    "duration": 6,
    "start_time": "2023-05-06T11:44:26.909Z"
   },
   {
    "duration": 6,
    "start_time": "2023-05-06T11:45:34.169Z"
   },
   {
    "duration": 5,
    "start_time": "2023-05-06T11:45:34.877Z"
   },
   {
    "duration": 1384,
    "start_time": "2023-05-06T11:45:42.063Z"
   },
   {
    "duration": 728,
    "start_time": "2023-05-06T11:45:43.450Z"
   },
   {
    "duration": 3,
    "start_time": "2023-05-06T11:45:44.179Z"
   },
   {
    "duration": 20,
    "start_time": "2023-05-06T11:45:44.184Z"
   },
   {
    "duration": 336,
    "start_time": "2023-05-06T11:45:44.205Z"
   },
   {
    "duration": 107,
    "start_time": "2023-05-06T11:45:44.543Z"
   },
   {
    "duration": 214,
    "start_time": "2023-05-06T11:45:44.652Z"
   },
   {
    "duration": 74,
    "start_time": "2023-05-06T11:45:44.867Z"
   },
   {
    "duration": 17,
    "start_time": "2023-05-06T11:45:44.942Z"
   },
   {
    "duration": 99,
    "start_time": "2023-05-06T11:45:44.961Z"
   },
   {
    "duration": 8,
    "start_time": "2023-05-06T11:45:45.061Z"
   },
   {
    "duration": 21,
    "start_time": "2023-05-06T11:45:45.071Z"
   },
   {
    "duration": 34,
    "start_time": "2023-05-06T11:45:45.093Z"
   },
   {
    "duration": 63,
    "start_time": "2023-05-06T11:45:45.129Z"
   },
   {
    "duration": 23,
    "start_time": "2023-05-06T11:45:45.194Z"
   },
   {
    "duration": 509,
    "start_time": "2023-05-06T11:45:45.219Z"
   },
   {
    "duration": 252,
    "start_time": "2023-05-06T11:45:45.729Z"
   },
   {
    "duration": 12,
    "start_time": "2023-05-06T11:45:45.982Z"
   },
   {
    "duration": 6,
    "start_time": "2023-05-06T11:45:45.995Z"
   },
   {
    "duration": 8,
    "start_time": "2023-05-06T11:45:46.003Z"
   },
   {
    "duration": 230,
    "start_time": "2023-05-06T11:45:46.012Z"
   },
   {
    "duration": 27,
    "start_time": "2023-05-06T11:45:46.244Z"
   },
   {
    "duration": 84,
    "start_time": "2023-05-06T11:45:46.274Z"
   },
   {
    "duration": 3,
    "start_time": "2023-05-06T11:45:46.360Z"
   },
   {
    "duration": 34,
    "start_time": "2023-05-06T11:45:46.365Z"
   },
   {
    "duration": 121,
    "start_time": "2023-05-06T11:45:46.400Z"
   },
   {
    "duration": 167,
    "start_time": "2023-05-06T11:45:46.522Z"
   },
   {
    "duration": 116,
    "start_time": "2023-05-06T11:45:46.693Z"
   },
   {
    "duration": 9,
    "start_time": "2023-05-06T11:45:46.811Z"
   },
   {
    "duration": 105,
    "start_time": "2023-05-06T11:45:46.822Z"
   },
   {
    "duration": 195,
    "start_time": "2023-05-06T11:45:46.929Z"
   },
   {
    "duration": 5,
    "start_time": "2023-05-06T11:45:47.126Z"
   },
   {
    "duration": 13,
    "start_time": "2023-05-06T11:45:47.133Z"
   },
   {
    "duration": 28,
    "start_time": "2023-05-06T11:45:47.148Z"
   },
   {
    "duration": 10,
    "start_time": "2023-05-06T11:45:47.177Z"
   },
   {
    "duration": 17,
    "start_time": "2023-05-06T11:45:47.188Z"
   },
   {
    "duration": 15,
    "start_time": "2023-05-06T11:45:47.207Z"
   },
   {
    "duration": 16,
    "start_time": "2023-05-06T11:45:47.224Z"
   },
   {
    "duration": 10,
    "start_time": "2023-05-06T11:45:47.242Z"
   },
   {
    "duration": 12,
    "start_time": "2023-05-06T11:45:47.254Z"
   },
   {
    "duration": 13,
    "start_time": "2023-05-06T11:45:47.268Z"
   },
   {
    "duration": 12,
    "start_time": "2023-05-06T11:45:47.283Z"
   },
   {
    "duration": 23,
    "start_time": "2023-05-06T11:45:47.296Z"
   },
   {
    "duration": 21,
    "start_time": "2023-05-06T11:45:47.321Z"
   },
   {
    "duration": 19,
    "start_time": "2023-05-06T11:45:47.345Z"
   },
   {
    "duration": 9,
    "start_time": "2023-05-06T11:46:56.697Z"
   },
   {
    "duration": 8,
    "start_time": "2023-05-06T11:47:27.293Z"
   },
   {
    "duration": 10,
    "start_time": "2023-05-06T11:48:00.877Z"
   },
   {
    "duration": 2907,
    "start_time": "2023-05-06T19:26:31.488Z"
   },
   {
    "duration": 2204,
    "start_time": "2023-05-06T19:26:34.398Z"
   },
   {
    "duration": 13,
    "start_time": "2023-05-06T19:26:36.605Z"
   },
   {
    "duration": 71,
    "start_time": "2023-05-06T19:26:36.623Z"
   },
   {
    "duration": 920,
    "start_time": "2023-05-06T19:26:36.698Z"
   },
   {
    "duration": 322,
    "start_time": "2023-05-06T19:26:37.628Z"
   },
   {
    "duration": 681,
    "start_time": "2023-05-06T19:26:37.952Z"
   },
   {
    "duration": 293,
    "start_time": "2023-05-06T19:26:38.641Z"
   },
   {
    "duration": 80,
    "start_time": "2023-05-06T19:26:38.935Z"
   },
   {
    "duration": 292,
    "start_time": "2023-05-06T19:26:39.026Z"
   },
   {
    "duration": 73,
    "start_time": "2023-05-06T19:26:39.320Z"
   },
   {
    "duration": 6,
    "start_time": "2023-05-06T19:26:39.400Z"
   },
   {
    "duration": 121,
    "start_time": "2023-05-06T19:26:39.408Z"
   },
   {
    "duration": 268,
    "start_time": "2023-05-06T19:26:39.531Z"
   },
   {
    "duration": 109,
    "start_time": "2023-05-06T19:26:39.806Z"
   },
   {
    "duration": 1612,
    "start_time": "2023-05-06T19:26:39.925Z"
   },
   {
    "duration": 959,
    "start_time": "2023-05-06T19:26:41.543Z"
   },
   {
    "duration": 35,
    "start_time": "2023-05-06T19:26:42.515Z"
   },
   {
    "duration": 24,
    "start_time": "2023-05-06T19:26:42.593Z"
   },
   {
    "duration": 32,
    "start_time": "2023-05-06T19:26:42.620Z"
   },
   {
    "duration": 696,
    "start_time": "2023-05-06T19:26:42.654Z"
   },
   {
    "duration": 125,
    "start_time": "2023-05-06T19:26:43.384Z"
   },
   {
    "duration": 216,
    "start_time": "2023-05-06T19:26:43.515Z"
   },
   {
    "duration": 5,
    "start_time": "2023-05-06T19:26:43.737Z"
   },
   {
    "duration": 96,
    "start_time": "2023-05-06T19:26:43.747Z"
   },
   {
    "duration": 338,
    "start_time": "2023-05-06T19:26:43.886Z"
   },
   {
    "duration": 399,
    "start_time": "2023-05-06T19:26:44.229Z"
   },
   {
    "duration": 261,
    "start_time": "2023-05-06T19:26:44.634Z"
   },
   {
    "duration": 16,
    "start_time": "2023-05-06T19:26:44.897Z"
   },
   {
    "duration": 292,
    "start_time": "2023-05-06T19:26:44.919Z"
   },
   {
    "duration": 597,
    "start_time": "2023-05-06T19:26:45.213Z"
   },
   {
    "duration": 24,
    "start_time": "2023-05-06T19:26:45.822Z"
   },
   {
    "duration": 46,
    "start_time": "2023-05-06T19:26:45.849Z"
   },
   {
    "duration": 29,
    "start_time": "2023-05-06T19:26:45.898Z"
   },
   {
    "duration": 56,
    "start_time": "2023-05-06T19:26:45.932Z"
   },
   {
    "duration": 26,
    "start_time": "2023-05-06T19:26:45.991Z"
   },
   {
    "duration": 75,
    "start_time": "2023-05-06T19:26:46.020Z"
   },
   {
    "duration": 25,
    "start_time": "2023-05-06T19:26:46.098Z"
   },
   {
    "duration": 60,
    "start_time": "2023-05-06T19:26:46.133Z"
   },
   {
    "duration": 36,
    "start_time": "2023-05-06T19:26:46.195Z"
   },
   {
    "duration": 62,
    "start_time": "2023-05-06T19:26:46.234Z"
   },
   {
    "duration": 13,
    "start_time": "2023-05-06T19:26:46.297Z"
   },
   {
    "duration": 8,
    "start_time": "2023-05-06T19:26:46.313Z"
   },
   {
    "duration": 16,
    "start_time": "2023-05-06T19:26:46.323Z"
   },
   {
    "duration": 12,
    "start_time": "2023-05-06T19:26:46.386Z"
   },
   {
    "duration": 32,
    "start_time": "2023-05-06T19:26:46.400Z"
   },
   {
    "duration": 33,
    "start_time": "2023-05-06T19:26:46.485Z"
   },
   {
    "duration": 20,
    "start_time": "2023-05-06T19:26:46.531Z"
   },
   {
    "duration": 59,
    "start_time": "2023-06-19T15:31:33.888Z"
   }
  ],
  "kernelspec": {
   "display_name": "Python 3 (ipykernel)",
   "language": "python",
   "name": "python3"
  },
  "language_info": {
   "codemirror_mode": {
    "name": "ipython",
    "version": 3
   },
   "file_extension": ".py",
   "mimetype": "text/x-python",
   "name": "python",
   "nbconvert_exporter": "python",
   "pygments_lexer": "ipython3",
   "version": "3.9.13"
  },
  "toc": {
   "base_numbering": 1,
   "nav_menu": {},
   "number_sections": true,
   "sideBar": true,
   "skip_h1_title": true,
   "title_cell": "Table of Contents",
   "title_sidebar": "Contents",
   "toc_cell": false,
   "toc_position": {},
   "toc_section_display": true,
   "toc_window_display": false
  }
 },
 "nbformat": 4,
 "nbformat_minor": 4
}
