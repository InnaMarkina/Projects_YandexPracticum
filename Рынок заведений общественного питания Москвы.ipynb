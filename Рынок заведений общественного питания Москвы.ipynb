{
 "cells": [
  {
   "cell_type": "markdown",
   "metadata": {},
   "source": [
    "# Рынок заведений общественного питания Москвы"
   ]
  },
  {
   "cell_type": "markdown",
   "metadata": {},
   "source": [
    "Описание проекта  \n",
    "\n",
    "Инвесторы из фонда «Shut Up and Take My Money» решили попробовать себя в новой области и открыть заведение общественного питания в Москве. Заказчики ещё не знают, что это будет за место: кафе, ресторан, пиццерия, паб или бар, — и какими будут расположение, меню и цены.\n",
    "Необходимо подготовить исследование рынка Москвы, найти интересные особенности и презентовать полученные результаты, которые в будущем помогут в выборе подходящего инвесторам места.  \n",
    "\n",
    "\n",
    "\n",
    "\n",
    "Описание данных  \n",
    "\n",
    "Файл moscow_places.csv:  \n",
    "\n",
    "name — название заведения;  \n",
    "\n",
    "address — адрес заведения;  \n",
    "\n",
    "category — категория заведения, например «кафе», «пиццерия» или «кофейня»;  \n",
    "\n",
    "hours — информация о днях и часах работы;  \n",
    "\n",
    "lat — широта географической точки, в которой находится заведение;  \n",
    "\n",
    "lng — долгота географической точки, в которой находится заведение;  \n",
    "\n",
    "rating — рейтинг заведения по оценкам пользователей в Яндекс Картах (высшая оценка — 5.0);  \n",
    "\n",
    "price — категория цен в заведении, например «средние», «ниже среднего», «выше среднего» и так далее;  \n",
    "\n",
    "avg_bill — строка, которая хранит среднюю стоимость заказа в виде диапазона, например:  \n",
    "\n",
    "«Средний счёт: 1000–1500 ₽»;  \n",
    "\n",
    "«Цена чашки капучино: 130–220 ₽»;  \n",
    "\n",
    "«Цена бокала пива: 400–600 ₽».  \n",
    "\n",
    "middle_avg_bill — число с оценкой среднего чека, которое указано только для значений из столбца avg_bill, начинающихся с подстроки «Средний счёт»:  \n",
    "\n",
    "Если в строке указан ценовой диапазон из двух значений, в столбец войдёт медиана этих двух значений.\n",
    "Если в строке указано одно число — цена без диапазона, то в столбец войдёт это число.\n",
    "Если значения нет или оно не начинается с подстроки «Средний счёт», то в столбец ничего не войдёт.  \n",
    "\n",
    "middle_coffee_cup — число с оценкой одной чашки капучино, которое указано только для значений из столбца avg_bill, начинающихся с подстроки «Цена одной чашки капучино»:\n",
    "Если в строке указан ценовой диапазон из двух значений, в столбец войдёт медиана этих двух значений.\n",
    "Если в строке указано одно число — цена без диапазона, то в столбец войдёт это число.\n",
    "Если значения нет или оно не начинается с подстроки «Цена одной чашки капучино», то в столбец ничего не войдёт.  \n",
    "\n",
    "chain — число, выраженное 0 или 1, которое показывает, является ли заведение сетевым (для маленьких сетей могут встречаться ошибки):\n",
    "0 — заведение не является сетевым\n",
    "1 — заведение является сетевым  \n",
    "\n",
    "district — административный район, в котором находится заведение, например Центральный административный округ;  \n",
    "\n",
    "seats — количество посадочных мест."
   ]
  },
  {
   "cell_type": "markdown",
   "metadata": {},
   "source": [
    "План:\n",
    "- загрузка данных и изучение общей информации\n",
    "- предобработка данных\n",
    "- анализ данных\n",
    "- детализация исследования: открытие кофейни\n",
    "- подготовка презентации"
   ]
  },
  {
   "cell_type": "markdown",
   "metadata": {},
   "source": [
    "## Шаг: загрузка и изучение общей информации"
   ]
  },
  {
   "cell_type": "code",
   "execution_count": 1,
   "metadata": {},
   "outputs": [
    {
     "ename": "ModuleNotFoundError",
     "evalue": "No module named 'folium'",
     "output_type": "error",
     "traceback": [
      "\u001b[0;31m---------------------------------------------------------------------------\u001b[0m",
      "\u001b[0;31mModuleNotFoundError\u001b[0m                       Traceback (most recent call last)",
      "\u001b[0;32m/var/folders/d4/xypmpbyj4g73rn71ls41nvb80000gn/T/ipykernel_27917/2908038690.py\u001b[0m in \u001b[0;36m<module>\u001b[0;34m\u001b[0m\n\u001b[1;32m     13\u001b[0m \u001b[0;32mimport\u001b[0m \u001b[0mjson\u001b[0m\u001b[0;34m\u001b[0m\u001b[0;34m\u001b[0m\u001b[0m\n\u001b[1;32m     14\u001b[0m \u001b[0;31m# импортируем карту и хороплет\u001b[0m\u001b[0;34m\u001b[0m\u001b[0;34m\u001b[0m\u001b[0m\n\u001b[0;32m---> 15\u001b[0;31m \u001b[0;32mfrom\u001b[0m \u001b[0mfolium\u001b[0m \u001b[0;32mimport\u001b[0m \u001b[0mMap\u001b[0m\u001b[0;34m,\u001b[0m \u001b[0mChoropleth\u001b[0m\u001b[0;34m\u001b[0m\u001b[0;34m\u001b[0m\u001b[0m\n\u001b[0m\u001b[1;32m     16\u001b[0m \u001b[0;31m# импортируем карту и маркер\u001b[0m\u001b[0;34m\u001b[0m\u001b[0;34m\u001b[0m\u001b[0m\n\u001b[1;32m     17\u001b[0m \u001b[0;32mfrom\u001b[0m \u001b[0mfolium\u001b[0m \u001b[0;32mimport\u001b[0m \u001b[0mMap\u001b[0m\u001b[0;34m,\u001b[0m \u001b[0mMarker\u001b[0m\u001b[0;34m\u001b[0m\u001b[0;34m\u001b[0m\u001b[0m\n",
      "\u001b[0;31mModuleNotFoundError\u001b[0m: No module named 'folium'"
     ]
    }
   ],
   "source": [
    "#Импорт библиотек\n",
    "import pandas as pd\n",
    "import numpy as np\n",
    "import matplotlib.pyplot as plt\n",
    "import seaborn as sns\n",
    "from IPython.display import display\n",
    "import math as mth\n",
    "from scipy import stats as st\n",
    "import re\n",
    "import plotly.express as px\n",
    "from plotly import graph_objects as go\n",
    "# подключаем модуль для работы с JSON-форматом\n",
    "import json\n",
    "# импортируем карту и хороплет\n",
    "from folium import Map, Choropleth\n",
    "# импортируем карту и маркер\n",
    "from folium import Map, Marker\n",
    "# импортируем кластер\n",
    "from folium.plugins import MarkerCluster"
   ]
  },
  {
   "cell_type": "code",
   "execution_count": null,
   "metadata": {
    "scrolled": true
   },
   "outputs": [],
   "source": [
    "data = pd.read_csv('/datasets/moscow_places.csv')\n",
    "data.head(20)"
   ]
  },
  {
   "cell_type": "code",
   "execution_count": null,
   "metadata": {},
   "outputs": [],
   "source": [
    "data.info()"
   ]
  },
  {
   "cell_type": "markdown",
   "metadata": {},
   "source": [
    "## Шаг: предобработка данных"
   ]
  },
  {
   "cell_type": "code",
   "execution_count": null,
   "metadata": {},
   "outputs": [],
   "source": [
    "#приведем к нижнему регистру\n",
    "for col in ['name', 'category', 'address', 'hours', 'price', 'avg_bill']:\n",
    "    data[col] = data[col].str.lower()"
   ]
  },
  {
   "cell_type": "code",
   "execution_count": null,
   "metadata": {},
   "outputs": [],
   "source": [
    "# Проверим наличие дубликатов\n",
    "data.duplicated().sum()"
   ]
  },
  {
   "cell_type": "code",
   "execution_count": null,
   "metadata": {},
   "outputs": [],
   "source": [
    "data.duplicated(['name', 'address']).sum()"
   ]
  },
  {
   "cell_type": "code",
   "execution_count": null,
   "metadata": {
    "scrolled": true
   },
   "outputs": [],
   "source": [
    "data.drop_duplicates(subset=['name', 'address'], keep=False)"
   ]
  },
  {
   "cell_type": "code",
   "execution_count": null,
   "metadata": {},
   "outputs": [],
   "source": [
    "data.duplicated(['name', 'address']).sum()"
   ]
  },
  {
   "cell_type": "code",
   "execution_count": null,
   "metadata": {
    "scrolled": true
   },
   "outputs": [],
   "source": [
    "#Код ревьюера\n",
    "data = data.drop_duplicates(subset=['name', 'address'], keep='last')"
   ]
  },
  {
   "cell_type": "code",
   "execution_count": null,
   "metadata": {},
   "outputs": [],
   "source": [
    "#Код ревьюера\n",
    "data[['name', 'address']].duplicated().sum()"
   ]
  },
  {
   "cell_type": "code",
   "execution_count": null,
   "metadata": {},
   "outputs": [],
   "source": [
    "#поменяем тип данных\n",
    "data['seats'] = data['seats'].astype('float')"
   ]
  },
  {
   "cell_type": "code",
   "execution_count": null,
   "metadata": {},
   "outputs": [],
   "source": [
    "#проверка пропусков\n",
    "data.isna().sum()"
   ]
  },
  {
   "cell_type": "code",
   "execution_count": null,
   "metadata": {},
   "outputs": [],
   "source": [
    "#оценим доли пропусков\n",
    "data.isna().sum() / data.shape[0]"
   ]
  },
  {
   "cell_type": "code",
   "execution_count": null,
   "metadata": {},
   "outputs": [],
   "source": [
    "data['seats'].describe()"
   ]
  },
  {
   "cell_type": "code",
   "execution_count": null,
   "metadata": {},
   "outputs": [],
   "source": [
    "#Отрисуем ящики с усами \n",
    "data.boxplot(column=['seats'], grid= False , color='black')"
   ]
  },
  {
   "cell_type": "code",
   "execution_count": null,
   "metadata": {},
   "outputs": [],
   "source": [
    "data['seats'].hist(bins=100,range=(0, 1500))\n",
    "plt.show()"
   ]
  },
  {
   "cell_type": "markdown",
   "metadata": {},
   "source": [
    "Тут мы видим странный выброс данных, максимальное количество мест сильно отличается, необходимо скорректировать "
   ]
  },
  {
   "cell_type": "code",
   "execution_count": null,
   "metadata": {},
   "outputs": [],
   "source": [
    "data['seats'].describe()"
   ]
  },
  {
   "cell_type": "code",
   "execution_count": null,
   "metadata": {},
   "outputs": [],
   "source": [
    "def street(address):\n",
    "    address = address.strip().lower()\n",
    "    address = re.sub(r'\\s*,\\s*', ',', address)\n",
    "    address = re.split(',|\\.', address)\n",
    "    return address[1]"
   ]
  },
  {
   "cell_type": "code",
   "execution_count": null,
   "metadata": {},
   "outputs": [],
   "source": [
    "def is_24_7(time):\n",
    "    if time != time:\n",
    "        return np.nan\n",
    "    elif time == 'ежедневно, круглосуточно':\n",
    "        return True\n",
    "    else:\n",
    "        return False"
   ]
  },
  {
   "cell_type": "code",
   "execution_count": null,
   "metadata": {},
   "outputs": [],
   "source": [
    "#добавим столбец с названиями улиц из столбца с адресом\n",
    "data['street'] = data['address'].apply(street)"
   ]
  },
  {
   "cell_type": "code",
   "execution_count": null,
   "metadata": {},
   "outputs": [],
   "source": [
    "#добавим столбец с обозначением, что заведение работает ежедневно и круглосуточно (24/7)\n",
    "data['is_24/7'] = data['hours'].apply(is_24_7)"
   ]
  },
  {
   "cell_type": "code",
   "execution_count": null,
   "metadata": {},
   "outputs": [],
   "source": [
    "data.head()"
   ]
  },
  {
   "cell_type": "markdown",
   "metadata": {},
   "source": [
    "Вывод:\n",
    "- привели данные к нижнему регистру \n",
    "- дубликатов найдено не было, за исключением тех, что попали в оба столбца 'name'и 'address'\n",
    "- восстановить пропуски причины нет\n",
    "- поменяли тип данных seats\t\n",
    "- ошибока данных была обнаружена в столбце seats, это выбросы, которые мы с корректировали\n",
    "- были добавлены столбцы с названиями улиц и с маркером работы 24/7"
   ]
  },
  {
   "cell_type": "markdown",
   "metadata": {},
   "source": [
    "## Шаг: анализ данных"
   ]
  },
  {
   "cell_type": "markdown",
   "metadata": {},
   "source": [
    "**Какие категории заведений представлены в данных? Исследуйте количество объектов общественного питания по категориям: рестораны, кофейни, пиццерии, бары и так далее. Постройте визуализации. Ответьте на вопрос о распределении заведений по категориям.**"
   ]
  },
  {
   "cell_type": "code",
   "execution_count": null,
   "metadata": {},
   "outputs": [],
   "source": [
    "# готовим данные для графика\n",
    "df_category = pd.DataFrame(data['category'].value_counts()).reset_index()\n",
    "# строим диаграмму с сегментами\n",
    "fig = go.Figure(data=[go.Pie(labels=df_category['index'], # указываем значения, которые появятся на метках сегментов\n",
    "                             values=df_category['category'], # указываем данные, которые отобразятся на графике\n",
    "                             pull = [0.1, 0])]) # добавляем аргумент, который выделит сегмент-лидер на графике\n",
    "fig.update_layout(title='Количество объектов общественного питания по категориям', # указываем заголовок графика\n",
    "                  width=800, # указываем размеры графика\n",
    "                  height=600,\n",
    "                  annotations=[dict(x=1.12, # вручную настраиваем аннотацию легенды\n",
    "                                    y=1.05,\n",
    "                                    text='Категории',\n",
    "                                    showarrow=False)])\n",
    "fig.show() # выводим график"
   ]
  },
  {
   "cell_type": "code",
   "execution_count": null,
   "metadata": {},
   "outputs": [],
   "source": [
    "plt.figure(figsize=(12,6))\n",
    "plt.title('Распределение заведений по категориям',fontsize=15)\n",
    "sns.barplot(data=df_category, x='category', y='index')\n",
    "plt.grid(True) #отразим сетку для удобства\n",
    "plt.xlabel('Количество',fontsize=12)\n",
    "plt.ylabel('Категории',fontsize=12)"
   ]
  },
  {
   "cell_type": "code",
   "execution_count": null,
   "metadata": {},
   "outputs": [],
   "source": [
    "# Вывожу таблицу на экран\n",
    "df_category.columns = ['Тип объекта', 'Количество']\n",
    "display(df_category) "
   ]
  },
  {
   "cell_type": "markdown",
   "metadata": {},
   "source": [
    "*Вывод:*  \n",
    "\n",
    "Наибольшую долю рынка общественного питания в городе Москва занимают кафе - 28.3%, далее идут рестораны (24.3%), кофейни (16.8%), бар, паб (9.1%), пиццерия (7.53%), быстрое питание (7.17%), столовая (3.75%), булочная (3.05%). "
   ]
  },
  {
   "cell_type": "markdown",
   "metadata": {},
   "source": [
    "**Исследуйте количество посадочных мест в местах по категориям: рестораны, кофейни, пиццерии, бары и так далее. Постройте визуализации. Проанализируйте результаты и сделайте выводы.**"
   ]
  },
  {
   "cell_type": "code",
   "execution_count": null,
   "metadata": {},
   "outputs": [],
   "source": [
    "data.groupby(by='category', as_index=False).agg(\n",
    "    min=('seats', 'min'),\n",
    "    max=('seats', 'max'),\n",
    "    mean=('seats', 'mean'),\n",
    "    median=('seats', 'median')\n",
    ")"
   ]
  },
  {
   "cell_type": "code",
   "execution_count": null,
   "metadata": {},
   "outputs": [],
   "source": [
    "mean_number = data.groupby('category').agg({'seats':'mean'}).sort_values(by='seats', ascending=False).reset_index().round()\n",
    "fig = go.Figure(data=[go.Bar(x = mean_number['category'],\n",
    "                             y = mean_number['seats'],\n",
    "                             text= mean_number['seats'],\n",
    "                             textposition = 'outside', name='category'\n",
    "                             )])\n",
    "fig.update_layout(title_text='Среднее кол-во посадочных мест по виду заведений')\n",
    "fig.show()"
   ]
  },
  {
   "cell_type": "markdown",
   "metadata": {},
   "source": [
    "Вывод: В среднем наибольшее количество посадочных мест характерно для баров, пабов и ресторанов - 125 и 122 мест соответственно. Меньше всего посадочных мест в булочных - 89. Это объясняется спецификой работы данных заведений(баров, пабов и ресторанов): определенный временной промежуток довольно большой и чтобы удовлетворить спрос требуется начилие большого количества посадочных мест. А если говорить о пиццериях и булочных, то тут характерна модель \"еда на вынос\", поэтому и большого количество посадочных мест тут не требуется."
   ]
  },
  {
   "cell_type": "markdown",
   "metadata": {},
   "source": [
    "**Рассмотрите и изобразите соотношение сетевых и несетевых заведений в датасете. Каких заведений больше?\n",
    "Какие категории заведений чаще являются сетевыми? Исследуйте данные и ответьте на вопрос графиком.**"
   ]
  },
  {
   "cell_type": "code",
   "execution_count": null,
   "metadata": {},
   "outputs": [],
   "source": [
    "fig = go.Figure(go.Pie(\n",
    "    labels=['Несетевые', 'Сетевые'],\n",
    "    values = data['chain'].value_counts().to_list(), title='Cоотношение сетевых и несетевых заведений'))\n",
    "fig.update_traces(textposition='inside', textinfo='percent+label', pull=[0,0.2])\n",
    "fig.show()"
   ]
  },
  {
   "cell_type": "markdown",
   "metadata": {},
   "source": [
    "Вывод: Несетевых заведений значительно больше, чем сетевых - 61.9% к 38.1% соответственно"
   ]
  },
  {
   "cell_type": "code",
   "execution_count": null,
   "metadata": {},
   "outputs": [],
   "source": [
    "df_chain = data.pivot_table(index=['chain', 'category'], values='seats', aggfunc='count')\n",
    "df_chain"
   ]
  },
  {
   "cell_type": "code",
   "execution_count": null,
   "metadata": {},
   "outputs": [],
   "source": [
    "# строим гистограммы\n",
    "fig = px.histogram(data, # загружаем данные\n",
    "                   x='category', # указываем столбец с данными для оси X\n",
    "                   color='chain', # обозначаем категорию для разделения цветом\n",
    "                   range_x=[0, 10], # ограничиваем ось X\n",
    "                   title='Распределение сетевых и несетевых заведений в датасете', # указываем заголовок\n",
    "                   nbins=1000, # назначаем число корзин\n",
    "                   barmode='overlay') # выбираем «полупрозрачный» тип отображения столбцов\n",
    "fig.update_xaxes(title_text='Категория') # подпись для оси X\n",
    "fig.update_yaxes(title_text='Частота') # подпись для оси Y\n",
    "fig.show() # выводим график"
   ]
  },
  {
   "cell_type": "markdown",
   "metadata": {},
   "source": [
    "Вывод: Чаще всего сетевыми заведениями являются такие категрии как кофейня, пиццерия, булочная"
   ]
  },
  {
   "cell_type": "code",
   "execution_count": null,
   "metadata": {},
   "outputs": [],
   "source": [
    "chain_categories = data.groupby(['category', 'chain']).agg(count=('category', 'count')).sort_values('category').reset_index()\n",
    "chain_categories['percentage'] = data.groupby(['category', 'chain']).size().groupby(level=0).apply(lambda x: 100 * x / float(x.sum())).values\n",
    "chain_categories['chain'] = chain_categories['chain'].apply(lambda x: 'сетевые' if x == 1 else 'несетевые')\n",
    "chain_categories.columns = ['category', 'chain', 'counts', 'percentage']\n",
    "chain_categories"
   ]
  },
  {
   "cell_type": "code",
   "execution_count": null,
   "metadata": {},
   "outputs": [],
   "source": [
    "# назначаем размер графика\n",
    "plt.figure(figsize=(10, 4))\n",
    "# строим столбчатый график средствами seaborn\n",
    "sns.barplot(x='percentage', y='category', data=chain_categories, hue='chain')\n",
    "\n",
    "plt.title('График доли сетевых заведений в разрезе категорий от общего количества заведений')\n",
    "plt.xlabel('Доля')\n",
    "plt.ylabel('Категория заведения')\n",
    "# поворачиваем подписи значений по оси X на 45 градусов\n",
    "plt.xticks(rotation=45)\n",
    "# выбираем положение легенды и указываем размер шрифта\n",
    "plt.legend(loc='lower right', fontsize=10)\n",
    "# добавляем сетку\n",
    "plt.grid()\n",
    "# отображаем график на экране\n",
    "plt.show()"
   ]
  },
  {
   "cell_type": "markdown",
   "metadata": {},
   "source": [
    "<div class=\"alert alert-success\" style=\"border-radius: 10px; box-shadow: 2px 2px 2px; border: 1px solid; padding: 10px \">\n",
    "<b>Комментарий ревьюера v.3</b> \n",
    "    \n",
    "👍 \n",
    "Можно еще вот так :)\n",
    "</div>"
   ]
  },
  {
   "cell_type": "code",
   "execution_count": null,
   "metadata": {},
   "outputs": [],
   "source": [
    "# #Код ревьюера\n",
    "fig = px.bar(chain_categories, \n",
    "             x='counts',\n",
    "             y='category', \n",
    "             text = chain_categories['percentage'].apply(lambda x: '{0:1.2f}%'.format(x)),              \n",
    "             color='chain',\n",
    "             category_orders={\"chain\": [\"сетевые\", \"несетевые\"]},\n",
    "            )\n",
    "fig.update_layout(title='Соотношение сетевых заведений',\n",
    "                   xaxis_title='Количество заведений',\n",
    "                   yaxis_title='Название категорий',\n",
    "                   yaxis={'categoryorder': 'total ascending'}\n",
    "                 )\n",
    "fig.show()"
   ]
  },
  {
   "cell_type": "markdown",
   "metadata": {},
   "source": [
    "**Сгруппируйте данные по названиям заведений и найдите топ-15 популярных сетей в Москве. Под популярностью понимается количество заведений этой сети в регионе. Постройте подходящую для такой информации визуализацию. Знакомы ли вам эти сети? Есть ли какой-то признак, который их объединяет? К какой категории заведений они относятся?**"
   ]
  },
  {
   "cell_type": "code",
   "execution_count": null,
   "metadata": {},
   "outputs": [],
   "source": [
    "# сгруппируем по названиям заведений\n",
    "df_top_name = data.groupby('name')[['name']].count()\n",
    "# переименуем столбец\n",
    "df_top_name.columns = ['name_count']\n",
    "# отсортируем и оставим пятнадцать лидеров\n",
    "df_top_name = df_top_name.reset_index().sort_values(by='name_count', ascending=False).head(15)\n",
    "display(df_top_name)"
   ]
  },
  {
   "cell_type": "code",
   "execution_count": null,
   "metadata": {},
   "outputs": [],
   "source": [
    "data_cat = data[['name', 'category']]\n",
    "top_15_cat = df_top_name.merge(data_cat, how='left', on='name')\n",
    "top_15_cat.pivot_table(index=['name', 'category']).sort_values(by='name_count', ascending=False)"
   ]
  },
  {
   "cell_type": "code",
   "execution_count": null,
   "metadata": {},
   "outputs": [],
   "source": [
    "# строим столбчатую диаграмму \n",
    "fig = px.bar(df_top_name.sort_values(by='name_count', ascending=True), # загружаем данные и заново их сортируем\n",
    "             x='name_count', # указываем столбец с данными для оси X\n",
    "             y='name', # указываем столбец с данными для оси Y\n",
    "             text='name_count' # добавляем аргумент, который отобразит текст с информацией\n",
    "                                # о количестве объявлений внутри столбца графика\n",
    "            )\n",
    "# оформляем график\n",
    "fig.update_layout(title='ТОП-15 популярных сетей в Москве',\n",
    "                   xaxis_title='Количество',\n",
    "                   yaxis_title='Сеть')\n",
    "fig.show() # выводим график"
   ]
  },
  {
   "cell_type": "markdown",
   "metadata": {},
   "source": [
    "Признак, которым объеденены популярные сети это категория заведения, а именно - кафе"
   ]
  },
  {
   "cell_type": "code",
   "execution_count": null,
   "metadata": {},
   "outputs": [],
   "source": [
    "chain_top_15 = data[data['chain'] == 1]\n",
    "chain_top_15 = chain_top_15.groupby(['name', 'category']).agg({'name' : 'count'})\n",
    "chain_top_15.columns = ['count']\n",
    "chain_top_15 = chain_top_15.sort_values('count', ascending = False).reset_index().head(15)\n",
    "chain_top_15.head(15)"
   ]
  },
  {
   "cell_type": "code",
   "execution_count": null,
   "metadata": {},
   "outputs": [],
   "source": [
    "# назначаем размер графика\n",
    "plt.figure(figsize=(20, 8))\n",
    "# строим столбчатый график средствами seaborn\n",
    "sns.barplot(x='count', y='name', data=chain_top_15, hue='category')\n",
    "\n",
    "plt.title('График сетевых заведений по категориям')\n",
    "plt.xlabel('Количество')\n",
    "plt.ylabel('Название сети')\n",
    "# поворачиваем подписи значений по оси X на 45 градусов\n",
    "plt.xticks(rotation=45)\n",
    "# выбираем положение легенды и указываем размер шрифта\n",
    "plt.legend(loc='lower right', fontsize=10)\n",
    "# добавляем сетку\n",
    "plt.grid()\n",
    "# отображаем график на экране\n",
    "plt.show()"
   ]
  },
  {
   "cell_type": "code",
   "execution_count": null,
   "metadata": {},
   "outputs": [],
   "source": [
    "plt.figure(figsize=(20, 10))\n",
    "sns.barplot(x='category', y='count', data=chain_top_15, hue='name')\n",
    "plt.title('График сетевых заведений по категориям')\n",
    "plt.xlabel('Количество')\n",
    "plt.ylabel('Категория заведения')\n",
    "# поворачиваем подписи значений по оси X на 45 градусов\n",
    "plt.xticks(rotation=45)\n",
    "# выбираем положение легенды и указываем размер шрифта\n",
    "plt.legend(loc='upper right', fontsize=10)\n",
    "# добавляем сетку\n",
    "plt.grid()\n",
    "# отображаем график на экране\n",
    "plt.show()"
   ]
  },
  {
   "cell_type": "code",
   "execution_count": null,
   "metadata": {},
   "outputs": [],
   "source": [
    "chain_top_15_category =  (chain_top_15.groupby('category', as_index=False)\n",
    "                              .agg(count_object=('name', 'count')))\n",
    "\n",
    "chain_top_15_category['ratio'] = (chain_top_15_category['count_object'] / \\\n",
    "                                  chain_top_15_category['count_object'].sum()*100).round().astype('int')\n",
    "chain_top_15_category = chain_top_15_category.sort_values(by='ratio', ascending=False)\n",
    "chain_top_15_category"
   ]
  },
  {
   "cell_type": "code",
   "execution_count": null,
   "metadata": {},
   "outputs": [],
   "source": [
    "# назначаем размер графика\n",
    "plt.figure(figsize=(10, 4))\n",
    "# строим столбчатый график средствами seaborn\n",
    "sns.barplot(x='ratio', y='category', data=chain_top_15_category)\n",
    "\n",
    "plt.title('График доли сетевых заведений в разрезе категорий от общего количества заведений')\n",
    "plt.xlabel('Доля')\n",
    "plt.ylabel('Категория заведения')\n",
    "\n",
    "# добавляем сетку\n",
    "plt.grid()\n",
    "# отображаем график на экране\n",
    "plt.show()"
   ]
  },
  {
   "cell_type": "markdown",
   "metadata": {},
   "source": [
    "Вывод: доля сетевых заведений, являющихся топовыми, привалирует в категории кофейня, далее кафе, ресторан, пиццерия и булочная"
   ]
  },
  {
   "cell_type": "markdown",
   "metadata": {},
   "source": [
    "Какие административные районы Москвы присутствуют в датасете? Отобразите общее количество заведений и количество заведений каждой категории по районам. Попробуйте проиллюстрировать эту информацию одним графиком."
   ]
  },
  {
   "cell_type": "code",
   "execution_count": null,
   "metadata": {},
   "outputs": [],
   "source": [
    "data['district'].unique()"
   ]
  },
  {
   "cell_type": "code",
   "execution_count": null,
   "metadata": {},
   "outputs": [],
   "source": [
    "district = data['district'].unique()\n",
    "print(district)"
   ]
  },
  {
   "cell_type": "code",
   "execution_count": null,
   "metadata": {},
   "outputs": [],
   "source": [
    "plt.figure(figsize=(20, 10))\n",
    "sns.countplot(x='district', hue='category', data=data)\n",
    "plt.xticks(rotation=45)\n",
    "plt.title('Распределение категорий по районам')\n",
    "plt.show()"
   ]
  },
  {
   "cell_type": "markdown",
   "metadata": {},
   "source": [
    "Вывод:  лидирующую позицию по количеству заведени всех категорий занимает Центральный административный округ(ЦАО), также мы можем отметить, что в этом округе больше всего ресторанов, тогда как в других округах лидирует категория кафе. Это можно объяснить тем, что в центральной части города обычно собраны самые высокие категории заведений общественного питания. "
   ]
  },
  {
   "cell_type": "markdown",
   "metadata": {},
   "source": [
    "**Визуализируйте распределение средних рейтингов по категориям заведений. Сильно ли различаются усреднённые рейтинги в разных типах общепита?**\n"
   ]
  },
  {
   "cell_type": "code",
   "execution_count": null,
   "metadata": {},
   "outputs": [],
   "source": [
    "# посчитаем медианный рейтинг\n",
    "rating_category = data.groupby('category', as_index=False)['rating'].agg('mean')\n",
    "rating_category"
   ]
  },
  {
   "cell_type": "code",
   "execution_count": null,
   "metadata": {},
   "outputs": [],
   "source": [
    "# строим столбчатую диаграмму \n",
    "fig = px.bar(rating_category.sort_values(by='rating', ascending=True), # загружаем данные и заново их сортируем\n",
    "             x='rating', # указываем столбец с данными для оси X\n",
    "             y='category', # указываем столбец с данными для оси Y\n",
    "             text='rating' # добавляем аргумент, который отобразит текст с информацией\n",
    "                                # о количестве объявлений внутри столбца графика\n",
    "            )\n",
    "# оформляем график\n",
    "fig.update_layout(title='Распределение средних рейтингов по категориям заведений',\n",
    "                   xaxis_title='Рейтинг',\n",
    "                   yaxis_title='Категория')\n",
    "fig.show() # выводим график"
   ]
  },
  {
   "cell_type": "markdown",
   "metadata": {},
   "source": [
    "Вывод: усреднённые рейтинги в разных типах общепита не очень различаются 4.05 и 4.38 - разброс всего то 0.33"
   ]
  },
  {
   "cell_type": "markdown",
   "metadata": {},
   "source": [
    "**Постройте фоновую картограмму (хороплет) со средним рейтингом заведений каждого района. Границы районов Москвы, которые встречаются в датасете, хранятся в файле admin_level_geomap.geojson (скачать файл для локальной работы).**"
   ]
  },
  {
   "cell_type": "code",
   "execution_count": null,
   "metadata": {},
   "outputs": [],
   "source": [
    "rating_df = data.groupby('district', as_index=False)['rating'].agg('median')\n",
    "rating_df"
   ]
  },
  {
   "cell_type": "code",
   "execution_count": null,
   "metadata": {},
   "outputs": [],
   "source": [
    "# подключаем модуль для работы с JSON-форматом\n",
    "import json\n",
    "\n",
    "# читаем файл и сохраняем в переменной\n",
    "with open('/datasets/admin_level_geomap.geojson', 'r') as f:\n",
    "    geo_json = json.load(f)\n",
    "\n",
    "print(json.dumps(geo_json, indent=2, ensure_ascii=False, sort_keys=True))"
   ]
  },
  {
   "cell_type": "code",
   "execution_count": null,
   "metadata": {},
   "outputs": [],
   "source": [
    "# загружаем JSON-файл с границами округов Москвы\n",
    "state_geo = '/datasets/admin_level_geomap.geojson'\n",
    "# moscow_lat - широта центра Москвы, moscow_lng - долгота центра Москвы\n",
    "moscow_lat, moscow_lng = 55.751244, 37.618423\n",
    "\n",
    "# создаём карту Москвы\n",
    "m = Map(location=[moscow_lat, moscow_lng], zoom_start=10)\n",
    "\n",
    "# создаём хороплет с помощью конструктора Choropleth и добавляем его на карту\n",
    "Choropleth(\n",
    "    geo_data=state_geo,\n",
    "    data=rating_df,\n",
    "    columns=['district', 'rating'],\n",
    "    key_on='feature.name',\n",
    "    fill_color='RdPu',\n",
    "    fill_opacity=0.8,\n",
    "    legend_name='Медианный рейтинг заведений по районам',\n",
    ").add_to(m)\n",
    "\n",
    "# выводим карту\n",
    "m"
   ]
  },
  {
   "cell_type": "markdown",
   "metadata": {},
   "source": [
    "**Отобразите все заведения датасета на карте с помощью кластеров средствами библиотеки folium.**"
   ]
  },
  {
   "cell_type": "code",
   "execution_count": null,
   "metadata": {},
   "outputs": [],
   "source": [
    "# moscow_lat - широта центра Москвы, moscow_lng - долгота центра Москвы\n",
    "moscow_lat, moscow_lng = 55.751244, 37.618423\n",
    "\n",
    "# создаём карту Москвы\n",
    "m = Map(location=[moscow_lat, moscow_lng], zoom_start=10)\n",
    "# создаём пустой кластер, добавляем его на карту\n",
    "marker_cluster = MarkerCluster().add_to(m)\n",
    "\n",
    "# пишем функцию, которая принимает строку датафрейма,\n",
    "# создаёт маркер в текущей точке и добавляет его в кластер marker_cluster\n",
    "def create_clusters(row):\n",
    "    Marker(\n",
    "        [row['lat'], row['lng']],\n",
    "        popup=f\"{row['name']} {row['rating']}\",\n",
    "    ).add_to(marker_cluster)\n",
    "\n",
    "# применяем функцию create_clusters() к каждой строке датафрейма\n",
    "data.apply(create_clusters, axis=1)\n",
    "\n",
    "# выводим карту\n",
    "m"
   ]
  },
  {
   "cell_type": "markdown",
   "metadata": {},
   "source": [
    "**Найдите топ-15 улиц по количеству заведений. Постройте график распределения количества заведений и их категорий по этим улицам. Попробуйте проиллюстрировать эту информацию одним графиком.**"
   ]
  },
  {
   "cell_type": "code",
   "execution_count": null,
   "metadata": {},
   "outputs": [],
   "source": [
    "#топ 15 улиц\n",
    "top_street = data.pivot_table(index = 'street', values = 'name', aggfunc = 'count')\n",
    "top_15 = top_street.sort_values(by='name', ascending=False).head(15).reset_index()\n",
    "top_15['category'] = data['category']"
   ]
  },
  {
   "cell_type": "code",
   "execution_count": null,
   "metadata": {},
   "outputs": [],
   "source": [
    "top_15"
   ]
  },
  {
   "cell_type": "code",
   "execution_count": null,
   "metadata": {},
   "outputs": [],
   "source": [
    "plt.figure(figsize=(20, 10))\n",
    "sns.barplot(x='street', y='name', data=top_15, hue='category')\n",
    "plt.title('График топ-15 улиц по количеству заведений по категориям')\n",
    "plt.xlabel('Улицы')\n",
    "plt.ylabel('Количество')\n",
    "# поворачиваем подписи значений по оси X на 45 градусов\n",
    "plt.xticks(rotation=45)\n",
    "# выбираем положение легенды и указываем размер шрифта\n",
    "plt.legend(loc='upper right', fontsize=10)\n",
    "# добавляем сетку\n",
    "plt.grid()\n",
    "# отображаем график на экране\n",
    "plt.show()"
   ]
  },
  {
   "cell_type": "markdown",
   "metadata": {},
   "source": [
    "Вывод: больше всего заведений на пр. Мира, ул. Профсоюзной. пр. Вернадского и Ленинский пр., обусловлено это тем что эти улицы очень длинные. А самые популярные категории заведений кафе и ресторан."
   ]
  },
  {
   "cell_type": "code",
   "execution_count": null,
   "metadata": {},
   "outputs": [],
   "source": [
    "street.plot(kind='bar',figsize=(12, 8))\n"
   ]
  },
  {
   "cell_type": "markdown",
   "metadata": {},
   "source": [
    "**Найдите улицы, на которых находится только один объект общепита. Что можно сказать об этих заведениях?**"
   ]
  },
  {
   "cell_type": "code",
   "execution_count": null,
   "metadata": {},
   "outputs": [],
   "source": [
    "one_cafe = data.groupby('street').agg({'name':'count'}).reset_index().query('name == 1')\n",
    "one_cafe"
   ]
  },
  {
   "cell_type": "markdown",
   "metadata": {},
   "source": [
    "Вывод: Можно предположить,  что  улицами с одним объектом общепита являются непопулярные улицы с низким трафиком."
   ]
  },
  {
   "cell_type": "markdown",
   "metadata": {},
   "source": [
    "**Значения средних чеков заведений хранятся в столбце middle_avg_bill. Эти числа показывают примерную стоимость заказа в рублях, которая чаще всего выражена диапазоном. Посчитайте медиану этого столбца для каждого района. Используйте это значение в качестве ценового индикатора района. Постройте фоновую картограмму (хороплет) с полученными значениями для каждого района. Проанализируйте цены в центральном административном округе и других. Как удалённость от центра влияет на цены в заведениях?**"
   ]
  },
  {
   "cell_type": "code",
   "execution_count": null,
   "metadata": {},
   "outputs": [],
   "source": [
    "\n",
    "# Подготовим таблицу медианного значения стоимости заказов в разрезе округов\n",
    "district_map_price = data.groupby('district', as_index=False)['middle_avg_bill'].agg('median').round(1)"
   ]
  },
  {
   "cell_type": "code",
   "execution_count": null,
   "metadata": {},
   "outputs": [],
   "source": [
    "# Создаем горизонтальный столбчатый график\n",
    "fig = px.bar(district_map_price, x='middle_avg_bill', y='district', orientation='h',\n",
    "             color='middle_avg_bill', text='middle_avg_bill')\n",
    "\n",
    "fig.update_layout(title='Медиана среднего чека в рублях по округам',\n",
    "                  xaxis_title='Средний чек в рублях. Медиана для адм. округа',\n",
    "                  yaxis_title='Адм. округа',\n",
    "                  showlegend=False)\n",
    "\n",
    "fig.update_yaxes(categoryorder='total ascending') \n",
    "\n",
    "fig.show()"
   ]
  },
  {
   "cell_type": "code",
   "execution_count": null,
   "metadata": {},
   "outputs": [],
   "source": [
    "# создаём карту Москвы\n",
    "m = Map(location=[moscow_lat, moscow_lng], zoom_start=10)\n",
    "\n",
    "# создаём хороплет с помощью конструктора Choropleth и добавляем его на карту\n",
    "Choropleth(\n",
    "    geo_data=state_geo,\n",
    "    data=district_map_price,\n",
    "    columns=['district', 'middle_avg_bill'],\n",
    "    key_on='feature.name',\n",
    "    fill_color='RdPu',\n",
    "    fill_opacity=0.5,\n",
    "    legend_name='Чек заведений по районам',\n",
    ").add_to(m)\n",
    "\n",
    "# выводим карту\n",
    "m"
   ]
  },
  {
   "cell_type": "markdown",
   "metadata": {},
   "source": [
    "Вывод: районы с самым высоким средним чеком - ЦАО и ЗАО. Удаленность от центра влияет на средний чек, чем дальше, тем чек ниже "
   ]
  },
  {
   "cell_type": "markdown",
   "metadata": {},
   "source": [
    "**Вывод по анализу данных:**  \n",
    "\n",
    "Мы выяснили, аибольшую долю рынка общественного питания в городе Москва занимают кафе - 28.3%, далее идут рестораны (24.3%), кофейни (16.8%), бар, паб (9.1%), пиццерия (7.53%), быстрое питание (7.17%), столовая (3.75%), булочная (3.05%). \n",
    "\n",
    "При этом несетевых заведений значительно больше, чем сетевых - 61.9% к 38.1% соответственно.\n",
    "Доля сетевых заведений, являющихся топовыми, привалирует в категории кофейня, далее кафе, ресторан, пиццерия и булочная\n",
    "\n",
    "В среднем наибольшее количество посадочных мест характерно для баров, пабов и ресторанов - 125 и 122 мест соответственно. Меньше всего посадочных мест в булочных - 89. Это объясняется спецификой работы данных заведений(баров, пабов и ресторанов): определенный временной промежуток довольно большой и чтобы удовлетворить спрос требуется начилие большого количества посадочных мест. А если говорить о пиццериях и булочных, то тут характерна модель \"еда на вынос\", поэтому и большого количество посадочных мест тут не требуется.\n",
    "\n",
    "Лидирующую позицию по количеству заведени всех категорий занимает Центральный административный округ(ЦАО), также мы можем отметить, что в этом округе больше всего ресторанов, тогда как в других округах лидирует категория кафе. Это можно объяснить тем, что в центральной части города обычно собраны самые высокие категории заведений общественного питания. \n",
    "\n",
    "Усреднённые рейтинги в разных типах общепита не очень различаются 4.05 и 4.38 - разброс всего то 0.33\n",
    "\n",
    "Улицами с одним объектом общепита являются непопулярные улицы с низким трафиком.\n",
    "\n",
    "Больше всего заведений на пр. Мира, ул. Профсоюзной. пр. Вернадского и Ленинский пр., обусловлено это тем что эти улицы очень длинные. А самые популярные категории заведений кафе и ресторан.\n",
    "\n",
    "Районы с самым высоким средним чеком - ЦАО и ЗАО. Удаленность от центра влияет на средний чек, чем дальше, тем чек ниже \n",
    "\n"
   ]
  },
  {
   "cell_type": "markdown",
   "metadata": {},
   "source": [
    "## Шаг: детализация исследования: открытие кофейни"
   ]
  },
  {
   "cell_type": "markdown",
   "metadata": {},
   "source": [
    "Шаг 4. Детализируем исследование: открытие кофейни\n",
    "Основателям фонда «Shut Up and Take My Money» не даёт покоя успех сериала «Друзья». Их мечта — открыть такую же крутую и доступную, как «Central Perk», кофейню в Москве. Будем считать, что заказчики не боятся конкуренции в этой сфере, ведь кофеен в больших городах уже достаточно. Попробуйте определить, осуществима ли мечта клиентов.  \n",
    "\n",
    "Ответьте на следующие вопросы:\n",
    "Сколько всего кофеен в датасете? В каких районах их больше всего, каковы особенности их расположения?\n",
    "Есть ли круглосуточные кофейни?\n",
    "Какие у кофеен рейтинги? Как они распределяются по районам?\n",
    "На какую стоимость чашки капучино стоит ориентироваться при открытии и почему?\n",
    "По желанию вы можете расширить список вопросов для исследования, добавив собственные.\n",
    "Постройте визуализации. Попробуйте дать рекомендацию для открытия нового заведения. Это творческое задание: здесь нет правильного или неправильного ответа, но ваше решение должно быть чем-то обосновано. Объяснить свою рекомендацию можно текстом с описанием или маркерами на географической карте."
   ]
  },
  {
   "cell_type": "code",
   "execution_count": null,
   "metadata": {},
   "outputs": [],
   "source": [
    "# создадим отдельную таблицу только с кофейнями\n",
    "coffee_data = data[data['category'] == 'кофейня']"
   ]
  },
  {
   "cell_type": "code",
   "execution_count": null,
   "metadata": {},
   "outputs": [],
   "source": [
    "coffee_house = data.query('category == \"кофейня\"')\n",
    "print('Всего кофеен в датасете', len(coffee_house))\n",
    "\n"
   ]
  },
  {
   "cell_type": "code",
   "execution_count": null,
   "metadata": {},
   "outputs": [],
   "source": [
    "cofe_cup = coffee_data.groupby('district', as_index=False)['name'].agg('count')"
   ]
  },
  {
   "cell_type": "code",
   "execution_count": null,
   "metadata": {},
   "outputs": [],
   "source": [
    "state_geo = '/datasets/admin_level_geomap.geojson'\n",
    "moscow_lat, moscow_lng = 55.751244, 37.618423\n",
    "m = Map(location=[moscow_lat, moscow_lng], zoom_start=10)\n",
    "Choropleth(\n",
    "    geo_data=state_geo,\n",
    "    data=cofe_cup,\n",
    "    columns=['district', 'name'],\n",
    "    key_on='feature.name',\n",
    "    fill_color='RdPu',\n",
    "    fill_opacity=0.8,\n",
    "    legend_name='Количество кофеен по районам.',\n",
    ").add_to(m)\n",
    "m"
   ]
  },
  {
   "cell_type": "code",
   "execution_count": null,
   "metadata": {},
   "outputs": [],
   "source": [
    "okrug = coffee_data.groupby('district', as_index=False)['is_24/7'].agg('sum')"
   ]
  },
  {
   "cell_type": "code",
   "execution_count": null,
   "metadata": {},
   "outputs": [],
   "source": [
    "state_geo = '/datasets/admin_level_geomap.geojson'\n",
    "moscow_lat, moscow_lng = 55.751244, 37.618423\n",
    "m = Map(location=[moscow_lat, moscow_lng], zoom_start=10)\n",
    "Choropleth(\n",
    "    geo_data=state_geo,\n",
    "    data=okrug,\n",
    "    columns=['district', 'is_24/7'],\n",
    "    key_on='feature.name',\n",
    "    fill_color='RdPu',\n",
    "    fill_opacity=0.8,\n",
    "    legend_name='Количество круглосуточных  по кофеен.',\n",
    ").add_to(m)\n",
    "m"
   ]
  },
  {
   "cell_type": "code",
   "execution_count": null,
   "metadata": {},
   "outputs": [],
   "source": [
    "site = coffee_data.groupby('district', as_index=False)['seats'].agg('median')"
   ]
  },
  {
   "cell_type": "code",
   "execution_count": null,
   "metadata": {},
   "outputs": [],
   "source": [
    "state_geo = '/datasets/admin_level_geomap.geojson'\n",
    "moscow_lat, moscow_lng = 55.751244, 37.618423\n",
    "m = Map(location=[moscow_lat, moscow_lng], zoom_start=10)\n",
    "Choropleth(\n",
    "    geo_data=state_geo,\n",
    "    data=site,\n",
    "    columns=['district', 'seats'],\n",
    "    key_on='feature.name',\n",
    "    fill_color='RdPu',\n",
    "    fill_opacity=0.8,\n",
    "    legend_name='Количество посадочных мест.',\n",
    ").add_to(m)\n",
    "m"
   ]
  },
  {
   "cell_type": "code",
   "execution_count": null,
   "metadata": {},
   "outputs": [],
   "source": [
    "one_cup = coffee_data.groupby('district', as_index=False)['middle_coffee_cup'].agg('median')"
   ]
  },
  {
   "cell_type": "code",
   "execution_count": null,
   "metadata": {},
   "outputs": [],
   "source": [
    "state_geo = '/datasets/admin_level_geomap.geojson'\n",
    "moscow_lat, moscow_lng = 55.751244, 37.618423\n",
    "m = Map(location=[moscow_lat, moscow_lng], zoom_start=10)\n",
    "Choropleth(\n",
    "    geo_data=state_geo,\n",
    "    data=one_cup,\n",
    "    columns=['district', 'middle_coffee_cup'],\n",
    "    key_on='feature.name',\n",
    "    fill_color='RdPu',\n",
    "    fill_opacity=0.8,\n",
    "    legend_name='Медианная цена чашки кофе.',\n",
    ").add_to(m)\n",
    "m"
   ]
  },
  {
   "cell_type": "code",
   "execution_count": null,
   "metadata": {},
   "outputs": [],
   "source": [
    "data['rating'].describe()"
   ]
  },
  {
   "cell_type": "code",
   "execution_count": null,
   "metadata": {},
   "outputs": [],
   "source": [
    "# назначаем классический стиль для графика с помощью matplotlib\n",
    "plt.style.use('classic')\n",
    "# строим гистограмму для столбца total_income, добавив график кривой KDE\n",
    "sns.histplot(x='rating', data=data, kde=True)\n",
    "# ограничиваем ось X для наглядности\n",
    "plt.xlim(1, 5)\n",
    "# указываем заголовок графика и подписи осей средствами matplotlib\n",
    "plt.title('Распределение рейтингов')\n",
    "# отображаем график на экране\n",
    "plt.show()"
   ]
  },
  {
   "cell_type": "code",
   "execution_count": null,
   "metadata": {},
   "outputs": [],
   "source": [
    "# используем стиль dark из библиотеки seaborn\n",
    "sns.set_style('dark')\n",
    "# назначаем размер графика\n",
    "plt.figure(figsize=(10, 5))\n",
    "# строим столбчатый график средствами seaborn\n",
    "sns.barplot(x='category', y='rating', data=data)\n",
    "# формируем заголовок графика и подписи осей средствами matplotlib\n",
    "plt.title('График рейтингов зависимости от категории')\n",
    "plt.xlabel('Категория')\n",
    "plt.ylabel('Рейтинг')\n",
    "# поворачиваем подписи значений по оси X на 45 градусов\n",
    "plt.xticks(rotation=45)\n",
    "\n",
    "# добавляем сетку\n",
    "plt.grid()\n",
    "# отображаем график на экране\n",
    "plt.show()"
   ]
  },
  {
   "cell_type": "markdown",
   "metadata": {},
   "source": [
    "Рекомендации:\n",
    "\n",
    "На рынке более популярны кафе, потому именно такой тип заведения и рекомендовать со средним количеством посадочных мест на 40 персон. Касаемо района и улиц, то предполагаем что объект лучше размещать на одной из топ-15 улиц, ведь не спроста на этих улицах наибольшее количество объектов. Учитывая, что мечта инвесторов — открыть такую же доступную, как «Central Perk», кофейню в Москве, то  стоимость чашки капучино может быть -  140 - 160р. \n",
    "\n"
   ]
  },
  {
   "cell_type": "markdown",
   "metadata": {},
   "source": [
    "Презентация: <https://disk.yandex.ru/d/97hwLCFvM2U4ZQ>"
   ]
  }
 ],
 "metadata": {
  "ExecuteTimeLog": [
   {
    "duration": 1339,
    "start_time": "2023-05-18T12:36:46.732Z"
   },
   {
    "duration": 258,
    "start_time": "2023-05-18T12:36:48.072Z"
   },
   {
    "duration": 24,
    "start_time": "2023-05-18T12:37:29.581Z"
   },
   {
    "duration": 5,
    "start_time": "2023-05-18T12:43:01.279Z"
   },
   {
    "duration": 80,
    "start_time": "2023-05-18T12:43:07.354Z"
   },
   {
    "duration": 13,
    "start_time": "2023-05-18T12:43:08.283Z"
   },
   {
    "duration": 47,
    "start_time": "2023-05-21T17:05:18.428Z"
   },
   {
    "duration": 1286,
    "start_time": "2023-05-21T17:05:25.710Z"
   },
   {
    "duration": 240,
    "start_time": "2023-05-21T17:05:26.998Z"
   },
   {
    "duration": 14,
    "start_time": "2023-05-21T17:05:27.240Z"
   },
   {
    "duration": 15,
    "start_time": "2023-05-21T17:05:27.256Z"
   },
   {
    "duration": 9,
    "start_time": "2023-05-21T17:18:12.610Z"
   },
   {
    "duration": 13,
    "start_time": "2023-05-21T18:16:53.471Z"
   },
   {
    "duration": 1164,
    "start_time": "2023-05-21T18:17:01.747Z"
   },
   {
    "duration": 79,
    "start_time": "2023-05-21T18:17:02.913Z"
   },
   {
    "duration": 18,
    "start_time": "2023-05-21T18:17:02.994Z"
   },
   {
    "duration": 23,
    "start_time": "2023-05-21T18:17:03.014Z"
   },
   {
    "duration": 7,
    "start_time": "2023-05-21T18:17:03.039Z"
   },
   {
    "duration": 3,
    "start_time": "2023-05-21T18:17:03.048Z"
   },
   {
    "duration": 4,
    "start_time": "2023-05-21T18:17:03.078Z"
   },
   {
    "duration": 289,
    "start_time": "2023-05-21T18:17:03.083Z"
   },
   {
    "duration": 0,
    "start_time": "2023-05-21T18:17:03.374Z"
   },
   {
    "duration": 3,
    "start_time": "2023-05-21T18:18:26.479Z"
   },
   {
    "duration": 91,
    "start_time": "2023-05-21T18:18:27.494Z"
   },
   {
    "duration": 14,
    "start_time": "2023-05-21T18:18:27.892Z"
   },
   {
    "duration": 15,
    "start_time": "2023-05-21T18:18:28.728Z"
   },
   {
    "duration": 10,
    "start_time": "2023-05-21T18:18:29.167Z"
   },
   {
    "duration": 3,
    "start_time": "2023-05-21T18:18:29.671Z"
   },
   {
    "duration": 4,
    "start_time": "2023-05-21T18:18:30.559Z"
   },
   {
    "duration": 47,
    "start_time": "2023-05-21T18:18:31.304Z"
   },
   {
    "duration": 7,
    "start_time": "2023-05-21T18:18:33.451Z"
   },
   {
    "duration": 19,
    "start_time": "2023-05-21T18:18:48.512Z"
   },
   {
    "duration": 11,
    "start_time": "2023-05-21T18:23:28.173Z"
   },
   {
    "duration": 26,
    "start_time": "2023-05-21T18:23:50.466Z"
   },
   {
    "duration": 10,
    "start_time": "2023-05-21T18:23:54.131Z"
   },
   {
    "duration": 3,
    "start_time": "2023-05-21T18:23:57.259Z"
   },
   {
    "duration": 4,
    "start_time": "2023-05-21T18:23:57.579Z"
   },
   {
    "duration": 40,
    "start_time": "2023-05-21T18:23:57.911Z"
   },
   {
    "duration": 5,
    "start_time": "2023-05-21T18:23:58.188Z"
   },
   {
    "duration": 16,
    "start_time": "2023-05-21T18:23:58.478Z"
   },
   {
    "duration": 26,
    "start_time": "2023-05-21T18:24:43.758Z"
   },
   {
    "duration": 10,
    "start_time": "2023-05-21T18:24:45.320Z"
   },
   {
    "duration": 3,
    "start_time": "2023-05-21T18:24:46.071Z"
   },
   {
    "duration": 4,
    "start_time": "2023-05-21T18:24:47.929Z"
   },
   {
    "duration": 39,
    "start_time": "2023-05-21T18:24:48.279Z"
   },
   {
    "duration": 8,
    "start_time": "2023-05-21T18:24:48.573Z"
   },
   {
    "duration": 17,
    "start_time": "2023-05-21T18:24:48.883Z"
   },
   {
    "duration": 32,
    "start_time": "2023-05-21T18:25:34.180Z"
   },
   {
    "duration": 10,
    "start_time": "2023-05-21T18:25:34.588Z"
   },
   {
    "duration": 4,
    "start_time": "2023-05-21T18:25:34.888Z"
   },
   {
    "duration": 3,
    "start_time": "2023-05-21T18:25:35.179Z"
   },
   {
    "duration": 56,
    "start_time": "2023-05-21T18:25:35.530Z"
   },
   {
    "duration": 7,
    "start_time": "2023-05-21T18:25:35.804Z"
   },
   {
    "duration": 15,
    "start_time": "2023-05-21T18:25:36.107Z"
   },
   {
    "duration": 13,
    "start_time": "2023-05-21T20:31:09.507Z"
   },
   {
    "duration": 9,
    "start_time": "2023-05-21T20:31:10.715Z"
   },
   {
    "duration": 1185,
    "start_time": "2023-05-21T20:31:18.213Z"
   },
   {
    "duration": 80,
    "start_time": "2023-05-21T20:31:19.400Z"
   },
   {
    "duration": 15,
    "start_time": "2023-05-21T20:31:19.482Z"
   },
   {
    "duration": 16,
    "start_time": "2023-05-21T20:31:19.499Z"
   },
   {
    "duration": 61,
    "start_time": "2023-05-21T20:31:19.517Z"
   },
   {
    "duration": 9,
    "start_time": "2023-05-21T20:31:19.580Z"
   },
   {
    "duration": 7,
    "start_time": "2023-05-21T20:31:19.591Z"
   },
   {
    "duration": 4,
    "start_time": "2023-05-21T20:31:19.600Z"
   },
   {
    "duration": 46,
    "start_time": "2023-05-21T20:31:19.606Z"
   },
   {
    "duration": 29,
    "start_time": "2023-05-21T20:31:19.655Z"
   },
   {
    "duration": 25,
    "start_time": "2023-05-21T20:31:19.685Z"
   },
   {
    "duration": 103,
    "start_time": "2023-05-21T20:31:19.712Z"
   },
   {
    "duration": 0,
    "start_time": "2023-05-21T20:31:19.817Z"
   },
   {
    "duration": 20,
    "start_time": "2023-05-21T20:31:26.505Z"
   },
   {
    "duration": 10,
    "start_time": "2023-05-21T20:32:13.906Z"
   },
   {
    "duration": 9,
    "start_time": "2023-05-21T20:32:21.646Z"
   },
   {
    "duration": 135,
    "start_time": "2023-05-21T20:38:44.915Z"
   },
   {
    "duration": 12,
    "start_time": "2023-05-21T20:43:15.091Z"
   },
   {
    "duration": 27,
    "start_time": "2023-05-21T20:44:43.087Z"
   },
   {
    "duration": 1187,
    "start_time": "2023-05-21T20:45:03.753Z"
   },
   {
    "duration": 82,
    "start_time": "2023-05-21T20:45:04.941Z"
   },
   {
    "duration": 15,
    "start_time": "2023-05-21T20:45:05.024Z"
   },
   {
    "duration": 21,
    "start_time": "2023-05-21T20:45:05.041Z"
   },
   {
    "duration": 43,
    "start_time": "2023-05-21T20:45:05.064Z"
   },
   {
    "duration": 122,
    "start_time": "2023-05-21T20:45:05.109Z"
   },
   {
    "duration": 0,
    "start_time": "2023-05-21T20:45:05.233Z"
   },
   {
    "duration": 0,
    "start_time": "2023-05-21T20:45:05.234Z"
   },
   {
    "duration": 0,
    "start_time": "2023-05-21T20:45:05.236Z"
   },
   {
    "duration": 0,
    "start_time": "2023-05-21T20:45:05.237Z"
   },
   {
    "duration": 0,
    "start_time": "2023-05-21T20:45:05.238Z"
   },
   {
    "duration": 0,
    "start_time": "2023-05-21T20:45:05.239Z"
   },
   {
    "duration": 0,
    "start_time": "2023-05-21T20:45:05.241Z"
   },
   {
    "duration": 0,
    "start_time": "2023-05-21T20:45:05.242Z"
   },
   {
    "duration": 4,
    "start_time": "2023-05-21T20:45:40.043Z"
   },
   {
    "duration": 9,
    "start_time": "2023-05-21T20:45:43.983Z"
   },
   {
    "duration": 10,
    "start_time": "2023-05-21T20:45:45.234Z"
   },
   {
    "duration": 3,
    "start_time": "2023-05-21T20:45:45.959Z"
   },
   {
    "duration": 3,
    "start_time": "2023-05-21T20:45:46.541Z"
   },
   {
    "duration": 43,
    "start_time": "2023-05-21T20:45:47.048Z"
   },
   {
    "duration": 6,
    "start_time": "2023-05-21T20:45:47.486Z"
   },
   {
    "duration": 16,
    "start_time": "2023-05-21T20:45:47.799Z"
   },
   {
    "duration": 150,
    "start_time": "2023-05-21T20:45:49.887Z"
   },
   {
    "duration": 19,
    "start_time": "2023-05-21T20:49:09.934Z"
   },
   {
    "duration": 20,
    "start_time": "2023-05-21T20:49:17.499Z"
   },
   {
    "duration": 13,
    "start_time": "2023-05-21T20:51:07.443Z"
   },
   {
    "duration": 51,
    "start_time": "2023-05-22T06:11:20.043Z"
   },
   {
    "duration": 1222,
    "start_time": "2023-05-22T06:14:17.722Z"
   },
   {
    "duration": 122,
    "start_time": "2023-05-22T06:14:18.946Z"
   },
   {
    "duration": 13,
    "start_time": "2023-05-22T06:14:19.070Z"
   },
   {
    "duration": 27,
    "start_time": "2023-05-22T06:14:19.085Z"
   },
   {
    "duration": 25,
    "start_time": "2023-05-22T06:14:19.114Z"
   },
   {
    "duration": 2,
    "start_time": "2023-05-22T06:14:19.141Z"
   },
   {
    "duration": 9,
    "start_time": "2023-05-22T06:14:19.144Z"
   },
   {
    "duration": 25,
    "start_time": "2023-05-22T06:14:19.154Z"
   },
   {
    "duration": 3,
    "start_time": "2023-05-22T06:14:19.180Z"
   },
   {
    "duration": 19,
    "start_time": "2023-05-22T06:14:19.185Z"
   },
   {
    "duration": 41,
    "start_time": "2023-05-22T06:14:19.205Z"
   },
   {
    "duration": 5,
    "start_time": "2023-05-22T06:14:19.247Z"
   },
   {
    "duration": 16,
    "start_time": "2023-05-22T06:14:19.253Z"
   },
   {
    "duration": 165,
    "start_time": "2023-05-22T06:14:19.270Z"
   },
   {
    "duration": 17,
    "start_time": "2023-05-22T06:14:19.436Z"
   },
   {
    "duration": 54,
    "start_time": "2023-05-22T06:14:19.454Z"
   },
   {
    "duration": 148,
    "start_time": "2023-05-22T06:14:19.509Z"
   },
   {
    "duration": 18,
    "start_time": "2023-05-22T06:16:17.317Z"
   },
   {
    "duration": 13,
    "start_time": "2023-05-22T06:16:40.887Z"
   },
   {
    "duration": 13,
    "start_time": "2023-05-22T06:20:35.296Z"
   },
   {
    "duration": 12,
    "start_time": "2023-05-22T06:21:09.450Z"
   },
   {
    "duration": 9,
    "start_time": "2023-05-22T06:24:51.387Z"
   },
   {
    "duration": 1160,
    "start_time": "2023-05-22T06:25:25.185Z"
   },
   {
    "duration": 81,
    "start_time": "2023-05-22T06:25:26.348Z"
   },
   {
    "duration": 13,
    "start_time": "2023-05-22T06:25:26.431Z"
   },
   {
    "duration": 24,
    "start_time": "2023-05-22T06:25:26.445Z"
   },
   {
    "duration": 45,
    "start_time": "2023-05-22T06:25:26.471Z"
   },
   {
    "duration": 10,
    "start_time": "2023-05-22T06:25:26.517Z"
   },
   {
    "duration": 23,
    "start_time": "2023-05-22T06:25:26.528Z"
   },
   {
    "duration": 33,
    "start_time": "2023-05-22T06:25:26.552Z"
   },
   {
    "duration": 8,
    "start_time": "2023-05-22T06:25:26.588Z"
   },
   {
    "duration": 56,
    "start_time": "2023-05-22T06:25:26.597Z"
   },
   {
    "duration": 64,
    "start_time": "2023-05-22T06:25:26.655Z"
   },
   {
    "duration": 6,
    "start_time": "2023-05-22T06:25:26.720Z"
   },
   {
    "duration": 21,
    "start_time": "2023-05-22T06:25:26.727Z"
   },
   {
    "duration": 173,
    "start_time": "2023-05-22T06:25:26.750Z"
   },
   {
    "duration": 19,
    "start_time": "2023-05-22T06:25:26.924Z"
   },
   {
    "duration": 50,
    "start_time": "2023-05-22T06:25:26.944Z"
   },
   {
    "duration": 18,
    "start_time": "2023-05-22T06:25:26.995Z"
   },
   {
    "duration": 377,
    "start_time": "2023-05-22T06:25:27.015Z"
   },
   {
    "duration": 102,
    "start_time": "2023-05-22T06:25:56.898Z"
   },
   {
    "duration": 89,
    "start_time": "2023-05-22T06:26:10.033Z"
   },
   {
    "duration": 88,
    "start_time": "2023-05-22T06:26:51.668Z"
   },
   {
    "duration": 97,
    "start_time": "2023-05-22T06:27:09.937Z"
   },
   {
    "duration": 157,
    "start_time": "2023-05-22T06:39:46.284Z"
   },
   {
    "duration": 20,
    "start_time": "2023-05-22T06:40:48.209Z"
   },
   {
    "duration": 15,
    "start_time": "2023-05-22T06:41:12.557Z"
   },
   {
    "duration": 1113,
    "start_time": "2023-05-22T06:42:40.397Z"
   },
   {
    "duration": 72,
    "start_time": "2023-05-22T06:42:41.512Z"
   },
   {
    "duration": 15,
    "start_time": "2023-05-22T06:42:41.585Z"
   },
   {
    "duration": 27,
    "start_time": "2023-05-22T06:42:41.601Z"
   },
   {
    "duration": 29,
    "start_time": "2023-05-22T06:42:41.630Z"
   },
   {
    "duration": 3,
    "start_time": "2023-05-22T06:42:41.660Z"
   },
   {
    "duration": 23,
    "start_time": "2023-05-22T06:42:41.664Z"
   },
   {
    "duration": 11,
    "start_time": "2023-05-22T06:42:41.689Z"
   },
   {
    "duration": 3,
    "start_time": "2023-05-22T06:42:41.701Z"
   },
   {
    "duration": 23,
    "start_time": "2023-05-22T06:42:41.705Z"
   },
   {
    "duration": 40,
    "start_time": "2023-05-22T06:42:41.729Z"
   },
   {
    "duration": 5,
    "start_time": "2023-05-22T06:42:41.770Z"
   },
   {
    "duration": 19,
    "start_time": "2023-05-22T06:42:41.776Z"
   },
   {
    "duration": 158,
    "start_time": "2023-05-22T06:42:41.797Z"
   },
   {
    "duration": 18,
    "start_time": "2023-05-22T06:42:41.956Z"
   },
   {
    "duration": 19,
    "start_time": "2023-05-22T06:42:41.975Z"
   },
   {
    "duration": 20,
    "start_time": "2023-05-22T06:42:41.996Z"
   },
   {
    "duration": 346,
    "start_time": "2023-05-22T06:42:42.018Z"
   },
   {
    "duration": 25,
    "start_time": "2023-05-22T06:42:42.366Z"
   },
   {
    "duration": 163,
    "start_time": "2023-05-22T06:42:42.393Z"
   },
   {
    "duration": 12,
    "start_time": "2023-05-22T06:50:03.960Z"
   },
   {
    "duration": 38,
    "start_time": "2023-05-22T06:50:14.949Z"
   },
   {
    "duration": 9,
    "start_time": "2023-05-22T06:51:29.857Z"
   },
   {
    "duration": 8,
    "start_time": "2023-05-22T06:51:44.026Z"
   },
   {
    "duration": 1136,
    "start_time": "2023-05-22T06:51:53.918Z"
   },
   {
    "duration": 73,
    "start_time": "2023-05-22T06:51:55.056Z"
   },
   {
    "duration": 11,
    "start_time": "2023-05-22T06:51:55.130Z"
   },
   {
    "duration": 27,
    "start_time": "2023-05-22T06:51:55.143Z"
   },
   {
    "duration": 22,
    "start_time": "2023-05-22T06:51:55.172Z"
   },
   {
    "duration": 6,
    "start_time": "2023-05-22T06:51:55.196Z"
   },
   {
    "duration": 32,
    "start_time": "2023-05-22T06:51:55.204Z"
   },
   {
    "duration": 10,
    "start_time": "2023-05-22T06:51:55.238Z"
   },
   {
    "duration": 3,
    "start_time": "2023-05-22T06:51:55.250Z"
   },
   {
    "duration": 11,
    "start_time": "2023-05-22T06:51:55.256Z"
   },
   {
    "duration": 8,
    "start_time": "2023-05-22T06:51:55.285Z"
   },
   {
    "duration": 12,
    "start_time": "2023-05-22T06:51:55.295Z"
   },
   {
    "duration": 13,
    "start_time": "2023-05-22T06:51:55.308Z"
   },
   {
    "duration": 43,
    "start_time": "2023-05-22T06:51:55.322Z"
   },
   {
    "duration": 5,
    "start_time": "2023-05-22T06:51:55.366Z"
   },
   {
    "duration": 15,
    "start_time": "2023-05-22T06:51:55.373Z"
   },
   {
    "duration": 164,
    "start_time": "2023-05-22T06:51:55.390Z"
   },
   {
    "duration": 18,
    "start_time": "2023-05-22T06:51:55.555Z"
   },
   {
    "duration": 12,
    "start_time": "2023-05-22T06:51:55.584Z"
   },
   {
    "duration": 15,
    "start_time": "2023-05-22T06:51:55.597Z"
   },
   {
    "duration": 394,
    "start_time": "2023-05-22T06:51:55.613Z"
   },
   {
    "duration": 20,
    "start_time": "2023-05-22T06:51:56.008Z"
   },
   {
    "duration": 199,
    "start_time": "2023-05-22T06:51:56.030Z"
   },
   {
    "duration": 592,
    "start_time": "2023-05-22T06:55:05.403Z"
   },
   {
    "duration": 25,
    "start_time": "2023-05-22T06:55:19.310Z"
   },
   {
    "duration": 7,
    "start_time": "2023-05-22T06:55:22.360Z"
   },
   {
    "duration": 78,
    "start_time": "2023-05-22T07:51:00.068Z"
   },
   {
    "duration": 53,
    "start_time": "2023-05-22T07:55:56.736Z"
   },
   {
    "duration": 16,
    "start_time": "2023-05-22T08:02:49.437Z"
   },
   {
    "duration": 13,
    "start_time": "2023-05-22T08:35:56.495Z"
   },
   {
    "duration": 17,
    "start_time": "2023-05-22T08:36:55.612Z"
   },
   {
    "duration": 16,
    "start_time": "2023-05-22T08:37:22.138Z"
   },
   {
    "duration": 13,
    "start_time": "2023-05-22T08:37:51.097Z"
   },
   {
    "duration": 13,
    "start_time": "2023-05-22T08:38:05.878Z"
   },
   {
    "duration": 13,
    "start_time": "2023-05-22T08:38:06.428Z"
   },
   {
    "duration": 10,
    "start_time": "2023-05-22T08:43:07.664Z"
   },
   {
    "duration": 12,
    "start_time": "2023-05-22T08:43:13.729Z"
   },
   {
    "duration": 1438,
    "start_time": "2023-05-22T11:55:41.339Z"
   },
   {
    "duration": 275,
    "start_time": "2023-05-22T11:55:42.779Z"
   },
   {
    "duration": 13,
    "start_time": "2023-05-22T11:55:43.057Z"
   },
   {
    "duration": 37,
    "start_time": "2023-05-22T11:55:43.072Z"
   },
   {
    "duration": 19,
    "start_time": "2023-05-22T11:55:43.111Z"
   },
   {
    "duration": 8,
    "start_time": "2023-05-22T11:55:43.131Z"
   },
   {
    "duration": 50,
    "start_time": "2023-05-22T11:55:43.141Z"
   },
   {
    "duration": 7,
    "start_time": "2023-05-22T11:55:43.193Z"
   },
   {
    "duration": 8,
    "start_time": "2023-05-22T11:55:43.202Z"
   },
   {
    "duration": 11,
    "start_time": "2023-05-22T11:55:43.212Z"
   },
   {
    "duration": 13,
    "start_time": "2023-05-22T11:55:43.224Z"
   },
   {
    "duration": 4,
    "start_time": "2023-05-22T11:55:43.239Z"
   },
   {
    "duration": 8,
    "start_time": "2023-05-22T11:55:43.244Z"
   },
   {
    "duration": 67,
    "start_time": "2023-05-22T11:55:43.253Z"
   },
   {
    "duration": 5,
    "start_time": "2023-05-22T11:55:43.322Z"
   },
   {
    "duration": 20,
    "start_time": "2023-05-22T11:55:43.329Z"
   },
   {
    "duration": 220,
    "start_time": "2023-05-22T11:55:43.351Z"
   },
   {
    "duration": 24,
    "start_time": "2023-05-22T11:55:43.573Z"
   },
   {
    "duration": 16,
    "start_time": "2023-05-22T11:55:43.599Z"
   },
   {
    "duration": 63,
    "start_time": "2023-05-22T11:55:43.617Z"
   },
   {
    "duration": 20,
    "start_time": "2023-05-22T11:55:43.682Z"
   },
   {
    "duration": 503,
    "start_time": "2023-05-22T11:55:43.703Z"
   },
   {
    "duration": 19,
    "start_time": "2023-05-22T11:55:44.209Z"
   },
   {
    "duration": 70,
    "start_time": "2023-05-22T11:55:44.230Z"
   },
   {
    "duration": 190,
    "start_time": "2023-05-22T11:55:44.302Z"
   },
   {
    "duration": 0,
    "start_time": "2023-05-22T11:55:44.494Z"
   },
   {
    "duration": 0,
    "start_time": "2023-05-22T11:55:44.495Z"
   },
   {
    "duration": 18,
    "start_time": "2023-05-22T11:57:02.631Z"
   },
   {
    "duration": 23,
    "start_time": "2023-05-22T11:57:24.068Z"
   },
   {
    "duration": 13,
    "start_time": "2023-05-22T11:57:57.081Z"
   },
   {
    "duration": 22,
    "start_time": "2023-05-22T11:58:04.347Z"
   },
   {
    "duration": 13,
    "start_time": "2023-05-22T11:58:04.997Z"
   },
   {
    "duration": 26,
    "start_time": "2023-05-22T11:58:17.585Z"
   },
   {
    "duration": 17,
    "start_time": "2023-05-22T11:58:18.586Z"
   },
   {
    "duration": 56,
    "start_time": "2023-05-22T11:58:48.761Z"
   },
   {
    "duration": 19,
    "start_time": "2023-05-22T11:58:57.047Z"
   },
   {
    "duration": 13,
    "start_time": "2023-05-22T11:58:57.631Z"
   },
   {
    "duration": 61,
    "start_time": "2023-05-22T12:06:52.733Z"
   },
   {
    "duration": 14,
    "start_time": "2023-05-22T12:07:24.483Z"
   },
   {
    "duration": 5,
    "start_time": "2023-05-22T12:07:32.012Z"
   },
   {
    "duration": 12,
    "start_time": "2023-05-22T12:39:45.837Z"
   },
   {
    "duration": 11,
    "start_time": "2023-05-22T12:41:20.604Z"
   },
   {
    "duration": 72,
    "start_time": "2023-05-22T12:50:15.441Z"
   },
   {
    "duration": 15,
    "start_time": "2023-05-22T12:53:08.274Z"
   },
   {
    "duration": 11,
    "start_time": "2023-05-22T12:53:17.991Z"
   },
   {
    "duration": 12,
    "start_time": "2023-05-22T12:53:18.465Z"
   },
   {
    "duration": 48,
    "start_time": "2023-05-22T12:53:28.686Z"
   },
   {
    "duration": 43,
    "start_time": "2023-05-22T13:00:46.267Z"
   },
   {
    "duration": 1270,
    "start_time": "2023-05-22T13:00:59.269Z"
   },
   {
    "duration": 90,
    "start_time": "2023-05-22T13:01:00.541Z"
   },
   {
    "duration": 15,
    "start_time": "2023-05-22T13:01:00.632Z"
   },
   {
    "duration": 61,
    "start_time": "2023-05-22T13:01:00.649Z"
   },
   {
    "duration": 46,
    "start_time": "2023-05-22T13:01:00.712Z"
   },
   {
    "duration": 50,
    "start_time": "2023-05-22T13:01:00.759Z"
   },
   {
    "duration": 67,
    "start_time": "2023-05-22T13:01:00.811Z"
   },
   {
    "duration": 39,
    "start_time": "2023-05-22T13:01:00.880Z"
   },
   {
    "duration": 47,
    "start_time": "2023-05-22T13:01:00.920Z"
   },
   {
    "duration": 67,
    "start_time": "2023-05-22T13:01:00.970Z"
   },
   {
    "duration": 39,
    "start_time": "2023-05-22T13:01:01.039Z"
   },
   {
    "duration": 35,
    "start_time": "2023-05-22T13:01:01.080Z"
   },
   {
    "duration": 41,
    "start_time": "2023-05-22T13:01:01.117Z"
   },
   {
    "duration": 78,
    "start_time": "2023-05-22T13:01:01.160Z"
   },
   {
    "duration": 32,
    "start_time": "2023-05-22T13:01:01.240Z"
   },
   {
    "duration": 60,
    "start_time": "2023-05-22T13:01:01.274Z"
   },
   {
    "duration": 169,
    "start_time": "2023-05-22T13:01:01.336Z"
   },
   {
    "duration": 22,
    "start_time": "2023-05-22T13:01:01.506Z"
   },
   {
    "duration": 57,
    "start_time": "2023-05-22T13:01:01.530Z"
   },
   {
    "duration": 17,
    "start_time": "2023-05-22T13:01:01.588Z"
   },
   {
    "duration": 80,
    "start_time": "2023-05-22T13:01:01.607Z"
   },
   {
    "duration": 390,
    "start_time": "2023-05-22T13:01:01.689Z"
   },
   {
    "duration": 22,
    "start_time": "2023-05-22T13:01:02.081Z"
   },
   {
    "duration": 86,
    "start_time": "2023-05-22T13:01:02.106Z"
   },
   {
    "duration": 6,
    "start_time": "2023-05-22T13:01:02.194Z"
   },
   {
    "duration": 15,
    "start_time": "2023-05-22T13:01:02.202Z"
   },
   {
    "duration": 11,
    "start_time": "2023-05-22T13:01:02.219Z"
   },
   {
    "duration": 73,
    "start_time": "2023-05-22T13:01:02.232Z"
   },
   {
    "duration": 236,
    "start_time": "2023-05-22T13:01:02.306Z"
   },
   {
    "duration": 158,
    "start_time": "2023-05-22T13:02:42.514Z"
   },
   {
    "duration": 1339,
    "start_time": "2023-05-22T13:02:51.119Z"
   },
   {
    "duration": 83,
    "start_time": "2023-05-22T13:02:52.460Z"
   },
   {
    "duration": 14,
    "start_time": "2023-05-22T13:02:52.544Z"
   },
   {
    "duration": 32,
    "start_time": "2023-05-22T13:02:52.560Z"
   },
   {
    "duration": 20,
    "start_time": "2023-05-22T13:02:52.594Z"
   },
   {
    "duration": 10,
    "start_time": "2023-05-22T13:02:52.615Z"
   },
   {
    "duration": 27,
    "start_time": "2023-05-22T13:02:52.626Z"
   },
   {
    "duration": 8,
    "start_time": "2023-05-22T13:02:52.676Z"
   },
   {
    "duration": 4,
    "start_time": "2023-05-22T13:02:52.685Z"
   },
   {
    "duration": 10,
    "start_time": "2023-05-22T13:02:52.691Z"
   },
   {
    "duration": 11,
    "start_time": "2023-05-22T13:02:52.703Z"
   },
   {
    "duration": 34,
    "start_time": "2023-05-22T13:02:52.715Z"
   },
   {
    "duration": 7,
    "start_time": "2023-05-22T13:02:52.751Z"
   },
   {
    "duration": 43,
    "start_time": "2023-05-22T13:02:52.759Z"
   },
   {
    "duration": 6,
    "start_time": "2023-05-22T13:02:52.803Z"
   },
   {
    "duration": 24,
    "start_time": "2023-05-22T13:02:52.810Z"
   },
   {
    "duration": 149,
    "start_time": "2023-05-22T13:02:52.835Z"
   },
   {
    "duration": 21,
    "start_time": "2023-05-22T13:02:52.985Z"
   },
   {
    "duration": 15,
    "start_time": "2023-05-22T13:02:53.008Z"
   },
   {
    "duration": 58,
    "start_time": "2023-05-22T13:02:53.025Z"
   },
   {
    "duration": 25,
    "start_time": "2023-05-22T13:02:53.085Z"
   },
   {
    "duration": 399,
    "start_time": "2023-05-22T13:02:53.112Z"
   },
   {
    "duration": 17,
    "start_time": "2023-05-22T13:02:53.513Z"
   },
   {
    "duration": 80,
    "start_time": "2023-05-22T13:02:53.531Z"
   },
   {
    "duration": 6,
    "start_time": "2023-05-22T13:02:53.613Z"
   },
   {
    "duration": 36,
    "start_time": "2023-05-22T13:02:53.621Z"
   },
   {
    "duration": 22,
    "start_time": "2023-05-22T13:02:53.658Z"
   },
   {
    "duration": 45,
    "start_time": "2023-05-22T13:02:53.684Z"
   },
   {
    "duration": 101,
    "start_time": "2023-05-22T13:02:53.730Z"
   },
   {
    "duration": 216,
    "start_time": "2023-05-22T13:02:53.833Z"
   },
   {
    "duration": 11,
    "start_time": "2023-05-22T13:05:22.730Z"
   },
   {
    "duration": 50,
    "start_time": "2023-05-22T13:05:32.899Z"
   },
   {
    "duration": 12,
    "start_time": "2023-05-22T13:05:50.598Z"
   },
   {
    "duration": 12,
    "start_time": "2023-05-22T13:05:56.962Z"
   },
   {
    "duration": 108,
    "start_time": "2023-05-22T13:05:58.549Z"
   },
   {
    "duration": 105,
    "start_time": "2023-05-22T13:05:59.309Z"
   },
   {
    "duration": 209,
    "start_time": "2023-05-22T13:08:03.573Z"
   },
   {
    "duration": 13,
    "start_time": "2023-05-22T13:12:16.784Z"
   },
   {
    "duration": 1524,
    "start_time": "2023-05-22T13:12:24.587Z"
   },
   {
    "duration": 86,
    "start_time": "2023-05-22T13:12:26.113Z"
   },
   {
    "duration": 17,
    "start_time": "2023-05-22T13:12:26.201Z"
   },
   {
    "duration": 55,
    "start_time": "2023-05-22T13:12:26.220Z"
   },
   {
    "duration": 25,
    "start_time": "2023-05-22T13:12:26.278Z"
   },
   {
    "duration": 9,
    "start_time": "2023-05-22T13:12:26.304Z"
   },
   {
    "duration": 48,
    "start_time": "2023-05-22T13:12:26.315Z"
   },
   {
    "duration": 15,
    "start_time": "2023-05-22T13:12:26.365Z"
   },
   {
    "duration": 5,
    "start_time": "2023-05-22T13:12:26.381Z"
   },
   {
    "duration": 18,
    "start_time": "2023-05-22T13:12:26.387Z"
   },
   {
    "duration": 11,
    "start_time": "2023-05-22T13:12:26.406Z"
   },
   {
    "duration": 4,
    "start_time": "2023-05-22T13:12:26.418Z"
   },
   {
    "duration": 5,
    "start_time": "2023-05-22T13:12:26.423Z"
   },
   {
    "duration": 71,
    "start_time": "2023-05-22T13:12:26.431Z"
   },
   {
    "duration": 9,
    "start_time": "2023-05-22T13:12:26.504Z"
   },
   {
    "duration": 23,
    "start_time": "2023-05-22T13:12:26.514Z"
   },
   {
    "duration": 161,
    "start_time": "2023-05-22T13:12:26.539Z"
   },
   {
    "duration": 28,
    "start_time": "2023-05-22T13:12:26.702Z"
   },
   {
    "duration": 61,
    "start_time": "2023-05-22T13:12:26.732Z"
   },
   {
    "duration": 16,
    "start_time": "2023-05-22T13:12:26.794Z"
   },
   {
    "duration": 68,
    "start_time": "2023-05-22T13:12:26.811Z"
   },
   {
    "duration": 392,
    "start_time": "2023-05-22T13:12:26.881Z"
   },
   {
    "duration": 17,
    "start_time": "2023-05-22T13:12:27.275Z"
   },
   {
    "duration": 82,
    "start_time": "2023-05-22T13:12:27.293Z"
   },
   {
    "duration": 6,
    "start_time": "2023-05-22T13:12:27.377Z"
   },
   {
    "duration": 28,
    "start_time": "2023-05-22T13:12:27.385Z"
   },
   {
    "duration": 11,
    "start_time": "2023-05-22T13:12:27.415Z"
   },
   {
    "duration": 71,
    "start_time": "2023-05-22T13:12:27.427Z"
   },
   {
    "duration": 12,
    "start_time": "2023-05-22T13:12:27.499Z"
   },
   {
    "duration": 105,
    "start_time": "2023-05-22T13:12:27.513Z"
   },
   {
    "duration": 129,
    "start_time": "2023-05-22T13:12:27.620Z"
   },
   {
    "duration": 196,
    "start_time": "2023-05-22T13:12:27.751Z"
   },
   {
    "duration": 10022,
    "start_time": "2023-05-22T13:12:42.073Z"
   },
   {
    "duration": 1661,
    "start_time": "2023-05-23T07:38:21.075Z"
   },
   {
    "duration": 122,
    "start_time": "2023-05-23T07:38:22.738Z"
   },
   {
    "duration": 12,
    "start_time": "2023-05-23T07:38:22.862Z"
   },
   {
    "duration": 28,
    "start_time": "2023-05-23T07:38:22.876Z"
   },
   {
    "duration": 18,
    "start_time": "2023-05-23T07:38:22.906Z"
   },
   {
    "duration": 7,
    "start_time": "2023-05-23T07:38:22.925Z"
   },
   {
    "duration": 28,
    "start_time": "2023-05-23T07:38:22.933Z"
   },
   {
    "duration": 7,
    "start_time": "2023-05-23T07:38:22.962Z"
   },
   {
    "duration": 3,
    "start_time": "2023-05-23T07:38:22.995Z"
   },
   {
    "duration": 20,
    "start_time": "2023-05-23T07:38:23.000Z"
   },
   {
    "duration": 15,
    "start_time": "2023-05-23T07:38:23.021Z"
   },
   {
    "duration": 11,
    "start_time": "2023-05-23T07:38:23.038Z"
   },
   {
    "duration": 16,
    "start_time": "2023-05-23T07:38:23.051Z"
   },
   {
    "duration": 46,
    "start_time": "2023-05-23T07:38:23.068Z"
   },
   {
    "duration": 6,
    "start_time": "2023-05-23T07:38:23.116Z"
   },
   {
    "duration": 26,
    "start_time": "2023-05-23T07:38:23.123Z"
   },
   {
    "duration": 170,
    "start_time": "2023-05-23T07:38:23.150Z"
   },
   {
    "duration": 20,
    "start_time": "2023-05-23T07:38:23.322Z"
   },
   {
    "duration": 54,
    "start_time": "2023-05-23T07:38:23.344Z"
   },
   {
    "duration": 18,
    "start_time": "2023-05-23T07:38:23.399Z"
   },
   {
    "duration": 19,
    "start_time": "2023-05-23T07:38:23.419Z"
   },
   {
    "duration": 425,
    "start_time": "2023-05-23T07:38:23.439Z"
   },
   {
    "duration": 36,
    "start_time": "2023-05-23T07:38:23.866Z"
   },
   {
    "duration": 48,
    "start_time": "2023-05-23T07:38:23.904Z"
   },
   {
    "duration": 5,
    "start_time": "2023-05-23T07:38:23.953Z"
   },
   {
    "duration": 47,
    "start_time": "2023-05-23T07:38:23.959Z"
   },
   {
    "duration": 16,
    "start_time": "2023-05-23T07:38:24.008Z"
   },
   {
    "duration": 46,
    "start_time": "2023-05-23T07:38:24.027Z"
   },
   {
    "duration": 28,
    "start_time": "2023-05-23T07:38:24.074Z"
   },
   {
    "duration": 169,
    "start_time": "2023-05-23T07:38:24.104Z"
   },
   {
    "duration": 142,
    "start_time": "2023-05-23T07:38:24.275Z"
   },
   {
    "duration": 9716,
    "start_time": "2023-05-23T07:38:24.418Z"
   },
   {
    "duration": 161,
    "start_time": "2023-05-23T07:49:12.635Z"
   },
   {
    "duration": 15,
    "start_time": "2023-05-23T07:49:43.147Z"
   },
   {
    "duration": 1438,
    "start_time": "2023-05-23T07:55:44.351Z"
   },
   {
    "duration": 83,
    "start_time": "2023-05-23T07:55:45.790Z"
   },
   {
    "duration": 12,
    "start_time": "2023-05-23T07:55:45.874Z"
   },
   {
    "duration": 32,
    "start_time": "2023-05-23T07:55:45.888Z"
   },
   {
    "duration": 24,
    "start_time": "2023-05-23T07:55:45.922Z"
   },
   {
    "duration": 7,
    "start_time": "2023-05-23T07:55:45.947Z"
   },
   {
    "duration": 52,
    "start_time": "2023-05-23T07:55:45.956Z"
   },
   {
    "duration": 9,
    "start_time": "2023-05-23T07:55:46.009Z"
   },
   {
    "duration": 13,
    "start_time": "2023-05-23T07:55:46.020Z"
   },
   {
    "duration": 10,
    "start_time": "2023-05-23T07:55:46.035Z"
   },
   {
    "duration": 12,
    "start_time": "2023-05-23T07:55:46.046Z"
   },
   {
    "duration": 3,
    "start_time": "2023-05-23T07:55:46.059Z"
   },
   {
    "duration": 9,
    "start_time": "2023-05-23T07:55:46.063Z"
   },
   {
    "duration": 53,
    "start_time": "2023-05-23T07:55:46.073Z"
   },
   {
    "duration": 5,
    "start_time": "2023-05-23T07:55:46.128Z"
   },
   {
    "duration": 28,
    "start_time": "2023-05-23T07:55:46.135Z"
   },
   {
    "duration": 137,
    "start_time": "2023-05-23T07:55:46.165Z"
   },
   {
    "duration": 18,
    "start_time": "2023-05-23T07:55:46.303Z"
   },
   {
    "duration": 17,
    "start_time": "2023-05-23T07:55:46.324Z"
   },
   {
    "duration": 62,
    "start_time": "2023-05-23T07:55:46.342Z"
   },
   {
    "duration": 17,
    "start_time": "2023-05-23T07:55:46.406Z"
   },
   {
    "duration": 419,
    "start_time": "2023-05-23T07:55:46.426Z"
   },
   {
    "duration": 15,
    "start_time": "2023-05-23T07:55:46.847Z"
   },
   {
    "duration": 92,
    "start_time": "2023-05-23T07:55:46.864Z"
   },
   {
    "duration": 5,
    "start_time": "2023-05-23T07:55:46.957Z"
   },
   {
    "duration": 26,
    "start_time": "2023-05-23T07:55:46.963Z"
   },
   {
    "duration": 11,
    "start_time": "2023-05-23T07:55:46.991Z"
   },
   {
    "duration": 45,
    "start_time": "2023-05-23T07:55:47.006Z"
   },
   {
    "duration": 10,
    "start_time": "2023-05-23T07:55:47.053Z"
   },
   {
    "duration": 115,
    "start_time": "2023-05-23T07:55:47.065Z"
   },
   {
    "duration": 130,
    "start_time": "2023-05-23T07:55:47.183Z"
   },
   {
    "duration": 9845,
    "start_time": "2023-05-23T07:55:47.315Z"
   },
   {
    "duration": 51,
    "start_time": "2023-05-23T07:55:57.161Z"
   },
   {
    "duration": 47992,
    "start_time": "2023-05-23T07:55:57.214Z"
   },
   {
    "duration": 17,
    "start_time": "2023-05-23T08:00:52.089Z"
   },
   {
    "duration": 16,
    "start_time": "2023-05-23T08:01:05.556Z"
   },
   {
    "duration": 49567,
    "start_time": "2023-05-23T08:01:10.023Z"
   },
   {
    "duration": 177,
    "start_time": "2023-05-23T08:03:15.339Z"
   },
   {
    "duration": 18,
    "start_time": "2023-05-23T08:03:28.359Z"
   },
   {
    "duration": 17,
    "start_time": "2023-05-23T08:03:50.572Z"
   },
   {
    "duration": 17,
    "start_time": "2023-05-23T08:03:51.273Z"
   },
   {
    "duration": 22,
    "start_time": "2023-05-23T08:04:57.541Z"
   },
   {
    "duration": 1658,
    "start_time": "2023-05-23T08:13:23.325Z"
   },
   {
    "duration": 19,
    "start_time": "2023-05-23T08:16:19.492Z"
   },
   {
    "duration": 7,
    "start_time": "2023-05-23T08:16:52.141Z"
   },
   {
    "duration": 20,
    "start_time": "2023-05-23T08:17:01.281Z"
   },
   {
    "duration": 0,
    "start_time": "2023-05-23T08:28:05.221Z"
   },
   {
    "duration": 0,
    "start_time": "2023-05-23T08:28:05.222Z"
   },
   {
    "duration": 0,
    "start_time": "2023-05-23T08:28:05.223Z"
   },
   {
    "duration": 0,
    "start_time": "2023-05-23T08:28:05.224Z"
   },
   {
    "duration": 0,
    "start_time": "2023-05-23T08:28:05.224Z"
   },
   {
    "duration": 0,
    "start_time": "2023-05-23T08:28:05.225Z"
   },
   {
    "duration": 0,
    "start_time": "2023-05-23T08:28:05.226Z"
   },
   {
    "duration": 0,
    "start_time": "2023-05-23T08:28:05.227Z"
   },
   {
    "duration": 0,
    "start_time": "2023-05-23T08:28:05.228Z"
   },
   {
    "duration": 0,
    "start_time": "2023-05-23T08:28:05.229Z"
   },
   {
    "duration": 0,
    "start_time": "2023-05-23T08:28:05.230Z"
   },
   {
    "duration": 0,
    "start_time": "2023-05-23T08:28:05.231Z"
   },
   {
    "duration": 0,
    "start_time": "2023-05-23T08:28:05.231Z"
   },
   {
    "duration": 0,
    "start_time": "2023-05-23T08:28:05.232Z"
   },
   {
    "duration": 0,
    "start_time": "2023-05-23T08:28:05.233Z"
   },
   {
    "duration": 0,
    "start_time": "2023-05-23T08:28:05.295Z"
   },
   {
    "duration": 0,
    "start_time": "2023-05-23T08:28:05.296Z"
   },
   {
    "duration": 0,
    "start_time": "2023-05-23T08:28:05.297Z"
   },
   {
    "duration": 0,
    "start_time": "2023-05-23T08:28:05.298Z"
   },
   {
    "duration": 0,
    "start_time": "2023-05-23T08:28:05.299Z"
   },
   {
    "duration": 0,
    "start_time": "2023-05-23T08:28:05.300Z"
   },
   {
    "duration": 0,
    "start_time": "2023-05-23T08:28:05.301Z"
   },
   {
    "duration": 0,
    "start_time": "2023-05-23T08:28:05.302Z"
   },
   {
    "duration": 0,
    "start_time": "2023-05-23T08:28:05.303Z"
   },
   {
    "duration": 0,
    "start_time": "2023-05-23T08:28:05.304Z"
   },
   {
    "duration": 0,
    "start_time": "2023-05-23T08:28:05.305Z"
   },
   {
    "duration": 0,
    "start_time": "2023-05-23T08:28:05.305Z"
   },
   {
    "duration": 0,
    "start_time": "2023-05-23T08:28:05.306Z"
   },
   {
    "duration": 0,
    "start_time": "2023-05-23T08:28:05.308Z"
   },
   {
    "duration": 1,
    "start_time": "2023-05-23T08:28:05.308Z"
   },
   {
    "duration": 0,
    "start_time": "2023-05-23T08:28:05.310Z"
   },
   {
    "duration": 0,
    "start_time": "2023-05-23T08:28:05.310Z"
   },
   {
    "duration": 0,
    "start_time": "2023-05-23T08:28:05.311Z"
   },
   {
    "duration": 0,
    "start_time": "2023-05-23T08:28:05.312Z"
   },
   {
    "duration": 0,
    "start_time": "2023-05-23T08:28:05.313Z"
   },
   {
    "duration": 0,
    "start_time": "2023-05-23T08:28:05.314Z"
   },
   {
    "duration": 1454,
    "start_time": "2023-05-23T08:28:30.057Z"
   },
   {
    "duration": 84,
    "start_time": "2023-05-23T08:28:31.513Z"
   },
   {
    "duration": 16,
    "start_time": "2023-05-23T08:28:31.598Z"
   },
   {
    "duration": 71,
    "start_time": "2023-05-23T08:28:31.615Z"
   },
   {
    "duration": 19,
    "start_time": "2023-05-23T08:28:31.688Z"
   },
   {
    "duration": 7,
    "start_time": "2023-05-23T08:28:31.709Z"
   },
   {
    "duration": 45,
    "start_time": "2023-05-23T08:28:31.718Z"
   },
   {
    "duration": 8,
    "start_time": "2023-05-23T08:28:31.765Z"
   },
   {
    "duration": 22,
    "start_time": "2023-05-23T08:28:31.775Z"
   },
   {
    "duration": 33,
    "start_time": "2023-05-23T08:28:31.798Z"
   },
   {
    "duration": 54,
    "start_time": "2023-05-23T08:28:31.833Z"
   },
   {
    "duration": 22,
    "start_time": "2023-05-23T08:28:31.889Z"
   },
   {
    "duration": 31,
    "start_time": "2023-05-23T08:28:31.913Z"
   },
   {
    "duration": 54,
    "start_time": "2023-05-23T08:28:31.948Z"
   },
   {
    "duration": 7,
    "start_time": "2023-05-23T08:28:32.004Z"
   },
   {
    "duration": 34,
    "start_time": "2023-05-23T08:28:32.013Z"
   },
   {
    "duration": 151,
    "start_time": "2023-05-23T08:28:32.049Z"
   },
   {
    "duration": 25,
    "start_time": "2023-05-23T08:28:32.202Z"
   },
   {
    "duration": 72,
    "start_time": "2023-05-23T08:28:32.228Z"
   },
   {
    "duration": 10,
    "start_time": "2023-05-23T08:28:32.302Z"
   },
   {
    "duration": 25,
    "start_time": "2023-05-23T08:28:32.314Z"
   },
   {
    "duration": 373,
    "start_time": "2023-05-23T08:28:32.340Z"
   },
   {
    "duration": 15,
    "start_time": "2023-05-23T08:28:32.715Z"
   },
   {
    "duration": 73,
    "start_time": "2023-05-23T08:28:32.731Z"
   },
   {
    "duration": 4,
    "start_time": "2023-05-23T08:28:32.805Z"
   },
   {
    "duration": 38,
    "start_time": "2023-05-23T08:28:32.811Z"
   },
   {
    "duration": 10,
    "start_time": "2023-05-23T08:28:32.850Z"
   },
   {
    "duration": 50,
    "start_time": "2023-05-23T08:28:32.861Z"
   },
   {
    "duration": 11,
    "start_time": "2023-05-23T08:28:32.912Z"
   },
   {
    "duration": 100,
    "start_time": "2023-05-23T08:28:32.925Z"
   },
   {
    "duration": 124,
    "start_time": "2023-05-23T08:28:33.027Z"
   },
   {
    "duration": 8988,
    "start_time": "2023-05-23T08:28:33.153Z"
   },
   {
    "duration": 57,
    "start_time": "2023-05-23T08:28:42.143Z"
   },
   {
    "duration": 8,
    "start_time": "2023-05-23T08:28:42.202Z"
   },
   {
    "duration": 293,
    "start_time": "2023-05-23T08:28:42.212Z"
   },
   {
    "duration": 0,
    "start_time": "2023-05-23T08:28:42.506Z"
   },
   {
    "duration": 21,
    "start_time": "2023-05-23T08:30:07.848Z"
   },
   {
    "duration": 21,
    "start_time": "2023-05-23T09:59:10.677Z"
   },
   {
    "duration": 1372,
    "start_time": "2023-05-23T09:59:20.555Z"
   },
   {
    "duration": 86,
    "start_time": "2023-05-23T09:59:21.928Z"
   },
   {
    "duration": 13,
    "start_time": "2023-05-23T09:59:22.016Z"
   },
   {
    "duration": 30,
    "start_time": "2023-05-23T09:59:22.030Z"
   },
   {
    "duration": 44,
    "start_time": "2023-05-23T09:59:22.061Z"
   },
   {
    "duration": 8,
    "start_time": "2023-05-23T09:59:22.106Z"
   },
   {
    "duration": 26,
    "start_time": "2023-05-23T09:59:22.116Z"
   },
   {
    "duration": 6,
    "start_time": "2023-05-23T09:59:22.144Z"
   },
   {
    "duration": 12,
    "start_time": "2023-05-23T09:59:22.152Z"
   },
   {
    "duration": 31,
    "start_time": "2023-05-23T09:59:22.166Z"
   },
   {
    "duration": 18,
    "start_time": "2023-05-23T09:59:22.200Z"
   },
   {
    "duration": 20,
    "start_time": "2023-05-23T09:59:22.220Z"
   },
   {
    "duration": 14,
    "start_time": "2023-05-23T09:59:22.241Z"
   },
   {
    "duration": 55,
    "start_time": "2023-05-23T09:59:22.256Z"
   },
   {
    "duration": 6,
    "start_time": "2023-05-23T09:59:22.313Z"
   },
   {
    "duration": 19,
    "start_time": "2023-05-23T09:59:22.320Z"
   },
   {
    "duration": 155,
    "start_time": "2023-05-23T09:59:22.341Z"
   },
   {
    "duration": 20,
    "start_time": "2023-05-23T09:59:22.498Z"
   },
   {
    "duration": 17,
    "start_time": "2023-05-23T09:59:22.520Z"
   },
   {
    "duration": 66,
    "start_time": "2023-05-23T09:59:22.538Z"
   },
   {
    "duration": 19,
    "start_time": "2023-05-23T09:59:22.606Z"
   },
   {
    "duration": 362,
    "start_time": "2023-05-23T09:59:22.626Z"
   },
   {
    "duration": 15,
    "start_time": "2023-05-23T09:59:22.989Z"
   },
   {
    "duration": 74,
    "start_time": "2023-05-23T09:59:23.006Z"
   },
   {
    "duration": 14,
    "start_time": "2023-05-23T09:59:23.082Z"
   },
   {
    "duration": 21,
    "start_time": "2023-05-23T09:59:23.097Z"
   },
   {
    "duration": 16,
    "start_time": "2023-05-23T09:59:23.119Z"
   },
   {
    "duration": 44,
    "start_time": "2023-05-23T09:59:23.138Z"
   },
   {
    "duration": 19,
    "start_time": "2023-05-23T09:59:23.184Z"
   },
   {
    "duration": 106,
    "start_time": "2023-05-23T09:59:23.205Z"
   },
   {
    "duration": 145,
    "start_time": "2023-05-23T09:59:23.314Z"
   },
   {
    "duration": 9668,
    "start_time": "2023-05-23T09:59:23.461Z"
   },
   {
    "duration": 14,
    "start_time": "2023-05-23T09:59:33.130Z"
   },
   {
    "duration": 63,
    "start_time": "2023-05-23T09:59:33.145Z"
   },
   {
    "duration": 291,
    "start_time": "2023-05-23T09:59:33.210Z"
   },
   {
    "duration": 0,
    "start_time": "2023-05-23T09:59:33.503Z"
   },
   {
    "duration": 22,
    "start_time": "2023-05-23T09:59:44.596Z"
   },
   {
    "duration": 19,
    "start_time": "2023-05-23T10:06:57.503Z"
   },
   {
    "duration": 32,
    "start_time": "2023-05-23T10:08:05.209Z"
   },
   {
    "duration": 10,
    "start_time": "2023-05-23T10:08:12.598Z"
   },
   {
    "duration": 23,
    "start_time": "2023-05-23T10:14:13.087Z"
   },
   {
    "duration": 14,
    "start_time": "2023-05-23T10:19:56.689Z"
   },
   {
    "duration": 14,
    "start_time": "2023-05-23T11:00:59.552Z"
   },
   {
    "duration": 1456,
    "start_time": "2023-05-23T11:01:12.839Z"
   },
   {
    "duration": 83,
    "start_time": "2023-05-23T11:01:14.308Z"
   },
   {
    "duration": 16,
    "start_time": "2023-05-23T11:01:14.392Z"
   },
   {
    "duration": 47,
    "start_time": "2023-05-23T11:01:14.410Z"
   },
   {
    "duration": 19,
    "start_time": "2023-05-23T11:01:14.459Z"
   },
   {
    "duration": 7,
    "start_time": "2023-05-23T11:01:14.479Z"
   },
   {
    "duration": 44,
    "start_time": "2023-05-23T11:01:14.487Z"
   },
   {
    "duration": 7,
    "start_time": "2023-05-23T11:01:14.532Z"
   },
   {
    "duration": 13,
    "start_time": "2023-05-23T11:01:14.540Z"
   },
   {
    "duration": 13,
    "start_time": "2023-05-23T11:01:14.554Z"
   },
   {
    "duration": 14,
    "start_time": "2023-05-23T11:01:14.569Z"
   },
   {
    "duration": 9,
    "start_time": "2023-05-23T11:01:14.584Z"
   },
   {
    "duration": 18,
    "start_time": "2023-05-23T11:01:14.596Z"
   },
   {
    "duration": 47,
    "start_time": "2023-05-23T11:01:14.616Z"
   },
   {
    "duration": 5,
    "start_time": "2023-05-23T11:01:14.665Z"
   },
   {
    "duration": 50,
    "start_time": "2023-05-23T11:01:14.672Z"
   },
   {
    "duration": 155,
    "start_time": "2023-05-23T11:01:14.724Z"
   },
   {
    "duration": 30,
    "start_time": "2023-05-23T11:01:14.880Z"
   },
   {
    "duration": 31,
    "start_time": "2023-05-23T11:01:14.913Z"
   },
   {
    "duration": 61,
    "start_time": "2023-05-23T11:01:14.946Z"
   },
   {
    "duration": 35,
    "start_time": "2023-05-23T11:01:15.011Z"
   },
   {
    "duration": 380,
    "start_time": "2023-05-23T11:01:15.048Z"
   },
   {
    "duration": 16,
    "start_time": "2023-05-23T11:01:15.429Z"
   },
   {
    "duration": 81,
    "start_time": "2023-05-23T11:01:15.446Z"
   },
   {
    "duration": 5,
    "start_time": "2023-05-23T11:01:15.528Z"
   },
   {
    "duration": 20,
    "start_time": "2023-05-23T11:01:15.534Z"
   },
   {
    "duration": 13,
    "start_time": "2023-05-23T11:01:15.556Z"
   },
   {
    "duration": 70,
    "start_time": "2023-05-23T11:01:15.571Z"
   },
   {
    "duration": 12,
    "start_time": "2023-05-23T11:01:15.643Z"
   },
   {
    "duration": 112,
    "start_time": "2023-05-23T11:01:15.656Z"
   },
   {
    "duration": 143,
    "start_time": "2023-05-23T11:01:15.770Z"
   },
   {
    "duration": 9699,
    "start_time": "2023-05-23T11:01:15.915Z"
   },
   {
    "duration": 13,
    "start_time": "2023-05-23T11:01:25.616Z"
   },
   {
    "duration": 21,
    "start_time": "2023-05-23T11:01:25.630Z"
   },
   {
    "duration": 353,
    "start_time": "2023-05-23T11:01:25.652Z"
   },
   {
    "duration": 0,
    "start_time": "2023-05-23T11:01:26.007Z"
   },
   {
    "duration": 0,
    "start_time": "2023-05-23T11:01:26.008Z"
   },
   {
    "duration": 0,
    "start_time": "2023-05-23T11:01:26.009Z"
   },
   {
    "duration": 14,
    "start_time": "2023-05-23T11:01:46.241Z"
   },
   {
    "duration": 18,
    "start_time": "2023-05-23T11:02:43.257Z"
   },
   {
    "duration": 8,
    "start_time": "2023-05-23T11:05:28.779Z"
   },
   {
    "duration": 1458,
    "start_time": "2023-05-23T11:19:42.745Z"
   },
   {
    "duration": 89,
    "start_time": "2023-05-23T11:19:44.205Z"
   },
   {
    "duration": 15,
    "start_time": "2023-05-23T11:19:44.295Z"
   },
   {
    "duration": 29,
    "start_time": "2023-05-23T11:19:44.312Z"
   },
   {
    "duration": 18,
    "start_time": "2023-05-23T11:19:44.343Z"
   },
   {
    "duration": 7,
    "start_time": "2023-05-23T11:19:44.363Z"
   },
   {
    "duration": 25,
    "start_time": "2023-05-23T11:19:44.395Z"
   },
   {
    "duration": 8,
    "start_time": "2023-05-23T11:19:44.422Z"
   },
   {
    "duration": 5,
    "start_time": "2023-05-23T11:19:44.432Z"
   },
   {
    "duration": 17,
    "start_time": "2023-05-23T11:19:44.440Z"
   },
   {
    "duration": 10,
    "start_time": "2023-05-23T11:19:44.459Z"
   },
   {
    "duration": 3,
    "start_time": "2023-05-23T11:19:44.495Z"
   },
   {
    "duration": 6,
    "start_time": "2023-05-23T11:19:44.499Z"
   },
   {
    "duration": 57,
    "start_time": "2023-05-23T11:19:44.507Z"
   },
   {
    "duration": 8,
    "start_time": "2023-05-23T11:19:44.566Z"
   },
   {
    "duration": 34,
    "start_time": "2023-05-23T11:19:44.575Z"
   },
   {
    "duration": 163,
    "start_time": "2023-05-23T11:19:44.611Z"
   },
   {
    "duration": 31,
    "start_time": "2023-05-23T11:19:44.775Z"
   },
   {
    "duration": 17,
    "start_time": "2023-05-23T11:19:44.807Z"
   },
   {
    "duration": 12,
    "start_time": "2023-05-23T11:19:44.825Z"
   },
   {
    "duration": 68,
    "start_time": "2023-05-23T11:19:44.838Z"
   },
   {
    "duration": 371,
    "start_time": "2023-05-23T11:19:44.908Z"
   },
   {
    "duration": 23,
    "start_time": "2023-05-23T11:19:45.281Z"
   },
   {
    "duration": 56,
    "start_time": "2023-05-23T11:19:45.306Z"
   },
   {
    "duration": 5,
    "start_time": "2023-05-23T11:19:45.395Z"
   },
   {
    "duration": 17,
    "start_time": "2023-05-23T11:19:45.401Z"
   },
   {
    "duration": 10,
    "start_time": "2023-05-23T11:19:45.420Z"
   },
   {
    "duration": 64,
    "start_time": "2023-05-23T11:19:45.433Z"
   },
   {
    "duration": 11,
    "start_time": "2023-05-23T11:19:45.499Z"
   },
   {
    "duration": 100,
    "start_time": "2023-05-23T11:19:45.511Z"
   },
   {
    "duration": 123,
    "start_time": "2023-05-23T11:19:45.612Z"
   },
   {
    "duration": 9566,
    "start_time": "2023-05-23T11:19:45.737Z"
   },
   {
    "duration": 14,
    "start_time": "2023-05-23T11:19:55.305Z"
   },
   {
    "duration": 74,
    "start_time": "2023-05-23T11:19:55.321Z"
   },
   {
    "duration": 18,
    "start_time": "2023-05-23T11:19:55.397Z"
   },
   {
    "duration": 313,
    "start_time": "2023-05-23T11:19:55.416Z"
   },
   {
    "duration": 0,
    "start_time": "2023-05-23T11:19:55.730Z"
   },
   {
    "duration": 0,
    "start_time": "2023-05-23T11:19:55.731Z"
   },
   {
    "duration": 0,
    "start_time": "2023-05-23T11:19:55.732Z"
   },
   {
    "duration": 0,
    "start_time": "2023-05-23T11:19:55.733Z"
   },
   {
    "duration": 34,
    "start_time": "2023-05-23T11:20:16.618Z"
   },
   {
    "duration": 22,
    "start_time": "2023-05-23T11:21:25.391Z"
   },
   {
    "duration": 12,
    "start_time": "2023-05-23T11:32:49.306Z"
   },
   {
    "duration": 422,
    "start_time": "2023-05-23T11:33:56.874Z"
   },
   {
    "duration": 15,
    "start_time": "2023-05-23T12:03:31.900Z"
   },
   {
    "duration": 11,
    "start_time": "2023-05-23T12:10:13.812Z"
   },
   {
    "duration": 12,
    "start_time": "2023-05-23T12:10:14.311Z"
   },
   {
    "duration": 8,
    "start_time": "2023-05-23T12:10:26.128Z"
   },
   {
    "duration": 55,
    "start_time": "2023-05-23T12:10:37.061Z"
   },
   {
    "duration": 113,
    "start_time": "2023-05-23T12:10:37.448Z"
   },
   {
    "duration": 508,
    "start_time": "2023-05-23T12:19:54.793Z"
   },
   {
    "duration": 5723,
    "start_time": "2023-05-23T12:20:29.179Z"
   },
   {
    "duration": 647,
    "start_time": "2023-05-23T12:20:43.757Z"
   },
   {
    "duration": 22,
    "start_time": "2023-05-23T13:29:45.232Z"
   },
   {
    "duration": 1530,
    "start_time": "2023-05-23T13:29:57.507Z"
   },
   {
    "duration": 84,
    "start_time": "2023-05-23T13:29:59.039Z"
   },
   {
    "duration": 13,
    "start_time": "2023-05-23T13:29:59.125Z"
   },
   {
    "duration": 40,
    "start_time": "2023-05-23T13:29:59.140Z"
   },
   {
    "duration": 27,
    "start_time": "2023-05-23T13:29:59.182Z"
   },
   {
    "duration": 6,
    "start_time": "2023-05-23T13:29:59.211Z"
   },
   {
    "duration": 30,
    "start_time": "2023-05-23T13:29:59.219Z"
   },
   {
    "duration": 8,
    "start_time": "2023-05-23T13:29:59.250Z"
   },
   {
    "duration": 4,
    "start_time": "2023-05-23T13:29:59.259Z"
   },
   {
    "duration": 32,
    "start_time": "2023-05-23T13:29:59.264Z"
   },
   {
    "duration": 13,
    "start_time": "2023-05-23T13:29:59.297Z"
   },
   {
    "duration": 3,
    "start_time": "2023-05-23T13:29:59.311Z"
   },
   {
    "duration": 25,
    "start_time": "2023-05-23T13:29:59.315Z"
   },
   {
    "duration": 55,
    "start_time": "2023-05-23T13:29:59.342Z"
   },
   {
    "duration": 6,
    "start_time": "2023-05-23T13:29:59.398Z"
   },
   {
    "duration": 27,
    "start_time": "2023-05-23T13:29:59.405Z"
   },
   {
    "duration": 153,
    "start_time": "2023-05-23T13:29:59.434Z"
   },
   {
    "duration": 31,
    "start_time": "2023-05-23T13:29:59.589Z"
   },
   {
    "duration": 18,
    "start_time": "2023-05-23T13:29:59.621Z"
   },
   {
    "duration": 63,
    "start_time": "2023-05-23T13:29:59.641Z"
   },
   {
    "duration": 32,
    "start_time": "2023-05-23T13:29:59.705Z"
   },
   {
    "duration": 348,
    "start_time": "2023-05-23T13:29:59.739Z"
   },
   {
    "duration": 20,
    "start_time": "2023-05-23T13:30:00.088Z"
   },
   {
    "duration": 68,
    "start_time": "2023-05-23T13:30:00.110Z"
   },
   {
    "duration": 54,
    "start_time": "2023-05-23T13:30:00.180Z"
   },
   {
    "duration": 48,
    "start_time": "2023-05-23T13:30:00.235Z"
   },
   {
    "duration": 485,
    "start_time": "2023-05-23T13:30:00.284Z"
   },
   {
    "duration": 10,
    "start_time": "2023-05-23T13:30:00.770Z"
   },
   {
    "duration": 43,
    "start_time": "2023-05-23T13:30:00.794Z"
   },
   {
    "duration": 12,
    "start_time": "2023-05-23T13:30:00.839Z"
   },
   {
    "duration": 115,
    "start_time": "2023-05-23T13:30:00.852Z"
   },
   {
    "duration": 126,
    "start_time": "2023-05-23T13:30:00.969Z"
   },
   {
    "duration": 9051,
    "start_time": "2023-05-23T13:30:01.097Z"
   },
   {
    "duration": 13,
    "start_time": "2023-05-23T13:30:10.149Z"
   },
   {
    "duration": 36,
    "start_time": "2023-05-23T13:30:10.163Z"
   },
   {
    "duration": 37,
    "start_time": "2023-05-23T13:30:10.201Z"
   },
   {
    "duration": 529,
    "start_time": "2023-05-23T13:30:10.240Z"
   },
   {
    "duration": 14,
    "start_time": "2023-05-23T13:30:10.770Z"
   },
   {
    "duration": 7,
    "start_time": "2023-05-23T13:30:10.794Z"
   },
   {
    "duration": 46,
    "start_time": "2023-05-23T13:30:10.802Z"
   },
   {
    "duration": 109,
    "start_time": "2023-05-23T13:30:10.851Z"
   },
   {
    "duration": 183,
    "start_time": "2023-05-23T13:30:10.962Z"
   },
   {
    "duration": 0,
    "start_time": "2023-05-23T13:30:11.147Z"
   },
   {
    "duration": 0,
    "start_time": "2023-05-23T13:30:11.148Z"
   },
   {
    "duration": 20,
    "start_time": "2023-05-23T13:30:53.837Z"
   },
   {
    "duration": 20,
    "start_time": "2023-05-23T13:31:04.211Z"
   },
   {
    "duration": 10,
    "start_time": "2023-05-23T13:31:24.637Z"
   },
   {
    "duration": 17,
    "start_time": "2023-05-23T13:31:42.057Z"
   },
   {
    "duration": 13,
    "start_time": "2023-05-23T13:37:00.260Z"
   },
   {
    "duration": 194,
    "start_time": "2023-05-23T13:39:28.428Z"
   },
   {
    "duration": 383,
    "start_time": "2023-05-23T13:40:52.712Z"
   },
   {
    "duration": 112,
    "start_time": "2023-05-23T13:49:36.398Z"
   },
   {
    "duration": 55,
    "start_time": "2023-05-25T12:41:46.037Z"
   },
   {
    "duration": 1855,
    "start_time": "2023-05-25T12:41:56.771Z"
   },
   {
    "duration": 146,
    "start_time": "2023-05-25T12:41:58.628Z"
   },
   {
    "duration": 17,
    "start_time": "2023-05-25T12:41:59.734Z"
   },
   {
    "duration": 39,
    "start_time": "2023-05-25T12:42:01.460Z"
   },
   {
    "duration": 23,
    "start_time": "2023-05-25T12:42:01.949Z"
   },
   {
    "duration": 12,
    "start_time": "2023-05-25T12:42:02.671Z"
   },
   {
    "duration": 30,
    "start_time": "2023-05-25T12:42:03.437Z"
   },
   {
    "duration": 10,
    "start_time": "2023-05-25T12:42:04.191Z"
   },
   {
    "duration": 3,
    "start_time": "2023-05-25T12:42:06.333Z"
   },
   {
    "duration": 10,
    "start_time": "2023-05-25T12:42:12.535Z"
   },
   {
    "duration": 12,
    "start_time": "2023-05-25T12:42:14.701Z"
   },
   {
    "duration": 10,
    "start_time": "2023-05-25T12:42:20.298Z"
   },
   {
    "duration": 7,
    "start_time": "2023-05-25T12:46:06.552Z"
   },
   {
    "duration": 136,
    "start_time": "2023-05-25T12:49:15.070Z"
   },
   {
    "duration": 6,
    "start_time": "2023-05-25T12:51:46.749Z"
   },
   {
    "duration": 12,
    "start_time": "2023-05-25T12:51:48.851Z"
   },
   {
    "duration": 13,
    "start_time": "2023-05-25T12:51:52.151Z"
   },
   {
    "duration": 11,
    "start_time": "2023-05-25T12:51:57.218Z"
   },
   {
    "duration": 129,
    "start_time": "2023-05-25T12:51:57.771Z"
   },
   {
    "duration": 390,
    "start_time": "2023-05-25T12:58:08.070Z"
   },
   {
    "duration": 36,
    "start_time": "2023-05-25T12:58:29.752Z"
   },
   {
    "duration": 11,
    "start_time": "2023-05-25T12:58:44.053Z"
   },
   {
    "duration": 10,
    "start_time": "2023-05-25T12:59:12.817Z"
   },
   {
    "duration": 13,
    "start_time": "2023-05-25T12:59:15.486Z"
   },
   {
    "duration": 1698,
    "start_time": "2023-05-25T13:35:52.123Z"
   },
   {
    "duration": 168,
    "start_time": "2023-05-25T13:35:53.823Z"
   },
   {
    "duration": 17,
    "start_time": "2023-05-25T13:35:53.996Z"
   },
   {
    "duration": 69,
    "start_time": "2023-05-25T13:35:54.015Z"
   },
   {
    "duration": 31,
    "start_time": "2023-05-25T13:35:54.088Z"
   },
   {
    "duration": 9,
    "start_time": "2023-05-25T13:35:54.120Z"
   },
   {
    "duration": 56,
    "start_time": "2023-05-25T13:35:54.131Z"
   },
   {
    "duration": 9,
    "start_time": "2023-05-25T13:35:54.189Z"
   },
   {
    "duration": 6,
    "start_time": "2023-05-25T13:35:54.201Z"
   },
   {
    "duration": 21,
    "start_time": "2023-05-25T13:35:54.209Z"
   },
   {
    "duration": 15,
    "start_time": "2023-05-25T13:35:54.232Z"
   },
   {
    "duration": 36,
    "start_time": "2023-05-25T13:35:54.249Z"
   },
   {
    "duration": 124,
    "start_time": "2023-05-25T13:35:54.286Z"
   },
   {
    "duration": 286,
    "start_time": "2023-05-25T13:35:54.412Z"
   },
   {
    "duration": 154,
    "start_time": "2023-05-25T13:35:54.701Z"
   },
   {
    "duration": 0,
    "start_time": "2023-05-25T13:35:54.858Z"
   },
   {
    "duration": 0,
    "start_time": "2023-05-25T13:35:54.859Z"
   },
   {
    "duration": 0,
    "start_time": "2023-05-25T13:35:54.860Z"
   },
   {
    "duration": 0,
    "start_time": "2023-05-25T13:35:54.862Z"
   },
   {
    "duration": 0,
    "start_time": "2023-05-25T13:35:54.863Z"
   },
   {
    "duration": 0,
    "start_time": "2023-05-25T13:35:54.872Z"
   },
   {
    "duration": 0,
    "start_time": "2023-05-25T13:35:54.874Z"
   },
   {
    "duration": 0,
    "start_time": "2023-05-25T13:35:54.996Z"
   },
   {
    "duration": 0,
    "start_time": "2023-05-25T13:35:54.998Z"
   },
   {
    "duration": 0,
    "start_time": "2023-05-25T13:35:54.999Z"
   },
   {
    "duration": 0,
    "start_time": "2023-05-25T13:35:55.001Z"
   },
   {
    "duration": 0,
    "start_time": "2023-05-25T13:35:55.003Z"
   },
   {
    "duration": 0,
    "start_time": "2023-05-25T13:35:55.005Z"
   },
   {
    "duration": 0,
    "start_time": "2023-05-25T13:35:55.006Z"
   },
   {
    "duration": 0,
    "start_time": "2023-05-25T13:35:55.008Z"
   },
   {
    "duration": 0,
    "start_time": "2023-05-25T13:35:55.010Z"
   },
   {
    "duration": 0,
    "start_time": "2023-05-25T13:35:55.012Z"
   },
   {
    "duration": 0,
    "start_time": "2023-05-25T13:35:55.013Z"
   },
   {
    "duration": 0,
    "start_time": "2023-05-25T13:35:55.015Z"
   },
   {
    "duration": 0,
    "start_time": "2023-05-25T13:35:55.017Z"
   },
   {
    "duration": 0,
    "start_time": "2023-05-25T13:35:55.018Z"
   },
   {
    "duration": 0,
    "start_time": "2023-05-25T13:35:55.019Z"
   },
   {
    "duration": 0,
    "start_time": "2023-05-25T13:35:55.021Z"
   },
   {
    "duration": 0,
    "start_time": "2023-05-25T13:35:55.023Z"
   },
   {
    "duration": 0,
    "start_time": "2023-05-25T13:35:55.024Z"
   },
   {
    "duration": 0,
    "start_time": "2023-05-25T13:35:55.026Z"
   },
   {
    "duration": 0,
    "start_time": "2023-05-25T13:35:55.078Z"
   },
   {
    "duration": 0,
    "start_time": "2023-05-25T13:35:55.079Z"
   },
   {
    "duration": 0,
    "start_time": "2023-05-25T13:35:55.079Z"
   },
   {
    "duration": 0,
    "start_time": "2023-05-25T13:35:55.080Z"
   },
   {
    "duration": 0,
    "start_time": "2023-05-25T13:35:55.081Z"
   },
   {
    "duration": 0,
    "start_time": "2023-05-25T13:35:55.081Z"
   },
   {
    "duration": 0,
    "start_time": "2023-05-25T13:35:55.082Z"
   },
   {
    "duration": 0,
    "start_time": "2023-05-25T13:35:55.083Z"
   },
   {
    "duration": 0,
    "start_time": "2023-05-25T13:35:55.083Z"
   },
   {
    "duration": 0,
    "start_time": "2023-05-25T13:35:55.084Z"
   },
   {
    "duration": 0,
    "start_time": "2023-05-25T13:35:55.085Z"
   },
   {
    "duration": 1883,
    "start_time": "2023-05-25T13:36:06.736Z"
   },
   {
    "duration": 103,
    "start_time": "2023-05-25T13:36:08.622Z"
   },
   {
    "duration": 22,
    "start_time": "2023-05-25T13:36:08.727Z"
   },
   {
    "duration": 133,
    "start_time": "2023-05-25T13:36:08.752Z"
   },
   {
    "duration": 40,
    "start_time": "2023-05-25T13:36:08.891Z"
   },
   {
    "duration": 46,
    "start_time": "2023-05-25T13:36:08.934Z"
   },
   {
    "duration": 49,
    "start_time": "2023-05-25T13:36:08.982Z"
   },
   {
    "duration": 10,
    "start_time": "2023-05-25T13:36:09.033Z"
   },
   {
    "duration": 13,
    "start_time": "2023-05-25T13:36:09.045Z"
   },
   {
    "duration": 35,
    "start_time": "2023-05-25T13:36:09.061Z"
   },
   {
    "duration": 12,
    "start_time": "2023-05-25T13:36:09.098Z"
   },
   {
    "duration": 16,
    "start_time": "2023-05-25T13:36:09.112Z"
   },
   {
    "duration": 156,
    "start_time": "2023-05-25T13:36:09.131Z"
   },
   {
    "duration": 301,
    "start_time": "2023-05-25T13:36:09.290Z"
   },
   {
    "duration": 141,
    "start_time": "2023-05-25T13:36:09.592Z"
   },
   {
    "duration": 0,
    "start_time": "2023-05-25T13:36:09.736Z"
   },
   {
    "duration": 0,
    "start_time": "2023-05-25T13:36:09.737Z"
   },
   {
    "duration": 0,
    "start_time": "2023-05-25T13:36:09.738Z"
   },
   {
    "duration": 0,
    "start_time": "2023-05-25T13:36:09.739Z"
   },
   {
    "duration": 0,
    "start_time": "2023-05-25T13:36:09.740Z"
   },
   {
    "duration": 0,
    "start_time": "2023-05-25T13:36:09.741Z"
   },
   {
    "duration": 0,
    "start_time": "2023-05-25T13:36:09.853Z"
   },
   {
    "duration": 0,
    "start_time": "2023-05-25T13:36:09.854Z"
   },
   {
    "duration": 0,
    "start_time": "2023-05-25T13:36:09.855Z"
   },
   {
    "duration": 0,
    "start_time": "2023-05-25T13:36:09.856Z"
   },
   {
    "duration": 0,
    "start_time": "2023-05-25T13:36:09.873Z"
   },
   {
    "duration": 0,
    "start_time": "2023-05-25T13:36:09.874Z"
   },
   {
    "duration": 0,
    "start_time": "2023-05-25T13:36:09.874Z"
   },
   {
    "duration": 0,
    "start_time": "2023-05-25T13:36:09.875Z"
   },
   {
    "duration": 0,
    "start_time": "2023-05-25T13:36:09.878Z"
   },
   {
    "duration": 0,
    "start_time": "2023-05-25T13:36:09.879Z"
   },
   {
    "duration": 0,
    "start_time": "2023-05-25T13:36:09.879Z"
   },
   {
    "duration": 0,
    "start_time": "2023-05-25T13:36:09.882Z"
   },
   {
    "duration": 0,
    "start_time": "2023-05-25T13:36:09.883Z"
   },
   {
    "duration": 0,
    "start_time": "2023-05-25T13:36:09.883Z"
   },
   {
    "duration": 0,
    "start_time": "2023-05-25T13:36:09.884Z"
   },
   {
    "duration": 0,
    "start_time": "2023-05-25T13:36:09.885Z"
   },
   {
    "duration": 0,
    "start_time": "2023-05-25T13:36:09.886Z"
   },
   {
    "duration": 0,
    "start_time": "2023-05-25T13:36:09.887Z"
   },
   {
    "duration": 0,
    "start_time": "2023-05-25T13:36:09.890Z"
   },
   {
    "duration": 0,
    "start_time": "2023-05-25T13:36:09.892Z"
   },
   {
    "duration": 0,
    "start_time": "2023-05-25T13:36:09.894Z"
   },
   {
    "duration": 0,
    "start_time": "2023-05-25T13:36:09.895Z"
   },
   {
    "duration": 0,
    "start_time": "2023-05-25T13:36:09.896Z"
   },
   {
    "duration": 0,
    "start_time": "2023-05-25T13:36:09.898Z"
   },
   {
    "duration": 0,
    "start_time": "2023-05-25T13:36:09.899Z"
   },
   {
    "duration": 0,
    "start_time": "2023-05-25T13:36:09.900Z"
   },
   {
    "duration": 0,
    "start_time": "2023-05-25T13:36:09.902Z"
   },
   {
    "duration": 0,
    "start_time": "2023-05-25T13:36:09.903Z"
   },
   {
    "duration": 0,
    "start_time": "2023-05-25T13:36:09.904Z"
   },
   {
    "duration": 0,
    "start_time": "2023-05-25T13:36:09.905Z"
   },
   {
    "duration": 0,
    "start_time": "2023-05-25T13:36:09.906Z"
   },
   {
    "duration": 1757,
    "start_time": "2023-05-25T13:36:27.600Z"
   },
   {
    "duration": 97,
    "start_time": "2023-05-25T13:36:29.359Z"
   },
   {
    "duration": 141,
    "start_time": "2023-05-25T13:36:29.458Z"
   },
   {
    "duration": 48,
    "start_time": "2023-05-25T13:36:29.602Z"
   },
   {
    "duration": 63,
    "start_time": "2023-05-25T13:36:29.653Z"
   },
   {
    "duration": 64,
    "start_time": "2023-05-25T13:36:29.718Z"
   },
   {
    "duration": 69,
    "start_time": "2023-05-25T13:36:29.784Z"
   },
   {
    "duration": 10,
    "start_time": "2023-05-25T13:36:29.855Z"
   },
   {
    "duration": 513,
    "start_time": "2023-05-25T13:36:29.867Z"
   },
   {
    "duration": 264,
    "start_time": "2023-05-25T13:36:30.387Z"
   },
   {
    "duration": 151,
    "start_time": "2023-05-25T13:36:30.653Z"
   },
   {
    "duration": 124,
    "start_time": "2023-05-25T13:36:30.806Z"
   },
   {
    "duration": 204,
    "start_time": "2023-05-25T13:36:30.932Z"
   },
   {
    "duration": 278,
    "start_time": "2023-05-25T13:36:31.137Z"
   },
   {
    "duration": 171,
    "start_time": "2023-05-25T13:36:31.416Z"
   },
   {
    "duration": 0,
    "start_time": "2023-05-25T13:36:31.591Z"
   },
   {
    "duration": 0,
    "start_time": "2023-05-25T13:36:31.592Z"
   },
   {
    "duration": 0,
    "start_time": "2023-05-25T13:36:31.593Z"
   },
   {
    "duration": 0,
    "start_time": "2023-05-25T13:36:31.595Z"
   },
   {
    "duration": 0,
    "start_time": "2023-05-25T13:36:31.597Z"
   },
   {
    "duration": 0,
    "start_time": "2023-05-25T13:36:31.598Z"
   },
   {
    "duration": 0,
    "start_time": "2023-05-25T13:36:31.599Z"
   },
   {
    "duration": 0,
    "start_time": "2023-05-25T13:36:31.728Z"
   },
   {
    "duration": 0,
    "start_time": "2023-05-25T13:36:31.730Z"
   },
   {
    "duration": 0,
    "start_time": "2023-05-25T13:36:31.732Z"
   },
   {
    "duration": 0,
    "start_time": "2023-05-25T13:36:31.734Z"
   },
   {
    "duration": 0,
    "start_time": "2023-05-25T13:36:31.735Z"
   },
   {
    "duration": 0,
    "start_time": "2023-05-25T13:36:31.736Z"
   },
   {
    "duration": 0,
    "start_time": "2023-05-25T13:36:31.738Z"
   },
   {
    "duration": 0,
    "start_time": "2023-05-25T13:36:31.739Z"
   },
   {
    "duration": 0,
    "start_time": "2023-05-25T13:36:31.740Z"
   },
   {
    "duration": 0,
    "start_time": "2023-05-25T13:36:31.742Z"
   },
   {
    "duration": 0,
    "start_time": "2023-05-25T13:36:31.743Z"
   },
   {
    "duration": 0,
    "start_time": "2023-05-25T13:36:31.745Z"
   },
   {
    "duration": 0,
    "start_time": "2023-05-25T13:36:31.746Z"
   },
   {
    "duration": 0,
    "start_time": "2023-05-25T13:36:31.747Z"
   },
   {
    "duration": 0,
    "start_time": "2023-05-25T13:36:31.777Z"
   },
   {
    "duration": 0,
    "start_time": "2023-05-25T13:36:31.778Z"
   },
   {
    "duration": 0,
    "start_time": "2023-05-25T13:36:31.779Z"
   },
   {
    "duration": 0,
    "start_time": "2023-05-25T13:36:31.780Z"
   },
   {
    "duration": 0,
    "start_time": "2023-05-25T13:36:31.780Z"
   },
   {
    "duration": 0,
    "start_time": "2023-05-25T13:36:31.781Z"
   },
   {
    "duration": 0,
    "start_time": "2023-05-25T13:36:31.784Z"
   },
   {
    "duration": 0,
    "start_time": "2023-05-25T13:36:31.784Z"
   },
   {
    "duration": 0,
    "start_time": "2023-05-25T13:36:31.785Z"
   },
   {
    "duration": 0,
    "start_time": "2023-05-25T13:36:31.787Z"
   },
   {
    "duration": 0,
    "start_time": "2023-05-25T13:36:31.791Z"
   },
   {
    "duration": 0,
    "start_time": "2023-05-25T13:36:31.792Z"
   },
   {
    "duration": 0,
    "start_time": "2023-05-25T13:36:31.794Z"
   },
   {
    "duration": 0,
    "start_time": "2023-05-25T13:36:31.795Z"
   },
   {
    "duration": 0,
    "start_time": "2023-05-25T13:36:31.796Z"
   },
   {
    "duration": 0,
    "start_time": "2023-05-25T13:36:31.798Z"
   },
   {
    "duration": 1683,
    "start_time": "2023-05-25T13:37:15.284Z"
   },
   {
    "duration": 98,
    "start_time": "2023-05-25T13:37:16.970Z"
   },
   {
    "duration": 17,
    "start_time": "2023-05-25T13:37:17.070Z"
   },
   {
    "duration": 56,
    "start_time": "2023-05-25T13:37:17.089Z"
   },
   {
    "duration": 24,
    "start_time": "2023-05-25T13:37:17.146Z"
   },
   {
    "duration": 16,
    "start_time": "2023-05-25T13:37:17.172Z"
   },
   {
    "duration": 61,
    "start_time": "2023-05-25T13:37:17.190Z"
   },
   {
    "duration": 9,
    "start_time": "2023-05-25T13:37:17.253Z"
   },
   {
    "duration": 26,
    "start_time": "2023-05-25T13:37:17.264Z"
   },
   {
    "duration": 53,
    "start_time": "2023-05-25T13:37:17.292Z"
   },
   {
    "duration": 51,
    "start_time": "2023-05-25T13:37:17.347Z"
   },
   {
    "duration": 65,
    "start_time": "2023-05-25T13:37:17.399Z"
   },
   {
    "duration": 138,
    "start_time": "2023-05-25T13:37:17.466Z"
   },
   {
    "duration": 278,
    "start_time": "2023-05-25T13:37:17.606Z"
   },
   {
    "duration": 160,
    "start_time": "2023-05-25T13:37:17.886Z"
   },
   {
    "duration": 0,
    "start_time": "2023-05-25T13:37:18.049Z"
   },
   {
    "duration": 0,
    "start_time": "2023-05-25T13:37:18.050Z"
   },
   {
    "duration": 0,
    "start_time": "2023-05-25T13:37:18.051Z"
   },
   {
    "duration": 0,
    "start_time": "2023-05-25T13:37:18.052Z"
   },
   {
    "duration": 0,
    "start_time": "2023-05-25T13:37:18.053Z"
   },
   {
    "duration": 0,
    "start_time": "2023-05-25T13:37:18.054Z"
   },
   {
    "duration": 0,
    "start_time": "2023-05-25T13:37:18.155Z"
   },
   {
    "duration": 0,
    "start_time": "2023-05-25T13:37:18.156Z"
   },
   {
    "duration": 0,
    "start_time": "2023-05-25T13:37:18.157Z"
   },
   {
    "duration": 0,
    "start_time": "2023-05-25T13:37:18.157Z"
   },
   {
    "duration": 0,
    "start_time": "2023-05-25T13:37:18.158Z"
   },
   {
    "duration": 0,
    "start_time": "2023-05-25T13:37:18.159Z"
   },
   {
    "duration": 0,
    "start_time": "2023-05-25T13:37:18.170Z"
   },
   {
    "duration": 0,
    "start_time": "2023-05-25T13:37:18.173Z"
   },
   {
    "duration": 0,
    "start_time": "2023-05-25T13:37:18.174Z"
   },
   {
    "duration": 0,
    "start_time": "2023-05-25T13:37:18.175Z"
   },
   {
    "duration": 0,
    "start_time": "2023-05-25T13:37:18.177Z"
   },
   {
    "duration": 0,
    "start_time": "2023-05-25T13:37:18.178Z"
   },
   {
    "duration": 0,
    "start_time": "2023-05-25T13:37:18.179Z"
   },
   {
    "duration": 0,
    "start_time": "2023-05-25T13:37:18.180Z"
   },
   {
    "duration": 0,
    "start_time": "2023-05-25T13:37:18.181Z"
   },
   {
    "duration": 0,
    "start_time": "2023-05-25T13:37:18.182Z"
   },
   {
    "duration": 0,
    "start_time": "2023-05-25T13:37:18.183Z"
   },
   {
    "duration": 0,
    "start_time": "2023-05-25T13:37:18.184Z"
   },
   {
    "duration": 0,
    "start_time": "2023-05-25T13:37:18.185Z"
   },
   {
    "duration": 0,
    "start_time": "2023-05-25T13:37:18.186Z"
   },
   {
    "duration": 0,
    "start_time": "2023-05-25T13:37:18.187Z"
   },
   {
    "duration": 0,
    "start_time": "2023-05-25T13:37:18.188Z"
   },
   {
    "duration": 0,
    "start_time": "2023-05-25T13:37:18.189Z"
   },
   {
    "duration": 0,
    "start_time": "2023-05-25T13:37:18.190Z"
   },
   {
    "duration": 0,
    "start_time": "2023-05-25T13:37:18.191Z"
   },
   {
    "duration": 0,
    "start_time": "2023-05-25T13:37:18.192Z"
   },
   {
    "duration": 0,
    "start_time": "2023-05-25T13:37:18.193Z"
   },
   {
    "duration": 0,
    "start_time": "2023-05-25T13:37:18.194Z"
   },
   {
    "duration": 0,
    "start_time": "2023-05-25T13:37:18.195Z"
   },
   {
    "duration": 0,
    "start_time": "2023-05-25T13:37:18.196Z"
   },
   {
    "duration": 0,
    "start_time": "2023-05-25T13:37:18.197Z"
   },
   {
    "duration": 12,
    "start_time": "2023-05-25T13:38:05.182Z"
   },
   {
    "duration": 447,
    "start_time": "2023-05-25T13:39:34.184Z"
   },
   {
    "duration": 395,
    "start_time": "2023-05-25T13:39:46.948Z"
   },
   {
    "duration": 406,
    "start_time": "2023-05-25T13:39:56.673Z"
   },
   {
    "duration": 513,
    "start_time": "2023-05-25T13:40:05.886Z"
   },
   {
    "duration": 439,
    "start_time": "2023-05-25T13:40:18.436Z"
   },
   {
    "duration": 597,
    "start_time": "2023-05-25T13:40:30.388Z"
   },
   {
    "duration": 22,
    "start_time": "2023-05-25T13:42:32.918Z"
   },
   {
    "duration": 454,
    "start_time": "2023-05-25T13:42:55.184Z"
   },
   {
    "duration": 406,
    "start_time": "2023-05-25T13:43:21.870Z"
   },
   {
    "duration": 399,
    "start_time": "2023-05-25T13:43:41.698Z"
   },
   {
    "duration": 427,
    "start_time": "2023-05-25T13:44:26.950Z"
   },
   {
    "duration": 21,
    "start_time": "2023-05-25T13:46:15.899Z"
   },
   {
    "duration": 2477,
    "start_time": "2023-05-25T13:47:14.816Z"
   },
   {
    "duration": 0,
    "start_time": "2023-05-25T13:47:17.296Z"
   },
   {
    "duration": 28,
    "start_time": "2023-05-25T13:47:53.473Z"
   },
   {
    "duration": 2053,
    "start_time": "2023-05-25T13:48:47.800Z"
   },
   {
    "duration": 126,
    "start_time": "2023-05-25T13:48:49.855Z"
   },
   {
    "duration": 26,
    "start_time": "2023-05-25T13:48:49.983Z"
   },
   {
    "duration": 109,
    "start_time": "2023-05-25T13:48:50.012Z"
   },
   {
    "duration": 29,
    "start_time": "2023-05-25T13:48:50.124Z"
   },
   {
    "duration": 9,
    "start_time": "2023-05-25T13:48:50.154Z"
   },
   {
    "duration": 71,
    "start_time": "2023-05-25T13:48:50.165Z"
   },
   {
    "duration": 10,
    "start_time": "2023-05-25T13:48:50.238Z"
   },
   {
    "duration": 11,
    "start_time": "2023-05-25T13:48:50.249Z"
   },
   {
    "duration": 46,
    "start_time": "2023-05-25T13:48:50.262Z"
   },
   {
    "duration": 29,
    "start_time": "2023-05-25T13:48:50.313Z"
   },
   {
    "duration": 18,
    "start_time": "2023-05-25T13:48:50.344Z"
   },
   {
    "duration": 221,
    "start_time": "2023-05-25T13:48:50.364Z"
   },
   {
    "duration": 304,
    "start_time": "2023-05-25T13:48:50.593Z"
   },
   {
    "duration": 10,
    "start_time": "2023-05-25T13:48:50.903Z"
   },
   {
    "duration": 28,
    "start_time": "2023-05-25T13:48:50.915Z"
   },
   {
    "duration": 60,
    "start_time": "2023-05-25T13:48:50.945Z"
   },
   {
    "duration": 8,
    "start_time": "2023-05-25T13:48:51.007Z"
   },
   {
    "duration": 31,
    "start_time": "2023-05-25T13:48:51.017Z"
   },
   {
    "duration": 107,
    "start_time": "2023-05-25T13:48:51.050Z"
   },
   {
    "duration": 30,
    "start_time": "2023-05-25T13:48:51.159Z"
   },
   {
    "duration": 218,
    "start_time": "2023-05-25T13:48:51.194Z"
   },
   {
    "duration": 24,
    "start_time": "2023-05-25T13:48:51.414Z"
   },
   {
    "duration": 254,
    "start_time": "2023-05-25T13:48:51.473Z"
   },
   {
    "duration": 0,
    "start_time": "2023-05-25T13:48:51.730Z"
   },
   {
    "duration": 0,
    "start_time": "2023-05-25T13:48:51.730Z"
   },
   {
    "duration": 0,
    "start_time": "2023-05-25T13:48:51.732Z"
   },
   {
    "duration": 0,
    "start_time": "2023-05-25T13:48:51.733Z"
   },
   {
    "duration": 0,
    "start_time": "2023-05-25T13:48:51.734Z"
   },
   {
    "duration": 0,
    "start_time": "2023-05-25T13:48:51.735Z"
   },
   {
    "duration": 0,
    "start_time": "2023-05-25T13:48:51.737Z"
   },
   {
    "duration": 0,
    "start_time": "2023-05-25T13:48:51.739Z"
   },
   {
    "duration": 0,
    "start_time": "2023-05-25T13:48:51.740Z"
   },
   {
    "duration": 0,
    "start_time": "2023-05-25T13:48:51.741Z"
   },
   {
    "duration": 0,
    "start_time": "2023-05-25T13:48:51.780Z"
   },
   {
    "duration": 0,
    "start_time": "2023-05-25T13:48:51.782Z"
   },
   {
    "duration": 0,
    "start_time": "2023-05-25T13:48:51.784Z"
   },
   {
    "duration": 0,
    "start_time": "2023-05-25T13:48:51.785Z"
   },
   {
    "duration": 0,
    "start_time": "2023-05-25T13:48:51.786Z"
   },
   {
    "duration": 0,
    "start_time": "2023-05-25T13:48:51.787Z"
   },
   {
    "duration": 0,
    "start_time": "2023-05-25T13:48:51.792Z"
   },
   {
    "duration": 0,
    "start_time": "2023-05-25T13:48:51.793Z"
   },
   {
    "duration": 0,
    "start_time": "2023-05-25T13:48:51.793Z"
   },
   {
    "duration": 0,
    "start_time": "2023-05-25T13:48:51.794Z"
   },
   {
    "duration": 1,
    "start_time": "2023-05-25T13:48:51.795Z"
   },
   {
    "duration": 1,
    "start_time": "2023-05-25T13:48:51.796Z"
   },
   {
    "duration": 0,
    "start_time": "2023-05-25T13:48:51.797Z"
   },
   {
    "duration": 0,
    "start_time": "2023-05-25T13:48:51.798Z"
   },
   {
    "duration": 0,
    "start_time": "2023-05-25T13:48:51.799Z"
   },
   {
    "duration": 0,
    "start_time": "2023-05-25T13:48:51.800Z"
   },
   {
    "duration": 0,
    "start_time": "2023-05-25T13:48:51.801Z"
   },
   {
    "duration": 0,
    "start_time": "2023-05-25T13:48:51.802Z"
   },
   {
    "duration": 0,
    "start_time": "2023-05-25T13:48:51.803Z"
   },
   {
    "duration": 0,
    "start_time": "2023-05-25T13:48:51.804Z"
   },
   {
    "duration": 0,
    "start_time": "2023-05-25T13:48:51.805Z"
   },
   {
    "duration": 0,
    "start_time": "2023-05-25T13:48:51.809Z"
   },
   {
    "duration": 5,
    "start_time": "2023-05-25T13:49:07.504Z"
   },
   {
    "duration": 112,
    "start_time": "2023-05-25T13:49:08.153Z"
   },
   {
    "duration": 15,
    "start_time": "2023-05-25T13:49:08.947Z"
   },
   {
    "duration": 35,
    "start_time": "2023-05-25T13:49:11.116Z"
   },
   {
    "duration": 38,
    "start_time": "2023-05-25T13:49:11.974Z"
   },
   {
    "duration": 16,
    "start_time": "2023-05-25T13:49:12.790Z"
   },
   {
    "duration": 37,
    "start_time": "2023-05-25T13:49:13.796Z"
   },
   {
    "duration": 19,
    "start_time": "2023-05-25T13:49:14.569Z"
   },
   {
    "duration": 5,
    "start_time": "2023-05-25T13:49:17.850Z"
   },
   {
    "duration": 11,
    "start_time": "2023-05-25T13:49:19.318Z"
   },
   {
    "duration": 13,
    "start_time": "2023-05-25T13:49:20.734Z"
   },
   {
    "duration": 15,
    "start_time": "2023-05-25T13:49:21.752Z"
   },
   {
    "duration": 143,
    "start_time": "2023-05-25T13:49:22.554Z"
   },
   {
    "duration": 325,
    "start_time": "2023-05-25T13:49:23.419Z"
   },
   {
    "duration": 9,
    "start_time": "2023-05-25T13:49:25.059Z"
   },
   {
    "duration": 15,
    "start_time": "2023-05-25T13:49:25.650Z"
   },
   {
    "duration": 5,
    "start_time": "2023-05-25T13:49:26.241Z"
   },
   {
    "duration": 4,
    "start_time": "2023-05-25T13:49:26.817Z"
   },
   {
    "duration": 34,
    "start_time": "2023-05-25T13:49:27.297Z"
   },
   {
    "duration": 16,
    "start_time": "2023-05-25T13:49:28.069Z"
   },
   {
    "duration": 21,
    "start_time": "2023-05-25T13:49:29.351Z"
   },
   {
    "duration": 20,
    "start_time": "2023-05-25T13:49:45.105Z"
   },
   {
    "duration": 35,
    "start_time": "2023-05-25T13:49:46.151Z"
   },
   {
    "duration": 23,
    "start_time": "2023-05-25T13:49:46.419Z"
   },
   {
    "duration": 4,
    "start_time": "2023-05-25T13:50:54.002Z"
   },
   {
    "duration": 11,
    "start_time": "2023-05-25T13:50:54.501Z"
   },
   {
    "duration": 11,
    "start_time": "2023-05-25T13:50:54.988Z"
   },
   {
    "duration": 11,
    "start_time": "2023-05-25T13:50:55.402Z"
   },
   {
    "duration": 176,
    "start_time": "2023-05-25T13:50:55.792Z"
   },
   {
    "duration": 368,
    "start_time": "2023-05-25T13:50:56.080Z"
   },
   {
    "duration": 13,
    "start_time": "2023-05-25T13:50:56.582Z"
   },
   {
    "duration": 10,
    "start_time": "2023-05-25T13:50:56.817Z"
   },
   {
    "duration": 4,
    "start_time": "2023-05-25T13:50:57.016Z"
   },
   {
    "duration": 4,
    "start_time": "2023-05-25T13:50:57.283Z"
   },
   {
    "duration": 35,
    "start_time": "2023-05-25T13:50:57.653Z"
   },
   {
    "duration": 8,
    "start_time": "2023-05-25T13:50:57.903Z"
   },
   {
    "duration": 33,
    "start_time": "2023-05-25T13:50:58.153Z"
   },
   {
    "duration": 18,
    "start_time": "2023-05-25T13:51:03.203Z"
   },
   {
    "duration": 23,
    "start_time": "2023-05-25T13:51:03.882Z"
   },
   {
    "duration": 20,
    "start_time": "2023-05-25T13:51:04.518Z"
   },
   {
    "duration": 33,
    "start_time": "2023-05-25T13:51:05.950Z"
   },
   {
    "duration": 23,
    "start_time": "2023-05-25T13:51:06.285Z"
   },
   {
    "duration": 545,
    "start_time": "2023-05-25T13:51:06.719Z"
   },
   {
    "duration": 26,
    "start_time": "2023-05-25T13:51:08.470Z"
   },
   {
    "duration": 57,
    "start_time": "2023-05-25T13:51:09.175Z"
   },
   {
    "duration": 7,
    "start_time": "2023-05-25T13:51:10.952Z"
   },
   {
    "duration": 18,
    "start_time": "2023-05-25T13:51:11.286Z"
   },
   {
    "duration": 553,
    "start_time": "2023-05-25T13:51:11.620Z"
   },
   {
    "duration": 13,
    "start_time": "2023-05-25T13:51:13.389Z"
   },
   {
    "duration": 65,
    "start_time": "2023-05-25T13:51:13.919Z"
   },
   {
    "duration": 20,
    "start_time": "2023-05-25T13:51:15.180Z"
   },
   {
    "duration": 206,
    "start_time": "2023-05-25T13:51:15.684Z"
   },
   {
    "duration": 162,
    "start_time": "2023-05-25T13:51:16.089Z"
   },
   {
    "duration": 6335,
    "start_time": "2023-05-25T13:51:18.100Z"
   },
   {
    "duration": 35,
    "start_time": "2023-05-25T13:51:24.440Z"
   },
   {
    "duration": 44,
    "start_time": "2023-05-25T13:51:24.477Z"
   },
   {
    "duration": 92,
    "start_time": "2023-05-25T13:51:24.523Z"
   },
   {
    "duration": 536,
    "start_time": "2023-05-25T13:51:24.618Z"
   },
   {
    "duration": 21,
    "start_time": "2023-05-25T13:51:26.390Z"
   },
   {
    "duration": 13,
    "start_time": "2023-05-25T13:51:28.489Z"
   },
   {
    "duration": 114,
    "start_time": "2023-05-25T13:51:28.786Z"
   },
   {
    "duration": 135,
    "start_time": "2023-05-25T13:51:29.091Z"
   },
   {
    "duration": 13,
    "start_time": "2023-05-25T13:51:31.818Z"
   },
   {
    "duration": 26,
    "start_time": "2023-05-25T13:51:32.635Z"
   },
   {
    "duration": 18,
    "start_time": "2023-05-25T13:51:33.218Z"
   },
   {
    "duration": 273,
    "start_time": "2023-05-25T13:51:39.417Z"
   },
   {
    "duration": 19,
    "start_time": "2023-05-25T13:51:40.720Z"
   },
   {
    "duration": 7,
    "start_time": "2023-05-25T13:51:41.919Z"
   },
   {
    "duration": 116,
    "start_time": "2023-05-25T13:51:42.836Z"
   },
   {
    "duration": 13,
    "start_time": "2023-05-25T13:51:43.703Z"
   },
   {
    "duration": 395,
    "start_time": "2023-05-25T13:51:49.685Z"
   },
   {
    "duration": 463,
    "start_time": "2023-05-25T13:51:50.086Z"
   },
   {
    "duration": 1874,
    "start_time": "2023-05-25T15:19:34.757Z"
   },
   {
    "duration": 119,
    "start_time": "2023-05-25T15:19:36.634Z"
   },
   {
    "duration": 33,
    "start_time": "2023-05-25T15:19:36.755Z"
   },
   {
    "duration": 60,
    "start_time": "2023-05-25T15:19:36.794Z"
   },
   {
    "duration": 34,
    "start_time": "2023-05-25T15:19:36.856Z"
   },
   {
    "duration": 13,
    "start_time": "2023-05-25T15:19:36.893Z"
   },
   {
    "duration": 35,
    "start_time": "2023-05-25T15:19:36.908Z"
   },
   {
    "duration": 33,
    "start_time": "2023-05-25T15:19:36.945Z"
   },
   {
    "duration": 7,
    "start_time": "2023-05-25T15:19:36.984Z"
   },
   {
    "duration": 32,
    "start_time": "2023-05-25T15:19:36.995Z"
   },
   {
    "duration": 13,
    "start_time": "2023-05-25T15:19:37.029Z"
   },
   {
    "duration": 12,
    "start_time": "2023-05-25T15:19:37.044Z"
   },
   {
    "duration": 170,
    "start_time": "2023-05-25T15:19:37.057Z"
   },
   {
    "duration": 339,
    "start_time": "2023-05-25T15:19:37.230Z"
   },
   {
    "duration": 17,
    "start_time": "2023-05-25T15:19:37.571Z"
   },
   {
    "duration": 21,
    "start_time": "2023-05-25T15:19:37.590Z"
   },
   {
    "duration": 5,
    "start_time": "2023-05-25T15:19:37.613Z"
   },
   {
    "duration": 9,
    "start_time": "2023-05-25T15:19:37.620Z"
   },
   {
    "duration": 33,
    "start_time": "2023-05-25T15:19:37.631Z"
   },
   {
    "duration": 125,
    "start_time": "2023-05-25T15:19:37.666Z"
   },
   {
    "duration": 28,
    "start_time": "2023-05-25T15:19:37.792Z"
   },
   {
    "duration": 187,
    "start_time": "2023-05-25T15:19:37.823Z"
   },
   {
    "duration": 23,
    "start_time": "2023-05-25T15:19:38.012Z"
   },
   {
    "duration": 37,
    "start_time": "2023-05-25T15:19:38.071Z"
   },
   {
    "duration": 73,
    "start_time": "2023-05-25T15:19:38.110Z"
   },
   {
    "duration": 28,
    "start_time": "2023-05-25T15:19:38.189Z"
   },
   {
    "duration": 342,
    "start_time": "2023-05-25T15:19:38.220Z"
   },
   {
    "duration": 23,
    "start_time": "2023-05-25T15:19:38.570Z"
   },
   {
    "duration": 97,
    "start_time": "2023-05-25T15:19:38.595Z"
   },
   {
    "duration": 8,
    "start_time": "2023-05-25T15:19:38.695Z"
   },
   {
    "duration": 32,
    "start_time": "2023-05-25T15:19:38.706Z"
   },
   {
    "duration": 208,
    "start_time": "2023-05-25T15:19:38.740Z"
   },
   {
    "duration": 0,
    "start_time": "2023-05-25T15:19:38.949Z"
   },
   {
    "duration": 0,
    "start_time": "2023-05-25T15:19:38.951Z"
   },
   {
    "duration": 0,
    "start_time": "2023-05-25T15:19:38.952Z"
   },
   {
    "duration": 0,
    "start_time": "2023-05-25T15:19:38.953Z"
   },
   {
    "duration": 0,
    "start_time": "2023-05-25T15:19:38.954Z"
   },
   {
    "duration": 0,
    "start_time": "2023-05-25T15:19:38.955Z"
   },
   {
    "duration": 0,
    "start_time": "2023-05-25T15:19:38.973Z"
   },
   {
    "duration": 0,
    "start_time": "2023-05-25T15:19:38.974Z"
   },
   {
    "duration": 0,
    "start_time": "2023-05-25T15:19:38.974Z"
   },
   {
    "duration": 0,
    "start_time": "2023-05-25T15:19:38.975Z"
   },
   {
    "duration": 0,
    "start_time": "2023-05-25T15:19:38.976Z"
   },
   {
    "duration": 0,
    "start_time": "2023-05-25T15:19:38.977Z"
   },
   {
    "duration": 0,
    "start_time": "2023-05-25T15:19:38.977Z"
   },
   {
    "duration": 0,
    "start_time": "2023-05-25T15:19:38.978Z"
   },
   {
    "duration": 0,
    "start_time": "2023-05-25T15:19:38.978Z"
   },
   {
    "duration": 0,
    "start_time": "2023-05-25T15:19:38.979Z"
   },
   {
    "duration": 0,
    "start_time": "2023-05-25T15:19:38.980Z"
   },
   {
    "duration": 0,
    "start_time": "2023-05-25T15:19:38.980Z"
   },
   {
    "duration": 0,
    "start_time": "2023-05-25T15:19:38.981Z"
   },
   {
    "duration": 0,
    "start_time": "2023-05-25T15:19:38.985Z"
   },
   {
    "duration": 0,
    "start_time": "2023-05-25T15:19:38.986Z"
   },
   {
    "duration": 0,
    "start_time": "2023-05-25T15:19:38.986Z"
   },
   {
    "duration": 0,
    "start_time": "2023-05-25T15:19:38.987Z"
   },
   {
    "duration": 0,
    "start_time": "2023-05-25T15:19:38.988Z"
   },
   {
    "duration": 0,
    "start_time": "2023-05-25T15:19:38.990Z"
   },
   {
    "duration": 620,
    "start_time": "2023-05-25T15:24:07.599Z"
   },
   {
    "duration": 23,
    "start_time": "2023-05-25T15:24:22.424Z"
   },
   {
    "duration": 29,
    "start_time": "2023-05-25T15:24:46.114Z"
   },
   {
    "duration": 5,
    "start_time": "2023-05-25T15:25:40.642Z"
   },
   {
    "duration": 17,
    "start_time": "2023-05-25T15:26:05.361Z"
   },
   {
    "duration": 729,
    "start_time": "2023-05-25T15:26:14.483Z"
   },
   {
    "duration": 14,
    "start_time": "2023-05-25T15:29:32.675Z"
   },
   {
    "duration": 1636,
    "start_time": "2023-05-25T15:29:47.345Z"
   },
   {
    "duration": 92,
    "start_time": "2023-05-25T15:29:48.983Z"
   },
   {
    "duration": 16,
    "start_time": "2023-05-25T15:29:49.077Z"
   },
   {
    "duration": 57,
    "start_time": "2023-05-25T15:29:49.095Z"
   },
   {
    "duration": 45,
    "start_time": "2023-05-25T15:29:49.155Z"
   },
   {
    "duration": 15,
    "start_time": "2023-05-25T15:29:49.202Z"
   },
   {
    "duration": 46,
    "start_time": "2023-05-25T15:29:49.219Z"
   },
   {
    "duration": 9,
    "start_time": "2023-05-25T15:29:49.267Z"
   },
   {
    "duration": 21,
    "start_time": "2023-05-25T15:29:49.278Z"
   },
   {
    "duration": 32,
    "start_time": "2023-05-25T15:29:49.301Z"
   },
   {
    "duration": 37,
    "start_time": "2023-05-25T15:29:49.334Z"
   },
   {
    "duration": 26,
    "start_time": "2023-05-25T15:29:49.373Z"
   },
   {
    "duration": 139,
    "start_time": "2023-05-25T15:29:49.401Z"
   },
   {
    "duration": 309,
    "start_time": "2023-05-25T15:29:49.544Z"
   },
   {
    "duration": 15,
    "start_time": "2023-05-25T15:29:49.856Z"
   },
   {
    "duration": 48,
    "start_time": "2023-05-25T15:29:49.873Z"
   },
   {
    "duration": 22,
    "start_time": "2023-05-25T15:29:49.922Z"
   },
   {
    "duration": 31,
    "start_time": "2023-05-25T15:29:49.947Z"
   },
   {
    "duration": 45,
    "start_time": "2023-05-25T15:29:49.980Z"
   },
   {
    "duration": 102,
    "start_time": "2023-05-25T15:29:50.026Z"
   },
   {
    "duration": 47,
    "start_time": "2023-05-25T15:29:50.130Z"
   },
   {
    "duration": 174,
    "start_time": "2023-05-25T15:29:50.179Z"
   },
   {
    "duration": 26,
    "start_time": "2023-05-25T15:29:50.356Z"
   },
   {
    "duration": 94,
    "start_time": "2023-05-25T15:29:50.384Z"
   },
   {
    "duration": 30,
    "start_time": "2023-05-25T15:29:50.481Z"
   },
   {
    "duration": 24,
    "start_time": "2023-05-25T15:29:50.513Z"
   },
   {
    "duration": 289,
    "start_time": "2023-05-25T15:29:50.538Z"
   },
   {
    "duration": 16,
    "start_time": "2023-05-25T15:29:50.829Z"
   },
   {
    "duration": 90,
    "start_time": "2023-05-25T15:29:50.846Z"
   },
   {
    "duration": 6,
    "start_time": "2023-05-25T15:29:50.937Z"
   },
   {
    "duration": 33,
    "start_time": "2023-05-25T15:29:50.945Z"
   },
   {
    "duration": 528,
    "start_time": "2023-05-25T15:29:50.980Z"
   },
   {
    "duration": 14,
    "start_time": "2023-05-25T15:29:51.510Z"
   },
   {
    "duration": 72,
    "start_time": "2023-05-25T15:29:51.527Z"
   },
   {
    "duration": 12,
    "start_time": "2023-05-25T15:29:51.601Z"
   },
   {
    "duration": 231,
    "start_time": "2023-05-25T15:29:51.615Z"
   },
   {
    "duration": 136,
    "start_time": "2023-05-25T15:29:51.849Z"
   },
   {
    "duration": 5589,
    "start_time": "2023-05-25T15:29:51.986Z"
   },
   {
    "duration": 17,
    "start_time": "2023-05-25T15:29:57.577Z"
   },
   {
    "duration": 10,
    "start_time": "2023-05-25T15:29:57.597Z"
   },
   {
    "duration": 99,
    "start_time": "2023-05-25T15:29:57.613Z"
   },
   {
    "duration": 561,
    "start_time": "2023-05-25T15:29:57.713Z"
   },
   {
    "duration": 20,
    "start_time": "2023-05-25T15:29:58.276Z"
   },
   {
    "duration": 13,
    "start_time": "2023-05-25T15:29:58.298Z"
   },
   {
    "duration": 84,
    "start_time": "2023-05-25T15:29:58.313Z"
   },
   {
    "duration": 139,
    "start_time": "2023-05-25T15:29:58.399Z"
   },
   {
    "duration": 12,
    "start_time": "2023-05-25T15:29:58.540Z"
   },
   {
    "duration": 22,
    "start_time": "2023-05-25T15:29:58.570Z"
   },
   {
    "duration": 19,
    "start_time": "2023-05-25T15:29:58.595Z"
   },
   {
    "duration": 271,
    "start_time": "2023-05-25T15:29:58.617Z"
   },
   {
    "duration": 20,
    "start_time": "2023-05-25T15:29:58.890Z"
   },
   {
    "duration": 12,
    "start_time": "2023-05-25T15:29:58.911Z"
   },
   {
    "duration": 15,
    "start_time": "2023-05-25T15:29:58.925Z"
   },
   {
    "duration": 203,
    "start_time": "2023-05-25T15:29:58.942Z"
   },
   {
    "duration": 0,
    "start_time": "2023-05-25T15:29:59.147Z"
   },
   {
    "duration": 0,
    "start_time": "2023-05-25T15:29:59.148Z"
   },
   {
    "duration": 0,
    "start_time": "2023-05-25T15:29:59.150Z"
   },
   {
    "duration": 20,
    "start_time": "2023-05-25T15:36:39.781Z"
   },
   {
    "duration": 15,
    "start_time": "2023-05-25T15:40:34.431Z"
   },
   {
    "duration": 5,
    "start_time": "2023-05-25T15:40:47.385Z"
   },
   {
    "duration": 7,
    "start_time": "2023-05-25T15:41:00.701Z"
   },
   {
    "duration": 308,
    "start_time": "2023-05-25T15:41:10.663Z"
   },
   {
    "duration": 1620,
    "start_time": "2023-05-25T15:49:09.061Z"
   },
   {
    "duration": 90,
    "start_time": "2023-05-25T15:49:10.683Z"
   },
   {
    "duration": 15,
    "start_time": "2023-05-25T15:49:10.775Z"
   },
   {
    "duration": 59,
    "start_time": "2023-05-25T15:49:10.792Z"
   },
   {
    "duration": 21,
    "start_time": "2023-05-25T15:49:10.853Z"
   },
   {
    "duration": 29,
    "start_time": "2023-05-25T15:49:10.876Z"
   },
   {
    "duration": 41,
    "start_time": "2023-05-25T15:49:10.907Z"
   },
   {
    "duration": 10,
    "start_time": "2023-05-25T15:49:10.951Z"
   },
   {
    "duration": 31,
    "start_time": "2023-05-25T15:49:10.963Z"
   },
   {
    "duration": 44,
    "start_time": "2023-05-25T15:49:10.998Z"
   },
   {
    "duration": 205,
    "start_time": "2023-05-25T15:49:11.044Z"
   },
   {
    "duration": 108,
    "start_time": "2023-05-25T15:49:11.252Z"
   },
   {
    "duration": 197,
    "start_time": "2023-05-25T15:49:11.362Z"
   },
   {
    "duration": 275,
    "start_time": "2023-05-25T15:49:11.562Z"
   },
   {
    "duration": 8,
    "start_time": "2023-05-25T15:49:11.839Z"
   },
   {
    "duration": 25,
    "start_time": "2023-05-25T15:49:11.849Z"
   },
   {
    "duration": 17,
    "start_time": "2023-05-25T15:49:11.876Z"
   },
   {
    "duration": 27,
    "start_time": "2023-05-25T15:49:11.895Z"
   },
   {
    "duration": 33,
    "start_time": "2023-05-25T15:49:11.924Z"
   },
   {
    "duration": 131,
    "start_time": "2023-05-25T15:49:11.959Z"
   },
   {
    "duration": 23,
    "start_time": "2023-05-25T15:49:12.092Z"
   },
   {
    "duration": 154,
    "start_time": "2023-05-25T15:49:12.117Z"
   },
   {
    "duration": 21,
    "start_time": "2023-05-25T15:49:12.273Z"
   },
   {
    "duration": 17,
    "start_time": "2023-05-25T15:49:12.296Z"
   },
   {
    "duration": 67,
    "start_time": "2023-05-25T15:49:12.315Z"
   },
   {
    "duration": 24,
    "start_time": "2023-05-25T15:49:12.383Z"
   },
   {
    "duration": 311,
    "start_time": "2023-05-25T15:49:12.408Z"
   },
   {
    "duration": 17,
    "start_time": "2023-05-25T15:49:12.723Z"
   },
   {
    "duration": 90,
    "start_time": "2023-05-25T15:49:12.742Z"
   },
   {
    "duration": 6,
    "start_time": "2023-05-25T15:49:12.834Z"
   },
   {
    "duration": 24,
    "start_time": "2023-05-25T15:49:12.841Z"
   },
   {
    "duration": 505,
    "start_time": "2023-05-25T15:49:12.866Z"
   },
   {
    "duration": 13,
    "start_time": "2023-05-25T15:49:13.373Z"
   },
   {
    "duration": 78,
    "start_time": "2023-05-25T15:49:13.387Z"
   },
   {
    "duration": 42,
    "start_time": "2023-05-25T15:49:13.466Z"
   },
   {
    "duration": 230,
    "start_time": "2023-05-25T15:49:13.511Z"
   },
   {
    "duration": 136,
    "start_time": "2023-05-25T15:49:13.743Z"
   },
   {
    "duration": 5643,
    "start_time": "2023-05-25T15:49:13.881Z"
   },
   {
    "duration": 13,
    "start_time": "2023-05-25T15:49:19.527Z"
   },
   {
    "duration": 35,
    "start_time": "2023-05-25T15:49:19.542Z"
   },
   {
    "duration": 105,
    "start_time": "2023-05-25T15:49:19.578Z"
   },
   {
    "duration": 432,
    "start_time": "2023-05-25T15:49:19.685Z"
   },
   {
    "duration": 17,
    "start_time": "2023-05-25T15:49:20.119Z"
   },
   {
    "duration": 15,
    "start_time": "2023-05-25T15:49:20.138Z"
   },
   {
    "duration": 81,
    "start_time": "2023-05-25T15:49:20.155Z"
   },
   {
    "duration": 117,
    "start_time": "2023-05-25T15:49:20.238Z"
   },
   {
    "duration": 15,
    "start_time": "2023-05-25T15:49:20.357Z"
   },
   {
    "duration": 13,
    "start_time": "2023-05-25T15:49:20.374Z"
   },
   {
    "duration": 114,
    "start_time": "2023-05-25T15:49:20.389Z"
   },
   {
    "duration": 37,
    "start_time": "2023-05-25T15:49:20.505Z"
   },
   {
    "duration": 313,
    "start_time": "2023-05-25T15:49:20.544Z"
   },
   {
    "duration": 13,
    "start_time": "2023-05-25T15:49:20.859Z"
   },
   {
    "duration": 110,
    "start_time": "2023-05-25T15:49:20.874Z"
   },
   {
    "duration": 7,
    "start_time": "2023-05-25T15:49:20.986Z"
   },
   {
    "duration": 121,
    "start_time": "2023-05-25T15:49:20.995Z"
   },
   {
    "duration": 7,
    "start_time": "2023-05-25T15:49:21.118Z"
   },
   {
    "duration": 119,
    "start_time": "2023-05-25T15:49:21.127Z"
   },
   {
    "duration": 23,
    "start_time": "2023-05-25T15:49:21.248Z"
   },
   {
    "duration": 16,
    "start_time": "2023-05-25T15:49:21.274Z"
   },
   {
    "duration": 22,
    "start_time": "2023-05-25T15:49:21.292Z"
   },
   {
    "duration": 239,
    "start_time": "2023-05-25T15:49:21.316Z"
   },
   {
    "duration": 26,
    "start_time": "2023-05-25T15:49:21.556Z"
   },
   {
    "duration": 23,
    "start_time": "2023-05-25T15:49:21.584Z"
   },
   {
    "duration": 20,
    "start_time": "2023-05-25T15:49:21.609Z"
   },
   {
    "duration": 22,
    "start_time": "2023-05-25T15:49:21.630Z"
   },
   {
    "duration": 248,
    "start_time": "2023-05-25T15:49:21.654Z"
   },
   {
    "duration": 1,
    "start_time": "2023-05-25T15:49:21.903Z"
   },
   {
    "duration": 0,
    "start_time": "2023-05-25T15:49:21.905Z"
   },
   {
    "duration": 0,
    "start_time": "2023-05-25T15:49:21.906Z"
   },
   {
    "duration": 1590,
    "start_time": "2023-05-25T15:49:51.096Z"
   },
   {
    "duration": 93,
    "start_time": "2023-05-25T15:49:52.688Z"
   },
   {
    "duration": 16,
    "start_time": "2023-05-25T15:49:52.783Z"
   },
   {
    "duration": 100,
    "start_time": "2023-05-25T15:49:52.802Z"
   },
   {
    "duration": 125,
    "start_time": "2023-05-25T15:49:52.904Z"
   },
   {
    "duration": 143,
    "start_time": "2023-05-25T15:49:53.031Z"
   },
   {
    "duration": 97,
    "start_time": "2023-05-25T15:49:53.176Z"
   },
   {
    "duration": 104,
    "start_time": "2023-05-25T15:49:53.274Z"
   },
   {
    "duration": 54,
    "start_time": "2023-05-25T15:49:53.379Z"
   },
   {
    "duration": 41,
    "start_time": "2023-05-25T15:49:53.436Z"
   },
   {
    "duration": 52,
    "start_time": "2023-05-25T15:49:53.479Z"
   },
   {
    "duration": 18,
    "start_time": "2023-05-25T15:49:53.533Z"
   },
   {
    "duration": 159,
    "start_time": "2023-05-25T15:49:53.553Z"
   },
   {
    "duration": 285,
    "start_time": "2023-05-25T15:49:53.714Z"
   },
   {
    "duration": 10,
    "start_time": "2023-05-25T15:49:54.001Z"
   },
   {
    "duration": 15,
    "start_time": "2023-05-25T15:49:54.013Z"
   },
   {
    "duration": 18,
    "start_time": "2023-05-25T15:49:54.031Z"
   },
   {
    "duration": 19,
    "start_time": "2023-05-25T15:49:54.051Z"
   },
   {
    "duration": 32,
    "start_time": "2023-05-25T15:49:54.072Z"
   },
   {
    "duration": 117,
    "start_time": "2023-05-25T15:49:54.106Z"
   },
   {
    "duration": 31,
    "start_time": "2023-05-25T15:49:54.225Z"
   },
   {
    "duration": 172,
    "start_time": "2023-05-25T15:49:54.258Z"
   },
   {
    "duration": 53,
    "start_time": "2023-05-25T15:49:54.433Z"
   },
   {
    "duration": 22,
    "start_time": "2023-05-25T15:49:54.488Z"
   },
   {
    "duration": 71,
    "start_time": "2023-05-25T15:49:54.511Z"
   },
   {
    "duration": 23,
    "start_time": "2023-05-25T15:49:54.584Z"
   },
   {
    "duration": 309,
    "start_time": "2023-05-25T15:49:54.608Z"
   },
   {
    "duration": 53,
    "start_time": "2023-05-25T15:49:54.923Z"
   },
   {
    "duration": 66,
    "start_time": "2023-05-25T15:49:54.978Z"
   },
   {
    "duration": 6,
    "start_time": "2023-05-25T15:49:55.046Z"
   },
   {
    "duration": 26,
    "start_time": "2023-05-25T15:49:55.054Z"
   },
   {
    "duration": 576,
    "start_time": "2023-05-25T15:49:55.082Z"
   },
   {
    "duration": 22,
    "start_time": "2023-05-25T15:49:55.660Z"
   },
   {
    "duration": 53,
    "start_time": "2023-05-25T15:49:55.684Z"
   },
   {
    "duration": 33,
    "start_time": "2023-05-25T15:49:55.739Z"
   },
   {
    "duration": 224,
    "start_time": "2023-05-25T15:49:55.774Z"
   },
   {
    "duration": 183,
    "start_time": "2023-05-25T15:49:56.001Z"
   },
   {
    "duration": 5896,
    "start_time": "2023-05-25T15:49:56.186Z"
   },
   {
    "duration": 16,
    "start_time": "2023-05-25T15:50:02.084Z"
   },
   {
    "duration": 102,
    "start_time": "2023-05-25T15:50:02.102Z"
   },
   {
    "duration": 95,
    "start_time": "2023-05-25T15:50:02.207Z"
   },
   {
    "duration": 583,
    "start_time": "2023-05-25T15:50:02.304Z"
   },
   {
    "duration": 17,
    "start_time": "2023-05-25T15:50:02.889Z"
   },
   {
    "duration": 21,
    "start_time": "2023-05-25T15:50:02.908Z"
   },
   {
    "duration": 80,
    "start_time": "2023-05-25T15:50:02.931Z"
   },
   {
    "duration": 120,
    "start_time": "2023-05-25T15:50:03.013Z"
   },
   {
    "duration": 6,
    "start_time": "2023-05-25T15:50:03.135Z"
   },
   {
    "duration": 61,
    "start_time": "2023-05-25T15:50:03.143Z"
   },
   {
    "duration": 179,
    "start_time": "2023-05-25T15:50:03.206Z"
   },
   {
    "duration": 44,
    "start_time": "2023-05-25T15:50:03.388Z"
   },
   {
    "duration": 321,
    "start_time": "2023-05-25T15:50:03.435Z"
   },
   {
    "duration": 17,
    "start_time": "2023-05-25T15:50:03.759Z"
   },
   {
    "duration": 115,
    "start_time": "2023-05-25T15:50:03.779Z"
   },
   {
    "duration": 8,
    "start_time": "2023-05-25T15:50:03.896Z"
   },
   {
    "duration": 133,
    "start_time": "2023-05-25T15:50:03.906Z"
   },
   {
    "duration": 8,
    "start_time": "2023-05-25T15:50:04.040Z"
   },
   {
    "duration": 166,
    "start_time": "2023-05-25T15:50:04.050Z"
   },
   {
    "duration": 9,
    "start_time": "2023-05-25T15:50:04.218Z"
   },
   {
    "duration": 44,
    "start_time": "2023-05-25T15:50:04.229Z"
   },
   {
    "duration": 18,
    "start_time": "2023-05-25T15:50:04.275Z"
   },
   {
    "duration": 255,
    "start_time": "2023-05-25T15:50:04.295Z"
   },
   {
    "duration": 22,
    "start_time": "2023-05-25T15:50:04.552Z"
   },
   {
    "duration": 20,
    "start_time": "2023-05-25T15:50:04.576Z"
   },
   {
    "duration": 20,
    "start_time": "2023-05-25T15:50:04.598Z"
   },
   {
    "duration": 70,
    "start_time": "2023-05-25T15:50:04.621Z"
   },
   {
    "duration": 236,
    "start_time": "2023-05-25T15:50:04.694Z"
   },
   {
    "duration": 0,
    "start_time": "2023-05-25T15:50:04.933Z"
   },
   {
    "duration": 0,
    "start_time": "2023-05-25T15:50:04.935Z"
   },
   {
    "duration": 0,
    "start_time": "2023-05-25T15:50:04.937Z"
   },
   {
    "duration": 1581,
    "start_time": "2023-05-29T08:53:40.748Z"
   },
   {
    "duration": 94,
    "start_time": "2023-05-29T08:53:42.331Z"
   },
   {
    "duration": 16,
    "start_time": "2023-05-29T08:53:42.427Z"
   },
   {
    "duration": 45,
    "start_time": "2023-05-29T08:53:42.445Z"
   },
   {
    "duration": 19,
    "start_time": "2023-05-29T08:53:42.492Z"
   },
   {
    "duration": 9,
    "start_time": "2023-05-29T08:53:42.512Z"
   },
   {
    "duration": 56,
    "start_time": "2023-05-29T08:53:42.522Z"
   },
   {
    "duration": 7,
    "start_time": "2023-05-29T08:53:42.580Z"
   },
   {
    "duration": 3,
    "start_time": "2023-05-29T08:53:42.589Z"
   },
   {
    "duration": 8,
    "start_time": "2023-05-29T08:53:42.595Z"
   },
   {
    "duration": 10,
    "start_time": "2023-05-29T08:53:42.605Z"
   },
   {
    "duration": 9,
    "start_time": "2023-05-29T08:53:42.617Z"
   },
   {
    "duration": 133,
    "start_time": "2023-05-29T08:53:42.657Z"
   },
   {
    "duration": 250,
    "start_time": "2023-05-29T08:53:42.792Z"
   },
   {
    "duration": 19,
    "start_time": "2023-05-29T08:53:43.044Z"
   },
   {
    "duration": 21,
    "start_time": "2023-05-29T08:53:43.066Z"
   },
   {
    "duration": 3,
    "start_time": "2023-05-29T08:53:43.088Z"
   },
   {
    "duration": 9,
    "start_time": "2023-05-29T08:53:43.093Z"
   },
   {
    "duration": 26,
    "start_time": "2023-05-29T08:53:43.103Z"
   },
   {
    "duration": 100,
    "start_time": "2023-05-29T08:53:43.131Z"
   },
   {
    "duration": 28,
    "start_time": "2023-05-29T08:53:43.233Z"
   },
   {
    "duration": 217,
    "start_time": "2023-05-29T08:53:43.271Z"
   },
   {
    "duration": 20,
    "start_time": "2023-05-29T08:53:43.490Z"
   },
   {
    "duration": 51,
    "start_time": "2023-05-29T08:53:43.512Z"
   },
   {
    "duration": 15,
    "start_time": "2023-05-29T08:53:43.564Z"
   },
   {
    "duration": 17,
    "start_time": "2023-05-29T08:53:43.581Z"
   },
   {
    "duration": 313,
    "start_time": "2023-05-29T08:53:43.600Z"
   },
   {
    "duration": 50,
    "start_time": "2023-05-29T08:53:43.918Z"
   },
   {
    "duration": 50,
    "start_time": "2023-05-29T08:53:43.970Z"
   },
   {
    "duration": 7,
    "start_time": "2023-05-29T08:53:44.022Z"
   },
   {
    "duration": 28,
    "start_time": "2023-05-29T08:53:44.030Z"
   },
   {
    "duration": 489,
    "start_time": "2023-05-29T08:53:44.060Z"
   },
   {
    "duration": 23,
    "start_time": "2023-05-29T08:53:44.550Z"
   },
   {
    "duration": 49,
    "start_time": "2023-05-29T08:53:44.574Z"
   },
   {
    "duration": 32,
    "start_time": "2023-05-29T08:53:44.624Z"
   },
   {
    "duration": 214,
    "start_time": "2023-05-29T08:53:44.658Z"
   },
   {
    "duration": 149,
    "start_time": "2023-05-29T08:53:44.874Z"
   },
   {
    "duration": 5900,
    "start_time": "2023-05-29T08:53:45.025Z"
   },
   {
    "duration": 12,
    "start_time": "2023-05-29T08:53:50.928Z"
   },
   {
    "duration": 14,
    "start_time": "2023-05-29T08:53:50.961Z"
   },
   {
    "duration": 99,
    "start_time": "2023-05-29T08:53:50.977Z"
   },
   {
    "duration": 568,
    "start_time": "2023-05-29T08:53:51.077Z"
   },
   {
    "duration": 28,
    "start_time": "2023-05-29T08:53:51.647Z"
   },
   {
    "duration": 22,
    "start_time": "2023-05-29T08:53:51.677Z"
   },
   {
    "duration": 61,
    "start_time": "2023-05-29T08:53:51.701Z"
   },
   {
    "duration": 120,
    "start_time": "2023-05-29T08:53:51.766Z"
   },
   {
    "duration": 5,
    "start_time": "2023-05-29T08:53:51.888Z"
   },
   {
    "duration": 24,
    "start_time": "2023-05-29T08:53:51.895Z"
   },
   {
    "duration": 15,
    "start_time": "2023-05-29T08:53:51.921Z"
   },
   {
    "duration": 132,
    "start_time": "2023-05-29T08:53:51.937Z"
   },
   {
    "duration": 32,
    "start_time": "2023-05-29T08:53:52.072Z"
   },
   {
    "duration": 288,
    "start_time": "2023-05-29T08:53:52.106Z"
   },
   {
    "duration": 6,
    "start_time": "2023-05-29T08:53:52.396Z"
   },
   {
    "duration": 129,
    "start_time": "2023-05-29T08:53:52.403Z"
   },
   {
    "duration": 8,
    "start_time": "2023-05-29T08:53:52.533Z"
   },
   {
    "duration": 132,
    "start_time": "2023-05-29T08:53:52.542Z"
   },
   {
    "duration": 9,
    "start_time": "2023-05-29T08:53:52.676Z"
   },
   {
    "duration": 389,
    "start_time": "2023-05-29T08:53:52.687Z"
   },
   {
    "duration": 378,
    "start_time": "2023-05-29T08:53:53.078Z"
   },
   {
    "duration": 14,
    "start_time": "2023-05-29T08:58:22.594Z"
   },
   {
    "duration": 1633,
    "start_time": "2023-05-29T08:58:35.047Z"
   },
   {
    "duration": 90,
    "start_time": "2023-05-29T08:58:36.683Z"
   },
   {
    "duration": 16,
    "start_time": "2023-05-29T08:58:36.775Z"
   },
   {
    "duration": 30,
    "start_time": "2023-05-29T08:58:36.793Z"
   },
   {
    "duration": 48,
    "start_time": "2023-05-29T08:58:36.825Z"
   },
   {
    "duration": 8,
    "start_time": "2023-05-29T08:58:36.875Z"
   },
   {
    "duration": 70,
    "start_time": "2023-05-29T08:58:36.885Z"
   },
   {
    "duration": 12,
    "start_time": "2023-05-29T08:58:36.960Z"
   },
   {
    "duration": 4,
    "start_time": "2023-05-29T08:58:36.976Z"
   },
   {
    "duration": 15,
    "start_time": "2023-05-29T08:58:36.982Z"
   },
   {
    "duration": 16,
    "start_time": "2023-05-29T08:58:37.003Z"
   },
   {
    "duration": 12,
    "start_time": "2023-05-29T08:58:37.021Z"
   },
   {
    "duration": 146,
    "start_time": "2023-05-29T08:58:37.034Z"
   },
   {
    "duration": 290,
    "start_time": "2023-05-29T08:58:37.182Z"
   },
   {
    "duration": 14,
    "start_time": "2023-05-29T08:58:37.474Z"
   },
   {
    "duration": 9,
    "start_time": "2023-05-29T08:58:37.490Z"
   },
   {
    "duration": 28,
    "start_time": "2023-05-29T08:58:37.501Z"
   },
   {
    "duration": 107,
    "start_time": "2023-05-29T08:58:37.531Z"
   },
   {
    "duration": 4,
    "start_time": "2023-05-29T08:58:37.640Z"
   },
   {
    "duration": 6,
    "start_time": "2023-05-29T08:58:37.656Z"
   },
   {
    "duration": 26,
    "start_time": "2023-05-29T08:58:37.673Z"
   },
   {
    "duration": 26,
    "start_time": "2023-05-29T08:58:37.700Z"
   },
   {
    "duration": 21,
    "start_time": "2023-05-29T08:58:37.728Z"
   },
   {
    "duration": 228,
    "start_time": "2023-05-29T08:58:37.751Z"
   },
   {
    "duration": 21,
    "start_time": "2023-05-29T08:58:37.981Z"
   },
   {
    "duration": 57,
    "start_time": "2023-05-29T08:58:38.004Z"
   },
   {
    "duration": 25,
    "start_time": "2023-05-29T08:58:38.063Z"
   },
   {
    "duration": 18,
    "start_time": "2023-05-29T08:58:38.092Z"
   },
   {
    "duration": 346,
    "start_time": "2023-05-29T08:58:38.112Z"
   },
   {
    "duration": 19,
    "start_time": "2023-05-29T08:58:38.466Z"
   },
   {
    "duration": 88,
    "start_time": "2023-05-29T08:58:38.488Z"
   },
   {
    "duration": 7,
    "start_time": "2023-05-29T08:58:38.581Z"
   },
   {
    "duration": 5,
    "start_time": "2023-05-29T08:58:38.591Z"
   },
   {
    "duration": 643,
    "start_time": "2023-05-29T08:58:38.598Z"
   },
   {
    "duration": 24,
    "start_time": "2023-05-29T08:58:39.243Z"
   },
   {
    "duration": 60,
    "start_time": "2023-05-29T08:58:39.271Z"
   },
   {
    "duration": 39,
    "start_time": "2023-05-29T08:58:39.333Z"
   },
   {
    "duration": 219,
    "start_time": "2023-05-29T08:58:39.374Z"
   },
   {
    "duration": 126,
    "start_time": "2023-05-29T08:58:39.596Z"
   },
   {
    "duration": 5697,
    "start_time": "2023-05-29T08:58:39.724Z"
   },
   {
    "duration": 13,
    "start_time": "2023-05-29T08:58:45.424Z"
   },
   {
    "duration": 14,
    "start_time": "2023-05-29T08:58:45.457Z"
   },
   {
    "duration": 86,
    "start_time": "2023-05-29T08:58:45.473Z"
   },
   {
    "duration": 445,
    "start_time": "2023-05-29T08:58:45.563Z"
   },
   {
    "duration": 16,
    "start_time": "2023-05-29T08:58:46.010Z"
   },
   {
    "duration": 32,
    "start_time": "2023-05-29T08:58:46.028Z"
   },
   {
    "duration": 57,
    "start_time": "2023-05-29T08:58:46.068Z"
   },
   {
    "duration": 119,
    "start_time": "2023-05-29T08:58:46.126Z"
   },
   {
    "duration": 24,
    "start_time": "2023-05-29T08:58:46.247Z"
   },
   {
    "duration": 9,
    "start_time": "2023-05-29T08:58:46.273Z"
   },
   {
    "duration": 7,
    "start_time": "2023-05-29T08:58:46.284Z"
   },
   {
    "duration": 116,
    "start_time": "2023-05-29T08:58:46.292Z"
   },
   {
    "duration": 68,
    "start_time": "2023-05-29T08:58:46.409Z"
   },
   {
    "duration": 268,
    "start_time": "2023-05-29T08:58:46.479Z"
   },
   {
    "duration": 13,
    "start_time": "2023-05-29T08:58:46.749Z"
   },
   {
    "duration": 120,
    "start_time": "2023-05-29T08:58:46.768Z"
   },
   {
    "duration": 7,
    "start_time": "2023-05-29T08:58:46.889Z"
   },
   {
    "duration": 117,
    "start_time": "2023-05-29T08:58:46.897Z"
   },
   {
    "duration": 9,
    "start_time": "2023-05-29T08:58:47.016Z"
   },
   {
    "duration": 403,
    "start_time": "2023-05-29T08:58:47.027Z"
   },
   {
    "duration": 393,
    "start_time": "2023-05-29T08:58:47.432Z"
   },
   {
    "duration": 28,
    "start_time": "2023-05-29T09:00:08.183Z"
   },
   {
    "duration": 52,
    "start_time": "2023-05-29T16:05:38.043Z"
   },
   {
    "duration": 1825,
    "start_time": "2023-05-29T16:05:45.101Z"
   },
   {
    "duration": 134,
    "start_time": "2023-05-29T16:05:46.929Z"
   },
   {
    "duration": 16,
    "start_time": "2023-05-29T16:05:47.065Z"
   },
   {
    "duration": 25,
    "start_time": "2023-05-29T16:05:47.083Z"
   },
   {
    "duration": 41,
    "start_time": "2023-05-29T16:05:47.110Z"
   },
   {
    "duration": 10,
    "start_time": "2023-05-29T16:05:47.153Z"
   },
   {
    "duration": 34,
    "start_time": "2023-05-29T16:05:47.165Z"
   },
   {
    "duration": 10,
    "start_time": "2023-05-29T16:05:47.201Z"
   },
   {
    "duration": 29,
    "start_time": "2023-05-29T16:05:47.214Z"
   },
   {
    "duration": 18,
    "start_time": "2023-05-29T16:05:47.248Z"
   },
   {
    "duration": 17,
    "start_time": "2023-05-29T16:05:47.268Z"
   },
   {
    "duration": 11,
    "start_time": "2023-05-29T16:05:47.288Z"
   },
   {
    "duration": 153,
    "start_time": "2023-05-29T16:05:47.301Z"
   },
   {
    "duration": 255,
    "start_time": "2023-05-29T16:05:47.456Z"
   },
   {
    "duration": 14,
    "start_time": "2023-05-29T16:05:47.714Z"
   },
   {
    "duration": 16,
    "start_time": "2023-05-29T16:05:47.730Z"
   },
   {
    "duration": 19,
    "start_time": "2023-05-29T16:05:47.748Z"
   },
   {
    "duration": 119,
    "start_time": "2023-05-29T16:05:47.770Z"
   },
   {
    "duration": 3,
    "start_time": "2023-05-29T16:05:47.892Z"
   },
   {
    "duration": 12,
    "start_time": "2023-05-29T16:05:47.897Z"
   },
   {
    "duration": 35,
    "start_time": "2023-05-29T16:05:47.911Z"
   },
   {
    "duration": 12,
    "start_time": "2023-05-29T16:05:47.949Z"
   },
   {
    "duration": 24,
    "start_time": "2023-05-29T16:05:47.963Z"
   },
   {
    "duration": 189,
    "start_time": "2023-05-29T16:05:47.989Z"
   },
   {
    "duration": 62,
    "start_time": "2023-05-29T16:05:48.181Z"
   },
   {
    "duration": 24,
    "start_time": "2023-05-29T16:05:48.246Z"
   },
   {
    "duration": 76,
    "start_time": "2023-05-29T16:05:48.272Z"
   },
   {
    "duration": 33,
    "start_time": "2023-05-29T16:05:48.356Z"
   },
   {
    "duration": 361,
    "start_time": "2023-05-29T16:05:48.391Z"
   },
   {
    "duration": 16,
    "start_time": "2023-05-29T16:05:48.754Z"
   },
   {
    "duration": 81,
    "start_time": "2023-05-29T16:05:48.771Z"
   },
   {
    "duration": 5,
    "start_time": "2023-05-29T16:05:48.853Z"
   },
   {
    "duration": 9,
    "start_time": "2023-05-29T16:05:48.860Z"
   },
   {
    "duration": 528,
    "start_time": "2023-05-29T16:05:48.871Z"
   },
   {
    "duration": 12,
    "start_time": "2023-05-29T16:05:49.402Z"
   },
   {
    "duration": 68,
    "start_time": "2023-05-29T16:05:49.416Z"
   },
   {
    "duration": 19,
    "start_time": "2023-05-29T16:05:49.486Z"
   },
   {
    "duration": 290,
    "start_time": "2023-05-29T16:05:49.507Z"
   },
   {
    "duration": 121,
    "start_time": "2023-05-29T16:05:49.801Z"
   },
   {
    "duration": 5558,
    "start_time": "2023-05-29T16:05:49.925Z"
   },
   {
    "duration": 55,
    "start_time": "2023-05-29T16:05:55.487Z"
   },
   {
    "duration": 28,
    "start_time": "2023-05-29T16:05:55.545Z"
   },
   {
    "duration": 82,
    "start_time": "2023-05-29T16:05:55.575Z"
   },
   {
    "duration": 455,
    "start_time": "2023-05-29T16:05:55.658Z"
   },
   {
    "duration": 31,
    "start_time": "2023-05-29T16:05:56.115Z"
   },
   {
    "duration": 22,
    "start_time": "2023-05-29T16:05:56.148Z"
   },
   {
    "duration": 73,
    "start_time": "2023-05-29T16:05:56.172Z"
   },
   {
    "duration": 124,
    "start_time": "2023-05-29T16:05:56.247Z"
   },
   {
    "duration": 5,
    "start_time": "2023-05-29T16:05:56.373Z"
   },
   {
    "duration": 14,
    "start_time": "2023-05-29T16:05:56.380Z"
   },
   {
    "duration": 10,
    "start_time": "2023-05-29T16:05:56.396Z"
   },
   {
    "duration": 134,
    "start_time": "2023-05-29T16:05:56.408Z"
   },
   {
    "duration": 35,
    "start_time": "2023-05-29T16:05:56.544Z"
   },
   {
    "duration": 303,
    "start_time": "2023-05-29T16:05:56.581Z"
   },
   {
    "duration": 7,
    "start_time": "2023-05-29T16:05:56.886Z"
   },
   {
    "duration": 122,
    "start_time": "2023-05-29T16:05:56.895Z"
   },
   {
    "duration": 6,
    "start_time": "2023-05-29T16:05:57.019Z"
   },
   {
    "duration": 104,
    "start_time": "2023-05-29T16:05:57.041Z"
   },
   {
    "duration": 9,
    "start_time": "2023-05-29T16:05:57.147Z"
   },
   {
    "duration": 401,
    "start_time": "2023-05-29T16:05:57.158Z"
   },
   {
    "duration": 391,
    "start_time": "2023-05-29T16:05:57.561Z"
   },
   {
    "duration": 1479,
    "start_time": "2023-05-29T16:18:14.391Z"
   },
   {
    "duration": 85,
    "start_time": "2023-05-29T16:18:15.872Z"
   },
   {
    "duration": 14,
    "start_time": "2023-05-29T16:18:15.959Z"
   },
   {
    "duration": 24,
    "start_time": "2023-05-29T16:18:15.975Z"
   },
   {
    "duration": 19,
    "start_time": "2023-05-29T16:18:16.001Z"
   },
   {
    "duration": 9,
    "start_time": "2023-05-29T16:18:16.042Z"
   },
   {
    "duration": 28,
    "start_time": "2023-05-29T16:18:16.052Z"
   },
   {
    "duration": 8,
    "start_time": "2023-05-29T16:18:16.082Z"
   },
   {
    "duration": 3,
    "start_time": "2023-05-29T16:18:16.091Z"
   },
   {
    "duration": 47,
    "start_time": "2023-05-29T16:18:16.096Z"
   },
   {
    "duration": 11,
    "start_time": "2023-05-29T16:18:16.144Z"
   },
   {
    "duration": 8,
    "start_time": "2023-05-29T16:18:16.156Z"
   },
   {
    "duration": 138,
    "start_time": "2023-05-29T16:18:16.166Z"
   },
   {
    "duration": 265,
    "start_time": "2023-05-29T16:18:16.305Z"
   },
   {
    "duration": 15,
    "start_time": "2023-05-29T16:18:16.572Z"
   },
   {
    "duration": 13,
    "start_time": "2023-05-29T16:18:16.589Z"
   },
   {
    "duration": 10,
    "start_time": "2023-05-29T16:18:16.604Z"
   },
   {
    "duration": 3,
    "start_time": "2023-05-29T16:18:16.642Z"
   },
   {
    "duration": 8,
    "start_time": "2023-05-29T16:18:16.646Z"
   },
   {
    "duration": 41,
    "start_time": "2023-05-29T16:18:16.655Z"
   },
   {
    "duration": 5,
    "start_time": "2023-05-29T16:18:16.698Z"
   },
   {
    "duration": 39,
    "start_time": "2023-05-29T16:18:16.704Z"
   },
   {
    "duration": 329,
    "start_time": "2023-05-29T16:18:16.744Z"
   },
   {
    "duration": 20,
    "start_time": "2023-05-29T16:18:17.074Z"
   },
   {
    "duration": 51,
    "start_time": "2023-05-29T16:18:17.095Z"
   },
   {
    "duration": 13,
    "start_time": "2023-05-29T16:18:17.147Z"
   },
   {
    "duration": 18,
    "start_time": "2023-05-29T16:18:17.161Z"
   },
   {
    "duration": 350,
    "start_time": "2023-05-29T16:18:17.182Z"
   },
   {
    "duration": 19,
    "start_time": "2023-05-29T16:18:17.534Z"
   },
   {
    "duration": 51,
    "start_time": "2023-05-29T16:18:17.555Z"
   },
   {
    "duration": 37,
    "start_time": "2023-05-29T16:18:17.607Z"
   },
   {
    "duration": 5,
    "start_time": "2023-05-29T16:18:17.645Z"
   },
   {
    "duration": 485,
    "start_time": "2023-05-29T16:18:17.651Z"
   },
   {
    "duration": 14,
    "start_time": "2023-05-29T16:18:18.138Z"
   },
   {
    "duration": 192,
    "start_time": "2023-05-29T16:18:18.154Z"
   },
   {
    "duration": 18,
    "start_time": "2023-05-29T16:18:18.347Z"
   },
   {
    "duration": 133,
    "start_time": "2023-05-29T16:18:18.366Z"
   },
   {
    "duration": 112,
    "start_time": "2023-05-29T16:18:18.502Z"
   },
   {
    "duration": 10100,
    "start_time": "2023-05-29T16:18:18.616Z"
   },
   {
    "duration": 39,
    "start_time": "2023-05-29T16:18:28.718Z"
   },
   {
    "duration": 9,
    "start_time": "2023-05-29T16:18:28.759Z"
   },
   {
    "duration": 97,
    "start_time": "2023-05-29T16:18:28.770Z"
   },
   {
    "duration": 541,
    "start_time": "2023-05-29T16:18:28.869Z"
   },
   {
    "duration": 20,
    "start_time": "2023-05-29T16:18:29.412Z"
   },
   {
    "duration": 9,
    "start_time": "2023-05-29T16:18:29.442Z"
   },
   {
    "duration": 62,
    "start_time": "2023-05-29T16:18:29.453Z"
   },
   {
    "duration": 132,
    "start_time": "2023-05-29T16:18:29.516Z"
   },
   {
    "duration": 5,
    "start_time": "2023-05-29T16:18:29.650Z"
   },
   {
    "duration": 15,
    "start_time": "2023-05-29T16:18:29.657Z"
   },
   {
    "duration": 10,
    "start_time": "2023-05-29T16:18:29.674Z"
   },
   {
    "duration": 115,
    "start_time": "2023-05-29T16:18:29.686Z"
   },
   {
    "duration": 54,
    "start_time": "2023-05-29T16:18:29.803Z"
   },
   {
    "duration": 130,
    "start_time": "2023-05-29T16:18:29.858Z"
   },
   {
    "duration": 6,
    "start_time": "2023-05-29T16:18:29.991Z"
   },
   {
    "duration": 142,
    "start_time": "2023-05-29T16:18:29.999Z"
   },
   {
    "duration": 7,
    "start_time": "2023-05-29T16:18:30.143Z"
   },
   {
    "duration": 129,
    "start_time": "2023-05-29T16:18:30.152Z"
   },
   {
    "duration": 12,
    "start_time": "2023-05-29T16:18:30.284Z"
   },
   {
    "duration": 400,
    "start_time": "2023-05-29T16:18:30.298Z"
   },
   {
    "duration": 387,
    "start_time": "2023-05-29T16:18:30.700Z"
   },
   {
    "duration": 12,
    "start_time": "2023-05-29T16:31:37.483Z"
   },
   {
    "duration": 165,
    "start_time": "2023-05-29T16:44:47.177Z"
   },
   {
    "duration": 180,
    "start_time": "2023-05-29T16:56:52.762Z"
   },
   {
    "duration": 188,
    "start_time": "2023-05-29T16:57:45.903Z"
   },
   {
    "duration": 322,
    "start_time": "2023-05-29T16:58:06.867Z"
   },
   {
    "duration": 188,
    "start_time": "2023-05-29T17:04:28.498Z"
   },
   {
    "duration": 27,
    "start_time": "2023-05-29T17:04:51.415Z"
   },
   {
    "duration": 220,
    "start_time": "2023-05-29T17:12:06.351Z"
   },
   {
    "duration": 194,
    "start_time": "2023-05-29T17:12:41.779Z"
   },
   {
    "duration": 10,
    "start_time": "2023-05-29T17:15:05.586Z"
   },
   {
    "duration": 112,
    "start_time": "2023-05-29T17:25:34.373Z"
   },
   {
    "duration": 23,
    "start_time": "2023-05-29T17:30:35.191Z"
   },
   {
    "duration": 24,
    "start_time": "2023-05-29T17:31:34.418Z"
   },
   {
    "duration": 1661,
    "start_time": "2023-05-29T17:32:20.604Z"
   },
   {
    "duration": 98,
    "start_time": "2023-05-29T17:32:22.268Z"
   },
   {
    "duration": 15,
    "start_time": "2023-05-29T17:32:22.368Z"
   },
   {
    "duration": 27,
    "start_time": "2023-05-29T17:32:22.385Z"
   },
   {
    "duration": 42,
    "start_time": "2023-05-29T17:32:22.413Z"
   },
   {
    "duration": 12,
    "start_time": "2023-05-29T17:32:22.457Z"
   },
   {
    "duration": 31,
    "start_time": "2023-05-29T17:32:22.471Z"
   },
   {
    "duration": 9,
    "start_time": "2023-05-29T17:32:22.504Z"
   },
   {
    "duration": 3,
    "start_time": "2023-05-29T17:32:22.543Z"
   },
   {
    "duration": 19,
    "start_time": "2023-05-29T17:32:22.549Z"
   },
   {
    "duration": 28,
    "start_time": "2023-05-29T17:32:22.570Z"
   },
   {
    "duration": 21,
    "start_time": "2023-05-29T17:32:22.600Z"
   },
   {
    "duration": 112,
    "start_time": "2023-05-29T17:32:22.623Z"
   },
   {
    "duration": 259,
    "start_time": "2023-05-29T17:32:22.737Z"
   },
   {
    "duration": 15,
    "start_time": "2023-05-29T17:32:22.998Z"
   },
   {
    "duration": 27,
    "start_time": "2023-05-29T17:32:23.015Z"
   },
   {
    "duration": 17,
    "start_time": "2023-05-29T17:32:23.044Z"
   },
   {
    "duration": 13,
    "start_time": "2023-05-29T17:32:23.063Z"
   },
   {
    "duration": 16,
    "start_time": "2023-05-29T17:32:23.078Z"
   },
   {
    "duration": 58,
    "start_time": "2023-05-29T17:32:23.096Z"
   },
   {
    "duration": 5,
    "start_time": "2023-05-29T17:32:23.157Z"
   },
   {
    "duration": 28,
    "start_time": "2023-05-29T17:32:23.164Z"
   },
   {
    "duration": 296,
    "start_time": "2023-05-29T17:32:23.194Z"
   },
   {
    "duration": 231,
    "start_time": "2023-05-29T17:32:23.492Z"
   },
   {
    "duration": 19,
    "start_time": "2023-05-29T17:32:23.724Z"
   },
   {
    "duration": 165,
    "start_time": "2023-05-29T17:32:23.744Z"
   },
   {
    "duration": 0,
    "start_time": "2023-05-29T17:32:23.912Z"
   },
   {
    "duration": 0,
    "start_time": "2023-05-29T17:32:23.913Z"
   },
   {
    "duration": 0,
    "start_time": "2023-05-29T17:32:23.914Z"
   },
   {
    "duration": 0,
    "start_time": "2023-05-29T17:32:23.915Z"
   },
   {
    "duration": 0,
    "start_time": "2023-05-29T17:32:23.916Z"
   },
   {
    "duration": 0,
    "start_time": "2023-05-29T17:32:23.917Z"
   },
   {
    "duration": 0,
    "start_time": "2023-05-29T17:32:23.918Z"
   },
   {
    "duration": 0,
    "start_time": "2023-05-29T17:32:23.919Z"
   },
   {
    "duration": 0,
    "start_time": "2023-05-29T17:32:23.920Z"
   },
   {
    "duration": 0,
    "start_time": "2023-05-29T17:32:23.921Z"
   },
   {
    "duration": 0,
    "start_time": "2023-05-29T17:32:23.922Z"
   },
   {
    "duration": 0,
    "start_time": "2023-05-29T17:32:23.923Z"
   },
   {
    "duration": 0,
    "start_time": "2023-05-29T17:32:23.941Z"
   },
   {
    "duration": 0,
    "start_time": "2023-05-29T17:32:23.942Z"
   },
   {
    "duration": 0,
    "start_time": "2023-05-29T17:32:23.943Z"
   },
   {
    "duration": 0,
    "start_time": "2023-05-29T17:32:23.944Z"
   },
   {
    "duration": 0,
    "start_time": "2023-05-29T17:32:23.944Z"
   },
   {
    "duration": 0,
    "start_time": "2023-05-29T17:32:23.945Z"
   },
   {
    "duration": 0,
    "start_time": "2023-05-29T17:32:23.946Z"
   },
   {
    "duration": 0,
    "start_time": "2023-05-29T17:32:23.947Z"
   },
   {
    "duration": 0,
    "start_time": "2023-05-29T17:32:23.948Z"
   },
   {
    "duration": 0,
    "start_time": "2023-05-29T17:32:23.949Z"
   },
   {
    "duration": 0,
    "start_time": "2023-05-29T17:32:23.950Z"
   },
   {
    "duration": 0,
    "start_time": "2023-05-29T17:32:23.951Z"
   },
   {
    "duration": 0,
    "start_time": "2023-05-29T17:32:23.952Z"
   },
   {
    "duration": 0,
    "start_time": "2023-05-29T17:32:23.953Z"
   },
   {
    "duration": 0,
    "start_time": "2023-05-29T17:32:23.954Z"
   },
   {
    "duration": 0,
    "start_time": "2023-05-29T17:32:23.954Z"
   },
   {
    "duration": 0,
    "start_time": "2023-05-29T17:32:23.955Z"
   },
   {
    "duration": 0,
    "start_time": "2023-05-29T17:32:23.956Z"
   },
   {
    "duration": 0,
    "start_time": "2023-05-29T17:32:23.957Z"
   },
   {
    "duration": 0,
    "start_time": "2023-05-29T17:32:23.958Z"
   },
   {
    "duration": 0,
    "start_time": "2023-05-29T17:32:23.959Z"
   },
   {
    "duration": 0,
    "start_time": "2023-05-29T17:32:23.960Z"
   },
   {
    "duration": 0,
    "start_time": "2023-05-29T17:32:23.961Z"
   },
   {
    "duration": 0,
    "start_time": "2023-05-29T17:32:23.962Z"
   },
   {
    "duration": 22,
    "start_time": "2023-05-29T17:32:40.178Z"
   },
   {
    "duration": 19,
    "start_time": "2023-05-29T17:32:47.849Z"
   },
   {
    "duration": 30,
    "start_time": "2023-05-29T17:33:00.251Z"
   },
   {
    "duration": 20,
    "start_time": "2023-05-29T17:33:24.725Z"
   },
   {
    "duration": 28,
    "start_time": "2023-05-29T17:33:35.797Z"
   },
   {
    "duration": 22,
    "start_time": "2023-05-29T17:33:39.485Z"
   },
   {
    "duration": 17,
    "start_time": "2023-05-29T17:40:05.905Z"
   },
   {
    "duration": 6,
    "start_time": "2023-05-29T17:41:44.518Z"
   },
   {
    "duration": 16,
    "start_time": "2023-05-29T17:49:39.042Z"
   },
   {
    "duration": 158,
    "start_time": "2023-05-29T17:50:51.924Z"
   },
   {
    "duration": 185,
    "start_time": "2023-05-29T17:53:42.695Z"
   },
   {
    "duration": 11,
    "start_time": "2023-05-29T17:54:40.534Z"
   },
   {
    "duration": 6,
    "start_time": "2023-05-29T17:56:31.906Z"
   },
   {
    "duration": 208,
    "start_time": "2023-05-29T17:56:43.415Z"
   },
   {
    "duration": 156,
    "start_time": "2023-05-29T17:58:25.518Z"
   },
   {
    "duration": 5,
    "start_time": "2023-05-29T18:05:29.541Z"
   },
   {
    "duration": 199,
    "start_time": "2023-05-29T18:05:44.144Z"
   },
   {
    "duration": 271,
    "start_time": "2023-05-29T18:07:08.286Z"
   },
   {
    "duration": 211,
    "start_time": "2023-05-29T18:09:57.985Z"
   },
   {
    "duration": 23,
    "start_time": "2023-05-29T18:13:59.531Z"
   },
   {
    "duration": 396,
    "start_time": "2023-05-29T18:13:59.757Z"
   },
   {
    "duration": 217,
    "start_time": "2023-05-29T18:14:56.314Z"
   },
   {
    "duration": 182,
    "start_time": "2023-05-29T18:15:12.388Z"
   },
   {
    "duration": 5,
    "start_time": "2023-05-29T18:17:32.711Z"
   },
   {
    "duration": 6,
    "start_time": "2023-05-29T18:17:58.695Z"
   },
   {
    "duration": 167,
    "start_time": "2023-05-29T18:17:59.327Z"
   },
   {
    "duration": 1527,
    "start_time": "2023-05-29T18:18:08.361Z"
   },
   {
    "duration": 89,
    "start_time": "2023-05-29T18:18:09.890Z"
   },
   {
    "duration": 16,
    "start_time": "2023-05-29T18:18:09.980Z"
   },
   {
    "duration": 28,
    "start_time": "2023-05-29T18:18:09.998Z"
   },
   {
    "duration": 25,
    "start_time": "2023-05-29T18:18:10.042Z"
   },
   {
    "duration": 13,
    "start_time": "2023-05-29T18:18:10.069Z"
   },
   {
    "duration": 40,
    "start_time": "2023-05-29T18:18:10.084Z"
   },
   {
    "duration": 24,
    "start_time": "2023-05-29T18:18:10.126Z"
   },
   {
    "duration": 8,
    "start_time": "2023-05-29T18:18:10.152Z"
   },
   {
    "duration": 22,
    "start_time": "2023-05-29T18:18:10.162Z"
   },
   {
    "duration": 22,
    "start_time": "2023-05-29T18:18:10.186Z"
   },
   {
    "duration": 14,
    "start_time": "2023-05-29T18:18:10.209Z"
   },
   {
    "duration": 120,
    "start_time": "2023-05-29T18:18:10.225Z"
   },
   {
    "duration": 245,
    "start_time": "2023-05-29T18:18:10.349Z"
   },
   {
    "duration": 14,
    "start_time": "2023-05-29T18:18:10.596Z"
   },
   {
    "duration": 17,
    "start_time": "2023-05-29T18:18:10.612Z"
   },
   {
    "duration": 8,
    "start_time": "2023-05-29T18:18:10.642Z"
   },
   {
    "duration": 3,
    "start_time": "2023-05-29T18:18:10.652Z"
   },
   {
    "duration": 6,
    "start_time": "2023-05-29T18:18:10.656Z"
   },
   {
    "duration": 51,
    "start_time": "2023-05-29T18:18:10.664Z"
   },
   {
    "duration": 7,
    "start_time": "2023-05-29T18:18:10.717Z"
   },
   {
    "duration": 21,
    "start_time": "2023-05-29T18:18:10.741Z"
   },
   {
    "duration": 227,
    "start_time": "2023-05-29T18:18:10.764Z"
   },
   {
    "duration": 259,
    "start_time": "2023-05-29T18:18:10.993Z"
   },
   {
    "duration": 8,
    "start_time": "2023-05-29T18:18:11.253Z"
   },
   {
    "duration": 31,
    "start_time": "2023-05-29T18:18:11.263Z"
   },
   {
    "duration": 23,
    "start_time": "2023-05-29T18:18:11.296Z"
   },
   {
    "duration": 18,
    "start_time": "2023-05-29T18:18:11.342Z"
   },
   {
    "duration": 24,
    "start_time": "2023-05-29T18:18:11.362Z"
   },
   {
    "duration": 292,
    "start_time": "2023-05-29T18:18:11.388Z"
   },
   {
    "duration": 6,
    "start_time": "2023-05-29T18:18:11.682Z"
   },
   {
    "duration": 245,
    "start_time": "2023-05-29T18:18:11.689Z"
   },
   {
    "duration": 23,
    "start_time": "2023-05-29T18:18:11.935Z"
   },
   {
    "duration": 183,
    "start_time": "2023-05-29T18:18:11.960Z"
   },
   {
    "duration": 6,
    "start_time": "2023-05-29T18:18:12.145Z"
   },
   {
    "duration": 6,
    "start_time": "2023-05-29T18:18:12.152Z"
   },
   {
    "duration": 513,
    "start_time": "2023-05-29T18:18:12.160Z"
   },
   {
    "duration": 11,
    "start_time": "2023-05-29T18:18:12.675Z"
   },
   {
    "duration": 66,
    "start_time": "2023-05-29T18:18:12.688Z"
   },
   {
    "duration": 11,
    "start_time": "2023-05-29T18:18:12.755Z"
   },
   {
    "duration": 96,
    "start_time": "2023-05-29T18:18:12.770Z"
   },
   {
    "duration": 124,
    "start_time": "2023-05-29T18:18:12.867Z"
   },
   {
    "duration": 9598,
    "start_time": "2023-05-29T18:18:12.993Z"
   },
   {
    "duration": 16,
    "start_time": "2023-05-29T18:18:22.594Z"
   },
   {
    "duration": 10,
    "start_time": "2023-05-29T18:18:22.642Z"
   },
   {
    "duration": 105,
    "start_time": "2023-05-29T18:18:22.654Z"
   },
   {
    "duration": 526,
    "start_time": "2023-05-29T18:18:22.761Z"
   },
   {
    "duration": 16,
    "start_time": "2023-05-29T18:18:23.288Z"
   },
   {
    "duration": 8,
    "start_time": "2023-05-29T18:18:23.306Z"
   },
   {
    "duration": 67,
    "start_time": "2023-05-29T18:18:23.315Z"
   },
   {
    "duration": 109,
    "start_time": "2023-05-29T18:18:23.384Z"
   },
   {
    "duration": 5,
    "start_time": "2023-05-29T18:18:23.495Z"
   },
   {
    "duration": 15,
    "start_time": "2023-05-29T18:18:23.502Z"
   },
   {
    "duration": 11,
    "start_time": "2023-05-29T18:18:23.519Z"
   },
   {
    "duration": 85,
    "start_time": "2023-05-29T18:18:23.541Z"
   },
   {
    "duration": 41,
    "start_time": "2023-05-29T18:18:23.641Z"
   },
   {
    "duration": 103,
    "start_time": "2023-05-29T18:18:23.684Z"
   },
   {
    "duration": 6,
    "start_time": "2023-05-29T18:18:23.789Z"
   },
   {
    "duration": 115,
    "start_time": "2023-05-29T18:18:23.796Z"
   },
   {
    "duration": 6,
    "start_time": "2023-05-29T18:18:23.913Z"
   },
   {
    "duration": 103,
    "start_time": "2023-05-29T18:18:23.920Z"
   },
   {
    "duration": 18,
    "start_time": "2023-05-29T18:18:24.025Z"
   },
   {
    "duration": 420,
    "start_time": "2023-05-29T18:18:24.045Z"
   },
   {
    "duration": 394,
    "start_time": "2023-05-29T18:18:24.466Z"
   },
   {
    "duration": 312,
    "start_time": "2023-05-29T18:19:54.711Z"
   },
   {
    "duration": 20,
    "start_time": "2023-05-29T18:27:18.307Z"
   },
   {
    "duration": 278,
    "start_time": "2023-05-29T18:27:33.254Z"
   },
   {
    "duration": 1734,
    "start_time": "2023-06-02T08:19:03.261Z"
   },
   {
    "duration": 307,
    "start_time": "2023-06-02T08:19:05.004Z"
   },
   {
    "duration": 14,
    "start_time": "2023-06-02T08:19:05.314Z"
   },
   {
    "duration": 36,
    "start_time": "2023-06-02T08:19:05.330Z"
   },
   {
    "duration": 37,
    "start_time": "2023-06-02T08:19:05.368Z"
   },
   {
    "duration": 10,
    "start_time": "2023-06-02T08:19:05.408Z"
   },
   {
    "duration": 52,
    "start_time": "2023-06-02T08:19:05.421Z"
   },
   {
    "duration": 22,
    "start_time": "2023-06-02T08:19:05.474Z"
   },
   {
    "duration": 13,
    "start_time": "2023-06-02T08:19:05.498Z"
   },
   {
    "duration": 24,
    "start_time": "2023-06-02T08:19:05.513Z"
   },
   {
    "duration": 34,
    "start_time": "2023-06-02T08:19:05.540Z"
   },
   {
    "duration": 27,
    "start_time": "2023-06-02T08:19:05.576Z"
   },
   {
    "duration": 145,
    "start_time": "2023-06-02T08:19:05.604Z"
   },
   {
    "duration": 290,
    "start_time": "2023-06-02T08:19:05.752Z"
   },
   {
    "duration": 13,
    "start_time": "2023-06-02T08:19:06.044Z"
   },
   {
    "duration": 48,
    "start_time": "2023-06-02T08:19:06.059Z"
   },
   {
    "duration": 16,
    "start_time": "2023-06-02T08:19:06.109Z"
   },
   {
    "duration": 8,
    "start_time": "2023-06-02T08:19:06.128Z"
   },
   {
    "duration": 25,
    "start_time": "2023-06-02T08:19:06.137Z"
   },
   {
    "duration": 74,
    "start_time": "2023-06-02T08:19:06.164Z"
   },
   {
    "duration": 21,
    "start_time": "2023-06-02T08:19:06.240Z"
   },
   {
    "duration": 51,
    "start_time": "2023-06-02T08:19:06.262Z"
   },
   {
    "duration": 1607,
    "start_time": "2023-06-02T08:25:08.551Z"
   },
   {
    "duration": 104,
    "start_time": "2023-06-02T08:25:10.161Z"
   },
   {
    "duration": 22,
    "start_time": "2023-06-02T08:25:10.267Z"
   },
   {
    "duration": 49,
    "start_time": "2023-06-02T08:25:10.291Z"
   },
   {
    "duration": 19,
    "start_time": "2023-06-02T08:25:10.342Z"
   },
   {
    "duration": 9,
    "start_time": "2023-06-02T08:25:10.363Z"
   },
   {
    "duration": 49,
    "start_time": "2023-06-02T08:25:10.374Z"
   },
   {
    "duration": 13,
    "start_time": "2023-06-02T08:25:10.425Z"
   },
   {
    "duration": 3,
    "start_time": "2023-06-02T08:25:10.440Z"
   },
   {
    "duration": 12,
    "start_time": "2023-06-02T08:25:10.446Z"
   },
   {
    "duration": 22,
    "start_time": "2023-06-02T08:25:10.482Z"
   },
   {
    "duration": 11,
    "start_time": "2023-06-02T08:25:10.506Z"
   },
   {
    "duration": 153,
    "start_time": "2023-06-02T08:25:10.520Z"
   },
   {
    "duration": 331,
    "start_time": "2023-06-02T08:25:10.677Z"
   },
   {
    "duration": 18,
    "start_time": "2023-06-02T08:25:11.010Z"
   },
   {
    "duration": 22,
    "start_time": "2023-06-02T08:25:11.029Z"
   },
   {
    "duration": 14,
    "start_time": "2023-06-02T08:25:11.054Z"
   },
   {
    "duration": 7,
    "start_time": "2023-06-02T08:25:11.079Z"
   },
   {
    "duration": 4,
    "start_time": "2023-06-02T08:25:11.088Z"
   },
   {
    "duration": 74,
    "start_time": "2023-06-02T08:25:11.094Z"
   },
   {
    "duration": 6,
    "start_time": "2023-06-02T08:25:11.170Z"
   },
   {
    "duration": 30,
    "start_time": "2023-06-02T08:25:11.190Z"
   },
   {
    "duration": 308,
    "start_time": "2023-06-02T08:25:11.222Z"
   },
   {
    "duration": 315,
    "start_time": "2023-06-02T08:25:11.532Z"
   },
   {
    "duration": 7,
    "start_time": "2023-06-02T08:25:11.849Z"
   },
   {
    "duration": 59,
    "start_time": "2023-06-02T08:25:11.858Z"
   },
   {
    "duration": 50,
    "start_time": "2023-06-02T08:25:11.919Z"
   },
   {
    "duration": 34,
    "start_time": "2023-06-02T08:25:11.971Z"
   },
   {
    "duration": 31,
    "start_time": "2023-06-02T08:25:12.007Z"
   },
   {
    "duration": 332,
    "start_time": "2023-06-02T08:25:12.040Z"
   },
   {
    "duration": 254,
    "start_time": "2023-06-02T08:25:12.379Z"
   },
   {
    "duration": 17,
    "start_time": "2023-06-02T08:25:12.635Z"
   },
   {
    "duration": 169,
    "start_time": "2023-06-02T08:25:12.653Z"
   },
   {
    "duration": 5,
    "start_time": "2023-06-02T08:25:12.824Z"
   },
   {
    "duration": 10,
    "start_time": "2023-06-02T08:25:12.830Z"
   },
   {
    "duration": 526,
    "start_time": "2023-06-02T08:25:12.842Z"
   },
   {
    "duration": 28,
    "start_time": "2023-06-02T08:25:13.388Z"
   },
   {
    "duration": 72,
    "start_time": "2023-06-02T08:25:13.417Z"
   },
   {
    "duration": 20,
    "start_time": "2023-06-02T08:25:13.491Z"
   },
   {
    "duration": 137,
    "start_time": "2023-06-02T08:25:13.514Z"
   },
   {
    "duration": 158,
    "start_time": "2023-06-02T08:25:13.656Z"
   },
   {
    "duration": 10782,
    "start_time": "2023-06-02T08:25:13.815Z"
   },
   {
    "duration": 21,
    "start_time": "2023-06-02T08:25:24.609Z"
   },
   {
    "duration": 11,
    "start_time": "2023-06-02T08:25:24.632Z"
   },
   {
    "duration": 114,
    "start_time": "2023-06-02T08:25:24.679Z"
   },
   {
    "duration": 602,
    "start_time": "2023-06-02T08:25:24.795Z"
   },
   {
    "duration": 26,
    "start_time": "2023-06-02T08:25:25.398Z"
   },
   {
    "duration": 12,
    "start_time": "2023-06-02T08:25:25.426Z"
   },
   {
    "duration": 101,
    "start_time": "2023-06-02T08:25:25.440Z"
   },
   {
    "duration": 152,
    "start_time": "2023-06-02T08:25:25.543Z"
   },
   {
    "duration": 6,
    "start_time": "2023-06-02T08:25:25.696Z"
   },
   {
    "duration": 23,
    "start_time": "2023-06-02T08:25:25.704Z"
   },
   {
    "duration": 7,
    "start_time": "2023-06-02T08:25:25.728Z"
   },
   {
    "duration": 1833,
    "start_time": "2023-06-02T08:26:51.106Z"
   },
   {
    "duration": 100,
    "start_time": "2023-06-02T08:26:52.941Z"
   },
   {
    "duration": 14,
    "start_time": "2023-06-02T08:26:53.043Z"
   },
   {
    "duration": 37,
    "start_time": "2023-06-02T08:26:53.059Z"
   },
   {
    "duration": 30,
    "start_time": "2023-06-02T08:26:53.098Z"
   },
   {
    "duration": 10,
    "start_time": "2023-06-02T08:26:53.132Z"
   },
   {
    "duration": 50,
    "start_time": "2023-06-02T08:26:53.143Z"
   },
   {
    "duration": 13,
    "start_time": "2023-06-02T08:26:53.195Z"
   },
   {
    "duration": 26,
    "start_time": "2023-06-02T08:26:53.211Z"
   },
   {
    "duration": 16,
    "start_time": "2023-06-02T08:26:53.239Z"
   },
   {
    "duration": 18,
    "start_time": "2023-06-02T08:26:53.256Z"
   },
   {
    "duration": 18,
    "start_time": "2023-06-02T08:26:53.276Z"
   },
   {
    "duration": 143,
    "start_time": "2023-06-02T08:26:53.295Z"
   },
   {
    "duration": 279,
    "start_time": "2023-06-02T08:26:53.441Z"
   },
   {
    "duration": 21,
    "start_time": "2023-06-02T08:26:53.722Z"
   },
   {
    "duration": 16,
    "start_time": "2023-06-02T08:26:53.745Z"
   },
   {
    "duration": 24,
    "start_time": "2023-06-02T08:26:53.763Z"
   },
   {
    "duration": 10,
    "start_time": "2023-06-02T08:26:53.789Z"
   },
   {
    "duration": 20,
    "start_time": "2023-06-02T08:26:53.801Z"
   },
   {
    "duration": 65,
    "start_time": "2023-06-02T08:26:53.822Z"
   },
   {
    "duration": 7,
    "start_time": "2023-06-02T08:26:53.889Z"
   },
   {
    "duration": 46,
    "start_time": "2023-06-02T08:26:53.898Z"
   },
   {
    "duration": 298,
    "start_time": "2023-06-02T08:26:53.946Z"
   },
   {
    "duration": 292,
    "start_time": "2023-06-02T08:26:54.246Z"
   },
   {
    "duration": 8,
    "start_time": "2023-06-02T08:26:54.540Z"
   },
   {
    "duration": 53,
    "start_time": "2023-06-02T08:26:54.549Z"
   },
   {
    "duration": 24,
    "start_time": "2023-06-02T08:26:57.524Z"
   },
   {
    "duration": 19,
    "start_time": "2023-06-02T08:26:57.550Z"
   },
   {
    "duration": 49,
    "start_time": "2023-06-02T08:26:57.571Z"
   },
   {
    "duration": 368,
    "start_time": "2023-06-02T08:26:57.621Z"
   },
   {
    "duration": 267,
    "start_time": "2023-06-02T08:26:59.471Z"
   },
   {
    "duration": 23,
    "start_time": "2023-06-02T08:26:59.740Z"
   },
   {
    "duration": 170,
    "start_time": "2023-06-02T08:26:59.764Z"
   },
   {
    "duration": 9,
    "start_time": "2023-06-02T08:26:59.935Z"
   },
   {
    "duration": 4,
    "start_time": "2023-06-02T08:26:59.947Z"
   },
   {
    "duration": 614,
    "start_time": "2023-06-02T08:26:59.953Z"
   },
   {
    "duration": 15,
    "start_time": "2023-06-02T08:27:00.580Z"
   },
   {
    "duration": 63,
    "start_time": "2023-06-02T08:27:00.597Z"
   },
   {
    "duration": 20,
    "start_time": "2023-06-02T08:27:00.662Z"
   },
   {
    "duration": 178,
    "start_time": "2023-06-02T08:27:00.684Z"
   },
   {
    "duration": 146,
    "start_time": "2023-06-02T08:27:00.864Z"
   },
   {
    "duration": 1784,
    "start_time": "2023-06-02T08:28:00.216Z"
   },
   {
    "duration": 129,
    "start_time": "2023-06-02T08:28:02.010Z"
   },
   {
    "duration": 19,
    "start_time": "2023-06-02T08:28:02.141Z"
   },
   {
    "duration": 114,
    "start_time": "2023-06-02T08:28:02.162Z"
   },
   {
    "duration": 30,
    "start_time": "2023-06-02T08:28:02.279Z"
   },
   {
    "duration": 16,
    "start_time": "2023-06-02T08:28:02.311Z"
   },
   {
    "duration": 66,
    "start_time": "2023-06-02T08:28:02.329Z"
   },
   {
    "duration": 13,
    "start_time": "2023-06-02T08:28:02.406Z"
   },
   {
    "duration": 30,
    "start_time": "2023-06-02T08:28:02.423Z"
   },
   {
    "duration": 34,
    "start_time": "2023-06-02T08:28:02.455Z"
   },
   {
    "duration": 30,
    "start_time": "2023-06-02T08:28:02.495Z"
   },
   {
    "duration": 11,
    "start_time": "2023-06-02T08:28:02.526Z"
   },
   {
    "duration": 164,
    "start_time": "2023-06-02T08:28:02.539Z"
   },
   {
    "duration": 295,
    "start_time": "2023-06-02T08:28:02.707Z"
   },
   {
    "duration": 26,
    "start_time": "2023-06-02T08:28:03.010Z"
   },
   {
    "duration": 20,
    "start_time": "2023-06-02T08:28:03.038Z"
   },
   {
    "duration": 24,
    "start_time": "2023-06-02T08:28:03.060Z"
   },
   {
    "duration": 18,
    "start_time": "2023-06-02T08:28:03.087Z"
   },
   {
    "duration": 4,
    "start_time": "2023-06-02T08:28:03.108Z"
   },
   {
    "duration": 56,
    "start_time": "2023-06-02T08:28:03.114Z"
   },
   {
    "duration": 13,
    "start_time": "2023-06-02T08:28:03.172Z"
   },
   {
    "duration": 23,
    "start_time": "2023-06-02T08:28:03.191Z"
   },
   {
    "duration": 314,
    "start_time": "2023-06-02T08:28:03.216Z"
   },
   {
    "duration": 353,
    "start_time": "2023-06-02T08:28:03.532Z"
   },
   {
    "duration": 11,
    "start_time": "2023-06-02T08:28:03.888Z"
   },
   {
    "duration": 38,
    "start_time": "2023-06-02T08:28:03.901Z"
   },
   {
    "duration": 47,
    "start_time": "2023-06-02T08:28:03.940Z"
   },
   {
    "duration": 25,
    "start_time": "2023-06-02T08:28:03.988Z"
   },
   {
    "duration": 29,
    "start_time": "2023-06-02T08:28:04.017Z"
   },
   {
    "duration": 345,
    "start_time": "2023-06-02T08:28:04.049Z"
   },
   {
    "duration": 244,
    "start_time": "2023-06-02T08:28:04.402Z"
   },
   {
    "duration": 37,
    "start_time": "2023-06-02T08:28:04.648Z"
   },
   {
    "duration": 165,
    "start_time": "2023-06-02T08:28:04.686Z"
   },
   {
    "duration": 8,
    "start_time": "2023-06-02T08:28:04.853Z"
   },
   {
    "duration": 10,
    "start_time": "2023-06-02T08:28:04.883Z"
   },
   {
    "duration": 591,
    "start_time": "2023-06-02T08:28:04.896Z"
   },
   {
    "duration": 16,
    "start_time": "2023-06-02T08:28:05.492Z"
   },
   {
    "duration": 112,
    "start_time": "2023-06-02T08:28:05.512Z"
   },
   {
    "duration": 20,
    "start_time": "2023-06-02T08:28:05.632Z"
   },
   {
    "duration": 186,
    "start_time": "2023-06-02T08:28:05.654Z"
   },
   {
    "duration": 178,
    "start_time": "2023-06-02T08:28:05.850Z"
   },
   {
    "duration": 11582,
    "start_time": "2023-06-02T08:28:06.030Z"
   },
   {
    "duration": 39,
    "start_time": "2023-06-02T08:28:17.615Z"
   },
   {
    "duration": 10,
    "start_time": "2023-06-02T08:28:17.657Z"
   },
   {
    "duration": 56,
    "start_time": "2023-06-02T08:28:17.669Z"
   },
   {
    "duration": 659,
    "start_time": "2023-06-02T08:28:17.727Z"
   },
   {
    "duration": 26,
    "start_time": "2023-06-02T08:28:18.388Z"
   },
   {
    "duration": 12,
    "start_time": "2023-06-02T08:28:18.416Z"
   },
   {
    "duration": 114,
    "start_time": "2023-06-02T08:28:18.431Z"
   },
   {
    "duration": 205,
    "start_time": "2023-06-02T08:28:18.552Z"
   },
   {
    "duration": 6,
    "start_time": "2023-06-02T08:28:18.760Z"
   },
   {
    "duration": 25,
    "start_time": "2023-06-02T08:28:18.768Z"
   },
   {
    "duration": 7,
    "start_time": "2023-06-02T08:28:18.794Z"
   },
   {
    "duration": 165,
    "start_time": "2023-06-02T08:28:18.805Z"
   },
   {
    "duration": 69,
    "start_time": "2023-06-02T08:28:18.972Z"
   },
   {
    "duration": 134,
    "start_time": "2023-06-02T08:28:19.043Z"
   },
   {
    "duration": 31,
    "start_time": "2023-06-02T08:28:19.190Z"
   },
   {
    "duration": 158,
    "start_time": "2023-06-02T08:28:19.239Z"
   },
   {
    "duration": 8,
    "start_time": "2023-06-02T08:28:19.400Z"
   },
   {
    "duration": 176,
    "start_time": "2023-06-02T08:28:19.411Z"
   },
   {
    "duration": 15,
    "start_time": "2023-06-02T08:28:19.590Z"
   },
   {
    "duration": 529,
    "start_time": "2023-06-02T08:28:19.608Z"
   },
   {
    "duration": 447,
    "start_time": "2023-06-02T08:28:20.142Z"
   },
   {
    "duration": 1623,
    "start_time": "2023-06-02T09:30:42.570Z"
   },
   {
    "duration": 235,
    "start_time": "2023-06-02T09:30:44.195Z"
   },
   {
    "duration": 13,
    "start_time": "2023-06-02T09:30:44.431Z"
   },
   {
    "duration": 23,
    "start_time": "2023-06-02T09:30:44.446Z"
   },
   {
    "duration": 28,
    "start_time": "2023-06-02T09:30:44.470Z"
   },
   {
    "duration": 9,
    "start_time": "2023-06-02T09:30:44.500Z"
   },
   {
    "duration": 28,
    "start_time": "2023-06-02T09:30:44.510Z"
   },
   {
    "duration": 8,
    "start_time": "2023-06-02T09:30:44.539Z"
   },
   {
    "duration": 31,
    "start_time": "2023-06-02T09:30:44.548Z"
   },
   {
    "duration": 13,
    "start_time": "2023-06-02T09:30:44.587Z"
   },
   {
    "duration": 9,
    "start_time": "2023-06-02T09:30:44.602Z"
   },
   {
    "duration": 12,
    "start_time": "2023-06-02T09:30:44.613Z"
   },
   {
    "duration": 126,
    "start_time": "2023-06-02T09:30:44.626Z"
   },
   {
    "duration": 247,
    "start_time": "2023-06-02T09:30:44.754Z"
   },
   {
    "duration": 13,
    "start_time": "2023-06-02T09:30:45.003Z"
   },
   {
    "duration": 31,
    "start_time": "2023-06-02T09:30:45.018Z"
   },
   {
    "duration": 7,
    "start_time": "2023-06-02T09:30:45.051Z"
   },
   {
    "duration": 11,
    "start_time": "2023-06-02T09:30:45.060Z"
   },
   {
    "duration": 22,
    "start_time": "2023-06-02T09:30:45.072Z"
   },
   {
    "duration": 93,
    "start_time": "2023-06-02T09:30:45.096Z"
   },
   {
    "duration": 6,
    "start_time": "2023-06-02T09:30:45.190Z"
   },
   {
    "duration": 30,
    "start_time": "2023-06-02T09:30:45.197Z"
   },
   {
    "duration": 419,
    "start_time": "2023-06-02T09:30:45.229Z"
   },
   {
    "duration": 262,
    "start_time": "2023-06-02T09:30:45.650Z"
   },
   {
    "duration": 8,
    "start_time": "2023-06-02T09:30:45.914Z"
   },
   {
    "duration": 48,
    "start_time": "2023-06-02T09:30:45.923Z"
   },
   {
    "duration": 38,
    "start_time": "2023-06-02T09:30:45.973Z"
   },
   {
    "duration": 30,
    "start_time": "2023-06-02T09:30:46.016Z"
   },
   {
    "duration": 18,
    "start_time": "2023-06-02T09:30:46.048Z"
   },
   {
    "duration": 1735,
    "start_time": "2023-06-02T09:30:46.067Z"
   },
   {
    "duration": 223,
    "start_time": "2023-06-02T09:30:47.804Z"
   },
   {
    "duration": 18,
    "start_time": "2023-06-02T09:30:48.029Z"
   },
   {
    "duration": 179,
    "start_time": "2023-06-02T09:30:48.049Z"
   },
   {
    "duration": 6,
    "start_time": "2023-06-02T09:30:48.229Z"
   },
   {
    "duration": 5,
    "start_time": "2023-06-02T09:30:48.237Z"
   },
   {
    "duration": 525,
    "start_time": "2023-06-02T09:30:48.244Z"
   },
   {
    "duration": 15,
    "start_time": "2023-06-02T09:30:48.781Z"
   },
   {
    "duration": 46,
    "start_time": "2023-06-02T09:30:48.798Z"
   },
   {
    "duration": 29,
    "start_time": "2023-06-02T09:30:48.846Z"
   },
   {
    "duration": 191,
    "start_time": "2023-06-02T09:30:48.877Z"
   },
   {
    "duration": 129,
    "start_time": "2023-06-02T09:30:49.071Z"
   },
   {
    "duration": 9794,
    "start_time": "2023-06-02T09:30:49.202Z"
   },
   {
    "duration": 14,
    "start_time": "2023-06-02T09:30:58.998Z"
   },
   {
    "duration": 7,
    "start_time": "2023-06-02T09:30:59.014Z"
   },
   {
    "duration": 84,
    "start_time": "2023-06-02T09:30:59.022Z"
   },
   {
    "duration": 536,
    "start_time": "2023-06-02T09:30:59.108Z"
   },
   {
    "duration": 17,
    "start_time": "2023-06-02T09:30:59.645Z"
   },
   {
    "duration": 26,
    "start_time": "2023-06-02T09:30:59.664Z"
   },
   {
    "duration": 71,
    "start_time": "2023-06-02T09:30:59.695Z"
   },
   {
    "duration": 122,
    "start_time": "2023-06-02T09:30:59.767Z"
   },
   {
    "duration": 5,
    "start_time": "2023-06-02T09:30:59.892Z"
   },
   {
    "duration": 7,
    "start_time": "2023-06-02T09:30:59.900Z"
   },
   {
    "duration": 9,
    "start_time": "2023-06-02T09:30:59.909Z"
   },
   {
    "duration": 117,
    "start_time": "2023-06-02T09:30:59.919Z"
   },
   {
    "duration": 60,
    "start_time": "2023-06-02T09:31:00.038Z"
   },
   {
    "duration": 101,
    "start_time": "2023-06-02T09:31:00.100Z"
   },
   {
    "duration": 7,
    "start_time": "2023-06-02T09:31:00.203Z"
   },
   {
    "duration": 128,
    "start_time": "2023-06-02T09:31:00.212Z"
   },
   {
    "duration": 6,
    "start_time": "2023-06-02T09:31:00.341Z"
   },
   {
    "duration": 125,
    "start_time": "2023-06-02T09:31:00.348Z"
   },
   {
    "duration": 16,
    "start_time": "2023-06-02T09:31:00.475Z"
   },
   {
    "duration": 374,
    "start_time": "2023-06-02T09:31:00.493Z"
   },
   {
    "duration": 370,
    "start_time": "2023-06-02T09:31:00.869Z"
   },
   {
    "duration": 9187,
    "start_time": "2023-06-02T09:50:27.269Z"
   },
   {
    "duration": 1452,
    "start_time": "2023-06-02T10:12:05.622Z"
   },
   {
    "duration": 82,
    "start_time": "2023-06-02T10:12:07.078Z"
   },
   {
    "duration": 17,
    "start_time": "2023-06-02T10:12:07.161Z"
   },
   {
    "duration": 32,
    "start_time": "2023-06-02T10:12:07.181Z"
   },
   {
    "duration": 19,
    "start_time": "2023-06-02T10:12:07.215Z"
   },
   {
    "duration": 10,
    "start_time": "2023-06-02T10:12:07.236Z"
   },
   {
    "duration": 52,
    "start_time": "2023-06-02T10:12:07.248Z"
   },
   {
    "duration": 8,
    "start_time": "2023-06-02T10:12:07.302Z"
   },
   {
    "duration": 11,
    "start_time": "2023-06-02T10:12:07.311Z"
   },
   {
    "duration": 9,
    "start_time": "2023-06-02T10:12:07.324Z"
   },
   {
    "duration": 16,
    "start_time": "2023-06-02T10:12:07.335Z"
   },
   {
    "duration": 9,
    "start_time": "2023-06-02T10:12:07.377Z"
   },
   {
    "duration": 126,
    "start_time": "2023-06-02T10:12:07.388Z"
   },
   {
    "duration": 335,
    "start_time": "2023-06-02T10:12:07.516Z"
   },
   {
    "duration": 13,
    "start_time": "2023-06-02T10:12:07.852Z"
   },
   {
    "duration": 24,
    "start_time": "2023-06-02T10:12:07.867Z"
   },
   {
    "duration": 16,
    "start_time": "2023-06-02T10:12:07.893Z"
   },
   {
    "duration": 11,
    "start_time": "2023-06-02T10:12:07.911Z"
   },
   {
    "duration": 16,
    "start_time": "2023-06-02T10:12:07.924Z"
   },
   {
    "duration": 58,
    "start_time": "2023-06-02T10:12:07.942Z"
   },
   {
    "duration": 5,
    "start_time": "2023-06-02T10:12:08.002Z"
   },
   {
    "duration": 31,
    "start_time": "2023-06-02T10:12:08.009Z"
   },
   {
    "duration": 191,
    "start_time": "2023-06-02T10:12:08.042Z"
   },
   {
    "duration": 285,
    "start_time": "2023-06-02T10:12:08.234Z"
   },
   {
    "duration": 8,
    "start_time": "2023-06-02T10:12:08.521Z"
   },
   {
    "duration": 24,
    "start_time": "2023-06-02T10:12:08.531Z"
   },
   {
    "duration": 19,
    "start_time": "2023-06-02T10:12:08.577Z"
   },
   {
    "duration": 13,
    "start_time": "2023-06-02T10:12:08.601Z"
   },
   {
    "duration": 19,
    "start_time": "2023-06-02T10:12:08.616Z"
   },
   {
    "duration": 295,
    "start_time": "2023-06-02T10:12:08.636Z"
   },
   {
    "duration": 217,
    "start_time": "2023-06-02T10:12:08.933Z"
   },
   {
    "duration": 27,
    "start_time": "2023-06-02T10:12:09.152Z"
   },
   {
    "duration": 143,
    "start_time": "2023-06-02T10:12:09.181Z"
   },
   {
    "duration": 5,
    "start_time": "2023-06-02T10:12:09.326Z"
   },
   {
    "duration": 9,
    "start_time": "2023-06-02T10:12:09.332Z"
   },
   {
    "duration": 514,
    "start_time": "2023-06-02T10:12:09.343Z"
   },
   {
    "duration": 25,
    "start_time": "2023-06-02T10:12:09.858Z"
   },
   {
    "duration": 46,
    "start_time": "2023-06-02T10:12:09.884Z"
   },
   {
    "duration": 11,
    "start_time": "2023-06-02T10:12:09.932Z"
   },
   {
    "duration": 103,
    "start_time": "2023-06-02T10:12:09.945Z"
   },
   {
    "duration": 144,
    "start_time": "2023-06-02T10:12:10.051Z"
   },
   {
    "duration": 9705,
    "start_time": "2023-06-02T10:12:10.197Z"
   },
   {
    "duration": 16,
    "start_time": "2023-06-02T10:12:19.905Z"
   },
   {
    "duration": 7,
    "start_time": "2023-06-02T10:12:19.922Z"
   },
   {
    "duration": 40,
    "start_time": "2023-06-02T10:12:19.979Z"
   },
   {
    "duration": 594,
    "start_time": "2023-06-02T10:12:20.020Z"
   },
   {
    "duration": 282,
    "start_time": "2023-06-02T10:12:20.616Z"
   },
   {
    "duration": 0,
    "start_time": "2023-06-02T10:12:20.900Z"
   },
   {
    "duration": 0,
    "start_time": "2023-06-02T10:12:20.901Z"
   },
   {
    "duration": 0,
    "start_time": "2023-06-02T10:12:20.902Z"
   },
   {
    "duration": 0,
    "start_time": "2023-06-02T10:12:20.903Z"
   },
   {
    "duration": 0,
    "start_time": "2023-06-02T10:12:20.904Z"
   },
   {
    "duration": 0,
    "start_time": "2023-06-02T10:12:20.904Z"
   },
   {
    "duration": 0,
    "start_time": "2023-06-02T10:12:20.905Z"
   },
   {
    "duration": 0,
    "start_time": "2023-06-02T10:12:20.906Z"
   },
   {
    "duration": 0,
    "start_time": "2023-06-02T10:12:20.907Z"
   },
   {
    "duration": 0,
    "start_time": "2023-06-02T10:12:20.908Z"
   },
   {
    "duration": 0,
    "start_time": "2023-06-02T10:12:20.909Z"
   },
   {
    "duration": 0,
    "start_time": "2023-06-02T10:12:20.910Z"
   },
   {
    "duration": 0,
    "start_time": "2023-06-02T10:12:20.911Z"
   },
   {
    "duration": 0,
    "start_time": "2023-06-02T10:12:20.912Z"
   },
   {
    "duration": 0,
    "start_time": "2023-06-02T10:12:20.914Z"
   },
   {
    "duration": 0,
    "start_time": "2023-06-02T10:12:20.915Z"
   },
   {
    "duration": 0,
    "start_time": "2023-06-02T10:12:20.916Z"
   },
   {
    "duration": 126,
    "start_time": "2023-06-02T10:13:43.428Z"
   },
   {
    "duration": 20,
    "start_time": "2023-06-02T10:15:17.273Z"
   },
   {
    "duration": 1543,
    "start_time": "2023-06-02T10:16:16.966Z"
   },
   {
    "duration": 85,
    "start_time": "2023-06-02T10:16:18.511Z"
   },
   {
    "duration": 13,
    "start_time": "2023-06-02T10:16:18.598Z"
   },
   {
    "duration": 42,
    "start_time": "2023-06-02T10:16:18.613Z"
   },
   {
    "duration": 34,
    "start_time": "2023-06-02T10:16:18.658Z"
   },
   {
    "duration": 8,
    "start_time": "2023-06-02T10:16:18.694Z"
   },
   {
    "duration": 27,
    "start_time": "2023-06-02T10:16:18.704Z"
   },
   {
    "duration": 9,
    "start_time": "2023-06-02T10:16:18.733Z"
   },
   {
    "duration": 35,
    "start_time": "2023-06-02T10:16:18.743Z"
   },
   {
    "duration": 11,
    "start_time": "2023-06-02T10:16:18.780Z"
   },
   {
    "duration": 13,
    "start_time": "2023-06-02T10:16:18.792Z"
   },
   {
    "duration": 9,
    "start_time": "2023-06-02T10:16:18.806Z"
   },
   {
    "duration": 143,
    "start_time": "2023-06-02T10:16:18.817Z"
   },
   {
    "duration": 247,
    "start_time": "2023-06-02T10:16:18.963Z"
   },
   {
    "duration": 14,
    "start_time": "2023-06-02T10:16:19.212Z"
   },
   {
    "duration": 14,
    "start_time": "2023-06-02T10:16:19.228Z"
   },
   {
    "duration": 38,
    "start_time": "2023-06-02T10:16:19.244Z"
   },
   {
    "duration": 16,
    "start_time": "2023-06-02T10:16:19.284Z"
   },
   {
    "duration": 21,
    "start_time": "2023-06-02T10:16:19.302Z"
   },
   {
    "duration": 46,
    "start_time": "2023-06-02T10:16:19.325Z"
   },
   {
    "duration": 6,
    "start_time": "2023-06-02T10:16:19.373Z"
   },
   {
    "duration": 18,
    "start_time": "2023-06-02T10:16:19.381Z"
   },
   {
    "duration": 232,
    "start_time": "2023-06-02T10:16:19.401Z"
   },
   {
    "duration": 289,
    "start_time": "2023-06-02T10:16:19.636Z"
   },
   {
    "duration": 8,
    "start_time": "2023-06-02T10:16:19.926Z"
   },
   {
    "duration": 53,
    "start_time": "2023-06-02T10:16:19.935Z"
   },
   {
    "duration": 22,
    "start_time": "2023-06-02T10:16:19.990Z"
   },
   {
    "duration": 13,
    "start_time": "2023-06-02T10:16:20.013Z"
   },
   {
    "duration": 18,
    "start_time": "2023-06-02T10:16:20.027Z"
   },
   {
    "duration": 298,
    "start_time": "2023-06-02T10:16:20.046Z"
   },
   {
    "duration": 235,
    "start_time": "2023-06-02T10:16:20.346Z"
   },
   {
    "duration": 17,
    "start_time": "2023-06-02T10:16:20.583Z"
   },
   {
    "duration": 160,
    "start_time": "2023-06-02T10:16:20.602Z"
   },
   {
    "duration": 14,
    "start_time": "2023-06-02T10:16:20.764Z"
   },
   {
    "duration": 4,
    "start_time": "2023-06-02T10:16:20.781Z"
   },
   {
    "duration": 487,
    "start_time": "2023-06-02T10:16:20.787Z"
   },
   {
    "duration": 11,
    "start_time": "2023-06-02T10:16:21.278Z"
   },
   {
    "duration": 45,
    "start_time": "2023-06-02T10:16:21.291Z"
   },
   {
    "duration": 41,
    "start_time": "2023-06-02T10:16:21.338Z"
   },
   {
    "duration": 106,
    "start_time": "2023-06-02T10:16:21.381Z"
   },
   {
    "duration": 143,
    "start_time": "2023-06-02T10:16:21.493Z"
   },
   {
    "duration": 9368,
    "start_time": "2023-06-02T10:16:21.638Z"
   },
   {
    "duration": 14,
    "start_time": "2023-06-02T10:16:31.008Z"
   },
   {
    "duration": 57,
    "start_time": "2023-06-02T10:16:31.024Z"
   },
   {
    "duration": 108,
    "start_time": "2023-06-02T10:16:31.083Z"
   },
   {
    "duration": 593,
    "start_time": "2023-06-02T10:16:31.193Z"
   },
   {
    "duration": 291,
    "start_time": "2023-06-02T10:17:20.014Z"
   },
   {
    "duration": 0,
    "start_time": "2023-06-02T10:17:20.307Z"
   },
   {
    "duration": 0,
    "start_time": "2023-06-02T10:17:20.308Z"
   },
   {
    "duration": 0,
    "start_time": "2023-06-02T10:17:20.310Z"
   },
   {
    "duration": 0,
    "start_time": "2023-06-02T10:17:20.311Z"
   },
   {
    "duration": 0,
    "start_time": "2023-06-02T10:17:20.312Z"
   },
   {
    "duration": 0,
    "start_time": "2023-06-02T10:17:20.314Z"
   },
   {
    "duration": 0,
    "start_time": "2023-06-02T10:17:20.315Z"
   },
   {
    "duration": 0,
    "start_time": "2023-06-02T10:17:20.317Z"
   },
   {
    "duration": 0,
    "start_time": "2023-06-02T10:17:20.318Z"
   },
   {
    "duration": 0,
    "start_time": "2023-06-02T10:17:20.320Z"
   },
   {
    "duration": 0,
    "start_time": "2023-06-02T10:17:20.321Z"
   },
   {
    "duration": 0,
    "start_time": "2023-06-02T10:17:20.322Z"
   },
   {
    "duration": 0,
    "start_time": "2023-06-02T10:17:20.324Z"
   },
   {
    "duration": 0,
    "start_time": "2023-06-02T10:17:20.326Z"
   },
   {
    "duration": 0,
    "start_time": "2023-06-02T10:17:20.327Z"
   },
   {
    "duration": 0,
    "start_time": "2023-06-02T10:17:20.328Z"
   },
   {
    "duration": 0,
    "start_time": "2023-06-02T10:17:20.330Z"
   },
   {
    "duration": 0,
    "start_time": "2023-06-02T10:17:20.331Z"
   },
   {
    "duration": 50935,
    "start_time": "2023-06-02T10:17:23.321Z"
   },
   {
    "duration": 50680,
    "start_time": "2023-06-02T10:18:49.905Z"
   },
   {
    "duration": 1474,
    "start_time": "2023-06-02T10:20:48.824Z"
   },
   {
    "duration": 88,
    "start_time": "2023-06-02T10:20:50.300Z"
   },
   {
    "duration": 18,
    "start_time": "2023-06-02T10:20:50.391Z"
   },
   {
    "duration": 26,
    "start_time": "2023-06-02T10:20:50.412Z"
   },
   {
    "duration": 48,
    "start_time": "2023-06-02T10:20:50.440Z"
   },
   {
    "duration": 11,
    "start_time": "2023-06-02T10:20:50.489Z"
   },
   {
    "duration": 27,
    "start_time": "2023-06-02T10:20:50.501Z"
   },
   {
    "duration": 9,
    "start_time": "2023-06-02T10:20:50.530Z"
   },
   {
    "duration": 42,
    "start_time": "2023-06-02T10:20:50.540Z"
   },
   {
    "duration": 10,
    "start_time": "2023-06-02T10:20:50.584Z"
   },
   {
    "duration": 16,
    "start_time": "2023-06-02T10:20:50.596Z"
   },
   {
    "duration": 8,
    "start_time": "2023-06-02T10:20:50.614Z"
   },
   {
    "duration": 160,
    "start_time": "2023-06-02T10:20:50.624Z"
   },
   {
    "duration": 245,
    "start_time": "2023-06-02T10:20:50.785Z"
   },
   {
    "duration": 14,
    "start_time": "2023-06-02T10:20:51.032Z"
   },
   {
    "duration": 31,
    "start_time": "2023-06-02T10:20:51.048Z"
   },
   {
    "duration": 10,
    "start_time": "2023-06-02T10:20:51.082Z"
   },
   {
    "duration": 3,
    "start_time": "2023-06-02T10:20:51.094Z"
   },
   {
    "duration": 20,
    "start_time": "2023-06-02T10:20:51.099Z"
   },
   {
    "duration": 80,
    "start_time": "2023-06-02T10:20:51.120Z"
   },
   {
    "duration": 7,
    "start_time": "2023-06-02T10:20:51.202Z"
   },
   {
    "duration": 23,
    "start_time": "2023-06-02T10:20:51.210Z"
   },
   {
    "duration": 241,
    "start_time": "2023-06-02T10:20:51.235Z"
   },
   {
    "duration": 304,
    "start_time": "2023-06-02T10:20:51.478Z"
   },
   {
    "duration": 9,
    "start_time": "2023-06-02T10:20:51.784Z"
   },
   {
    "duration": 20,
    "start_time": "2023-06-02T10:20:51.794Z"
   },
   {
    "duration": 18,
    "start_time": "2023-06-02T10:20:51.815Z"
   },
   {
    "duration": 45,
    "start_time": "2023-06-02T10:20:51.836Z"
   },
   {
    "duration": 18,
    "start_time": "2023-06-02T10:20:51.882Z"
   },
   {
    "duration": 288,
    "start_time": "2023-06-02T10:20:51.901Z"
   },
   {
    "duration": 234,
    "start_time": "2023-06-02T10:20:52.191Z"
   },
   {
    "duration": 17,
    "start_time": "2023-06-02T10:20:52.427Z"
   },
   {
    "duration": 160,
    "start_time": "2023-06-02T10:20:52.445Z"
   },
   {
    "duration": 4,
    "start_time": "2023-06-02T10:20:52.607Z"
   },
   {
    "duration": 16,
    "start_time": "2023-06-02T10:20:52.613Z"
   },
   {
    "duration": 462,
    "start_time": "2023-06-02T10:20:52.631Z"
   },
   {
    "duration": 10,
    "start_time": "2023-06-02T10:20:53.095Z"
   },
   {
    "duration": 53,
    "start_time": "2023-06-02T10:20:53.107Z"
   },
   {
    "duration": 27,
    "start_time": "2023-06-02T10:20:53.161Z"
   },
   {
    "duration": 97,
    "start_time": "2023-06-02T10:20:53.190Z"
   },
   {
    "duration": 128,
    "start_time": "2023-06-02T10:20:53.290Z"
   },
   {
    "duration": 9520,
    "start_time": "2023-06-02T10:20:53.420Z"
   },
   {
    "duration": 42,
    "start_time": "2023-06-02T10:21:02.942Z"
   },
   {
    "duration": 9,
    "start_time": "2023-06-02T10:21:02.986Z"
   },
   {
    "duration": 94,
    "start_time": "2023-06-02T10:21:02.997Z"
   },
   {
    "duration": 632,
    "start_time": "2023-06-02T10:21:03.093Z"
   },
   {
    "duration": 48431,
    "start_time": "2023-06-02T10:21:03.726Z"
   },
   {
    "duration": 172,
    "start_time": "2023-06-02T10:21:52.159Z"
   },
   {
    "duration": 0,
    "start_time": "2023-06-02T10:21:52.332Z"
   },
   {
    "duration": 0,
    "start_time": "2023-06-02T10:21:52.334Z"
   },
   {
    "duration": 0,
    "start_time": "2023-06-02T10:21:52.335Z"
   },
   {
    "duration": 0,
    "start_time": "2023-06-02T10:21:52.335Z"
   },
   {
    "duration": 0,
    "start_time": "2023-06-02T10:21:52.336Z"
   },
   {
    "duration": 0,
    "start_time": "2023-06-02T10:21:52.337Z"
   },
   {
    "duration": 0,
    "start_time": "2023-06-02T10:21:52.339Z"
   },
   {
    "duration": 1,
    "start_time": "2023-06-02T10:21:52.339Z"
   },
   {
    "duration": 0,
    "start_time": "2023-06-02T10:21:52.341Z"
   },
   {
    "duration": 0,
    "start_time": "2023-06-02T10:21:52.342Z"
   },
   {
    "duration": 0,
    "start_time": "2023-06-02T10:21:52.343Z"
   },
   {
    "duration": 0,
    "start_time": "2023-06-02T10:21:52.344Z"
   },
   {
    "duration": 0,
    "start_time": "2023-06-02T10:21:52.345Z"
   },
   {
    "duration": 0,
    "start_time": "2023-06-02T10:21:52.346Z"
   },
   {
    "duration": 0,
    "start_time": "2023-06-02T10:21:52.346Z"
   },
   {
    "duration": 0,
    "start_time": "2023-06-02T10:21:52.347Z"
   },
   {
    "duration": 0,
    "start_time": "2023-06-02T10:21:52.378Z"
   },
   {
    "duration": 27,
    "start_time": "2023-06-02T10:28:22.159Z"
   },
   {
    "duration": 18,
    "start_time": "2023-06-02T10:31:24.562Z"
   },
   {
    "duration": 498,
    "start_time": "2023-06-02T10:35:21.671Z"
   },
   {
    "duration": 479,
    "start_time": "2023-06-02T10:36:40.105Z"
   },
   {
    "duration": 1833,
    "start_time": "2023-06-02T10:36:47.215Z"
   },
   {
    "duration": 461,
    "start_time": "2023-06-02T10:42:08.164Z"
   },
   {
    "duration": 18,
    "start_time": "2023-06-02T10:42:08.627Z"
   },
   {
    "duration": 13,
    "start_time": "2023-06-02T10:42:45.074Z"
   },
   {
    "duration": 12,
    "start_time": "2023-06-02T10:42:47.201Z"
   },
   {
    "duration": 8,
    "start_time": "2023-06-02T10:42:51.391Z"
   },
   {
    "duration": 52,
    "start_time": "2023-06-02T10:42:52.368Z"
   },
   {
    "duration": 102,
    "start_time": "2023-06-02T10:43:03.152Z"
   },
   {
    "duration": 1457,
    "start_time": "2023-06-02T11:02:17.775Z"
   },
   {
    "duration": 98,
    "start_time": "2023-06-02T11:02:19.235Z"
   },
   {
    "duration": 17,
    "start_time": "2023-06-02T11:02:19.335Z"
   },
   {
    "duration": 47,
    "start_time": "2023-06-02T11:02:19.354Z"
   },
   {
    "duration": 31,
    "start_time": "2023-06-02T11:02:19.403Z"
   },
   {
    "duration": 16,
    "start_time": "2023-06-02T11:02:19.436Z"
   },
   {
    "duration": 41,
    "start_time": "2023-06-02T11:02:19.454Z"
   },
   {
    "duration": 11,
    "start_time": "2023-06-02T11:02:19.497Z"
   },
   {
    "duration": 10,
    "start_time": "2023-06-02T11:02:19.510Z"
   },
   {
    "duration": 38,
    "start_time": "2023-06-02T11:02:19.522Z"
   },
   {
    "duration": 47,
    "start_time": "2023-06-02T11:02:19.561Z"
   },
   {
    "duration": 23,
    "start_time": "2023-06-02T11:02:19.610Z"
   },
   {
    "duration": 145,
    "start_time": "2023-06-02T11:02:19.635Z"
   },
   {
    "duration": 261,
    "start_time": "2023-06-02T11:02:19.783Z"
   },
   {
    "duration": 14,
    "start_time": "2023-06-02T11:02:20.046Z"
   },
   {
    "duration": 35,
    "start_time": "2023-06-02T11:02:20.062Z"
   },
   {
    "duration": 9,
    "start_time": "2023-06-02T11:02:20.099Z"
   },
   {
    "duration": 17,
    "start_time": "2023-06-02T11:02:20.110Z"
   },
   {
    "duration": 12,
    "start_time": "2023-06-02T11:02:20.129Z"
   },
   {
    "duration": 57,
    "start_time": "2023-06-02T11:02:20.143Z"
   },
   {
    "duration": 21,
    "start_time": "2023-06-02T11:02:20.202Z"
   },
   {
    "duration": 31,
    "start_time": "2023-06-02T11:02:20.225Z"
   },
   {
    "duration": 226,
    "start_time": "2023-06-02T11:02:20.258Z"
   },
   {
    "duration": 329,
    "start_time": "2023-06-02T11:02:20.486Z"
   },
   {
    "duration": 8,
    "start_time": "2023-06-02T11:02:20.817Z"
   },
   {
    "duration": 60,
    "start_time": "2023-06-02T11:02:20.827Z"
   },
   {
    "duration": 27,
    "start_time": "2023-06-02T11:02:20.889Z"
   },
   {
    "duration": 32,
    "start_time": "2023-06-02T11:02:20.917Z"
   },
   {
    "duration": 35,
    "start_time": "2023-06-02T11:02:20.951Z"
   },
   {
    "duration": 308,
    "start_time": "2023-06-02T11:02:20.988Z"
   },
   {
    "duration": 275,
    "start_time": "2023-06-02T11:02:21.298Z"
   },
   {
    "duration": 19,
    "start_time": "2023-06-02T11:02:21.578Z"
   },
   {
    "duration": 212,
    "start_time": "2023-06-02T11:02:21.599Z"
   },
   {
    "duration": 5,
    "start_time": "2023-06-02T11:02:21.813Z"
   },
   {
    "duration": 19,
    "start_time": "2023-06-02T11:02:21.820Z"
   },
   {
    "duration": 495,
    "start_time": "2023-06-02T11:02:21.841Z"
   },
   {
    "duration": 12,
    "start_time": "2023-06-02T11:02:22.338Z"
   },
   {
    "duration": 79,
    "start_time": "2023-06-02T11:02:22.352Z"
   },
   {
    "duration": 25,
    "start_time": "2023-06-02T11:02:22.433Z"
   },
   {
    "duration": 131,
    "start_time": "2023-06-02T11:02:22.460Z"
   },
   {
    "duration": 150,
    "start_time": "2023-06-02T11:02:22.599Z"
   },
   {
    "duration": 9686,
    "start_time": "2023-06-02T11:02:22.778Z"
   },
   {
    "duration": 26,
    "start_time": "2023-06-02T11:02:32.466Z"
   },
   {
    "duration": 16,
    "start_time": "2023-06-02T11:02:32.494Z"
   },
   {
    "duration": 98,
    "start_time": "2023-06-02T11:02:32.512Z"
   },
   {
    "duration": 638,
    "start_time": "2023-06-02T11:02:32.612Z"
   },
   {
    "duration": 517,
    "start_time": "2023-06-02T11:02:33.252Z"
   },
   {
    "duration": 210,
    "start_time": "2023-06-02T11:02:33.771Z"
   },
   {
    "duration": 0,
    "start_time": "2023-06-02T11:02:33.982Z"
   },
   {
    "duration": 0,
    "start_time": "2023-06-02T11:02:33.984Z"
   },
   {
    "duration": 1,
    "start_time": "2023-06-02T11:02:33.985Z"
   },
   {
    "duration": 0,
    "start_time": "2023-06-02T11:02:33.987Z"
   },
   {
    "duration": 0,
    "start_time": "2023-06-02T11:02:33.989Z"
   },
   {
    "duration": 0,
    "start_time": "2023-06-02T11:02:33.990Z"
   },
   {
    "duration": 0,
    "start_time": "2023-06-02T11:02:33.991Z"
   },
   {
    "duration": 0,
    "start_time": "2023-06-02T11:02:33.992Z"
   },
   {
    "duration": 0,
    "start_time": "2023-06-02T11:02:33.993Z"
   },
   {
    "duration": 0,
    "start_time": "2023-06-02T11:02:33.994Z"
   },
   {
    "duration": 0,
    "start_time": "2023-06-02T11:02:33.995Z"
   },
   {
    "duration": 0,
    "start_time": "2023-06-02T11:02:33.996Z"
   },
   {
    "duration": 0,
    "start_time": "2023-06-02T11:02:33.997Z"
   },
   {
    "duration": 0,
    "start_time": "2023-06-02T11:02:34.000Z"
   },
   {
    "duration": 0,
    "start_time": "2023-06-02T11:02:34.001Z"
   },
   {
    "duration": 0,
    "start_time": "2023-06-02T11:02:34.002Z"
   },
   {
    "duration": 0,
    "start_time": "2023-06-02T11:02:34.003Z"
   },
   {
    "duration": 1574,
    "start_time": "2023-06-02T11:03:09.266Z"
   },
   {
    "duration": 91,
    "start_time": "2023-06-02T11:03:10.842Z"
   },
   {
    "duration": 16,
    "start_time": "2023-06-02T11:03:10.935Z"
   },
   {
    "duration": 50,
    "start_time": "2023-06-02T11:03:10.954Z"
   },
   {
    "duration": 39,
    "start_time": "2023-06-02T11:03:11.006Z"
   },
   {
    "duration": 12,
    "start_time": "2023-06-02T11:03:11.046Z"
   },
   {
    "duration": 46,
    "start_time": "2023-06-02T11:03:11.060Z"
   },
   {
    "duration": 13,
    "start_time": "2023-06-02T11:03:11.108Z"
   },
   {
    "duration": 12,
    "start_time": "2023-06-02T11:03:11.123Z"
   },
   {
    "duration": 33,
    "start_time": "2023-06-02T11:03:11.139Z"
   },
   {
    "duration": 13,
    "start_time": "2023-06-02T11:03:11.177Z"
   },
   {
    "duration": 26,
    "start_time": "2023-06-02T11:03:11.193Z"
   },
   {
    "duration": 150,
    "start_time": "2023-06-02T11:03:11.221Z"
   },
   {
    "duration": 274,
    "start_time": "2023-06-02T11:03:11.378Z"
   },
   {
    "duration": 28,
    "start_time": "2023-06-02T11:03:11.655Z"
   },
   {
    "duration": 14,
    "start_time": "2023-06-02T11:03:11.685Z"
   },
   {
    "duration": 24,
    "start_time": "2023-06-02T11:03:11.701Z"
   },
   {
    "duration": 16,
    "start_time": "2023-06-02T11:03:11.727Z"
   },
   {
    "duration": 24,
    "start_time": "2023-06-02T11:03:11.745Z"
   },
   {
    "duration": 48,
    "start_time": "2023-06-02T11:03:11.771Z"
   },
   {
    "duration": 8,
    "start_time": "2023-06-02T11:03:11.820Z"
   },
   {
    "duration": 27,
    "start_time": "2023-06-02T11:03:11.830Z"
   },
   {
    "duration": 225,
    "start_time": "2023-06-02T11:03:11.859Z"
   },
   {
    "duration": 319,
    "start_time": "2023-06-02T11:03:12.085Z"
   },
   {
    "duration": 9,
    "start_time": "2023-06-02T11:03:12.406Z"
   },
   {
    "duration": 29,
    "start_time": "2023-06-02T11:03:12.416Z"
   },
   {
    "duration": 44,
    "start_time": "2023-06-02T11:03:12.447Z"
   },
   {
    "duration": 14,
    "start_time": "2023-06-02T11:03:12.496Z"
   },
   {
    "duration": 19,
    "start_time": "2023-06-02T11:03:12.512Z"
   },
   {
    "duration": 315,
    "start_time": "2023-06-02T11:03:12.532Z"
   },
   {
    "duration": 244,
    "start_time": "2023-06-02T11:03:12.850Z"
   },
   {
    "duration": 28,
    "start_time": "2023-06-02T11:03:13.096Z"
   },
   {
    "duration": 168,
    "start_time": "2023-06-02T11:03:13.126Z"
   },
   {
    "duration": 6,
    "start_time": "2023-06-02T11:03:13.296Z"
   },
   {
    "duration": 21,
    "start_time": "2023-06-02T11:03:13.303Z"
   },
   {
    "duration": 495,
    "start_time": "2023-06-02T11:03:13.326Z"
   },
   {
    "duration": 12,
    "start_time": "2023-06-02T11:03:13.823Z"
   },
   {
    "duration": 78,
    "start_time": "2023-06-02T11:03:13.837Z"
   },
   {
    "duration": 16,
    "start_time": "2023-06-02T11:03:13.917Z"
   },
   {
    "duration": 111,
    "start_time": "2023-06-02T11:03:13.935Z"
   },
   {
    "duration": 167,
    "start_time": "2023-06-02T11:03:14.049Z"
   },
   {
    "duration": 9804,
    "start_time": "2023-06-02T11:03:14.218Z"
   },
   {
    "duration": 53,
    "start_time": "2023-06-02T11:03:24.025Z"
   },
   {
    "duration": 8,
    "start_time": "2023-06-02T11:03:24.080Z"
   },
   {
    "duration": 94,
    "start_time": "2023-06-02T11:03:24.090Z"
   },
   {
    "duration": 599,
    "start_time": "2023-06-02T11:03:24.186Z"
   },
   {
    "duration": 493,
    "start_time": "2023-06-02T11:03:24.787Z"
   },
   {
    "duration": 183,
    "start_time": "2023-06-02T11:03:25.282Z"
   },
   {
    "duration": 0,
    "start_time": "2023-06-02T11:03:25.466Z"
   },
   {
    "duration": 0,
    "start_time": "2023-06-02T11:03:25.468Z"
   },
   {
    "duration": 0,
    "start_time": "2023-06-02T11:03:25.479Z"
   },
   {
    "duration": 0,
    "start_time": "2023-06-02T11:03:25.481Z"
   },
   {
    "duration": 0,
    "start_time": "2023-06-02T11:03:25.482Z"
   },
   {
    "duration": 0,
    "start_time": "2023-06-02T11:03:25.483Z"
   },
   {
    "duration": 0,
    "start_time": "2023-06-02T11:03:25.484Z"
   },
   {
    "duration": 0,
    "start_time": "2023-06-02T11:03:25.485Z"
   },
   {
    "duration": 0,
    "start_time": "2023-06-02T11:03:25.486Z"
   },
   {
    "duration": 0,
    "start_time": "2023-06-02T11:03:25.488Z"
   },
   {
    "duration": 0,
    "start_time": "2023-06-02T11:03:25.489Z"
   },
   {
    "duration": 0,
    "start_time": "2023-06-02T11:03:25.490Z"
   },
   {
    "duration": 0,
    "start_time": "2023-06-02T11:03:25.491Z"
   },
   {
    "duration": 0,
    "start_time": "2023-06-02T11:03:25.492Z"
   },
   {
    "duration": 0,
    "start_time": "2023-06-02T11:03:25.493Z"
   },
   {
    "duration": 0,
    "start_time": "2023-06-02T11:03:25.494Z"
   },
   {
    "duration": 0,
    "start_time": "2023-06-02T11:03:25.496Z"
   },
   {
    "duration": 1522,
    "start_time": "2023-06-02T11:04:39.130Z"
   },
   {
    "duration": 88,
    "start_time": "2023-06-02T11:04:40.654Z"
   },
   {
    "duration": 15,
    "start_time": "2023-06-02T11:04:40.743Z"
   },
   {
    "duration": 39,
    "start_time": "2023-06-02T11:04:40.761Z"
   },
   {
    "duration": 35,
    "start_time": "2023-06-02T11:04:40.802Z"
   },
   {
    "duration": 11,
    "start_time": "2023-06-02T11:04:40.839Z"
   },
   {
    "duration": 52,
    "start_time": "2023-06-02T11:04:40.852Z"
   },
   {
    "duration": 11,
    "start_time": "2023-06-02T11:04:40.906Z"
   },
   {
    "duration": 4,
    "start_time": "2023-06-02T11:04:40.919Z"
   },
   {
    "duration": 15,
    "start_time": "2023-06-02T11:04:40.926Z"
   },
   {
    "duration": 37,
    "start_time": "2023-06-02T11:04:40.942Z"
   },
   {
    "duration": 10,
    "start_time": "2023-06-02T11:04:40.982Z"
   },
   {
    "duration": 140,
    "start_time": "2023-06-02T11:04:40.994Z"
   },
   {
    "duration": 260,
    "start_time": "2023-06-02T11:04:41.136Z"
   },
   {
    "duration": 19,
    "start_time": "2023-06-02T11:04:41.398Z"
   },
   {
    "duration": 15,
    "start_time": "2023-06-02T11:04:41.419Z"
   },
   {
    "duration": 8,
    "start_time": "2023-06-02T11:04:41.435Z"
   },
   {
    "duration": 34,
    "start_time": "2023-06-02T11:04:41.445Z"
   },
   {
    "duration": 13,
    "start_time": "2023-06-02T11:04:41.481Z"
   },
   {
    "duration": 50,
    "start_time": "2023-06-02T11:04:41.496Z"
   },
   {
    "duration": 5,
    "start_time": "2023-06-02T11:04:41.548Z"
   },
   {
    "duration": 31,
    "start_time": "2023-06-02T11:04:41.554Z"
   },
   {
    "duration": 265,
    "start_time": "2023-06-02T11:04:41.587Z"
   },
   {
    "duration": 289,
    "start_time": "2023-06-02T11:04:41.854Z"
   },
   {
    "duration": 8,
    "start_time": "2023-06-02T11:04:42.145Z"
   },
   {
    "duration": 44,
    "start_time": "2023-06-02T11:04:42.156Z"
   },
   {
    "duration": 29,
    "start_time": "2023-06-02T11:04:42.202Z"
   },
   {
    "duration": 13,
    "start_time": "2023-06-02T11:04:42.237Z"
   },
   {
    "duration": 44,
    "start_time": "2023-06-02T11:04:42.253Z"
   },
   {
    "duration": 344,
    "start_time": "2023-06-02T11:04:42.299Z"
   },
   {
    "duration": 283,
    "start_time": "2023-06-02T11:04:42.645Z"
   },
   {
    "duration": 21,
    "start_time": "2023-06-02T11:04:42.930Z"
   },
   {
    "duration": 221,
    "start_time": "2023-06-02T11:04:42.953Z"
   },
   {
    "duration": 6,
    "start_time": "2023-06-02T11:04:43.177Z"
   },
   {
    "duration": 13,
    "start_time": "2023-06-02T11:04:43.184Z"
   },
   {
    "duration": 566,
    "start_time": "2023-06-02T11:04:43.199Z"
   },
   {
    "duration": 22,
    "start_time": "2023-06-02T11:04:43.767Z"
   },
   {
    "duration": 83,
    "start_time": "2023-06-02T11:04:43.791Z"
   },
   {
    "duration": 33,
    "start_time": "2023-06-02T11:04:43.876Z"
   },
   {
    "duration": 148,
    "start_time": "2023-06-02T11:04:43.911Z"
   },
   {
    "duration": 127,
    "start_time": "2023-06-02T11:04:44.062Z"
   },
   {
    "duration": 9948,
    "start_time": "2023-06-02T11:04:44.191Z"
   },
   {
    "duration": 40,
    "start_time": "2023-06-02T11:04:54.142Z"
   },
   {
    "duration": 8,
    "start_time": "2023-06-02T11:04:54.184Z"
   },
   {
    "duration": 89,
    "start_time": "2023-06-02T11:04:54.194Z"
   },
   {
    "duration": 554,
    "start_time": "2023-06-02T11:04:54.285Z"
   },
   {
    "duration": 510,
    "start_time": "2023-06-02T11:04:54.840Z"
   },
   {
    "duration": 199,
    "start_time": "2023-06-02T11:04:55.352Z"
   },
   {
    "duration": 0,
    "start_time": "2023-06-02T11:04:55.552Z"
   },
   {
    "duration": 0,
    "start_time": "2023-06-02T11:04:55.554Z"
   },
   {
    "duration": 0,
    "start_time": "2023-06-02T11:04:55.555Z"
   },
   {
    "duration": 0,
    "start_time": "2023-06-02T11:04:55.557Z"
   },
   {
    "duration": 0,
    "start_time": "2023-06-02T11:04:55.558Z"
   },
   {
    "duration": 0,
    "start_time": "2023-06-02T11:04:55.559Z"
   },
   {
    "duration": 0,
    "start_time": "2023-06-02T11:04:55.560Z"
   },
   {
    "duration": 0,
    "start_time": "2023-06-02T11:04:55.578Z"
   },
   {
    "duration": 0,
    "start_time": "2023-06-02T11:04:55.579Z"
   },
   {
    "duration": 0,
    "start_time": "2023-06-02T11:04:55.581Z"
   },
   {
    "duration": 0,
    "start_time": "2023-06-02T11:04:55.582Z"
   },
   {
    "duration": 0,
    "start_time": "2023-06-02T11:04:55.583Z"
   },
   {
    "duration": 0,
    "start_time": "2023-06-02T11:04:55.586Z"
   },
   {
    "duration": 0,
    "start_time": "2023-06-02T11:04:55.587Z"
   },
   {
    "duration": 0,
    "start_time": "2023-06-02T11:04:55.588Z"
   },
   {
    "duration": 0,
    "start_time": "2023-06-02T11:04:55.590Z"
   },
   {
    "duration": 0,
    "start_time": "2023-06-02T11:04:55.591Z"
   },
   {
    "duration": 1461,
    "start_time": "2023-06-02T11:05:15.928Z"
   },
   {
    "duration": 101,
    "start_time": "2023-06-02T11:05:17.391Z"
   },
   {
    "duration": 17,
    "start_time": "2023-06-02T11:05:17.495Z"
   },
   {
    "duration": 33,
    "start_time": "2023-06-02T11:05:17.514Z"
   },
   {
    "duration": 49,
    "start_time": "2023-06-02T11:05:17.549Z"
   },
   {
    "duration": 11,
    "start_time": "2023-06-02T11:05:17.601Z"
   },
   {
    "duration": 42,
    "start_time": "2023-06-02T11:05:17.614Z"
   },
   {
    "duration": 29,
    "start_time": "2023-06-02T11:05:17.658Z"
   },
   {
    "duration": 4,
    "start_time": "2023-06-02T11:05:17.690Z"
   },
   {
    "duration": 17,
    "start_time": "2023-06-02T11:05:17.696Z"
   },
   {
    "duration": 14,
    "start_time": "2023-06-02T11:05:17.715Z"
   },
   {
    "duration": 11,
    "start_time": "2023-06-02T11:05:17.732Z"
   },
   {
    "duration": 126,
    "start_time": "2023-06-02T11:05:17.777Z"
   },
   {
    "duration": 228,
    "start_time": "2023-06-02T11:05:17.905Z"
   },
   {
    "duration": 13,
    "start_time": "2023-06-02T11:05:18.135Z"
   },
   {
    "duration": 29,
    "start_time": "2023-06-02T11:05:18.150Z"
   },
   {
    "duration": 10,
    "start_time": "2023-06-02T11:05:18.181Z"
   },
   {
    "duration": 14,
    "start_time": "2023-06-02T11:05:18.193Z"
   },
   {
    "duration": 11,
    "start_time": "2023-06-02T11:05:18.208Z"
   },
   {
    "duration": 54,
    "start_time": "2023-06-02T11:05:18.222Z"
   },
   {
    "duration": 6,
    "start_time": "2023-06-02T11:05:18.278Z"
   },
   {
    "duration": 20,
    "start_time": "2023-06-02T11:05:18.285Z"
   },
   {
    "duration": 238,
    "start_time": "2023-06-02T11:05:18.307Z"
   },
   {
    "duration": 306,
    "start_time": "2023-06-02T11:05:18.547Z"
   },
   {
    "duration": 8,
    "start_time": "2023-06-02T11:05:18.855Z"
   },
   {
    "duration": 31,
    "start_time": "2023-06-02T11:05:18.865Z"
   },
   {
    "duration": 18,
    "start_time": "2023-06-02T11:05:18.897Z"
   },
   {
    "duration": 12,
    "start_time": "2023-06-02T11:05:18.918Z"
   },
   {
    "duration": 50,
    "start_time": "2023-06-02T11:05:18.932Z"
   },
   {
    "duration": 294,
    "start_time": "2023-06-02T11:05:18.984Z"
   },
   {
    "duration": 238,
    "start_time": "2023-06-02T11:05:19.280Z"
   },
   {
    "duration": 24,
    "start_time": "2023-06-02T11:05:19.520Z"
   },
   {
    "duration": 167,
    "start_time": "2023-06-02T11:05:19.546Z"
   },
   {
    "duration": 5,
    "start_time": "2023-06-02T11:05:19.715Z"
   },
   {
    "duration": 7,
    "start_time": "2023-06-02T11:05:19.722Z"
   },
   {
    "duration": 492,
    "start_time": "2023-06-02T11:05:19.731Z"
   },
   {
    "duration": 12,
    "start_time": "2023-06-02T11:05:20.225Z"
   },
   {
    "duration": 69,
    "start_time": "2023-06-02T11:05:20.239Z"
   },
   {
    "duration": 11,
    "start_time": "2023-06-02T11:05:20.309Z"
   },
   {
    "duration": 110,
    "start_time": "2023-06-02T11:05:20.322Z"
   },
   {
    "duration": 114,
    "start_time": "2023-06-02T11:05:20.435Z"
   },
   {
    "duration": 9690,
    "start_time": "2023-06-02T11:05:20.579Z"
   },
   {
    "duration": 15,
    "start_time": "2023-06-02T11:05:30.279Z"
   },
   {
    "duration": 84,
    "start_time": "2023-06-02T11:05:30.296Z"
   },
   {
    "duration": 112,
    "start_time": "2023-06-02T11:05:30.381Z"
   },
   {
    "duration": 436,
    "start_time": "2023-06-02T11:05:30.495Z"
   },
   {
    "duration": 494,
    "start_time": "2023-06-02T11:05:30.934Z"
   },
   {
    "duration": 178,
    "start_time": "2023-06-02T11:05:31.430Z"
   },
   {
    "duration": 0,
    "start_time": "2023-06-02T11:05:31.610Z"
   },
   {
    "duration": 0,
    "start_time": "2023-06-02T11:05:31.611Z"
   },
   {
    "duration": 0,
    "start_time": "2023-06-02T11:05:31.612Z"
   },
   {
    "duration": 0,
    "start_time": "2023-06-02T11:05:31.614Z"
   },
   {
    "duration": 0,
    "start_time": "2023-06-02T11:05:31.615Z"
   },
   {
    "duration": 0,
    "start_time": "2023-06-02T11:05:31.617Z"
   },
   {
    "duration": 0,
    "start_time": "2023-06-02T11:05:31.618Z"
   },
   {
    "duration": 0,
    "start_time": "2023-06-02T11:05:31.619Z"
   },
   {
    "duration": 0,
    "start_time": "2023-06-02T11:05:31.621Z"
   },
   {
    "duration": 0,
    "start_time": "2023-06-02T11:05:31.622Z"
   },
   {
    "duration": 0,
    "start_time": "2023-06-02T11:05:31.623Z"
   },
   {
    "duration": 0,
    "start_time": "2023-06-02T11:05:31.624Z"
   },
   {
    "duration": 0,
    "start_time": "2023-06-02T11:05:31.626Z"
   },
   {
    "duration": 0,
    "start_time": "2023-06-02T11:05:31.627Z"
   },
   {
    "duration": 0,
    "start_time": "2023-06-02T11:05:31.629Z"
   },
   {
    "duration": 0,
    "start_time": "2023-06-02T11:05:31.630Z"
   },
   {
    "duration": 0,
    "start_time": "2023-06-02T11:05:31.632Z"
   },
   {
    "duration": 23,
    "start_time": "2023-06-02T11:06:20.826Z"
   },
   {
    "duration": 8,
    "start_time": "2023-06-02T11:06:22.860Z"
   },
   {
    "duration": 70,
    "start_time": "2023-06-02T11:06:23.021Z"
   },
   {
    "duration": 119,
    "start_time": "2023-06-02T11:06:23.470Z"
   },
   {
    "duration": 7,
    "start_time": "2023-06-02T11:06:27.569Z"
   },
   {
    "duration": 10,
    "start_time": "2023-06-02T11:06:28.392Z"
   },
   {
    "duration": 7,
    "start_time": "2023-06-02T11:06:29.625Z"
   },
   {
    "duration": 167,
    "start_time": "2023-06-02T11:06:34.926Z"
   },
   {
    "duration": 48,
    "start_time": "2023-06-02T11:06:57.476Z"
   },
   {
    "duration": 104,
    "start_time": "2023-06-02T11:06:58.172Z"
   },
   {
    "duration": 6,
    "start_time": "2023-06-02T11:07:06.362Z"
   },
   {
    "duration": 126,
    "start_time": "2023-06-02T11:07:07.663Z"
   },
   {
    "duration": 6,
    "start_time": "2023-06-02T11:07:43.994Z"
   },
   {
    "duration": 107,
    "start_time": "2023-06-02T11:07:44.847Z"
   },
   {
    "duration": 1436,
    "start_time": "2023-06-02T11:23:38.745Z"
   },
   {
    "duration": 84,
    "start_time": "2023-06-02T11:23:40.183Z"
   },
   {
    "duration": 14,
    "start_time": "2023-06-02T11:23:40.268Z"
   },
   {
    "duration": 23,
    "start_time": "2023-06-02T11:23:40.284Z"
   },
   {
    "duration": 18,
    "start_time": "2023-06-02T11:23:40.309Z"
   },
   {
    "duration": 7,
    "start_time": "2023-06-02T11:23:40.329Z"
   },
   {
    "duration": 51,
    "start_time": "2023-06-02T11:23:40.337Z"
   },
   {
    "duration": 8,
    "start_time": "2023-06-02T11:23:40.389Z"
   },
   {
    "duration": 63,
    "start_time": "2023-06-02T11:23:40.398Z"
   },
   {
    "duration": 9,
    "start_time": "2023-06-02T11:23:40.463Z"
   },
   {
    "duration": 10,
    "start_time": "2023-06-02T11:23:40.473Z"
   },
   {
    "duration": 8,
    "start_time": "2023-06-02T11:23:40.484Z"
   },
   {
    "duration": 124,
    "start_time": "2023-06-02T11:23:40.494Z"
   },
   {
    "duration": 244,
    "start_time": "2023-06-02T11:23:40.621Z"
   },
   {
    "duration": 18,
    "start_time": "2023-06-02T11:23:40.866Z"
   },
   {
    "duration": 12,
    "start_time": "2023-06-02T11:23:40.886Z"
   },
   {
    "duration": 9,
    "start_time": "2023-06-02T11:23:40.899Z"
   },
   {
    "duration": 3,
    "start_time": "2023-06-02T11:23:40.910Z"
   },
   {
    "duration": 5,
    "start_time": "2023-06-02T11:23:40.914Z"
   },
   {
    "duration": 68,
    "start_time": "2023-06-02T11:23:40.920Z"
   },
   {
    "duration": 5,
    "start_time": "2023-06-02T11:23:40.990Z"
   },
   {
    "duration": 18,
    "start_time": "2023-06-02T11:23:40.997Z"
   },
   {
    "duration": 229,
    "start_time": "2023-06-02T11:23:41.017Z"
   },
   {
    "duration": 245,
    "start_time": "2023-06-02T11:23:41.247Z"
   },
   {
    "duration": 10,
    "start_time": "2023-06-02T11:23:41.494Z"
   },
   {
    "duration": 21,
    "start_time": "2023-06-02T11:23:41.506Z"
   },
   {
    "duration": 17,
    "start_time": "2023-06-02T11:23:41.529Z"
   },
   {
    "duration": 41,
    "start_time": "2023-06-02T11:23:41.547Z"
   },
   {
    "duration": 16,
    "start_time": "2023-06-02T11:23:41.590Z"
   },
   {
    "duration": 270,
    "start_time": "2023-06-02T11:23:41.608Z"
   },
   {
    "duration": 223,
    "start_time": "2023-06-02T11:23:41.879Z"
   },
   {
    "duration": 18,
    "start_time": "2023-06-02T11:23:42.103Z"
   },
   {
    "duration": 155,
    "start_time": "2023-06-02T11:23:42.122Z"
   },
   {
    "duration": 7,
    "start_time": "2023-06-02T11:23:42.280Z"
   },
   {
    "duration": 5,
    "start_time": "2023-06-02T11:23:42.290Z"
   },
   {
    "duration": 463,
    "start_time": "2023-06-02T11:23:42.296Z"
   },
   {
    "duration": 18,
    "start_time": "2023-06-02T11:23:42.761Z"
   },
   {
    "duration": 43,
    "start_time": "2023-06-02T11:23:42.781Z"
   },
   {
    "duration": 10,
    "start_time": "2023-06-02T11:23:42.826Z"
   },
   {
    "duration": 96,
    "start_time": "2023-06-02T11:23:42.837Z"
   },
   {
    "duration": 120,
    "start_time": "2023-06-02T11:23:42.938Z"
   },
   {
    "duration": 1493,
    "start_time": "2023-06-02T11:23:55.637Z"
   },
   {
    "duration": 84,
    "start_time": "2023-06-02T11:23:57.132Z"
   },
   {
    "duration": 14,
    "start_time": "2023-06-02T11:23:57.217Z"
   },
   {
    "duration": 26,
    "start_time": "2023-06-02T11:23:57.233Z"
   },
   {
    "duration": 30,
    "start_time": "2023-06-02T11:23:57.261Z"
   },
   {
    "duration": 8,
    "start_time": "2023-06-02T11:23:57.292Z"
   },
   {
    "duration": 25,
    "start_time": "2023-06-02T11:23:57.301Z"
   },
   {
    "duration": 7,
    "start_time": "2023-06-02T11:23:57.328Z"
   },
   {
    "duration": 3,
    "start_time": "2023-06-02T11:23:57.337Z"
   },
   {
    "duration": 47,
    "start_time": "2023-06-02T11:23:57.343Z"
   },
   {
    "duration": 12,
    "start_time": "2023-06-02T11:23:57.393Z"
   },
   {
    "duration": 12,
    "start_time": "2023-06-02T11:23:57.407Z"
   },
   {
    "duration": 171,
    "start_time": "2023-06-02T11:23:57.421Z"
   },
   {
    "duration": 228,
    "start_time": "2023-06-02T11:23:57.596Z"
   },
   {
    "duration": 12,
    "start_time": "2023-06-02T11:23:57.825Z"
   },
   {
    "duration": 15,
    "start_time": "2023-06-02T11:23:57.839Z"
   },
   {
    "duration": 24,
    "start_time": "2023-06-02T11:23:57.855Z"
   },
   {
    "duration": 3,
    "start_time": "2023-06-02T11:23:57.881Z"
   },
   {
    "duration": 4,
    "start_time": "2023-06-02T11:23:57.885Z"
   },
   {
    "duration": 38,
    "start_time": "2023-06-02T11:23:57.891Z"
   },
   {
    "duration": 5,
    "start_time": "2023-06-02T11:23:57.930Z"
   },
   {
    "duration": 18,
    "start_time": "2023-06-02T11:23:57.937Z"
   },
   {
    "duration": 221,
    "start_time": "2023-06-02T11:23:57.978Z"
   },
   {
    "duration": 241,
    "start_time": "2023-06-02T11:23:58.201Z"
   },
   {
    "duration": 8,
    "start_time": "2023-06-02T11:23:58.444Z"
   },
   {
    "duration": 34,
    "start_time": "2023-06-02T11:23:58.454Z"
   },
   {
    "duration": 17,
    "start_time": "2023-06-02T11:23:58.490Z"
   },
   {
    "duration": 12,
    "start_time": "2023-06-02T11:23:58.508Z"
   },
   {
    "duration": 17,
    "start_time": "2023-06-02T11:23:58.521Z"
   },
   {
    "duration": 290,
    "start_time": "2023-06-02T11:23:58.540Z"
   },
   {
    "duration": 217,
    "start_time": "2023-06-02T11:23:58.832Z"
   },
   {
    "duration": 32,
    "start_time": "2023-06-02T11:23:59.051Z"
   },
   {
    "duration": 137,
    "start_time": "2023-06-02T11:23:59.084Z"
   },
   {
    "duration": 4,
    "start_time": "2023-06-02T11:23:59.223Z"
   },
   {
    "duration": 5,
    "start_time": "2023-06-02T11:23:59.228Z"
   },
   {
    "duration": 480,
    "start_time": "2023-06-02T11:23:59.234Z"
   },
   {
    "duration": 11,
    "start_time": "2023-06-02T11:23:59.716Z"
   },
   {
    "duration": 61,
    "start_time": "2023-06-02T11:23:59.729Z"
   },
   {
    "duration": 11,
    "start_time": "2023-06-02T11:23:59.791Z"
   },
   {
    "duration": 100,
    "start_time": "2023-06-02T11:23:59.804Z"
   },
   {
    "duration": 121,
    "start_time": "2023-06-02T11:23:59.908Z"
   },
   {
    "duration": 9617,
    "start_time": "2023-06-02T11:24:00.031Z"
   },
   {
    "duration": 31,
    "start_time": "2023-06-02T11:24:09.649Z"
   },
   {
    "duration": 7,
    "start_time": "2023-06-02T11:24:09.682Z"
   },
   {
    "duration": 34,
    "start_time": "2023-06-02T11:24:09.690Z"
   },
   {
    "duration": 470,
    "start_time": "2023-06-02T11:24:09.778Z"
   },
   {
    "duration": 509,
    "start_time": "2023-06-02T11:24:10.250Z"
   },
   {
    "duration": 178,
    "start_time": "2023-06-02T11:24:10.760Z"
   },
   {
    "duration": 0,
    "start_time": "2023-06-02T11:24:10.940Z"
   },
   {
    "duration": 0,
    "start_time": "2023-06-02T11:24:10.941Z"
   },
   {
    "duration": 0,
    "start_time": "2023-06-02T11:24:10.943Z"
   },
   {
    "duration": 0,
    "start_time": "2023-06-02T11:24:10.944Z"
   },
   {
    "duration": 0,
    "start_time": "2023-06-02T11:24:10.945Z"
   },
   {
    "duration": 0,
    "start_time": "2023-06-02T11:24:10.947Z"
   },
   {
    "duration": 0,
    "start_time": "2023-06-02T11:24:10.948Z"
   },
   {
    "duration": 1,
    "start_time": "2023-06-02T11:24:10.949Z"
   },
   {
    "duration": 0,
    "start_time": "2023-06-02T11:24:10.951Z"
   },
   {
    "duration": 0,
    "start_time": "2023-06-02T11:24:10.952Z"
   },
   {
    "duration": 0,
    "start_time": "2023-06-02T11:24:10.953Z"
   },
   {
    "duration": 0,
    "start_time": "2023-06-02T11:24:10.978Z"
   },
   {
    "duration": 0,
    "start_time": "2023-06-02T11:24:10.980Z"
   },
   {
    "duration": 0,
    "start_time": "2023-06-02T11:24:10.981Z"
   },
   {
    "duration": 0,
    "start_time": "2023-06-02T11:24:10.982Z"
   },
   {
    "duration": 0,
    "start_time": "2023-06-02T11:24:10.984Z"
   },
   {
    "duration": 0,
    "start_time": "2023-06-02T11:24:10.985Z"
   },
   {
    "duration": 20,
    "start_time": "2023-06-02T11:27:29.664Z"
   },
   {
    "duration": 519,
    "start_time": "2023-06-02T11:28:24.799Z"
   },
   {
    "duration": 489,
    "start_time": "2023-06-02T11:28:38.048Z"
   },
   {
    "duration": 563,
    "start_time": "2023-06-02T11:28:51.415Z"
   },
   {
    "duration": 748,
    "start_time": "2023-06-02T11:29:00.181Z"
   },
   {
    "duration": 22,
    "start_time": "2023-06-02T11:29:44.068Z"
   },
   {
    "duration": 13,
    "start_time": "2023-06-02T11:29:53.813Z"
   },
   {
    "duration": 81,
    "start_time": "2023-06-02T11:29:54.314Z"
   },
   {
    "duration": 120,
    "start_time": "2023-06-02T11:31:15.279Z"
   },
   {
    "duration": 1512,
    "start_time": "2023-06-02T11:31:32.294Z"
   },
   {
    "duration": 97,
    "start_time": "2023-06-02T11:31:33.809Z"
   },
   {
    "duration": 15,
    "start_time": "2023-06-02T11:31:33.908Z"
   },
   {
    "duration": 53,
    "start_time": "2023-06-02T11:31:33.925Z"
   },
   {
    "duration": 35,
    "start_time": "2023-06-02T11:31:33.980Z"
   },
   {
    "duration": 13,
    "start_time": "2023-06-02T11:31:34.018Z"
   },
   {
    "duration": 73,
    "start_time": "2023-06-02T11:31:34.034Z"
   },
   {
    "duration": 13,
    "start_time": "2023-06-02T11:31:34.109Z"
   },
   {
    "duration": 5,
    "start_time": "2023-06-02T11:31:34.124Z"
   },
   {
    "duration": 24,
    "start_time": "2023-06-02T11:31:34.132Z"
   },
   {
    "duration": 29,
    "start_time": "2023-06-02T11:31:34.157Z"
   },
   {
    "duration": 40,
    "start_time": "2023-06-02T11:31:34.187Z"
   },
   {
    "duration": 187,
    "start_time": "2023-06-02T11:31:34.229Z"
   },
   {
    "duration": 262,
    "start_time": "2023-06-02T11:31:34.418Z"
   },
   {
    "duration": 17,
    "start_time": "2023-06-02T11:31:34.681Z"
   },
   {
    "duration": 15,
    "start_time": "2023-06-02T11:31:34.700Z"
   },
   {
    "duration": 14,
    "start_time": "2023-06-02T11:31:34.717Z"
   },
   {
    "duration": 5,
    "start_time": "2023-06-02T11:31:34.734Z"
   },
   {
    "duration": 42,
    "start_time": "2023-06-02T11:31:34.740Z"
   },
   {
    "duration": 62,
    "start_time": "2023-06-02T11:31:34.785Z"
   },
   {
    "duration": 7,
    "start_time": "2023-06-02T11:31:34.849Z"
   },
   {
    "duration": 26,
    "start_time": "2023-06-02T11:31:34.858Z"
   },
   {
    "duration": 267,
    "start_time": "2023-06-02T11:31:34.886Z"
   },
   {
    "duration": 306,
    "start_time": "2023-06-02T11:31:35.156Z"
   },
   {
    "duration": 15,
    "start_time": "2023-06-02T11:31:35.464Z"
   },
   {
    "duration": 34,
    "start_time": "2023-06-02T11:31:35.481Z"
   },
   {
    "duration": 34,
    "start_time": "2023-06-02T11:31:35.518Z"
   },
   {
    "duration": 32,
    "start_time": "2023-06-02T11:31:35.557Z"
   },
   {
    "duration": 51,
    "start_time": "2023-06-02T11:31:35.591Z"
   },
   {
    "duration": 453,
    "start_time": "2023-06-02T11:31:35.644Z"
   },
   {
    "duration": 266,
    "start_time": "2023-06-02T11:31:36.099Z"
   },
   {
    "duration": 34,
    "start_time": "2023-06-02T11:31:36.367Z"
   },
   {
    "duration": 185,
    "start_time": "2023-06-02T11:31:36.403Z"
   },
   {
    "duration": 6,
    "start_time": "2023-06-02T11:31:36.590Z"
   },
   {
    "duration": 7,
    "start_time": "2023-06-02T11:31:36.598Z"
   },
   {
    "duration": 520,
    "start_time": "2023-06-02T11:31:36.607Z"
   },
   {
    "duration": 13,
    "start_time": "2023-06-02T11:31:37.129Z"
   },
   {
    "duration": 62,
    "start_time": "2023-06-02T11:31:37.143Z"
   },
   {
    "duration": 33,
    "start_time": "2023-06-02T11:31:37.207Z"
   },
   {
    "duration": 143,
    "start_time": "2023-06-02T11:31:37.242Z"
   },
   {
    "duration": 182,
    "start_time": "2023-06-02T11:31:37.388Z"
   },
   {
    "duration": 10895,
    "start_time": "2023-06-02T11:31:37.579Z"
   },
   {
    "duration": 19,
    "start_time": "2023-06-02T11:31:48.479Z"
   },
   {
    "duration": 8,
    "start_time": "2023-06-02T11:31:48.500Z"
   },
   {
    "duration": 106,
    "start_time": "2023-06-02T11:31:48.511Z"
   },
   {
    "duration": 623,
    "start_time": "2023-06-02T11:31:48.619Z"
   },
   {
    "duration": 549,
    "start_time": "2023-06-02T11:31:49.244Z"
   },
   {
    "duration": 184,
    "start_time": "2023-06-02T11:31:49.795Z"
   },
   {
    "duration": 0,
    "start_time": "2023-06-02T11:31:49.981Z"
   },
   {
    "duration": 0,
    "start_time": "2023-06-02T11:31:49.982Z"
   },
   {
    "duration": 0,
    "start_time": "2023-06-02T11:31:49.984Z"
   },
   {
    "duration": 0,
    "start_time": "2023-06-02T11:31:49.986Z"
   },
   {
    "duration": 0,
    "start_time": "2023-06-02T11:31:49.987Z"
   },
   {
    "duration": 0,
    "start_time": "2023-06-02T11:31:49.988Z"
   },
   {
    "duration": 0,
    "start_time": "2023-06-02T11:31:49.990Z"
   },
   {
    "duration": 0,
    "start_time": "2023-06-02T11:31:49.991Z"
   },
   {
    "duration": 0,
    "start_time": "2023-06-02T11:31:49.993Z"
   },
   {
    "duration": 0,
    "start_time": "2023-06-02T11:31:49.994Z"
   },
   {
    "duration": 0,
    "start_time": "2023-06-02T11:31:49.996Z"
   },
   {
    "duration": 0,
    "start_time": "2023-06-02T11:31:49.998Z"
   },
   {
    "duration": 0,
    "start_time": "2023-06-02T11:31:49.999Z"
   },
   {
    "duration": 0,
    "start_time": "2023-06-02T11:31:50.000Z"
   },
   {
    "duration": 0,
    "start_time": "2023-06-02T11:31:50.002Z"
   },
   {
    "duration": 0,
    "start_time": "2023-06-02T11:31:50.003Z"
   },
   {
    "duration": 0,
    "start_time": "2023-06-02T11:31:50.005Z"
   },
   {
    "duration": 20,
    "start_time": "2023-06-02T11:32:23.035Z"
   },
   {
    "duration": 9,
    "start_time": "2023-06-02T11:32:24.047Z"
   },
   {
    "duration": 61,
    "start_time": "2023-06-02T11:32:24.244Z"
   },
   {
    "duration": 119,
    "start_time": "2023-06-02T11:32:25.342Z"
   },
   {
    "duration": 6,
    "start_time": "2023-06-02T11:32:27.796Z"
   },
   {
    "duration": 8,
    "start_time": "2023-06-02T11:32:28.042Z"
   },
   {
    "duration": 6,
    "start_time": "2023-06-02T11:32:29.046Z"
   },
   {
    "duration": 108,
    "start_time": "2023-06-02T11:32:29.293Z"
   },
   {
    "duration": 36,
    "start_time": "2023-06-02T11:32:29.562Z"
   },
   {
    "duration": 40,
    "start_time": "2023-06-02T11:34:02.466Z"
   },
   {
    "duration": 174,
    "start_time": "2023-06-02T11:34:02.844Z"
   },
   {
    "duration": 8,
    "start_time": "2023-06-02T11:34:27.240Z"
   },
   {
    "duration": 132,
    "start_time": "2023-06-02T11:34:27.563Z"
   },
   {
    "duration": 7,
    "start_time": "2023-06-02T11:34:49.784Z"
   },
   {
    "duration": 139,
    "start_time": "2023-06-02T11:34:50.181Z"
   },
   {
    "duration": 11,
    "start_time": "2023-06-02T11:35:26.563Z"
   },
   {
    "duration": 658,
    "start_time": "2023-06-02T11:35:26.778Z"
   },
   {
    "duration": 419,
    "start_time": "2023-06-02T11:35:39.739Z"
   },
   {
    "duration": 26,
    "start_time": "2023-06-02T11:59:42.092Z"
   },
   {
    "duration": 28,
    "start_time": "2023-06-02T12:00:01.768Z"
   },
   {
    "duration": 14,
    "start_time": "2023-06-02T12:04:25.871Z"
   },
   {
    "duration": 20,
    "start_time": "2023-06-02T12:04:34.395Z"
   },
   {
    "duration": 24,
    "start_time": "2023-06-02T12:14:14.418Z"
   },
   {
    "duration": 25,
    "start_time": "2023-06-02T12:14:46.689Z"
   },
   {
    "duration": 24,
    "start_time": "2023-06-02T12:15:13.971Z"
   },
   {
    "duration": 29,
    "start_time": "2023-06-02T12:16:21.080Z"
   },
   {
    "duration": 31,
    "start_time": "2023-06-02T12:16:31.571Z"
   },
   {
    "duration": 20,
    "start_time": "2023-06-02T12:18:12.880Z"
   },
   {
    "duration": 21,
    "start_time": "2023-06-02T12:19:08.163Z"
   },
   {
    "duration": 17,
    "start_time": "2023-06-02T12:19:14.679Z"
   },
   {
    "duration": 18,
    "start_time": "2023-06-02T12:19:15.168Z"
   },
   {
    "duration": 20,
    "start_time": "2023-06-02T12:19:36.324Z"
   },
   {
    "duration": 29,
    "start_time": "2023-06-02T12:21:03.188Z"
   },
   {
    "duration": 26,
    "start_time": "2023-06-02T12:38:50.699Z"
   },
   {
    "duration": 39,
    "start_time": "2023-06-02T12:41:36.873Z"
   },
   {
    "duration": 29,
    "start_time": "2023-06-02T12:41:54.767Z"
   },
   {
    "duration": 30,
    "start_time": "2023-06-02T12:42:48.151Z"
   },
   {
    "duration": 22,
    "start_time": "2023-06-02T12:43:21.002Z"
   },
   {
    "duration": 23,
    "start_time": "2023-06-02T12:45:41.470Z"
   },
   {
    "duration": 30,
    "start_time": "2023-06-02T12:45:44.348Z"
   },
   {
    "duration": 4205,
    "start_time": "2023-06-03T03:51:21.822Z"
   },
   {
    "duration": 186,
    "start_time": "2023-06-03T03:51:26.029Z"
   },
   {
    "duration": 15,
    "start_time": "2023-06-03T03:51:26.216Z"
   },
   {
    "duration": 79,
    "start_time": "2023-06-03T03:51:26.233Z"
   },
   {
    "duration": 21,
    "start_time": "2023-06-03T03:51:26.314Z"
   },
   {
    "duration": 8,
    "start_time": "2023-06-03T03:51:26.336Z"
   },
   {
    "duration": 84,
    "start_time": "2023-06-03T03:51:26.348Z"
   },
   {
    "duration": 9,
    "start_time": "2023-06-03T03:51:26.433Z"
   },
   {
    "duration": 14,
    "start_time": "2023-06-03T03:51:26.444Z"
   },
   {
    "duration": 51,
    "start_time": "2023-06-03T03:51:26.468Z"
   },
   {
    "duration": 27,
    "start_time": "2023-06-03T03:51:26.520Z"
   },
   {
    "duration": 51,
    "start_time": "2023-06-03T03:51:26.555Z"
   },
   {
    "duration": 185,
    "start_time": "2023-06-03T03:51:26.608Z"
   },
   {
    "duration": 303,
    "start_time": "2023-06-03T03:51:26.795Z"
   },
   {
    "duration": 15,
    "start_time": "2023-06-03T03:51:27.100Z"
   },
   {
    "duration": 16,
    "start_time": "2023-06-03T03:51:27.116Z"
   },
   {
    "duration": 62,
    "start_time": "2023-06-03T03:51:27.133Z"
   },
   {
    "duration": 11,
    "start_time": "2023-06-03T03:51:27.197Z"
   },
   {
    "duration": 25,
    "start_time": "2023-06-03T03:51:27.210Z"
   },
   {
    "duration": 98,
    "start_time": "2023-06-03T03:51:27.237Z"
   },
   {
    "duration": 6,
    "start_time": "2023-06-03T03:51:27.337Z"
   },
   {
    "duration": 71,
    "start_time": "2023-06-03T03:51:27.345Z"
   },
   {
    "duration": 701,
    "start_time": "2023-06-03T03:51:27.418Z"
   },
   {
    "duration": 316,
    "start_time": "2023-06-03T03:51:28.121Z"
   },
   {
    "duration": 50,
    "start_time": "2023-06-03T03:51:28.439Z"
   },
   {
    "duration": 41,
    "start_time": "2023-06-03T03:51:28.492Z"
   },
   {
    "duration": 80,
    "start_time": "2023-06-03T03:51:28.535Z"
   },
   {
    "duration": 114,
    "start_time": "2023-06-03T03:51:28.621Z"
   },
   {
    "duration": 37,
    "start_time": "2023-06-03T03:51:28.738Z"
   },
   {
    "duration": 1515,
    "start_time": "2023-06-03T03:51:28.777Z"
   },
   {
    "duration": 312,
    "start_time": "2023-06-03T03:51:30.294Z"
   },
   {
    "duration": 28,
    "start_time": "2023-06-03T03:51:30.608Z"
   },
   {
    "duration": 105,
    "start_time": "2023-06-03T03:51:30.638Z"
   },
   {
    "duration": 185,
    "start_time": "2023-06-03T03:51:30.749Z"
   },
   {
    "duration": 5,
    "start_time": "2023-06-03T03:51:30.935Z"
   },
   {
    "duration": 71,
    "start_time": "2023-06-03T03:51:30.950Z"
   },
   {
    "duration": 751,
    "start_time": "2023-06-03T03:51:31.023Z"
   },
   {
    "duration": 20,
    "start_time": "2023-06-03T03:51:31.776Z"
   },
   {
    "duration": 95,
    "start_time": "2023-06-03T03:51:31.799Z"
   },
   {
    "duration": 66,
    "start_time": "2023-06-03T03:51:31.896Z"
   },
   {
    "duration": 238,
    "start_time": "2023-06-03T03:51:31.966Z"
   },
   {
    "duration": 173,
    "start_time": "2023-06-03T03:51:32.207Z"
   },
   {
    "duration": 12389,
    "start_time": "2023-06-03T03:51:32.389Z"
   },
   {
    "duration": 18,
    "start_time": "2023-06-03T03:51:44.780Z"
   },
   {
    "duration": 19,
    "start_time": "2023-06-03T03:51:44.800Z"
   },
   {
    "duration": 73,
    "start_time": "2023-06-03T03:51:44.821Z"
   },
   {
    "duration": 648,
    "start_time": "2023-06-03T03:51:44.896Z"
   },
   {
    "duration": 568,
    "start_time": "2023-06-03T03:51:45.546Z"
   },
   {
    "duration": 222,
    "start_time": "2023-06-03T03:51:46.116Z"
   },
   {
    "duration": 0,
    "start_time": "2023-06-03T03:51:46.340Z"
   },
   {
    "duration": 0,
    "start_time": "2023-06-03T03:51:46.341Z"
   },
   {
    "duration": 0,
    "start_time": "2023-06-03T03:51:46.342Z"
   },
   {
    "duration": 0,
    "start_time": "2023-06-03T03:51:46.347Z"
   },
   {
    "duration": 0,
    "start_time": "2023-06-03T03:51:46.348Z"
   },
   {
    "duration": 0,
    "start_time": "2023-06-03T03:51:46.348Z"
   },
   {
    "duration": 0,
    "start_time": "2023-06-03T03:51:46.349Z"
   },
   {
    "duration": 0,
    "start_time": "2023-06-03T03:51:46.350Z"
   },
   {
    "duration": 0,
    "start_time": "2023-06-03T03:51:46.354Z"
   },
   {
    "duration": 0,
    "start_time": "2023-06-03T03:51:46.359Z"
   },
   {
    "duration": 0,
    "start_time": "2023-06-03T03:51:46.359Z"
   },
   {
    "duration": 0,
    "start_time": "2023-06-03T03:51:46.360Z"
   },
   {
    "duration": 0,
    "start_time": "2023-06-03T03:51:46.360Z"
   },
   {
    "duration": 0,
    "start_time": "2023-06-03T03:51:46.361Z"
   },
   {
    "duration": 0,
    "start_time": "2023-06-03T03:51:46.362Z"
   },
   {
    "duration": 0,
    "start_time": "2023-06-03T03:51:46.362Z"
   },
   {
    "duration": 0,
    "start_time": "2023-06-03T03:51:46.363Z"
   },
   {
    "duration": 47,
    "start_time": "2023-06-03T03:53:30.769Z"
   },
   {
    "duration": 19,
    "start_time": "2023-06-03T03:53:48.188Z"
   },
   {
    "duration": 1827,
    "start_time": "2023-06-03T03:53:54.099Z"
   },
   {
    "duration": 125,
    "start_time": "2023-06-03T03:53:55.928Z"
   },
   {
    "duration": 35,
    "start_time": "2023-06-03T03:53:56.055Z"
   },
   {
    "duration": 56,
    "start_time": "2023-06-03T03:53:56.096Z"
   },
   {
    "duration": 50,
    "start_time": "2023-06-03T03:53:56.157Z"
   },
   {
    "duration": 8,
    "start_time": "2023-06-03T03:53:56.209Z"
   },
   {
    "duration": 47,
    "start_time": "2023-06-03T03:53:56.219Z"
   },
   {
    "duration": 34,
    "start_time": "2023-06-03T03:53:56.268Z"
   },
   {
    "duration": 35,
    "start_time": "2023-06-03T03:53:56.304Z"
   },
   {
    "duration": 19,
    "start_time": "2023-06-03T03:53:56.340Z"
   },
   {
    "duration": 40,
    "start_time": "2023-06-03T03:53:56.367Z"
   },
   {
    "duration": 15,
    "start_time": "2023-06-03T03:53:56.409Z"
   },
   {
    "duration": 13,
    "start_time": "2023-06-03T03:53:56.426Z"
   },
   {
    "duration": 40,
    "start_time": "2023-06-03T03:53:56.442Z"
   },
   {
    "duration": 172,
    "start_time": "2023-06-03T03:53:56.483Z"
   },
   {
    "duration": 296,
    "start_time": "2023-06-03T03:53:56.661Z"
   },
   {
    "duration": 18,
    "start_time": "2023-06-03T03:53:56.959Z"
   },
   {
    "duration": 36,
    "start_time": "2023-06-03T03:53:56.979Z"
   },
   {
    "duration": 10,
    "start_time": "2023-06-03T03:53:57.017Z"
   },
   {
    "duration": 28,
    "start_time": "2023-06-03T03:53:57.028Z"
   },
   {
    "duration": 54,
    "start_time": "2023-06-03T03:53:57.065Z"
   },
   {
    "duration": 92,
    "start_time": "2023-06-03T03:53:57.121Z"
   },
   {
    "duration": 13,
    "start_time": "2023-06-03T03:53:57.215Z"
   },
   {
    "duration": 68,
    "start_time": "2023-06-03T03:53:57.230Z"
   },
   {
    "duration": 323,
    "start_time": "2023-06-03T03:53:57.304Z"
   },
   {
    "duration": 354,
    "start_time": "2023-06-03T03:53:57.629Z"
   },
   {
    "duration": 17,
    "start_time": "2023-06-03T03:53:57.986Z"
   },
   {
    "duration": 31,
    "start_time": "2023-06-03T03:53:58.009Z"
   },
   {
    "duration": 28,
    "start_time": "2023-06-03T03:53:58.041Z"
   },
   {
    "duration": 67,
    "start_time": "2023-06-03T03:53:58.073Z"
   },
   {
    "duration": 54,
    "start_time": "2023-06-03T03:53:58.142Z"
   },
   {
    "duration": 380,
    "start_time": "2023-06-03T03:53:58.198Z"
   },
   {
    "duration": 276,
    "start_time": "2023-06-03T03:53:58.590Z"
   },
   {
    "duration": 29,
    "start_time": "2023-06-03T03:53:58.868Z"
   },
   {
    "duration": 45,
    "start_time": "2023-06-03T03:53:58.901Z"
   },
   {
    "duration": 171,
    "start_time": "2023-06-03T03:53:58.953Z"
   },
   {
    "duration": 7,
    "start_time": "2023-06-03T03:53:59.126Z"
   },
   {
    "duration": 30,
    "start_time": "2023-06-03T03:53:59.135Z"
   },
   {
    "duration": 645,
    "start_time": "2023-06-03T03:53:59.170Z"
   },
   {
    "duration": 15,
    "start_time": "2023-06-03T03:53:59.816Z"
   },
   {
    "duration": 63,
    "start_time": "2023-06-03T03:53:59.855Z"
   },
   {
    "duration": 13,
    "start_time": "2023-06-03T03:53:59.920Z"
   },
   {
    "duration": 170,
    "start_time": "2023-06-03T03:53:59.935Z"
   },
   {
    "duration": 175,
    "start_time": "2023-06-03T03:54:00.107Z"
   },
   {
    "duration": 12143,
    "start_time": "2023-06-03T03:54:00.286Z"
   },
   {
    "duration": 42,
    "start_time": "2023-06-03T03:54:12.432Z"
   },
   {
    "duration": 38,
    "start_time": "2023-06-03T03:54:12.479Z"
   },
   {
    "duration": 113,
    "start_time": "2023-06-03T03:54:12.557Z"
   },
   {
    "duration": 629,
    "start_time": "2023-06-03T03:54:12.672Z"
   },
   {
    "duration": 637,
    "start_time": "2023-06-03T03:54:13.303Z"
   },
   {
    "duration": 257,
    "start_time": "2023-06-03T03:54:13.942Z"
   },
   {
    "duration": 0,
    "start_time": "2023-06-03T03:54:14.203Z"
   },
   {
    "duration": 0,
    "start_time": "2023-06-03T03:54:14.205Z"
   },
   {
    "duration": 0,
    "start_time": "2023-06-03T03:54:14.206Z"
   },
   {
    "duration": 0,
    "start_time": "2023-06-03T03:54:14.207Z"
   },
   {
    "duration": 0,
    "start_time": "2023-06-03T03:54:14.208Z"
   },
   {
    "duration": 0,
    "start_time": "2023-06-03T03:54:14.210Z"
   },
   {
    "duration": 0,
    "start_time": "2023-06-03T03:54:14.211Z"
   },
   {
    "duration": 0,
    "start_time": "2023-06-03T03:54:14.212Z"
   },
   {
    "duration": 0,
    "start_time": "2023-06-03T03:54:14.213Z"
   },
   {
    "duration": 0,
    "start_time": "2023-06-03T03:54:14.214Z"
   },
   {
    "duration": 0,
    "start_time": "2023-06-03T03:54:14.215Z"
   },
   {
    "duration": 0,
    "start_time": "2023-06-03T03:54:14.217Z"
   },
   {
    "duration": 0,
    "start_time": "2023-06-03T03:54:14.218Z"
   },
   {
    "duration": 0,
    "start_time": "2023-06-03T03:54:14.219Z"
   },
   {
    "duration": 0,
    "start_time": "2023-06-03T03:54:14.220Z"
   },
   {
    "duration": 0,
    "start_time": "2023-06-03T03:54:14.221Z"
   },
   {
    "duration": 0,
    "start_time": "2023-06-03T03:54:14.222Z"
   },
   {
    "duration": 9,
    "start_time": "2023-06-03T03:54:45.598Z"
   },
   {
    "duration": 11,
    "start_time": "2023-06-03T03:54:47.595Z"
   },
   {
    "duration": 1884,
    "start_time": "2023-06-03T03:54:52.977Z"
   },
   {
    "duration": 143,
    "start_time": "2023-06-03T03:54:54.863Z"
   },
   {
    "duration": 16,
    "start_time": "2023-06-03T03:54:55.011Z"
   },
   {
    "duration": 64,
    "start_time": "2023-06-03T03:54:55.029Z"
   },
   {
    "duration": 77,
    "start_time": "2023-06-03T03:54:55.098Z"
   },
   {
    "duration": 33,
    "start_time": "2023-06-03T03:54:55.181Z"
   },
   {
    "duration": 85,
    "start_time": "2023-06-03T03:54:55.216Z"
   },
   {
    "duration": 9,
    "start_time": "2023-06-03T03:54:55.318Z"
   },
   {
    "duration": 11,
    "start_time": "2023-06-03T03:54:55.328Z"
   },
   {
    "duration": 66,
    "start_time": "2023-06-03T03:54:55.341Z"
   },
   {
    "duration": 20,
    "start_time": "2023-06-03T03:54:55.408Z"
   },
   {
    "duration": 36,
    "start_time": "2023-06-03T03:54:55.430Z"
   },
   {
    "duration": 59,
    "start_time": "2023-06-03T03:54:55.468Z"
   },
   {
    "duration": 24,
    "start_time": "2023-06-03T03:54:55.532Z"
   },
   {
    "duration": 260,
    "start_time": "2023-06-03T03:54:55.562Z"
   },
   {
    "duration": 363,
    "start_time": "2023-06-03T03:54:55.824Z"
   },
   {
    "duration": 21,
    "start_time": "2023-06-03T03:54:56.195Z"
   },
   {
    "duration": 42,
    "start_time": "2023-06-03T03:54:56.219Z"
   },
   {
    "duration": 73,
    "start_time": "2023-06-03T03:54:56.267Z"
   },
   {
    "duration": 36,
    "start_time": "2023-06-03T03:54:56.343Z"
   },
   {
    "duration": 37,
    "start_time": "2023-06-03T03:54:56.381Z"
   },
   {
    "duration": 98,
    "start_time": "2023-06-03T03:54:56.420Z"
   },
   {
    "duration": 7,
    "start_time": "2023-06-03T03:54:56.520Z"
   },
   {
    "duration": 80,
    "start_time": "2023-06-03T03:54:56.529Z"
   },
   {
    "duration": 412,
    "start_time": "2023-06-03T03:54:56.612Z"
   },
   {
    "duration": 404,
    "start_time": "2023-06-03T03:54:57.026Z"
   },
   {
    "duration": 21,
    "start_time": "2023-06-03T03:54:57.432Z"
   },
   {
    "duration": 136,
    "start_time": "2023-06-03T03:54:57.454Z"
   },
   {
    "duration": 41,
    "start_time": "2023-06-03T03:54:57.599Z"
   },
   {
    "duration": 25,
    "start_time": "2023-06-03T03:54:57.642Z"
   },
   {
    "duration": 105,
    "start_time": "2023-06-03T03:54:57.669Z"
   },
   {
    "duration": 486,
    "start_time": "2023-06-03T03:54:57.776Z"
   },
   {
    "duration": 398,
    "start_time": "2023-06-03T03:54:58.264Z"
   },
   {
    "duration": 42,
    "start_time": "2023-06-03T03:54:58.671Z"
   },
   {
    "duration": 52,
    "start_time": "2023-06-03T03:54:58.717Z"
   },
   {
    "duration": 228,
    "start_time": "2023-06-03T03:54:58.774Z"
   },
   {
    "duration": 7,
    "start_time": "2023-06-03T03:54:59.004Z"
   },
   {
    "duration": 27,
    "start_time": "2023-06-03T03:54:59.013Z"
   },
   {
    "duration": 699,
    "start_time": "2023-06-03T03:54:59.042Z"
   },
   {
    "duration": 20,
    "start_time": "2023-06-03T03:54:59.747Z"
   },
   {
    "duration": 108,
    "start_time": "2023-06-03T03:54:59.773Z"
   },
   {
    "duration": 29,
    "start_time": "2023-06-03T03:54:59.883Z"
   },
   {
    "duration": 265,
    "start_time": "2023-06-03T03:54:59.916Z"
   },
   {
    "duration": 179,
    "start_time": "2023-06-03T03:55:00.192Z"
   },
   {
    "duration": 13149,
    "start_time": "2023-06-03T03:55:00.373Z"
   },
   {
    "duration": 48,
    "start_time": "2023-06-03T03:55:13.523Z"
   },
   {
    "duration": 42,
    "start_time": "2023-06-03T03:55:13.582Z"
   },
   {
    "duration": 197,
    "start_time": "2023-06-03T03:55:13.626Z"
   },
   {
    "duration": 590,
    "start_time": "2023-06-03T03:55:13.852Z"
   },
   {
    "duration": 660,
    "start_time": "2023-06-03T03:55:14.444Z"
   },
   {
    "duration": 225,
    "start_time": "2023-06-03T03:55:15.106Z"
   },
   {
    "duration": 0,
    "start_time": "2023-06-03T03:55:15.333Z"
   },
   {
    "duration": 0,
    "start_time": "2023-06-03T03:55:15.334Z"
   },
   {
    "duration": 0,
    "start_time": "2023-06-03T03:55:15.336Z"
   },
   {
    "duration": 0,
    "start_time": "2023-06-03T03:55:15.352Z"
   },
   {
    "duration": 0,
    "start_time": "2023-06-03T03:55:15.353Z"
   },
   {
    "duration": 0,
    "start_time": "2023-06-03T03:55:15.354Z"
   },
   {
    "duration": 0,
    "start_time": "2023-06-03T03:55:15.355Z"
   },
   {
    "duration": 0,
    "start_time": "2023-06-03T03:55:15.355Z"
   },
   {
    "duration": 0,
    "start_time": "2023-06-03T03:55:15.356Z"
   },
   {
    "duration": 0,
    "start_time": "2023-06-03T03:55:15.357Z"
   },
   {
    "duration": 0,
    "start_time": "2023-06-03T03:55:15.358Z"
   },
   {
    "duration": 0,
    "start_time": "2023-06-03T03:55:15.363Z"
   },
   {
    "duration": 0,
    "start_time": "2023-06-03T03:55:15.364Z"
   },
   {
    "duration": 0,
    "start_time": "2023-06-03T03:55:15.365Z"
   },
   {
    "duration": 0,
    "start_time": "2023-06-03T03:55:15.368Z"
   },
   {
    "duration": 0,
    "start_time": "2023-06-03T03:55:15.370Z"
   },
   {
    "duration": 0,
    "start_time": "2023-06-03T03:55:15.371Z"
   },
   {
    "duration": 26,
    "start_time": "2023-06-03T03:58:14.597Z"
   },
   {
    "duration": 49,
    "start_time": "2023-06-03T03:58:24.663Z"
   },
   {
    "duration": 7499,
    "start_time": "2023-06-03T03:58:51.016Z"
   },
   {
    "duration": 124,
    "start_time": "2023-06-03T03:58:58.517Z"
   },
   {
    "duration": 55,
    "start_time": "2023-06-03T03:58:58.643Z"
   },
   {
    "duration": 42,
    "start_time": "2023-06-03T03:58:58.700Z"
   },
   {
    "duration": 73,
    "start_time": "2023-06-03T03:58:58.744Z"
   },
   {
    "duration": 8,
    "start_time": "2023-06-03T03:58:58.819Z"
   },
   {
    "duration": 68,
    "start_time": "2023-06-03T03:58:58.828Z"
   },
   {
    "duration": 10,
    "start_time": "2023-06-03T03:58:58.898Z"
   },
   {
    "duration": 11,
    "start_time": "2023-06-03T03:58:58.910Z"
   },
   {
    "duration": 11,
    "start_time": "2023-06-03T03:58:58.925Z"
   },
   {
    "duration": 5,
    "start_time": "2023-06-03T03:58:58.937Z"
   },
   {
    "duration": 65,
    "start_time": "2023-06-03T03:58:58.944Z"
   },
   {
    "duration": 19,
    "start_time": "2023-06-03T03:58:59.011Z"
   },
   {
    "duration": 20,
    "start_time": "2023-06-03T03:58:59.032Z"
   },
   {
    "duration": 287,
    "start_time": "2023-06-03T03:58:59.054Z"
   },
   {
    "duration": 319,
    "start_time": "2023-06-03T03:58:59.343Z"
   },
   {
    "duration": 18,
    "start_time": "2023-06-03T03:58:59.664Z"
   },
   {
    "duration": 39,
    "start_time": "2023-06-03T03:58:59.684Z"
   },
   {
    "duration": 16,
    "start_time": "2023-06-03T03:58:59.724Z"
   },
   {
    "duration": 27,
    "start_time": "2023-06-03T03:58:59.742Z"
   },
   {
    "duration": 25,
    "start_time": "2023-06-03T03:58:59.778Z"
   },
   {
    "duration": 74,
    "start_time": "2023-06-03T03:58:59.805Z"
   },
   {
    "duration": 7,
    "start_time": "2023-06-03T03:58:59.881Z"
   },
   {
    "duration": 53,
    "start_time": "2023-06-03T03:58:59.890Z"
   },
   {
    "duration": 1150,
    "start_time": "2023-06-03T03:58:59.944Z"
   },
   {
    "duration": 328,
    "start_time": "2023-06-03T03:59:01.101Z"
   },
   {
    "duration": 8,
    "start_time": "2023-06-03T03:59:01.431Z"
   },
   {
    "duration": 78,
    "start_time": "2023-06-03T03:59:01.443Z"
   },
   {
    "duration": 82,
    "start_time": "2023-06-03T03:59:01.523Z"
   },
   {
    "duration": 36,
    "start_time": "2023-06-03T03:59:01.607Z"
   },
   {
    "duration": 40,
    "start_time": "2023-06-03T03:59:01.645Z"
   },
   {
    "duration": 3556,
    "start_time": "2023-06-03T03:59:01.687Z"
   },
   {
    "duration": 310,
    "start_time": "2023-06-03T03:59:05.251Z"
   },
   {
    "duration": 140,
    "start_time": "2023-06-03T03:59:05.566Z"
   },
   {
    "duration": 19,
    "start_time": "2023-06-03T03:59:05.708Z"
   },
   {
    "duration": 34,
    "start_time": "2023-06-03T03:59:05.728Z"
   },
   {
    "duration": 80,
    "start_time": "2023-06-03T03:59:05.764Z"
   },
   {
    "duration": 29,
    "start_time": "2023-06-03T03:59:05.845Z"
   },
   {
    "duration": 45,
    "start_time": "2023-06-03T03:59:05.875Z"
   },
   {
    "duration": 673,
    "start_time": "2023-06-03T03:59:05.922Z"
   },
   {
    "duration": 11,
    "start_time": "2023-06-03T03:59:06.599Z"
   },
   {
    "duration": 80,
    "start_time": "2023-06-03T03:59:06.612Z"
   },
   {
    "duration": 66,
    "start_time": "2023-06-03T03:59:06.694Z"
   },
   {
    "duration": 271,
    "start_time": "2023-06-03T03:59:06.763Z"
   },
   {
    "duration": 190,
    "start_time": "2023-06-03T03:59:07.037Z"
   },
   {
    "duration": 6401,
    "start_time": "2023-06-03T03:59:24.898Z"
   },
   {
    "duration": 125,
    "start_time": "2023-06-03T03:59:31.302Z"
   },
   {
    "duration": 14,
    "start_time": "2023-06-03T03:59:31.429Z"
   },
   {
    "duration": 78,
    "start_time": "2023-06-03T03:59:31.445Z"
   },
   {
    "duration": 52,
    "start_time": "2023-06-03T03:59:31.525Z"
   },
   {
    "duration": 41,
    "start_time": "2023-06-03T03:59:31.579Z"
   },
   {
    "duration": 78,
    "start_time": "2023-06-03T03:59:31.622Z"
   },
   {
    "duration": 21,
    "start_time": "2023-06-03T03:59:31.701Z"
   },
   {
    "duration": 60,
    "start_time": "2023-06-03T03:59:31.724Z"
   },
   {
    "duration": 42,
    "start_time": "2023-06-03T03:59:31.786Z"
   },
   {
    "duration": 35,
    "start_time": "2023-06-03T03:59:31.830Z"
   },
   {
    "duration": 68,
    "start_time": "2023-06-03T03:59:31.867Z"
   },
   {
    "duration": 78,
    "start_time": "2023-06-03T03:59:31.937Z"
   },
   {
    "duration": 53,
    "start_time": "2023-06-03T03:59:32.018Z"
   },
   {
    "duration": 347,
    "start_time": "2023-06-03T03:59:32.079Z"
   },
   {
    "duration": 343,
    "start_time": "2023-06-03T03:59:32.429Z"
   },
   {
    "duration": 36,
    "start_time": "2023-06-03T03:59:32.774Z"
   },
   {
    "duration": 22,
    "start_time": "2023-06-03T03:59:32.812Z"
   },
   {
    "duration": 46,
    "start_time": "2023-06-03T03:59:32.835Z"
   },
   {
    "duration": 24,
    "start_time": "2023-06-03T03:59:32.891Z"
   },
   {
    "duration": 16,
    "start_time": "2023-06-03T03:59:32.917Z"
   },
   {
    "duration": 139,
    "start_time": "2023-06-03T03:59:32.936Z"
   },
   {
    "duration": 23,
    "start_time": "2023-06-03T03:59:33.077Z"
   },
   {
    "duration": 32,
    "start_time": "2023-06-03T03:59:33.104Z"
   },
   {
    "duration": 583,
    "start_time": "2023-06-03T03:59:33.138Z"
   },
   {
    "duration": 300,
    "start_time": "2023-06-03T03:59:33.723Z"
   },
   {
    "duration": 7,
    "start_time": "2023-06-03T03:59:34.025Z"
   },
   {
    "duration": 79,
    "start_time": "2023-06-03T03:59:34.034Z"
   },
   {
    "duration": 100,
    "start_time": "2023-06-03T03:59:34.115Z"
   },
   {
    "duration": 11,
    "start_time": "2023-06-03T03:59:34.217Z"
   },
   {
    "duration": 23,
    "start_time": "2023-06-03T03:59:34.230Z"
   },
   {
    "duration": 2866,
    "start_time": "2023-06-03T03:59:34.262Z"
   },
   {
    "duration": 3,
    "start_time": "2023-06-03T03:59:37.130Z"
   },
   {
    "duration": 101,
    "start_time": "2023-06-03T03:59:37.135Z"
   },
   {
    "duration": 30,
    "start_time": "2023-06-03T03:59:37.237Z"
   },
   {
    "duration": 51,
    "start_time": "2023-06-03T03:59:37.271Z"
   },
   {
    "duration": 93,
    "start_time": "2023-06-03T03:59:37.324Z"
   },
   {
    "duration": 5,
    "start_time": "2023-06-03T03:59:37.418Z"
   },
   {
    "duration": 13,
    "start_time": "2023-06-03T03:59:37.424Z"
   },
   {
    "duration": 735,
    "start_time": "2023-06-03T03:59:37.438Z"
   },
   {
    "duration": 16,
    "start_time": "2023-06-03T03:59:38.178Z"
   },
   {
    "duration": 86,
    "start_time": "2023-06-03T03:59:38.196Z"
   },
   {
    "duration": 30,
    "start_time": "2023-06-03T03:59:38.284Z"
   },
   {
    "duration": 187,
    "start_time": "2023-06-03T03:59:38.316Z"
   },
   {
    "duration": 137,
    "start_time": "2023-06-03T03:59:38.505Z"
   },
   {
    "duration": 13251,
    "start_time": "2023-06-03T03:59:38.644Z"
   },
   {
    "duration": 15,
    "start_time": "2023-06-03T03:59:51.903Z"
   },
   {
    "duration": 52,
    "start_time": "2023-06-03T03:59:51.920Z"
   },
   {
    "duration": 133,
    "start_time": "2023-06-03T03:59:51.975Z"
   },
   {
    "duration": 590,
    "start_time": "2023-06-03T03:59:52.111Z"
   },
   {
    "duration": 831,
    "start_time": "2023-06-03T03:59:52.703Z"
   },
   {
    "duration": 255,
    "start_time": "2023-06-03T03:59:53.536Z"
   },
   {
    "duration": 0,
    "start_time": "2023-06-03T03:59:53.793Z"
   },
   {
    "duration": 0,
    "start_time": "2023-06-03T03:59:53.794Z"
   },
   {
    "duration": 0,
    "start_time": "2023-06-03T03:59:53.795Z"
   },
   {
    "duration": 0,
    "start_time": "2023-06-03T03:59:53.796Z"
   },
   {
    "duration": 0,
    "start_time": "2023-06-03T03:59:53.797Z"
   },
   {
    "duration": 0,
    "start_time": "2023-06-03T03:59:53.800Z"
   },
   {
    "duration": 0,
    "start_time": "2023-06-03T03:59:53.801Z"
   },
   {
    "duration": 0,
    "start_time": "2023-06-03T03:59:53.802Z"
   },
   {
    "duration": 0,
    "start_time": "2023-06-03T03:59:53.803Z"
   },
   {
    "duration": 0,
    "start_time": "2023-06-03T03:59:53.804Z"
   },
   {
    "duration": 0,
    "start_time": "2023-06-03T03:59:53.805Z"
   },
   {
    "duration": 0,
    "start_time": "2023-06-03T03:59:53.806Z"
   },
   {
    "duration": 0,
    "start_time": "2023-06-03T03:59:53.807Z"
   },
   {
    "duration": 0,
    "start_time": "2023-06-03T03:59:53.808Z"
   },
   {
    "duration": 0,
    "start_time": "2023-06-03T03:59:53.809Z"
   },
   {
    "duration": 0,
    "start_time": "2023-06-03T03:59:53.810Z"
   },
   {
    "duration": 0,
    "start_time": "2023-06-03T03:59:53.812Z"
   },
   {
    "duration": 31,
    "start_time": "2023-06-03T04:00:31.749Z"
   },
   {
    "duration": 21,
    "start_time": "2023-06-03T04:01:03.592Z"
   },
   {
    "duration": 23,
    "start_time": "2023-06-03T04:01:16.789Z"
   },
   {
    "duration": 27,
    "start_time": "2023-06-03T04:07:32.227Z"
   },
   {
    "duration": 44,
    "start_time": "2023-06-03T09:27:49.079Z"
   },
   {
    "duration": 1456,
    "start_time": "2023-06-03T09:28:03.716Z"
   },
   {
    "duration": 260,
    "start_time": "2023-06-03T09:28:05.174Z"
   },
   {
    "duration": 13,
    "start_time": "2023-06-03T09:28:05.436Z"
   },
   {
    "duration": 27,
    "start_time": "2023-06-03T09:28:05.451Z"
   },
   {
    "duration": 17,
    "start_time": "2023-06-03T09:28:05.480Z"
   },
   {
    "duration": 9,
    "start_time": "2023-06-03T09:28:05.525Z"
   },
   {
    "duration": 27,
    "start_time": "2023-06-03T09:28:05.535Z"
   },
   {
    "duration": 8,
    "start_time": "2023-06-03T09:28:05.563Z"
   },
   {
    "duration": 12,
    "start_time": "2023-06-03T09:28:05.572Z"
   },
   {
    "duration": 45,
    "start_time": "2023-06-03T09:28:05.586Z"
   },
   {
    "duration": 3,
    "start_time": "2023-06-03T09:28:05.633Z"
   },
   {
    "duration": 13,
    "start_time": "2023-06-03T09:28:05.637Z"
   },
   {
    "duration": 10,
    "start_time": "2023-06-03T09:28:05.651Z"
   },
   {
    "duration": 16,
    "start_time": "2023-06-03T09:28:05.662Z"
   },
   {
    "duration": 123,
    "start_time": "2023-06-03T09:28:05.679Z"
   },
   {
    "duration": 275,
    "start_time": "2023-06-03T09:28:05.804Z"
   },
   {
    "duration": 14,
    "start_time": "2023-06-03T09:28:06.080Z"
   },
   {
    "duration": 29,
    "start_time": "2023-06-03T09:28:06.096Z"
   },
   {
    "duration": 8,
    "start_time": "2023-06-03T09:28:06.127Z"
   },
   {
    "duration": 10,
    "start_time": "2023-06-03T09:28:06.136Z"
   },
   {
    "duration": 5,
    "start_time": "2023-06-03T09:28:06.147Z"
   },
   {
    "duration": 49,
    "start_time": "2023-06-03T09:28:06.153Z"
   },
   {
    "duration": 5,
    "start_time": "2023-06-03T09:28:06.204Z"
   },
   {
    "duration": 32,
    "start_time": "2023-06-03T09:28:06.225Z"
   },
   {
    "duration": 222,
    "start_time": "2023-06-03T09:28:06.258Z"
   },
   {
    "duration": 253,
    "start_time": "2023-06-03T09:28:06.482Z"
   },
   {
    "duration": 7,
    "start_time": "2023-06-03T09:28:06.737Z"
   },
   {
    "duration": 25,
    "start_time": "2023-06-03T09:28:06.748Z"
   },
   {
    "duration": 16,
    "start_time": "2023-06-03T09:28:06.774Z"
   },
   {
    "duration": 33,
    "start_time": "2023-06-03T09:28:06.792Z"
   },
   {
    "duration": 21,
    "start_time": "2023-06-03T09:28:06.827Z"
   },
   {
    "duration": 295,
    "start_time": "2023-06-03T09:28:06.849Z"
   },
   {
    "duration": 3,
    "start_time": "2023-06-03T09:28:07.145Z"
   },
   {
    "duration": 43,
    "start_time": "2023-06-03T09:28:07.149Z"
   },
   {
    "duration": 187,
    "start_time": "2023-06-03T09:28:07.193Z"
   },
   {
    "duration": 0,
    "start_time": "2023-06-03T09:28:07.381Z"
   },
   {
    "duration": 0,
    "start_time": "2023-06-03T09:28:07.383Z"
   },
   {
    "duration": 1,
    "start_time": "2023-06-03T09:28:07.384Z"
   },
   {
    "duration": 0,
    "start_time": "2023-06-03T09:28:07.386Z"
   },
   {
    "duration": 0,
    "start_time": "2023-06-03T09:28:07.386Z"
   },
   {
    "duration": 0,
    "start_time": "2023-06-03T09:28:07.387Z"
   },
   {
    "duration": 0,
    "start_time": "2023-06-03T09:28:07.389Z"
   },
   {
    "duration": 0,
    "start_time": "2023-06-03T09:28:07.390Z"
   },
   {
    "duration": 0,
    "start_time": "2023-06-03T09:28:07.391Z"
   },
   {
    "duration": 0,
    "start_time": "2023-06-03T09:28:07.392Z"
   },
   {
    "duration": 0,
    "start_time": "2023-06-03T09:28:07.393Z"
   },
   {
    "duration": 0,
    "start_time": "2023-06-03T09:28:07.394Z"
   },
   {
    "duration": 0,
    "start_time": "2023-06-03T09:28:07.395Z"
   },
   {
    "duration": 0,
    "start_time": "2023-06-03T09:28:07.396Z"
   },
   {
    "duration": 0,
    "start_time": "2023-06-03T09:28:07.397Z"
   },
   {
    "duration": 0,
    "start_time": "2023-06-03T09:28:07.425Z"
   },
   {
    "duration": 0,
    "start_time": "2023-06-03T09:28:07.426Z"
   },
   {
    "duration": 0,
    "start_time": "2023-06-03T09:28:07.427Z"
   },
   {
    "duration": 0,
    "start_time": "2023-06-03T09:28:07.428Z"
   },
   {
    "duration": 0,
    "start_time": "2023-06-03T09:28:07.429Z"
   },
   {
    "duration": 0,
    "start_time": "2023-06-03T09:28:07.430Z"
   },
   {
    "duration": 0,
    "start_time": "2023-06-03T09:28:07.432Z"
   },
   {
    "duration": 0,
    "start_time": "2023-06-03T09:28:07.433Z"
   },
   {
    "duration": 0,
    "start_time": "2023-06-03T09:28:07.434Z"
   },
   {
    "duration": 0,
    "start_time": "2023-06-03T09:28:07.436Z"
   },
   {
    "duration": 0,
    "start_time": "2023-06-03T09:28:07.437Z"
   },
   {
    "duration": 0,
    "start_time": "2023-06-03T09:28:07.438Z"
   },
   {
    "duration": 0,
    "start_time": "2023-06-03T09:28:07.439Z"
   },
   {
    "duration": 0,
    "start_time": "2023-06-03T09:28:07.440Z"
   },
   {
    "duration": 0,
    "start_time": "2023-06-03T09:28:07.442Z"
   },
   {
    "duration": 0,
    "start_time": "2023-06-03T09:28:07.443Z"
   },
   {
    "duration": 0,
    "start_time": "2023-06-03T09:28:07.444Z"
   },
   {
    "duration": 0,
    "start_time": "2023-06-03T09:28:07.446Z"
   },
   {
    "duration": 0,
    "start_time": "2023-06-03T09:28:07.447Z"
   },
   {
    "duration": 0,
    "start_time": "2023-06-03T09:28:07.448Z"
   },
   {
    "duration": 0,
    "start_time": "2023-06-03T09:28:07.450Z"
   },
   {
    "duration": 0,
    "start_time": "2023-06-03T09:28:07.451Z"
   },
   {
    "duration": 234,
    "start_time": "2023-06-03T09:29:34.912Z"
   },
   {
    "duration": 336,
    "start_time": "2023-06-03T09:34:06.533Z"
   },
   {
    "duration": 246,
    "start_time": "2023-06-03T09:34:20.499Z"
   },
   {
    "duration": 14,
    "start_time": "2023-06-03T09:36:13.244Z"
   },
   {
    "duration": 24,
    "start_time": "2023-06-03T09:36:13.827Z"
   },
   {
    "duration": 44,
    "start_time": "2023-06-03T09:36:15.343Z"
   },
   {
    "duration": 15,
    "start_time": "2023-06-03T09:36:22.915Z"
   },
   {
    "duration": 16,
    "start_time": "2023-06-03T09:36:56.027Z"
   },
   {
    "duration": 4,
    "start_time": "2023-06-03T09:39:14.477Z"
   },
   {
    "duration": 4,
    "start_time": "2023-06-03T09:39:14.999Z"
   },
   {
    "duration": 482,
    "start_time": "2023-06-03T09:39:15.517Z"
   },
   {
    "duration": 259,
    "start_time": "2023-06-03T09:40:52.445Z"
   },
   {
    "duration": 265,
    "start_time": "2023-06-03T09:41:05.896Z"
   },
   {
    "duration": 237,
    "start_time": "2023-06-03T09:42:22.212Z"
   },
   {
    "duration": 232,
    "start_time": "2023-06-03T09:42:51.277Z"
   },
   {
    "duration": 437,
    "start_time": "2023-06-03T09:48:13.096Z"
   },
   {
    "duration": 17,
    "start_time": "2023-06-03T09:49:50.118Z"
   },
   {
    "duration": 766,
    "start_time": "2023-06-03T09:50:09.597Z"
   },
   {
    "duration": 476,
    "start_time": "2023-06-03T09:51:20.114Z"
   },
   {
    "duration": 177,
    "start_time": "2023-06-03T09:52:34.233Z"
   },
   {
    "duration": 176,
    "start_time": "2023-06-03T09:53:07.599Z"
   },
   {
    "duration": 301,
    "start_time": "2023-06-03T09:53:27.374Z"
   },
   {
    "duration": 484,
    "start_time": "2023-06-03T09:54:31.148Z"
   },
   {
    "duration": 730,
    "start_time": "2023-06-03T09:55:07.030Z"
   },
   {
    "duration": 739,
    "start_time": "2023-06-03T09:56:52.281Z"
   },
   {
    "duration": 596,
    "start_time": "2023-06-03T09:57:18.997Z"
   },
   {
    "duration": 601,
    "start_time": "2023-06-03T10:00:51.665Z"
   },
   {
    "duration": 426,
    "start_time": "2023-06-03T10:03:13.783Z"
   },
   {
    "duration": 468,
    "start_time": "2023-06-03T10:03:34.880Z"
   },
   {
    "duration": 11,
    "start_time": "2023-06-03T10:04:41.765Z"
   },
   {
    "duration": 50,
    "start_time": "2023-06-03T10:04:45.878Z"
   },
   {
    "duration": 15,
    "start_time": "2023-06-03T10:04:49.697Z"
   },
   {
    "duration": 188,
    "start_time": "2023-06-03T10:04:51.016Z"
   },
   {
    "duration": 94,
    "start_time": "2023-06-03T10:04:51.951Z"
   },
   {
    "duration": 10000,
    "start_time": "2023-06-03T10:04:56.496Z"
   },
   {
    "duration": 34,
    "start_time": "2023-06-03T10:05:06.499Z"
   },
   {
    "duration": 15,
    "start_time": "2023-06-03T10:05:06.535Z"
   },
   {
    "duration": 90,
    "start_time": "2023-06-03T10:05:06.552Z"
   },
   {
    "duration": 572,
    "start_time": "2023-06-03T10:05:06.644Z"
   },
   {
    "duration": 549,
    "start_time": "2023-06-03T10:20:29.693Z"
   },
   {
    "duration": 16,
    "start_time": "2023-06-03T10:20:30.244Z"
   },
   {
    "duration": 21,
    "start_time": "2023-06-03T10:22:59.542Z"
   },
   {
    "duration": 713,
    "start_time": "2023-06-03T12:10:32.510Z"
   },
   {
    "duration": 506,
    "start_time": "2023-06-03T12:10:33.446Z"
   },
   {
    "duration": 1583,
    "start_time": "2023-06-03T12:10:44.217Z"
   },
   {
    "duration": 317,
    "start_time": "2023-06-03T12:10:45.802Z"
   },
   {
    "duration": 17,
    "start_time": "2023-06-03T12:10:46.120Z"
   },
   {
    "duration": 39,
    "start_time": "2023-06-03T12:10:46.139Z"
   },
   {
    "duration": 36,
    "start_time": "2023-06-03T12:10:46.180Z"
   },
   {
    "duration": 7,
    "start_time": "2023-06-03T12:10:46.217Z"
   },
   {
    "duration": 33,
    "start_time": "2023-06-03T12:10:46.228Z"
   },
   {
    "duration": 7,
    "start_time": "2023-06-03T12:10:46.262Z"
   },
   {
    "duration": 7,
    "start_time": "2023-06-03T12:10:46.271Z"
   },
   {
    "duration": 7,
    "start_time": "2023-06-03T12:10:46.279Z"
   },
   {
    "duration": 2,
    "start_time": "2023-06-03T12:10:46.288Z"
   },
   {
    "duration": 37,
    "start_time": "2023-06-03T12:10:46.292Z"
   },
   {
    "duration": 15,
    "start_time": "2023-06-03T12:10:46.331Z"
   },
   {
    "duration": 9,
    "start_time": "2023-06-03T12:10:46.355Z"
   },
   {
    "duration": 141,
    "start_time": "2023-06-03T12:10:46.366Z"
   },
   {
    "duration": 254,
    "start_time": "2023-06-03T12:10:46.508Z"
   },
   {
    "duration": 14,
    "start_time": "2023-06-03T12:10:46.763Z"
   },
   {
    "duration": 14,
    "start_time": "2023-06-03T12:10:46.778Z"
   },
   {
    "duration": 8,
    "start_time": "2023-06-03T12:10:46.793Z"
   },
   {
    "duration": 25,
    "start_time": "2023-06-03T12:10:46.802Z"
   },
   {
    "duration": 6,
    "start_time": "2023-06-03T12:10:46.829Z"
   },
   {
    "duration": 44,
    "start_time": "2023-06-03T12:10:46.853Z"
   },
   {
    "duration": 5,
    "start_time": "2023-06-03T12:10:46.899Z"
   },
   {
    "duration": 31,
    "start_time": "2023-06-03T12:10:46.905Z"
   },
   {
    "duration": 229,
    "start_time": "2023-06-03T12:10:46.945Z"
   },
   {
    "duration": 337,
    "start_time": "2023-06-03T12:10:47.175Z"
   },
   {
    "duration": 15,
    "start_time": "2023-06-03T12:10:47.527Z"
   },
   {
    "duration": 25,
    "start_time": "2023-06-03T12:10:47.544Z"
   },
   {
    "duration": 18,
    "start_time": "2023-06-03T12:10:47.570Z"
   },
   {
    "duration": 28,
    "start_time": "2023-06-03T12:10:47.589Z"
   },
   {
    "duration": 22,
    "start_time": "2023-06-03T12:10:47.624Z"
   },
   {
    "duration": 313,
    "start_time": "2023-06-03T12:10:47.657Z"
   },
   {
    "duration": 3,
    "start_time": "2023-06-03T12:10:47.972Z"
   },
   {
    "duration": 74,
    "start_time": "2023-06-03T12:10:47.976Z"
   },
   {
    "duration": 238,
    "start_time": "2023-06-03T12:10:48.052Z"
   },
   {
    "duration": 17,
    "start_time": "2023-06-03T12:10:48.291Z"
   },
   {
    "duration": 26,
    "start_time": "2023-06-03T12:10:48.329Z"
   },
   {
    "duration": 140,
    "start_time": "2023-06-03T12:10:48.357Z"
   },
   {
    "duration": 40,
    "start_time": "2023-06-03T12:10:48.499Z"
   },
   {
    "duration": 512,
    "start_time": "2023-06-03T12:10:48.541Z"
   },
   {
    "duration": 525,
    "start_time": "2023-06-03T12:10:49.057Z"
   },
   {
    "duration": 21,
    "start_time": "2023-06-03T12:10:49.584Z"
   },
   {
    "duration": 192,
    "start_time": "2023-06-03T12:10:49.627Z"
   },
   {
    "duration": 17,
    "start_time": "2023-06-03T12:10:49.824Z"
   },
   {
    "duration": 5,
    "start_time": "2023-06-03T12:10:49.843Z"
   },
   {
    "duration": 508,
    "start_time": "2023-06-03T12:10:49.850Z"
   },
   {
    "duration": 10,
    "start_time": "2023-06-03T12:10:50.360Z"
   },
   {
    "duration": 60,
    "start_time": "2023-06-03T12:10:50.372Z"
   },
   {
    "duration": 24,
    "start_time": "2023-06-03T12:10:50.434Z"
   },
   {
    "duration": 216,
    "start_time": "2023-06-03T12:10:50.460Z"
   },
   {
    "duration": 281,
    "start_time": "2023-06-03T12:10:50.679Z"
   },
   {
    "duration": 10194,
    "start_time": "2023-06-03T12:10:50.962Z"
   },
   {
    "duration": 14,
    "start_time": "2023-06-03T12:11:01.158Z"
   },
   {
    "duration": 79,
    "start_time": "2023-06-03T12:11:01.174Z"
   },
   {
    "duration": 83,
    "start_time": "2023-06-03T12:11:01.255Z"
   },
   {
    "duration": 126,
    "start_time": "2023-06-03T12:11:01.340Z"
   },
   {
    "duration": 612,
    "start_time": "2023-06-03T12:11:01.468Z"
   },
   {
    "duration": 767,
    "start_time": "2023-06-03T12:11:02.082Z"
   },
   {
    "duration": 217,
    "start_time": "2023-06-03T12:11:02.853Z"
   },
   {
    "duration": 0,
    "start_time": "2023-06-03T12:11:03.072Z"
   },
   {
    "duration": 0,
    "start_time": "2023-06-03T12:11:03.074Z"
   },
   {
    "duration": 0,
    "start_time": "2023-06-03T12:11:03.075Z"
   },
   {
    "duration": 0,
    "start_time": "2023-06-03T12:11:03.077Z"
   },
   {
    "duration": 0,
    "start_time": "2023-06-03T12:11:03.078Z"
   },
   {
    "duration": 0,
    "start_time": "2023-06-03T12:11:03.080Z"
   },
   {
    "duration": 0,
    "start_time": "2023-06-03T12:11:03.081Z"
   },
   {
    "duration": 0,
    "start_time": "2023-06-03T12:11:03.083Z"
   },
   {
    "duration": 0,
    "start_time": "2023-06-03T12:11:03.084Z"
   },
   {
    "duration": 0,
    "start_time": "2023-06-03T12:11:03.085Z"
   },
   {
    "duration": 0,
    "start_time": "2023-06-03T12:11:03.087Z"
   },
   {
    "duration": 0,
    "start_time": "2023-06-03T12:11:03.088Z"
   },
   {
    "duration": 0,
    "start_time": "2023-06-03T12:11:03.090Z"
   },
   {
    "duration": 0,
    "start_time": "2023-06-03T12:11:03.091Z"
   },
   {
    "duration": 0,
    "start_time": "2023-06-03T12:11:03.092Z"
   },
   {
    "duration": 0,
    "start_time": "2023-06-03T12:11:03.125Z"
   },
   {
    "duration": 0,
    "start_time": "2023-06-03T12:11:03.126Z"
   },
   {
    "duration": 22,
    "start_time": "2023-06-03T12:12:19.724Z"
   },
   {
    "duration": 17,
    "start_time": "2023-06-03T12:12:38.713Z"
   },
   {
    "duration": 39,
    "start_time": "2023-06-03T12:13:07.605Z"
   },
   {
    "duration": 587,
    "start_time": "2023-06-03T12:14:06.855Z"
   },
   {
    "duration": 19,
    "start_time": "2023-06-03T12:14:48.149Z"
   },
   {
    "duration": 22,
    "start_time": "2023-06-03T12:14:57.249Z"
   },
   {
    "duration": 373,
    "start_time": "2023-06-03T12:15:19.270Z"
   },
   {
    "duration": 348,
    "start_time": "2023-06-03T12:15:50.016Z"
   },
   {
    "duration": 346,
    "start_time": "2023-06-03T12:16:38.114Z"
   },
   {
    "duration": 334,
    "start_time": "2023-06-03T12:17:13.949Z"
   },
   {
    "duration": 366,
    "start_time": "2023-06-03T12:19:51.760Z"
   },
   {
    "duration": 322,
    "start_time": "2023-06-03T12:20:00.382Z"
   },
   {
    "duration": 18,
    "start_time": "2023-06-03T12:21:17.600Z"
   },
   {
    "duration": 18,
    "start_time": "2023-06-03T12:21:37.101Z"
   },
   {
    "duration": 18,
    "start_time": "2023-06-03T12:22:53.653Z"
   },
   {
    "duration": 20,
    "start_time": "2023-06-03T12:23:03.850Z"
   },
   {
    "duration": 336,
    "start_time": "2023-06-03T12:23:04.966Z"
   },
   {
    "duration": 22,
    "start_time": "2023-06-03T12:24:26.763Z"
   },
   {
    "duration": 39,
    "start_time": "2023-06-03T12:25:40.845Z"
   },
   {
    "duration": 32,
    "start_time": "2023-06-03T12:26:06.052Z"
   },
   {
    "duration": 26,
    "start_time": "2023-06-03T12:26:21.482Z"
   },
   {
    "duration": 36,
    "start_time": "2023-06-03T12:26:38.001Z"
   },
   {
    "duration": 18,
    "start_time": "2023-06-03T12:29:55.062Z"
   },
   {
    "duration": 22,
    "start_time": "2023-06-03T12:30:18.481Z"
   },
   {
    "duration": 21,
    "start_time": "2023-06-03T12:30:26.952Z"
   },
   {
    "duration": 25,
    "start_time": "2023-06-03T12:30:54.262Z"
   },
   {
    "duration": 33,
    "start_time": "2023-06-03T12:31:09.751Z"
   },
   {
    "duration": 26,
    "start_time": "2023-06-03T12:31:24.464Z"
   },
   {
    "duration": 12,
    "start_time": "2023-06-03T12:34:36.292Z"
   },
   {
    "duration": 18,
    "start_time": "2023-06-03T12:34:39.917Z"
   },
   {
    "duration": 7,
    "start_time": "2023-06-03T12:34:40.236Z"
   },
   {
    "duration": 19,
    "start_time": "2023-06-03T12:35:33.859Z"
   },
   {
    "duration": 627,
    "start_time": "2023-06-03T12:36:06.521Z"
   },
   {
    "duration": 1580,
    "start_time": "2023-06-03T13:09:52.446Z"
   },
   {
    "duration": 90,
    "start_time": "2023-06-03T13:09:54.027Z"
   },
   {
    "duration": 13,
    "start_time": "2023-06-03T13:09:54.119Z"
   },
   {
    "duration": 26,
    "start_time": "2023-06-03T13:09:54.134Z"
   },
   {
    "duration": 32,
    "start_time": "2023-06-03T13:09:54.162Z"
   },
   {
    "duration": 8,
    "start_time": "2023-06-03T13:09:54.195Z"
   },
   {
    "duration": 32,
    "start_time": "2023-06-03T13:09:54.204Z"
   },
   {
    "duration": 8,
    "start_time": "2023-06-03T13:09:54.237Z"
   },
   {
    "duration": 36,
    "start_time": "2023-06-03T13:09:54.246Z"
   },
   {
    "duration": 9,
    "start_time": "2023-06-03T13:09:54.285Z"
   },
   {
    "duration": 4,
    "start_time": "2023-06-03T13:09:54.295Z"
   },
   {
    "duration": 20,
    "start_time": "2023-06-03T13:09:54.301Z"
   },
   {
    "duration": 24,
    "start_time": "2023-06-03T13:09:54.322Z"
   },
   {
    "duration": 12,
    "start_time": "2023-06-03T13:09:54.348Z"
   },
   {
    "duration": 128,
    "start_time": "2023-06-03T13:09:54.362Z"
   },
   {
    "duration": 239,
    "start_time": "2023-06-03T13:09:54.492Z"
   },
   {
    "duration": 13,
    "start_time": "2023-06-03T13:09:54.733Z"
   },
   {
    "duration": 26,
    "start_time": "2023-06-03T13:09:54.748Z"
   },
   {
    "duration": 21,
    "start_time": "2023-06-03T13:09:54.776Z"
   },
   {
    "duration": 20,
    "start_time": "2023-06-03T13:09:54.799Z"
   },
   {
    "duration": 37,
    "start_time": "2023-06-03T13:09:54.821Z"
   },
   {
    "duration": 91,
    "start_time": "2023-06-03T13:09:54.860Z"
   },
   {
    "duration": 5,
    "start_time": "2023-06-03T13:09:54.953Z"
   },
   {
    "duration": 32,
    "start_time": "2023-06-03T13:09:54.960Z"
   },
   {
    "duration": 258,
    "start_time": "2023-06-03T13:09:54.993Z"
   },
   {
    "duration": 301,
    "start_time": "2023-06-03T13:09:55.252Z"
   },
   {
    "duration": 7,
    "start_time": "2023-06-03T13:09:55.555Z"
   },
   {
    "duration": 88,
    "start_time": "2023-06-03T13:09:55.576Z"
   },
   {
    "duration": 53,
    "start_time": "2023-06-03T13:09:55.665Z"
   },
   {
    "duration": 14,
    "start_time": "2023-06-03T13:09:55.720Z"
   },
   {
    "duration": 19,
    "start_time": "2023-06-03T13:09:55.735Z"
   },
   {
    "duration": 296,
    "start_time": "2023-06-03T13:09:55.756Z"
   },
   {
    "duration": 3,
    "start_time": "2023-06-03T13:09:56.054Z"
   },
   {
    "duration": 45,
    "start_time": "2023-06-03T13:09:56.058Z"
   },
   {
    "duration": 278,
    "start_time": "2023-06-03T13:09:56.105Z"
   },
   {
    "duration": 17,
    "start_time": "2023-06-03T13:09:56.385Z"
   },
   {
    "duration": 26,
    "start_time": "2023-06-03T13:09:56.404Z"
   },
   {
    "duration": 171,
    "start_time": "2023-06-03T13:09:56.432Z"
   },
   {
    "duration": 81,
    "start_time": "2023-06-03T13:09:56.605Z"
   },
   {
    "duration": 436,
    "start_time": "2023-06-03T13:09:56.688Z"
   },
   {
    "duration": 469,
    "start_time": "2023-06-03T13:09:57.126Z"
   },
   {
    "duration": 15,
    "start_time": "2023-06-03T13:09:57.597Z"
   },
   {
    "duration": 172,
    "start_time": "2023-06-03T13:09:57.614Z"
   },
   {
    "duration": 5,
    "start_time": "2023-06-03T13:09:57.787Z"
   },
   {
    "duration": 9,
    "start_time": "2023-06-03T13:09:57.793Z"
   },
   {
    "duration": 487,
    "start_time": "2023-06-03T13:09:57.804Z"
   },
   {
    "duration": 11,
    "start_time": "2023-06-03T13:09:58.292Z"
   },
   {
    "duration": 43,
    "start_time": "2023-06-03T13:09:58.304Z"
   },
   {
    "duration": 33,
    "start_time": "2023-06-03T13:09:58.348Z"
   },
   {
    "duration": 104,
    "start_time": "2023-06-03T13:09:58.382Z"
   },
   {
    "duration": 229,
    "start_time": "2023-06-03T13:09:58.488Z"
   },
   {
    "duration": 9350,
    "start_time": "2023-06-03T13:09:58.718Z"
   },
   {
    "duration": 24,
    "start_time": "2023-06-03T13:10:08.070Z"
   },
   {
    "duration": 13,
    "start_time": "2023-06-03T13:10:08.096Z"
   },
   {
    "duration": 912,
    "start_time": "2023-06-03T13:10:08.110Z"
   },
   {
    "duration": 2,
    "start_time": "2023-06-03T13:10:09.024Z"
   },
   {
    "duration": 12,
    "start_time": "2023-06-03T13:10:09.028Z"
   },
   {
    "duration": 22,
    "start_time": "2023-06-03T13:10:09.042Z"
   },
   {
    "duration": 17,
    "start_time": "2023-06-03T13:10:09.066Z"
   },
   {
    "duration": 52,
    "start_time": "2023-06-03T13:10:09.085Z"
   },
   {
    "duration": 118,
    "start_time": "2023-06-03T13:10:09.139Z"
   },
   {
    "duration": 6,
    "start_time": "2023-06-03T13:10:09.259Z"
   },
   {
    "duration": 8,
    "start_time": "2023-06-03T13:10:09.276Z"
   },
   {
    "duration": 8,
    "start_time": "2023-06-03T13:10:09.285Z"
   },
   {
    "duration": 123,
    "start_time": "2023-06-03T13:10:09.294Z"
   },
   {
    "duration": 31,
    "start_time": "2023-06-03T13:10:09.419Z"
   },
   {
    "duration": 110,
    "start_time": "2023-06-03T13:10:09.452Z"
   },
   {
    "duration": 6,
    "start_time": "2023-06-03T13:10:09.576Z"
   },
   {
    "duration": 107,
    "start_time": "2023-06-03T13:10:09.583Z"
   },
   {
    "duration": 6,
    "start_time": "2023-06-03T13:10:09.692Z"
   },
   {
    "duration": 127,
    "start_time": "2023-06-03T13:10:09.701Z"
   },
   {
    "duration": 7,
    "start_time": "2023-06-03T13:10:09.830Z"
   },
   {
    "duration": 370,
    "start_time": "2023-06-03T13:10:09.839Z"
   },
   {
    "duration": 370,
    "start_time": "2023-06-03T13:10:10.211Z"
   },
   {
    "duration": 214,
    "start_time": "2023-06-03T13:11:01.577Z"
   },
   {
    "duration": 51,
    "start_time": "2023-06-03T13:11:44.251Z"
   },
   {
    "duration": 120,
    "start_time": "2023-06-03T13:13:39.649Z"
   },
   {
    "duration": 35,
    "start_time": "2023-06-03T13:13:47.217Z"
   },
   {
    "duration": 3,
    "start_time": "2023-06-03T13:13:57.409Z"
   },
   {
    "duration": 488,
    "start_time": "2023-06-03T13:14:04.278Z"
   },
   {
    "duration": 1384,
    "start_time": "2023-06-03T13:38:42.426Z"
   },
   {
    "duration": 83,
    "start_time": "2023-06-03T13:38:43.811Z"
   },
   {
    "duration": 13,
    "start_time": "2023-06-03T13:38:43.895Z"
   },
   {
    "duration": 24,
    "start_time": "2023-06-03T13:38:43.910Z"
   },
   {
    "duration": 17,
    "start_time": "2023-06-03T13:38:43.935Z"
   },
   {
    "duration": 7,
    "start_time": "2023-06-03T13:38:43.953Z"
   },
   {
    "duration": 25,
    "start_time": "2023-06-03T13:38:43.961Z"
   },
   {
    "duration": 38,
    "start_time": "2023-06-03T13:38:43.988Z"
   },
   {
    "duration": 8,
    "start_time": "2023-06-03T13:38:44.027Z"
   },
   {
    "duration": 8,
    "start_time": "2023-06-03T13:38:44.038Z"
   },
   {
    "duration": 4,
    "start_time": "2023-06-03T13:38:44.047Z"
   },
   {
    "duration": 14,
    "start_time": "2023-06-03T13:38:44.052Z"
   },
   {
    "duration": 9,
    "start_time": "2023-06-03T13:38:44.068Z"
   },
   {
    "duration": 7,
    "start_time": "2023-06-03T13:38:44.078Z"
   },
   {
    "duration": 105,
    "start_time": "2023-06-03T13:38:44.125Z"
   },
   {
    "duration": 221,
    "start_time": "2023-06-03T13:38:44.231Z"
   },
   {
    "duration": 13,
    "start_time": "2023-06-03T13:38:44.453Z"
   },
   {
    "duration": 11,
    "start_time": "2023-06-03T13:38:44.468Z"
   },
   {
    "duration": 7,
    "start_time": "2023-06-03T13:38:44.481Z"
   },
   {
    "duration": 12,
    "start_time": "2023-06-03T13:38:44.489Z"
   },
   {
    "duration": 3,
    "start_time": "2023-06-03T13:38:44.524Z"
   },
   {
    "duration": 39,
    "start_time": "2023-06-03T13:38:44.528Z"
   },
   {
    "duration": 5,
    "start_time": "2023-06-03T13:38:44.568Z"
   },
   {
    "duration": 17,
    "start_time": "2023-06-03T13:38:44.574Z"
   },
   {
    "duration": 214,
    "start_time": "2023-06-03T13:38:44.592Z"
   },
   {
    "duration": 290,
    "start_time": "2023-06-03T13:38:44.808Z"
   },
   {
    "duration": 27,
    "start_time": "2023-06-03T13:38:45.099Z"
   },
   {
    "duration": 20,
    "start_time": "2023-06-03T13:38:45.130Z"
   },
   {
    "duration": 15,
    "start_time": "2023-06-03T13:38:45.151Z"
   },
   {
    "duration": 10,
    "start_time": "2023-06-03T13:38:45.168Z"
   },
   {
    "duration": 47,
    "start_time": "2023-06-03T13:38:45.179Z"
   },
   {
    "duration": 256,
    "start_time": "2023-06-03T13:38:45.227Z"
   },
   {
    "duration": 4,
    "start_time": "2023-06-03T13:38:45.485Z"
   },
   {
    "duration": 54,
    "start_time": "2023-06-03T13:38:45.490Z"
   },
   {
    "duration": 271,
    "start_time": "2023-06-03T13:38:45.546Z"
   },
   {
    "duration": 149,
    "start_time": "2023-06-03T13:38:45.825Z"
   },
   {
    "duration": 15,
    "start_time": "2023-06-03T13:38:45.976Z"
   },
   {
    "duration": 37,
    "start_time": "2023-06-03T13:38:45.992Z"
   },
   {
    "duration": 43,
    "start_time": "2023-06-03T13:38:46.031Z"
   },
   {
    "duration": 16,
    "start_time": "2023-06-03T13:38:46.075Z"
   },
   {
    "duration": 443,
    "start_time": "2023-06-03T13:38:46.092Z"
   },
   {
    "duration": 466,
    "start_time": "2023-06-03T13:38:46.537Z"
   },
   {
    "duration": 20,
    "start_time": "2023-06-03T13:38:47.005Z"
   },
   {
    "duration": 147,
    "start_time": "2023-06-03T13:38:47.027Z"
   },
   {
    "duration": 4,
    "start_time": "2023-06-03T13:38:47.176Z"
   },
   {
    "duration": 9,
    "start_time": "2023-06-03T13:38:47.181Z"
   },
   {
    "duration": 460,
    "start_time": "2023-06-03T13:38:47.191Z"
   },
   {
    "duration": 10,
    "start_time": "2023-06-03T13:38:47.653Z"
   },
   {
    "duration": 63,
    "start_time": "2023-06-03T13:38:47.664Z"
   },
   {
    "duration": 10,
    "start_time": "2023-06-03T13:38:47.729Z"
   },
   {
    "duration": 232,
    "start_time": "2023-06-03T13:38:47.741Z"
   },
   {
    "duration": 110,
    "start_time": "2023-06-03T13:38:47.975Z"
   },
   {
    "duration": 9028,
    "start_time": "2023-06-03T13:38:48.087Z"
   },
   {
    "duration": 19,
    "start_time": "2023-06-03T13:38:57.117Z"
   },
   {
    "duration": 8,
    "start_time": "2023-06-03T13:38:57.137Z"
   },
   {
    "duration": 774,
    "start_time": "2023-06-03T13:38:57.146Z"
   },
   {
    "duration": 3,
    "start_time": "2023-06-03T13:38:57.922Z"
   },
   {
    "duration": 167,
    "start_time": "2023-06-03T13:38:57.927Z"
   },
   {
    "duration": 0,
    "start_time": "2023-06-03T13:38:58.095Z"
   },
   {
    "duration": 0,
    "start_time": "2023-06-03T13:38:58.097Z"
   },
   {
    "duration": 0,
    "start_time": "2023-06-03T13:38:58.099Z"
   },
   {
    "duration": 0,
    "start_time": "2023-06-03T13:38:58.101Z"
   },
   {
    "duration": 0,
    "start_time": "2023-06-03T13:38:58.102Z"
   },
   {
    "duration": 0,
    "start_time": "2023-06-03T13:38:58.104Z"
   },
   {
    "duration": 0,
    "start_time": "2023-06-03T13:38:58.105Z"
   },
   {
    "duration": 0,
    "start_time": "2023-06-03T13:38:58.106Z"
   },
   {
    "duration": 0,
    "start_time": "2023-06-03T13:38:58.107Z"
   },
   {
    "duration": 0,
    "start_time": "2023-06-03T13:38:58.108Z"
   },
   {
    "duration": 0,
    "start_time": "2023-06-03T13:38:58.125Z"
   },
   {
    "duration": 0,
    "start_time": "2023-06-03T13:38:58.126Z"
   },
   {
    "duration": 0,
    "start_time": "2023-06-03T13:38:58.127Z"
   },
   {
    "duration": 0,
    "start_time": "2023-06-03T13:38:58.129Z"
   },
   {
    "duration": 0,
    "start_time": "2023-06-03T13:38:58.130Z"
   },
   {
    "duration": 0,
    "start_time": "2023-06-03T13:38:58.131Z"
   },
   {
    "duration": 0,
    "start_time": "2023-06-03T13:38:58.133Z"
   },
   {
    "duration": 1746,
    "start_time": "2023-06-04T11:58:01.440Z"
   },
   {
    "duration": 274,
    "start_time": "2023-06-04T11:58:03.188Z"
   },
   {
    "duration": 14,
    "start_time": "2023-06-04T11:58:03.464Z"
   },
   {
    "duration": 29,
    "start_time": "2023-06-04T11:58:03.480Z"
   },
   {
    "duration": 89,
    "start_time": "2023-06-04T11:58:03.511Z"
   },
   {
    "duration": 38,
    "start_time": "2023-06-04T11:58:03.602Z"
   },
   {
    "duration": 46,
    "start_time": "2023-06-04T11:58:03.642Z"
   },
   {
    "duration": 11,
    "start_time": "2023-06-04T11:58:03.690Z"
   },
   {
    "duration": 29,
    "start_time": "2023-06-04T11:58:03.703Z"
   },
   {
    "duration": 10,
    "start_time": "2023-06-04T11:58:03.741Z"
   },
   {
    "duration": 19,
    "start_time": "2023-06-04T11:58:03.752Z"
   },
   {
    "duration": 22,
    "start_time": "2023-06-04T11:58:03.772Z"
   },
   {
    "duration": 21,
    "start_time": "2023-06-04T11:58:03.796Z"
   },
   {
    "duration": 18,
    "start_time": "2023-06-04T11:58:03.820Z"
   },
   {
    "duration": 145,
    "start_time": "2023-06-04T11:58:03.840Z"
   },
   {
    "duration": 261,
    "start_time": "2023-06-04T11:58:03.987Z"
   },
   {
    "duration": 15,
    "start_time": "2023-06-04T11:58:04.249Z"
   },
   {
    "duration": 24,
    "start_time": "2023-06-04T11:58:04.266Z"
   },
   {
    "duration": 7,
    "start_time": "2023-06-04T11:58:04.292Z"
   },
   {
    "duration": 3,
    "start_time": "2023-06-04T11:58:04.301Z"
   },
   {
    "duration": 33,
    "start_time": "2023-06-04T11:58:04.305Z"
   },
   {
    "duration": 48,
    "start_time": "2023-06-04T11:58:04.346Z"
   },
   {
    "duration": 5,
    "start_time": "2023-06-04T11:58:04.396Z"
   },
   {
    "duration": 46,
    "start_time": "2023-06-04T11:58:04.403Z"
   },
   {
    "duration": 311,
    "start_time": "2023-06-04T11:58:04.451Z"
   },
   {
    "duration": 287,
    "start_time": "2023-06-04T11:58:04.764Z"
   },
   {
    "duration": 8,
    "start_time": "2023-06-04T11:58:05.053Z"
   },
   {
    "duration": 49,
    "start_time": "2023-06-04T11:58:05.063Z"
   },
   {
    "duration": 24,
    "start_time": "2023-06-04T11:58:05.114Z"
   },
   {
    "duration": 67,
    "start_time": "2023-06-04T11:58:05.140Z"
   },
   {
    "duration": 26,
    "start_time": "2023-06-04T11:58:05.208Z"
   },
   {
    "duration": 373,
    "start_time": "2023-06-04T11:58:05.239Z"
   },
   {
    "duration": 16,
    "start_time": "2023-06-04T11:58:05.615Z"
   },
   {
    "duration": 53,
    "start_time": "2023-06-04T11:58:05.633Z"
   },
   {
    "duration": 277,
    "start_time": "2023-06-04T11:58:05.688Z"
   },
   {
    "duration": 177,
    "start_time": "2023-06-04T11:58:05.968Z"
   },
   {
    "duration": 16,
    "start_time": "2023-06-04T11:58:06.146Z"
   },
   {
    "duration": 19,
    "start_time": "2023-06-04T11:58:06.164Z"
   },
   {
    "duration": 59,
    "start_time": "2023-06-04T11:58:06.185Z"
   },
   {
    "duration": 16,
    "start_time": "2023-06-04T11:58:06.246Z"
   },
   {
    "duration": 496,
    "start_time": "2023-06-04T11:58:06.267Z"
   },
   {
    "duration": 508,
    "start_time": "2023-06-04T11:58:06.765Z"
   },
   {
    "duration": 19,
    "start_time": "2023-06-04T11:58:07.275Z"
   },
   {
    "duration": 211,
    "start_time": "2023-06-04T11:58:07.297Z"
   },
   {
    "duration": 5,
    "start_time": "2023-06-04T11:58:07.510Z"
   },
   {
    "duration": 5,
    "start_time": "2023-06-04T11:58:07.527Z"
   },
   {
    "duration": 503,
    "start_time": "2023-06-04T11:58:07.538Z"
   },
   {
    "duration": 11,
    "start_time": "2023-06-04T11:58:08.043Z"
   },
   {
    "duration": 65,
    "start_time": "2023-06-04T11:58:08.056Z"
   },
   {
    "duration": 24,
    "start_time": "2023-06-04T11:58:08.123Z"
   },
   {
    "duration": 392,
    "start_time": "2023-06-04T11:58:08.148Z"
   },
   {
    "duration": 141,
    "start_time": "2023-06-04T11:58:08.543Z"
   },
   {
    "duration": 10254,
    "start_time": "2023-06-04T11:58:08.686Z"
   },
   {
    "duration": 17,
    "start_time": "2023-06-04T11:58:18.942Z"
   },
   {
    "duration": 20,
    "start_time": "2023-06-04T11:58:18.961Z"
   },
   {
    "duration": 822,
    "start_time": "2023-06-04T11:58:18.983Z"
   },
   {
    "duration": 3,
    "start_time": "2023-06-04T11:58:19.807Z"
   },
   {
    "duration": 234,
    "start_time": "2023-06-04T11:58:19.812Z"
   },
   {
    "duration": 0,
    "start_time": "2023-06-04T11:58:20.048Z"
   },
   {
    "duration": 0,
    "start_time": "2023-06-04T11:58:20.050Z"
   },
   {
    "duration": 0,
    "start_time": "2023-06-04T11:58:20.051Z"
   },
   {
    "duration": 0,
    "start_time": "2023-06-04T11:58:20.052Z"
   },
   {
    "duration": 0,
    "start_time": "2023-06-04T11:58:20.054Z"
   },
   {
    "duration": 0,
    "start_time": "2023-06-04T11:58:20.055Z"
   },
   {
    "duration": 0,
    "start_time": "2023-06-04T11:58:20.057Z"
   },
   {
    "duration": 0,
    "start_time": "2023-06-04T11:58:20.058Z"
   },
   {
    "duration": 0,
    "start_time": "2023-06-04T11:58:20.059Z"
   },
   {
    "duration": 0,
    "start_time": "2023-06-04T11:58:20.061Z"
   },
   {
    "duration": 0,
    "start_time": "2023-06-04T11:58:20.062Z"
   },
   {
    "duration": 0,
    "start_time": "2023-06-04T11:58:20.064Z"
   },
   {
    "duration": 0,
    "start_time": "2023-06-04T11:58:20.065Z"
   },
   {
    "duration": 0,
    "start_time": "2023-06-04T11:58:20.066Z"
   },
   {
    "duration": 0,
    "start_time": "2023-06-04T11:58:20.068Z"
   },
   {
    "duration": 0,
    "start_time": "2023-06-04T11:58:20.069Z"
   },
   {
    "duration": 0,
    "start_time": "2023-06-04T11:58:20.070Z"
   },
   {
    "duration": 1565,
    "start_time": "2023-06-04T11:58:26.407Z"
   },
   {
    "duration": 92,
    "start_time": "2023-06-04T11:58:27.974Z"
   },
   {
    "duration": 15,
    "start_time": "2023-06-04T11:58:28.068Z"
   },
   {
    "duration": 46,
    "start_time": "2023-06-04T11:58:28.085Z"
   },
   {
    "duration": 24,
    "start_time": "2023-06-04T11:58:28.133Z"
   },
   {
    "duration": 7,
    "start_time": "2023-06-04T11:58:28.159Z"
   },
   {
    "duration": 29,
    "start_time": "2023-06-04T11:58:28.168Z"
   },
   {
    "duration": 38,
    "start_time": "2023-06-04T11:58:28.198Z"
   },
   {
    "duration": 12,
    "start_time": "2023-06-04T11:58:28.238Z"
   },
   {
    "duration": 14,
    "start_time": "2023-06-04T11:58:28.254Z"
   },
   {
    "duration": 5,
    "start_time": "2023-06-04T11:58:28.269Z"
   },
   {
    "duration": 17,
    "start_time": "2023-06-04T11:58:28.276Z"
   },
   {
    "duration": 16,
    "start_time": "2023-06-04T11:58:28.296Z"
   },
   {
    "duration": 16,
    "start_time": "2023-06-04T11:58:28.324Z"
   },
   {
    "duration": 133,
    "start_time": "2023-06-04T11:58:28.343Z"
   },
   {
    "duration": 262,
    "start_time": "2023-06-04T11:58:28.478Z"
   },
   {
    "duration": 14,
    "start_time": "2023-06-04T11:58:28.742Z"
   },
   {
    "duration": 12,
    "start_time": "2023-06-04T11:58:28.757Z"
   },
   {
    "duration": 8,
    "start_time": "2023-06-04T11:58:28.770Z"
   },
   {
    "duration": 3,
    "start_time": "2023-06-04T11:58:28.780Z"
   },
   {
    "duration": 11,
    "start_time": "2023-06-04T11:58:28.784Z"
   },
   {
    "duration": 70,
    "start_time": "2023-06-04T11:58:28.797Z"
   },
   {
    "duration": 6,
    "start_time": "2023-06-04T11:58:28.869Z"
   },
   {
    "duration": 37,
    "start_time": "2023-06-04T11:58:28.877Z"
   },
   {
    "duration": 258,
    "start_time": "2023-06-04T11:58:28.915Z"
   },
   {
    "duration": 255,
    "start_time": "2023-06-04T11:58:29.175Z"
   },
   {
    "duration": 9,
    "start_time": "2023-06-04T11:58:29.431Z"
   },
   {
    "duration": 23,
    "start_time": "2023-06-04T11:58:29.444Z"
   },
   {
    "duration": 22,
    "start_time": "2023-06-04T11:58:29.469Z"
   },
   {
    "duration": 40,
    "start_time": "2023-06-04T11:58:29.492Z"
   },
   {
    "duration": 23,
    "start_time": "2023-06-04T11:58:29.533Z"
   },
   {
    "duration": 425,
    "start_time": "2023-06-04T11:58:29.559Z"
   },
   {
    "duration": 4,
    "start_time": "2023-06-04T11:58:29.987Z"
   },
   {
    "duration": 250,
    "start_time": "2023-06-04T11:58:29.993Z"
   },
   {
    "duration": 374,
    "start_time": "2023-06-04T11:58:30.244Z"
   },
   {
    "duration": 163,
    "start_time": "2023-06-04T11:58:30.620Z"
   },
   {
    "duration": 68,
    "start_time": "2023-06-04T11:58:30.785Z"
   },
   {
    "duration": 93,
    "start_time": "2023-06-04T11:58:30.855Z"
   },
   {
    "duration": 108,
    "start_time": "2023-06-04T11:58:30.950Z"
   },
   {
    "duration": 40,
    "start_time": "2023-06-04T11:58:31.060Z"
   },
   {
    "duration": 697,
    "start_time": "2023-06-04T11:58:31.102Z"
   },
   {
    "duration": 539,
    "start_time": "2023-06-04T11:58:31.801Z"
   },
   {
    "duration": 27,
    "start_time": "2023-06-04T11:58:32.343Z"
   },
   {
    "duration": 172,
    "start_time": "2023-06-04T11:58:32.372Z"
   },
   {
    "duration": 4,
    "start_time": "2023-06-04T11:58:32.546Z"
   },
   {
    "duration": 18,
    "start_time": "2023-06-04T11:58:32.552Z"
   },
   {
    "duration": 678,
    "start_time": "2023-06-04T11:58:32.572Z"
   },
   {
    "duration": 12,
    "start_time": "2023-06-04T11:58:33.251Z"
   },
   {
    "duration": 48,
    "start_time": "2023-06-04T11:58:33.265Z"
   },
   {
    "duration": 27,
    "start_time": "2023-06-04T11:58:33.315Z"
   },
   {
    "duration": 254,
    "start_time": "2023-06-04T11:58:33.343Z"
   },
   {
    "duration": 102,
    "start_time": "2023-06-04T11:58:33.599Z"
   },
   {
    "duration": 1502,
    "start_time": "2023-06-20T17:34:47.408Z"
   },
   {
    "duration": 929,
    "start_time": "2023-06-20T17:34:48.911Z"
   },
   {
    "duration": 16,
    "start_time": "2023-06-20T17:34:49.841Z"
   },
   {
    "duration": 30,
    "start_time": "2023-06-20T17:34:49.865Z"
   },
   {
    "duration": 17,
    "start_time": "2023-06-20T17:34:49.897Z"
   },
   {
    "duration": 6,
    "start_time": "2023-06-20T17:34:49.916Z"
   },
   {
    "duration": 52,
    "start_time": "2023-06-20T17:34:49.924Z"
   },
   {
    "duration": 8,
    "start_time": "2023-06-20T17:34:49.978Z"
   },
   {
    "duration": 7,
    "start_time": "2023-06-20T17:34:49.987Z"
   },
   {
    "duration": 7,
    "start_time": "2023-06-20T17:34:49.997Z"
   },
   {
    "duration": 3,
    "start_time": "2023-06-20T17:34:50.005Z"
   },
   {
    "duration": 16,
    "start_time": "2023-06-20T17:34:50.009Z"
   },
   {
    "duration": 13,
    "start_time": "2023-06-20T17:34:50.027Z"
   },
   {
    "duration": 27,
    "start_time": "2023-06-20T17:34:50.042Z"
   },
   {
    "duration": 115,
    "start_time": "2023-06-20T17:34:50.070Z"
   },
   {
    "duration": 242,
    "start_time": "2023-06-20T17:34:50.187Z"
   },
   {
    "duration": 13,
    "start_time": "2023-06-20T17:34:50.431Z"
   },
   {
    "duration": 28,
    "start_time": "2023-06-20T17:34:50.454Z"
   },
   {
    "duration": 8,
    "start_time": "2023-06-20T17:34:50.483Z"
   },
   {
    "duration": 3,
    "start_time": "2023-06-20T17:34:50.492Z"
   },
   {
    "duration": 3,
    "start_time": "2023-06-20T17:34:50.496Z"
   },
   {
    "duration": 38,
    "start_time": "2023-06-20T17:34:50.500Z"
   },
   {
    "duration": 37,
    "start_time": "2023-06-20T17:34:50.539Z"
   },
   {
    "duration": 18,
    "start_time": "2023-06-20T17:34:50.578Z"
   }
  ],
  "kernelspec": {
   "display_name": "Python 3 (ipykernel)",
   "language": "python",
   "name": "python3"
  },
  "language_info": {
   "codemirror_mode": {
    "name": "ipython",
    "version": 3
   },
   "file_extension": ".py",
   "mimetype": "text/x-python",
   "name": "python",
   "nbconvert_exporter": "python",
   "pygments_lexer": "ipython3",
   "version": "3.9.13"
  },
  "toc": {
   "base_numbering": 1,
   "nav_menu": {},
   "number_sections": true,
   "sideBar": true,
   "skip_h1_title": true,
   "title_cell": "Table of Contents",
   "title_sidebar": "Contents",
   "toc_cell": false,
   "toc_position": {},
   "toc_section_display": true,
   "toc_window_display": false
  }
 },
 "nbformat": 4,
 "nbformat_minor": 4
}
