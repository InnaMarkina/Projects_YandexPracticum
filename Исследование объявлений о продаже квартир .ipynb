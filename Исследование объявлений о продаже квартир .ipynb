{
 "cells": [
  {
   "cell_type": "markdown",
   "metadata": {},
   "source": [
    "# Исследование объявлений о продаже квартир"
   ]
  },
  {
   "cell_type": "markdown",
   "metadata": {},
   "source": [
    "### Описание проекта\n",
    "\n",
    "В вашем распоряжении данные сервиса Яндекс Недвижимость — архив объявлений о продаже квартир в Санкт-Петербурге и соседних населённых пунктах за несколько лет. Нужно научиться определять рыночную стоимость объектов недвижимости. Ваша задача — провести исследовательский анализ данных, который поможет установить параметры, влияющие на цену объектов. Это позволит построить автоматизированную систему: она отследит аномалии и мошенническую деятельность. \n",
    "По каждой квартире на продажу доступны два вида данных. Первые вписаны пользователем, вторые — получены автоматически на основе картографических данных. Например, расстояние до центра, аэропорта и других объектов — эти данные автоматически получены из геосервисов. Количество парков и водоёмов также заполняется без участия пользователя. "
   ]
  },
  {
   "cell_type": "markdown",
   "metadata": {},
   "source": [
    "### Инструкция по выполнению проекта\n",
    "\n",
    "Шаг 1. Откройте файл с данными и изучите общую информацию\n",
    "Путь к файлу: /datasets/real_estate_data.csv\n",
    "Скачать датасет\n",
    "Загрузите данные из csv-файла в датафрейм c помощью библиотеки pandas.\n",
    "Изучите общую информацию о полученном датафрейме.\n",
    "Постройте гистограмму для всех числовых столбцов таблицы на одном графике. Например, для датафрейма data можно построить такую гистограмму командой data.hist(figsize=(15, 20)). Напомним, что параметр figsize задаёт размер графика.\n",
    "Шаг 2. Предобработка данных\n",
    "Найдите и изучите пропущенные значения в столбцах: \n",
    "Определите, в каких столбцах есть пропуски.\n",
    "Заполните пропущенные значения там, где это возможно. Например, если продавец не указал число балконов, то, скорее всего, в его квартире их нет. Такие пропуски можно заменить на число 0. Если логичную замену предложить невозможно, то оставьте пропуски. Пропущенные значения — тоже важный сигнал, который нужно учитывать.\n",
    "В ячейке с типом markdown укажите причины, которые могли привести к пропускам в данных.\n",
    "Рассмотрите типы данных в каждом столбце: \n",
    "Найдите столбцы, в которых нужно изменить тип данных.\n",
    "Преобразуйте тип данных в выбранных столбцах.\n",
    "В ячейке с типом markdown поясните, почему нужно изменить тип данных.\n",
    "Изучите уникальные значения в столбце с названиями и устраните неявные дубликаты. Например, «поселок Рябово» и «поселок городского типа Рябово», «поселок Тельмана» и «посёлок Тельмана» — это обозначения одних и тех же населённых пунктов. Вы можете заменить названия в существующем столбце или создать новый с названиями без дубликатов.  \n",
    "Шаг 3. Добавьте в таблицу новые столбцы со следующими параметрами:\n",
    "цена одного квадратного метра (нужно поделить стоимость объекта на его общую площадь, а затем округлить до двух знаков после запятой);\n",
    "день недели публикации объявления (0 — понедельник, 1 — вторник и так далее);\n",
    "месяц публикации объявления;\n",
    "год публикации объявления;\n",
    "тип этажа квартиры (значения — «‎первый», «последний», «другой»);\n",
    "расстояние до центра города в километрах (переведите из м в км и округлите до ближайших целых значений).  \n",
    "Шаг 4. Проведите исследовательский анализ данных:\n",
    "Изучите перечисленные ниже параметры объектов и постройте отдельные гистограммы для каждого из этих параметров. В некоторых параметрах встречаются редкие и выбивающиеся значения. При построении гистограмм удалите их. Например, в столбце ceiling_height может быть указана высота потолков 25 м и 32 м. Логично предположить, что на самом деле это вещественные значения: 2.5 м и 3.2 м. Попробуйте обработать аномалии в этом и других столбцах, если они есть. Если природа аномалии понятна и данные действительно искажены, то восстановите    корректное значение. В противном случае удалите редкие и выбивающиеся значения.\n",
    "Список параметров:\n",
    "общая площадь;\n",
    "жилая площадь;\n",
    "площадь кухни;\n",
    "цена объекта;\n",
    "количество комнат;\n",
    "высота потолков;\n",
    "тип этажа квартиры («первый», «последний», «другой»);\n",
    "общее количество этажей в доме;\n",
    "расстояние до центра города в метрах;\n",
    "расстояние до ближайшего парка\n",
    "Опишите все ваши наблюдения по параметрам в ячейке с типом markdown.\n",
    "Изучите, как быстро продавались квартиры (столбец days_exposition). Этот параметр показывает, сколько дней было размещено каждое объявление. \n",
    "Постройте гистограмму.\n",
    "Посчитайте среднее и медиану.\n",
    "В ячейке типа markdown опишите, сколько времени обычно занимает продажа. Какие продажи можно считать быстрыми, а какие — необычно долгими?\n",
    "Какие факторы больше всего влияют на общую (полную) стоимость объекта?\n",
    "Изучите, зависит ли цена от:\n",
    "общей площади;\n",
    "жилой площади;\n",
    "площади кухни;\n",
    "количества комнат;\n",
    "этажа, на котором расположена квартира (первый, последний, другой);\n",
    "даты размещения (день недели, месяц, год).\n",
    "Постройте графики, которые покажут зависимость цены от указанных выше параметров. Для подготовки данных перед визуализацией вы можете использовать сводные таблицы.\n",
    "Посчитайте среднюю цену одного квадратного метра в 10 населённых пунктах с наибольшим числом объявлений — постройте сводную таблицу с количеством объявлений и средней ценой квадратного метра для этих населенных пунктов. Выделите населённые пункты с самой высокой и низкой стоимостью квадратного метра.\n",
    "Ранее вы посчитали расстояние до центра в километрах. Теперь выделите квартиры в Санкт-Петербурге с помощью столбца locality_name и вычислите среднюю цену каждого километра. Опишите, как стоимость объектов зависит от расстояния до центра города — постройте график изменения средней цены для каждого километра от центра Петербурга.  \n",
    "Шаг 5. Напишите общий вывод\n",
    "Опишите полученные результаты и зафиксируйте итоговый вывод проведённого исследования.\n"
   ]
  },
  {
   "cell_type": "markdown",
   "metadata": {},
   "source": [
    "### Описание данных\n",
    "\n",
    "airports_nearest — расстояние до ближайшего аэропорта в метрах (м)  \n",
    "balcony — число балконов  \n",
    "ceiling_height — высота потолков (м)  \n",
    "cityCenters_nearest — расстояние до центра города (м)  \n",
    "days_exposition — сколько дней было размещено объявление (от публикации до снятия)  \n",
    "first_day_exposition — дата публикации  \n",
    "floor — этаж  \n",
    "floors_total — всего этажей в доме  \n",
    "is_apartment — апартаменты (булев тип)  \n",
    "kitchen_area — площадь кухни в квадратных метрах (м²)  \n",
    "last_price — цена на момент снятия с публикации  \n",
    "living_area — жилая площадь в квадратных метрах (м²)  \n",
    "locality_name — название населённого пункта  \n",
    "open_plan — свободная планировка (булев тип)  \n",
    "parks_around3000 — число парков в радиусе 3 км  \n",
    "parks_nearest — расстояние до ближайшего парка (м)  \n",
    "ponds_around3000 — число водоёмов в радиусе 3 км  \n",
    "ponds_nearest — расстояние до ближайшего водоёма (м)  \n",
    "rooms — число комнат  \n",
    "studio — квартира-студия (булев тип)  \n",
    "total_area — общая площадь квартиры в квадратных метрах (м²)  \n",
    "total_images — число фотографий квартиры в объявлении  "
   ]
  },
  {
   "cell_type": "markdown",
   "metadata": {},
   "source": [
    "### Откройте файл с данными и изучите общую информацию. "
   ]
  },
  {
   "cell_type": "code",
   "execution_count": 2,
   "metadata": {},
   "outputs": [],
   "source": [
    "import pandas as pd\n",
    "import seaborn as sns\n",
    "import matplotlib.pyplot as plt\n",
    "%matplotlib inline\n",
    "import numpy as np\n",
    "from datetime import datetime\n",
    "from IPython.display import display\n"
   ]
  },
  {
   "cell_type": "code",
   "execution_count": 3,
   "metadata": {
    "scrolled": true
   },
   "outputs": [
    {
     "data": {
      "text/html": [
       "<div>\n",
       "<style scoped>\n",
       "    .dataframe tbody tr th:only-of-type {\n",
       "        vertical-align: middle;\n",
       "    }\n",
       "\n",
       "    .dataframe tbody tr th {\n",
       "        vertical-align: top;\n",
       "    }\n",
       "\n",
       "    .dataframe thead th {\n",
       "        text-align: right;\n",
       "    }\n",
       "</style>\n",
       "<table border=\"1\" class=\"dataframe\">\n",
       "  <thead>\n",
       "    <tr style=\"text-align: right;\">\n",
       "      <th></th>\n",
       "      <th>total_images</th>\n",
       "      <th>last_price</th>\n",
       "      <th>total_area</th>\n",
       "      <th>first_day_exposition</th>\n",
       "      <th>rooms</th>\n",
       "      <th>ceiling_height</th>\n",
       "      <th>floors_total</th>\n",
       "      <th>living_area</th>\n",
       "      <th>floor</th>\n",
       "      <th>is_apartment</th>\n",
       "      <th>...</th>\n",
       "      <th>kitchen_area</th>\n",
       "      <th>balcony</th>\n",
       "      <th>locality_name</th>\n",
       "      <th>airports_nearest</th>\n",
       "      <th>cityCenters_nearest</th>\n",
       "      <th>parks_around3000</th>\n",
       "      <th>parks_nearest</th>\n",
       "      <th>ponds_around3000</th>\n",
       "      <th>ponds_nearest</th>\n",
       "      <th>days_exposition</th>\n",
       "    </tr>\n",
       "  </thead>\n",
       "  <tbody>\n",
       "    <tr>\n",
       "      <th>0</th>\n",
       "      <td>20</td>\n",
       "      <td>13000000.0</td>\n",
       "      <td>108.00</td>\n",
       "      <td>2019-03-07T00:00:00</td>\n",
       "      <td>3</td>\n",
       "      <td>2.70</td>\n",
       "      <td>16.0</td>\n",
       "      <td>51.00</td>\n",
       "      <td>8</td>\n",
       "      <td>NaN</td>\n",
       "      <td>...</td>\n",
       "      <td>25.00</td>\n",
       "      <td>NaN</td>\n",
       "      <td>Санкт-Петербург</td>\n",
       "      <td>18863.0</td>\n",
       "      <td>16028.0</td>\n",
       "      <td>1.0</td>\n",
       "      <td>482.0</td>\n",
       "      <td>2.0</td>\n",
       "      <td>755.0</td>\n",
       "      <td>NaN</td>\n",
       "    </tr>\n",
       "    <tr>\n",
       "      <th>1</th>\n",
       "      <td>7</td>\n",
       "      <td>3350000.0</td>\n",
       "      <td>40.40</td>\n",
       "      <td>2018-12-04T00:00:00</td>\n",
       "      <td>1</td>\n",
       "      <td>NaN</td>\n",
       "      <td>11.0</td>\n",
       "      <td>18.60</td>\n",
       "      <td>1</td>\n",
       "      <td>NaN</td>\n",
       "      <td>...</td>\n",
       "      <td>11.00</td>\n",
       "      <td>2.0</td>\n",
       "      <td>посёлок Шушары</td>\n",
       "      <td>12817.0</td>\n",
       "      <td>18603.0</td>\n",
       "      <td>0.0</td>\n",
       "      <td>NaN</td>\n",
       "      <td>0.0</td>\n",
       "      <td>NaN</td>\n",
       "      <td>81.0</td>\n",
       "    </tr>\n",
       "    <tr>\n",
       "      <th>2</th>\n",
       "      <td>10</td>\n",
       "      <td>5196000.0</td>\n",
       "      <td>56.00</td>\n",
       "      <td>2015-08-20T00:00:00</td>\n",
       "      <td>2</td>\n",
       "      <td>NaN</td>\n",
       "      <td>5.0</td>\n",
       "      <td>34.30</td>\n",
       "      <td>4</td>\n",
       "      <td>NaN</td>\n",
       "      <td>...</td>\n",
       "      <td>8.30</td>\n",
       "      <td>0.0</td>\n",
       "      <td>Санкт-Петербург</td>\n",
       "      <td>21741.0</td>\n",
       "      <td>13933.0</td>\n",
       "      <td>1.0</td>\n",
       "      <td>90.0</td>\n",
       "      <td>2.0</td>\n",
       "      <td>574.0</td>\n",
       "      <td>558.0</td>\n",
       "    </tr>\n",
       "    <tr>\n",
       "      <th>3</th>\n",
       "      <td>0</td>\n",
       "      <td>64900000.0</td>\n",
       "      <td>159.00</td>\n",
       "      <td>2015-07-24T00:00:00</td>\n",
       "      <td>3</td>\n",
       "      <td>NaN</td>\n",
       "      <td>14.0</td>\n",
       "      <td>NaN</td>\n",
       "      <td>9</td>\n",
       "      <td>NaN</td>\n",
       "      <td>...</td>\n",
       "      <td>NaN</td>\n",
       "      <td>0.0</td>\n",
       "      <td>Санкт-Петербург</td>\n",
       "      <td>28098.0</td>\n",
       "      <td>6800.0</td>\n",
       "      <td>2.0</td>\n",
       "      <td>84.0</td>\n",
       "      <td>3.0</td>\n",
       "      <td>234.0</td>\n",
       "      <td>424.0</td>\n",
       "    </tr>\n",
       "    <tr>\n",
       "      <th>4</th>\n",
       "      <td>2</td>\n",
       "      <td>10000000.0</td>\n",
       "      <td>100.00</td>\n",
       "      <td>2018-06-19T00:00:00</td>\n",
       "      <td>2</td>\n",
       "      <td>3.03</td>\n",
       "      <td>14.0</td>\n",
       "      <td>32.00</td>\n",
       "      <td>13</td>\n",
       "      <td>NaN</td>\n",
       "      <td>...</td>\n",
       "      <td>41.00</td>\n",
       "      <td>NaN</td>\n",
       "      <td>Санкт-Петербург</td>\n",
       "      <td>31856.0</td>\n",
       "      <td>8098.0</td>\n",
       "      <td>2.0</td>\n",
       "      <td>112.0</td>\n",
       "      <td>1.0</td>\n",
       "      <td>48.0</td>\n",
       "      <td>121.0</td>\n",
       "    </tr>\n",
       "    <tr>\n",
       "      <th>5</th>\n",
       "      <td>10</td>\n",
       "      <td>2890000.0</td>\n",
       "      <td>30.40</td>\n",
       "      <td>2018-09-10T00:00:00</td>\n",
       "      <td>1</td>\n",
       "      <td>NaN</td>\n",
       "      <td>12.0</td>\n",
       "      <td>14.40</td>\n",
       "      <td>5</td>\n",
       "      <td>NaN</td>\n",
       "      <td>...</td>\n",
       "      <td>9.10</td>\n",
       "      <td>NaN</td>\n",
       "      <td>городской посёлок Янино-1</td>\n",
       "      <td>NaN</td>\n",
       "      <td>NaN</td>\n",
       "      <td>NaN</td>\n",
       "      <td>NaN</td>\n",
       "      <td>NaN</td>\n",
       "      <td>NaN</td>\n",
       "      <td>55.0</td>\n",
       "    </tr>\n",
       "    <tr>\n",
       "      <th>6</th>\n",
       "      <td>6</td>\n",
       "      <td>3700000.0</td>\n",
       "      <td>37.30</td>\n",
       "      <td>2017-11-02T00:00:00</td>\n",
       "      <td>1</td>\n",
       "      <td>NaN</td>\n",
       "      <td>26.0</td>\n",
       "      <td>10.60</td>\n",
       "      <td>6</td>\n",
       "      <td>NaN</td>\n",
       "      <td>...</td>\n",
       "      <td>14.40</td>\n",
       "      <td>1.0</td>\n",
       "      <td>посёлок Парголово</td>\n",
       "      <td>52996.0</td>\n",
       "      <td>19143.0</td>\n",
       "      <td>0.0</td>\n",
       "      <td>NaN</td>\n",
       "      <td>0.0</td>\n",
       "      <td>NaN</td>\n",
       "      <td>155.0</td>\n",
       "    </tr>\n",
       "    <tr>\n",
       "      <th>7</th>\n",
       "      <td>5</td>\n",
       "      <td>7915000.0</td>\n",
       "      <td>71.60</td>\n",
       "      <td>2019-04-18T00:00:00</td>\n",
       "      <td>2</td>\n",
       "      <td>NaN</td>\n",
       "      <td>24.0</td>\n",
       "      <td>NaN</td>\n",
       "      <td>22</td>\n",
       "      <td>NaN</td>\n",
       "      <td>...</td>\n",
       "      <td>18.90</td>\n",
       "      <td>2.0</td>\n",
       "      <td>Санкт-Петербург</td>\n",
       "      <td>23982.0</td>\n",
       "      <td>11634.0</td>\n",
       "      <td>0.0</td>\n",
       "      <td>NaN</td>\n",
       "      <td>0.0</td>\n",
       "      <td>NaN</td>\n",
       "      <td>NaN</td>\n",
       "    </tr>\n",
       "    <tr>\n",
       "      <th>8</th>\n",
       "      <td>20</td>\n",
       "      <td>2900000.0</td>\n",
       "      <td>33.16</td>\n",
       "      <td>2018-05-23T00:00:00</td>\n",
       "      <td>1</td>\n",
       "      <td>NaN</td>\n",
       "      <td>27.0</td>\n",
       "      <td>15.43</td>\n",
       "      <td>26</td>\n",
       "      <td>NaN</td>\n",
       "      <td>...</td>\n",
       "      <td>8.81</td>\n",
       "      <td>NaN</td>\n",
       "      <td>посёлок Мурино</td>\n",
       "      <td>NaN</td>\n",
       "      <td>NaN</td>\n",
       "      <td>NaN</td>\n",
       "      <td>NaN</td>\n",
       "      <td>NaN</td>\n",
       "      <td>NaN</td>\n",
       "      <td>189.0</td>\n",
       "    </tr>\n",
       "    <tr>\n",
       "      <th>9</th>\n",
       "      <td>18</td>\n",
       "      <td>5400000.0</td>\n",
       "      <td>61.00</td>\n",
       "      <td>2017-02-26T00:00:00</td>\n",
       "      <td>3</td>\n",
       "      <td>2.50</td>\n",
       "      <td>9.0</td>\n",
       "      <td>43.60</td>\n",
       "      <td>7</td>\n",
       "      <td>NaN</td>\n",
       "      <td>...</td>\n",
       "      <td>6.50</td>\n",
       "      <td>2.0</td>\n",
       "      <td>Санкт-Петербург</td>\n",
       "      <td>50898.0</td>\n",
       "      <td>15008.0</td>\n",
       "      <td>0.0</td>\n",
       "      <td>NaN</td>\n",
       "      <td>0.0</td>\n",
       "      <td>NaN</td>\n",
       "      <td>289.0</td>\n",
       "    </tr>\n",
       "    <tr>\n",
       "      <th>10</th>\n",
       "      <td>5</td>\n",
       "      <td>5050000.0</td>\n",
       "      <td>39.60</td>\n",
       "      <td>2017-11-16T00:00:00</td>\n",
       "      <td>1</td>\n",
       "      <td>2.67</td>\n",
       "      <td>12.0</td>\n",
       "      <td>20.30</td>\n",
       "      <td>3</td>\n",
       "      <td>NaN</td>\n",
       "      <td>...</td>\n",
       "      <td>8.50</td>\n",
       "      <td>NaN</td>\n",
       "      <td>Санкт-Петербург</td>\n",
       "      <td>38357.0</td>\n",
       "      <td>13878.0</td>\n",
       "      <td>1.0</td>\n",
       "      <td>310.0</td>\n",
       "      <td>2.0</td>\n",
       "      <td>553.0</td>\n",
       "      <td>137.0</td>\n",
       "    </tr>\n",
       "    <tr>\n",
       "      <th>11</th>\n",
       "      <td>9</td>\n",
       "      <td>3300000.0</td>\n",
       "      <td>44.00</td>\n",
       "      <td>2018-08-27T00:00:00</td>\n",
       "      <td>2</td>\n",
       "      <td>NaN</td>\n",
       "      <td>5.0</td>\n",
       "      <td>31.00</td>\n",
       "      <td>4</td>\n",
       "      <td>False</td>\n",
       "      <td>...</td>\n",
       "      <td>6.00</td>\n",
       "      <td>1.0</td>\n",
       "      <td>Ломоносов</td>\n",
       "      <td>48252.0</td>\n",
       "      <td>51677.0</td>\n",
       "      <td>0.0</td>\n",
       "      <td>NaN</td>\n",
       "      <td>0.0</td>\n",
       "      <td>NaN</td>\n",
       "      <td>7.0</td>\n",
       "    </tr>\n",
       "    <tr>\n",
       "      <th>12</th>\n",
       "      <td>10</td>\n",
       "      <td>3890000.0</td>\n",
       "      <td>54.00</td>\n",
       "      <td>2016-06-30T00:00:00</td>\n",
       "      <td>2</td>\n",
       "      <td>NaN</td>\n",
       "      <td>5.0</td>\n",
       "      <td>30.00</td>\n",
       "      <td>5</td>\n",
       "      <td>NaN</td>\n",
       "      <td>...</td>\n",
       "      <td>9.00</td>\n",
       "      <td>0.0</td>\n",
       "      <td>Сертолово</td>\n",
       "      <td>NaN</td>\n",
       "      <td>NaN</td>\n",
       "      <td>NaN</td>\n",
       "      <td>NaN</td>\n",
       "      <td>NaN</td>\n",
       "      <td>NaN</td>\n",
       "      <td>90.0</td>\n",
       "    </tr>\n",
       "    <tr>\n",
       "      <th>13</th>\n",
       "      <td>20</td>\n",
       "      <td>3550000.0</td>\n",
       "      <td>42.80</td>\n",
       "      <td>2017-07-01T00:00:00</td>\n",
       "      <td>2</td>\n",
       "      <td>2.56</td>\n",
       "      <td>5.0</td>\n",
       "      <td>27.00</td>\n",
       "      <td>5</td>\n",
       "      <td>NaN</td>\n",
       "      <td>...</td>\n",
       "      <td>5.20</td>\n",
       "      <td>1.0</td>\n",
       "      <td>Петергоф</td>\n",
       "      <td>37868.0</td>\n",
       "      <td>33058.0</td>\n",
       "      <td>1.0</td>\n",
       "      <td>294.0</td>\n",
       "      <td>3.0</td>\n",
       "      <td>298.0</td>\n",
       "      <td>366.0</td>\n",
       "    </tr>\n",
       "    <tr>\n",
       "      <th>14</th>\n",
       "      <td>1</td>\n",
       "      <td>4400000.0</td>\n",
       "      <td>36.00</td>\n",
       "      <td>2016-06-23T00:00:00</td>\n",
       "      <td>1</td>\n",
       "      <td>NaN</td>\n",
       "      <td>6.0</td>\n",
       "      <td>17.00</td>\n",
       "      <td>1</td>\n",
       "      <td>NaN</td>\n",
       "      <td>...</td>\n",
       "      <td>8.00</td>\n",
       "      <td>0.0</td>\n",
       "      <td>Пушкин</td>\n",
       "      <td>20782.0</td>\n",
       "      <td>30759.0</td>\n",
       "      <td>0.0</td>\n",
       "      <td>NaN</td>\n",
       "      <td>1.0</td>\n",
       "      <td>96.0</td>\n",
       "      <td>203.0</td>\n",
       "    </tr>\n",
       "    <tr>\n",
       "      <th>15</th>\n",
       "      <td>16</td>\n",
       "      <td>4650000.0</td>\n",
       "      <td>39.00</td>\n",
       "      <td>2017-11-18T00:00:00</td>\n",
       "      <td>1</td>\n",
       "      <td>NaN</td>\n",
       "      <td>14.0</td>\n",
       "      <td>20.50</td>\n",
       "      <td>5</td>\n",
       "      <td>NaN</td>\n",
       "      <td>...</td>\n",
       "      <td>7.60</td>\n",
       "      <td>1.0</td>\n",
       "      <td>Санкт-Петербург</td>\n",
       "      <td>12900.0</td>\n",
       "      <td>14259.0</td>\n",
       "      <td>1.0</td>\n",
       "      <td>590.0</td>\n",
       "      <td>1.0</td>\n",
       "      <td>296.0</td>\n",
       "      <td>19.0</td>\n",
       "    </tr>\n",
       "    <tr>\n",
       "      <th>16</th>\n",
       "      <td>11</td>\n",
       "      <td>6700000.0</td>\n",
       "      <td>82.00</td>\n",
       "      <td>2017-11-23T00:00:00</td>\n",
       "      <td>3</td>\n",
       "      <td>3.05</td>\n",
       "      <td>5.0</td>\n",
       "      <td>55.60</td>\n",
       "      <td>1</td>\n",
       "      <td>NaN</td>\n",
       "      <td>...</td>\n",
       "      <td>9.00</td>\n",
       "      <td>NaN</td>\n",
       "      <td>Санкт-Петербург</td>\n",
       "      <td>22108.0</td>\n",
       "      <td>10698.0</td>\n",
       "      <td>3.0</td>\n",
       "      <td>420.0</td>\n",
       "      <td>0.0</td>\n",
       "      <td>NaN</td>\n",
       "      <td>397.0</td>\n",
       "    </tr>\n",
       "    <tr>\n",
       "      <th>17</th>\n",
       "      <td>6</td>\n",
       "      <td>4180000.0</td>\n",
       "      <td>36.00</td>\n",
       "      <td>2016-09-09T00:00:00</td>\n",
       "      <td>1</td>\n",
       "      <td>NaN</td>\n",
       "      <td>17.0</td>\n",
       "      <td>16.50</td>\n",
       "      <td>7</td>\n",
       "      <td>NaN</td>\n",
       "      <td>...</td>\n",
       "      <td>11.00</td>\n",
       "      <td>1.0</td>\n",
       "      <td>Санкт-Петербург</td>\n",
       "      <td>33564.0</td>\n",
       "      <td>14616.0</td>\n",
       "      <td>0.0</td>\n",
       "      <td>NaN</td>\n",
       "      <td>1.0</td>\n",
       "      <td>859.0</td>\n",
       "      <td>571.0</td>\n",
       "    </tr>\n",
       "    <tr>\n",
       "      <th>18</th>\n",
       "      <td>8</td>\n",
       "      <td>3250000.0</td>\n",
       "      <td>31.00</td>\n",
       "      <td>2017-01-27T00:00:00</td>\n",
       "      <td>1</td>\n",
       "      <td>2.50</td>\n",
       "      <td>5.0</td>\n",
       "      <td>19.40</td>\n",
       "      <td>2</td>\n",
       "      <td>NaN</td>\n",
       "      <td>...</td>\n",
       "      <td>5.60</td>\n",
       "      <td>1.0</td>\n",
       "      <td>Санкт-Петербург</td>\n",
       "      <td>44060.0</td>\n",
       "      <td>10842.0</td>\n",
       "      <td>1.0</td>\n",
       "      <td>759.0</td>\n",
       "      <td>0.0</td>\n",
       "      <td>NaN</td>\n",
       "      <td>168.0</td>\n",
       "    </tr>\n",
       "    <tr>\n",
       "      <th>19</th>\n",
       "      <td>16</td>\n",
       "      <td>14200000.0</td>\n",
       "      <td>121.00</td>\n",
       "      <td>2019-01-09T00:00:00</td>\n",
       "      <td>3</td>\n",
       "      <td>2.75</td>\n",
       "      <td>16.0</td>\n",
       "      <td>76.00</td>\n",
       "      <td>8</td>\n",
       "      <td>NaN</td>\n",
       "      <td>...</td>\n",
       "      <td>12.00</td>\n",
       "      <td>NaN</td>\n",
       "      <td>Санкт-Петербург</td>\n",
       "      <td>38900.0</td>\n",
       "      <td>12843.0</td>\n",
       "      <td>0.0</td>\n",
       "      <td>NaN</td>\n",
       "      <td>0.0</td>\n",
       "      <td>NaN</td>\n",
       "      <td>97.0</td>\n",
       "    </tr>\n",
       "  </tbody>\n",
       "</table>\n",
       "<p>20 rows × 22 columns</p>\n",
       "</div>"
      ],
      "text/plain": [
       "    total_images  last_price  total_area first_day_exposition  rooms  \\\n",
       "0             20  13000000.0      108.00  2019-03-07T00:00:00      3   \n",
       "1              7   3350000.0       40.40  2018-12-04T00:00:00      1   \n",
       "2             10   5196000.0       56.00  2015-08-20T00:00:00      2   \n",
       "3              0  64900000.0      159.00  2015-07-24T00:00:00      3   \n",
       "4              2  10000000.0      100.00  2018-06-19T00:00:00      2   \n",
       "5             10   2890000.0       30.40  2018-09-10T00:00:00      1   \n",
       "6              6   3700000.0       37.30  2017-11-02T00:00:00      1   \n",
       "7              5   7915000.0       71.60  2019-04-18T00:00:00      2   \n",
       "8             20   2900000.0       33.16  2018-05-23T00:00:00      1   \n",
       "9             18   5400000.0       61.00  2017-02-26T00:00:00      3   \n",
       "10             5   5050000.0       39.60  2017-11-16T00:00:00      1   \n",
       "11             9   3300000.0       44.00  2018-08-27T00:00:00      2   \n",
       "12            10   3890000.0       54.00  2016-06-30T00:00:00      2   \n",
       "13            20   3550000.0       42.80  2017-07-01T00:00:00      2   \n",
       "14             1   4400000.0       36.00  2016-06-23T00:00:00      1   \n",
       "15            16   4650000.0       39.00  2017-11-18T00:00:00      1   \n",
       "16            11   6700000.0       82.00  2017-11-23T00:00:00      3   \n",
       "17             6   4180000.0       36.00  2016-09-09T00:00:00      1   \n",
       "18             8   3250000.0       31.00  2017-01-27T00:00:00      1   \n",
       "19            16  14200000.0      121.00  2019-01-09T00:00:00      3   \n",
       "\n",
       "    ceiling_height  floors_total  living_area  floor is_apartment  ...  \\\n",
       "0             2.70          16.0        51.00      8          NaN  ...   \n",
       "1              NaN          11.0        18.60      1          NaN  ...   \n",
       "2              NaN           5.0        34.30      4          NaN  ...   \n",
       "3              NaN          14.0          NaN      9          NaN  ...   \n",
       "4             3.03          14.0        32.00     13          NaN  ...   \n",
       "5              NaN          12.0        14.40      5          NaN  ...   \n",
       "6              NaN          26.0        10.60      6          NaN  ...   \n",
       "7              NaN          24.0          NaN     22          NaN  ...   \n",
       "8              NaN          27.0        15.43     26          NaN  ...   \n",
       "9             2.50           9.0        43.60      7          NaN  ...   \n",
       "10            2.67          12.0        20.30      3          NaN  ...   \n",
       "11             NaN           5.0        31.00      4        False  ...   \n",
       "12             NaN           5.0        30.00      5          NaN  ...   \n",
       "13            2.56           5.0        27.00      5          NaN  ...   \n",
       "14             NaN           6.0        17.00      1          NaN  ...   \n",
       "15             NaN          14.0        20.50      5          NaN  ...   \n",
       "16            3.05           5.0        55.60      1          NaN  ...   \n",
       "17             NaN          17.0        16.50      7          NaN  ...   \n",
       "18            2.50           5.0        19.40      2          NaN  ...   \n",
       "19            2.75          16.0        76.00      8          NaN  ...   \n",
       "\n",
       "    kitchen_area  balcony              locality_name  airports_nearest  \\\n",
       "0          25.00      NaN            Санкт-Петербург           18863.0   \n",
       "1          11.00      2.0             посёлок Шушары           12817.0   \n",
       "2           8.30      0.0            Санкт-Петербург           21741.0   \n",
       "3            NaN      0.0            Санкт-Петербург           28098.0   \n",
       "4          41.00      NaN            Санкт-Петербург           31856.0   \n",
       "5           9.10      NaN  городской посёлок Янино-1               NaN   \n",
       "6          14.40      1.0          посёлок Парголово           52996.0   \n",
       "7          18.90      2.0            Санкт-Петербург           23982.0   \n",
       "8           8.81      NaN             посёлок Мурино               NaN   \n",
       "9           6.50      2.0            Санкт-Петербург           50898.0   \n",
       "10          8.50      NaN            Санкт-Петербург           38357.0   \n",
       "11          6.00      1.0                  Ломоносов           48252.0   \n",
       "12          9.00      0.0                  Сертолово               NaN   \n",
       "13          5.20      1.0                   Петергоф           37868.0   \n",
       "14          8.00      0.0                     Пушкин           20782.0   \n",
       "15          7.60      1.0            Санкт-Петербург           12900.0   \n",
       "16          9.00      NaN            Санкт-Петербург           22108.0   \n",
       "17         11.00      1.0            Санкт-Петербург           33564.0   \n",
       "18          5.60      1.0            Санкт-Петербург           44060.0   \n",
       "19         12.00      NaN            Санкт-Петербург           38900.0   \n",
       "\n",
       "   cityCenters_nearest  parks_around3000  parks_nearest  ponds_around3000  \\\n",
       "0              16028.0               1.0          482.0               2.0   \n",
       "1              18603.0               0.0            NaN               0.0   \n",
       "2              13933.0               1.0           90.0               2.0   \n",
       "3               6800.0               2.0           84.0               3.0   \n",
       "4               8098.0               2.0          112.0               1.0   \n",
       "5                  NaN               NaN            NaN               NaN   \n",
       "6              19143.0               0.0            NaN               0.0   \n",
       "7              11634.0               0.0            NaN               0.0   \n",
       "8                  NaN               NaN            NaN               NaN   \n",
       "9              15008.0               0.0            NaN               0.0   \n",
       "10             13878.0               1.0          310.0               2.0   \n",
       "11             51677.0               0.0            NaN               0.0   \n",
       "12                 NaN               NaN            NaN               NaN   \n",
       "13             33058.0               1.0          294.0               3.0   \n",
       "14             30759.0               0.0            NaN               1.0   \n",
       "15             14259.0               1.0          590.0               1.0   \n",
       "16             10698.0               3.0          420.0               0.0   \n",
       "17             14616.0               0.0            NaN               1.0   \n",
       "18             10842.0               1.0          759.0               0.0   \n",
       "19             12843.0               0.0            NaN               0.0   \n",
       "\n",
       "    ponds_nearest  days_exposition  \n",
       "0           755.0              NaN  \n",
       "1             NaN             81.0  \n",
       "2           574.0            558.0  \n",
       "3           234.0            424.0  \n",
       "4            48.0            121.0  \n",
       "5             NaN             55.0  \n",
       "6             NaN            155.0  \n",
       "7             NaN              NaN  \n",
       "8             NaN            189.0  \n",
       "9             NaN            289.0  \n",
       "10          553.0            137.0  \n",
       "11            NaN              7.0  \n",
       "12            NaN             90.0  \n",
       "13          298.0            366.0  \n",
       "14           96.0            203.0  \n",
       "15          296.0             19.0  \n",
       "16            NaN            397.0  \n",
       "17          859.0            571.0  \n",
       "18            NaN            168.0  \n",
       "19            NaN             97.0  \n",
       "\n",
       "[20 rows x 22 columns]"
      ]
     },
     "metadata": {},
     "output_type": "display_data"
    }
   ],
   "source": [
    "data = pd.read_csv('/datasets/real_estate_data.csv', sep = '\\t')\n",
    "#посмотрим типы данных и кол-во ненулевых значений\n",
    "display(data.head(20))"
   ]
  },
  {
   "cell_type": "code",
   "execution_count": 4,
   "metadata": {
    "scrolled": true
   },
   "outputs": [
    {
     "name": "stdout",
     "output_type": "stream",
     "text": [
      "<class 'pandas.core.frame.DataFrame'>\n",
      "RangeIndex: 23699 entries, 0 to 23698\n",
      "Data columns (total 22 columns):\n",
      " #   Column                Non-Null Count  Dtype  \n",
      "---  ------                --------------  -----  \n",
      " 0   total_images          23699 non-null  int64  \n",
      " 1   last_price            23699 non-null  float64\n",
      " 2   total_area            23699 non-null  float64\n",
      " 3   first_day_exposition  23699 non-null  object \n",
      " 4   rooms                 23699 non-null  int64  \n",
      " 5   ceiling_height        14504 non-null  float64\n",
      " 6   floors_total          23613 non-null  float64\n",
      " 7   living_area           21796 non-null  float64\n",
      " 8   floor                 23699 non-null  int64  \n",
      " 9   is_apartment          2775 non-null   object \n",
      " 10  studio                23699 non-null  bool   \n",
      " 11  open_plan             23699 non-null  bool   \n",
      " 12  kitchen_area          21421 non-null  float64\n",
      " 13  balcony               12180 non-null  float64\n",
      " 14  locality_name         23650 non-null  object \n",
      " 15  airports_nearest      18157 non-null  float64\n",
      " 16  cityCenters_nearest   18180 non-null  float64\n",
      " 17  parks_around3000      18181 non-null  float64\n",
      " 18  parks_nearest         8079 non-null   float64\n",
      " 19  ponds_around3000      18181 non-null  float64\n",
      " 20  ponds_nearest         9110 non-null   float64\n",
      " 21  days_exposition       20518 non-null  float64\n",
      "dtypes: bool(2), float64(14), int64(3), object(3)\n",
      "memory usage: 3.7+ MB\n"
     ]
    }
   ],
   "source": [
    "#Выведу  основную информацию о датафрейме\n",
    "data.info()"
   ]
  },
  {
   "cell_type": "markdown",
   "metadata": {},
   "source": [
    "<div style=\"border:solid blue 3px; padding: 20px\">\n",
    "<div class=\"alert alert-info\">\n",
    "<h1> Выводы </h1>\n",
    "\n",
    "    \n",
    "Мы видим очень много NaN в таблице.  \n",
    "    \n",
    "first_day_exposition - object - должен быть тип datetime  \n",
    "ceiling_height - нулевые значения  \n",
    "floors_total - должен быть тип int, т.к. количество этажей - целое значение + нулевые значения  \n",
    "is_apartment - должен быть тип bool + нулевые значения   \n",
    "living_area - нулевые значения  \n",
    "kitchen_area - нулевые значения  \n",
    "balcony - нулевые значения  \n",
    "locality_name - нулевые значения  \n",
    "airports_nearest - нулевые значения  \n",
    "cityCenters_nearest - нулевые значения  \n",
    "parks_around3000 - тип должен быть int + нулевые значения  \n",
    "parks_nearest - нулевые значения  \n",
    "ponds_around3000 - тип должен быть int + нулевые значения  \n",
    "ponds_nearest - нулевые значения  \n",
    "days_exposition - тип должен быть int + нулевые значения  \n",
    "    \n",
    "</div>\n",
    "</div>"
   ]
  },
  {
   "cell_type": "code",
   "execution_count": 5,
   "metadata": {},
   "outputs": [
    {
     "data": {
      "text/plain": [
       "array([[<AxesSubplot:title={'center':'total_images'}>,\n",
       "        <AxesSubplot:title={'center':'last_price'}>,\n",
       "        <AxesSubplot:title={'center':'total_area'}>,\n",
       "        <AxesSubplot:title={'center':'rooms'}>],\n",
       "       [<AxesSubplot:title={'center':'ceiling_height'}>,\n",
       "        <AxesSubplot:title={'center':'floors_total'}>,\n",
       "        <AxesSubplot:title={'center':'living_area'}>,\n",
       "        <AxesSubplot:title={'center':'floor'}>],\n",
       "       [<AxesSubplot:title={'center':'kitchen_area'}>,\n",
       "        <AxesSubplot:title={'center':'balcony'}>,\n",
       "        <AxesSubplot:title={'center':'airports_nearest'}>,\n",
       "        <AxesSubplot:title={'center':'cityCenters_nearest'}>],\n",
       "       [<AxesSubplot:title={'center':'parks_around3000'}>,\n",
       "        <AxesSubplot:title={'center':'parks_nearest'}>,\n",
       "        <AxesSubplot:title={'center':'ponds_around3000'}>,\n",
       "        <AxesSubplot:title={'center':'ponds_nearest'}>],\n",
       "       [<AxesSubplot:title={'center':'days_exposition'}>, <AxesSubplot:>,\n",
       "        <AxesSubplot:>, <AxesSubplot:>]], dtype=object)"
      ]
     },
     "execution_count": 5,
     "metadata": {},
     "output_type": "execute_result"
    },
    {
     "data": {
      "image/png": "[encoded data removed]",
      "text/plain": [
       "<Figure size 1080x1440 with 20 Axes>"
      ]
     },
     "metadata": {
      "needs_background": "light"
     },
     "output_type": "display_data"
    }
   ],
   "source": [
    "data.hist(figsize=(15, 20))"
   ]
  },
  {
   "cell_type": "markdown",
   "metadata": {},
   "source": [
    "<div class=\"alert alert-success\">\n",
    "<b>Комментарий ревьюера: ✅</b>\n",
    "\n",
    "Классный способ визуализировать распределения сразу для всех столбцов 👍  \n",
    "    \n",
    "    \n",
    "</div>"
   ]
  },
  {
   "cell_type": "markdown",
   "metadata": {},
   "source": [
    "### Предобработка данных"
   ]
  },
  {
   "cell_type": "code",
   "execution_count": 6,
   "metadata": {},
   "outputs": [
    {
     "data": {
      "text/plain": [
       "total_images                0\n",
       "last_price                  0\n",
       "total_area                  0\n",
       "first_day_exposition        0\n",
       "rooms                       0\n",
       "ceiling_height           9195\n",
       "floors_total               86\n",
       "living_area              1903\n",
       "floor                       0\n",
       "is_apartment            20924\n",
       "studio                      0\n",
       "open_plan                   0\n",
       "kitchen_area             2278\n",
       "balcony                 11519\n",
       "locality_name              49\n",
       "airports_nearest         5542\n",
       "cityCenters_nearest      5519\n",
       "parks_around3000         5518\n",
       "parks_nearest           15620\n",
       "ponds_around3000         5518\n",
       "ponds_nearest           14589\n",
       "days_exposition          3181\n",
       "dtype: int64"
      ]
     },
     "execution_count": 6,
     "metadata": {},
     "output_type": "execute_result"
    }
   ],
   "source": [
    "#проверка пропусков\n",
    "data.isna().sum()"
   ]
  },
  {
   "cell_type": "code",
   "execution_count": 1,
   "metadata": {},
   "outputs": [
    {
     "ename": "NameError",
     "evalue": "name 'data' is not defined",
     "output_type": "error",
     "traceback": [
      "\u001b[0;31m---------------------------------------------------------------------------\u001b[0m",
      "\u001b[0;31mNameError\u001b[0m                                 Traceback (most recent call last)",
      "\u001b[0;32m/var/folders/d4/xypmpbyj4g73rn71ls41nvb80000gn/T/ipykernel_6471/2779219501.py\u001b[0m in \u001b[0;36m<module>\u001b[0;34m\u001b[0m\n\u001b[1;32m      1\u001b[0m \u001b[0;31m#проверка доли пропусков по столбцам\u001b[0m\u001b[0;34m\u001b[0m\u001b[0;34m\u001b[0m\u001b[0m\n\u001b[0;32m----> 2\u001b[0;31m \u001b[0mdata\u001b[0m\u001b[0;34m.\u001b[0m\u001b[0misna\u001b[0m\u001b[0;34m(\u001b[0m\u001b[0;34m)\u001b[0m\u001b[0;34m.\u001b[0m\u001b[0msum\u001b[0m\u001b[0;34m(\u001b[0m\u001b[0;34m)\u001b[0m \u001b[0;34m/\u001b[0m \u001b[0mdata\u001b[0m\u001b[0;34m.\u001b[0m\u001b[0mshape\u001b[0m\u001b[0;34m[\u001b[0m\u001b[0;36m0\u001b[0m\u001b[0;34m]\u001b[0m\u001b[0;34m\u001b[0m\u001b[0;34m\u001b[0m\u001b[0m\n\u001b[0m",
      "\u001b[0;31mNameError\u001b[0m: name 'data' is not defined"
     ]
    }
   ],
   "source": [
    "#проверка доли пропусков по столбцам\n",
    "data.isna().sum() / data.shape[0]"
   ]
  },
  {
   "cell_type": "code",
   "execution_count": 8,
   "metadata": {},
   "outputs": [
    {
     "data": {
      "text/html": [
       "<div>\n",
       "<style scoped>\n",
       "    .dataframe tbody tr th:only-of-type {\n",
       "        vertical-align: middle;\n",
       "    }\n",
       "\n",
       "    .dataframe tbody tr th {\n",
       "        vertical-align: top;\n",
       "    }\n",
       "\n",
       "    .dataframe thead th {\n",
       "        text-align: right;\n",
       "    }\n",
       "</style>\n",
       "<table border=\"1\" class=\"dataframe\">\n",
       "  <thead>\n",
       "    <tr style=\"text-align: right;\">\n",
       "      <th></th>\n",
       "      <th>total_images</th>\n",
       "      <th>last_price</th>\n",
       "      <th>total_area</th>\n",
       "      <th>rooms</th>\n",
       "      <th>ceiling_height</th>\n",
       "      <th>floors_total</th>\n",
       "      <th>living_area</th>\n",
       "      <th>floor</th>\n",
       "      <th>kitchen_area</th>\n",
       "      <th>balcony</th>\n",
       "      <th>airports_nearest</th>\n",
       "      <th>cityCenters_nearest</th>\n",
       "      <th>parks_around3000</th>\n",
       "      <th>parks_nearest</th>\n",
       "      <th>ponds_around3000</th>\n",
       "      <th>ponds_nearest</th>\n",
       "      <th>days_exposition</th>\n",
       "    </tr>\n",
       "  </thead>\n",
       "  <tbody>\n",
       "    <tr>\n",
       "      <th>count</th>\n",
       "      <td>23699.000000</td>\n",
       "      <td>2.369900e+04</td>\n",
       "      <td>23699.000000</td>\n",
       "      <td>23699.000000</td>\n",
       "      <td>14504.000000</td>\n",
       "      <td>23613.000000</td>\n",
       "      <td>21796.000000</td>\n",
       "      <td>23699.000000</td>\n",
       "      <td>21421.000000</td>\n",
       "      <td>12180.000000</td>\n",
       "      <td>18157.000000</td>\n",
       "      <td>18180.000000</td>\n",
       "      <td>18181.000000</td>\n",
       "      <td>8079.000000</td>\n",
       "      <td>18181.000000</td>\n",
       "      <td>9110.000000</td>\n",
       "      <td>20518.000000</td>\n",
       "    </tr>\n",
       "    <tr>\n",
       "      <th>mean</th>\n",
       "      <td>9.858475</td>\n",
       "      <td>6.541549e+06</td>\n",
       "      <td>60.348651</td>\n",
       "      <td>2.070636</td>\n",
       "      <td>2.771499</td>\n",
       "      <td>10.673824</td>\n",
       "      <td>34.457852</td>\n",
       "      <td>5.892358</td>\n",
       "      <td>10.569807</td>\n",
       "      <td>1.150082</td>\n",
       "      <td>28793.672193</td>\n",
       "      <td>14191.277833</td>\n",
       "      <td>0.611408</td>\n",
       "      <td>490.804555</td>\n",
       "      <td>0.770255</td>\n",
       "      <td>517.980900</td>\n",
       "      <td>180.888634</td>\n",
       "    </tr>\n",
       "    <tr>\n",
       "      <th>std</th>\n",
       "      <td>5.682529</td>\n",
       "      <td>1.088701e+07</td>\n",
       "      <td>35.654083</td>\n",
       "      <td>1.078405</td>\n",
       "      <td>1.261056</td>\n",
       "      <td>6.597173</td>\n",
       "      <td>22.030445</td>\n",
       "      <td>4.885249</td>\n",
       "      <td>5.905438</td>\n",
       "      <td>1.071300</td>\n",
       "      <td>12630.880622</td>\n",
       "      <td>8608.386210</td>\n",
       "      <td>0.802074</td>\n",
       "      <td>342.317995</td>\n",
       "      <td>0.938346</td>\n",
       "      <td>277.720643</td>\n",
       "      <td>219.727988</td>\n",
       "    </tr>\n",
       "    <tr>\n",
       "      <th>min</th>\n",
       "      <td>0.000000</td>\n",
       "      <td>1.219000e+04</td>\n",
       "      <td>12.000000</td>\n",
       "      <td>0.000000</td>\n",
       "      <td>1.000000</td>\n",
       "      <td>1.000000</td>\n",
       "      <td>2.000000</td>\n",
       "      <td>1.000000</td>\n",
       "      <td>1.300000</td>\n",
       "      <td>0.000000</td>\n",
       "      <td>0.000000</td>\n",
       "      <td>181.000000</td>\n",
       "      <td>0.000000</td>\n",
       "      <td>1.000000</td>\n",
       "      <td>0.000000</td>\n",
       "      <td>13.000000</td>\n",
       "      <td>1.000000</td>\n",
       "    </tr>\n",
       "    <tr>\n",
       "      <th>25%</th>\n",
       "      <td>6.000000</td>\n",
       "      <td>3.400000e+06</td>\n",
       "      <td>40.000000</td>\n",
       "      <td>1.000000</td>\n",
       "      <td>2.520000</td>\n",
       "      <td>5.000000</td>\n",
       "      <td>18.600000</td>\n",
       "      <td>2.000000</td>\n",
       "      <td>7.000000</td>\n",
       "      <td>0.000000</td>\n",
       "      <td>18585.000000</td>\n",
       "      <td>9238.000000</td>\n",
       "      <td>0.000000</td>\n",
       "      <td>288.000000</td>\n",
       "      <td>0.000000</td>\n",
       "      <td>294.000000</td>\n",
       "      <td>45.000000</td>\n",
       "    </tr>\n",
       "    <tr>\n",
       "      <th>50%</th>\n",
       "      <td>9.000000</td>\n",
       "      <td>4.650000e+06</td>\n",
       "      <td>52.000000</td>\n",
       "      <td>2.000000</td>\n",
       "      <td>2.650000</td>\n",
       "      <td>9.000000</td>\n",
       "      <td>30.000000</td>\n",
       "      <td>4.000000</td>\n",
       "      <td>9.100000</td>\n",
       "      <td>1.000000</td>\n",
       "      <td>26726.000000</td>\n",
       "      <td>13098.500000</td>\n",
       "      <td>0.000000</td>\n",
       "      <td>455.000000</td>\n",
       "      <td>1.000000</td>\n",
       "      <td>502.000000</td>\n",
       "      <td>95.000000</td>\n",
       "    </tr>\n",
       "    <tr>\n",
       "      <th>75%</th>\n",
       "      <td>14.000000</td>\n",
       "      <td>6.800000e+06</td>\n",
       "      <td>69.900000</td>\n",
       "      <td>3.000000</td>\n",
       "      <td>2.800000</td>\n",
       "      <td>16.000000</td>\n",
       "      <td>42.300000</td>\n",
       "      <td>8.000000</td>\n",
       "      <td>12.000000</td>\n",
       "      <td>2.000000</td>\n",
       "      <td>37273.000000</td>\n",
       "      <td>16293.000000</td>\n",
       "      <td>1.000000</td>\n",
       "      <td>612.000000</td>\n",
       "      <td>1.000000</td>\n",
       "      <td>729.000000</td>\n",
       "      <td>232.000000</td>\n",
       "    </tr>\n",
       "    <tr>\n",
       "      <th>max</th>\n",
       "      <td>50.000000</td>\n",
       "      <td>7.630000e+08</td>\n",
       "      <td>900.000000</td>\n",
       "      <td>19.000000</td>\n",
       "      <td>100.000000</td>\n",
       "      <td>60.000000</td>\n",
       "      <td>409.700000</td>\n",
       "      <td>33.000000</td>\n",
       "      <td>112.000000</td>\n",
       "      <td>5.000000</td>\n",
       "      <td>84869.000000</td>\n",
       "      <td>65968.000000</td>\n",
       "      <td>3.000000</td>\n",
       "      <td>3190.000000</td>\n",
       "      <td>3.000000</td>\n",
       "      <td>1344.000000</td>\n",
       "      <td>1580.000000</td>\n",
       "    </tr>\n",
       "  </tbody>\n",
       "</table>\n",
       "</div>"
      ],
      "text/plain": [
       "       total_images    last_price    total_area         rooms  ceiling_height  \\\n",
       "count  23699.000000  2.369900e+04  23699.000000  23699.000000    14504.000000   \n",
       "mean       9.858475  6.541549e+06     60.348651      2.070636        2.771499   \n",
       "std        5.682529  1.088701e+07     35.654083      1.078405        1.261056   \n",
       "min        0.000000  1.219000e+04     12.000000      0.000000        1.000000   \n",
       "25%        6.000000  3.400000e+06     40.000000      1.000000        2.520000   \n",
       "50%        9.000000  4.650000e+06     52.000000      2.000000        2.650000   \n",
       "75%       14.000000  6.800000e+06     69.900000      3.000000        2.800000   \n",
       "max       50.000000  7.630000e+08    900.000000     19.000000      100.000000   \n",
       "\n",
       "       floors_total   living_area         floor  kitchen_area       balcony  \\\n",
       "count  23613.000000  21796.000000  23699.000000  21421.000000  12180.000000   \n",
       "mean      10.673824     34.457852      5.892358     10.569807      1.150082   \n",
       "std        6.597173     22.030445      4.885249      5.905438      1.071300   \n",
       "min        1.000000      2.000000      1.000000      1.300000      0.000000   \n",
       "25%        5.000000     18.600000      2.000000      7.000000      0.000000   \n",
       "50%        9.000000     30.000000      4.000000      9.100000      1.000000   \n",
       "75%       16.000000     42.300000      8.000000     12.000000      2.000000   \n",
       "max       60.000000    409.700000     33.000000    112.000000      5.000000   \n",
       "\n",
       "       airports_nearest  cityCenters_nearest  parks_around3000  parks_nearest  \\\n",
       "count      18157.000000         18180.000000      18181.000000    8079.000000   \n",
       "mean       28793.672193         14191.277833          0.611408     490.804555   \n",
       "std        12630.880622          8608.386210          0.802074     342.317995   \n",
       "min            0.000000           181.000000          0.000000       1.000000   \n",
       "25%        18585.000000          9238.000000          0.000000     288.000000   \n",
       "50%        26726.000000         13098.500000          0.000000     455.000000   \n",
       "75%        37273.000000         16293.000000          1.000000     612.000000   \n",
       "max        84869.000000         65968.000000          3.000000    3190.000000   \n",
       "\n",
       "       ponds_around3000  ponds_nearest  days_exposition  \n",
       "count      18181.000000    9110.000000     20518.000000  \n",
       "mean           0.770255     517.980900       180.888634  \n",
       "std            0.938346     277.720643       219.727988  \n",
       "min            0.000000      13.000000         1.000000  \n",
       "25%            0.000000     294.000000        45.000000  \n",
       "50%            1.000000     502.000000        95.000000  \n",
       "75%            1.000000     729.000000       232.000000  \n",
       "max            3.000000    1344.000000      1580.000000  "
      ]
     },
     "execution_count": 8,
     "metadata": {},
     "output_type": "execute_result"
    }
   ],
   "source": [
    "data.describe()"
   ]
  },
  {
   "cell_type": "markdown",
   "metadata": {},
   "source": [
    "Даннные однозначно нужно причестать, есть 100метровые потолки и 19комнатные квартиры. Пойдём по порядку."
   ]
  },
  {
   "cell_type": "code",
   "execution_count": 9,
   "metadata": {
    "scrolled": true
   },
   "outputs": [],
   "source": [
    "#заменим пропуски на медианные значения\n",
    "data['ceiling_height'] = data['ceiling_height'].median()\n",
    "\n",
    "#столбец апартаменты видимо появился не вместе с началом ведения записей, все пропущенные значения заменим на False, \n",
    "#апартаменты появились относительно недавно\n",
    "data['is_apartment'] = data['is_apartment'].fillna(False)\n",
    "\n",
    "#заменим пропуски на 0\n",
    "data['balcony'] = data['balcony'].fillna(0).astype('int')\n",
    "\n",
    "#заменим пропуски на пустое значение\n",
    "data['locality_name'].fillna(value='') \n",
    "\n",
    "data['days_exposition'] = data['days_exposition'].fillna(0).astype('int')\n",
    "\n",
    "# Приводим в целочисленный тип количество парков. Заменяем пропущенные значения на 0\n",
    "data['parks_around3000'] = data['parks_around3000'].fillna(value=0).astype('int')\n",
    "\n",
    "# Приводим в целочисленный тип количество прудов. Заменяем пропущенные значения на 0\n",
    "data['ponds_around3000'] = data['ponds_around3000'].fillna(value=0).astype('int')\n"
   ]
  },
  {
   "cell_type": "markdown",
   "metadata": {},
   "source": [
    "parks_around3000, ponds_around3000 и с parks_nearest и ponds_nearest - данные просто не были заполнены. Пропуски в них не трогаем\n",
    "airports_nearest, cityCenters_nearest: данные рассчитывала система, вероятно в определенном радиусе нет аэропортов, а рассстояние до центра мы вычислим\n",
    "kitchen_area, living_area данные могут быть не заполнены, по причине не обязательного их заполнения и плюс могут быть квартиры студии, где нет чёткого разделения"
   ]
  },
  {
   "cell_type": "code",
   "execution_count": 10,
   "metadata": {},
   "outputs": [
    {
     "data": {
      "text/plain": [
       "total_images                0\n",
       "last_price                  0\n",
       "total_area                  0\n",
       "first_day_exposition        0\n",
       "rooms                       0\n",
       "ceiling_height              0\n",
       "floors_total               86\n",
       "living_area              1903\n",
       "floor                       0\n",
       "is_apartment                0\n",
       "studio                      0\n",
       "open_plan                   0\n",
       "kitchen_area             2278\n",
       "balcony                     0\n",
       "locality_name              49\n",
       "airports_nearest         5542\n",
       "cityCenters_nearest      5519\n",
       "parks_around3000            0\n",
       "parks_nearest           15620\n",
       "ponds_around3000            0\n",
       "ponds_nearest           14589\n",
       "days_exposition             0\n",
       "dtype: int64"
      ]
     },
     "execution_count": 10,
     "metadata": {},
     "output_type": "execute_result"
    }
   ],
   "source": [
    "#проверка пропусков\n",
    "data.isna().sum()"
   ]
  },
  {
   "cell_type": "code",
   "execution_count": 11,
   "metadata": {
    "scrolled": true
   },
   "outputs": [
    {
     "data": {
      "text/plain": [
       "count    21796.000000\n",
       "mean        34.457878\n",
       "std         22.030420\n",
       "min          2.000000\n",
       "25%         18.600000\n",
       "50%         30.000000\n",
       "75%         42.300000\n",
       "max        409.700000\n",
       "Name: living_area, dtype: float64"
      ]
     },
     "execution_count": 11,
     "metadata": {},
     "output_type": "execute_result"
    },
    {
     "data": {
      "image/png": "[encoded data removed]",
      "text/plain": [
       "<Figure size 432x288 with 1 Axes>"
      ]
     },
     "metadata": {
      "needs_background": "light"
     },
     "output_type": "display_data"
    }
   ],
   "source": [
    "#переведем столбец с датой в формат даты без времени, т.к. время не указано\n",
    "data['first_day_exposition'] = pd.to_datetime(data['first_day_exposition'], format = '%Y-%m-%d')\n",
    "\n",
    "#посмотрим параметр ceiling_height, видим что есть необоснованно большие значения\n",
    "#медиана от среднего отличается не сильно из-за этих выбросов во всей выборке\n",
    "data['ceiling_height'].sort_values().plot(y = 'ceiling_height', kind = 'hist', bins = 30, range=(2,5))\n",
    "data['ceiling_height'].value_counts()\n",
    "data['ceiling_height'].describe()\n",
    "data[data['ceiling_height'] > 4].sort_values('ceiling_height').tail(20)\n",
    "\n",
    "#изменим столбцы на тип int для удобства просмотра\n",
    "data['last_price'] = data['last_price'].astype('int')\n",
    "\n",
    "data['floors_total'] = data['floors_total'].fillna(0).astype('int')\n",
    "\n",
    "data['airports_nearest'] = data['airports_nearest'].fillna(0).astype('int')\n",
    "\n",
    "data['cityCenters_nearest'] = data['cityCenters_nearest'].fillna(0).astype('int')\n",
    "\n",
    "data['parks_nearest'] = data['parks_nearest'].fillna(0).astype('int')\n",
    "\n",
    "data['ponds_nearest'] = data['ponds_nearest'].fillna(0).astype('int')\n",
    "\n",
    "data['total_area'] = data['total_area'].fillna(0).astype('int')\n",
    "\n",
    "#округляем значения после запятой до 1 знака\n",
    "data['total_area'] = data[data['total_area'].notnull()]['total_area'].round(1)\n",
    "\n",
    "data['ceiling_height'] = data[data['ceiling_height'].notnull()]['ceiling_height'].round(1)\n",
    "\n",
    "data['living_area'] = data[data['living_area'].notnull()]['living_area'].round(1)\n",
    "\n",
    "data['kitchen_area'] = data[data['kitchen_area'].notnull()]['kitchen_area'].round(1)\n",
    "\n",
    "#living_area слишком много знаков после запятой и есть пропущенные значения\n",
    "data['living_area'].value_counts()\n",
    "data['living_area'].describe()"
   ]
  },
  {
   "cell_type": "code",
   "execution_count": 14,
   "metadata": {},
   "outputs": [
    {
     "data": {
      "text/plain": [
       "0        16.0\n",
       "1        18.6\n",
       "2        13.9\n",
       "3         6.8\n",
       "4         8.1\n",
       "         ... \n",
       "23694     4.2\n",
       "23695     0.0\n",
       "23696     0.0\n",
       "23697    10.4\n",
       "23698     0.0\n",
       "Name: cityCenters_nearest, Length: 23699, dtype: float64"
      ]
     },
     "execution_count": 14,
     "metadata": {},
     "output_type": "execute_result"
    }
   ],
   "source": [
    "data['cityCenters_nearest']"
   ]
  },
  {
   "cell_type": "code",
   "execution_count": 15,
   "metadata": {},
   "outputs": [
    {
     "name": "stdout",
     "output_type": "stream",
     "text": [
      "['Санкт-Петербург' 'посёлок Шушары' 'городской посёлок Янино-1'\n",
      " 'посёлок Парголово' 'посёлок Мурино' 'Ломоносов' 'Сертолово' 'Петергоф'\n",
      " 'Пушкин' 'деревня Кудрово' 'Коммунар' 'Колпино'\n",
      " 'поселок городского типа Красный Бор' 'Гатчина' 'поселок Мурино'\n",
      " 'деревня Фёдоровское' 'Выборг' 'Кронштадт' 'Кировск'\n",
      " 'деревня Новое Девяткино' 'посёлок Металлострой'\n",
      " 'посёлок городского типа Лебяжье' 'посёлок городского типа Сиверский'\n",
      " 'поселок Молодцово' 'поселок городского типа Кузьмоловский'\n",
      " 'садовое товарищество Новая Ропша' 'Павловск' 'деревня Пикколово'\n",
      " 'Всеволожск' 'Волхов' 'Кингисепп' 'Приозерск' 'Сестрорецк'\n",
      " 'деревня Куттузи' 'посёлок Аннино' 'поселок городского типа Ефимовский'\n",
      " 'посёлок Плодовое' 'деревня Заклинье' 'поселок Торковичи'\n",
      " 'поселок Первомайское' 'Красное Село' 'посёлок Понтонный' 'Сясьстрой'\n",
      " 'деревня Старая' 'деревня Лесколово' 'посёлок Новый Свет' 'Сланцы'\n",
      " 'село Путилово' 'Ивангород' 'Мурино' 'Шлиссельбург' 'Никольское'\n",
      " 'Зеленогорск' 'Сосновый Бор' 'поселок Новый Свет' 'деревня Оржицы'\n",
      " 'деревня Кальтино' 'Кудрово' 'поселок Романовка' 'посёлок Бугры'\n",
      " 'поселок Бугры' 'поселок городского типа Рощино' 'Кириши' 'Луга'\n",
      " 'Волосово' 'Отрадное' 'село Павлово' 'поселок Оредеж' 'село Копорье'\n",
      " 'посёлок городского типа Красный Бор' 'посёлок Молодёжное' 'Тихвин'\n",
      " 'посёлок Победа' 'деревня Нурма' 'поселок городского типа Синявино'\n",
      " 'Тосно' 'посёлок городского типа Кузьмоловский' 'посёлок Стрельна'\n",
      " 'Бокситогорск' 'посёлок Александровская' 'деревня Лопухинка' 'Пикалёво'\n",
      " 'поселок Терволово' 'поселок городского типа Советский' 'Подпорожье'\n",
      " 'посёлок Петровское' 'посёлок городского типа Токсово' 'поселок Сельцо'\n",
      " 'посёлок городского типа Вырица' 'деревня Кипень' 'деревня Келози'\n",
      " 'деревня Вартемяги' 'посёлок Тельмана' 'поселок Севастьяново'\n",
      " 'городской поселок Большая Ижора' nan 'городской посёлок Павлово'\n",
      " 'деревня Агалатово' 'посёлок Новогорелово'\n",
      " 'городской посёлок Лесогорский' 'деревня Лаголово' 'поселок Цвелодубово'\n",
      " 'поселок городского типа Рахья' 'поселок городского типа Вырица'\n",
      " 'деревня Белогорка' 'поселок Заводской' 'городской посёлок Новоселье'\n",
      " 'деревня Большие Колпаны' 'деревня Горбунки' 'деревня Батово'\n",
      " 'деревня Заневка' 'деревня Иссад' 'Приморск'\n",
      " 'городской посёлок Фёдоровское' 'деревня Мистолово' 'Новая Ладога'\n",
      " 'поселок Зимитицы' 'поселок Барышево' 'деревня Разметелево'\n",
      " 'поселок городского типа имени Свердлова' 'деревня Пеники'\n",
      " 'поселок Рябово' 'деревня Пудомяги' 'поселок станции Корнево'\n",
      " 'деревня Низино' 'деревня Бегуницы' 'посёлок Поляны'\n",
      " 'городской посёлок Мга' 'поселок Елизаветино'\n",
      " 'посёлок городского типа Кузнечное' 'деревня Колтуши'\n",
      " 'поселок Запорожское' 'посёлок городского типа Рощино'\n",
      " 'деревня Гостилицы' 'деревня Малое Карлино' 'посёлок Мичуринское'\n",
      " 'посёлок городского типа имени Морозова' 'посёлок Песочный'\n",
      " 'посёлок Сосново' 'деревня Аро' 'поселок Ильичёво'\n",
      " 'посёлок городского типа Тайцы' 'деревня Малое Верево' 'деревня Извара'\n",
      " 'поселок станции Вещево' 'село Паша' 'деревня Калитино'\n",
      " 'посёлок городского типа Ульяновка' 'деревня Чудской Бор'\n",
      " 'поселок городского типа Дубровка' 'деревня Мины' 'поселок Войсковицы'\n",
      " 'посёлок городского типа имени Свердлова' 'деревня Коркино'\n",
      " 'посёлок Ропша' 'поселок городского типа Приладожский' 'посёлок Щеглово'\n",
      " 'посёлок Гаврилово' 'Лодейное Поле' 'деревня Рабитицы'\n",
      " 'поселок городского типа Никольский' 'деревня Кузьмолово'\n",
      " 'деревня Малые Колпаны' 'поселок Тельмана' 'посёлок Петро-Славянка'\n",
      " 'городской посёлок Назия' 'посёлок Репино' 'посёлок Ильичёво'\n",
      " 'поселок Углово' 'поселок Старая Малукса' 'садовое товарищество Рахья'\n",
      " 'поселок Аннино' 'поселок Победа' 'деревня Меньково'\n",
      " 'деревня Старые Бегуницы' 'посёлок Сапёрный' 'поселок Семрино'\n",
      " 'поселок Гаврилово' 'поселок Глажево' 'поселок Кобринское'\n",
      " 'деревня Гарболово' 'деревня Юкки' 'поселок станции Приветнинское'\n",
      " 'деревня Мануйлово' 'деревня Пчева' 'поселок Поляны' 'поселок Цвылёво'\n",
      " 'поселок Мельниково' 'посёлок Пудость' 'посёлок Усть-Луга' 'Светогорск'\n",
      " 'Любань' 'поселок Селезнёво' 'поселок городского типа Рябово'\n",
      " 'Каменногорск' 'деревня Кривко' 'поселок Глебычево' 'деревня Парицы'\n",
      " 'поселок Жилпосёлок' 'посёлок городского типа Мга'\n",
      " 'городской поселок Янино-1' 'посёлок Войскорово' 'село Никольское'\n",
      " 'посёлок Терволово' 'поселок Стеклянный' 'посёлок городского типа Важины'\n",
      " 'посёлок Мыза-Ивановка' 'село Русско-Высоцкое'\n",
      " 'поселок городского типа Лебяжье' 'поселок городского типа Форносово'\n",
      " 'село Старая Ладога' 'поселок Житково' 'городской посёлок Виллози'\n",
      " 'деревня Лампово' 'деревня Шпаньково' 'деревня Лаврики' 'посёлок Сумино'\n",
      " 'посёлок Возрождение' 'деревня Старосиверская' 'посёлок Кикерино'\n",
      " 'поселок Возрождение' 'деревня Старое Хинколово' 'посёлок Пригородный'\n",
      " 'посёлок Торфяное' 'городской посёлок Будогощь' 'поселок Суходолье'\n",
      " 'поселок Красная Долина' 'деревня Хапо-Ое'\n",
      " 'поселок городского типа Дружная Горка' 'поселок Лисий Нос'\n",
      " 'деревня Яльгелево' 'посёлок Стеклянный' 'село Рождествено'\n",
      " 'деревня Старополье' 'посёлок Левашово' 'деревня Сяськелево'\n",
      " 'деревня Камышовка'\n",
      " 'садоводческое некоммерческое товарищество Лесная Поляна'\n",
      " 'деревня Хязельки' 'поселок Жилгородок' 'посёлок городского типа Павлово'\n",
      " 'деревня Ялгино' 'поселок Новый Учхоз' 'городской посёлок Рощино'\n",
      " 'поселок Гончарово' 'поселок Почап' 'посёлок Сапёрное'\n",
      " 'посёлок Платформа 69-й километр' 'поселок Каложицы' 'деревня Фалилеево'\n",
      " 'деревня Пельгора' 'поселок городского типа Лесогорский'\n",
      " 'деревня Торошковичи' 'посёлок Белоостров' 'посёлок Алексеевка'\n",
      " 'поселок Серебрянский' 'поселок Лукаши' 'поселок Петровское'\n",
      " 'деревня Щеглово' 'поселок Мичуринское' 'деревня Тарасово'\n",
      " 'поселок Кингисеппский' 'посёлок при железнодорожной станции Вещево'\n",
      " 'поселок Ушаки' 'деревня Котлы' 'деревня Сижно' 'деревня Торосово'\n",
      " 'посёлок Форт Красная Горка' 'поселок городского типа Токсово'\n",
      " 'деревня Новолисино' 'посёлок станции Громово' 'деревня Глинка'\n",
      " 'посёлок Мельниково' 'поселок городского типа Назия'\n",
      " 'деревня Старая Пустошь' 'поселок Коммунары' 'поселок Починок'\n",
      " 'посёлок городского типа Вознесенье' 'деревня Разбегаево'\n",
      " 'посёлок городского типа Рябово' 'поселок Гладкое'\n",
      " 'посёлок при железнодорожной станции Приветнинское' 'поселок Тёсово-4'\n",
      " 'посёлок Жилгородок' 'деревня Бор' 'посёлок Коробицыно'\n",
      " 'деревня Большая Вруда' 'деревня Курковицы' 'посёлок Лисий Нос'\n",
      " 'городской посёлок Советский' 'посёлок Кобралово' 'деревня Суоранда'\n",
      " 'поселок Кобралово' 'поселок городского типа Кондратьево'\n",
      " 'коттеджный поселок Счастье' 'поселок Любань' 'деревня Реброво'\n",
      " 'деревня Зимитицы' 'деревня Тойворово' 'поселок Семиозерье'\n",
      " 'поселок Лесное' 'поселок Совхозный' 'поселок Усть-Луга'\n",
      " 'посёлок Ленинское' 'посёлок Суйда' 'посёлок городского типа Форносово'\n",
      " 'деревня Нижние Осельки' 'посёлок станции Свирь' 'поселок Перово'\n",
      " 'Высоцк' 'поселок Гарболово' 'село Шум' 'поселок Котельский'\n",
      " 'поселок станции Лужайка' 'деревня Большая Пустомержа'\n",
      " 'поселок Красносельское' 'деревня Вахнова Кара' 'деревня Пижма'\n",
      " 'коттеджный поселок Кивеннапа Север' 'поселок Коробицыно'\n",
      " 'поселок Ромашки' 'посёлок Перово' 'деревня Каськово' 'деревня Куровицы'\n",
      " 'посёлок Плоское' 'поселок Сумино'\n",
      " 'поселок городского типа Большая Ижора' 'поселок Кирпичное'\n",
      " 'деревня Ям-Тесово' 'деревня Раздолье' 'деревня Терпилицы'\n",
      " 'посёлок Шугозеро' 'деревня Ваганово' 'поселок Пушное'\n",
      " 'садовое товарищество Садко' 'посёлок Усть-Ижора' 'деревня Выскатка'\n",
      " 'городской посёлок Свирьстрой' 'поселок Громово' 'деревня Кисельня'\n",
      " 'посёлок Старая Малукса' 'деревня Трубников Бор' 'поселок Калитино'\n",
      " 'посёлок Высокоключевой' 'садовое товарищество Приладожский'\n",
      " 'посёлок Пансионат Зелёный Бор' 'деревня Ненимяки'\n",
      " 'поселок Пансионат Зелёный Бор' 'деревня Снегирёвка' 'деревня Рапполово'\n",
      " 'деревня Пустынка' 'поселок Рабитицы' 'деревня Большой Сабск'\n",
      " 'деревня Русско' 'деревня Лупполово' 'деревня Большое Рейзино'\n",
      " 'деревня Малая Романовка' 'поселок Дружноселье' 'поселок Пчевжа'\n",
      " 'поселок Володарское' 'деревня Нижняя' 'коттеджный посёлок Лесное'\n",
      " 'деревня Тихковицы' 'деревня Борисова Грива' 'посёлок Дзержинского']\n"
     ]
    }
   ],
   "source": [
    "unique_locality_name = data['locality_name'].unique()\n",
    "print(unique_locality_name)\n"
   ]
  },
  {
   "cell_type": "markdown",
   "metadata": {},
   "source": [
    "Приводим к однообразному имена, которые ообозначают \"посёлок\""
   ]
  },
  {
   "cell_type": "code",
   "execution_count": 16,
   "metadata": {},
   "outputs": [
    {
     "name": "stdout",
     "output_type": "stream",
     "text": [
      "0       Санкт-Петербург\n",
      "1        посёлок Шушары\n",
      "2       Санкт-Петербург\n",
      "3       Санкт-Петербург\n",
      "4       Санкт-Петербург\n",
      "5       посёлок Янино-1\n",
      "6     посёлок Парголово\n",
      "7       Санкт-Петербург\n",
      "8        посёлок Мурино\n",
      "9       Санкт-Петербург\n",
      "10      Санкт-Петербург\n",
      "11            Ломоносов\n",
      "12            Сертолово\n",
      "13             Петергоф\n",
      "14               Пушкин\n",
      "15      Санкт-Петербург\n",
      "16      Санкт-Петербург\n",
      "17      Санкт-Петербург\n",
      "18      Санкт-Петербург\n",
      "19      Санкт-Петербург\n",
      "Name: locality_name, dtype: object\n"
     ]
    }
   ],
   "source": [
    "def replace_wrong_values(wrong_values, correct_value): # на вход функции подаются список неправильных значений и строка с правильным значением\n",
    "    for wrong_value in wrong_values: # перебираем неправильные имена\n",
    "        data['locality_name'] = data['locality_name'].str.replace(wrong_value, correct_value) # и для каждого неправильного имени вызываем метод replace()\n",
    "\n",
    "duplicates = ['поселок', 'поселок городского типа', 'посёлок городского типа', 'городской посёлок'] # список неправильных имён\n",
    "name = 'посёлок' # правильное имя\n",
    "replace_wrong_values(duplicates, name) # вызов функции, replace() внутри будет вызван 3 раза\n",
    "print(data['locality_name'].head(20)) # датафрейм изменился, неявные дубликаты устранены \n"
   ]
  },
  {
   "cell_type": "code",
   "execution_count": 17,
   "metadata": {
    "scrolled": true
   },
   "outputs": [
    {
     "name": "stdout",
     "output_type": "stream",
     "text": [
      "['Санкт-Петербург' 'посёлок Шушары' 'посёлок Янино-1' 'посёлок Парголово'\n",
      " 'посёлок Мурино' 'Ломоносов' 'Сертолово' 'Петергоф' 'Пушкин'\n",
      " 'деревня Кудрово' 'Коммунар' 'Колпино' 'посёлок Красный Бор' 'Гатчина'\n",
      " 'деревня Фёдоровское' 'Выборг' 'Кронштадт' 'Кировск'\n",
      " 'деревня Новое Девяткино' 'посёлок Металлострой' 'посёлок Лебяжье'\n",
      " 'посёлок Сиверский' 'посёлок Молодцово' 'посёлок Кузьмоловский'\n",
      " 'садовое товарищество Новая Ропша' 'Павловск' 'деревня Пикколово'\n",
      " 'Всеволожск' 'Волхов' 'Кингисепп' 'Приозерск' 'Сестрорецк'\n",
      " 'деревня Куттузи' 'посёлок Аннино' 'посёлок Ефимовский'\n",
      " 'посёлок Плодовое' 'деревня Заклинье' 'посёлок Торковичи'\n",
      " 'посёлок Первомайское' 'Красное Село' 'посёлок Понтонный' 'Сясьстрой'\n",
      " 'деревня Старая' 'деревня Лесколово' 'посёлок Новый Свет' 'Сланцы'\n",
      " 'село Путилово' 'Ивангород' 'Мурино' 'Шлиссельбург' 'Никольское'\n",
      " 'Зеленогорск' 'Сосновый Бор' 'деревня Оржицы' 'деревня Кальтино'\n",
      " 'Кудрово' 'посёлок Романовка' 'посёлок Бугры' 'посёлок Рощино' 'Кириши'\n",
      " 'Луга' 'Волосово' 'Отрадное' 'село Павлово' 'посёлок Оредеж'\n",
      " 'село Копорье' 'посёлок Молодёжное' 'Тихвин' 'посёлок Победа'\n",
      " 'деревня Нурма' 'посёлок Синявино' 'Тосно' 'посёлок Стрельна'\n",
      " 'Бокситогорск' 'посёлок Александровская' 'деревня Лопухинка' 'Пикалёво'\n",
      " 'посёлок Терволово' 'посёлок Советский' 'Подпорожье' 'посёлок Петровское'\n",
      " 'посёлок Токсово' 'посёлок Сельцо' 'посёлок Вырица' 'деревня Кипень'\n",
      " 'деревня Келози' 'деревня Вартемяги' 'посёлок Тельмана'\n",
      " 'посёлок Севастьяново' 'посёлок Большая Ижора' nan 'посёлок Павлово'\n",
      " 'деревня Агалатово' 'посёлок Новогорелово' 'посёлок Лесогорский'\n",
      " 'деревня Лаголово' 'посёлок Цвелодубово' 'посёлок Рахья'\n",
      " 'деревня Белогорка' 'посёлок Заводской' 'посёлок Новоселье'\n",
      " 'деревня Большие Колпаны' 'деревня Горбунки' 'деревня Батово'\n",
      " 'деревня Заневка' 'деревня Иссад' 'Приморск' 'посёлок Фёдоровское'\n",
      " 'деревня Мистолово' 'Новая Ладога' 'посёлок Зимитицы' 'посёлок Барышево'\n",
      " 'деревня Разметелево' 'посёлок имени Свердлова' 'деревня Пеники'\n",
      " 'посёлок Рябово' 'деревня Пудомяги' 'посёлок станции Корнево'\n",
      " 'деревня Низино' 'деревня Бегуницы' 'посёлок Поляны' 'посёлок Мга'\n",
      " 'посёлок Елизаветино' 'посёлок Кузнечное' 'деревня Колтуши'\n",
      " 'посёлок Запорожское' 'деревня Гостилицы' 'деревня Малое Карлино'\n",
      " 'посёлок Мичуринское' 'посёлок имени Морозова' 'посёлок Песочный'\n",
      " 'посёлок Сосново' 'деревня Аро' 'посёлок Ильичёво' 'посёлок Тайцы'\n",
      " 'деревня Малое Верево' 'деревня Извара' 'посёлок станции Вещево'\n",
      " 'село Паша' 'деревня Калитино' 'посёлок Ульяновка' 'деревня Чудской Бор'\n",
      " 'посёлок Дубровка' 'деревня Мины' 'посёлок Войсковицы' 'деревня Коркино'\n",
      " 'посёлок Ропша' 'посёлок Приладожский' 'посёлок Щеглово'\n",
      " 'посёлок Гаврилово' 'Лодейное Поле' 'деревня Рабитицы'\n",
      " 'посёлок Никольский' 'деревня Кузьмолово' 'деревня Малые Колпаны'\n",
      " 'посёлок Петро-Славянка' 'посёлок Назия' 'посёлок Репино'\n",
      " 'посёлок Углово' 'посёлок Старая Малукса' 'садовое товарищество Рахья'\n",
      " 'деревня Меньково' 'деревня Старые Бегуницы' 'посёлок Сапёрный'\n",
      " 'посёлок Семрино' 'посёлок Глажево' 'посёлок Кобринское'\n",
      " 'деревня Гарболово' 'деревня Юкки' 'посёлок станции Приветнинское'\n",
      " 'деревня Мануйлово' 'деревня Пчева' 'посёлок Цвылёво'\n",
      " 'посёлок Мельниково' 'посёлок Пудость' 'посёлок Усть-Луга' 'Светогорск'\n",
      " 'Любань' 'посёлок Селезнёво' 'Каменногорск' 'деревня Кривко'\n",
      " 'посёлок Глебычево' 'деревня Парицы' 'посёлок Жилпосёлок'\n",
      " 'посёлок Войскорово' 'село Никольское' 'посёлок Стеклянный'\n",
      " 'посёлок Важины' 'посёлок Мыза-Ивановка' 'село Русско-Высоцкое'\n",
      " 'посёлок Форносово' 'село Старая Ладога' 'посёлок Житково'\n",
      " 'посёлок Виллози' 'деревня Лампово' 'деревня Шпаньково' 'деревня Лаврики'\n",
      " 'посёлок Сумино' 'посёлок Возрождение' 'деревня Старосиверская'\n",
      " 'посёлок Кикерино' 'деревня Старое Хинколово' 'посёлок Пригородный'\n",
      " 'посёлок Торфяное' 'посёлок Будогощь' 'посёлок Суходолье'\n",
      " 'посёлок Красная Долина' 'деревня Хапо-Ое' 'посёлок Дружная Горка'\n",
      " 'посёлок Лисий Нос' 'деревня Яльгелево' 'село Рождествено'\n",
      " 'деревня Старополье' 'посёлок Левашово' 'деревня Сяськелево'\n",
      " 'деревня Камышовка'\n",
      " 'садоводческое некоммерческое товарищество Лесная Поляна'\n",
      " 'деревня Хязельки' 'посёлок Жилгородок' 'деревня Ялгино'\n",
      " 'посёлок Новый Учхоз' 'посёлок Гончарово' 'посёлок Почап'\n",
      " 'посёлок Сапёрное' 'посёлок Платформа 69-й километр' 'посёлок Каложицы'\n",
      " 'деревня Фалилеево' 'деревня Пельгора' 'деревня Торошковичи'\n",
      " 'посёлок Белоостров' 'посёлок Алексеевка' 'посёлок Серебрянский'\n",
      " 'посёлок Лукаши' 'деревня Щеглово' 'деревня Тарасово'\n",
      " 'посёлок Кингисеппский' 'посёлок при железнодорожной станции Вещево'\n",
      " 'посёлок Ушаки' 'деревня Котлы' 'деревня Сижно' 'деревня Торосово'\n",
      " 'посёлок Форт Красная Горка' 'деревня Новолисино'\n",
      " 'посёлок станции Громово' 'деревня Глинка' 'деревня Старая Пустошь'\n",
      " 'посёлок Коммунары' 'посёлок Починок' 'посёлок Вознесенье'\n",
      " 'деревня Разбегаево' 'посёлок Гладкое'\n",
      " 'посёлок при железнодорожной станции Приветнинское' 'посёлок Тёсово-4'\n",
      " 'деревня Бор' 'посёлок Коробицыно' 'деревня Большая Вруда'\n",
      " 'деревня Курковицы' 'посёлок Кобралово' 'деревня Суоранда'\n",
      " 'посёлок Кондратьево' 'коттеджный посёлок Счастье' 'посёлок Любань'\n",
      " 'деревня Реброво' 'деревня Зимитицы' 'деревня Тойворово'\n",
      " 'посёлок Семиозерье' 'посёлок Лесное' 'посёлок Совхозный'\n",
      " 'посёлок Ленинское' 'посёлок Суйда' 'деревня Нижние Осельки'\n",
      " 'посёлок станции Свирь' 'посёлок Перово' 'Высоцк' 'посёлок Гарболово'\n",
      " 'село Шум' 'посёлок Котельский' 'посёлок станции Лужайка'\n",
      " 'деревня Большая Пустомержа' 'посёлок Красносельское'\n",
      " 'деревня Вахнова Кара' 'деревня Пижма'\n",
      " 'коттеджный посёлок Кивеннапа Север' 'посёлок Ромашки' 'деревня Каськово'\n",
      " 'деревня Куровицы' 'посёлок Плоское' 'посёлок Кирпичное'\n",
      " 'деревня Ям-Тесово' 'деревня Раздолье' 'деревня Терпилицы'\n",
      " 'посёлок Шугозеро' 'деревня Ваганово' 'посёлок Пушное'\n",
      " 'садовое товарищество Садко' 'посёлок Усть-Ижора' 'деревня Выскатка'\n",
      " 'посёлок Свирьстрой' 'посёлок Громово' 'деревня Кисельня'\n",
      " 'деревня Трубников Бор' 'посёлок Калитино' 'посёлок Высокоключевой'\n",
      " 'садовое товарищество Приладожский' 'посёлок Пансионат Зелёный Бор'\n",
      " 'деревня Ненимяки' 'деревня Снегирёвка' 'деревня Рапполово'\n",
      " 'деревня Пустынка' 'посёлок Рабитицы' 'деревня Большой Сабск'\n",
      " 'деревня Русско' 'деревня Лупполово' 'деревня Большое Рейзино'\n",
      " 'деревня Малая Романовка' 'посёлок Дружноселье' 'посёлок Пчевжа'\n",
      " 'посёлок Володарское' 'деревня Нижняя' 'коттеджный посёлок Лесное'\n",
      " 'деревня Тихковицы' 'деревня Борисова Грива' 'посёлок Дзержинского']\n"
     ]
    }
   ],
   "source": [
    "unique_locality_name = data['locality_name'].unique()\n",
    "print(unique_locality_name)\n"
   ]
  },
  {
   "cell_type": "code",
   "execution_count": 18,
   "metadata": {},
   "outputs": [
    {
     "data": {
      "text/plain": [
       "0"
      ]
     },
     "execution_count": 18,
     "metadata": {},
     "output_type": "execute_result"
    }
   ],
   "source": [
    "data.duplicated().sum()"
   ]
  },
  {
   "cell_type": "markdown",
   "metadata": {},
   "source": [
    "### Посчитайте и добавьте в таблицу новые столбцы"
   ]
  },
  {
   "cell_type": "code",
   "execution_count": 19,
   "metadata": {},
   "outputs": [],
   "source": [
    "#посчитаем цену квадратного метра\n",
    "data['price_per_square_meter'] = data['last_price'] / data['total_area']\n",
    "\n",
    "#для удобства просмотра приведем к типу int\n",
    "data['price_per_square_meter'] = data['price_per_square_meter'].astype('int')\n",
    "\n",
    "#создаю столбец дня недели\n",
    "data['weekday_exposition'] = data['first_day_exposition'].dt.weekday\n",
    "\n",
    "#создаю столбец месяца\n",
    "data['month_exposition'] = data['first_day_exposition'].dt.month\n",
    "\n",
    "#создаю столбец года\n",
    "data['year_exposition'] = data['first_day_exposition'].dt.year\n",
    "\n",
    "#напишем функцию категоризации по этажам, используя метод apply применимо к каждой строке датафрейма через axis = 1\n",
    "def floor_category(row):\n",
    "    floors_total = row['floors_total']\n",
    "    floor = row['floor']\n",
    "    if floor == 1:\n",
    "        return 'первый'\n",
    "    elif floor == floors_total:\n",
    "        return 'последний'\n",
    "    elif 1 < floor < floors_total:\n",
    "        return 'другой'\n",
    "    \n",
    "#категоризуем этажи с помощью функции  \n",
    "data['floor_category'] = data.apply(floor_category, axis = 1)\n"
   ]
  },
  {
   "cell_type": "code",
   "execution_count": 20,
   "metadata": {},
   "outputs": [
    {
     "data": {
      "text/html": [
       "<div>\n",
       "<style scoped>\n",
       "    .dataframe tbody tr th:only-of-type {\n",
       "        vertical-align: middle;\n",
       "    }\n",
       "\n",
       "    .dataframe tbody tr th {\n",
       "        vertical-align: top;\n",
       "    }\n",
       "\n",
       "    .dataframe thead th {\n",
       "        text-align: right;\n",
       "    }\n",
       "</style>\n",
       "<table border=\"1\" class=\"dataframe\">\n",
       "  <thead>\n",
       "    <tr style=\"text-align: right;\">\n",
       "      <th></th>\n",
       "      <th>total_images</th>\n",
       "      <th>last_price</th>\n",
       "      <th>total_area</th>\n",
       "      <th>first_day_exposition</th>\n",
       "      <th>rooms</th>\n",
       "      <th>ceiling_height</th>\n",
       "      <th>floors_total</th>\n",
       "      <th>living_area</th>\n",
       "      <th>floor</th>\n",
       "      <th>is_apartment</th>\n",
       "      <th>...</th>\n",
       "      <th>parks_around3000</th>\n",
       "      <th>parks_nearest</th>\n",
       "      <th>ponds_around3000</th>\n",
       "      <th>ponds_nearest</th>\n",
       "      <th>days_exposition</th>\n",
       "      <th>price_per_square_meter</th>\n",
       "      <th>weekday_exposition</th>\n",
       "      <th>month_exposition</th>\n",
       "      <th>year_exposition</th>\n",
       "      <th>floor_category</th>\n",
       "    </tr>\n",
       "  </thead>\n",
       "  <tbody>\n",
       "    <tr>\n",
       "      <th>0</th>\n",
       "      <td>20</td>\n",
       "      <td>13000000</td>\n",
       "      <td>108</td>\n",
       "      <td>2019-03-07</td>\n",
       "      <td>3</td>\n",
       "      <td>2.6</td>\n",
       "      <td>16</td>\n",
       "      <td>51.0</td>\n",
       "      <td>8</td>\n",
       "      <td>False</td>\n",
       "      <td>...</td>\n",
       "      <td>1</td>\n",
       "      <td>482</td>\n",
       "      <td>2</td>\n",
       "      <td>755</td>\n",
       "      <td>0</td>\n",
       "      <td>120370</td>\n",
       "      <td>3</td>\n",
       "      <td>3</td>\n",
       "      <td>2019</td>\n",
       "      <td>другой</td>\n",
       "    </tr>\n",
       "    <tr>\n",
       "      <th>1</th>\n",
       "      <td>7</td>\n",
       "      <td>3350000</td>\n",
       "      <td>40</td>\n",
       "      <td>2018-12-04</td>\n",
       "      <td>1</td>\n",
       "      <td>2.6</td>\n",
       "      <td>11</td>\n",
       "      <td>18.6</td>\n",
       "      <td>1</td>\n",
       "      <td>False</td>\n",
       "      <td>...</td>\n",
       "      <td>0</td>\n",
       "      <td>0</td>\n",
       "      <td>0</td>\n",
       "      <td>0</td>\n",
       "      <td>81</td>\n",
       "      <td>83750</td>\n",
       "      <td>1</td>\n",
       "      <td>12</td>\n",
       "      <td>2018</td>\n",
       "      <td>первый</td>\n",
       "    </tr>\n",
       "    <tr>\n",
       "      <th>2</th>\n",
       "      <td>10</td>\n",
       "      <td>5196000</td>\n",
       "      <td>56</td>\n",
       "      <td>2015-08-20</td>\n",
       "      <td>2</td>\n",
       "      <td>2.6</td>\n",
       "      <td>5</td>\n",
       "      <td>34.3</td>\n",
       "      <td>4</td>\n",
       "      <td>False</td>\n",
       "      <td>...</td>\n",
       "      <td>1</td>\n",
       "      <td>90</td>\n",
       "      <td>2</td>\n",
       "      <td>574</td>\n",
       "      <td>558</td>\n",
       "      <td>92785</td>\n",
       "      <td>3</td>\n",
       "      <td>8</td>\n",
       "      <td>2015</td>\n",
       "      <td>другой</td>\n",
       "    </tr>\n",
       "    <tr>\n",
       "      <th>3</th>\n",
       "      <td>0</td>\n",
       "      <td>64900000</td>\n",
       "      <td>159</td>\n",
       "      <td>2015-07-24</td>\n",
       "      <td>3</td>\n",
       "      <td>2.6</td>\n",
       "      <td>14</td>\n",
       "      <td>NaN</td>\n",
       "      <td>9</td>\n",
       "      <td>False</td>\n",
       "      <td>...</td>\n",
       "      <td>2</td>\n",
       "      <td>84</td>\n",
       "      <td>3</td>\n",
       "      <td>234</td>\n",
       "      <td>424</td>\n",
       "      <td>408176</td>\n",
       "      <td>4</td>\n",
       "      <td>7</td>\n",
       "      <td>2015</td>\n",
       "      <td>другой</td>\n",
       "    </tr>\n",
       "    <tr>\n",
       "      <th>4</th>\n",
       "      <td>2</td>\n",
       "      <td>10000000</td>\n",
       "      <td>100</td>\n",
       "      <td>2018-06-19</td>\n",
       "      <td>2</td>\n",
       "      <td>2.6</td>\n",
       "      <td>14</td>\n",
       "      <td>32.0</td>\n",
       "      <td>13</td>\n",
       "      <td>False</td>\n",
       "      <td>...</td>\n",
       "      <td>2</td>\n",
       "      <td>112</td>\n",
       "      <td>1</td>\n",
       "      <td>48</td>\n",
       "      <td>121</td>\n",
       "      <td>100000</td>\n",
       "      <td>1</td>\n",
       "      <td>6</td>\n",
       "      <td>2018</td>\n",
       "      <td>другой</td>\n",
       "    </tr>\n",
       "    <tr>\n",
       "      <th>5</th>\n",
       "      <td>10</td>\n",
       "      <td>2890000</td>\n",
       "      <td>30</td>\n",
       "      <td>2018-09-10</td>\n",
       "      <td>1</td>\n",
       "      <td>2.6</td>\n",
       "      <td>12</td>\n",
       "      <td>14.4</td>\n",
       "      <td>5</td>\n",
       "      <td>False</td>\n",
       "      <td>...</td>\n",
       "      <td>0</td>\n",
       "      <td>0</td>\n",
       "      <td>0</td>\n",
       "      <td>0</td>\n",
       "      <td>55</td>\n",
       "      <td>96333</td>\n",
       "      <td>0</td>\n",
       "      <td>9</td>\n",
       "      <td>2018</td>\n",
       "      <td>другой</td>\n",
       "    </tr>\n",
       "    <tr>\n",
       "      <th>6</th>\n",
       "      <td>6</td>\n",
       "      <td>3700000</td>\n",
       "      <td>37</td>\n",
       "      <td>2017-11-02</td>\n",
       "      <td>1</td>\n",
       "      <td>2.6</td>\n",
       "      <td>26</td>\n",
       "      <td>10.6</td>\n",
       "      <td>6</td>\n",
       "      <td>False</td>\n",
       "      <td>...</td>\n",
       "      <td>0</td>\n",
       "      <td>0</td>\n",
       "      <td>0</td>\n",
       "      <td>0</td>\n",
       "      <td>155</td>\n",
       "      <td>100000</td>\n",
       "      <td>3</td>\n",
       "      <td>11</td>\n",
       "      <td>2017</td>\n",
       "      <td>другой</td>\n",
       "    </tr>\n",
       "    <tr>\n",
       "      <th>7</th>\n",
       "      <td>5</td>\n",
       "      <td>7915000</td>\n",
       "      <td>71</td>\n",
       "      <td>2019-04-18</td>\n",
       "      <td>2</td>\n",
       "      <td>2.6</td>\n",
       "      <td>24</td>\n",
       "      <td>NaN</td>\n",
       "      <td>22</td>\n",
       "      <td>False</td>\n",
       "      <td>...</td>\n",
       "      <td>0</td>\n",
       "      <td>0</td>\n",
       "      <td>0</td>\n",
       "      <td>0</td>\n",
       "      <td>0</td>\n",
       "      <td>111478</td>\n",
       "      <td>3</td>\n",
       "      <td>4</td>\n",
       "      <td>2019</td>\n",
       "      <td>другой</td>\n",
       "    </tr>\n",
       "    <tr>\n",
       "      <th>8</th>\n",
       "      <td>20</td>\n",
       "      <td>2900000</td>\n",
       "      <td>33</td>\n",
       "      <td>2018-05-23</td>\n",
       "      <td>1</td>\n",
       "      <td>2.6</td>\n",
       "      <td>27</td>\n",
       "      <td>15.4</td>\n",
       "      <td>26</td>\n",
       "      <td>False</td>\n",
       "      <td>...</td>\n",
       "      <td>0</td>\n",
       "      <td>0</td>\n",
       "      <td>0</td>\n",
       "      <td>0</td>\n",
       "      <td>189</td>\n",
       "      <td>87878</td>\n",
       "      <td>2</td>\n",
       "      <td>5</td>\n",
       "      <td>2018</td>\n",
       "      <td>другой</td>\n",
       "    </tr>\n",
       "    <tr>\n",
       "      <th>9</th>\n",
       "      <td>18</td>\n",
       "      <td>5400000</td>\n",
       "      <td>61</td>\n",
       "      <td>2017-02-26</td>\n",
       "      <td>3</td>\n",
       "      <td>2.6</td>\n",
       "      <td>9</td>\n",
       "      <td>43.6</td>\n",
       "      <td>7</td>\n",
       "      <td>False</td>\n",
       "      <td>...</td>\n",
       "      <td>0</td>\n",
       "      <td>0</td>\n",
       "      <td>0</td>\n",
       "      <td>0</td>\n",
       "      <td>289</td>\n",
       "      <td>88524</td>\n",
       "      <td>6</td>\n",
       "      <td>2</td>\n",
       "      <td>2017</td>\n",
       "      <td>другой</td>\n",
       "    </tr>\n",
       "  </tbody>\n",
       "</table>\n",
       "<p>10 rows × 27 columns</p>\n",
       "</div>"
      ],
      "text/plain": [
       "   total_images  last_price  total_area first_day_exposition  rooms  \\\n",
       "0            20    13000000         108           2019-03-07      3   \n",
       "1             7     3350000          40           2018-12-04      1   \n",
       "2            10     5196000          56           2015-08-20      2   \n",
       "3             0    64900000         159           2015-07-24      3   \n",
       "4             2    10000000         100           2018-06-19      2   \n",
       "5            10     2890000          30           2018-09-10      1   \n",
       "6             6     3700000          37           2017-11-02      1   \n",
       "7             5     7915000          71           2019-04-18      2   \n",
       "8            20     2900000          33           2018-05-23      1   \n",
       "9            18     5400000          61           2017-02-26      3   \n",
       "\n",
       "   ceiling_height  floors_total  living_area  floor  is_apartment  ...  \\\n",
       "0             2.6            16         51.0      8         False  ...   \n",
       "1             2.6            11         18.6      1         False  ...   \n",
       "2             2.6             5         34.3      4         False  ...   \n",
       "3             2.6            14          NaN      9         False  ...   \n",
       "4             2.6            14         32.0     13         False  ...   \n",
       "5             2.6            12         14.4      5         False  ...   \n",
       "6             2.6            26         10.6      6         False  ...   \n",
       "7             2.6            24          NaN     22         False  ...   \n",
       "8             2.6            27         15.4     26         False  ...   \n",
       "9             2.6             9         43.6      7         False  ...   \n",
       "\n",
       "   parks_around3000  parks_nearest  ponds_around3000  ponds_nearest  \\\n",
       "0                 1            482                 2            755   \n",
       "1                 0              0                 0              0   \n",
       "2                 1             90                 2            574   \n",
       "3                 2             84                 3            234   \n",
       "4                 2            112                 1             48   \n",
       "5                 0              0                 0              0   \n",
       "6                 0              0                 0              0   \n",
       "7                 0              0                 0              0   \n",
       "8                 0              0                 0              0   \n",
       "9                 0              0                 0              0   \n",
       "\n",
       "  days_exposition  price_per_square_meter  weekday_exposition  \\\n",
       "0               0                  120370                   3   \n",
       "1              81                   83750                   1   \n",
       "2             558                   92785                   3   \n",
       "3             424                  408176                   4   \n",
       "4             121                  100000                   1   \n",
       "5              55                   96333                   0   \n",
       "6             155                  100000                   3   \n",
       "7               0                  111478                   3   \n",
       "8             189                   87878                   2   \n",
       "9             289                   88524                   6   \n",
       "\n",
       "   month_exposition  year_exposition  floor_category  \n",
       "0                 3             2019          другой  \n",
       "1                12             2018          первый  \n",
       "2                 8             2015          другой  \n",
       "3                 7             2015          другой  \n",
       "4                 6             2018          другой  \n",
       "5                 9             2018          другой  \n",
       "6                11             2017          другой  \n",
       "7                 4             2019          другой  \n",
       "8                 5             2018          другой  \n",
       "9                 2             2017          другой  \n",
       "\n",
       "[10 rows x 27 columns]"
      ]
     },
     "execution_count": 20,
     "metadata": {},
     "output_type": "execute_result"
    }
   ],
   "source": [
    "data.head(10)"
   ]
  },
  {
   "cell_type": "markdown",
   "metadata": {},
   "source": [
    "### Проведите исследовательский анализ данных"
   ]
  },
  {
   "cell_type": "markdown",
   "metadata": {},
   "source": [
    "Изучим следующие параметры объектов: общая площадь, жилая площадь, площадь кухни, цена объекта, количество комнат, высота потолков, этаж квартиры, тип этажа квартиры («первый», «последний», «другой»), общее количество этажей в доме, расстояние до центра города в метрах, расстояние до ближайшего аэропорта, расстояние до ближайшего парка, день и месяц публикации объявления"
   ]
  },
  {
   "cell_type": "code",
   "execution_count": 21,
   "metadata": {},
   "outputs": [
    {
     "data": {
      "text/html": [
       "<div>\n",
       "<style scoped>\n",
       "    .dataframe tbody tr th:only-of-type {\n",
       "        vertical-align: middle;\n",
       "    }\n",
       "\n",
       "    .dataframe tbody tr th {\n",
       "        vertical-align: top;\n",
       "    }\n",
       "\n",
       "    .dataframe thead th {\n",
       "        text-align: right;\n",
       "    }\n",
       "</style>\n",
       "<table border=\"1\" class=\"dataframe\">\n",
       "  <thead>\n",
       "    <tr style=\"text-align: right;\">\n",
       "      <th></th>\n",
       "      <th>total_area</th>\n",
       "      <th>living_area</th>\n",
       "      <th>kitchen_area</th>\n",
       "      <th>last_price</th>\n",
       "      <th>rooms</th>\n",
       "      <th>ceiling_height</th>\n",
       "      <th>floor</th>\n",
       "      <th>floors_total</th>\n",
       "      <th>cityCenters_nearest</th>\n",
       "      <th>airports_nearest</th>\n",
       "      <th>parks_nearest</th>\n",
       "      <th>weekday_exposition</th>\n",
       "      <th>month_exposition</th>\n",
       "    </tr>\n",
       "  </thead>\n",
       "  <tbody>\n",
       "    <tr>\n",
       "      <th>count</th>\n",
       "      <td>23699.000000</td>\n",
       "      <td>21796.000000</td>\n",
       "      <td>21421.000000</td>\n",
       "      <td>2.369900e+04</td>\n",
       "      <td>23699.000000</td>\n",
       "      <td>2.369900e+04</td>\n",
       "      <td>23699.000000</td>\n",
       "      <td>23699.000000</td>\n",
       "      <td>23699.000000</td>\n",
       "      <td>23699.000000</td>\n",
       "      <td>23699.000000</td>\n",
       "      <td>23699.000000</td>\n",
       "      <td>23699.000000</td>\n",
       "    </tr>\n",
       "    <tr>\n",
       "      <th>mean</th>\n",
       "      <td>60.120511</td>\n",
       "      <td>34.457878</td>\n",
       "      <td>10.569754</td>\n",
       "      <td>6.541549e+06</td>\n",
       "      <td>2.070636</td>\n",
       "      <td>2.600000e+00</td>\n",
       "      <td>5.892358</td>\n",
       "      <td>10.635090</td>\n",
       "      <td>10.886451</td>\n",
       "      <td>22060.285497</td>\n",
       "      <td>167.315499</td>\n",
       "      <td>2.569307</td>\n",
       "      <td>6.400101</td>\n",
       "    </tr>\n",
       "    <tr>\n",
       "      <th>std</th>\n",
       "      <td>35.665822</td>\n",
       "      <td>22.030420</td>\n",
       "      <td>5.905448</td>\n",
       "      <td>1.088701e+07</td>\n",
       "      <td>1.078405</td>\n",
       "      <td>4.440986e-16</td>\n",
       "      <td>4.885249</td>\n",
       "      <td>6.616396</td>\n",
       "      <td>9.634388</td>\n",
       "      <td>16455.276292</td>\n",
       "      <td>306.709997</td>\n",
       "      <td>1.789082</td>\n",
       "      <td>3.491561</td>\n",
       "    </tr>\n",
       "    <tr>\n",
       "      <th>min</th>\n",
       "      <td>12.000000</td>\n",
       "      <td>2.000000</td>\n",
       "      <td>1.300000</td>\n",
       "      <td>1.219000e+04</td>\n",
       "      <td>0.000000</td>\n",
       "      <td>2.600000e+00</td>\n",
       "      <td>1.000000</td>\n",
       "      <td>0.000000</td>\n",
       "      <td>0.000000</td>\n",
       "      <td>0.000000</td>\n",
       "      <td>0.000000</td>\n",
       "      <td>0.000000</td>\n",
       "      <td>1.000000</td>\n",
       "    </tr>\n",
       "    <tr>\n",
       "      <th>25%</th>\n",
       "      <td>40.000000</td>\n",
       "      <td>18.600000</td>\n",
       "      <td>7.000000</td>\n",
       "      <td>3.400000e+06</td>\n",
       "      <td>1.000000</td>\n",
       "      <td>2.600000e+00</td>\n",
       "      <td>2.000000</td>\n",
       "      <td>5.000000</td>\n",
       "      <td>2.200000</td>\n",
       "      <td>10196.500000</td>\n",
       "      <td>0.000000</td>\n",
       "      <td>1.000000</td>\n",
       "      <td>3.000000</td>\n",
       "    </tr>\n",
       "    <tr>\n",
       "      <th>50%</th>\n",
       "      <td>52.000000</td>\n",
       "      <td>30.000000</td>\n",
       "      <td>9.100000</td>\n",
       "      <td>4.650000e+06</td>\n",
       "      <td>2.000000</td>\n",
       "      <td>2.600000e+00</td>\n",
       "      <td>4.000000</td>\n",
       "      <td>9.000000</td>\n",
       "      <td>11.200000</td>\n",
       "      <td>21869.000000</td>\n",
       "      <td>0.000000</td>\n",
       "      <td>3.000000</td>\n",
       "      <td>6.000000</td>\n",
       "    </tr>\n",
       "    <tr>\n",
       "      <th>75%</th>\n",
       "      <td>69.000000</td>\n",
       "      <td>42.300000</td>\n",
       "      <td>12.000000</td>\n",
       "      <td>6.800000e+06</td>\n",
       "      <td>3.000000</td>\n",
       "      <td>2.600000e+00</td>\n",
       "      <td>8.000000</td>\n",
       "      <td>16.000000</td>\n",
       "      <td>15.200000</td>\n",
       "      <td>34327.000000</td>\n",
       "      <td>301.000000</td>\n",
       "      <td>4.000000</td>\n",
       "      <td>10.000000</td>\n",
       "    </tr>\n",
       "    <tr>\n",
       "      <th>max</th>\n",
       "      <td>900.000000</td>\n",
       "      <td>409.700000</td>\n",
       "      <td>112.000000</td>\n",
       "      <td>7.630000e+08</td>\n",
       "      <td>19.000000</td>\n",
       "      <td>2.600000e+00</td>\n",
       "      <td>33.000000</td>\n",
       "      <td>60.000000</td>\n",
       "      <td>66.000000</td>\n",
       "      <td>84869.000000</td>\n",
       "      <td>3190.000000</td>\n",
       "      <td>6.000000</td>\n",
       "      <td>12.000000</td>\n",
       "    </tr>\n",
       "  </tbody>\n",
       "</table>\n",
       "</div>"
      ],
      "text/plain": [
       "         total_area   living_area  kitchen_area    last_price         rooms  \\\n",
       "count  23699.000000  21796.000000  21421.000000  2.369900e+04  23699.000000   \n",
       "mean      60.120511     34.457878     10.569754  6.541549e+06      2.070636   \n",
       "std       35.665822     22.030420      5.905448  1.088701e+07      1.078405   \n",
       "min       12.000000      2.000000      1.300000  1.219000e+04      0.000000   \n",
       "25%       40.000000     18.600000      7.000000  3.400000e+06      1.000000   \n",
       "50%       52.000000     30.000000      9.100000  4.650000e+06      2.000000   \n",
       "75%       69.000000     42.300000     12.000000  6.800000e+06      3.000000   \n",
       "max      900.000000    409.700000    112.000000  7.630000e+08     19.000000   \n",
       "\n",
       "       ceiling_height         floor  floors_total  cityCenters_nearest  \\\n",
       "count    2.369900e+04  23699.000000  23699.000000         23699.000000   \n",
       "mean     2.600000e+00      5.892358     10.635090            10.886451   \n",
       "std      4.440986e-16      4.885249      6.616396             9.634388   \n",
       "min      2.600000e+00      1.000000      0.000000             0.000000   \n",
       "25%      2.600000e+00      2.000000      5.000000             2.200000   \n",
       "50%      2.600000e+00      4.000000      9.000000            11.200000   \n",
       "75%      2.600000e+00      8.000000     16.000000            15.200000   \n",
       "max      2.600000e+00     33.000000     60.000000            66.000000   \n",
       "\n",
       "       airports_nearest  parks_nearest  weekday_exposition  month_exposition  \n",
       "count      23699.000000   23699.000000        23699.000000      23699.000000  \n",
       "mean       22060.285497     167.315499            2.569307          6.400101  \n",
       "std        16455.276292     306.709997            1.789082          3.491561  \n",
       "min            0.000000       0.000000            0.000000          1.000000  \n",
       "25%        10196.500000       0.000000            1.000000          3.000000  \n",
       "50%        21869.000000       0.000000            3.000000          6.000000  \n",
       "75%        34327.000000     301.000000            4.000000         10.000000  \n",
       "max        84869.000000    3190.000000            6.000000         12.000000  "
      ]
     },
     "execution_count": 21,
     "metadata": {},
     "output_type": "execute_result"
    }
   ],
   "source": [
    "data[['total_area', 'living_area', 'kitchen_area', 'last_price', 'rooms', 'ceiling_height', \\\n",
    "      'floor', 'floor_category', 'floors_total', 'cityCenters_nearest', 'airports_nearest', \\\n",
    "      'parks_nearest', 'weekday_exposition', 'month_exposition']].describe()"
   ]
  },
  {
   "cell_type": "markdown",
   "metadata": {},
   "source": [
    "Построим отдельные гистограммы для каждого из этих параметров. "
   ]
  },
  {
   "cell_type": "code",
   "execution_count": 22,
   "metadata": {},
   "outputs": [
    {
     "data": {
      "image/png": "[encoded data removed]",
      "text/plain": [
       "<Figure size 432x288 with 1 Axes>"
      ]
     },
     "metadata": {
      "needs_background": "light"
     },
     "output_type": "display_data"
    },
    {
     "name": "stdout",
     "output_type": "stream",
     "text": [
      "Наибольшие по площади варианты:\n",
      "19540    900\n",
      "3117     631\n",
      "12859    631\n",
      "15651    618\n",
      "5358     590\n",
      "4237     517\n",
      "8018     507\n",
      "5893     500\n",
      "15016    500\n",
      "12401    495\n",
      "Name: total_area, dtype: int64\n"
     ]
    }
   ],
   "source": [
    "#общая площадь\n",
    "plt.hist(data['total_area'], bins=30, range=(10,200))\n",
    "plt.title('Площадь квартир')\n",
    "plt.xlabel('Квадратные метры')\n",
    "plt.ylabel('Количество квартир')\n",
    "plt.show()\n",
    "print('Наибольшие по площади варианты:')\n",
    "print(data['total_area'].sort_values(ascending=False).head(10))"
   ]
  },
  {
   "cell_type": "code",
   "execution_count": 23,
   "metadata": {},
   "outputs": [
    {
     "data": {
      "image/png": "[encoded data removed]",
      "text/plain": [
       "<Figure size 432x288 with 1 Axes>"
      ]
     },
     "metadata": {
      "needs_background": "light"
     },
     "output_type": "display_data"
    },
    {
     "name": "stdout",
     "output_type": "stream",
     "text": [
      "Наибольшие по жилой площади варианты:\n",
      "19540    409.7\n",
      "5358     409.0\n",
      "12401    347.5\n",
      "4237     332.0\n",
      "12859    322.3\n",
      "660      312.5\n",
      "8018     301.5\n",
      "14088    300.0\n",
      "20273    279.6\n",
      "22494    274.0\n",
      "Name: living_area, dtype: float64\n"
     ]
    }
   ],
   "source": [
    "# Работаем с жилой площадью\n",
    "plt.hist(data['living_area'], bins=70, range=(10,100))\n",
    "plt.title('Жилая площадь')\n",
    "plt.xlabel('Квадратные метры')\n",
    "plt.ylabel('Количество квартир')\n",
    "plt.show()\n",
    "print('Наибольшие по жилой площади варианты:')\n",
    "print(data['living_area'].sort_values(ascending=False).head(10))"
   ]
  },
  {
   "cell_type": "code",
   "execution_count": 24,
   "metadata": {},
   "outputs": [
    {
     "data": {
      "image/png": "[encoded data removed]",
      "text/plain": [
       "<Figure size 432x288 with 1 Axes>"
      ]
     },
     "metadata": {
      "needs_background": "light"
     },
     "output_type": "display_data"
    },
    {
     "name": "stdout",
     "output_type": "stream",
     "text": [
      "Наибольшие по площади кухни варианты:\n",
      "19540    112.0\n",
      "20215    107.0\n",
      "2489     100.7\n",
      "5358     100.0\n",
      "16239     93.2\n",
      "16797     93.0\n",
      "10867     87.2\n",
      "492       77.0\n",
      "4394      77.0\n",
      "14644     75.0\n",
      "Name: kitchen_area, dtype: float64\n"
     ]
    }
   ],
   "source": [
    "# Работаем с площадью кухни\n",
    "plt.hist(data['kitchen_area'], bins=30, range=(0,50))\n",
    "plt.title('Площадь кухни')\n",
    "plt.xlabel('Квадратные метры')\n",
    "plt.ylabel('Количество квартир')\n",
    "plt.show()\n",
    "print('Наибольшие по площади кухни варианты:')\n",
    "print(data['kitchen_area'].sort_values(ascending=False).head(10))"
   ]
  },
  {
   "cell_type": "code",
   "execution_count": 25,
   "metadata": {},
   "outputs": [
    {
     "data": {
      "image/png": "[encoded data removed]",
      "text/plain": [
       "<Figure size 432x288 with 1 Axes>"
      ]
     },
     "metadata": {
      "needs_background": "light"
     },
     "output_type": "display_data"
    },
    {
     "name": "stdout",
     "output_type": "stream",
     "text": [
      "Наибольшие по цене варианты:\n",
      "12971    763000000\n",
      "19540    420000000\n",
      "14706    401300000\n",
      "1436     330000000\n",
      "15651    300000000\n",
      "22831    289238400\n",
      "16461    245000000\n",
      "13749    240000000\n",
      "5893     230000000\n",
      "8900     190870000\n",
      "Name: last_price, dtype: int64\n"
     ]
    }
   ],
   "source": [
    "# Работаем со стоимостью\n",
    "plt.hist(data['last_price'], bins=30, range=(0,20000000))\n",
    "plt.title('Стоимость квартир')\n",
    "plt.xlabel('Стоимость')\n",
    "plt.ylabel('Количество квартир')\n",
    "plt.show()\n",
    "print('Наибольшие по цене варианты:')\n",
    "print(data['last_price'].sort_values(ascending=False).head(10))"
   ]
  },
  {
   "cell_type": "code",
   "execution_count": 26,
   "metadata": {},
   "outputs": [
    {
     "data": {
      "image/png": "[encoded data removed]",
      "text/plain": [
       "<Figure size 432x288 with 1 Axes>"
      ]
     },
     "metadata": {
      "needs_background": "light"
     },
     "output_type": "display_data"
    },
    {
     "name": "stdout",
     "output_type": "stream",
     "text": [
      "Наибольшие по числу комнат варианты:\n",
      "14498    19\n",
      "18848    16\n",
      "5358     15\n",
      "20829    14\n",
      "866      14\n",
      "19540    12\n",
      "9688     11\n",
      "648      11\n",
      "18119    10\n",
      "4149     10\n",
      "Name: rooms, dtype: int64\n"
     ]
    }
   ],
   "source": [
    "# Работаем с комнатами\n",
    "plt.hist(data['rooms'], bins=7, range=(1,7))\n",
    "plt.title('Комнаты')\n",
    "plt.xlabel('Количество комнат')\n",
    "plt.ylabel('Количество квартир')\n",
    "plt.show()\n",
    "print('Наибольшие по числу комнат варианты:')\n",
    "print(data['rooms'].sort_values(ascending=False).head(10))"
   ]
  },
  {
   "cell_type": "code",
   "execution_count": 27,
   "metadata": {},
   "outputs": [
    {
     "data": {
      "image/png": "[encoded data removed]",
      "text/plain": [
       "<Figure size 432x288 with 1 Axes>"
      ]
     },
     "metadata": {
      "needs_background": "light"
     },
     "output_type": "display_data"
    },
    {
     "name": "stdout",
     "output_type": "stream",
     "text": [
      "Наибольшие по высоте потолков варианты:\n",
      "0        2.6\n",
      "15796    2.6\n",
      "15805    2.6\n",
      "15804    2.6\n",
      "15803    2.6\n",
      "15802    2.6\n",
      "15801    2.6\n",
      "15800    2.6\n",
      "15799    2.6\n",
      "15798    2.6\n",
      "Name: ceiling_height, dtype: float64\n"
     ]
    }
   ],
   "source": [
    "# Работаем с потолками\n",
    "plt.hist(data['ceiling_height'], bins=20, range=(1,5))\n",
    "plt.title('Высота потолков')\n",
    "plt.xlabel('Метры')\n",
    "plt.ylabel('Количество квартир')\n",
    "plt.show()\n",
    "print('Наибольшие по высоте потолков варианты:')\n",
    "print(data['ceiling_height'].sort_values(ascending=False).head(10))"
   ]
  },
  {
   "cell_type": "code",
   "execution_count": null,
   "metadata": {},
   "outputs": [],
   "source": [
    "data['floor'].hist(bins=50,range=(0, 30))\n",
    "plt.title('Этажность')\n",
    "plt.xlabel('Этаж')\n",
    "plt.ylabel('Количество квартир')\n",
    "plt.show()"
   ]
  },
  {
   "cell_type": "code",
   "execution_count": 29,
   "metadata": {},
   "outputs": [
    {
     "data": {
      "image/png": "[encoded data removed]",
      "text/plain": [
       "<Figure size 432x288 with 1 Axes>"
      ]
     },
     "metadata": {
      "needs_background": "light"
     },
     "output_type": "display_data"
    }
   ],
   "source": [
    "data['floor_category'].hist(bins=100,range=(0, 3))\n",
    "plt.title('Категория этажа')\n",
    "plt.xlabel('Этаж')3\n",
    "plt.ylabel('Количество квартир')\n",
    "plt.show()"
   ]
  },
  {
   "cell_type": "code",
   "execution_count": 30,
   "metadata": {},
   "outputs": [
    {
     "data": {
      "image/png": "[encoded data removed]",
      "text/plain": [
       "<Figure size 432x288 with 1 Axes>"
      ]
     },
     "metadata": {
      "needs_background": "light"
     },
     "output_type": "display_data"
    }
   ],
   "source": [
    "data['floors_total'].hist(bins=50,range=(0, 30))\n",
    "plt.title('Общая этажность')\n",
    "plt.xlabel('Этаж')\n",
    "plt.ylabel('Количество квартир')\n",
    "plt.show()"
   ]
  },
  {
   "cell_type": "code",
   "execution_count": 31,
   "metadata": {},
   "outputs": [
    {
     "data": {
      "image/png": "[encoded data removed]",
      "text/plain": [
       "<Figure size 432x288 with 1 Axes>"
      ]
     },
     "metadata": {
      "needs_background": "light"
     },
     "output_type": "display_data"
    }
   ],
   "source": [
    "data['cityCenters_nearest'].hist(bins=50,range=(0, 50))\n",
    "plt.title('Расстояние до центра')\n",
    "plt.xlabel('Расстояние')\n",
    "plt.ylabel('Количество квартир')\n",
    "plt.show()"
   ]
  },
  {
   "cell_type": "code",
   "execution_count": 32,
   "metadata": {},
   "outputs": [
    {
     "data": {
      "image/png": "[encoded data removed]",
      "text/plain": [
       "<Figure size 432x288 with 1 Axes>"
      ]
     },
     "metadata": {
      "needs_background": "light"
     },
     "output_type": "display_data"
    }
   ],
   "source": [
    "data['airports_nearest'].hist(bins=50,range=(0, 20))\n",
    "plt.title('Расстояние до ближайшего аэропорта')\n",
    "plt.xlabel('Расстояние')\n",
    "plt.ylabel('Количество квартир')\n",
    "plt.show()"
   ]
  },
  {
   "cell_type": "code",
   "execution_count": 33,
   "metadata": {},
   "outputs": [
    {
     "data": {
      "image/png": "[encoded data removed]",
      "text/plain": [
       "<Figure size 432x288 with 1 Axes>"
      ]
     },
     "metadata": {
      "needs_background": "light"
     },
     "output_type": "display_data"
    }
   ],
   "source": [
    "data['parks_nearest'].hist(bins=50,range=(0, 200))\n",
    "plt.title('Расстояние до ближайшего парка;')\n",
    "plt.xlabel('Расстояние')\n",
    "plt.ylabel('Количество квартир')\n",
    "plt.show()"
   ]
  },
  {
   "cell_type": "code",
   "execution_count": 34,
   "metadata": {},
   "outputs": [
    {
     "data": {
      "image/png": "[encoded data removed]",
      "text/plain": [
       "<Figure size 432x288 with 1 Axes>"
      ]
     },
     "metadata": {
      "needs_background": "light"
     },
     "output_type": "display_data"
    }
   ],
   "source": [
    "data['weekday_exposition'].hist(bins=50,range=(0, 20))\n",
    "plt.title('День публикации объявления')\n",
    "plt.xlabel('День')\n",
    "plt.ylabel('Количество квартир')\n",
    "plt.show()"
   ]
  },
  {
   "cell_type": "code",
   "execution_count": 35,
   "metadata": {
    "scrolled": true
   },
   "outputs": [
    {
     "data": {
      "image/png": "[encoded data removed]",
      "text/plain": [
       "<Figure size 432x288 with 1 Axes>"
      ]
     },
     "metadata": {
      "needs_background": "light"
     },
     "output_type": "display_data"
    }
   ],
   "source": [
    "data['month_exposition'].hist(bins=100,range=(0, 30))\n",
    "plt.title('Месяц публикации объявления')\n",
    "plt.xlabel('Месяцы')\n",
    "plt.ylabel('Количество квартир')\n",
    "plt.show()"
   ]
  },
  {
   "cell_type": "markdown",
   "metadata": {},
   "source": [
    "<div style=\"border:solid blue 3px; padding: 20px\">\n",
    "<div class=\"alert alert-info\">\n",
    "<h1> Выводы </h1>\n",
    " \n",
    "Вывод\n",
    "Площадь\n",
    "Большинство квартир - менее 100 квадратных метров. В подборке есть несколько очень больших и странных вариантов с площадью более 200 квадратных метров.\n",
    "Стоимость\n",
    "В основном стоимость квартир - порядка 5 миллионов. Больше 20 миллионов вариантов мало и они выглядят очень странно и некоторые - на порядок дороже.\n",
    "Комнаты\n",
    "В основном квартиры состоят из 1, 2 и 3 комнат. Есть небольшая доля 4-комнатных квартир. Варианты, где больше 7 комнат выглядят странно и подозрительно. Даже при объединении нескольких квартир в одну это подозрительно. Возможно, это отдельный дом.\n",
    "Высота потолков\n",
    "Большинство вариантов имеют высоту потолков от 2,5 до 3 метров. Больше 4 метров высота потолков выглядит подозрительно. Есть значения в 27 метров (высота 9-этажного дома) - это может быть ошибкой данных и реальная высота 2,7 метра.\n",
    "Площадь кухни\n",
    "Самые распространённые кухни - от 5 до 15 метров. Больше 20 метров кухни практически не встречаются. Больше 30 - единичные случаи.\n",
    "Жилая площадь\n",
    "Самые распространённые варианты с жилой площадью от 10 до 50 метров. После 80 метров встречаются единичные случаи. Два пика графика вызваны, вероятно, тем, что это жилые площади для 1-комнатной, затем для 2-комнатной и после этого для 3-комнатной квартиры.\n",
    "\n",
    "    \n",
    "</div>\n",
    "</div>"
   ]
  },
  {
   "cell_type": "markdown",
   "metadata": {},
   "source": [
    "Задача 2. Посмотрим на данные и гистограмму по времени продажи квартиры:"
   ]
  },
  {
   "cell_type": "code",
   "execution_count": 36,
   "metadata": {},
   "outputs": [
    {
     "name": "stdout",
     "output_type": "stream",
     "text": [
      "Index(['total_images', 'last_price', 'total_area', 'first_day_exposition',\n",
      "       'rooms', 'ceiling_height', 'floors_total', 'living_area', 'floor',\n",
      "       'is_apartment', 'studio', 'open_plan', 'kitchen_area', 'balcony',\n",
      "       'locality_name', 'airports_nearest', 'cityCenters_nearest',\n",
      "       'parks_around3000', 'parks_nearest', 'ponds_around3000',\n",
      "       'ponds_nearest', 'days_exposition', 'price_per_square_meter',\n",
      "       'weekday_exposition', 'month_exposition', 'year_exposition',\n",
      "       'floor_category'],\n",
      "      dtype='object')\n"
     ]
    },
    {
     "data": {
      "text/plain": [
       "count    20518.000000\n",
       "mean       180.888634\n",
       "std        219.727988\n",
       "min          1.000000\n",
       "25%         45.000000\n",
       "50%         95.000000\n",
       "75%        232.000000\n",
       "max       1580.000000\n",
       "Name: days_exposition, dtype: float64"
      ]
     },
     "execution_count": 36,
     "metadata": {},
     "output_type": "execute_result"
    },
    {
     "data": {
      "image/png": "[encoded data removed]",
      "text/plain": [
       "<Figure size 432x288 with 1 Axes>"
      ]
     },
     "metadata": {
      "needs_background": "light"
     },
     "output_type": "display_data"
    },
    {
     "data": {
      "image/png": "[encoded data removed]",
      "text/plain": [
       "<Figure size 432x288 with 1 Axes>"
      ]
     },
     "metadata": {
      "needs_background": "light"
     },
     "output_type": "display_data"
    },
    {
     "data": {
      "image/png": "[encoded data removed]",
      "text/plain": [
       "<Figure size 432x288 with 1 Axes>"
      ]
     },
     "metadata": {
      "needs_background": "light"
     },
     "output_type": "display_data"
    }
   ],
   "source": [
    "print(data.columns)\n",
    "\n",
    "#диаграмма размаха\n",
    "plt.boxplot(data[data['days_exposition']!=0]['days_exposition'])\n",
    "plt.ylim(1,1000)\n",
    "\n",
    "data.plot(y = 'days_exposition', kind = 'hist', bins = 30, grid = True, range = (1,1600))\n",
    "data.plot(y = 'days_exposition', kind = 'hist', bins = 100, grid = True, range = (1,200))\n",
    "\n",
    "#среднее значение, медиана и межквартильный размах\n",
    "data[data['days_exposition']!=0]['days_exposition'].describe()"
   ]
  },
  {
   "cell_type": "markdown",
   "metadata": {},
   "source": [
    "Среднее время продажи - полгода, 180 дней. Медианное - 95 дней.\n",
    "Большая часть квартир продавалась в течение первых 50 дней\n",
    "Посмотрим на гистограмму поближе"
   ]
  },
  {
   "cell_type": "code",
   "execution_count": 37,
   "metadata": {},
   "outputs": [
    {
     "data": {
      "image/png": "[encoded data removed]",
      "text/plain": [
       "<Figure size 720x216 with 1 Axes>"
      ]
     },
     "metadata": {
      "needs_background": "light"
     },
     "output_type": "display_data"
    }
   ],
   "source": [
    "data.query('40<days_exposition<65')['days_exposition'].hist(bins=70, figsize=(10,3))\n",
    "plt.title('График продажи квартир по дням')\n",
    "plt.xlabel('Дни')\n",
    "plt.ylabel('Количество квартир')\n",
    "plt.show()"
   ]
  },
  {
   "cell_type": "markdown",
   "metadata": {},
   "source": [
    "Есть 2 пиковых значения 45 и 60 дней, очень странно. Возможно это связано с автоматическим закрытием объявления"
   ]
  },
  {
   "cell_type": "markdown",
   "metadata": {},
   "source": [
    "Задача 3. Изучим зависит ли цена от:\n",
    "общей площади;\n",
    "жилой площади;\n",
    "площади кухни;\n",
    "количества комнат;\n",
    "этажа, на котором расположена квартира (первый, последний, другой);\n",
    "даты размещения (день недели, месяц, год)."
   ]
  },
  {
   "cell_type": "code",
   "execution_count": 38,
   "metadata": {},
   "outputs": [
    {
     "data": {
      "image/png": "[encoded data removed]",
      "text/plain": [
       "<Figure size 720x432 with 1 Axes>"
      ]
     },
     "metadata": {
      "needs_background": "light"
     },
     "output_type": "display_data"
    }
   ],
   "source": [
    "#цена от общей площади\n",
    "data.plot(x='total_area', y='last_price', style ='o', figsize = (10, 6))\n",
    "plt.show()"
   ]
  },
  {
   "cell_type": "code",
   "execution_count": 39,
   "metadata": {},
   "outputs": [
    {
     "data": {
      "image/png": "[encoded data removed]",
      "text/plain": [
       "<Figure size 720x432 with 1 Axes>"
      ]
     },
     "metadata": {
      "needs_background": "light"
     },
     "output_type": "display_data"
    }
   ],
   "source": [
    "#цена от жилой площади \n",
    "data.plot(x='living_area', y='last_price', style ='o', figsize = (10, 6))\n",
    "plt.show()"
   ]
  },
  {
   "cell_type": "code",
   "execution_count": 40,
   "metadata": {},
   "outputs": [
    {
     "data": {
      "image/png": "[encoded data removed]",
      "text/plain": [
       "<Figure size 720x432 with 1 Axes>"
      ]
     },
     "metadata": {
      "needs_background": "light"
     },
     "output_type": "display_data"
    }
   ],
   "source": [
    "#цена от площади кухни\n",
    "data.plot(x='kitchen_area', y='last_price', style ='o', figsize = (10, 6))\n",
    "plt.show()"
   ]
  },
  {
   "cell_type": "code",
   "execution_count": 41,
   "metadata": {},
   "outputs": [
    {
     "data": {
      "image/png": "[encoded data removed]",
      "text/plain": [
       "<Figure size 720x432 with 1 Axes>"
      ]
     },
     "metadata": {
      "needs_background": "light"
     },
     "output_type": "display_data"
    }
   ],
   "source": [
    "# Зависимость цены от числа комнат\n",
    "data.plot(x='rooms', y='last_price', style ='o', figsize = (10, 6))\n",
    "plt.show()"
   ]
  },
  {
   "cell_type": "code",
   "execution_count": 42,
   "metadata": {},
   "outputs": [
    {
     "data": {
      "image/png": "[encoded data removed]",
      "text/plain": [
       "<Figure size 720x432 with 1 Axes>"
      ]
     },
     "metadata": {
      "needs_background": "light"
     },
     "output_type": "display_data"
    }
   ],
   "source": [
    "# Зависимость цены от этажа\n",
    "data.groupby('floor')['last_price'].median().plot(style ='o', figsize = (10, 6))\n",
    "plt.show()"
   ]
  },
  {
   "cell_type": "code",
   "execution_count": 43,
   "metadata": {},
   "outputs": [
    {
     "data": {
      "image/png": "[encoded data removed]",
      "text/plain": [
       "<Figure size 720x432 with 1 Axes>"
      ]
     },
     "metadata": {
      "needs_background": "light"
     },
     "output_type": "display_data"
    }
   ],
   "source": [
    "# Зависимость цены от удалённости от центра\n",
    "data.groupby('cityCenters_nearest')['last_price'].median().plot(style ='o', figsize = (10, 6))\n",
    "plt.show()"
   ]
  },
  {
   "cell_type": "code",
   "execution_count": 44,
   "metadata": {},
   "outputs": [
    {
     "data": {
      "image/png": "[encoded data removed]",
      "text/plain": [
       "<Figure size 360x360 with 1 Axes>"
      ]
     },
     "metadata": {
      "needs_background": "light"
     },
     "output_type": "display_data"
    },
    {
     "data": {
      "image/png": "[encoded data removed]",
      "text/plain": [
       "<Figure size 720x360 with 1 Axes>"
      ]
     },
     "metadata": {
      "needs_background": "light"
     },
     "output_type": "display_data"
    },
    {
     "data": {
      "image/png": "[encoded data removed]",
      "text/plain": [
       "<Figure size 360x360 with 1 Axes>"
      ]
     },
     "metadata": {
      "needs_background": "light"
     },
     "output_type": "display_data"
    }
   ],
   "source": [
    "# Зависимость от дня размещения\n",
    "(\n",
    "    data.pivot_table(index='weekday_exposition', values='last_price')\n",
    "    .plot(grid=True, style='o-', figsize=(5, 5))\n",
    ")\n",
    "plt.show()\n",
    "# Зависимость от месяца размещения\n",
    "(\n",
    "    data.pivot_table(index='month_exposition', values='last_price')\n",
    "    .plot(grid=True, style='o-', xlim=(1,12), figsize=(10, 5))\n",
    ")\n",
    "plt.show()\n",
    "# Зависимость от года размещения\n",
    "(\n",
    "    data.pivot_table(index='year_exposition', values='last_price')\n",
    "    .plot(grid=True, style='o-', figsize=(5, 5))\n",
    ")\n",
    "plt.show()"
   ]
  },
  {
   "cell_type": "markdown",
   "metadata": {},
   "source": [
    "Задача 4. Посчитаем среднюю цену одного квадратного метра в 10 населённых пунктах с наибольшим числом объявлений."
   ]
  },
  {
   "cell_type": "code",
   "execution_count": 45,
   "metadata": {},
   "outputs": [
    {
     "data": {
      "text/html": [
       "<div>\n",
       "<style scoped>\n",
       "    .dataframe tbody tr th:only-of-type {\n",
       "        vertical-align: middle;\n",
       "    }\n",
       "\n",
       "    .dataframe tbody tr th {\n",
       "        vertical-align: top;\n",
       "    }\n",
       "\n",
       "    .dataframe thead th {\n",
       "        text-align: right;\n",
       "    }\n",
       "</style>\n",
       "<table border=\"1\" class=\"dataframe\">\n",
       "  <thead>\n",
       "    <tr style=\"text-align: right;\">\n",
       "      <th></th>\n",
       "      <th>Город</th>\n",
       "      <th>Средняя цена за кв.м., тыс. руб.</th>\n",
       "      <th>Средняя цена за квартиру, тыс. руб.</th>\n",
       "    </tr>\n",
       "  </thead>\n",
       "  <tbody>\n",
       "    <tr>\n",
       "      <th>0</th>\n",
       "      <td>Санкт-Петербург</td>\n",
       "      <td>105263.0</td>\n",
       "      <td>5500000.0</td>\n",
       "    </tr>\n",
       "    <tr>\n",
       "      <th>4</th>\n",
       "      <td>Пушкин</td>\n",
       "      <td>100000.0</td>\n",
       "      <td>5180000.0</td>\n",
       "    </tr>\n",
       "    <tr>\n",
       "      <th>8</th>\n",
       "      <td>деревня Кудрово</td>\n",
       "      <td>92647.0</td>\n",
       "      <td>3790000.0</td>\n",
       "    </tr>\n",
       "    <tr>\n",
       "      <th>6</th>\n",
       "      <td>посёлок Парголово</td>\n",
       "      <td>92222.0</td>\n",
       "      <td>4100000.0</td>\n",
       "    </tr>\n",
       "    <tr>\n",
       "      <th>1</th>\n",
       "      <td>посёлок Мурино</td>\n",
       "      <td>86410.5</td>\n",
       "      <td>3400000.0</td>\n",
       "    </tr>\n",
       "    <tr>\n",
       "      <th>2</th>\n",
       "      <td>посёлок Шушары</td>\n",
       "      <td>77222.5</td>\n",
       "      <td>3950000.0</td>\n",
       "    </tr>\n",
       "    <tr>\n",
       "      <th>5</th>\n",
       "      <td>Колпино</td>\n",
       "      <td>74861.0</td>\n",
       "      <td>3600000.0</td>\n",
       "    </tr>\n",
       "    <tr>\n",
       "      <th>7</th>\n",
       "      <td>Гатчина</td>\n",
       "      <td>67924.0</td>\n",
       "      <td>3100000.0</td>\n",
       "    </tr>\n",
       "    <tr>\n",
       "      <th>3</th>\n",
       "      <td>Всеволожск</td>\n",
       "      <td>65811.0</td>\n",
       "      <td>3450000.0</td>\n",
       "    </tr>\n",
       "    <tr>\n",
       "      <th>9</th>\n",
       "      <td>Выборг</td>\n",
       "      <td>58333.0</td>\n",
       "      <td>2897000.0</td>\n",
       "    </tr>\n",
       "  </tbody>\n",
       "</table>\n",
       "</div>"
      ],
      "text/plain": [
       "               Город  Средняя цена за кв.м., тыс. руб.  \\\n",
       "0    Санкт-Петербург                          105263.0   \n",
       "4             Пушкин                          100000.0   \n",
       "8    деревня Кудрово                           92647.0   \n",
       "6  посёлок Парголово                           92222.0   \n",
       "1     посёлок Мурино                           86410.5   \n",
       "2     посёлок Шушары                           77222.5   \n",
       "5            Колпино                           74861.0   \n",
       "7            Гатчина                           67924.0   \n",
       "3         Всеволожск                           65811.0   \n",
       "9             Выборг                           58333.0   \n",
       "\n",
       "   Средняя цена за квартиру, тыс. руб.  \n",
       "0                            5500000.0  \n",
       "4                            5180000.0  \n",
       "8                            3790000.0  \n",
       "6                            4100000.0  \n",
       "1                            3400000.0  \n",
       "2                            3950000.0  \n",
       "5                            3600000.0  \n",
       "7                            3100000.0  \n",
       "3                            3450000.0  \n",
       "9                            2897000.0  "
      ]
     },
     "execution_count": 45,
     "metadata": {},
     "output_type": "execute_result"
    }
   ],
   "source": [
    "top10 = data['locality_name'].value_counts().index.tolist()[:10]\n",
    "mean10_metrics = [data[data['locality_name'] == city]['price_per_square_meter'].median().round(2) for city in top10]\n",
    "mean10_prices = [data[data['locality_name'] == city]['last_price'].median() for city in top10]\n",
    "frame = {'Город': top10, 'Средняя цена за кв.м., тыс. руб.': mean10_metrics, 'Средняя цена за квартиру, тыс. руб.': mean10_prices}\n",
    "dataframe = pd.DataFrame(frame).sort_values(by='Средняя цена за кв.м., тыс. руб.', ascending=False)\n",
    "dataframe"
   ]
  },
  {
   "cell_type": "markdown",
   "metadata": {},
   "source": [
    "\n",
    "Как и ожидалось, самые дорогие квартиры (что за всё жилье, что за 1 кв.м.) в Санкт-Петербурге и парковом городе Пушкине. Чем дальше от города, тем дешевле.\n"
   ]
  },
  {
   "cell_type": "markdown",
   "metadata": {},
   "source": [
    "Задача 5. Выделяем квартиры в Санкт-Петербурге с помощью столбца locality_name и вычисляем среднюю цену каждого километра."
   ]
  },
  {
   "cell_type": "code",
   "execution_count": 46,
   "metadata": {},
   "outputs": [],
   "source": [
    "data['cityCenters_nearest_new'] = data['cityCenters_nearest'].round()"
   ]
  },
  {
   "cell_type": "code",
   "execution_count": 47,
   "metadata": {},
   "outputs": [
    {
     "data": {
      "image/png": "[encoded data removed]",
      "text/plain": [
       "<Figure size 720x360 with 1 Axes>"
      ]
     },
     "metadata": {
      "needs_background": "light"
     },
     "output_type": "display_data"
    }
   ],
   "source": [
    "# Выбираем Санкт-Петербург, смотрим на график, где указана средняя стоимость для каждого км\n",
    "(\n",
    "    data.query('locality_name == \"Санкт-Петербург\"')\n",
    "    .pivot_table(index='cityCenters_nearest_new', values='last_price')\n",
    "    .plot(grid=True, style='o-', xlim=(0,15), figsize=(10, 5))\n",
    ")\n",
    "plt.show()"
   ]
  },
  {
   "cell_type": "code",
   "execution_count": 48,
   "metadata": {},
   "outputs": [
    {
     "data": {
      "image/png": "[encoded data removed]",
      "text/plain": [
       "<Figure size 720x360 with 1 Axes>"
      ]
     },
     "metadata": {
      "needs_background": "light"
     },
     "output_type": "display_data"
    }
   ],
   "source": [
    "# Выбираем Санкт-Петербург, смотрим на график, где указана средняя стоимость для каждого км\n",
    "(\n",
    "    data.query('locality_name == \"Санкт-Петербург\"')\n",
    "    .pivot_table(index='cityCenters_nearest', values='last_price')\n",
    "    .plot(grid=True, style='o-', xlim=(0,15), figsize=(10, 5))\n",
    ")\n",
    "plt.show()"
   ]
  },
  {
   "cell_type": "markdown",
   "metadata": {},
   "source": [
    "Вывод\n",
    "Центральная зона - это 8 км и меньше. Дальше 8 км средняя цена на квартиры резко снижается."
   ]
  },
  {
   "cell_type": "code",
   "execution_count": 49,
   "metadata": {},
   "outputs": [
    {
     "data": {
      "text/html": [
       "<div>\n",
       "<style scoped>\n",
       "    .dataframe tbody tr th:only-of-type {\n",
       "        vertical-align: middle;\n",
       "    }\n",
       "\n",
       "    .dataframe tbody tr th {\n",
       "        vertical-align: top;\n",
       "    }\n",
       "\n",
       "    .dataframe thead th {\n",
       "        text-align: right;\n",
       "    }\n",
       "</style>\n",
       "<table border=\"1\" class=\"dataframe\">\n",
       "  <thead>\n",
       "    <tr style=\"text-align: right;\">\n",
       "      <th></th>\n",
       "      <th>last_price</th>\n",
       "    </tr>\n",
       "    <tr>\n",
       "      <th>cityCenters_nearest</th>\n",
       "      <th></th>\n",
       "    </tr>\n",
       "  </thead>\n",
       "  <tbody>\n",
       "    <tr>\n",
       "      <th>0.0</th>\n",
       "      <td>1.569329e+07</td>\n",
       "    </tr>\n",
       "    <tr>\n",
       "      <th>0.2</th>\n",
       "      <td>1.596300e+07</td>\n",
       "    </tr>\n",
       "    <tr>\n",
       "      <th>0.3</th>\n",
       "      <td>3.563065e+07</td>\n",
       "    </tr>\n",
       "    <tr>\n",
       "      <th>0.4</th>\n",
       "      <td>3.832000e+07</td>\n",
       "    </tr>\n",
       "    <tr>\n",
       "      <th>0.5</th>\n",
       "      <td>1.232000e+07</td>\n",
       "    </tr>\n",
       "    <tr>\n",
       "      <th>...</th>\n",
       "      <td>...</td>\n",
       "    </tr>\n",
       "    <tr>\n",
       "      <th>28.1</th>\n",
       "      <td>7.600000e+06</td>\n",
       "    </tr>\n",
       "    <tr>\n",
       "      <th>28.6</th>\n",
       "      <td>4.775000e+06</td>\n",
       "    </tr>\n",
       "    <tr>\n",
       "      <th>28.8</th>\n",
       "      <td>4.370000e+06</td>\n",
       "    </tr>\n",
       "    <tr>\n",
       "      <th>29.3</th>\n",
       "      <td>4.525000e+06</td>\n",
       "    </tr>\n",
       "    <tr>\n",
       "      <th>29.5</th>\n",
       "      <td>2.450000e+06</td>\n",
       "    </tr>\n",
       "  </tbody>\n",
       "</table>\n",
       "<p>256 rows × 1 columns</p>\n",
       "</div>"
      ],
      "text/plain": [
       "                       last_price\n",
       "cityCenters_nearest              \n",
       "0.0                  1.569329e+07\n",
       "0.2                  1.596300e+07\n",
       "0.3                  3.563065e+07\n",
       "0.4                  3.832000e+07\n",
       "0.5                  1.232000e+07\n",
       "...                           ...\n",
       "28.1                 7.600000e+06\n",
       "28.6                 4.775000e+06\n",
       "28.8                 4.370000e+06\n",
       "29.3                 4.525000e+06\n",
       "29.5                 2.450000e+06\n",
       "\n",
       "[256 rows x 1 columns]"
      ]
     },
     "execution_count": 49,
     "metadata": {},
     "output_type": "execute_result"
    }
   ],
   "source": [
    "data.query('locality_name == \"Санкт-Петербург\"')\\\n",
    "    .pivot_table(index='cityCenters_nearest', values='last_price')\n"
   ]
  },
  {
   "cell_type": "markdown",
   "metadata": {},
   "source": [
    "### Общий вывод"
   ]
  },
  {
   "cell_type": "markdown",
   "metadata": {},
   "source": [
    "<div class=\"alert alert-info\"> Сделаем выводы и на основе данных о корреляции, и на основе графиков.\n",
    "Укажем факторы, которые сильнее всего влияют на конечную цену:\n",
    "Мы обработали полученный архив данных - обработали пропущенные значения там, где это необходимо, заменили типы данных на необходимые для удобной работы. Посчитали и добавили в таблицу цену квадратного метра жилья, вывели из даты дни недели, месяцы и года размещения объявлений, добавили категории по этажам квартир. Изучили следующие параметры на наличие выбивающихся значений - площадь, цена, число комнат, высота потолков. Были определены аномалии в данных параметрах. Изучая время продажи квартир мы выявили, что большое количество объявлений было автоматически снято с Яндекс Недвижимость.\n",
    "Мы выявили при помощи диаграммы размаха, что нормальные значения продажи квартир варьируются от 1 до 600 дней. Мы выявили, что на стоимость квадратного метра квартиры больше всего влияют количество комнат, этаж квартиры, близость к центру.\n",
    "    \n",
    "Имеется постоянное удорожание стоимости. Судя, по резкости изменения цен в зависимости от удаления от центра СПБ, мы выявили центр города в радиусе 3 километров.    \n",
    "</div>"
   ]
  }
 ],
 "metadata": {
  "ExecuteTimeLog": [
   {
    "duration": 746,
    "start_time": "2023-02-01T06:45:46.872Z"
   },
   {
    "duration": 2336,
    "start_time": "2023-02-01T06:48:34.416Z"
   },
   {
    "duration": 106,
    "start_time": "2023-02-01T06:48:55.916Z"
   },
   {
    "duration": 1768,
    "start_time": "2023-02-01T06:49:01.897Z"
   },
   {
    "duration": 186,
    "start_time": "2023-02-01T06:51:01.546Z"
   },
   {
    "duration": 42,
    "start_time": "2023-02-01T21:41:33.007Z"
   },
   {
    "duration": 481,
    "start_time": "2023-02-01T21:42:07.668Z"
   },
   {
    "duration": 463,
    "start_time": "2023-02-01T21:42:14.436Z"
   },
   {
    "duration": 12,
    "start_time": "2023-02-01T21:42:14.901Z"
   },
   {
    "duration": 2105,
    "start_time": "2023-02-01T21:42:14.914Z"
   },
   {
    "duration": 186,
    "start_time": "2023-02-01T21:42:17.021Z"
   },
   {
    "duration": 261,
    "start_time": "2023-02-01T21:42:17.209Z"
   },
   {
    "duration": 889,
    "start_time": "2023-02-01T21:42:17.472Z"
   },
   {
    "duration": 538,
    "start_time": "2023-02-01T21:42:18.363Z"
   },
   {
    "duration": 37,
    "start_time": "2023-02-01T21:42:18.903Z"
   },
   {
    "duration": 541,
    "start_time": "2023-02-01T21:42:18.941Z"
   },
   {
    "duration": 227,
    "start_time": "2023-02-01T21:42:19.483Z"
   },
   {
    "duration": 158,
    "start_time": "2023-02-01T21:42:19.712Z"
   },
   {
    "duration": 143,
    "start_time": "2023-02-01T21:42:19.872Z"
   },
   {
    "duration": 197,
    "start_time": "2023-02-01T21:42:20.016Z"
   },
   {
    "duration": 144,
    "start_time": "2023-02-01T21:42:20.216Z"
   },
   {
    "duration": 145,
    "start_time": "2023-02-01T21:42:20.362Z"
   },
   {
    "duration": 159,
    "start_time": "2023-02-01T21:42:20.508Z"
   },
   {
    "duration": 175,
    "start_time": "2023-02-01T22:02:33.819Z"
   },
   {
    "duration": 9,
    "start_time": "2023-02-01T22:05:51.216Z"
   },
   {
    "duration": 173,
    "start_time": "2023-02-01T22:32:49.664Z"
   },
   {
    "duration": 233,
    "start_time": "2023-02-01T22:33:55.695Z"
   },
   {
    "duration": 5,
    "start_time": "2023-02-01T22:34:01.159Z"
   },
   {
    "duration": 466,
    "start_time": "2023-02-02T00:11:32.259Z"
   },
   {
    "duration": 13,
    "start_time": "2023-02-02T00:11:32.727Z"
   },
   {
    "duration": 1923,
    "start_time": "2023-02-02T00:11:32.741Z"
   },
   {
    "duration": 8,
    "start_time": "2023-02-02T00:11:34.665Z"
   },
   {
    "duration": 178,
    "start_time": "2023-02-02T00:11:34.675Z"
   },
   {
    "duration": 5,
    "start_time": "2023-02-02T00:11:34.854Z"
   },
   {
    "duration": 30,
    "start_time": "2023-02-02T00:11:34.860Z"
   },
   {
    "duration": 266,
    "start_time": "2023-02-02T00:11:34.892Z"
   },
   {
    "duration": 894,
    "start_time": "2023-02-02T00:11:35.160Z"
   },
   {
    "duration": 544,
    "start_time": "2023-02-02T00:11:36.056Z"
   },
   {
    "duration": 38,
    "start_time": "2023-02-02T00:11:36.601Z"
   },
   {
    "duration": 527,
    "start_time": "2023-02-02T00:11:36.640Z"
   },
   {
    "duration": 143,
    "start_time": "2023-02-02T00:11:37.168Z"
   },
   {
    "duration": 261,
    "start_time": "2023-02-02T00:11:37.314Z"
   },
   {
    "duration": 131,
    "start_time": "2023-02-02T00:11:37.576Z"
   },
   {
    "duration": 183,
    "start_time": "2023-02-02T00:11:37.708Z"
   },
   {
    "duration": 144,
    "start_time": "2023-02-02T00:11:37.893Z"
   },
   {
    "duration": 150,
    "start_time": "2023-02-02T00:11:38.038Z"
   },
   {
    "duration": 153,
    "start_time": "2023-02-02T00:11:38.190Z"
   },
   {
    "duration": 7,
    "start_time": "2023-02-02T00:17:24.744Z"
   },
   {
    "duration": 7,
    "start_time": "2023-02-02T00:17:57.880Z"
   },
   {
    "duration": 93,
    "start_time": "2023-02-02T00:18:39.633Z"
   },
   {
    "duration": 100,
    "start_time": "2023-02-02T00:19:06.053Z"
   },
   {
    "duration": 8,
    "start_time": "2023-02-02T00:20:54.785Z"
   },
   {
    "duration": 9,
    "start_time": "2023-02-02T00:21:01.138Z"
   },
   {
    "duration": 10,
    "start_time": "2023-02-02T00:21:10.320Z"
   },
   {
    "duration": 8,
    "start_time": "2023-02-02T00:21:20.121Z"
   },
   {
    "duration": 29,
    "start_time": "2023-02-02T00:21:38.563Z"
   },
   {
    "duration": 9,
    "start_time": "2023-02-02T00:21:49.737Z"
   },
   {
    "duration": 21,
    "start_time": "2023-02-02T00:22:15.245Z"
   },
   {
    "duration": 70,
    "start_time": "2023-02-02T00:25:16.495Z"
   },
   {
    "duration": 488,
    "start_time": "2023-02-02T00:40:24.713Z"
   },
   {
    "duration": 13,
    "start_time": "2023-02-02T00:40:25.204Z"
   },
   {
    "duration": 1961,
    "start_time": "2023-02-02T00:40:25.219Z"
   },
   {
    "duration": 8,
    "start_time": "2023-02-02T00:40:27.182Z"
   },
   {
    "duration": 178,
    "start_time": "2023-02-02T00:40:27.192Z"
   },
   {
    "duration": 5,
    "start_time": "2023-02-02T00:40:27.371Z"
   },
   {
    "duration": 14,
    "start_time": "2023-02-02T00:40:27.377Z"
   },
   {
    "duration": 24,
    "start_time": "2023-02-02T00:40:27.393Z"
   },
   {
    "duration": 278,
    "start_time": "2023-02-02T00:40:27.419Z"
   },
   {
    "duration": 876,
    "start_time": "2023-02-02T00:40:27.699Z"
   },
   {
    "duration": 605,
    "start_time": "2023-02-02T00:40:28.576Z"
   },
   {
    "duration": 32,
    "start_time": "2023-02-02T00:40:29.182Z"
   },
   {
    "duration": 596,
    "start_time": "2023-02-02T00:40:29.215Z"
   },
   {
    "duration": 155,
    "start_time": "2023-02-02T00:40:29.813Z"
   },
   {
    "duration": 280,
    "start_time": "2023-02-02T00:40:29.969Z"
   },
   {
    "duration": 153,
    "start_time": "2023-02-02T00:40:30.252Z"
   },
   {
    "duration": 194,
    "start_time": "2023-02-02T00:40:30.407Z"
   },
   {
    "duration": 139,
    "start_time": "2023-02-02T00:40:30.602Z"
   },
   {
    "duration": 157,
    "start_time": "2023-02-02T00:40:30.742Z"
   },
   {
    "duration": 147,
    "start_time": "2023-02-02T00:40:30.901Z"
   },
   {
    "duration": 25,
    "start_time": "2023-02-02T00:41:33.241Z"
   },
   {
    "duration": 46,
    "start_time": "2023-02-02T02:09:35.035Z"
   },
   {
    "duration": 780,
    "start_time": "2023-02-02T02:09:42.154Z"
   },
   {
    "duration": 15,
    "start_time": "2023-02-02T02:09:42.936Z"
   },
   {
    "duration": 2219,
    "start_time": "2023-02-02T02:09:42.953Z"
   },
   {
    "duration": 199,
    "start_time": "2023-02-02T02:09:45.174Z"
   },
   {
    "duration": 5,
    "start_time": "2023-02-02T02:09:45.376Z"
   },
   {
    "duration": 14,
    "start_time": "2023-02-02T02:09:45.382Z"
   },
   {
    "duration": 11,
    "start_time": "2023-02-02T02:09:45.398Z"
   },
   {
    "duration": 21,
    "start_time": "2023-02-02T02:09:45.410Z"
   },
   {
    "duration": 296,
    "start_time": "2023-02-02T02:09:45.433Z"
   },
   {
    "duration": 31,
    "start_time": "2023-02-02T02:09:45.731Z"
   },
   {
    "duration": 1013,
    "start_time": "2023-02-02T02:09:45.764Z"
   },
   {
    "duration": 545,
    "start_time": "2023-02-02T02:09:46.779Z"
   },
   {
    "duration": 30,
    "start_time": "2023-02-02T02:09:47.326Z"
   },
   {
    "duration": 561,
    "start_time": "2023-02-02T02:09:47.358Z"
   },
   {
    "duration": 149,
    "start_time": "2023-02-02T02:09:47.920Z"
   },
   {
    "duration": 269,
    "start_time": "2023-02-02T02:09:48.071Z"
   },
   {
    "duration": 151,
    "start_time": "2023-02-02T02:09:48.342Z"
   },
   {
    "duration": 190,
    "start_time": "2023-02-02T02:09:48.494Z"
   },
   {
    "duration": 150,
    "start_time": "2023-02-02T02:09:48.686Z"
   },
   {
    "duration": 155,
    "start_time": "2023-02-02T02:09:48.838Z"
   },
   {
    "duration": 158,
    "start_time": "2023-02-02T02:09:48.995Z"
   },
   {
    "duration": 5,
    "start_time": "2023-02-02T02:11:35.640Z"
   },
   {
    "duration": 114,
    "start_time": "2023-02-02T02:18:30.788Z"
   },
   {
    "duration": 43,
    "start_time": "2023-02-02T02:31:02.259Z"
   },
   {
    "duration": 12,
    "start_time": "2023-02-02T02:31:05.007Z"
   },
   {
    "duration": 490,
    "start_time": "2023-02-02T02:31:11.228Z"
   },
   {
    "duration": 15,
    "start_time": "2023-02-02T02:31:11.719Z"
   },
   {
    "duration": 2082,
    "start_time": "2023-02-02T02:31:11.735Z"
   },
   {
    "duration": 13,
    "start_time": "2023-02-02T02:31:13.819Z"
   },
   {
    "duration": 226,
    "start_time": "2023-02-02T02:31:13.835Z"
   },
   {
    "duration": 5,
    "start_time": "2023-02-02T02:31:14.063Z"
   },
   {
    "duration": 32,
    "start_time": "2023-02-02T02:31:14.070Z"
   },
   {
    "duration": 8,
    "start_time": "2023-02-02T02:31:14.108Z"
   },
   {
    "duration": 23,
    "start_time": "2023-02-02T02:31:14.118Z"
   },
   {
    "duration": 35,
    "start_time": "2023-02-02T02:31:14.143Z"
   },
   {
    "duration": 279,
    "start_time": "2023-02-02T02:31:14.180Z"
   },
   {
    "duration": 33,
    "start_time": "2023-02-02T02:31:14.461Z"
   },
   {
    "duration": 959,
    "start_time": "2023-02-02T02:31:14.498Z"
   },
   {
    "duration": 603,
    "start_time": "2023-02-02T02:31:15.459Z"
   },
   {
    "duration": 42,
    "start_time": "2023-02-02T02:31:16.064Z"
   },
   {
    "duration": 589,
    "start_time": "2023-02-02T02:31:16.108Z"
   },
   {
    "duration": 144,
    "start_time": "2023-02-02T02:31:16.702Z"
   },
   {
    "duration": 267,
    "start_time": "2023-02-02T02:31:16.848Z"
   },
   {
    "duration": 151,
    "start_time": "2023-02-02T02:31:17.116Z"
   },
   {
    "duration": 182,
    "start_time": "2023-02-02T02:31:17.268Z"
   },
   {
    "duration": 153,
    "start_time": "2023-02-02T02:31:17.452Z"
   },
   {
    "duration": 149,
    "start_time": "2023-02-02T02:31:17.607Z"
   },
   {
    "duration": 168,
    "start_time": "2023-02-02T02:31:17.758Z"
   },
   {
    "duration": 75,
    "start_time": "2023-02-02T02:39:15.992Z"
   },
   {
    "duration": 102,
    "start_time": "2023-02-02T02:42:51.226Z"
   },
   {
    "duration": 87,
    "start_time": "2023-02-02T02:44:47.016Z"
   },
   {
    "duration": 10,
    "start_time": "2023-02-02T03:47:41.278Z"
   },
   {
    "duration": 1140,
    "start_time": "2023-02-02T03:48:34.963Z"
   },
   {
    "duration": 120,
    "start_time": "2023-02-02T03:48:36.108Z"
   },
   {
    "duration": 20,
    "start_time": "2023-02-02T03:48:36.230Z"
   },
   {
    "duration": 1846,
    "start_time": "2023-02-02T03:48:36.251Z"
   },
   {
    "duration": 9,
    "start_time": "2023-02-02T03:48:38.099Z"
   },
   {
    "duration": 83,
    "start_time": "2023-02-02T03:48:38.109Z"
   },
   {
    "duration": 19,
    "start_time": "2023-02-02T03:48:38.194Z"
   },
   {
    "duration": 9,
    "start_time": "2023-02-02T03:48:38.215Z"
   },
   {
    "duration": 188,
    "start_time": "2023-02-02T03:48:38.227Z"
   },
   {
    "duration": 6,
    "start_time": "2023-02-02T03:48:38.417Z"
   },
   {
    "duration": 14,
    "start_time": "2023-02-02T03:48:38.424Z"
   },
   {
    "duration": 14,
    "start_time": "2023-02-02T03:48:38.440Z"
   },
   {
    "duration": 44,
    "start_time": "2023-02-02T03:48:38.456Z"
   },
   {
    "duration": 290,
    "start_time": "2023-02-02T03:48:38.501Z"
   },
   {
    "duration": 24,
    "start_time": "2023-02-02T03:48:38.792Z"
   },
   {
    "duration": 842,
    "start_time": "2023-02-02T03:48:38.818Z"
   },
   {
    "duration": 680,
    "start_time": "2023-02-02T03:48:39.662Z"
   },
   {
    "duration": 49,
    "start_time": "2023-02-02T03:48:40.344Z"
   },
   {
    "duration": 586,
    "start_time": "2023-02-02T03:48:40.394Z"
   },
   {
    "duration": 148,
    "start_time": "2023-02-02T03:48:40.982Z"
   },
   {
    "duration": 163,
    "start_time": "2023-02-02T03:48:41.132Z"
   },
   {
    "duration": 149,
    "start_time": "2023-02-02T03:48:41.296Z"
   },
   {
    "duration": 191,
    "start_time": "2023-02-02T03:48:41.446Z"
   },
   {
    "duration": 146,
    "start_time": "2023-02-02T03:48:41.638Z"
   },
   {
    "duration": 264,
    "start_time": "2023-02-02T03:48:41.785Z"
   },
   {
    "duration": 158,
    "start_time": "2023-02-02T03:48:42.051Z"
   },
   {
    "duration": 53,
    "start_time": "2023-02-04T00:43:14.955Z"
   },
   {
    "duration": 1374,
    "start_time": "2023-02-04T00:43:38.383Z"
   },
   {
    "duration": 338,
    "start_time": "2023-02-04T00:43:39.760Z"
   },
   {
    "duration": 16,
    "start_time": "2023-02-04T00:43:40.100Z"
   },
   {
    "duration": 2082,
    "start_time": "2023-02-04T00:43:40.118Z"
   },
   {
    "duration": 10,
    "start_time": "2023-02-04T00:43:42.202Z"
   },
   {
    "duration": 90,
    "start_time": "2023-02-04T00:43:42.214Z"
   },
   {
    "duration": 21,
    "start_time": "2023-02-04T00:43:42.306Z"
   },
   {
    "duration": 31,
    "start_time": "2023-02-04T00:43:42.329Z"
   },
   {
    "duration": 255,
    "start_time": "2023-02-04T00:43:42.361Z"
   },
   {
    "duration": 6,
    "start_time": "2023-02-04T00:43:42.618Z"
   },
   {
    "duration": 31,
    "start_time": "2023-02-04T00:43:42.626Z"
   },
   {
    "duration": 20,
    "start_time": "2023-02-04T00:43:42.659Z"
   },
   {
    "duration": 44,
    "start_time": "2023-02-04T00:43:42.681Z"
   },
   {
    "duration": 337,
    "start_time": "2023-02-04T00:43:42.728Z"
   },
   {
    "duration": 27,
    "start_time": "2023-02-04T00:43:43.066Z"
   },
   {
    "duration": 992,
    "start_time": "2023-02-04T00:43:43.094Z"
   },
   {
    "duration": 710,
    "start_time": "2023-02-04T00:43:44.088Z"
   },
   {
    "duration": 42,
    "start_time": "2023-02-04T00:43:44.800Z"
   },
   {
    "duration": 617,
    "start_time": "2023-02-04T00:43:44.844Z"
   },
   {
    "duration": 178,
    "start_time": "2023-02-04T00:43:45.463Z"
   },
   {
    "duration": 218,
    "start_time": "2023-02-04T00:43:45.644Z"
   },
   {
    "duration": 163,
    "start_time": "2023-02-04T00:43:45.864Z"
   },
   {
    "duration": 210,
    "start_time": "2023-02-04T00:43:46.028Z"
   },
   {
    "duration": 161,
    "start_time": "2023-02-04T00:43:46.240Z"
   },
   {
    "duration": 297,
    "start_time": "2023-02-04T00:43:46.403Z"
   },
   {
    "duration": 189,
    "start_time": "2023-02-04T00:43:46.702Z"
   },
   {
    "duration": 185,
    "start_time": "2023-02-04T01:00:24.723Z"
   },
   {
    "duration": 177,
    "start_time": "2023-02-04T01:00:40.629Z"
   },
   {
    "duration": 104,
    "start_time": "2023-02-04T01:04:53.961Z"
   },
   {
    "duration": 6,
    "start_time": "2023-02-04T01:05:23.062Z"
   },
   {
    "duration": 9,
    "start_time": "2023-02-04T01:07:35.671Z"
   },
   {
    "duration": 9,
    "start_time": "2023-02-04T01:07:56.385Z"
   },
   {
    "duration": 6,
    "start_time": "2023-02-04T01:07:58.983Z"
   },
   {
    "duration": 109,
    "start_time": "2023-02-04T01:11:29.012Z"
   },
   {
    "duration": 14,
    "start_time": "2023-02-04T01:11:29.611Z"
   },
   {
    "duration": 1196,
    "start_time": "2023-02-04T01:12:57.031Z"
   },
   {
    "duration": 114,
    "start_time": "2023-02-04T01:12:58.229Z"
   },
   {
    "duration": 15,
    "start_time": "2023-02-04T01:12:58.344Z"
   },
   {
    "duration": 2003,
    "start_time": "2023-02-04T01:12:58.361Z"
   },
   {
    "duration": 9,
    "start_time": "2023-02-04T01:13:00.365Z"
   },
   {
    "duration": 116,
    "start_time": "2023-02-04T01:13:00.376Z"
   },
   {
    "duration": 14,
    "start_time": "2023-02-04T01:13:00.493Z"
   },
   {
    "duration": 62,
    "start_time": "2023-02-04T01:13:00.508Z"
   },
   {
    "duration": 211,
    "start_time": "2023-02-04T01:13:00.572Z"
   },
   {
    "duration": 77,
    "start_time": "2023-02-04T01:13:00.786Z"
   },
   {
    "duration": 0,
    "start_time": "2023-02-04T01:13:00.864Z"
   },
   {
    "duration": 0,
    "start_time": "2023-02-04T01:13:00.866Z"
   },
   {
    "duration": 0,
    "start_time": "2023-02-04T01:13:00.867Z"
   },
   {
    "duration": 0,
    "start_time": "2023-02-04T01:13:00.869Z"
   },
   {
    "duration": 0,
    "start_time": "2023-02-04T01:13:00.870Z"
   },
   {
    "duration": 0,
    "start_time": "2023-02-04T01:13:00.871Z"
   },
   {
    "duration": 0,
    "start_time": "2023-02-04T01:13:00.872Z"
   },
   {
    "duration": 0,
    "start_time": "2023-02-04T01:13:00.873Z"
   },
   {
    "duration": 0,
    "start_time": "2023-02-04T01:13:00.874Z"
   },
   {
    "duration": 0,
    "start_time": "2023-02-04T01:13:00.875Z"
   },
   {
    "duration": 0,
    "start_time": "2023-02-04T01:13:00.876Z"
   },
   {
    "duration": 0,
    "start_time": "2023-02-04T01:13:00.877Z"
   },
   {
    "duration": 0,
    "start_time": "2023-02-04T01:13:00.878Z"
   },
   {
    "duration": 0,
    "start_time": "2023-02-04T01:13:00.879Z"
   },
   {
    "duration": 0,
    "start_time": "2023-02-04T01:13:00.880Z"
   },
   {
    "duration": 0,
    "start_time": "2023-02-04T01:13:00.882Z"
   },
   {
    "duration": 0,
    "start_time": "2023-02-04T01:13:00.883Z"
   },
   {
    "duration": 0,
    "start_time": "2023-02-04T01:13:00.883Z"
   },
   {
    "duration": 0,
    "start_time": "2023-02-04T01:13:00.884Z"
   },
   {
    "duration": 0,
    "start_time": "2023-02-04T01:13:00.885Z"
   },
   {
    "duration": 0,
    "start_time": "2023-02-04T01:13:00.886Z"
   },
   {
    "duration": 0,
    "start_time": "2023-02-04T01:13:00.888Z"
   },
   {
    "duration": 0,
    "start_time": "2023-02-04T01:13:00.889Z"
   },
   {
    "duration": 149,
    "start_time": "2023-02-04T01:13:18.725Z"
   },
   {
    "duration": 9,
    "start_time": "2023-02-04T01:13:33.264Z"
   },
   {
    "duration": 75,
    "start_time": "2023-02-04T01:13:35.007Z"
   },
   {
    "duration": 5,
    "start_time": "2023-02-04T01:14:02.226Z"
   },
   {
    "duration": 9,
    "start_time": "2023-02-04T01:14:04.490Z"
   },
   {
    "duration": 70,
    "start_time": "2023-02-04T01:14:06.726Z"
   },
   {
    "duration": 310,
    "start_time": "2023-02-04T01:26:08.084Z"
   },
   {
    "duration": 24,
    "start_time": "2023-02-04T01:26:08.724Z"
   },
   {
    "duration": 1507,
    "start_time": "2023-02-04T13:44:27.608Z"
   },
   {
    "duration": 179,
    "start_time": "2023-02-04T13:44:29.117Z"
   },
   {
    "duration": 14,
    "start_time": "2023-02-04T13:44:29.298Z"
   },
   {
    "duration": 2159,
    "start_time": "2023-02-04T13:44:29.314Z"
   },
   {
    "duration": 10,
    "start_time": "2023-02-04T13:44:31.475Z"
   },
   {
    "duration": 104,
    "start_time": "2023-02-04T13:44:31.486Z"
   },
   {
    "duration": 12,
    "start_time": "2023-02-04T13:44:31.592Z"
   },
   {
    "duration": 8,
    "start_time": "2023-02-04T13:44:31.606Z"
   },
   {
    "duration": 323,
    "start_time": "2023-02-04T13:44:31.615Z"
   },
   {
    "duration": 0,
    "start_time": "2023-02-04T13:44:31.941Z"
   },
   {
    "duration": 0,
    "start_time": "2023-02-04T13:44:31.942Z"
   },
   {
    "duration": 0,
    "start_time": "2023-02-04T13:44:31.946Z"
   },
   {
    "duration": 0,
    "start_time": "2023-02-04T13:44:31.949Z"
   },
   {
    "duration": 0,
    "start_time": "2023-02-04T13:44:31.950Z"
   },
   {
    "duration": 0,
    "start_time": "2023-02-04T13:44:31.955Z"
   },
   {
    "duration": 0,
    "start_time": "2023-02-04T13:44:31.957Z"
   },
   {
    "duration": 0,
    "start_time": "2023-02-04T13:44:31.958Z"
   },
   {
    "duration": 1181,
    "start_time": "2023-02-04T13:44:57.180Z"
   },
   {
    "duration": 112,
    "start_time": "2023-02-04T13:44:58.363Z"
   },
   {
    "duration": 16,
    "start_time": "2023-02-04T13:44:58.477Z"
   },
   {
    "duration": 2266,
    "start_time": "2023-02-04T13:44:58.495Z"
   },
   {
    "duration": 14,
    "start_time": "2023-02-04T13:45:00.763Z"
   },
   {
    "duration": 89,
    "start_time": "2023-02-04T13:45:00.779Z"
   },
   {
    "duration": 19,
    "start_time": "2023-02-04T13:45:00.870Z"
   },
   {
    "duration": 16,
    "start_time": "2023-02-04T13:45:00.890Z"
   },
   {
    "duration": 314,
    "start_time": "2023-02-04T13:45:00.908Z"
   },
   {
    "duration": 0,
    "start_time": "2023-02-04T13:45:01.224Z"
   },
   {
    "duration": 0,
    "start_time": "2023-02-04T13:45:01.225Z"
   },
   {
    "duration": 0,
    "start_time": "2023-02-04T13:45:01.226Z"
   },
   {
    "duration": 0,
    "start_time": "2023-02-04T13:45:01.228Z"
   },
   {
    "duration": 0,
    "start_time": "2023-02-04T13:45:01.240Z"
   },
   {
    "duration": 0,
    "start_time": "2023-02-04T13:45:01.241Z"
   },
   {
    "duration": 0,
    "start_time": "2023-02-04T13:45:01.241Z"
   },
   {
    "duration": 0,
    "start_time": "2023-02-04T13:45:01.242Z"
   },
   {
    "duration": 6,
    "start_time": "2023-02-04T13:45:07.618Z"
   },
   {
    "duration": 9,
    "start_time": "2023-02-04T13:45:21.324Z"
   },
   {
    "duration": 6,
    "start_time": "2023-02-04T13:45:23.575Z"
   },
   {
    "duration": 10,
    "start_time": "2023-02-04T13:45:38.477Z"
   },
   {
    "duration": 6,
    "start_time": "2023-02-04T13:45:53.076Z"
   },
   {
    "duration": 24,
    "start_time": "2023-02-04T13:46:09.575Z"
   },
   {
    "duration": 315,
    "start_time": "2023-02-04T13:46:11.510Z"
   },
   {
    "duration": 32,
    "start_time": "2023-02-04T13:46:12.430Z"
   },
   {
    "duration": 9,
    "start_time": "2023-02-04T14:04:07.175Z"
   },
   {
    "duration": 67,
    "start_time": "2023-02-04T14:04:36.135Z"
   },
   {
    "duration": 202,
    "start_time": "2023-02-04T14:08:27.838Z"
   },
   {
    "duration": 2635,
    "start_time": "2023-02-04T14:21:29.830Z"
   },
   {
    "duration": 47,
    "start_time": "2023-02-04T14:22:29.732Z"
   },
   {
    "duration": 49,
    "start_time": "2023-02-04T14:22:34.229Z"
   },
   {
    "duration": 10,
    "start_time": "2023-02-04T14:23:31.926Z"
   },
   {
    "duration": 65,
    "start_time": "2023-02-04T14:23:46.547Z"
   },
   {
    "duration": 738,
    "start_time": "2023-02-04T14:26:18.175Z"
   },
   {
    "duration": 262,
    "start_time": "2023-02-04T14:26:32.362Z"
   },
   {
    "duration": 843,
    "start_time": "2023-02-04T14:26:44.718Z"
   },
   {
    "duration": 214,
    "start_time": "2023-02-04T14:26:53.335Z"
   },
   {
    "duration": 187,
    "start_time": "2023-02-04T14:27:04.013Z"
   },
   {
    "duration": 268,
    "start_time": "2023-02-04T14:27:36.329Z"
   },
   {
    "duration": 389,
    "start_time": "2023-02-04T14:28:13.663Z"
   },
   {
    "duration": 180,
    "start_time": "2023-02-04T14:28:24.475Z"
   },
   {
    "duration": 213,
    "start_time": "2023-02-04T14:28:33.584Z"
   },
   {
    "duration": 231,
    "start_time": "2023-02-04T14:28:58.134Z"
   },
   {
    "duration": 185,
    "start_time": "2023-02-04T14:29:34.075Z"
   },
   {
    "duration": 195,
    "start_time": "2023-02-04T14:30:17.796Z"
   },
   {
    "duration": 186,
    "start_time": "2023-02-04T14:30:44.183Z"
   },
   {
    "duration": 182,
    "start_time": "2023-02-04T14:31:05.223Z"
   },
   {
    "duration": 164,
    "start_time": "2023-02-04T14:34:18.383Z"
   },
   {
    "duration": 233,
    "start_time": "2023-02-04T14:34:18.974Z"
   },
   {
    "duration": 184,
    "start_time": "2023-02-04T14:34:31.380Z"
   },
   {
    "duration": 110,
    "start_time": "2023-02-04T14:34:40.375Z"
   },
   {
    "duration": 124,
    "start_time": "2023-02-04T14:34:48.039Z"
   },
   {
    "duration": 167,
    "start_time": "2023-02-04T14:35:00.295Z"
   },
   {
    "duration": 176,
    "start_time": "2023-02-04T14:35:09.737Z"
   },
   {
    "duration": 357,
    "start_time": "2023-02-04T14:35:15.455Z"
   },
   {
    "duration": 240,
    "start_time": "2023-02-04T14:35:28.346Z"
   },
   {
    "duration": 234,
    "start_time": "2023-02-04T14:35:45.333Z"
   },
   {
    "duration": 251,
    "start_time": "2023-02-04T14:35:53.576Z"
   },
   {
    "duration": 209,
    "start_time": "2023-02-04T14:36:05.735Z"
   },
   {
    "duration": 210,
    "start_time": "2023-02-04T14:36:07.179Z"
   },
   {
    "duration": 208,
    "start_time": "2023-02-04T14:36:11.237Z"
   },
   {
    "duration": 215,
    "start_time": "2023-02-04T14:36:11.919Z"
   },
   {
    "duration": 227,
    "start_time": "2023-02-04T14:36:13.442Z"
   },
   {
    "duration": 695,
    "start_time": "2023-02-04T14:41:28.248Z"
   },
   {
    "duration": 221,
    "start_time": "2023-02-04T14:46:17.876Z"
   },
   {
    "duration": 415,
    "start_time": "2023-02-04T14:46:27.359Z"
   },
   {
    "duration": 264,
    "start_time": "2023-02-04T14:59:51.387Z"
   },
   {
    "duration": 1247,
    "start_time": "2023-02-04T22:37:34.675Z"
   },
   {
    "duration": 324,
    "start_time": "2023-02-04T22:37:35.924Z"
   },
   {
    "duration": 14,
    "start_time": "2023-02-04T22:37:36.249Z"
   },
   {
    "duration": 2027,
    "start_time": "2023-02-04T22:37:36.265Z"
   },
   {
    "duration": 9,
    "start_time": "2023-02-04T22:37:38.294Z"
   },
   {
    "duration": 86,
    "start_time": "2023-02-04T22:37:38.305Z"
   },
   {
    "duration": 119,
    "start_time": "2023-02-04T22:37:38.393Z"
   },
   {
    "duration": 0,
    "start_time": "2023-02-04T22:37:38.515Z"
   },
   {
    "duration": 0,
    "start_time": "2023-02-04T22:37:38.517Z"
   },
   {
    "duration": 0,
    "start_time": "2023-02-04T22:37:38.519Z"
   },
   {
    "duration": 0,
    "start_time": "2023-02-04T22:37:38.528Z"
   },
   {
    "duration": 0,
    "start_time": "2023-02-04T22:37:38.530Z"
   },
   {
    "duration": 0,
    "start_time": "2023-02-04T22:37:38.531Z"
   },
   {
    "duration": 0,
    "start_time": "2023-02-04T22:37:38.532Z"
   },
   {
    "duration": 0,
    "start_time": "2023-02-04T22:37:38.534Z"
   },
   {
    "duration": 1,
    "start_time": "2023-02-04T22:37:38.535Z"
   },
   {
    "duration": 0,
    "start_time": "2023-02-04T22:37:38.537Z"
   },
   {
    "duration": 0,
    "start_time": "2023-02-04T22:37:38.538Z"
   },
   {
    "duration": 0,
    "start_time": "2023-02-04T22:37:38.540Z"
   },
   {
    "duration": 0,
    "start_time": "2023-02-04T22:37:38.541Z"
   },
   {
    "duration": 0,
    "start_time": "2023-02-04T22:37:38.542Z"
   },
   {
    "duration": 0,
    "start_time": "2023-02-04T22:37:38.545Z"
   },
   {
    "duration": 0,
    "start_time": "2023-02-04T22:37:38.546Z"
   },
   {
    "duration": 0,
    "start_time": "2023-02-04T22:37:38.547Z"
   },
   {
    "duration": 0,
    "start_time": "2023-02-04T22:37:38.549Z"
   },
   {
    "duration": 0,
    "start_time": "2023-02-04T22:37:38.551Z"
   },
   {
    "duration": 0,
    "start_time": "2023-02-04T22:37:38.552Z"
   },
   {
    "duration": 1,
    "start_time": "2023-02-04T22:37:38.553Z"
   },
   {
    "duration": 0,
    "start_time": "2023-02-04T22:37:38.555Z"
   },
   {
    "duration": 0,
    "start_time": "2023-02-04T22:37:38.557Z"
   },
   {
    "duration": 0,
    "start_time": "2023-02-04T22:37:38.558Z"
   },
   {
    "duration": 0,
    "start_time": "2023-02-04T22:37:38.560Z"
   },
   {
    "duration": 0,
    "start_time": "2023-02-04T22:37:38.561Z"
   },
   {
    "duration": 0,
    "start_time": "2023-02-04T22:37:38.562Z"
   },
   {
    "duration": 18,
    "start_time": "2023-02-04T22:37:52.447Z"
   },
   {
    "duration": 1049,
    "start_time": "2023-02-04T22:38:01.264Z"
   },
   {
    "duration": 103,
    "start_time": "2023-02-04T22:38:02.315Z"
   },
   {
    "duration": 12,
    "start_time": "2023-02-04T22:38:02.420Z"
   },
   {
    "duration": 1786,
    "start_time": "2023-02-04T22:38:02.434Z"
   },
   {
    "duration": 8,
    "start_time": "2023-02-04T22:38:04.222Z"
   },
   {
    "duration": 67,
    "start_time": "2023-02-04T22:38:04.232Z"
   },
   {
    "duration": 128,
    "start_time": "2023-02-04T22:38:04.301Z"
   },
   {
    "duration": 0,
    "start_time": "2023-02-04T22:38:04.431Z"
   },
   {
    "duration": 0,
    "start_time": "2023-02-04T22:38:04.432Z"
   },
   {
    "duration": 0,
    "start_time": "2023-02-04T22:38:04.433Z"
   },
   {
    "duration": 0,
    "start_time": "2023-02-04T22:38:04.435Z"
   },
   {
    "duration": 0,
    "start_time": "2023-02-04T22:38:04.436Z"
   },
   {
    "duration": 0,
    "start_time": "2023-02-04T22:38:04.437Z"
   },
   {
    "duration": 0,
    "start_time": "2023-02-04T22:38:04.438Z"
   },
   {
    "duration": 0,
    "start_time": "2023-02-04T22:38:04.439Z"
   },
   {
    "duration": 0,
    "start_time": "2023-02-04T22:38:04.440Z"
   },
   {
    "duration": 0,
    "start_time": "2023-02-04T22:38:04.441Z"
   },
   {
    "duration": 0,
    "start_time": "2023-02-04T22:38:04.442Z"
   },
   {
    "duration": 0,
    "start_time": "2023-02-04T22:38:04.443Z"
   },
   {
    "duration": 0,
    "start_time": "2023-02-04T22:38:04.444Z"
   },
   {
    "duration": 0,
    "start_time": "2023-02-04T22:38:04.445Z"
   },
   {
    "duration": 0,
    "start_time": "2023-02-04T22:38:04.446Z"
   },
   {
    "duration": 0,
    "start_time": "2023-02-04T22:38:04.447Z"
   },
   {
    "duration": 0,
    "start_time": "2023-02-04T22:38:04.448Z"
   },
   {
    "duration": 0,
    "start_time": "2023-02-04T22:38:04.449Z"
   },
   {
    "duration": 0,
    "start_time": "2023-02-04T22:38:04.450Z"
   },
   {
    "duration": 0,
    "start_time": "2023-02-04T22:38:04.451Z"
   },
   {
    "duration": 0,
    "start_time": "2023-02-04T22:38:04.452Z"
   },
   {
    "duration": 0,
    "start_time": "2023-02-04T22:38:04.453Z"
   },
   {
    "duration": 0,
    "start_time": "2023-02-04T22:38:04.454Z"
   },
   {
    "duration": 0,
    "start_time": "2023-02-04T22:38:04.455Z"
   },
   {
    "duration": 0,
    "start_time": "2023-02-04T22:38:04.457Z"
   },
   {
    "duration": 0,
    "start_time": "2023-02-04T22:38:04.457Z"
   },
   {
    "duration": 0,
    "start_time": "2023-02-04T22:38:04.458Z"
   },
   {
    "duration": 17,
    "start_time": "2023-02-04T22:38:15.572Z"
   },
   {
    "duration": 163,
    "start_time": "2023-02-04T22:39:03.531Z"
   },
   {
    "duration": 4,
    "start_time": "2023-02-04T22:39:10.048Z"
   },
   {
    "duration": 113,
    "start_time": "2023-02-04T22:39:10.581Z"
   },
   {
    "duration": 15,
    "start_time": "2023-02-04T22:39:12.641Z"
   },
   {
    "duration": 1925,
    "start_time": "2023-02-04T22:39:14.731Z"
   },
   {
    "duration": 12,
    "start_time": "2023-02-04T22:39:18.663Z"
   },
   {
    "duration": 75,
    "start_time": "2023-02-04T22:39:19.900Z"
   },
   {
    "duration": 22,
    "start_time": "2023-02-04T22:39:21.765Z"
   },
   {
    "duration": 8,
    "start_time": "2023-02-04T22:39:24.397Z"
   },
   {
    "duration": 160,
    "start_time": "2023-02-04T22:39:25.498Z"
   },
   {
    "duration": 7,
    "start_time": "2023-02-04T22:39:37.198Z"
   },
   {
    "duration": 11,
    "start_time": "2023-02-04T22:39:39.897Z"
   },
   {
    "duration": 6,
    "start_time": "2023-02-04T22:39:43.088Z"
   },
   {
    "duration": 9,
    "start_time": "2023-02-04T22:39:44.288Z"
   },
   {
    "duration": 5,
    "start_time": "2023-02-04T22:39:45.272Z"
   },
   {
    "duration": 28,
    "start_time": "2023-02-04T22:39:47.289Z"
   },
   {
    "duration": 291,
    "start_time": "2023-02-04T22:39:49.405Z"
   },
   {
    "duration": 24,
    "start_time": "2023-02-04T22:39:50.989Z"
   },
   {
    "duration": 55,
    "start_time": "2023-02-04T22:39:55.554Z"
   },
   {
    "duration": 199,
    "start_time": "2023-02-04T22:39:57.486Z"
   },
   {
    "duration": 180,
    "start_time": "2023-02-04T22:39:58.939Z"
   },
   {
    "duration": 182,
    "start_time": "2023-02-04T22:39:59.870Z"
   },
   {
    "duration": 170,
    "start_time": "2023-02-04T22:40:00.421Z"
   },
   {
    "duration": 177,
    "start_time": "2023-02-04T22:40:00.673Z"
   },
   {
    "duration": 276,
    "start_time": "2023-02-04T22:40:01.122Z"
   },
   {
    "duration": 169,
    "start_time": "2023-02-04T22:40:01.400Z"
   },
   {
    "duration": 223,
    "start_time": "2023-02-04T22:40:01.821Z"
   },
   {
    "duration": 180,
    "start_time": "2023-02-04T22:40:02.053Z"
   },
   {
    "duration": 178,
    "start_time": "2023-02-04T22:40:02.267Z"
   },
   {
    "duration": 188,
    "start_time": "2023-02-04T22:40:02.503Z"
   },
   {
    "duration": 182,
    "start_time": "2023-02-04T22:40:02.719Z"
   },
   {
    "duration": 175,
    "start_time": "2023-02-04T22:40:02.952Z"
   },
   {
    "duration": 214,
    "start_time": "2023-02-04T22:40:03.152Z"
   },
   {
    "duration": 706,
    "start_time": "2023-02-04T22:40:04.536Z"
   },
   {
    "duration": 186,
    "start_time": "2023-02-04T22:40:22.329Z"
   },
   {
    "duration": 172,
    "start_time": "2023-02-04T22:46:10.549Z"
   },
   {
    "duration": 158,
    "start_time": "2023-02-04T22:50:03.994Z"
   },
   {
    "duration": 129,
    "start_time": "2023-02-04T22:50:33.447Z"
   },
   {
    "duration": 131,
    "start_time": "2023-02-04T22:51:29.797Z"
   },
   {
    "duration": 146,
    "start_time": "2023-02-04T22:52:24.390Z"
   },
   {
    "duration": 211,
    "start_time": "2023-02-04T22:52:48.241Z"
   },
   {
    "duration": 137,
    "start_time": "2023-02-04T23:00:27.040Z"
   },
   {
    "duration": 143,
    "start_time": "2023-02-04T23:01:17.149Z"
   },
   {
    "duration": 157,
    "start_time": "2023-02-04T23:01:47.704Z"
   },
   {
    "duration": 145,
    "start_time": "2023-02-04T23:03:30.630Z"
   },
   {
    "duration": 134,
    "start_time": "2023-02-04T23:05:22.945Z"
   },
   {
    "duration": 136,
    "start_time": "2023-02-04T23:09:06.941Z"
   },
   {
    "duration": 153,
    "start_time": "2023-02-04T23:10:56.289Z"
   },
   {
    "duration": 14,
    "start_time": "2023-02-04T23:12:17.590Z"
   },
   {
    "duration": 294,
    "start_time": "2023-02-04T23:12:46.405Z"
   },
   {
    "duration": 15,
    "start_time": "2023-02-04T23:14:31.449Z"
   },
   {
    "duration": 417,
    "start_time": "2023-02-04T23:15:31.480Z"
   },
   {
    "duration": 5,
    "start_time": "2023-02-04T23:20:36.394Z"
   },
   {
    "duration": 4,
    "start_time": "2023-02-04T23:20:43.892Z"
   },
   {
    "duration": 1306,
    "start_time": "2023-02-05T03:02:00.540Z"
   },
   {
    "duration": 377,
    "start_time": "2023-02-05T03:02:01.849Z"
   },
   {
    "duration": 17,
    "start_time": "2023-02-05T03:02:03.185Z"
   },
   {
    "duration": 2006,
    "start_time": "2023-02-05T03:02:05.462Z"
   },
   {
    "duration": 10,
    "start_time": "2023-02-05T03:02:09.013Z"
   },
   {
    "duration": 78,
    "start_time": "2023-02-05T03:02:10.760Z"
   },
   {
    "duration": 138,
    "start_time": "2023-02-05T03:02:23.074Z"
   },
   {
    "duration": 8,
    "start_time": "2023-02-05T03:02:33.471Z"
   },
   {
    "duration": 193,
    "start_time": "2023-02-05T03:02:34.749Z"
   },
   {
    "duration": 5,
    "start_time": "2023-02-05T03:02:37.129Z"
   },
   {
    "duration": 9,
    "start_time": "2023-02-05T03:02:38.564Z"
   },
   {
    "duration": 5,
    "start_time": "2023-02-05T03:02:42.721Z"
   },
   {
    "duration": 9,
    "start_time": "2023-02-05T03:02:44.940Z"
   },
   {
    "duration": 5,
    "start_time": "2023-02-05T03:02:46.264Z"
   },
   {
    "duration": 21,
    "start_time": "2023-02-05T03:02:48.821Z"
   },
   {
    "duration": 309,
    "start_time": "2023-02-05T03:02:50.587Z"
   },
   {
    "duration": 27,
    "start_time": "2023-02-05T03:03:01.956Z"
   },
   {
    "duration": 57,
    "start_time": "2023-02-05T03:03:06.948Z"
   },
   {
    "duration": 205,
    "start_time": "2023-02-05T03:03:31.156Z"
   },
   {
    "duration": 224,
    "start_time": "2023-02-05T03:03:32.923Z"
   },
   {
    "duration": 166,
    "start_time": "2023-02-05T03:03:33.564Z"
   },
   {
    "duration": 214,
    "start_time": "2023-02-05T03:03:34.782Z"
   },
   {
    "duration": 149,
    "start_time": "2023-02-05T03:03:35.297Z"
   },
   {
    "duration": 236,
    "start_time": "2023-02-05T03:03:35.781Z"
   },
   {
    "duration": 197,
    "start_time": "2023-02-05T03:03:36.080Z"
   },
   {
    "duration": 235,
    "start_time": "2023-02-05T03:03:36.947Z"
   },
   {
    "duration": 207,
    "start_time": "2023-02-05T03:03:37.959Z"
   },
   {
    "duration": 188,
    "start_time": "2023-02-05T03:03:38.848Z"
   },
   {
    "duration": 186,
    "start_time": "2023-02-05T03:03:39.547Z"
   },
   {
    "duration": 216,
    "start_time": "2023-02-05T03:03:40.105Z"
   },
   {
    "duration": 195,
    "start_time": "2023-02-05T03:03:40.346Z"
   },
   {
    "duration": 351,
    "start_time": "2023-02-05T03:03:40.620Z"
   },
   {
    "duration": 691,
    "start_time": "2023-02-05T03:03:44.237Z"
   },
   {
    "duration": 208,
    "start_time": "2023-02-05T03:03:46.663Z"
   },
   {
    "duration": 158,
    "start_time": "2023-02-05T03:03:50.405Z"
   },
   {
    "duration": 162,
    "start_time": "2023-02-05T03:03:50.864Z"
   },
   {
    "duration": 150,
    "start_time": "2023-02-05T03:03:51.111Z"
   },
   {
    "duration": 182,
    "start_time": "2023-02-05T03:03:51.293Z"
   },
   {
    "duration": 141,
    "start_time": "2023-02-05T03:03:51.527Z"
   },
   {
    "duration": 182,
    "start_time": "2023-02-05T03:03:51.729Z"
   },
   {
    "duration": 603,
    "start_time": "2023-02-05T03:03:52.162Z"
   },
   {
    "duration": 7,
    "start_time": "2023-02-05T03:03:53.447Z"
   },
   {
    "duration": 65,
    "start_time": "2023-02-05T03:04:52.699Z"
   },
   {
    "duration": 165,
    "start_time": "2023-02-05T03:41:07.103Z"
   },
   {
    "duration": 1089,
    "start_time": "2023-02-06T16:16:32.576Z"
   },
   {
    "duration": 117,
    "start_time": "2023-02-06T16:16:33.667Z"
   },
   {
    "duration": 13,
    "start_time": "2023-02-06T16:16:33.785Z"
   },
   {
    "duration": 1955,
    "start_time": "2023-02-06T16:16:33.800Z"
   },
   {
    "duration": 9,
    "start_time": "2023-02-06T16:16:35.757Z"
   },
   {
    "duration": 70,
    "start_time": "2023-02-06T16:16:35.767Z"
   },
   {
    "duration": 120,
    "start_time": "2023-02-06T16:16:35.838Z"
   },
   {
    "duration": 0,
    "start_time": "2023-02-06T16:16:35.961Z"
   },
   {
    "duration": 0,
    "start_time": "2023-02-06T16:16:35.962Z"
   },
   {
    "duration": 0,
    "start_time": "2023-02-06T16:16:35.963Z"
   },
   {
    "duration": 0,
    "start_time": "2023-02-06T16:16:35.964Z"
   },
   {
    "duration": 0,
    "start_time": "2023-02-06T16:16:35.966Z"
   },
   {
    "duration": 0,
    "start_time": "2023-02-06T16:16:35.967Z"
   },
   {
    "duration": 0,
    "start_time": "2023-02-06T16:16:35.967Z"
   },
   {
    "duration": 0,
    "start_time": "2023-02-06T16:16:35.968Z"
   },
   {
    "duration": 0,
    "start_time": "2023-02-06T16:16:35.969Z"
   },
   {
    "duration": 0,
    "start_time": "2023-02-06T16:16:35.970Z"
   },
   {
    "duration": 0,
    "start_time": "2023-02-06T16:16:35.971Z"
   },
   {
    "duration": 0,
    "start_time": "2023-02-06T16:16:35.972Z"
   },
   {
    "duration": 0,
    "start_time": "2023-02-06T16:16:35.973Z"
   },
   {
    "duration": 0,
    "start_time": "2023-02-06T16:16:35.974Z"
   },
   {
    "duration": 0,
    "start_time": "2023-02-06T16:16:35.975Z"
   },
   {
    "duration": 0,
    "start_time": "2023-02-06T16:16:35.976Z"
   },
   {
    "duration": 0,
    "start_time": "2023-02-06T16:16:35.977Z"
   },
   {
    "duration": 0,
    "start_time": "2023-02-06T16:16:35.978Z"
   },
   {
    "duration": 0,
    "start_time": "2023-02-06T16:16:35.979Z"
   },
   {
    "duration": 0,
    "start_time": "2023-02-06T16:16:35.980Z"
   },
   {
    "duration": 0,
    "start_time": "2023-02-06T16:16:35.981Z"
   },
   {
    "duration": 0,
    "start_time": "2023-02-06T16:16:35.982Z"
   },
   {
    "duration": 0,
    "start_time": "2023-02-06T16:16:35.983Z"
   },
   {
    "duration": 0,
    "start_time": "2023-02-06T16:16:35.984Z"
   },
   {
    "duration": 0,
    "start_time": "2023-02-06T16:16:35.985Z"
   },
   {
    "duration": 0,
    "start_time": "2023-02-06T16:16:35.986Z"
   },
   {
    "duration": 0,
    "start_time": "2023-02-06T16:16:35.987Z"
   },
   {
    "duration": 0,
    "start_time": "2023-02-06T16:16:35.987Z"
   },
   {
    "duration": 0,
    "start_time": "2023-02-06T16:16:35.988Z"
   },
   {
    "duration": 0,
    "start_time": "2023-02-06T16:16:35.989Z"
   },
   {
    "duration": 0,
    "start_time": "2023-02-06T16:16:35.990Z"
   },
   {
    "duration": 0,
    "start_time": "2023-02-06T16:16:35.991Z"
   },
   {
    "duration": 0,
    "start_time": "2023-02-06T16:16:35.991Z"
   },
   {
    "duration": 0,
    "start_time": "2023-02-06T16:16:35.992Z"
   },
   {
    "duration": 0,
    "start_time": "2023-02-06T16:16:35.993Z"
   },
   {
    "duration": 0,
    "start_time": "2023-02-06T16:16:35.994Z"
   },
   {
    "duration": 9,
    "start_time": "2023-02-06T16:18:56.540Z"
   },
   {
    "duration": 185,
    "start_time": "2023-02-06T16:18:56.551Z"
   },
   {
    "duration": 0,
    "start_time": "2023-02-06T16:18:56.748Z"
   },
   {
    "duration": 0,
    "start_time": "2023-02-06T16:18:56.749Z"
   },
   {
    "duration": 0,
    "start_time": "2023-02-06T16:18:56.751Z"
   },
   {
    "duration": 0,
    "start_time": "2023-02-06T16:18:56.752Z"
   },
   {
    "duration": 1,
    "start_time": "2023-02-06T16:18:56.753Z"
   },
   {
    "duration": 0,
    "start_time": "2023-02-06T16:18:56.755Z"
   },
   {
    "duration": 0,
    "start_time": "2023-02-06T16:18:56.756Z"
   },
   {
    "duration": 0,
    "start_time": "2023-02-06T16:18:56.758Z"
   },
   {
    "duration": 0,
    "start_time": "2023-02-06T16:18:56.759Z"
   },
   {
    "duration": 0,
    "start_time": "2023-02-06T16:18:56.761Z"
   },
   {
    "duration": 0,
    "start_time": "2023-02-06T16:18:56.762Z"
   },
   {
    "duration": 0,
    "start_time": "2023-02-06T16:18:56.763Z"
   },
   {
    "duration": 0,
    "start_time": "2023-02-06T16:18:56.764Z"
   },
   {
    "duration": 0,
    "start_time": "2023-02-06T16:18:56.766Z"
   },
   {
    "duration": 0,
    "start_time": "2023-02-06T16:18:56.767Z"
   },
   {
    "duration": 0,
    "start_time": "2023-02-06T16:18:56.769Z"
   },
   {
    "duration": 0,
    "start_time": "2023-02-06T16:18:56.771Z"
   },
   {
    "duration": 0,
    "start_time": "2023-02-06T16:18:56.771Z"
   },
   {
    "duration": 0,
    "start_time": "2023-02-06T16:18:56.772Z"
   },
   {
    "duration": 0,
    "start_time": "2023-02-06T16:18:56.773Z"
   },
   {
    "duration": 0,
    "start_time": "2023-02-06T16:18:56.774Z"
   },
   {
    "duration": 0,
    "start_time": "2023-02-06T16:18:56.774Z"
   },
   {
    "duration": 0,
    "start_time": "2023-02-06T16:18:56.775Z"
   },
   {
    "duration": 0,
    "start_time": "2023-02-06T16:18:56.776Z"
   },
   {
    "duration": 0,
    "start_time": "2023-02-06T16:18:56.777Z"
   },
   {
    "duration": 0,
    "start_time": "2023-02-06T16:18:56.778Z"
   },
   {
    "duration": 0,
    "start_time": "2023-02-06T16:18:56.779Z"
   },
   {
    "duration": 0,
    "start_time": "2023-02-06T16:18:56.780Z"
   },
   {
    "duration": 0,
    "start_time": "2023-02-06T16:18:56.781Z"
   },
   {
    "duration": 0,
    "start_time": "2023-02-06T16:18:56.782Z"
   },
   {
    "duration": 0,
    "start_time": "2023-02-06T16:18:56.782Z"
   },
   {
    "duration": 0,
    "start_time": "2023-02-06T16:18:56.783Z"
   },
   {
    "duration": 0,
    "start_time": "2023-02-06T16:18:56.785Z"
   },
   {
    "duration": 0,
    "start_time": "2023-02-06T16:18:56.786Z"
   },
   {
    "duration": 1388,
    "start_time": "2023-02-07T15:43:43.166Z"
   },
   {
    "duration": 0,
    "start_time": "2023-02-07T15:43:44.556Z"
   },
   {
    "duration": 9,
    "start_time": "2023-02-07T15:44:47.688Z"
   },
   {
    "duration": 167,
    "start_time": "2023-02-07T15:45:06.375Z"
   },
   {
    "duration": 5,
    "start_time": "2023-02-07T15:45:15.187Z"
   },
   {
    "duration": 106,
    "start_time": "2023-02-07T15:45:16.439Z"
   },
   {
    "duration": 128,
    "start_time": "2023-02-07T15:49:25.006Z"
   },
   {
    "duration": 25,
    "start_time": "2023-02-07T15:55:48.050Z"
   },
   {
    "duration": 17,
    "start_time": "2023-02-07T15:59:40.729Z"
   },
   {
    "duration": 18,
    "start_time": "2023-02-07T16:03:00.998Z"
   },
   {
    "duration": 18,
    "start_time": "2023-02-07T16:03:30.829Z"
   },
   {
    "duration": 10,
    "start_time": "2023-02-07T16:04:31.418Z"
   },
   {
    "duration": 9,
    "start_time": "2023-02-07T16:04:35.671Z"
   },
   {
    "duration": 8,
    "start_time": "2023-02-07T16:04:39.957Z"
   },
   {
    "duration": 177,
    "start_time": "2023-02-07T16:07:18.749Z"
   },
   {
    "duration": 172,
    "start_time": "2023-02-07T16:07:31.249Z"
   },
   {
    "duration": 170,
    "start_time": "2023-02-07T16:07:38.046Z"
   },
   {
    "duration": 178,
    "start_time": "2023-02-07T16:07:46.521Z"
   },
   {
    "duration": 304,
    "start_time": "2023-02-07T16:10:23.757Z"
   },
   {
    "duration": 213,
    "start_time": "2023-02-07T16:10:49.276Z"
   },
   {
    "duration": 185,
    "start_time": "2023-02-07T16:11:24.116Z"
   },
   {
    "duration": 184,
    "start_time": "2023-02-07T16:12:06.673Z"
   },
   {
    "duration": 44,
    "start_time": "2023-02-07T16:13:19.215Z"
   },
   {
    "duration": 49,
    "start_time": "2023-02-07T16:13:45.869Z"
   },
   {
    "duration": 51,
    "start_time": "2023-02-07T16:14:20.447Z"
   },
   {
    "duration": 4,
    "start_time": "2023-02-07T16:18:56.214Z"
   },
   {
    "duration": 52,
    "start_time": "2023-02-07T16:19:47.226Z"
   },
   {
    "duration": 8,
    "start_time": "2023-02-07T16:19:54.130Z"
   },
   {
    "duration": 11,
    "start_time": "2023-02-07T16:20:12.766Z"
   },
   {
    "duration": 40,
    "start_time": "2023-02-07T16:21:56.268Z"
   },
   {
    "duration": 47,
    "start_time": "2023-02-07T16:22:52.550Z"
   },
   {
    "duration": 65,
    "start_time": "2023-02-07T16:23:28.047Z"
   },
   {
    "duration": 18,
    "start_time": "2023-02-07T16:23:36.935Z"
   },
   {
    "duration": 338,
    "start_time": "2023-02-07T16:23:40.411Z"
   },
   {
    "duration": 18,
    "start_time": "2023-02-07T16:23:42.407Z"
   },
   {
    "duration": 59,
    "start_time": "2023-02-07T16:23:48.168Z"
   },
   {
    "duration": 166,
    "start_time": "2023-02-07T16:23:51.068Z"
   },
   {
    "duration": 166,
    "start_time": "2023-02-07T16:27:02.049Z"
   },
   {
    "duration": 201,
    "start_time": "2023-02-07T16:27:03.488Z"
   },
   {
    "duration": 181,
    "start_time": "2023-02-07T16:27:04.109Z"
   },
   {
    "duration": 179,
    "start_time": "2023-02-07T16:27:05.854Z"
   },
   {
    "duration": 138,
    "start_time": "2023-02-07T16:27:06.467Z"
   },
   {
    "duration": 136,
    "start_time": "2023-02-07T16:27:08.507Z"
   },
   {
    "duration": 171,
    "start_time": "2023-02-07T16:27:09.845Z"
   },
   {
    "duration": 53,
    "start_time": "2023-02-07T16:28:17.366Z"
   },
   {
    "duration": 164,
    "start_time": "2023-02-07T16:28:26.376Z"
   },
   {
    "duration": 46,
    "start_time": "2023-02-07T16:28:57.727Z"
   },
   {
    "duration": 237,
    "start_time": "2023-02-07T16:29:14.072Z"
   },
   {
    "duration": 62,
    "start_time": "2023-02-07T16:29:27.407Z"
   },
   {
    "duration": 189,
    "start_time": "2023-02-07T16:30:28.546Z"
   },
   {
    "duration": 159,
    "start_time": "2023-02-07T16:30:39.927Z"
   },
   {
    "duration": 56,
    "start_time": "2023-02-07T16:31:01.527Z"
   },
   {
    "duration": 50,
    "start_time": "2023-02-07T16:31:13.968Z"
   },
   {
    "duration": 51,
    "start_time": "2023-02-07T16:32:26.365Z"
   },
   {
    "duration": 131,
    "start_time": "2023-02-07T16:32:59.768Z"
   },
   {
    "duration": 156,
    "start_time": "2023-02-07T16:33:10.595Z"
   },
   {
    "duration": 170,
    "start_time": "2023-02-07T16:33:29.971Z"
   },
   {
    "duration": 193,
    "start_time": "2023-02-07T16:33:40.287Z"
   },
   {
    "duration": 230,
    "start_time": "2023-02-07T16:33:48.967Z"
   },
   {
    "duration": 192,
    "start_time": "2023-02-07T16:34:38.912Z"
   },
   {
    "duration": 249,
    "start_time": "2023-02-07T16:34:41.217Z"
   },
   {
    "duration": 166,
    "start_time": "2023-02-07T16:34:41.888Z"
   },
   {
    "duration": 180,
    "start_time": "2023-02-07T16:34:42.907Z"
   },
   {
    "duration": 187,
    "start_time": "2023-02-07T16:34:43.575Z"
   },
   {
    "duration": 214,
    "start_time": "2023-02-07T16:34:45.227Z"
   },
   {
    "duration": 218,
    "start_time": "2023-02-07T16:34:55.527Z"
   },
   {
    "duration": 168,
    "start_time": "2023-02-07T16:35:04.686Z"
   },
   {
    "duration": 262,
    "start_time": "2023-02-07T16:35:19.807Z"
   },
   {
    "duration": 172,
    "start_time": "2023-02-07T16:35:46.223Z"
   },
   {
    "duration": 194,
    "start_time": "2023-02-07T16:35:57.888Z"
   },
   {
    "duration": 146,
    "start_time": "2023-02-07T16:36:57.747Z"
   },
   {
    "duration": 167,
    "start_time": "2023-02-07T16:36:58.627Z"
   },
   {
    "duration": 192,
    "start_time": "2023-02-07T16:36:58.875Z"
   },
   {
    "duration": 189,
    "start_time": "2023-02-07T16:36:59.167Z"
   },
   {
    "duration": 230,
    "start_time": "2023-02-07T16:37:00.145Z"
   },
   {
    "duration": 696,
    "start_time": "2023-02-07T16:37:11.827Z"
   },
   {
    "duration": 178,
    "start_time": "2023-02-07T16:37:17.747Z"
   },
   {
    "duration": 162,
    "start_time": "2023-02-07T16:37:20.892Z"
   },
   {
    "duration": 174,
    "start_time": "2023-02-07T16:37:21.428Z"
   },
   {
    "duration": 161,
    "start_time": "2023-02-07T16:37:22.375Z"
   },
   {
    "duration": 153,
    "start_time": "2023-02-07T16:37:23.068Z"
   },
   {
    "duration": 137,
    "start_time": "2023-02-07T16:37:23.607Z"
   },
   {
    "duration": 186,
    "start_time": "2023-02-07T16:37:24.128Z"
   },
   {
    "duration": 458,
    "start_time": "2023-02-07T16:37:25.908Z"
   },
   {
    "duration": 58,
    "start_time": "2023-02-07T16:37:28.127Z"
   },
   {
    "duration": 173,
    "start_time": "2023-02-07T16:37:30.798Z"
   },
   {
    "duration": 45,
    "start_time": "2023-02-07T16:39:51.176Z"
   },
   {
    "duration": 72,
    "start_time": "2023-02-07T16:40:01.966Z"
   },
   {
    "duration": 166,
    "start_time": "2023-02-07T16:43:59.334Z"
   },
   {
    "duration": 1181,
    "start_time": "2023-02-08T04:08:50.408Z"
   },
   {
    "duration": 137,
    "start_time": "2023-02-08T04:08:51.591Z"
   },
   {
    "duration": 20,
    "start_time": "2023-02-08T04:08:51.729Z"
   },
   {
    "duration": 2181,
    "start_time": "2023-02-08T04:08:51.752Z"
   },
   {
    "duration": 9,
    "start_time": "2023-02-08T04:08:53.934Z"
   },
   {
    "duration": 18,
    "start_time": "2023-02-08T04:08:53.944Z"
   },
   {
    "duration": 76,
    "start_time": "2023-02-08T04:08:53.965Z"
   },
   {
    "duration": 20,
    "start_time": "2023-02-08T04:08:54.042Z"
   },
   {
    "duration": 8,
    "start_time": "2023-02-08T04:08:55.903Z"
   },
   {
    "duration": 220,
    "start_time": "2023-02-08T04:08:56.728Z"
   },
   {
    "duration": 4,
    "start_time": "2023-02-08T04:08:58.299Z"
   },
   {
    "duration": 10,
    "start_time": "2023-02-08T04:08:59.088Z"
   },
   {
    "duration": 5,
    "start_time": "2023-02-08T04:09:00.939Z"
   },
   {
    "duration": 11,
    "start_time": "2023-02-08T04:09:39.641Z"
   },
   {
    "duration": 4,
    "start_time": "2023-02-08T04:10:03.064Z"
   },
   {
    "duration": 5,
    "start_time": "2023-02-08T04:10:15.035Z"
   },
   {
    "duration": 4,
    "start_time": "2023-02-08T04:12:06.130Z"
   },
   {
    "duration": 4,
    "start_time": "2023-02-08T04:12:21.661Z"
   },
   {
    "duration": 1096,
    "start_time": "2023-02-08T04:12:40.484Z"
   },
   {
    "duration": 128,
    "start_time": "2023-02-08T04:12:41.582Z"
   },
   {
    "duration": 14,
    "start_time": "2023-02-08T04:12:42.876Z"
   },
   {
    "duration": 2154,
    "start_time": "2023-02-08T04:12:43.378Z"
   },
   {
    "duration": 9,
    "start_time": "2023-02-08T04:12:45.534Z"
   },
   {
    "duration": 12,
    "start_time": "2023-02-08T04:12:45.674Z"
   },
   {
    "duration": 75,
    "start_time": "2023-02-08T04:12:46.063Z"
   },
   {
    "duration": 24,
    "start_time": "2023-02-08T04:12:47.240Z"
   },
   {
    "duration": 8,
    "start_time": "2023-02-08T04:12:51.168Z"
   },
   {
    "duration": 186,
    "start_time": "2023-02-08T04:12:52.289Z"
   },
   {
    "duration": 5,
    "start_time": "2023-02-08T04:13:01.898Z"
   },
   {
    "duration": 5,
    "start_time": "2023-02-08T04:15:27.327Z"
   },
   {
    "duration": 13,
    "start_time": "2023-02-08T04:15:31.998Z"
   },
   {
    "duration": 7,
    "start_time": "2023-02-08T04:15:34.634Z"
   },
   {
    "duration": 143,
    "start_time": "2023-02-09T10:21:54.975Z"
   },
   {
    "duration": 114,
    "start_time": "2023-02-09T10:26:43.984Z"
   },
   {
    "duration": 7,
    "start_time": "2023-02-09T10:27:10.712Z"
   },
   {
    "duration": 1565,
    "start_time": "2023-02-09T10:27:17.706Z"
   },
   {
    "duration": 568,
    "start_time": "2023-02-09T10:27:19.273Z"
   },
   {
    "duration": 17,
    "start_time": "2023-02-09T10:27:19.843Z"
   },
   {
    "duration": 2504,
    "start_time": "2023-02-09T10:27:19.866Z"
   },
   {
    "duration": 31,
    "start_time": "2023-02-09T10:27:22.379Z"
   },
   {
    "duration": 32,
    "start_time": "2023-02-09T10:27:22.411Z"
   },
   {
    "duration": 114,
    "start_time": "2023-02-09T10:27:22.445Z"
   },
   {
    "duration": 30,
    "start_time": "2023-02-09T10:27:22.568Z"
   },
   {
    "duration": 32,
    "start_time": "2023-02-09T10:27:22.610Z"
   },
   {
    "duration": 299,
    "start_time": "2023-02-09T10:27:22.644Z"
   },
   {
    "duration": 10,
    "start_time": "2023-02-09T10:27:22.945Z"
   },
   {
    "duration": 70,
    "start_time": "2023-02-09T10:27:22.957Z"
   },
   {
    "duration": 6,
    "start_time": "2023-02-09T10:27:23.029Z"
   },
   {
    "duration": 67,
    "start_time": "2023-02-09T10:27:23.039Z"
   },
   {
    "duration": 113,
    "start_time": "2023-02-09T10:27:23.108Z"
   },
   {
    "duration": 6,
    "start_time": "2023-02-09T10:27:23.224Z"
   },
   {
    "duration": 106,
    "start_time": "2023-02-09T10:27:23.233Z"
   },
   {
    "duration": 450,
    "start_time": "2023-02-09T10:27:23.341Z"
   },
   {
    "duration": 30,
    "start_time": "2023-02-09T10:27:23.793Z"
   },
   {
    "duration": 126,
    "start_time": "2023-02-09T10:27:23.825Z"
   },
   {
    "duration": 251,
    "start_time": "2023-02-09T10:27:23.953Z"
   },
   {
    "duration": 313,
    "start_time": "2023-02-09T10:27:24.207Z"
   },
   {
    "duration": 238,
    "start_time": "2023-02-09T10:27:24.522Z"
   },
   {
    "duration": 229,
    "start_time": "2023-02-09T10:27:24.762Z"
   },
   {
    "duration": 297,
    "start_time": "2023-02-09T10:27:24.992Z"
   },
   {
    "duration": 184,
    "start_time": "2023-02-09T10:27:25.300Z"
   },
   {
    "duration": 221,
    "start_time": "2023-02-09T10:27:25.492Z"
   },
   {
    "duration": 281,
    "start_time": "2023-02-09T10:27:25.715Z"
   },
   {
    "duration": 213,
    "start_time": "2023-02-09T10:27:25.997Z"
   },
   {
    "duration": 243,
    "start_time": "2023-02-09T10:27:26.211Z"
   },
   {
    "duration": 269,
    "start_time": "2023-02-09T10:27:26.460Z"
   },
   {
    "duration": 284,
    "start_time": "2023-02-09T10:27:26.731Z"
   },
   {
    "duration": 226,
    "start_time": "2023-02-09T10:27:27.017Z"
   },
   {
    "duration": 418,
    "start_time": "2023-02-09T10:27:27.245Z"
   },
   {
    "duration": 667,
    "start_time": "2023-02-09T10:27:27.665Z"
   },
   {
    "duration": 258,
    "start_time": "2023-02-09T10:27:28.335Z"
   },
   {
    "duration": 155,
    "start_time": "2023-02-09T10:27:28.596Z"
   },
   {
    "duration": 186,
    "start_time": "2023-02-09T10:27:28.752Z"
   },
   {
    "duration": 180,
    "start_time": "2023-02-09T10:27:28.939Z"
   },
   {
    "duration": 194,
    "start_time": "2023-02-09T10:27:29.120Z"
   },
   {
    "duration": 180,
    "start_time": "2023-02-09T10:27:29.318Z"
   },
   {
    "duration": 202,
    "start_time": "2023-02-09T10:27:29.500Z"
   },
   {
    "duration": 516,
    "start_time": "2023-02-09T10:27:29.704Z"
   },
   {
    "duration": 94,
    "start_time": "2023-02-09T10:27:30.221Z"
   },
   {
    "duration": 379,
    "start_time": "2023-02-09T10:27:30.317Z"
   },
   {
    "duration": 68,
    "start_time": "2023-02-09T10:27:32.098Z"
   },
   {
    "duration": 27,
    "start_time": "2023-02-09T10:27:50.933Z"
   },
   {
    "duration": 378,
    "start_time": "2023-02-09T10:27:52.234Z"
   },
   {
    "duration": 21,
    "start_time": "2023-02-09T10:27:54.800Z"
   },
   {
    "duration": 285,
    "start_time": "2023-02-09T10:31:40.574Z"
   },
   {
    "duration": 288,
    "start_time": "2023-02-09T10:31:50.536Z"
   },
   {
    "duration": 272,
    "start_time": "2023-02-09T10:32:49.060Z"
   },
   {
    "duration": 890,
    "start_time": "2023-02-09T10:35:21.120Z"
   },
   {
    "duration": 235,
    "start_time": "2023-02-09T10:50:54.085Z"
   },
   {
    "duration": 138,
    "start_time": "2023-02-09T10:51:09.377Z"
   },
   {
    "duration": 8,
    "start_time": "2023-02-09T11:14:20.076Z"
   },
   {
    "duration": 15,
    "start_time": "2023-02-09T11:14:36.517Z"
   },
   {
    "duration": 18,
    "start_time": "2023-02-09T11:15:53.397Z"
   },
   {
    "duration": 1260,
    "start_time": "2023-02-09T11:52:19.290Z"
   },
   {
    "duration": 168,
    "start_time": "2023-02-09T11:52:20.554Z"
   },
   {
    "duration": 15,
    "start_time": "2023-02-09T11:52:20.724Z"
   },
   {
    "duration": 1351,
    "start_time": "2023-02-09T11:52:27.439Z"
   },
   {
    "duration": 172,
    "start_time": "2023-02-09T11:52:28.799Z"
   },
   {
    "duration": 26,
    "start_time": "2023-02-09T11:52:28.973Z"
   },
   {
    "duration": 2375,
    "start_time": "2023-02-09T11:52:29.002Z"
   },
   {
    "duration": 19,
    "start_time": "2023-02-09T11:52:31.382Z"
   },
   {
    "duration": 43,
    "start_time": "2023-02-09T11:52:31.403Z"
   },
   {
    "duration": 147,
    "start_time": "2023-02-09T11:52:31.447Z"
   },
   {
    "duration": 18,
    "start_time": "2023-02-09T11:52:31.596Z"
   },
   {
    "duration": 10,
    "start_time": "2023-02-09T11:52:31.615Z"
   },
   {
    "duration": 244,
    "start_time": "2023-02-09T11:52:31.629Z"
   },
   {
    "duration": 9,
    "start_time": "2023-02-09T11:52:31.875Z"
   },
   {
    "duration": 45,
    "start_time": "2023-02-09T11:52:31.885Z"
   },
   {
    "duration": 5,
    "start_time": "2023-02-09T11:52:31.931Z"
   },
   {
    "duration": 7,
    "start_time": "2023-02-09T11:52:31.938Z"
   },
   {
    "duration": 97,
    "start_time": "2023-02-09T11:52:31.947Z"
   },
   {
    "duration": 10,
    "start_time": "2023-02-09T11:52:32.046Z"
   },
   {
    "duration": 55,
    "start_time": "2023-02-09T11:52:32.062Z"
   },
   {
    "duration": 375,
    "start_time": "2023-02-09T11:52:32.119Z"
   },
   {
    "duration": 22,
    "start_time": "2023-02-09T11:52:32.497Z"
   },
   {
    "duration": 69,
    "start_time": "2023-02-09T11:52:32.521Z"
   },
   {
    "duration": 203,
    "start_time": "2023-02-09T11:52:32.592Z"
   },
   {
    "duration": 232,
    "start_time": "2023-02-09T11:52:32.802Z"
   },
   {
    "duration": 207,
    "start_time": "2023-02-09T11:52:33.036Z"
   },
   {
    "duration": 219,
    "start_time": "2023-02-09T11:52:33.244Z"
   },
   {
    "duration": 293,
    "start_time": "2023-02-09T11:52:33.464Z"
   },
   {
    "duration": 193,
    "start_time": "2023-02-09T11:52:33.764Z"
   },
   {
    "duration": 215,
    "start_time": "2023-02-09T11:52:33.967Z"
   },
   {
    "duration": 281,
    "start_time": "2023-02-09T11:52:34.186Z"
   },
   {
    "duration": 200,
    "start_time": "2023-02-09T11:52:34.470Z"
   },
   {
    "duration": 216,
    "start_time": "2023-02-09T11:52:34.672Z"
   },
   {
    "duration": 218,
    "start_time": "2023-02-09T11:52:34.893Z"
   },
   {
    "duration": 232,
    "start_time": "2023-02-09T11:52:35.112Z"
   },
   {
    "duration": 222,
    "start_time": "2023-02-09T11:52:35.345Z"
   },
   {
    "duration": 382,
    "start_time": "2023-02-09T11:52:35.568Z"
   },
   {
    "duration": 793,
    "start_time": "2023-02-09T11:52:35.952Z"
   },
   {
    "duration": 250,
    "start_time": "2023-02-09T11:52:36.747Z"
   },
   {
    "duration": 149,
    "start_time": "2023-02-09T11:52:36.999Z"
   },
   {
    "duration": 0,
    "start_time": "2023-02-09T11:52:37.150Z"
   },
   {
    "duration": 0,
    "start_time": "2023-02-09T11:52:37.151Z"
   },
   {
    "duration": 0,
    "start_time": "2023-02-09T11:52:37.152Z"
   },
   {
    "duration": 0,
    "start_time": "2023-02-09T11:52:37.153Z"
   },
   {
    "duration": 0,
    "start_time": "2023-02-09T11:52:37.154Z"
   },
   {
    "duration": 0,
    "start_time": "2023-02-09T11:52:37.155Z"
   },
   {
    "duration": 0,
    "start_time": "2023-02-09T11:52:37.156Z"
   },
   {
    "duration": 0,
    "start_time": "2023-02-09T11:52:37.159Z"
   },
   {
    "duration": 18,
    "start_time": "2023-02-09T11:52:58.914Z"
   },
   {
    "duration": 18,
    "start_time": "2023-02-09T11:53:35.114Z"
   },
   {
    "duration": 116,
    "start_time": "2023-02-09T12:03:03.912Z"
   },
   {
    "duration": 63,
    "start_time": "2023-02-09T12:03:16.678Z"
   },
   {
    "duration": 17,
    "start_time": "2023-02-09T12:04:14.230Z"
   },
   {
    "duration": 1328,
    "start_time": "2023-02-09T12:05:06.092Z"
   },
   {
    "duration": 540,
    "start_time": "2023-02-09T12:05:07.424Z"
   },
   {
    "duration": 29,
    "start_time": "2023-02-09T12:05:07.969Z"
   },
   {
    "duration": 2643,
    "start_time": "2023-02-09T12:05:08.001Z"
   },
   {
    "duration": 29,
    "start_time": "2023-02-09T12:05:10.646Z"
   },
   {
    "duration": 35,
    "start_time": "2023-02-09T12:05:10.682Z"
   },
   {
    "duration": 103,
    "start_time": "2023-02-09T12:05:10.719Z"
   },
   {
    "duration": 25,
    "start_time": "2023-02-09T12:05:10.824Z"
   },
   {
    "duration": 14,
    "start_time": "2023-02-09T12:05:10.859Z"
   },
   {
    "duration": 358,
    "start_time": "2023-02-09T12:05:10.876Z"
   },
   {
    "duration": 5,
    "start_time": "2023-02-09T12:05:11.236Z"
   },
   {
    "duration": 78,
    "start_time": "2023-02-09T12:05:11.244Z"
   },
   {
    "duration": 8,
    "start_time": "2023-02-09T12:05:11.324Z"
   },
   {
    "duration": 20,
    "start_time": "2023-02-09T12:05:11.334Z"
   },
   {
    "duration": 187,
    "start_time": "2023-02-09T12:05:11.358Z"
   },
   {
    "duration": 18,
    "start_time": "2023-02-09T12:05:11.548Z"
   },
   {
    "duration": 98,
    "start_time": "2023-02-09T12:05:11.568Z"
   },
   {
    "duration": 487,
    "start_time": "2023-02-09T12:05:11.668Z"
   },
   {
    "duration": 32,
    "start_time": "2023-02-09T12:05:12.156Z"
   },
   {
    "duration": 92,
    "start_time": "2023-02-09T12:05:12.190Z"
   },
   {
    "duration": 206,
    "start_time": "2023-02-09T12:05:12.287Z"
   },
   {
    "duration": 300,
    "start_time": "2023-02-09T12:05:12.495Z"
   },
   {
    "duration": 222,
    "start_time": "2023-02-09T12:05:12.798Z"
   },
   {
    "duration": 219,
    "start_time": "2023-02-09T12:05:13.022Z"
   },
   {
    "duration": 337,
    "start_time": "2023-02-09T12:05:13.251Z"
   },
   {
    "duration": 215,
    "start_time": "2023-02-09T12:05:13.591Z"
   },
   {
    "duration": 235,
    "start_time": "2023-02-09T12:05:13.808Z"
   },
   {
    "duration": 277,
    "start_time": "2023-02-09T12:05:14.046Z"
   },
   {
    "duration": 216,
    "start_time": "2023-02-09T12:05:14.325Z"
   },
   {
    "duration": 212,
    "start_time": "2023-02-09T12:05:14.543Z"
   },
   {
    "duration": 244,
    "start_time": "2023-02-09T12:05:14.760Z"
   },
   {
    "duration": 245,
    "start_time": "2023-02-09T12:05:15.007Z"
   },
   {
    "duration": 222,
    "start_time": "2023-02-09T12:05:15.261Z"
   },
   {
    "duration": 404,
    "start_time": "2023-02-09T12:05:15.486Z"
   },
   {
    "duration": 843,
    "start_time": "2023-02-09T12:05:15.892Z"
   },
   {
    "duration": 270,
    "start_time": "2023-02-09T12:05:16.737Z"
   },
   {
    "duration": 3,
    "start_time": "2023-02-09T12:06:49.266Z"
   },
   {
    "duration": 2,
    "start_time": "2023-02-09T12:06:49.271Z"
   },
   {
    "duration": 2,
    "start_time": "2023-02-09T12:06:49.274Z"
   },
   {
    "duration": 2,
    "start_time": "2023-02-09T12:06:49.278Z"
   },
   {
    "duration": 20,
    "start_time": "2023-02-09T12:06:49.283Z"
   },
   {
    "duration": 2917,
    "start_time": "2023-02-09T12:06:49.305Z"
   },
   {
    "duration": 86,
    "start_time": "2023-02-09T12:06:52.224Z"
   },
   {
    "duration": 96,
    "start_time": "2023-02-09T12:06:52.312Z"
   },
   {
    "duration": 0,
    "start_time": "2023-02-09T12:06:52.418Z"
   },
   {
    "duration": 0,
    "start_time": "2023-02-09T12:13:51.718Z"
   },
   {
    "duration": 144,
    "start_time": "2023-02-09T12:29:01.241Z"
   },
   {
    "duration": 104,
    "start_time": "2023-02-09T12:29:26.765Z"
   },
   {
    "duration": 15,
    "start_time": "2023-02-09T12:29:45.277Z"
   },
   {
    "duration": 1345,
    "start_time": "2023-02-09T12:30:40.276Z"
   },
   {
    "duration": 190,
    "start_time": "2023-02-09T12:30:41.624Z"
   },
   {
    "duration": 17,
    "start_time": "2023-02-09T12:30:41.816Z"
   },
   {
    "duration": 2355,
    "start_time": "2023-02-09T12:30:41.835Z"
   },
   {
    "duration": 11,
    "start_time": "2023-02-09T12:30:44.194Z"
   },
   {
    "duration": 10,
    "start_time": "2023-02-09T12:30:44.207Z"
   },
   {
    "duration": 91,
    "start_time": "2023-02-09T12:30:44.219Z"
   },
   {
    "duration": 15,
    "start_time": "2023-02-09T12:30:44.311Z"
   },
   {
    "duration": 9,
    "start_time": "2023-02-09T12:30:44.328Z"
   },
   {
    "duration": 253,
    "start_time": "2023-02-09T12:30:44.338Z"
   },
   {
    "duration": 7,
    "start_time": "2023-02-09T12:30:44.592Z"
   },
   {
    "duration": 14,
    "start_time": "2023-02-09T12:30:44.601Z"
   },
   {
    "duration": 9,
    "start_time": "2023-02-09T12:30:44.617Z"
   },
   {
    "duration": 10,
    "start_time": "2023-02-09T12:30:44.630Z"
   },
   {
    "duration": 104,
    "start_time": "2023-02-09T12:30:44.642Z"
   },
   {
    "duration": 11,
    "start_time": "2023-02-09T12:30:44.747Z"
   },
   {
    "duration": 58,
    "start_time": "2023-02-09T12:30:44.767Z"
   },
   {
    "duration": 387,
    "start_time": "2023-02-09T12:30:44.827Z"
   },
   {
    "duration": 22,
    "start_time": "2023-02-09T12:30:45.216Z"
   },
   {
    "duration": 73,
    "start_time": "2023-02-09T12:30:45.240Z"
   },
   {
    "duration": 250,
    "start_time": "2023-02-09T12:30:45.315Z"
   },
   {
    "duration": 259,
    "start_time": "2023-02-09T12:30:45.567Z"
   },
   {
    "duration": 213,
    "start_time": "2023-02-09T12:30:45.828Z"
   },
   {
    "duration": 231,
    "start_time": "2023-02-09T12:30:46.042Z"
   },
   {
    "duration": 322,
    "start_time": "2023-02-09T12:30:46.275Z"
   },
   {
    "duration": 214,
    "start_time": "2023-02-09T12:30:46.598Z"
   },
   {
    "duration": 288,
    "start_time": "2023-02-09T12:30:46.817Z"
   },
   {
    "duration": 357,
    "start_time": "2023-02-09T12:30:47.115Z"
   },
   {
    "duration": 241,
    "start_time": "2023-02-09T12:30:47.479Z"
   },
   {
    "duration": 220,
    "start_time": "2023-02-09T12:30:47.722Z"
   },
   {
    "duration": 238,
    "start_time": "2023-02-09T12:30:47.944Z"
   },
   {
    "duration": 237,
    "start_time": "2023-02-09T12:30:48.184Z"
   },
   {
    "duration": 220,
    "start_time": "2023-02-09T12:30:48.422Z"
   },
   {
    "duration": 427,
    "start_time": "2023-02-09T12:30:48.644Z"
   },
   {
    "duration": 721,
    "start_time": "2023-02-09T12:30:49.073Z"
   },
   {
    "duration": 237,
    "start_time": "2023-02-09T12:30:49.796Z"
   },
   {
    "duration": 4,
    "start_time": "2023-02-09T12:32:35.105Z"
   },
   {
    "duration": 15,
    "start_time": "2023-02-09T12:32:35.112Z"
   },
   {
    "duration": 12,
    "start_time": "2023-02-09T12:32:35.128Z"
   },
   {
    "duration": 21,
    "start_time": "2023-02-09T12:32:35.144Z"
   },
   {
    "duration": 38,
    "start_time": "2023-02-09T12:32:35.172Z"
   },
   {
    "duration": 3165,
    "start_time": "2023-02-09T12:32:35.212Z"
   },
   {
    "duration": 77,
    "start_time": "2023-02-09T12:32:38.379Z"
   },
   {
    "duration": 139,
    "start_time": "2023-02-09T12:32:38.463Z"
   },
   {
    "duration": 0,
    "start_time": "2023-02-09T12:32:38.604Z"
   },
   {
    "duration": 96044,
    "start_time": "2023-02-09T12:35:53.287Z"
   },
   {
    "duration": 1355,
    "start_time": "2023-02-09T12:43:06.721Z"
   },
   {
    "duration": 187,
    "start_time": "2023-02-09T12:43:08.088Z"
   },
   {
    "duration": 20,
    "start_time": "2023-02-09T12:43:08.283Z"
   },
   {
    "duration": 2334,
    "start_time": "2023-02-09T12:43:08.305Z"
   },
   {
    "duration": 20,
    "start_time": "2023-02-09T12:43:10.641Z"
   },
   {
    "duration": 48,
    "start_time": "2023-02-09T12:43:10.666Z"
   },
   {
    "duration": 82,
    "start_time": "2023-02-09T12:43:10.716Z"
   },
   {
    "duration": 18,
    "start_time": "2023-02-09T12:43:10.799Z"
   },
   {
    "duration": 12,
    "start_time": "2023-02-09T12:43:10.818Z"
   },
   {
    "duration": 269,
    "start_time": "2023-02-09T12:43:10.833Z"
   },
   {
    "duration": 4,
    "start_time": "2023-02-09T12:43:11.104Z"
   },
   {
    "duration": 15,
    "start_time": "2023-02-09T12:43:11.110Z"
   },
   {
    "duration": 6,
    "start_time": "2023-02-09T12:43:11.126Z"
   },
   {
    "duration": 19,
    "start_time": "2023-02-09T12:43:11.133Z"
   },
   {
    "duration": 83,
    "start_time": "2023-02-09T12:43:11.160Z"
   },
   {
    "duration": 20,
    "start_time": "2023-02-09T12:43:11.244Z"
   },
   {
    "duration": 48,
    "start_time": "2023-02-09T12:43:11.272Z"
   },
   {
    "duration": 383,
    "start_time": "2023-02-09T12:43:11.321Z"
   },
   {
    "duration": 31,
    "start_time": "2023-02-09T12:43:11.706Z"
   },
   {
    "duration": 69,
    "start_time": "2023-02-09T12:43:11.764Z"
   },
   {
    "duration": 226,
    "start_time": "2023-02-09T12:43:11.835Z"
   },
   {
    "duration": 256,
    "start_time": "2023-02-09T12:43:12.068Z"
   },
   {
    "duration": 209,
    "start_time": "2023-02-09T12:43:12.326Z"
   },
   {
    "duration": 225,
    "start_time": "2023-02-09T12:43:12.537Z"
   },
   {
    "duration": 265,
    "start_time": "2023-02-09T12:43:12.764Z"
   },
   {
    "duration": 191,
    "start_time": "2023-02-09T12:43:13.031Z"
   },
   {
    "duration": 266,
    "start_time": "2023-02-09T12:43:13.224Z"
   },
   {
    "duration": 307,
    "start_time": "2023-02-09T12:43:13.502Z"
   },
   {
    "duration": 252,
    "start_time": "2023-02-09T12:43:13.811Z"
   },
   {
    "duration": 188,
    "start_time": "2023-02-09T12:43:14.065Z"
   },
   {
    "duration": 221,
    "start_time": "2023-02-09T12:43:14.255Z"
   },
   {
    "duration": 227,
    "start_time": "2023-02-09T12:43:14.478Z"
   },
   {
    "duration": 211,
    "start_time": "2023-02-09T12:43:14.706Z"
   },
   {
    "duration": 402,
    "start_time": "2023-02-09T12:43:14.919Z"
   },
   {
    "duration": 690,
    "start_time": "2023-02-09T12:43:15.323Z"
   },
   {
    "duration": 238,
    "start_time": "2023-02-09T12:43:16.015Z"
   },
   {
    "duration": 161,
    "start_time": "2023-02-09T12:43:16.255Z"
   },
   {
    "duration": 0,
    "start_time": "2023-02-09T12:43:16.419Z"
   },
   {
    "duration": 0,
    "start_time": "2023-02-09T12:43:16.421Z"
   },
   {
    "duration": 0,
    "start_time": "2023-02-09T12:43:16.423Z"
   },
   {
    "duration": 0,
    "start_time": "2023-02-09T12:43:16.425Z"
   },
   {
    "duration": 0,
    "start_time": "2023-02-09T12:43:16.426Z"
   },
   {
    "duration": 0,
    "start_time": "2023-02-09T12:43:16.427Z"
   },
   {
    "duration": 0,
    "start_time": "2023-02-09T12:43:16.429Z"
   },
   {
    "duration": 0,
    "start_time": "2023-02-09T12:43:16.431Z"
   },
   {
    "duration": 17,
    "start_time": "2023-02-09T12:45:35.642Z"
   },
   {
    "duration": 4451,
    "start_time": "2023-02-09T12:52:38.120Z"
   },
   {
    "duration": 650,
    "start_time": "2023-02-09T12:52:44.276Z"
   },
   {
    "duration": 4071,
    "start_time": "2023-02-09T12:53:58.746Z"
   },
   {
    "duration": 4424,
    "start_time": "2023-02-09T12:55:23.268Z"
   },
   {
    "duration": 6049,
    "start_time": "2023-02-09T12:55:38.582Z"
   },
   {
    "duration": 4402,
    "start_time": "2023-02-09T12:56:05.002Z"
   },
   {
    "duration": 4070,
    "start_time": "2023-02-09T12:56:26.721Z"
   },
   {
    "duration": 21,
    "start_time": "2023-02-09T13:00:23.860Z"
   },
   {
    "duration": 4227,
    "start_time": "2023-02-09T13:00:37.237Z"
   },
   {
    "duration": 146,
    "start_time": "2023-02-09T13:03:38.378Z"
   },
   {
    "duration": 155,
    "start_time": "2023-02-09T13:06:48.873Z"
   },
   {
    "duration": 303,
    "start_time": "2023-02-09T13:08:38.967Z"
   },
   {
    "duration": 144,
    "start_time": "2023-02-09T13:08:40.891Z"
   },
   {
    "duration": 154,
    "start_time": "2023-02-09T13:08:53.392Z"
   },
   {
    "duration": 149,
    "start_time": "2023-02-09T13:09:02.111Z"
   },
   {
    "duration": 498,
    "start_time": "2023-02-09T13:09:11.294Z"
   },
   {
    "duration": 72,
    "start_time": "2023-02-09T13:09:19.728Z"
   },
   {
    "duration": 195,
    "start_time": "2023-02-09T13:09:22.999Z"
   },
   {
    "duration": 218,
    "start_time": "2023-02-09T13:11:24.831Z"
   },
   {
    "duration": 206,
    "start_time": "2023-02-09T13:14:45.829Z"
   },
   {
    "duration": 310,
    "start_time": "2023-02-09T13:14:50.970Z"
   },
   {
    "duration": 224,
    "start_time": "2023-02-09T13:15:18.129Z"
   },
   {
    "duration": 217,
    "start_time": "2023-02-09T13:15:37.777Z"
   },
   {
    "duration": 204,
    "start_time": "2023-02-09T13:15:46.058Z"
   },
   {
    "duration": 1417,
    "start_time": "2023-02-10T05:55:24.229Z"
   },
   {
    "duration": 120,
    "start_time": "2023-02-10T05:55:25.648Z"
   },
   {
    "duration": 20,
    "start_time": "2023-02-10T05:55:25.769Z"
   },
   {
    "duration": 2737,
    "start_time": "2023-02-10T05:55:25.791Z"
   },
   {
    "duration": 9,
    "start_time": "2023-02-10T05:55:28.530Z"
   },
   {
    "duration": 29,
    "start_time": "2023-02-10T05:55:28.541Z"
   },
   {
    "duration": 78,
    "start_time": "2023-02-10T05:55:28.572Z"
   },
   {
    "duration": 31,
    "start_time": "2023-02-10T05:55:28.651Z"
   },
   {
    "duration": 12,
    "start_time": "2023-02-10T05:55:28.685Z"
   },
   {
    "duration": 340,
    "start_time": "2023-02-10T05:55:28.699Z"
   },
   {
    "duration": 8,
    "start_time": "2023-02-10T05:55:29.041Z"
   },
   {
    "duration": 25,
    "start_time": "2023-02-10T05:55:29.053Z"
   },
   {
    "duration": 6,
    "start_time": "2023-02-10T05:55:29.079Z"
   },
   {
    "duration": 7,
    "start_time": "2023-02-10T05:55:29.088Z"
   },
   {
    "duration": 102,
    "start_time": "2023-02-10T05:55:29.097Z"
   },
   {
    "duration": 5,
    "start_time": "2023-02-10T05:55:29.202Z"
   },
   {
    "duration": 20,
    "start_time": "2023-02-10T05:55:29.208Z"
   },
   {
    "duration": 284,
    "start_time": "2023-02-10T05:55:29.230Z"
   },
   {
    "duration": 18,
    "start_time": "2023-02-10T05:55:29.516Z"
   },
   {
    "duration": 78,
    "start_time": "2023-02-10T05:55:29.535Z"
   },
   {
    "duration": 364,
    "start_time": "2023-02-10T05:55:29.615Z"
   },
   {
    "duration": 399,
    "start_time": "2023-02-10T05:55:29.981Z"
   },
   {
    "duration": 301,
    "start_time": "2023-02-10T05:55:30.382Z"
   },
   {
    "duration": 288,
    "start_time": "2023-02-10T05:55:30.685Z"
   },
   {
    "duration": 350,
    "start_time": "2023-02-10T05:55:30.975Z"
   },
   {
    "duration": 415,
    "start_time": "2023-02-10T05:55:31.328Z"
   },
   {
    "duration": 322,
    "start_time": "2023-02-10T05:55:31.746Z"
   },
   {
    "duration": 398,
    "start_time": "2023-02-10T05:55:32.070Z"
   },
   {
    "duration": 341,
    "start_time": "2023-02-10T05:55:32.470Z"
   },
   {
    "duration": 376,
    "start_time": "2023-02-10T05:55:32.813Z"
   },
   {
    "duration": 367,
    "start_time": "2023-02-10T05:55:33.190Z"
   },
   {
    "duration": 341,
    "start_time": "2023-02-10T05:55:33.558Z"
   },
   {
    "duration": 308,
    "start_time": "2023-02-10T05:55:33.900Z"
   },
   {
    "duration": 378,
    "start_time": "2023-02-10T05:55:34.210Z"
   },
   {
    "duration": 1415,
    "start_time": "2023-02-10T05:55:34.589Z"
   },
   {
    "duration": 393,
    "start_time": "2023-02-10T05:55:36.006Z"
   },
   {
    "duration": 1907,
    "start_time": "2023-02-10T05:55:36.400Z"
   },
   {
    "duration": 225,
    "start_time": "2023-02-10T05:55:38.309Z"
   },
   {
    "duration": 274,
    "start_time": "2023-02-10T05:55:38.536Z"
   },
   {
    "duration": 229,
    "start_time": "2023-02-10T05:55:38.812Z"
   },
   {
    "duration": 275,
    "start_time": "2023-02-10T05:55:39.046Z"
   },
   {
    "duration": 210,
    "start_time": "2023-02-10T05:55:39.322Z"
   },
   {
    "duration": 338,
    "start_time": "2023-02-10T05:55:39.533Z"
   },
   {
    "duration": 318,
    "start_time": "2023-02-10T05:55:39.873Z"
   },
   {
    "duration": 859,
    "start_time": "2023-02-10T05:55:40.193Z"
   },
   {
    "duration": 93,
    "start_time": "2023-02-10T05:55:41.054Z"
   },
   {
    "duration": 346,
    "start_time": "2023-02-10T05:55:41.149Z"
   },
   {
    "duration": 397,
    "start_time": "2023-02-10T05:56:58.628Z"
   },
   {
    "duration": 342,
    "start_time": "2023-02-10T05:58:17.380Z"
   },
   {
    "duration": 99,
    "start_time": "2023-02-10T05:58:37.823Z"
   },
   {
    "duration": 27,
    "start_time": "2023-02-10T05:58:44.309Z"
   },
   {
    "duration": 61,
    "start_time": "2023-02-10T06:37:33.602Z"
   },
   {
    "duration": 10,
    "start_time": "2023-02-10T06:37:36.352Z"
   },
   {
    "duration": 46,
    "start_time": "2023-02-10T06:43:43.668Z"
   },
   {
    "duration": 7,
    "start_time": "2023-02-10T06:44:01.966Z"
   },
   {
    "duration": 1468,
    "start_time": "2023-02-10T06:44:14.464Z"
   },
   {
    "duration": 262,
    "start_time": "2023-02-10T06:44:15.934Z"
   },
   {
    "duration": 15,
    "start_time": "2023-02-10T06:44:16.198Z"
   },
   {
    "duration": 2329,
    "start_time": "2023-02-10T06:44:16.215Z"
   },
   {
    "duration": 15,
    "start_time": "2023-02-10T06:44:18.548Z"
   },
   {
    "duration": 18,
    "start_time": "2023-02-10T06:44:18.566Z"
   },
   {
    "duration": 113,
    "start_time": "2023-02-10T06:44:18.587Z"
   },
   {
    "duration": 26,
    "start_time": "2023-02-10T06:44:18.701Z"
   },
   {
    "duration": 11,
    "start_time": "2023-02-10T06:44:18.728Z"
   },
   {
    "duration": 232,
    "start_time": "2023-02-10T06:44:18.741Z"
   },
   {
    "duration": 3,
    "start_time": "2023-02-10T06:44:18.976Z"
   },
   {
    "duration": 34,
    "start_time": "2023-02-10T06:44:18.981Z"
   },
   {
    "duration": 16,
    "start_time": "2023-02-10T06:44:19.017Z"
   },
   {
    "duration": 19,
    "start_time": "2023-02-10T06:44:19.038Z"
   },
   {
    "duration": 57,
    "start_time": "2023-02-10T06:44:19.059Z"
   },
   {
    "duration": 24,
    "start_time": "2023-02-10T06:44:19.118Z"
   },
   {
    "duration": 21,
    "start_time": "2023-02-10T06:44:19.147Z"
   },
   {
    "duration": 340,
    "start_time": "2023-02-10T06:44:19.169Z"
   },
   {
    "duration": 37,
    "start_time": "2023-02-10T06:44:19.511Z"
   },
   {
    "duration": 89,
    "start_time": "2023-02-10T06:44:19.550Z"
   },
   {
    "duration": 208,
    "start_time": "2023-02-10T06:44:19.641Z"
   },
   {
    "duration": 262,
    "start_time": "2023-02-10T06:44:19.851Z"
   },
   {
    "duration": 247,
    "start_time": "2023-02-10T06:44:20.115Z"
   },
   {
    "duration": 272,
    "start_time": "2023-02-10T06:44:20.365Z"
   },
   {
    "duration": 270,
    "start_time": "2023-02-10T06:44:20.639Z"
   },
   {
    "duration": 195,
    "start_time": "2023-02-10T06:44:20.911Z"
   },
   {
    "duration": 241,
    "start_time": "2023-02-10T06:44:21.108Z"
   },
   {
    "duration": 260,
    "start_time": "2023-02-10T06:44:21.352Z"
   },
   {
    "duration": 213,
    "start_time": "2023-02-10T06:44:21.614Z"
   },
   {
    "duration": 211,
    "start_time": "2023-02-10T06:44:21.829Z"
   },
   {
    "duration": 247,
    "start_time": "2023-02-10T06:44:22.041Z"
   },
   {
    "duration": 276,
    "start_time": "2023-02-10T06:44:22.290Z"
   },
   {
    "duration": 229,
    "start_time": "2023-02-10T06:44:22.568Z"
   },
   {
    "duration": 405,
    "start_time": "2023-02-10T06:44:22.800Z"
   },
   {
    "duration": 656,
    "start_time": "2023-02-10T06:44:23.208Z"
   },
   {
    "duration": 236,
    "start_time": "2023-02-10T06:44:23.865Z"
   },
   {
    "duration": 4184,
    "start_time": "2023-02-10T06:44:24.103Z"
   },
   {
    "duration": 140,
    "start_time": "2023-02-10T06:44:28.289Z"
   },
   {
    "duration": 259,
    "start_time": "2023-02-10T06:44:28.431Z"
   },
   {
    "duration": 176,
    "start_time": "2023-02-10T06:44:28.692Z"
   },
   {
    "duration": 192,
    "start_time": "2023-02-10T06:44:28.873Z"
   },
   {
    "duration": 138,
    "start_time": "2023-02-10T06:44:29.067Z"
   },
   {
    "duration": 161,
    "start_time": "2023-02-10T06:44:29.207Z"
   },
   {
    "duration": 171,
    "start_time": "2023-02-10T06:44:29.370Z"
   },
   {
    "duration": 162,
    "start_time": "2023-02-10T06:44:29.542Z"
   },
   {
    "duration": 706,
    "start_time": "2023-02-10T06:44:29.706Z"
   },
   {
    "duration": 91,
    "start_time": "2023-02-10T06:44:30.415Z"
   },
   {
    "duration": 273,
    "start_time": "2023-02-10T06:44:30.509Z"
   },
   {
    "duration": 32,
    "start_time": "2023-02-10T06:44:30.784Z"
   },
   {
    "duration": 155,
    "start_time": "2023-02-10T06:48:25.299Z"
   },
   {
    "duration": 32,
    "start_time": "2023-02-10T06:48:47.748Z"
   },
   {
    "duration": 48,
    "start_time": "2023-02-10T06:50:17.700Z"
   },
   {
    "duration": 13,
    "start_time": "2023-02-10T06:50:28.148Z"
   },
   {
    "duration": 18,
    "start_time": "2023-02-10T06:52:46.383Z"
   },
   {
    "duration": 6,
    "start_time": "2023-02-10T06:53:51.881Z"
   },
   {
    "duration": 8,
    "start_time": "2023-02-10T06:53:55.556Z"
   },
   {
    "duration": 15,
    "start_time": "2023-02-10T06:54:16.437Z"
   },
   {
    "duration": 6,
    "start_time": "2023-02-10T06:54:20.065Z"
   },
   {
    "duration": 49,
    "start_time": "2023-02-10T11:44:41.982Z"
   },
   {
    "duration": 1430,
    "start_time": "2023-02-10T11:45:06.502Z"
   },
   {
    "duration": 188,
    "start_time": "2023-02-10T11:45:07.934Z"
   },
   {
    "duration": 16,
    "start_time": "2023-02-10T11:45:08.124Z"
   },
   {
    "duration": 2111,
    "start_time": "2023-02-10T11:45:08.142Z"
   },
   {
    "duration": 10,
    "start_time": "2023-02-10T11:45:10.254Z"
   },
   {
    "duration": 13,
    "start_time": "2023-02-10T11:45:10.266Z"
   },
   {
    "duration": 84,
    "start_time": "2023-02-10T11:45:10.281Z"
   },
   {
    "duration": 15,
    "start_time": "2023-02-10T11:45:10.367Z"
   },
   {
    "duration": 19,
    "start_time": "2023-02-10T11:45:10.384Z"
   },
   {
    "duration": 208,
    "start_time": "2023-02-10T11:45:10.406Z"
   },
   {
    "duration": 4,
    "start_time": "2023-02-10T11:45:10.616Z"
   },
   {
    "duration": 20,
    "start_time": "2023-02-10T11:45:10.621Z"
   },
   {
    "duration": 8,
    "start_time": "2023-02-10T11:45:10.643Z"
   },
   {
    "duration": 28,
    "start_time": "2023-02-10T11:45:10.653Z"
   },
   {
    "duration": 57,
    "start_time": "2023-02-10T11:45:10.683Z"
   },
   {
    "duration": 5,
    "start_time": "2023-02-10T11:45:10.742Z"
   },
   {
    "duration": 22,
    "start_time": "2023-02-10T11:45:10.749Z"
   },
   {
    "duration": 309,
    "start_time": "2023-02-10T11:45:10.773Z"
   },
   {
    "duration": 29,
    "start_time": "2023-02-10T11:45:11.084Z"
   },
   {
    "duration": 57,
    "start_time": "2023-02-10T11:45:11.115Z"
   },
   {
    "duration": 215,
    "start_time": "2023-02-10T11:45:11.174Z"
   },
   {
    "duration": 241,
    "start_time": "2023-02-10T11:45:11.391Z"
   },
   {
    "duration": 184,
    "start_time": "2023-02-10T11:45:11.634Z"
   },
   {
    "duration": 195,
    "start_time": "2023-02-10T11:45:11.820Z"
   },
   {
    "duration": 255,
    "start_time": "2023-02-10T11:45:12.017Z"
   },
   {
    "duration": 172,
    "start_time": "2023-02-10T11:45:12.274Z"
   },
   {
    "duration": 203,
    "start_time": "2023-02-10T11:45:12.447Z"
   },
   {
    "duration": 250,
    "start_time": "2023-02-10T11:45:12.654Z"
   },
   {
    "duration": 213,
    "start_time": "2023-02-10T11:45:12.906Z"
   },
   {
    "duration": 202,
    "start_time": "2023-02-10T11:45:13.120Z"
   },
   {
    "duration": 245,
    "start_time": "2023-02-10T11:45:13.324Z"
   },
   {
    "duration": 234,
    "start_time": "2023-02-10T11:45:13.571Z"
   },
   {
    "duration": 214,
    "start_time": "2023-02-10T11:45:13.808Z"
   },
   {
    "duration": 434,
    "start_time": "2023-02-10T11:45:14.023Z"
   },
   {
    "duration": 631,
    "start_time": "2023-02-10T11:45:14.459Z"
   },
   {
    "duration": 225,
    "start_time": "2023-02-10T11:45:15.093Z"
   },
   {
    "duration": 3903,
    "start_time": "2023-02-10T11:45:15.319Z"
   },
   {
    "duration": 137,
    "start_time": "2023-02-10T11:45:19.225Z"
   },
   {
    "duration": 246,
    "start_time": "2023-02-10T11:45:19.364Z"
   },
   {
    "duration": 150,
    "start_time": "2023-02-10T11:45:19.612Z"
   },
   {
    "duration": 152,
    "start_time": "2023-02-10T11:45:19.764Z"
   },
   {
    "duration": 139,
    "start_time": "2023-02-10T11:45:19.917Z"
   },
   {
    "duration": 141,
    "start_time": "2023-02-10T11:45:20.058Z"
   },
   {
    "duration": 142,
    "start_time": "2023-02-10T11:45:20.203Z"
   },
   {
    "duration": 156,
    "start_time": "2023-02-10T11:45:20.347Z"
   },
   {
    "duration": 593,
    "start_time": "2023-02-10T11:45:20.504Z"
   },
   {
    "duration": 60,
    "start_time": "2023-02-10T11:45:21.102Z"
   },
   {
    "duration": 201,
    "start_time": "2023-02-10T11:45:21.164Z"
   },
   {
    "duration": 894,
    "start_time": "2023-02-10T11:45:21.366Z"
   },
   {
    "duration": 0,
    "start_time": "2023-02-10T11:45:22.261Z"
   },
   {
    "duration": 4,
    "start_time": "2023-02-10T11:47:21.460Z"
   },
   {
    "duration": 22,
    "start_time": "2023-02-10T11:47:23.507Z"
   },
   {
    "duration": 4,
    "start_time": "2023-02-10T11:48:06.857Z"
   },
   {
    "duration": 181,
    "start_time": "2023-02-10T11:48:08.622Z"
   },
   {
    "duration": 193,
    "start_time": "2023-02-10T11:49:06.532Z"
   },
   {
    "duration": 4,
    "start_time": "2023-02-10T11:49:16.890Z"
   },
   {
    "duration": 178,
    "start_time": "2023-02-10T11:49:18.457Z"
   },
   {
    "duration": 202,
    "start_time": "2023-02-10T11:54:29.983Z"
   },
   {
    "duration": 210,
    "start_time": "2023-02-10T11:55:57.193Z"
   },
   {
    "duration": 49,
    "start_time": "2023-02-10T16:08:43.465Z"
   },
   {
    "duration": 1223,
    "start_time": "2023-02-10T16:08:49.871Z"
   },
   {
    "duration": 133,
    "start_time": "2023-02-10T16:08:51.096Z"
   },
   {
    "duration": 18,
    "start_time": "2023-02-10T16:08:51.231Z"
   },
   {
    "duration": 2080,
    "start_time": "2023-02-10T16:08:51.251Z"
   },
   {
    "duration": 9,
    "start_time": "2023-02-10T16:08:53.332Z"
   },
   {
    "duration": 10,
    "start_time": "2023-02-10T16:08:53.343Z"
   },
   {
    "duration": 113,
    "start_time": "2023-02-10T16:08:53.355Z"
   },
   {
    "duration": 16,
    "start_time": "2023-02-10T16:08:53.469Z"
   },
   {
    "duration": 8,
    "start_time": "2023-02-10T16:08:53.487Z"
   },
   {
    "duration": 248,
    "start_time": "2023-02-10T16:08:53.498Z"
   },
   {
    "duration": 4,
    "start_time": "2023-02-10T16:08:53.748Z"
   },
   {
    "duration": 16,
    "start_time": "2023-02-10T16:08:53.754Z"
   },
   {
    "duration": 6,
    "start_time": "2023-02-10T16:08:53.771Z"
   },
   {
    "duration": 9,
    "start_time": "2023-02-10T16:08:53.779Z"
   },
   {
    "duration": 87,
    "start_time": "2023-02-10T16:08:53.791Z"
   },
   {
    "duration": 5,
    "start_time": "2023-02-10T16:08:53.879Z"
   },
   {
    "duration": 27,
    "start_time": "2023-02-10T16:08:53.886Z"
   },
   {
    "duration": 318,
    "start_time": "2023-02-10T16:08:53.915Z"
   },
   {
    "duration": 24,
    "start_time": "2023-02-10T16:08:54.235Z"
   },
   {
    "duration": 69,
    "start_time": "2023-02-10T16:08:54.261Z"
   },
   {
    "duration": 181,
    "start_time": "2023-02-10T16:08:54.332Z"
   },
   {
    "duration": 244,
    "start_time": "2023-02-10T16:08:54.515Z"
   },
   {
    "duration": 178,
    "start_time": "2023-02-10T16:08:54.761Z"
   },
   {
    "duration": 198,
    "start_time": "2023-02-10T16:08:54.941Z"
   },
   {
    "duration": 269,
    "start_time": "2023-02-10T16:08:55.141Z"
   },
   {
    "duration": 181,
    "start_time": "2023-02-10T16:08:55.412Z"
   },
   {
    "duration": 208,
    "start_time": "2023-02-10T16:08:55.595Z"
   },
   {
    "duration": 273,
    "start_time": "2023-02-10T16:08:55.807Z"
   },
   {
    "duration": 198,
    "start_time": "2023-02-10T16:08:56.082Z"
   },
   {
    "duration": 219,
    "start_time": "2023-02-10T16:08:56.282Z"
   },
   {
    "duration": 219,
    "start_time": "2023-02-10T16:08:56.503Z"
   },
   {
    "duration": 237,
    "start_time": "2023-02-10T16:08:56.724Z"
   },
   {
    "duration": 203,
    "start_time": "2023-02-10T16:08:56.963Z"
   },
   {
    "duration": 396,
    "start_time": "2023-02-10T16:08:57.168Z"
   },
   {
    "duration": 647,
    "start_time": "2023-02-10T16:08:57.566Z"
   },
   {
    "duration": 230,
    "start_time": "2023-02-10T16:08:58.215Z"
   },
   {
    "duration": 222,
    "start_time": "2023-02-10T16:08:58.447Z"
   },
   {
    "duration": 249,
    "start_time": "2023-02-10T16:08:58.671Z"
   },
   {
    "duration": 214,
    "start_time": "2023-02-10T16:08:58.922Z"
   },
   {
    "duration": 235,
    "start_time": "2023-02-10T16:08:59.138Z"
   },
   {
    "duration": 147,
    "start_time": "2023-02-10T16:08:59.374Z"
   },
   {
    "duration": 272,
    "start_time": "2023-02-10T16:08:59.526Z"
   },
   {
    "duration": 499,
    "start_time": "2023-02-10T16:08:59.800Z"
   },
   {
    "duration": 95,
    "start_time": "2023-02-10T16:09:00.301Z"
   },
   {
    "duration": 4,
    "start_time": "2023-02-10T16:09:00.398Z"
   },
   {
    "duration": 264,
    "start_time": "2023-02-10T16:09:00.404Z"
   },
   {
    "duration": 205,
    "start_time": "2023-02-10T16:09:00.670Z"
   },
   {
    "duration": 23,
    "start_time": "2023-02-10T16:09:00.877Z"
   }
  ],
  "kernelspec": {
   "display_name": "Python 3 (ipykernel)",
   "language": "python",
   "name": "python3"
  },
  "language_info": {
   "codemirror_mode": {
    "name": "ipython",
    "version": 3
   },
   "file_extension": ".py",
   "mimetype": "text/x-python",
   "name": "python",
   "nbconvert_exporter": "python",
   "pygments_lexer": "ipython3",
   "version": "3.9.13"
  },
  "toc": {
   "base_numbering": 1,
   "nav_menu": {},
   "number_sections": true,
   "sideBar": true,
   "skip_h1_title": true,
   "title_cell": "Table of Contents",
   "title_sidebar": "Contents",
   "toc_cell": false,
   "toc_position": {},
   "toc_section_display": true,
   "toc_window_display": false
  }
 },
 "nbformat": 4,
 "nbformat_minor": 4
}
