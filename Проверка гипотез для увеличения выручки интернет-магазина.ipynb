{
 "cells": [
  {
   "cell_type": "markdown",
   "metadata": {},
   "source": [
    "# Проверка гипотез для увеличения выручки интернет-магазина"
   ]
  },
  {
   "cell_type": "markdown",
   "metadata": {},
   "source": [
    "## Описание проекта  \n",
    "\n",
    "Контекст\n",
    "Вы — аналитик крупного интернет-магазина. Вместе с отделом маркетинга вы подготовили список гипотез для увеличения выручки.\n",
    "Приоритизируйте гипотезы, запустите A/B-тест и проанализируйте результаты. \n",
    "\n",
    "Описание данных\n",
    "Данные для первой части\n",
    "Файл /datasets/hypothesis.csv. Скачать датасет\n",
    "Hypothesis — краткое описание гипотезы;\n",
    "Reach — охват пользователей по 10-балльной шкале;\n",
    "Impact — влияние на пользователей по 10-балльной шкале;\n",
    "Confidence — уверенность в гипотезе по 10-балльной шкале;\n",
    "Efforts — затраты ресурсов на проверку гипотезы по 10-балльной шкале. Чем больше значение Efforts, тем дороже проверка гипотезы.\n",
    "\n",
    "Данные для второй части\n",
    "Файл /datasets/orders.csv. Скачать датасет\n",
    "transactionId — идентификатор заказа;\n",
    "visitorId — идентификатор пользователя, совершившего заказ;\n",
    "date — дата, когда был совершён заказ;\n",
    "revenue — выручка заказа;\n",
    "group — группа A/B-теста, в которую попал заказ.\n",
    "Файл /datasets/visitors.csv. Скачать датасет\n",
    "date — дата;\n",
    "group — группа A/B-теста;\n",
    "visitors — количество пользователей в указанную дату в указанной группе A/B-теста\n"
   ]
  },
  {
   "cell_type": "code",
   "execution_count": 1,
   "metadata": {},
   "outputs": [],
   "source": [
    "import pandas as pd\n",
    "import numpy as np\n",
    "import matplotlib.pyplot as plt\n",
    "import scipy.stats as stats\n",
    "import datetime as dt\n",
    "from scipy import stats as st\n",
    "import numpy as np\n",
    "import math as mth\n",
    "\n",
    "pd.set_option('display.max_columns', None)\n",
    "pd.options.display.max_colwidth = 130"
   ]
  },
  {
   "cell_type": "code",
   "execution_count": 2,
   "metadata": {},
   "outputs": [],
   "source": [
    "hypothesis, orders, visitors = (\n",
    "        pd.read_csv('/datasets/hypothesis.csv'),\n",
    "        pd.read_csv('/datasets/orders.csv'),\n",
    "        pd.read_csv('/datasets/visitors.csv'))\n",
    "\n",
    "hypothesis.columns = hypothesis.columns.str.lower()"
   ]
  },
  {
   "cell_type": "code",
   "execution_count": 3,
   "metadata": {},
   "outputs": [
    {
     "data": {
      "text/html": [
       "<div>\n",
       "<style scoped>\n",
       "    .dataframe tbody tr th:only-of-type {\n",
       "        vertical-align: middle;\n",
       "    }\n",
       "\n",
       "    .dataframe tbody tr th {\n",
       "        vertical-align: top;\n",
       "    }\n",
       "\n",
       "    .dataframe thead th {\n",
       "        text-align: right;\n",
       "    }\n",
       "</style>\n",
       "<table border=\"1\" class=\"dataframe\">\n",
       "  <thead>\n",
       "    <tr style=\"text-align: right;\">\n",
       "      <th></th>\n",
       "      <th>hypothesis</th>\n",
       "      <th>reach</th>\n",
       "      <th>impact</th>\n",
       "      <th>confidence</th>\n",
       "      <th>efforts</th>\n",
       "    </tr>\n",
       "  </thead>\n",
       "  <tbody>\n",
       "    <tr>\n",
       "      <th>0</th>\n",
       "      <td>Добавить два новых канала привлечения трафика, что позволит привлекать на 30% больше пользователей</td>\n",
       "      <td>3</td>\n",
       "      <td>10</td>\n",
       "      <td>8</td>\n",
       "      <td>6</td>\n",
       "    </tr>\n",
       "    <tr>\n",
       "      <th>1</th>\n",
       "      <td>Запустить собственную службу доставки, что сократит срок доставки заказов</td>\n",
       "      <td>2</td>\n",
       "      <td>5</td>\n",
       "      <td>4</td>\n",
       "      <td>10</td>\n",
       "    </tr>\n",
       "    <tr>\n",
       "      <th>2</th>\n",
       "      <td>Добавить блоки рекомендаций товаров на сайт интернет магазина, чтобы повысить конверсию и средний чек заказа</td>\n",
       "      <td>8</td>\n",
       "      <td>3</td>\n",
       "      <td>7</td>\n",
       "      <td>3</td>\n",
       "    </tr>\n",
       "    <tr>\n",
       "      <th>3</th>\n",
       "      <td>Изменить структура категорий, что увеличит конверсию, т.к. пользователи быстрее найдут нужный товар</td>\n",
       "      <td>8</td>\n",
       "      <td>3</td>\n",
       "      <td>3</td>\n",
       "      <td>8</td>\n",
       "    </tr>\n",
       "    <tr>\n",
       "      <th>4</th>\n",
       "      <td>Изменить цвет фона главной страницы, чтобы увеличить вовлеченность пользователей</td>\n",
       "      <td>3</td>\n",
       "      <td>1</td>\n",
       "      <td>1</td>\n",
       "      <td>1</td>\n",
       "    </tr>\n",
       "  </tbody>\n",
       "</table>\n",
       "</div>"
      ],
      "text/plain": [
       "                                                                                                     hypothesis  \\\n",
       "0            Добавить два новых канала привлечения трафика, что позволит привлекать на 30% больше пользователей   \n",
       "1                                     Запустить собственную службу доставки, что сократит срок доставки заказов   \n",
       "2  Добавить блоки рекомендаций товаров на сайт интернет магазина, чтобы повысить конверсию и средний чек заказа   \n",
       "3           Изменить структура категорий, что увеличит конверсию, т.к. пользователи быстрее найдут нужный товар   \n",
       "4                              Изменить цвет фона главной страницы, чтобы увеличить вовлеченность пользователей   \n",
       "\n",
       "   reach  impact  confidence  efforts  \n",
       "0      3      10           8        6  \n",
       "1      2       5           4       10  \n",
       "2      8       3           7        3  \n",
       "3      8       3           3        8  \n",
       "4      3       1           1        1  "
      ]
     },
     "metadata": {},
     "output_type": "display_data"
    },
    {
     "data": {
      "text/html": [
       "<div>\n",
       "<style scoped>\n",
       "    .dataframe tbody tr th:only-of-type {\n",
       "        vertical-align: middle;\n",
       "    }\n",
       "\n",
       "    .dataframe tbody tr th {\n",
       "        vertical-align: top;\n",
       "    }\n",
       "\n",
       "    .dataframe thead th {\n",
       "        text-align: right;\n",
       "    }\n",
       "</style>\n",
       "<table border=\"1\" class=\"dataframe\">\n",
       "  <thead>\n",
       "    <tr style=\"text-align: right;\">\n",
       "      <th></th>\n",
       "      <th>transactionId</th>\n",
       "      <th>visitorId</th>\n",
       "      <th>date</th>\n",
       "      <th>revenue</th>\n",
       "      <th>group</th>\n",
       "    </tr>\n",
       "  </thead>\n",
       "  <tbody>\n",
       "    <tr>\n",
       "      <th>0</th>\n",
       "      <td>3667963787</td>\n",
       "      <td>3312258926</td>\n",
       "      <td>2019-08-15</td>\n",
       "      <td>1650</td>\n",
       "      <td>B</td>\n",
       "    </tr>\n",
       "    <tr>\n",
       "      <th>1</th>\n",
       "      <td>2804400009</td>\n",
       "      <td>3642806036</td>\n",
       "      <td>2019-08-15</td>\n",
       "      <td>730</td>\n",
       "      <td>B</td>\n",
       "    </tr>\n",
       "    <tr>\n",
       "      <th>2</th>\n",
       "      <td>2961555356</td>\n",
       "      <td>4069496402</td>\n",
       "      <td>2019-08-15</td>\n",
       "      <td>400</td>\n",
       "      <td>A</td>\n",
       "    </tr>\n",
       "    <tr>\n",
       "      <th>3</th>\n",
       "      <td>3797467345</td>\n",
       "      <td>1196621759</td>\n",
       "      <td>2019-08-15</td>\n",
       "      <td>9759</td>\n",
       "      <td>B</td>\n",
       "    </tr>\n",
       "    <tr>\n",
       "      <th>4</th>\n",
       "      <td>2282983706</td>\n",
       "      <td>2322279887</td>\n",
       "      <td>2019-08-15</td>\n",
       "      <td>2308</td>\n",
       "      <td>B</td>\n",
       "    </tr>\n",
       "  </tbody>\n",
       "</table>\n",
       "</div>"
      ],
      "text/plain": [
       "   transactionId   visitorId        date  revenue group\n",
       "0     3667963787  3312258926  2019-08-15     1650     B\n",
       "1     2804400009  3642806036  2019-08-15      730     B\n",
       "2     2961555356  4069496402  2019-08-15      400     A\n",
       "3     3797467345  1196621759  2019-08-15     9759     B\n",
       "4     2282983706  2322279887  2019-08-15     2308     B"
      ]
     },
     "metadata": {},
     "output_type": "display_data"
    },
    {
     "data": {
      "text/html": [
       "<div>\n",
       "<style scoped>\n",
       "    .dataframe tbody tr th:only-of-type {\n",
       "        vertical-align: middle;\n",
       "    }\n",
       "\n",
       "    .dataframe tbody tr th {\n",
       "        vertical-align: top;\n",
       "    }\n",
       "\n",
       "    .dataframe thead th {\n",
       "        text-align: right;\n",
       "    }\n",
       "</style>\n",
       "<table border=\"1\" class=\"dataframe\">\n",
       "  <thead>\n",
       "    <tr style=\"text-align: right;\">\n",
       "      <th></th>\n",
       "      <th>date</th>\n",
       "      <th>group</th>\n",
       "      <th>visitors</th>\n",
       "    </tr>\n",
       "  </thead>\n",
       "  <tbody>\n",
       "    <tr>\n",
       "      <th>0</th>\n",
       "      <td>2019-08-01</td>\n",
       "      <td>A</td>\n",
       "      <td>719</td>\n",
       "    </tr>\n",
       "    <tr>\n",
       "      <th>1</th>\n",
       "      <td>2019-08-02</td>\n",
       "      <td>A</td>\n",
       "      <td>619</td>\n",
       "    </tr>\n",
       "    <tr>\n",
       "      <th>2</th>\n",
       "      <td>2019-08-03</td>\n",
       "      <td>A</td>\n",
       "      <td>507</td>\n",
       "    </tr>\n",
       "    <tr>\n",
       "      <th>3</th>\n",
       "      <td>2019-08-04</td>\n",
       "      <td>A</td>\n",
       "      <td>717</td>\n",
       "    </tr>\n",
       "    <tr>\n",
       "      <th>4</th>\n",
       "      <td>2019-08-05</td>\n",
       "      <td>A</td>\n",
       "      <td>756</td>\n",
       "    </tr>\n",
       "  </tbody>\n",
       "</table>\n",
       "</div>"
      ],
      "text/plain": [
       "         date group  visitors\n",
       "0  2019-08-01     A       719\n",
       "1  2019-08-02     A       619\n",
       "2  2019-08-03     A       507\n",
       "3  2019-08-04     A       717\n",
       "4  2019-08-05     A       756"
      ]
     },
     "metadata": {},
     "output_type": "display_data"
    }
   ],
   "source": [
    "display(hypothesis.head())\n",
    "display(orders.head())\n",
    "display(visitors.head())"
   ]
  },
  {
   "cell_type": "code",
   "execution_count": 4,
   "metadata": {},
   "outputs": [
    {
     "data": {
      "text/html": [
       "<div>\n",
       "<style scoped>\n",
       "    .dataframe tbody tr th:only-of-type {\n",
       "        vertical-align: middle;\n",
       "    }\n",
       "\n",
       "    .dataframe tbody tr th {\n",
       "        vertical-align: top;\n",
       "    }\n",
       "\n",
       "    .dataframe thead th {\n",
       "        text-align: right;\n",
       "    }\n",
       "</style>\n",
       "<table border=\"1\" class=\"dataframe\">\n",
       "  <thead>\n",
       "    <tr style=\"text-align: right;\">\n",
       "      <th></th>\n",
       "      <th>hypothesis</th>\n",
       "      <th>reach</th>\n",
       "      <th>impact</th>\n",
       "      <th>confidence</th>\n",
       "      <th>efforts</th>\n",
       "    </tr>\n",
       "  </thead>\n",
       "  <tbody>\n",
       "    <tr>\n",
       "      <th>0</th>\n",
       "      <td>Добавить два новых канала привлечения трафика, что позволит привлекать на 30% больше пользователей</td>\n",
       "      <td>3</td>\n",
       "      <td>10</td>\n",
       "      <td>8</td>\n",
       "      <td>6</td>\n",
       "    </tr>\n",
       "    <tr>\n",
       "      <th>1</th>\n",
       "      <td>Запустить собственную службу доставки, что сократит срок доставки заказов</td>\n",
       "      <td>2</td>\n",
       "      <td>5</td>\n",
       "      <td>4</td>\n",
       "      <td>10</td>\n",
       "    </tr>\n",
       "    <tr>\n",
       "      <th>2</th>\n",
       "      <td>Добавить блоки рекомендаций товаров на сайт интернет магазина, чтобы повысить конверсию и средний чек заказа</td>\n",
       "      <td>8</td>\n",
       "      <td>3</td>\n",
       "      <td>7</td>\n",
       "      <td>3</td>\n",
       "    </tr>\n",
       "    <tr>\n",
       "      <th>3</th>\n",
       "      <td>Изменить структура категорий, что увеличит конверсию, т.к. пользователи быстрее найдут нужный товар</td>\n",
       "      <td>8</td>\n",
       "      <td>3</td>\n",
       "      <td>3</td>\n",
       "      <td>8</td>\n",
       "    </tr>\n",
       "    <tr>\n",
       "      <th>4</th>\n",
       "      <td>Изменить цвет фона главной страницы, чтобы увеличить вовлеченность пользователей</td>\n",
       "      <td>3</td>\n",
       "      <td>1</td>\n",
       "      <td>1</td>\n",
       "      <td>1</td>\n",
       "    </tr>\n",
       "    <tr>\n",
       "      <th>5</th>\n",
       "      <td>Добавить страницу отзывов клиентов о магазине, что позволит увеличить количество заказов</td>\n",
       "      <td>3</td>\n",
       "      <td>2</td>\n",
       "      <td>2</td>\n",
       "      <td>3</td>\n",
       "    </tr>\n",
       "    <tr>\n",
       "      <th>6</th>\n",
       "      <td>Показать на главной странице баннеры с актуальными акциями и распродажами, чтобы увеличить конверсию</td>\n",
       "      <td>5</td>\n",
       "      <td>3</td>\n",
       "      <td>8</td>\n",
       "      <td>3</td>\n",
       "    </tr>\n",
       "    <tr>\n",
       "      <th>7</th>\n",
       "      <td>Добавить форму подписки на все основные страницы, чтобы собрать базу клиентов для email-рассылок</td>\n",
       "      <td>10</td>\n",
       "      <td>7</td>\n",
       "      <td>8</td>\n",
       "      <td>5</td>\n",
       "    </tr>\n",
       "    <tr>\n",
       "      <th>8</th>\n",
       "      <td>Запустить акцию, дающую скидку на товар в день рождения</td>\n",
       "      <td>1</td>\n",
       "      <td>9</td>\n",
       "      <td>9</td>\n",
       "      <td>5</td>\n",
       "    </tr>\n",
       "  </tbody>\n",
       "</table>\n",
       "</div>"
      ],
      "text/plain": [
       "                                                                                                     hypothesis  \\\n",
       "0            Добавить два новых канала привлечения трафика, что позволит привлекать на 30% больше пользователей   \n",
       "1                                     Запустить собственную службу доставки, что сократит срок доставки заказов   \n",
       "2  Добавить блоки рекомендаций товаров на сайт интернет магазина, чтобы повысить конверсию и средний чек заказа   \n",
       "3           Изменить структура категорий, что увеличит конверсию, т.к. пользователи быстрее найдут нужный товар   \n",
       "4                              Изменить цвет фона главной страницы, чтобы увеличить вовлеченность пользователей   \n",
       "5                      Добавить страницу отзывов клиентов о магазине, что позволит увеличить количество заказов   \n",
       "6          Показать на главной странице баннеры с актуальными акциями и распродажами, чтобы увеличить конверсию   \n",
       "7              Добавить форму подписки на все основные страницы, чтобы собрать базу клиентов для email-рассылок   \n",
       "8                                                       Запустить акцию, дающую скидку на товар в день рождения   \n",
       "\n",
       "   reach  impact  confidence  efforts  \n",
       "0      3      10           8        6  \n",
       "1      2       5           4       10  \n",
       "2      8       3           7        3  \n",
       "3      8       3           3        8  \n",
       "4      3       1           1        1  \n",
       "5      3       2           2        3  \n",
       "6      5       3           8        3  \n",
       "7     10       7           8        5  \n",
       "8      1       9           9        5  "
      ]
     },
     "metadata": {},
     "output_type": "display_data"
    }
   ],
   "source": [
    "display(hypothesis.head(50))"
   ]
  },
  {
   "cell_type": "code",
   "execution_count": 5,
   "metadata": {},
   "outputs": [
    {
     "name": "stdout",
     "output_type": "stream",
     "text": [
      "0\n",
      "0\n",
      "0\n"
     ]
    }
   ],
   "source": [
    "# проверим дубликаты\n",
    "print(hypothesis.duplicated().sum())\n",
    "print(orders.duplicated().sum())\n",
    "print(visitors.duplicated().sum())"
   ]
  },
  {
   "cell_type": "code",
   "execution_count": 6,
   "metadata": {},
   "outputs": [
    {
     "name": "stdout",
     "output_type": "stream",
     "text": [
      "<class 'pandas.core.frame.DataFrame'>\n",
      "RangeIndex: 1197 entries, 0 to 1196\n",
      "Data columns (total 5 columns):\n",
      " #   Column         Non-Null Count  Dtype \n",
      "---  ------         --------------  ----- \n",
      " 0   transactionId  1197 non-null   int64 \n",
      " 1   visitorId      1197 non-null   int64 \n",
      " 2   date           1197 non-null   object\n",
      " 3   revenue        1197 non-null   int64 \n",
      " 4   group          1197 non-null   object\n",
      "dtypes: int64(3), object(2)\n",
      "memory usage: 46.9+ KB\n",
      "None\n",
      "\n",
      "<class 'pandas.core.frame.DataFrame'>\n",
      "RangeIndex: 62 entries, 0 to 61\n",
      "Data columns (total 3 columns):\n",
      " #   Column    Non-Null Count  Dtype \n",
      "---  ------    --------------  ----- \n",
      " 0   date      62 non-null     object\n",
      " 1   group     62 non-null     object\n",
      " 2   visitors  62 non-null     int64 \n",
      "dtypes: int64(1), object(2)\n",
      "memory usage: 1.6+ KB\n",
      "None\n"
     ]
    }
   ],
   "source": [
    "#проверим общую инфу\n",
    "print(orders.info())\n",
    "print()\n",
    "print(visitors.info())"
   ]
  },
  {
   "cell_type": "code",
   "execution_count": 7,
   "metadata": {},
   "outputs": [],
   "source": [
    "# приводим к datetime\n",
    "orders['date'] = orders['date'].map(\n",
    "    lambda x: dt.datetime.strptime(x, '%Y-%m-%d')\n",
    ")\n",
    "visitors['date'] = visitors['date'].map(\n",
    "    lambda x: dt.datetime.strptime(x, '%Y-%m-%d')\n",
    ")"
   ]
  },
  {
   "cell_type": "code",
   "execution_count": 8,
   "metadata": {},
   "outputs": [
    {
     "data": {
      "text/plain": [
       "['A', 'B']"
      ]
     },
     "execution_count": 8,
     "metadata": {},
     "output_type": "execute_result"
    }
   ],
   "source": [
    "# проверим количество групп в тесте\n",
    "visitors['group'].unique().tolist()"
   ]
  },
  {
   "cell_type": "code",
   "execution_count": 9,
   "metadata": {},
   "outputs": [
    {
     "name": "stdout",
     "output_type": "stream",
     "text": [
      "тестирование началось 2019-08-01 00:00:00\n",
      "тестирование закончилось 2019-08-31 00:00:00\n"
     ]
    }
   ],
   "source": [
    "#найдем границы проведения тестирования\n",
    "print('тестирование началось', visitors['date'].min())\n",
    "print('тестирование закончилось', visitors['date'].max())"
   ]
  },
  {
   "cell_type": "code",
   "execution_count": 10,
   "metadata": {},
   "outputs": [
    {
     "data": {
      "text/plain": [
       "1089"
      ]
     },
     "execution_count": 10,
     "metadata": {},
     "output_type": "execute_result"
    }
   ],
   "source": [
    "# общее число покупателей по группам\n",
    "orders.groupby('group').agg({'visitorId': 'nunique'}).sum()[0]"
   ]
  },
  {
   "cell_type": "code",
   "execution_count": 11,
   "metadata": {},
   "outputs": [
    {
     "data": {
      "text/plain": [
       "1031"
      ]
     },
     "execution_count": 11,
     "metadata": {},
     "output_type": "execute_result"
    }
   ],
   "source": [
    "# всего покупателей\n",
    "orders['visitorId'].nunique()"
   ]
  },
  {
   "cell_type": "markdown",
   "metadata": {},
   "source": [
    "Тут мы видим, что некоторые покупатели были участниками сразу 2х групп"
   ]
  },
  {
   "cell_type": "code",
   "execution_count": 12,
   "metadata": {},
   "outputs": [
    {
     "data": {
      "text/html": [
       "<div>\n",
       "<style scoped>\n",
       "    .dataframe tbody tr th:only-of-type {\n",
       "        vertical-align: middle;\n",
       "    }\n",
       "\n",
       "    .dataframe tbody tr th {\n",
       "        vertical-align: top;\n",
       "    }\n",
       "\n",
       "    .dataframe thead th {\n",
       "        text-align: right;\n",
       "    }\n",
       "</style>\n",
       "<table border=\"1\" class=\"dataframe\">\n",
       "  <thead>\n",
       "    <tr style=\"text-align: right;\">\n",
       "      <th></th>\n",
       "      <th>visitorId</th>\n",
       "    </tr>\n",
       "    <tr>\n",
       "      <th>group</th>\n",
       "      <th></th>\n",
       "    </tr>\n",
       "  </thead>\n",
       "  <tbody>\n",
       "    <tr>\n",
       "      <th>A</th>\n",
       "      <td>503</td>\n",
       "    </tr>\n",
       "    <tr>\n",
       "      <th>B</th>\n",
       "      <td>586</td>\n",
       "    </tr>\n",
       "  </tbody>\n",
       "</table>\n",
       "</div>"
      ],
      "text/plain": [
       "       visitorId\n",
       "group           \n",
       "A            503\n",
       "B            586"
      ]
     },
     "execution_count": 12,
     "metadata": {},
     "output_type": "execute_result"
    }
   ],
   "source": [
    "# общее количество уникальных пользователей в двух группах\n",
    "orders.groupby('group').agg({'visitorId' : 'nunique'})"
   ]
  },
  {
   "cell_type": "code",
   "execution_count": 13,
   "metadata": {},
   "outputs": [
    {
     "data": {
      "text/plain": [
       "58"
      ]
     },
     "execution_count": 13,
     "metadata": {},
     "output_type": "execute_result"
    }
   ],
   "source": [
    "# количество уникальных пользователей, которые оказались одновременно в двух группах\n",
    "no_uniq_visitorId = orders.loc[:, ['visitorId', 'group']].drop_duplicates().drop(columns=['group'])\n",
    "no_uniq_visitorId.visitorId.duplicated().sum()"
   ]
  },
  {
   "cell_type": "code",
   "execution_count": 14,
   "metadata": {},
   "outputs": [],
   "source": [
    "visitorsA = orders[orders['group']=='A']['visitorId']\n",
    "visitorsB = orders[orders['group']=='B']['visitorId']"
   ]
  },
  {
   "cell_type": "code",
   "execution_count": 15,
   "metadata": {},
   "outputs": [],
   "source": [
    "visitors_AB = orders.loc[orders['visitorId'].isin(visitorsA)& orders['visitorId'].isin(visitorsB),'visitorId'].unique()"
   ]
  },
  {
   "cell_type": "code",
   "execution_count": 16,
   "metadata": {},
   "outputs": [
    {
     "data": {
      "text/plain": [
       "1031"
      ]
     },
     "execution_count": 16,
     "metadata": {},
     "output_type": "execute_result"
    }
   ],
   "source": [
    "#До\n",
    "(orders.groupby('visitorId')['group'].nunique()>1).count()"
   ]
  },
  {
   "cell_type": "code",
   "execution_count": 17,
   "metadata": {},
   "outputs": [
    {
     "data": {
      "text/plain": [
       "973"
      ]
     },
     "execution_count": 17,
     "metadata": {},
     "output_type": "execute_result"
    }
   ],
   "source": [
    "#После \n",
    "orders = orders.loc[~orders['visitorId'].isin(visitors_AB)]\n",
    "(orders.groupby('visitorId')['group'].nunique()>1).count()"
   ]
  },
  {
   "cell_type": "markdown",
   "metadata": {},
   "source": [
    "## Приоритизация гипотез"
   ]
  },
  {
   "cell_type": "code",
   "execution_count": 18,
   "metadata": {},
   "outputs": [
    {
     "data": {
      "text/html": [
       "<div>\n",
       "<style scoped>\n",
       "    .dataframe tbody tr th:only-of-type {\n",
       "        vertical-align: middle;\n",
       "    }\n",
       "\n",
       "    .dataframe tbody tr th {\n",
       "        vertical-align: top;\n",
       "    }\n",
       "\n",
       "    .dataframe thead th {\n",
       "        text-align: right;\n",
       "    }\n",
       "</style>\n",
       "<table border=\"1\" class=\"dataframe\">\n",
       "  <thead>\n",
       "    <tr style=\"text-align: right;\">\n",
       "      <th></th>\n",
       "      <th>hypothesis</th>\n",
       "      <th>reach</th>\n",
       "      <th>impact</th>\n",
       "      <th>confidence</th>\n",
       "      <th>efforts</th>\n",
       "      <th>ICE</th>\n",
       "    </tr>\n",
       "  </thead>\n",
       "  <tbody>\n",
       "    <tr>\n",
       "      <th>8</th>\n",
       "      <td>Запустить акцию, дающую скидку на товар в день рождения</td>\n",
       "      <td>1</td>\n",
       "      <td>9</td>\n",
       "      <td>9</td>\n",
       "      <td>5</td>\n",
       "      <td>16.200000</td>\n",
       "    </tr>\n",
       "    <tr>\n",
       "      <th>0</th>\n",
       "      <td>Добавить два новых канала привлечения трафика, что позволит привлекать на 30% больше пользователей</td>\n",
       "      <td>3</td>\n",
       "      <td>10</td>\n",
       "      <td>8</td>\n",
       "      <td>6</td>\n",
       "      <td>13.333333</td>\n",
       "    </tr>\n",
       "    <tr>\n",
       "      <th>7</th>\n",
       "      <td>Добавить форму подписки на все основные страницы, чтобы собрать базу клиентов для email-рассылок</td>\n",
       "      <td>10</td>\n",
       "      <td>7</td>\n",
       "      <td>8</td>\n",
       "      <td>5</td>\n",
       "      <td>11.200000</td>\n",
       "    </tr>\n",
       "    <tr>\n",
       "      <th>6</th>\n",
       "      <td>Показать на главной странице баннеры с актуальными акциями и распродажами, чтобы увеличить конверсию</td>\n",
       "      <td>5</td>\n",
       "      <td>3</td>\n",
       "      <td>8</td>\n",
       "      <td>3</td>\n",
       "      <td>8.000000</td>\n",
       "    </tr>\n",
       "    <tr>\n",
       "      <th>2</th>\n",
       "      <td>Добавить блоки рекомендаций товаров на сайт интернет магазина, чтобы повысить конверсию и средний чек заказа</td>\n",
       "      <td>8</td>\n",
       "      <td>3</td>\n",
       "      <td>7</td>\n",
       "      <td>3</td>\n",
       "      <td>7.000000</td>\n",
       "    </tr>\n",
       "    <tr>\n",
       "      <th>1</th>\n",
       "      <td>Запустить собственную службу доставки, что сократит срок доставки заказов</td>\n",
       "      <td>2</td>\n",
       "      <td>5</td>\n",
       "      <td>4</td>\n",
       "      <td>10</td>\n",
       "      <td>2.000000</td>\n",
       "    </tr>\n",
       "    <tr>\n",
       "      <th>5</th>\n",
       "      <td>Добавить страницу отзывов клиентов о магазине, что позволит увеличить количество заказов</td>\n",
       "      <td>3</td>\n",
       "      <td>2</td>\n",
       "      <td>2</td>\n",
       "      <td>3</td>\n",
       "      <td>1.333333</td>\n",
       "    </tr>\n",
       "    <tr>\n",
       "      <th>3</th>\n",
       "      <td>Изменить структура категорий, что увеличит конверсию, т.к. пользователи быстрее найдут нужный товар</td>\n",
       "      <td>8</td>\n",
       "      <td>3</td>\n",
       "      <td>3</td>\n",
       "      <td>8</td>\n",
       "      <td>1.125000</td>\n",
       "    </tr>\n",
       "    <tr>\n",
       "      <th>4</th>\n",
       "      <td>Изменить цвет фона главной страницы, чтобы увеличить вовлеченность пользователей</td>\n",
       "      <td>3</td>\n",
       "      <td>1</td>\n",
       "      <td>1</td>\n",
       "      <td>1</td>\n",
       "      <td>1.000000</td>\n",
       "    </tr>\n",
       "  </tbody>\n",
       "</table>\n",
       "</div>"
      ],
      "text/plain": [
       "                                                                                                     hypothesis  \\\n",
       "8                                                       Запустить акцию, дающую скидку на товар в день рождения   \n",
       "0            Добавить два новых канала привлечения трафика, что позволит привлекать на 30% больше пользователей   \n",
       "7              Добавить форму подписки на все основные страницы, чтобы собрать базу клиентов для email-рассылок   \n",
       "6          Показать на главной странице баннеры с актуальными акциями и распродажами, чтобы увеличить конверсию   \n",
       "2  Добавить блоки рекомендаций товаров на сайт интернет магазина, чтобы повысить конверсию и средний чек заказа   \n",
       "1                                     Запустить собственную службу доставки, что сократит срок доставки заказов   \n",
       "5                      Добавить страницу отзывов клиентов о магазине, что позволит увеличить количество заказов   \n",
       "3           Изменить структура категорий, что увеличит конверсию, т.к. пользователи быстрее найдут нужный товар   \n",
       "4                              Изменить цвет фона главной страницы, чтобы увеличить вовлеченность пользователей   \n",
       "\n",
       "   reach  impact  confidence  efforts        ICE  \n",
       "8      1       9           9        5  16.200000  \n",
       "0      3      10           8        6  13.333333  \n",
       "7     10       7           8        5  11.200000  \n",
       "6      5       3           8        3   8.000000  \n",
       "2      8       3           7        3   7.000000  \n",
       "1      2       5           4       10   2.000000  \n",
       "5      3       2           2        3   1.333333  \n",
       "3      8       3           3        8   1.125000  \n",
       "4      3       1           1        1   1.000000  "
      ]
     },
     "metadata": {},
     "output_type": "display_data"
    }
   ],
   "source": [
    "hypothesis['ICE'] = hypothesis['impact']*hypothesis['confidence']/hypothesis['efforts']\n",
    "\n",
    "display(hypothesis.sort_values(by='ICE', ascending=False))"
   ]
  },
  {
   "cell_type": "markdown",
   "metadata": {},
   "source": [
    "### Приоритизация методом RICE"
   ]
  },
  {
   "cell_type": "code",
   "execution_count": 19,
   "metadata": {},
   "outputs": [
    {
     "data": {
      "text/html": [
       "<div>\n",
       "<style scoped>\n",
       "    .dataframe tbody tr th:only-of-type {\n",
       "        vertical-align: middle;\n",
       "    }\n",
       "\n",
       "    .dataframe tbody tr th {\n",
       "        vertical-align: top;\n",
       "    }\n",
       "\n",
       "    .dataframe thead th {\n",
       "        text-align: right;\n",
       "    }\n",
       "</style>\n",
       "<table border=\"1\" class=\"dataframe\">\n",
       "  <thead>\n",
       "    <tr style=\"text-align: right;\">\n",
       "      <th></th>\n",
       "      <th>hypothesis</th>\n",
       "      <th>reach</th>\n",
       "      <th>impact</th>\n",
       "      <th>confidence</th>\n",
       "      <th>efforts</th>\n",
       "      <th>ICE</th>\n",
       "      <th>RICE</th>\n",
       "    </tr>\n",
       "  </thead>\n",
       "  <tbody>\n",
       "    <tr>\n",
       "      <th>7</th>\n",
       "      <td>Добавить форму подписки на все основные страницы, чтобы собрать базу клиентов для email-рассылок</td>\n",
       "      <td>10</td>\n",
       "      <td>7</td>\n",
       "      <td>8</td>\n",
       "      <td>5</td>\n",
       "      <td>11.200000</td>\n",
       "      <td>112.0</td>\n",
       "    </tr>\n",
       "    <tr>\n",
       "      <th>2</th>\n",
       "      <td>Добавить блоки рекомендаций товаров на сайт интернет магазина, чтобы повысить конверсию и средний чек заказа</td>\n",
       "      <td>8</td>\n",
       "      <td>3</td>\n",
       "      <td>7</td>\n",
       "      <td>3</td>\n",
       "      <td>7.000000</td>\n",
       "      <td>56.0</td>\n",
       "    </tr>\n",
       "    <tr>\n",
       "      <th>0</th>\n",
       "      <td>Добавить два новых канала привлечения трафика, что позволит привлекать на 30% больше пользователей</td>\n",
       "      <td>3</td>\n",
       "      <td>10</td>\n",
       "      <td>8</td>\n",
       "      <td>6</td>\n",
       "      <td>13.333333</td>\n",
       "      <td>40.0</td>\n",
       "    </tr>\n",
       "    <tr>\n",
       "      <th>6</th>\n",
       "      <td>Показать на главной странице баннеры с актуальными акциями и распродажами, чтобы увеличить конверсию</td>\n",
       "      <td>5</td>\n",
       "      <td>3</td>\n",
       "      <td>8</td>\n",
       "      <td>3</td>\n",
       "      <td>8.000000</td>\n",
       "      <td>40.0</td>\n",
       "    </tr>\n",
       "    <tr>\n",
       "      <th>8</th>\n",
       "      <td>Запустить акцию, дающую скидку на товар в день рождения</td>\n",
       "      <td>1</td>\n",
       "      <td>9</td>\n",
       "      <td>9</td>\n",
       "      <td>5</td>\n",
       "      <td>16.200000</td>\n",
       "      <td>16.2</td>\n",
       "    </tr>\n",
       "    <tr>\n",
       "      <th>3</th>\n",
       "      <td>Изменить структура категорий, что увеличит конверсию, т.к. пользователи быстрее найдут нужный товар</td>\n",
       "      <td>8</td>\n",
       "      <td>3</td>\n",
       "      <td>3</td>\n",
       "      <td>8</td>\n",
       "      <td>1.125000</td>\n",
       "      <td>9.0</td>\n",
       "    </tr>\n",
       "    <tr>\n",
       "      <th>1</th>\n",
       "      <td>Запустить собственную службу доставки, что сократит срок доставки заказов</td>\n",
       "      <td>2</td>\n",
       "      <td>5</td>\n",
       "      <td>4</td>\n",
       "      <td>10</td>\n",
       "      <td>2.000000</td>\n",
       "      <td>4.0</td>\n",
       "    </tr>\n",
       "    <tr>\n",
       "      <th>5</th>\n",
       "      <td>Добавить страницу отзывов клиентов о магазине, что позволит увеличить количество заказов</td>\n",
       "      <td>3</td>\n",
       "      <td>2</td>\n",
       "      <td>2</td>\n",
       "      <td>3</td>\n",
       "      <td>1.333333</td>\n",
       "      <td>4.0</td>\n",
       "    </tr>\n",
       "    <tr>\n",
       "      <th>4</th>\n",
       "      <td>Изменить цвет фона главной страницы, чтобы увеличить вовлеченность пользователей</td>\n",
       "      <td>3</td>\n",
       "      <td>1</td>\n",
       "      <td>1</td>\n",
       "      <td>1</td>\n",
       "      <td>1.000000</td>\n",
       "      <td>3.0</td>\n",
       "    </tr>\n",
       "  </tbody>\n",
       "</table>\n",
       "</div>"
      ],
      "text/plain": [
       "                                                                                                     hypothesis  \\\n",
       "7              Добавить форму подписки на все основные страницы, чтобы собрать базу клиентов для email-рассылок   \n",
       "2  Добавить блоки рекомендаций товаров на сайт интернет магазина, чтобы повысить конверсию и средний чек заказа   \n",
       "0            Добавить два новых канала привлечения трафика, что позволит привлекать на 30% больше пользователей   \n",
       "6          Показать на главной странице баннеры с актуальными акциями и распродажами, чтобы увеличить конверсию   \n",
       "8                                                       Запустить акцию, дающую скидку на товар в день рождения   \n",
       "3           Изменить структура категорий, что увеличит конверсию, т.к. пользователи быстрее найдут нужный товар   \n",
       "1                                     Запустить собственную службу доставки, что сократит срок доставки заказов   \n",
       "5                      Добавить страницу отзывов клиентов о магазине, что позволит увеличить количество заказов   \n",
       "4                              Изменить цвет фона главной страницы, чтобы увеличить вовлеченность пользователей   \n",
       "\n",
       "   reach  impact  confidence  efforts        ICE   RICE  \n",
       "7     10       7           8        5  11.200000  112.0  \n",
       "2      8       3           7        3   7.000000   56.0  \n",
       "0      3      10           8        6  13.333333   40.0  \n",
       "6      5       3           8        3   8.000000   40.0  \n",
       "8      1       9           9        5  16.200000   16.2  \n",
       "3      8       3           3        8   1.125000    9.0  \n",
       "1      2       5           4       10   2.000000    4.0  \n",
       "5      3       2           2        3   1.333333    4.0  \n",
       "4      3       1           1        1   1.000000    3.0  "
      ]
     },
     "metadata": {},
     "output_type": "display_data"
    }
   ],
   "source": [
    "hypothesis['RICE'] = hypothesis['reach']*hypothesis['impact']*hypothesis['confidence']/hypothesis['efforts']\n",
    "\n",
    "display(hypothesis.sort_values(by='RICE', ascending=False))"
   ]
  },
  {
   "cell_type": "markdown",
   "metadata": {},
   "source": [
    "Вывод: Когда применили метод RICE порядок наиболее приоритетных гипотиз изменился. Произошло это по причине учёта в формуле охвата пользователей, вместо 8, 0, 7 первые места заняли 7, 2, 0.\n",
    "Предложим для тестирования гипотезы с индексом 7 и 2:\n",
    "\n",
    "* Добавить форму подписки на все основные страницы, чтобы собрать базу клиентов для email-рассылок\n",
    "\n",
    "* Добавить блоки рекомендаций товаров на сайт интернет магазина, чтобы повысить конверсию и средний чек заказа"
   ]
  },
  {
   "cell_type": "markdown",
   "metadata": {},
   "source": [
    "## Анализ A/B-теста"
   ]
  },
  {
   "cell_type": "markdown",
   "metadata": {},
   "source": [
    "### График кумулятивной выручки по группам. "
   ]
  },
  {
   "cell_type": "code",
   "execution_count": 20,
   "metadata": {},
   "outputs": [
    {
     "name": "stdout",
     "output_type": "stream",
     "text": [
      "        date group  orders  buyers  revenue  visitors\n",
      "0 2019-08-01     A      23      19   142779       719\n",
      "1 2019-08-01     B      17      17    59758       713\n",
      "2 2019-08-02     A      42      36   234381      1338\n",
      "3 2019-08-02     B      40      39   221801      1294\n",
      "4 2019-08-03     A      66      60   346854      1845\n"
     ]
    }
   ],
   "source": [
    "# создаем массив уникальных пар значений дат и групп теста\n",
    "datesGroups = orders[['date','group']].drop_duplicates()\n",
    "\n",
    "# получаем агрегированные кумулятивные по дням данные о заказах \n",
    "ordersAggregated = datesGroups.apply(lambda x: orders[np.logical_and(orders['date'] <= x['date'], orders['group'] == x['group'])].agg({'date' : 'max', 'group' : 'max', 'transactionId' : 'nunique', 'visitorId' : 'nunique', 'revenue' : 'sum'}), axis=1).sort_values(by=['date','group'])\n",
    "\n",
    "# получаем агрегированные кумулятивные по дням данные о посетителях интернет-магазина \n",
    "visitorsAggregated = datesGroups.apply(lambda x: visitors[np.logical_and(visitors['date'] <= x['date'], visitors['group'] == x['group'])].agg({'date' : 'max', 'group' : 'max', 'visitors' : 'sum'}), axis=1).sort_values(by=['date','group'])\n",
    "\n",
    "# объединяем кумулятивные данные в одной таблице и присваиваем ее столбцам понятные названия\n",
    "cumulativeData = ordersAggregated.merge(visitorsAggregated, left_on=['date', 'group'], right_on=['date', 'group'])\n",
    "cumulativeData.columns = ['date', 'group', 'orders', 'buyers', 'revenue', 'visitors']\n",
    "\n",
    "print(cumulativeData.head(5))\n",
    "\n"
   ]
  },
  {
   "cell_type": "code",
   "execution_count": 21,
   "metadata": {},
   "outputs": [
    {
     "name": "stdout",
     "output_type": "stream",
     "text": [
      "тестирование началось 2019-08-01 00:00:00\n",
      "тестирование закончилось 2019-08-31 00:00:00\n"
     ]
    }
   ],
   "source": [
    "print('тестирование началось', visitors['date'].min())\n",
    "print('тестирование закончилось', visitors['date'].max())\n"
   ]
  },
  {
   "cell_type": "code",
   "execution_count": 22,
   "metadata": {},
   "outputs": [
    {
     "data": {
      "image/png": "[encoded data removed]",
      "text/plain": [
       "<Figure size 432x288 with 1 Axes>"
      ]
     },
     "metadata": {
      "needs_background": "light"
     },
     "output_type": "display_data"
    }
   ],
   "source": [
    "# датафрейм с кумулятивным количеством заказов и кумулятивной выручкой по дням в группе А\n",
    "cumulativeRevenueA = cumulativeData[cumulativeData['group']=='A'][['date','revenue', 'orders']]\n",
    "\n",
    "# датафрейм с кумулятивным количеством заказов и кумулятивной выручкой по дням в группе B\n",
    "cumulativeRevenueB = cumulativeData[cumulativeData['group']=='B'][['date','revenue', 'orders']]\n",
    "\n",
    "# Строим график выручки группы А\n",
    "plt.plot(cumulativeRevenueA['date'], cumulativeRevenueA['revenue'], label='A')\n",
    "\n",
    "# Строим график выручки группы B\n",
    "plt.plot(cumulativeRevenueB['date'], cumulativeRevenueB['revenue'], label='B')\n",
    "plt.xticks(rotation=45)\n",
    "plt.title('Кумулятивная выручка по дням и группам')\n",
    "plt.xlabel('Дата')\n",
    "plt.ylabel('Выручка')\n",
    "plt.grid()\n",
    "plt.legend();"
   ]
  },
  {
   "cell_type": "markdown",
   "metadata": {},
   "source": [
    "Вывод: Вначале месяца выручка в группе B растёт быстрее, чем в A, а 13 августа выручки равняются. Во второй половине месяца выручка группы B делает скачек и продолжает расти. Вероятнее всего на это повлияли крупные заказы или их количество. Возмоджно есть какие-то выбросы, нужно проверить."
   ]
  },
  {
   "cell_type": "markdown",
   "metadata": {},
   "source": [
    "### График кумулятивного среднего чека по группам"
   ]
  },
  {
   "cell_type": "code",
   "execution_count": 23,
   "metadata": {},
   "outputs": [
    {
     "data": {
      "image/png": "[encoded data removed]",
      "text/plain": [
       "<Figure size 432x288 with 1 Axes>"
      ]
     },
     "metadata": {
      "needs_background": "light"
     },
     "output_type": "display_data"
    }
   ],
   "source": [
    "plt.plot(cumulativeRevenueA['date'], cumulativeRevenueA['revenue']/cumulativeRevenueA['orders'], label='A')\n",
    "plt.plot(cumulativeRevenueB['date'], cumulativeRevenueB['revenue']/cumulativeRevenueB['orders'], label='B')\n",
    "plt.xticks(rotation=45)\n",
    "plt.title('Кумулятивный средний чек по дням')\n",
    "plt.xlabel('Дата')\n",
    "plt.ylabel('Средний чек')\n",
    "plt.grid()\n",
    "plt.legend();"
   ]
  },
  {
   "cell_type": "markdown",
   "metadata": {},
   "source": [
    "Вывод: Кумулятивные значения среднего чека по сегментам продолжают колебаться, ориентировочно 19.08 происходит резкий скачок среднего чека группы В, а затем плавное снижение."
   ]
  },
  {
   "cell_type": "markdown",
   "metadata": {},
   "source": [
    "### График относительного изменения кумулятивного среднего чека группы B к группе A."
   ]
  },
  {
   "cell_type": "code",
   "execution_count": 24,
   "metadata": {},
   "outputs": [
    {
     "data": {
      "image/png": "[encoded data removed]",
      "text/plain": [
       "<Figure size 432x288 with 1 Axes>"
      ]
     },
     "metadata": {
      "needs_background": "light"
     },
     "output_type": "display_data"
    }
   ],
   "source": [
    "# собираем данные в одном датафрейме\n",
    "mergedCumulativeRevenue = cumulativeRevenueA.merge(cumulativeRevenueB, left_on='date', right_on='date', how='left', suffixes=['A', 'B'])\n",
    "\n",
    "# cтроим отношение средних чеков\n",
    "plt.plot(mergedCumulativeRevenue['date'], (mergedCumulativeRevenue['revenueB']/mergedCumulativeRevenue['ordersB'])/(mergedCumulativeRevenue['revenueA']/mergedCumulativeRevenue['ordersA'])-1)\n",
    "plt.title('Относительное изменение кумулятивного среднего чека группы B к группе A')\n",
    "plt.xlabel('Дата')\n",
    "plt.ylabel('Относительное изменение')\n",
    "plt.grid()\n",
    "\n",
    "# добавляем ось X\n",
    "plt.axhline(y=0, color='black', linestyle='--')\n",
    "plt.xticks(rotation=45);"
   ]
  },
  {
   "cell_type": "markdown",
   "metadata": {},
   "source": [
    "Вывод: Видим, резкие изменения у нескольких дат, возможно именно тогда были аномальные заказы. Средний чек \"B\" рос с 1 августа, 2 августа уже превысил \"A\". Но с 7 августа началось падение до 13 августа, причем 12-14 августа средний чек \"A\" был больше \"B\". Но с 13 числа чек \"B\" опять начал расти и уже с 15 августа оказался больше и до конца месяца оставался таким. Но опять здесь хорошо видно, что 19 августа был сильный рост и в последующие дни средний чек группы \"B\" постепенно снижался."
   ]
  },
  {
   "cell_type": "markdown",
   "metadata": {},
   "source": [
    "### График кумулятивного среднего количества заказов на посетителя по группам."
   ]
  },
  {
   "cell_type": "code",
   "execution_count": 25,
   "metadata": {},
   "outputs": [
    {
     "data": {
      "text/html": [
       "<div>\n",
       "<style scoped>\n",
       "    .dataframe tbody tr th:only-of-type {\n",
       "        vertical-align: middle;\n",
       "    }\n",
       "\n",
       "    .dataframe tbody tr th {\n",
       "        vertical-align: top;\n",
       "    }\n",
       "\n",
       "    .dataframe thead th {\n",
       "        text-align: right;\n",
       "    }\n",
       "</style>\n",
       "<table border=\"1\" class=\"dataframe\">\n",
       "  <thead>\n",
       "    <tr style=\"text-align: right;\">\n",
       "      <th></th>\n",
       "      <th>date</th>\n",
       "      <th>revenue</th>\n",
       "      <th>orders</th>\n",
       "      <th>visitors</th>\n",
       "    </tr>\n",
       "  </thead>\n",
       "  <tbody>\n",
       "    <tr>\n",
       "      <th>0</th>\n",
       "      <td>2019-08-01</td>\n",
       "      <td>142779</td>\n",
       "      <td>23</td>\n",
       "      <td>719</td>\n",
       "    </tr>\n",
       "    <tr>\n",
       "      <th>2</th>\n",
       "      <td>2019-08-02</td>\n",
       "      <td>234381</td>\n",
       "      <td>42</td>\n",
       "      <td>1338</td>\n",
       "    </tr>\n",
       "    <tr>\n",
       "      <th>4</th>\n",
       "      <td>2019-08-03</td>\n",
       "      <td>346854</td>\n",
       "      <td>66</td>\n",
       "      <td>1845</td>\n",
       "    </tr>\n",
       "    <tr>\n",
       "      <th>6</th>\n",
       "      <td>2019-08-04</td>\n",
       "      <td>388030</td>\n",
       "      <td>77</td>\n",
       "      <td>2562</td>\n",
       "    </tr>\n",
       "    <tr>\n",
       "      <th>8</th>\n",
       "      <td>2019-08-05</td>\n",
       "      <td>474413</td>\n",
       "      <td>99</td>\n",
       "      <td>3318</td>\n",
       "    </tr>\n",
       "  </tbody>\n",
       "</table>\n",
       "</div>"
      ],
      "text/plain": [
       "        date  revenue  orders  visitors\n",
       "0 2019-08-01   142779      23       719\n",
       "2 2019-08-02   234381      42      1338\n",
       "4 2019-08-03   346854      66      1845\n",
       "6 2019-08-04   388030      77      2562\n",
       "8 2019-08-05   474413      99      3318"
      ]
     },
     "metadata": {},
     "output_type": "display_data"
    },
    {
     "name": "stdout",
     "output_type": "stream",
     "text": [
      "\n"
     ]
    },
    {
     "data": {
      "text/html": [
       "<div>\n",
       "<style scoped>\n",
       "    .dataframe tbody tr th:only-of-type {\n",
       "        vertical-align: middle;\n",
       "    }\n",
       "\n",
       "    .dataframe tbody tr th {\n",
       "        vertical-align: top;\n",
       "    }\n",
       "\n",
       "    .dataframe thead th {\n",
       "        text-align: right;\n",
       "    }\n",
       "</style>\n",
       "<table border=\"1\" class=\"dataframe\">\n",
       "  <thead>\n",
       "    <tr style=\"text-align: right;\">\n",
       "      <th></th>\n",
       "      <th>date</th>\n",
       "      <th>revenue</th>\n",
       "      <th>orders</th>\n",
       "      <th>visitors</th>\n",
       "    </tr>\n",
       "  </thead>\n",
       "  <tbody>\n",
       "    <tr>\n",
       "      <th>1</th>\n",
       "      <td>2019-08-01</td>\n",
       "      <td>59758</td>\n",
       "      <td>17</td>\n",
       "      <td>713</td>\n",
       "    </tr>\n",
       "    <tr>\n",
       "      <th>3</th>\n",
       "      <td>2019-08-02</td>\n",
       "      <td>221801</td>\n",
       "      <td>40</td>\n",
       "      <td>1294</td>\n",
       "    </tr>\n",
       "    <tr>\n",
       "      <th>5</th>\n",
       "      <td>2019-08-03</td>\n",
       "      <td>288850</td>\n",
       "      <td>54</td>\n",
       "      <td>1803</td>\n",
       "    </tr>\n",
       "    <tr>\n",
       "      <th>7</th>\n",
       "      <td>2019-08-04</td>\n",
       "      <td>385740</td>\n",
       "      <td>68</td>\n",
       "      <td>2573</td>\n",
       "    </tr>\n",
       "    <tr>\n",
       "      <th>9</th>\n",
       "      <td>2019-08-05</td>\n",
       "      <td>475648</td>\n",
       "      <td>89</td>\n",
       "      <td>3280</td>\n",
       "    </tr>\n",
       "  </tbody>\n",
       "</table>\n",
       "</div>"
      ],
      "text/plain": [
       "        date  revenue  orders  visitors\n",
       "1 2019-08-01    59758      17       713\n",
       "3 2019-08-02   221801      40      1294\n",
       "5 2019-08-03   288850      54      1803\n",
       "7 2019-08-04   385740      68      2573\n",
       "9 2019-08-05   475648      89      3280"
      ]
     },
     "metadata": {},
     "output_type": "display_data"
    }
   ],
   "source": [
    "# добавим в предыдущие датафреймы посетителей \n",
    "# датафрейм с кумулятивным количеством заказов, кумулятивной выручкой и количеством посетителей по дням в группе А\n",
    "cumulativeRevenueA = cumulativeData[cumulativeData['group']=='A'][['date','revenue', 'orders', 'visitors']]\n",
    "\n",
    "# датафрейм с кумулятивным количеством заказов, кумулятивной выручкой и количеством посетителей  по дням в группе B\n",
    "cumulativeRevenueB = cumulativeData[cumulativeData['group']=='B'][['date','revenue', 'orders', 'visitors']]\n",
    "\n",
    "display(cumulativeRevenueA.head())\n",
    "print()\n",
    "display(cumulativeRevenueB.head())"
   ]
  },
  {
   "cell_type": "code",
   "execution_count": 26,
   "metadata": {},
   "outputs": [
    {
     "data": {
      "image/png": "[encoded data removed]",
      "text/plain": [
       "<Figure size 432x288 with 1 Axes>"
      ]
     },
     "metadata": {
      "needs_background": "light"
     },
     "output_type": "display_data"
    }
   ],
   "source": [
    "# строим график \n",
    "plt.plot(cumulativeRevenueA['date'], (cumulativeRevenueA['orders']/cumulativeRevenueA['visitors']), label='A')\n",
    "plt.plot(cumulativeRevenueB['date'], (cumulativeRevenueB['orders']/cumulativeRevenueB['visitors']), label='B')\n",
    "\n",
    "plt.xticks(rotation=45)\n",
    "plt.title('Комулятивное среднее количество заказов на посетителя по дня по группам')\n",
    "plt.xlabel('Дата')\n",
    "plt.ylabel('Среднее количество заказов')\n",
    "plt.grid()\n",
    "plt.legend();"
   ]
  },
  {
   "cell_type": "markdown",
   "metadata": {},
   "source": [
    "Вывод: Сначала комулятивное среднее количество заказов на посетителя растёт в обеих группах. Потом начинается резкое падение, которое для группы А продолжается до 9.08, потом более стабильное движение графика. А для группы В начинается комулятивного среднего количества заказов, пик которого приходится на 10.08 с последующим небольшим снижением."
   ]
  },
  {
   "cell_type": "markdown",
   "metadata": {},
   "source": [
    "### График относительного изменения кумулятивного среднего количества заказов на посетителя группы B к группе A. "
   ]
  },
  {
   "cell_type": "code",
   "execution_count": 27,
   "metadata": {},
   "outputs": [
    {
     "data": {
      "text/html": [
       "<div>\n",
       "<style scoped>\n",
       "    .dataframe tbody tr th:only-of-type {\n",
       "        vertical-align: middle;\n",
       "    }\n",
       "\n",
       "    .dataframe tbody tr th {\n",
       "        vertical-align: top;\n",
       "    }\n",
       "\n",
       "    .dataframe thead th {\n",
       "        text-align: right;\n",
       "    }\n",
       "</style>\n",
       "<table border=\"1\" class=\"dataframe\">\n",
       "  <thead>\n",
       "    <tr style=\"text-align: right;\">\n",
       "      <th></th>\n",
       "      <th>date</th>\n",
       "      <th>revenueA</th>\n",
       "      <th>ordersA</th>\n",
       "      <th>visitorsA</th>\n",
       "      <th>revenueB</th>\n",
       "      <th>ordersB</th>\n",
       "      <th>visitorsB</th>\n",
       "    </tr>\n",
       "  </thead>\n",
       "  <tbody>\n",
       "    <tr>\n",
       "      <th>0</th>\n",
       "      <td>2019-08-01</td>\n",
       "      <td>142779</td>\n",
       "      <td>23</td>\n",
       "      <td>719</td>\n",
       "      <td>59758</td>\n",
       "      <td>17</td>\n",
       "      <td>713</td>\n",
       "    </tr>\n",
       "    <tr>\n",
       "      <th>1</th>\n",
       "      <td>2019-08-02</td>\n",
       "      <td>234381</td>\n",
       "      <td>42</td>\n",
       "      <td>1338</td>\n",
       "      <td>221801</td>\n",
       "      <td>40</td>\n",
       "      <td>1294</td>\n",
       "    </tr>\n",
       "    <tr>\n",
       "      <th>2</th>\n",
       "      <td>2019-08-03</td>\n",
       "      <td>346854</td>\n",
       "      <td>66</td>\n",
       "      <td>1845</td>\n",
       "      <td>288850</td>\n",
       "      <td>54</td>\n",
       "      <td>1803</td>\n",
       "    </tr>\n",
       "    <tr>\n",
       "      <th>3</th>\n",
       "      <td>2019-08-04</td>\n",
       "      <td>388030</td>\n",
       "      <td>77</td>\n",
       "      <td>2562</td>\n",
       "      <td>385740</td>\n",
       "      <td>68</td>\n",
       "      <td>2573</td>\n",
       "    </tr>\n",
       "    <tr>\n",
       "      <th>4</th>\n",
       "      <td>2019-08-05</td>\n",
       "      <td>474413</td>\n",
       "      <td>99</td>\n",
       "      <td>3318</td>\n",
       "      <td>475648</td>\n",
       "      <td>89</td>\n",
       "      <td>3280</td>\n",
       "    </tr>\n",
       "  </tbody>\n",
       "</table>\n",
       "</div>"
      ],
      "text/plain": [
       "        date  revenueA  ordersA  visitorsA  revenueB  ordersB  visitorsB\n",
       "0 2019-08-01    142779       23        719     59758       17        713\n",
       "1 2019-08-02    234381       42       1338    221801       40       1294\n",
       "2 2019-08-03    346854       66       1845    288850       54       1803\n",
       "3 2019-08-04    388030       77       2562    385740       68       2573\n",
       "4 2019-08-05    474413       99       3318    475648       89       3280"
      ]
     },
     "metadata": {},
     "output_type": "display_data"
    }
   ],
   "source": [
    "# собираем предыдущие 2 датафрейма в один\n",
    "merged_cumulative_revenue = cumulativeRevenueA.merge(cumulativeRevenueB, left_on='date', right_on='date',\\\n",
    "                                                     how='left', suffixes=['A', 'B'])\n",
    "display(merged_cumulative_revenue.head())\n",
    "\n"
   ]
  },
  {
   "cell_type": "code",
   "execution_count": 28,
   "metadata": {},
   "outputs": [
    {
     "data": {
      "image/png": "[encoded data removed]",
      "text/plain": [
       "<Figure size 432x288 with 1 Axes>"
      ]
     },
     "metadata": {
      "needs_background": "light"
     },
     "output_type": "display_data"
    }
   ],
   "source": [
    "# строим грфик\n",
    "plt.plot(merged_cumulative_revenue['date'],\\\n",
    "         (merged_cumulative_revenue['ordersB']/merged_cumulative_revenue['visitorsB'])/\\\n",
    "         (merged_cumulative_revenue['ordersA']/merged_cumulative_revenue['visitorsA'])-1)\n",
    "\n",
    "plt.xticks(rotation=45)\n",
    "plt.title('Относительное изменение комулятивного среднего количества заказов на пользователя группы В к группе А')\n",
    "plt.xlabel('Дата')\n",
    "plt.ylabel('Относительное изменение')\n",
    "plt.grid()\n",
    "# добавляем ось Х\n",
    "plt.axhline(y=0, color='black', linestyle='--');"
   ]
  },
  {
   "cell_type": "markdown",
   "metadata": {},
   "source": [
    "Вывод: Относительное изменение комулятивного среднего количества заказов на пользователя сначала резко расте для группы В по отношению к группе А, в период со 2.08 по 6.08 наблюдается отрицательные значения, но ориентировочно с 6.08 по 16.08 наблюдается уверенный рост с последующим плавным снижением."
   ]
  },
  {
   "cell_type": "markdown",
   "metadata": {},
   "source": [
    "### Точечный график количества заказов по пользователям."
   ]
  },
  {
   "cell_type": "code",
   "execution_count": 29,
   "metadata": {},
   "outputs": [
    {
     "name": "stdout",
     "output_type": "stream",
     "text": [
      "         userId  orders\n",
      "908  3967698036       3\n",
      "55    249864742       3\n",
      "478  2108163459       3\n",
      "687  2988190573       3\n",
      "890  3908431265       3\n",
      "138   611059232       3\n",
      "632  2742574263       3\n",
      "157   678354126       2\n",
      "323  1404560065       2\n",
      "452  1985475298       2\n"
     ]
    }
   ],
   "source": [
    "# Подсчитаем количество заказов по пользователям\n",
    "ordersByUsers = (\n",
    "    orders.groupby('visitorId', as_index=False)\n",
    "    .agg({'transactionId' : 'nunique',})\n",
    "    .sort_values(by='transactionId',ascending=False) )\n",
    "ordersByUsers.columns = ['userId', 'orders']\n",
    "\n",
    "print(ordersByUsers.head(10))"
   ]
  },
  {
   "cell_type": "code",
   "execution_count": 30,
   "metadata": {},
   "outputs": [
    {
     "data": {
      "image/png": "[encoded data removed]",
      "text/plain": [
       "<Figure size 432x288 with 1 Axes>"
      ]
     },
     "metadata": {
      "needs_background": "light"
     },
     "output_type": "display_data"
    }
   ],
   "source": [
    "# Построим точечную диаграмму числа заказов на одного пользователя\n",
    "# сгенерируем номера наблюдений\n",
    "x_values = pd.Series(range(0,len(ordersByUsers)))\n",
    "plt.grid()\n",
    "plt.ylabel('Количество заказов')\n",
    "plt.title('График количества заказов по пользователям')\n",
    "plt.scatter(x_values, ordersByUsers['orders']);"
   ]
  },
  {
   "cell_type": "markdown",
   "metadata": {},
   "source": [
    "Вывод: По графикам видно, что большенство пользователей совершают одну покупку, еще некоторая часть 2-4."
   ]
  },
  {
   "cell_type": "markdown",
   "metadata": {},
   "source": [
    "### Расчет 95-й и 99-й перцентилей количества заказов на пользователя. Выбор границы для определения аномальных пользователей."
   ]
  },
  {
   "cell_type": "code",
   "execution_count": 31,
   "metadata": {},
   "outputs": [
    {
     "data": {
      "text/plain": [
       "array([1., 2.])"
      ]
     },
     "execution_count": 31,
     "metadata": {},
     "output_type": "execute_result"
    }
   ],
   "source": [
    "np.percentile(ordersByUsers['orders'], [95, 99])"
   ]
  },
  {
   "cell_type": "markdown",
   "metadata": {},
   "source": [
    "### Точечный график стоимостей заказов."
   ]
  },
  {
   "cell_type": "code",
   "execution_count": 32,
   "metadata": {},
   "outputs": [
    {
     "data": {
      "image/png": "[encoded data removed]",
      "text/plain": [
       "<Figure size 432x288 with 1 Axes>"
      ]
     },
     "metadata": {
      "needs_background": "light"
     },
     "output_type": "display_data"
    }
   ],
   "source": [
    "x_values = pd.Series(range(0,len(orders['revenue'])))\n",
    "plt.scatter(x_values, orders['revenue']) \n",
    "plt.grid()\n",
    "plt.ylabel('Стоимость заказов')\n",
    "plt.title('График стоимостей заказов по пользователям');\n",
    "plt.scatter(x_values, orders['revenue'], alpha=0.5); "
   ]
  },
  {
   "cell_type": "code",
   "execution_count": 33,
   "metadata": {},
   "outputs": [],
   "source": [
    "# попробуем отфильтровать аномалии и построить график снова\n",
    "orders_filtered = orders[orders['revenue']<=200000]"
   ]
  },
  {
   "cell_type": "code",
   "execution_count": 34,
   "metadata": {},
   "outputs": [
    {
     "data": {
      "image/png": "[encoded data removed]",
      "text/plain": [
       "<Figure size 432x288 with 1 Axes>"
      ]
     },
     "metadata": {
      "needs_background": "light"
     },
     "output_type": "display_data"
    }
   ],
   "source": [
    "x_values = pd.Series(range(0,len(orders_filtered['revenue'])))\n",
    "plt.scatter(x_values, orders_filtered['revenue']) \n",
    "plt.grid()\n",
    "plt.ylabel('Стоимость заказов')\n",
    "plt.title('График стоимостей заказов по пользователям')\n",
    "plt.scatter(x_values, orders_filtered['revenue'], alpha=0.5);"
   ]
  },
  {
   "cell_type": "markdown",
   "metadata": {},
   "source": [
    "Вывод: На первом графике с полными данными видим два выброса (заказы стоимостью 200тыс. и более 1.2 млн). Построив график без аномальных значений, видим, что большинство заказов не превышают 60тыс. Посчитаем перцентили, чтобы определиться с точными границами выбросов."
   ]
  },
  {
   "cell_type": "markdown",
   "metadata": {},
   "source": [
    "### Расчет 95-й и 99-й перцентили стоимости заказов. Выбор границы для определения аномальных заказов."
   ]
  },
  {
   "cell_type": "code",
   "execution_count": 35,
   "metadata": {},
   "outputs": [
    {
     "data": {
      "text/plain": [
       "array([26785., 53904.])"
      ]
     },
     "execution_count": 35,
     "metadata": {},
     "output_type": "execute_result"
    }
   ],
   "source": [
    "np.percentile(orders['revenue'], [95, 99])"
   ]
  },
  {
   "cell_type": "markdown",
   "metadata": {},
   "source": [
    "Вывод: Только 1% заказов превышают стоимость 53904 руб. Всё, что больше этой стоимости, будем считать выбросами."
   ]
  },
  {
   "cell_type": "markdown",
   "metadata": {},
   "source": [
    "### Точечный график стоимостей заказов."
   ]
  },
  {
   "cell_type": "markdown",
   "metadata": {},
   "source": [
    "### Расчет статистической значимости различий в среднем количестве заказов на посетителя между группами по «сырым» данным."
   ]
  },
  {
   "cell_type": "markdown",
   "metadata": {},
   "source": [
    "Объявим переменные sampleA и sampleB, в которых пользователям из разных групп будет соответствовать количество заказов, а тем кто ничего не заказал, будут соответствовать нули."
   ]
  },
  {
   "cell_type": "code",
   "execution_count": 36,
   "metadata": {},
   "outputs": [],
   "source": [
    "orders_by_users_A = orders[orders['group']=='A'].groupby('visitorId', as_index=False).\\\n",
    "                                                agg({'transactionId' : pd.Series.nunique})\n",
    "orders_by_users_A.columns = ['user_id', 'orders']\n",
    "\n",
    "orders_by_users_B = orders[orders['group']=='B'].groupby('visitorId', as_index=False).\\\n",
    "                                                 agg({'transactionId' : pd.Series.nunique})\n",
    "orders_by_users_B.columns = ['user_id', 'orders']\n",
    "\n",
    "sample_A = pd.concat([orders_by_users_A['orders'],pd.Series(0, index=np.arange(visitors[visitors['group']=='A']['visitors']\\\n",
    "                                            .sum() - len(orders_by_users_A['orders'])), name='orders')],axis=0)\n",
    "\n",
    "sample_B = pd.concat([orders_by_users_B['orders'],pd.Series(0, index=np.arange(visitors[visitors['group']=='B']['visitors']\\\n",
    "                                            .sum() - len(orders_by_users_B['orders'])), name='orders')],axis=0)\n",
    "\n",
    "\n"
   ]
  },
  {
   "cell_type": "markdown",
   "metadata": {},
   "source": [
    "sampleA сохранили выборку, где каждый элемент — число заказов определённого пользователя, в том числе ноль. Значит, число элементов sampleA — это количество пользователей, сумма всех элементов — количество заказов. Чтобы получить среднее число заказов на пользователя, поделим сумму заказов на число пользователей — найдём среднее в выборке sampleA методом mean(). Аналогично найдём среднее группы B: SampleB.mean()"
   ]
  },
  {
   "cell_type": "markdown",
   "metadata": {},
   "source": [
    "**Сформулируем гипотезы.**  \n",
    "\n",
    "Нулевая гипотеза H₀: различий в среднем количестве заказов на посетителя между группами по «сырым» данным нет.  \n",
    "\n",
    "Альтернативная гипотеза H₁: различия в среднем количестве заказов на посетителя между группами по «сырым» данным есть.  \n",
    "\n",
    "Зададим уровень значимости равным 5%. И воспользуемся критерием Манна-Уитни."
   ]
  },
  {
   "cell_type": "code",
   "execution_count": 37,
   "metadata": {},
   "outputs": [
    {
     "name": "stdout",
     "output_type": "stream",
     "text": [
      "alpha = 0.05\n",
      "p-value = 0.011\n",
      "Относительный показатель 'B' и 'A' = 0.160\n"
     ]
    }
   ],
   "source": [
    "print(\"alpha =\",0.05)\n",
    "print(\"p-value = {0:.3f}\".format(stats.mannwhitneyu(sample_A, sample_B)[1]))\n",
    "print(\"Относительный показатель 'B' и 'A' = {0:.3f}\".format(sample_B.mean()/sample_A.mean()-1)) \n",
    "\n"
   ]
  },
  {
   "cell_type": "markdown",
   "metadata": {},
   "source": [
    "Вывод: Получили p-value = 0.011 меньше уровня значимости = 0.05. Значит, отвергаем нулевую гипотезу: различия в среднем количестве заказов на посетителя между группами по «сырым» данным есть. Относительный выигрыш группы \"B\" над \"A\" = 16%."
   ]
  },
  {
   "cell_type": "markdown",
   "metadata": {},
   "source": [
    "### Расчет статистической значимости различий в среднем чеке заказа между группами по «сырым» данным."
   ]
  },
  {
   "cell_type": "markdown",
   "metadata": {},
   "source": [
    "Нулевая гипотеза H₀: различий в среднем чеке заказа между группами по «сырым» данным нет.  \n",
    "    \n",
    "\n",
    "Альтернативная гипотеза H₁: различия в среднем чеке заказа между группами по «сырым» данным есть.  \n",
    "    \n",
    "\n",
    "\n",
    "Зададим уровень значимости равным 5%. И воспользуемся критерием Манна-Уитни."
   ]
  },
  {
   "cell_type": "code",
   "execution_count": 38,
   "metadata": {},
   "outputs": [
    {
     "name": "stdout",
     "output_type": "stream",
     "text": [
      "alpha = 0.05\n",
      "p-value = 0.829\n",
      "Относительный показатель 'B' и 'A' = 0.287\n"
     ]
    }
   ],
   "source": [
    "print(\"alpha =\",0.05)\n",
    "print(\"p-value = {0:.3f}\".format(stats.mannwhitneyu(orders[orders['group']=='A']['revenue'], \\\n",
    "                                                    orders[orders['group']=='B']['revenue'])[1]))\n",
    "print(\"Относительный показатель 'B' и 'A' = {0:.3f}\".format(orders[orders['group']=='B']['revenue'].mean()/ \\\n",
    "                                                            orders[orders['group']=='A']['revenue'].mean()-1))"
   ]
  },
  {
   "cell_type": "markdown",
   "metadata": {},
   "source": [
    "Получили p-value = 0.829 > 0.05. Значит, не отвергаем нулевую гипотезу: по «сырым» данным значимых различий в среднем чеке заказа между группами нет. Средний чек группы \"B\" отличается на 28.7%, различие не является статистически значимым."
   ]
  },
  {
   "cell_type": "markdown",
   "metadata": {},
   "source": [
    "### Расчет статистической значимости различий в среднем количестве заказов на посетителя между группами по «очищенным» данным."
   ]
  },
  {
   "cell_type": "markdown",
   "metadata": {},
   "source": [
    "Приняв ранее за аномальных пользователей тех, кто совершил более 2 заказов, или совершил заказ на сумму свыше 53904, мы уберём по 1% пользователей с наибольшим числом заказов и по 1% - с наибольшей стоимостью.\n",
    "Сделаем срезы пользователей с числом заказов больше 2 — users_with_many_orders и пользователей, совершивших заказы дороже 53904 — users_with_expensive_orders. Объединим их в таблице abnormal_users, удалим дубликаты, отсортируем по возрастанию. Посчитаем, сколько всего аномальных пользователей."
   ]
  },
  {
   "cell_type": "code",
   "execution_count": 39,
   "metadata": {},
   "outputs": [
    {
     "name": "stdout",
     "output_type": "stream",
     "text": [
      "58      611059232\n",
      "211    2108163459\n",
      "310    2988190573\n",
      "409    3908431265\n",
      "416    3967698036\n",
      "Name: user_id, dtype: int64\n"
     ]
    }
   ],
   "source": [
    "users_with_many_orders = pd.concat(\n",
    "    [\n",
    "        orders_by_users_A[orders_by_users_A['orders'] > int(np.percentile(ordersByUsers['orders'],[99]))]['user_id'],\n",
    "        orders_by_users_B[orders_by_users_B['orders'] > int(np.percentile(ordersByUsers['orders'],[99]))]['user_id'],\n",
    "    ],\n",
    "    axis=0,\n",
    ")\n",
    "print(users_with_many_orders.head())"
   ]
  },
  {
   "cell_type": "code",
   "execution_count": 40,
   "metadata": {},
   "outputs": [],
   "source": [
    "users_with_expensive_orders = orders[orders['revenue'] > int(np.percentile(orders['revenue'], [99]))]['visitorId']"
   ]
  },
  {
   "cell_type": "code",
   "execution_count": 41,
   "metadata": {},
   "outputs": [
    {
     "name": "stdout",
     "output_type": "stream",
     "text": [
      "1099    148427295\n",
      "33      249864742\n",
      "58      611059232\n",
      "949     887908475\n",
      "744     888512513\n",
      "dtype: int64\n"
     ]
    }
   ],
   "source": [
    "abnormal_users = (\n",
    "    pd.concat([users_with_many_orders, users_with_expensive_orders], axis=0)\n",
    "    .drop_duplicates()\n",
    "    .sort_values()\n",
    ")\n",
    "print(abnormal_users.head())"
   ]
  },
  {
   "cell_type": "code",
   "execution_count": 42,
   "metadata": {},
   "outputs": [
    {
     "name": "stdout",
     "output_type": "stream",
     "text": [
      "Всего аномальных пользователей 16\n"
     ]
    }
   ],
   "source": [
    "# посмотрим количество анамальных пользователей\n",
    "print(\"Всего аномальных пользователей\" ,len(abnormal_users))"
   ]
  },
  {
   "cell_type": "markdown",
   "metadata": {},
   "source": [
    "Нулевая гипотеза H₀: различий среднем количестве заказов на посетителя между группами по «очищенным» данным нет.   \n",
    "\n",
    "\n",
    "Альтернативная гипотеза H₁: различия в среднем количестве заказов на посетителя между группами по «очищенным» данным есть.    \n",
    "\n",
    "\n",
    "Зададим уровень значимости равным 5%. Посчитаем статистическую значимость различий в среднем количестве заказов на посетителя между группами по «очищенным» данным. Сначала подготовим выборки количества заказов по пользователям по группам теста, создадим переменные sample_A_filtered и sample_B_filtered, в которых сохраним очищенные данные о заказах — не включая аномальных пользователей."
   ]
  },
  {
   "cell_type": "code",
   "execution_count": 43,
   "metadata": {},
   "outputs": [],
   "source": [
    "sample_A_filtered = pd.concat([orders_by_users_A[np.logical_not(orders_by_users_A['user_id']. \\\n",
    "    isin(abnormal_users))]['orders'], pd.Series(0, index=np.arange(visitors[visitors['group']=='A']['visitors'].sum() \\\n",
    "                                    - len(orders_by_users_A['orders'])),name='orders')],axis=0)\n",
    "\n",
    "sample_B_filtered = pd.concat([orders_by_users_B[np.logical_not(orders_by_users_B['user_id'].\\\n",
    "    isin(abnormal_users))]['orders'],pd.Series(0, index=np.arange(visitors[visitors['group']=='B']['visitors'].sum() \\\n",
    "                                   - len(orders_by_users_B['orders'])), name='orders')],axis=0)\n",
    "\n"
   ]
  },
  {
   "cell_type": "code",
   "execution_count": 44,
   "metadata": {},
   "outputs": [
    {
     "name": "stdout",
     "output_type": "stream",
     "text": [
      "alpha = 0.05\n",
      "p-value = 0.007\n",
      "Относительный показатель 'B' и 'A' = 0.189\n"
     ]
    }
   ],
   "source": [
    "print(\"alpha =\", 0.05)\n",
    "print(\"p-value = {0:.3f}\".format(stats.mannwhitneyu(sample_A_filtered, sample_B_filtered)[1]))\n",
    "print(\"Относительный показатель 'B' и 'A' = {0:.3f}\".format(sample_B_filtered.mean()/sample_A_filtered.mean()-1))"
   ]
  },
  {
   "cell_type": "markdown",
   "metadata": {},
   "source": [
    "Вывод: Получили p-value = 0.007 < 0.05. Значит, отвергаем нулевую гипотезу. Есть различий в среднем количестве заказов на посетителя между группами по «очищенным» данным. Относительный выигрыш группы \"B\" над \"A\" стал выше и равен 18.9%."
   ]
  },
  {
   "cell_type": "markdown",
   "metadata": {},
   "source": [
    "### Расчет статистической значимости различий в среднем чеке заказа между группами по «очищенным» данным."
   ]
  },
  {
   "cell_type": "markdown",
   "metadata": {},
   "source": [
    "Нулевая гипотеза H₀: различий в среднем чеке заказа между группами по «очищенным» данным нет.  \n",
    "\n",
    "\n",
    "Альтернативная гипотеза H₁: различия в среднем чеке заказа между группами по «очищенным» данным есть.   \n",
    "\n",
    "\n",
    "Зададим уровень значимости равным 5% и воспользуемся критерием Манна-Уитни."
   ]
  },
  {
   "cell_type": "code",
   "execution_count": 45,
   "metadata": {},
   "outputs": [
    {
     "name": "stdout",
     "output_type": "stream",
     "text": [
      "alpha = 0.05\n",
      "p-value = 0.788\n",
      "Относительный показатель 'B' и 'A' = -0.032\n"
     ]
    }
   ],
   "source": [
    "print(\"alpha =\",0.05)\n",
    "print(\"p-value = {0:.3f}\".format(stats.mannwhitneyu(orders[np.logical_and(orders['group']=='A',\n",
    "        np.logical_not(orders['visitorId'].isin(abnormal_users)))]['revenue'],\n",
    "        orders[np.logical_and(orders['group']=='B',\n",
    "        np.logical_not(orders['visitorId'].isin(abnormal_users)))]['revenue'])[1]))\n",
    "\n",
    "print(\"Относительный показатель 'B' и 'A' = {0:.3f}\".format(\n",
    "    orders[np.logical_and(orders['group']=='B',np.logical_not(orders['visitorId'].isin(abnormal_users)))]['revenue'].mean()/\n",
    "    orders[np.logical_and(orders['group']=='A',\n",
    "        np.logical_not(orders['visitorId'].isin(abnormal_users)))]['revenue'].mean() - 1)) "
   ]
  },
  {
   "cell_type": "markdown",
   "metadata": {},
   "source": [
    "Вывод: Получили p-value = 0.788 > 0.05. Значит, не отвергаем нулевую гипотезу. По «очищенным» данным значимых различий в среднем чеке заказа между группами также нет, как и по «сырым» данным. Но теперь средний чек группы \"B\" меньше группы \"A\" на 3.2%. По «очищенным» данным нет статистически значимого различия по среднему чеку, чек не увеличился и не уменьшился."
   ]
  },
  {
   "cell_type": "markdown",
   "metadata": {},
   "source": [
    "**Общий вывод:**\n",
    "    \n",
    "- по \"сырым\" и по \"очищенным\" данным есть статистически значимые различия в среднем количестве заказов для групп \"А\" и \"B\".  \n",
    "Относительный выигрыш группы \"B\" над \"A\" равен 18.9% по \"очищенным\" и 16% по \"сырым\" данным.  \n",
    "    \n",
    "- по \"сырым\" и по \"очищенным\" данным статистически значимых различий в средних чеках заказов групп \"А\" и \"B\" нет. При этом средний чек группы \"B\" оказался на 3.2% ниже группы \"А\" по \"очищенным\" данным, но по \"сырым\" данным он был больше на 28.7% из-за аномальных заказов, которые в последствии были отсортированы.  \n",
    "    \n",
    "В итоге принимаем решение остановить тестирование и зафиксируем преимущество в группе \"B\", хотя по среднему чеку группы практически равны.  \n",
    "    \n",
    "Выбираем гипотезы:\n",
    "- добавить форму подписки на все основные страницы, чтобы собрать базу клиентов для email-рассылок;\n",
    "- добавить блоки рекомендаций товаров на сайт интернет магазина, чтобы повысить конверсию и средний чек заказа.\n"
   ]
  }
 ],
 "metadata": {
  "ExecuteTimeLog": [
   {
    "duration": 1506,
    "start_time": "2023-04-24T16:01:01.416Z"
   },
   {
    "duration": 102,
    "start_time": "2023-04-24T16:01:02.924Z"
   },
   {
    "duration": 115,
    "start_time": "2023-04-24T16:01:03.042Z"
   },
   {
    "duration": 195,
    "start_time": "2023-04-24T16:01:59.560Z"
   },
   {
    "duration": 213,
    "start_time": "2023-04-24T16:02:12.809Z"
   },
   {
    "duration": 23,
    "start_time": "2023-04-24T16:02:15.528Z"
   },
   {
    "duration": 10,
    "start_time": "2023-04-24T16:02:50.013Z"
   },
   {
    "duration": 24,
    "start_time": "2023-04-24T16:03:00.500Z"
   },
   {
    "duration": 15,
    "start_time": "2023-04-24T16:03:26.312Z"
   },
   {
    "duration": 548,
    "start_time": "2023-04-24T16:03:30.513Z"
   },
   {
    "duration": 5,
    "start_time": "2023-04-24T16:03:54.930Z"
   },
   {
    "duration": 5,
    "start_time": "2023-04-24T16:04:28.988Z"
   },
   {
    "duration": 11,
    "start_time": "2023-04-24T16:04:44.230Z"
   },
   {
    "duration": 5,
    "start_time": "2023-04-24T16:05:20.930Z"
   },
   {
    "duration": 35,
    "start_time": "2023-04-24T16:07:53.048Z"
   },
   {
    "duration": 16,
    "start_time": "2023-04-24T16:08:56.448Z"
   },
   {
    "duration": 340,
    "start_time": "2023-04-24T16:11:00.718Z"
   },
   {
    "duration": 15,
    "start_time": "2023-04-24T16:15:04.398Z"
   },
   {
    "duration": 11,
    "start_time": "2023-04-24T16:16:42.505Z"
   },
   {
    "duration": 18,
    "start_time": "2023-04-24T16:17:42.289Z"
   },
   {
    "duration": 18,
    "start_time": "2023-04-24T16:19:05.583Z"
   },
   {
    "duration": 509,
    "start_time": "2023-04-24T16:19:18.539Z"
   },
   {
    "duration": 13,
    "start_time": "2023-04-24T16:20:30.848Z"
   },
   {
    "duration": 146,
    "start_time": "2023-04-24T16:20:57.779Z"
   },
   {
    "duration": 6,
    "start_time": "2023-04-24T16:21:38.799Z"
   },
   {
    "duration": 195,
    "start_time": "2023-04-24T16:22:14.524Z"
   },
   {
    "duration": 5,
    "start_time": "2023-04-24T16:22:42.987Z"
   },
   {
    "duration": 191,
    "start_time": "2023-04-24T16:22:51.562Z"
   },
   {
    "duration": 5,
    "start_time": "2023-04-24T16:23:59.246Z"
   },
   {
    "duration": 157,
    "start_time": "2023-04-24T16:25:44.546Z"
   },
   {
    "duration": 28,
    "start_time": "2023-04-24T16:26:31.414Z"
   },
   {
    "duration": 13,
    "start_time": "2023-04-24T16:27:26.013Z"
   },
   {
    "duration": 16,
    "start_time": "2023-04-24T16:28:23.486Z"
   },
   {
    "duration": 4,
    "start_time": "2023-04-24T16:28:36.200Z"
   },
   {
    "duration": 5,
    "start_time": "2023-04-24T16:29:27.604Z"
   },
   {
    "duration": 3,
    "start_time": "2023-04-24T16:29:58.885Z"
   },
   {
    "duration": 11,
    "start_time": "2023-04-24T16:30:26.231Z"
   },
   {
    "duration": 26,
    "start_time": "2023-04-24T16:30:38.348Z"
   },
   {
    "duration": 16,
    "start_time": "2023-04-24T16:31:32.932Z"
   },
   {
    "duration": 55,
    "start_time": "2023-04-26T09:42:02.261Z"
   },
   {
    "duration": 1341,
    "start_time": "2023-04-26T09:42:09.453Z"
   },
   {
    "duration": 222,
    "start_time": "2023-04-26T09:42:10.796Z"
   },
   {
    "duration": 20,
    "start_time": "2023-04-26T09:42:11.020Z"
   },
   {
    "duration": 7,
    "start_time": "2023-04-26T09:42:11.042Z"
   },
   {
    "duration": 22,
    "start_time": "2023-04-26T09:42:11.051Z"
   },
   {
    "duration": 46,
    "start_time": "2023-04-26T09:42:11.075Z"
   },
   {
    "duration": 25,
    "start_time": "2023-04-26T09:42:11.123Z"
   },
   {
    "duration": 21,
    "start_time": "2023-04-26T09:42:11.155Z"
   },
   {
    "duration": 13,
    "start_time": "2023-04-26T09:42:11.178Z"
   },
   {
    "duration": 4,
    "start_time": "2023-04-26T09:42:11.195Z"
   },
   {
    "duration": 133,
    "start_time": "2023-04-26T09:42:11.200Z"
   },
   {
    "duration": 0,
    "start_time": "2023-04-26T09:42:11.335Z"
   },
   {
    "duration": 0,
    "start_time": "2023-04-26T09:42:11.337Z"
   },
   {
    "duration": 0,
    "start_time": "2023-04-26T09:42:11.338Z"
   },
   {
    "duration": 0,
    "start_time": "2023-04-26T09:42:11.339Z"
   },
   {
    "duration": 0,
    "start_time": "2023-04-26T09:42:11.340Z"
   },
   {
    "duration": 0,
    "start_time": "2023-04-26T09:42:11.341Z"
   },
   {
    "duration": 0,
    "start_time": "2023-04-26T09:42:11.342Z"
   },
   {
    "duration": 0,
    "start_time": "2023-04-26T09:42:11.343Z"
   },
   {
    "duration": 0,
    "start_time": "2023-04-26T09:42:11.344Z"
   },
   {
    "duration": 0,
    "start_time": "2023-04-26T09:42:11.345Z"
   },
   {
    "duration": 0,
    "start_time": "2023-04-26T09:42:11.346Z"
   },
   {
    "duration": 0,
    "start_time": "2023-04-26T09:42:11.347Z"
   },
   {
    "duration": 0,
    "start_time": "2023-04-26T09:42:11.350Z"
   },
   {
    "duration": 0,
    "start_time": "2023-04-26T09:42:11.351Z"
   },
   {
    "duration": 0,
    "start_time": "2023-04-26T09:42:11.352Z"
   },
   {
    "duration": 0,
    "start_time": "2023-04-26T09:42:11.353Z"
   },
   {
    "duration": 0,
    "start_time": "2023-04-26T09:42:11.354Z"
   },
   {
    "duration": 0,
    "start_time": "2023-04-26T09:42:11.356Z"
   },
   {
    "duration": 1,
    "start_time": "2023-04-26T09:42:11.357Z"
   },
   {
    "duration": 0,
    "start_time": "2023-04-26T09:42:11.359Z"
   },
   {
    "duration": 0,
    "start_time": "2023-04-26T09:42:11.360Z"
   },
   {
    "duration": 0,
    "start_time": "2023-04-26T09:42:11.361Z"
   },
   {
    "duration": 0,
    "start_time": "2023-04-26T09:42:11.363Z"
   },
   {
    "duration": 0,
    "start_time": "2023-04-26T09:42:11.364Z"
   },
   {
    "duration": 0,
    "start_time": "2023-04-26T09:42:11.365Z"
   },
   {
    "duration": 0,
    "start_time": "2023-04-26T09:42:11.366Z"
   },
   {
    "duration": 0,
    "start_time": "2023-04-26T09:42:11.368Z"
   },
   {
    "duration": 0,
    "start_time": "2023-04-26T09:42:11.374Z"
   },
   {
    "duration": 186,
    "start_time": "2023-04-26T09:42:59.259Z"
   },
   {
    "duration": 8,
    "start_time": "2023-04-26T09:44:05.307Z"
   },
   {
    "duration": 19,
    "start_time": "2023-04-26T09:44:29.942Z"
   },
   {
    "duration": 518,
    "start_time": "2023-04-26T09:44:37.176Z"
   },
   {
    "duration": 5,
    "start_time": "2023-04-26T09:49:11.267Z"
   },
   {
    "duration": 29,
    "start_time": "2023-04-26T09:55:16.504Z"
   },
   {
    "duration": 11,
    "start_time": "2023-04-26T09:55:27.173Z"
   },
   {
    "duration": 280,
    "start_time": "2023-04-26T09:58:16.462Z"
   },
   {
    "duration": 4,
    "start_time": "2023-04-26T09:59:06.861Z"
   },
   {
    "duration": 287,
    "start_time": "2023-04-26T09:59:12.629Z"
   },
   {
    "duration": 230,
    "start_time": "2023-04-26T10:37:04.436Z"
   },
   {
    "duration": 201,
    "start_time": "2023-04-26T10:37:32.361Z"
   },
   {
    "duration": 324,
    "start_time": "2023-04-26T10:39:11.602Z"
   },
   {
    "duration": 25,
    "start_time": "2023-04-26T10:43:17.342Z"
   },
   {
    "duration": 234,
    "start_time": "2023-04-26T10:43:20.810Z"
   },
   {
    "duration": 56,
    "start_time": "2023-04-26T10:45:37.334Z"
   },
   {
    "duration": 382,
    "start_time": "2023-04-26T10:45:39.319Z"
   },
   {
    "duration": 16,
    "start_time": "2023-04-26T10:47:34.143Z"
   },
   {
    "duration": 129,
    "start_time": "2023-04-26T10:47:35.882Z"
   },
   {
    "duration": 6,
    "start_time": "2023-04-26T10:48:39.976Z"
   },
   {
    "duration": 164,
    "start_time": "2023-04-26T10:48:48.109Z"
   },
   {
    "duration": 4,
    "start_time": "2023-04-26T10:48:57.970Z"
   },
   {
    "duration": 216,
    "start_time": "2023-04-26T10:48:59.176Z"
   },
   {
    "duration": 5,
    "start_time": "2023-04-26T10:50:09.080Z"
   },
   {
    "duration": 190,
    "start_time": "2023-04-26T10:50:30.977Z"
   },
   {
    "duration": 150,
    "start_time": "2023-04-26T10:51:05.074Z"
   },
   {
    "duration": 22,
    "start_time": "2023-04-26T10:57:09.906Z"
   },
   {
    "duration": 15,
    "start_time": "2023-04-26T10:58:49.333Z"
   },
   {
    "duration": 10,
    "start_time": "2023-04-26T11:00:08.637Z"
   },
   {
    "duration": 5,
    "start_time": "2023-04-26T11:00:10.191Z"
   },
   {
    "duration": 6,
    "start_time": "2023-04-26T11:00:10.706Z"
   },
   {
    "duration": 4,
    "start_time": "2023-04-26T11:00:11.310Z"
   },
   {
    "duration": 9,
    "start_time": "2023-04-26T11:00:44.438Z"
   },
   {
    "duration": 30,
    "start_time": "2023-04-26T11:00:49.633Z"
   },
   {
    "duration": 15,
    "start_time": "2023-04-26T11:02:23.277Z"
   },
   {
    "duration": 1097,
    "start_time": "2023-04-26T11:33:47.785Z"
   },
   {
    "duration": 217,
    "start_time": "2023-04-26T11:33:48.883Z"
   },
   {
    "duration": 20,
    "start_time": "2023-04-26T11:33:49.102Z"
   },
   {
    "duration": 7,
    "start_time": "2023-04-26T11:33:49.124Z"
   },
   {
    "duration": 15,
    "start_time": "2023-04-26T11:33:49.132Z"
   },
   {
    "duration": 14,
    "start_time": "2023-04-26T11:33:49.148Z"
   },
   {
    "duration": 11,
    "start_time": "2023-04-26T11:33:49.163Z"
   },
   {
    "duration": 11,
    "start_time": "2023-04-26T11:33:49.195Z"
   },
   {
    "duration": 18,
    "start_time": "2023-04-26T11:33:49.207Z"
   },
   {
    "duration": 4,
    "start_time": "2023-04-26T11:33:49.228Z"
   },
   {
    "duration": 17,
    "start_time": "2023-04-26T11:33:49.233Z"
   },
   {
    "duration": 12,
    "start_time": "2023-04-26T11:33:49.251Z"
   },
   {
    "duration": 273,
    "start_time": "2023-04-26T11:33:49.264Z"
   },
   {
    "duration": 4,
    "start_time": "2023-04-26T11:33:49.538Z"
   },
   {
    "duration": 265,
    "start_time": "2023-04-26T11:33:49.543Z"
   },
   {
    "duration": 187,
    "start_time": "2023-04-26T11:33:49.809Z"
   },
   {
    "duration": 302,
    "start_time": "2023-04-26T11:33:49.997Z"
   },
   {
    "duration": 15,
    "start_time": "2023-04-26T11:33:50.301Z"
   },
   {
    "duration": 218,
    "start_time": "2023-04-26T11:33:50.317Z"
   },
   {
    "duration": 12,
    "start_time": "2023-04-26T11:33:50.536Z"
   },
   {
    "duration": 324,
    "start_time": "2023-04-26T11:33:50.549Z"
   },
   {
    "duration": 8,
    "start_time": "2023-04-26T11:33:50.875Z"
   },
   {
    "duration": 122,
    "start_time": "2023-04-26T11:33:50.884Z"
   },
   {
    "duration": 5,
    "start_time": "2023-04-26T11:33:51.007Z"
   },
   {
    "duration": 162,
    "start_time": "2023-04-26T11:33:51.014Z"
   },
   {
    "duration": 4,
    "start_time": "2023-04-26T11:33:51.178Z"
   },
   {
    "duration": 144,
    "start_time": "2023-04-26T11:33:51.195Z"
   },
   {
    "duration": 4,
    "start_time": "2023-04-26T11:33:51.344Z"
   },
   {
    "duration": 274,
    "start_time": "2023-04-26T11:33:51.350Z"
   },
   {
    "duration": 23,
    "start_time": "2023-04-26T11:33:51.626Z"
   },
   {
    "duration": 12,
    "start_time": "2023-04-26T11:33:51.651Z"
   },
   {
    "duration": 7,
    "start_time": "2023-04-26T11:33:51.665Z"
   },
   {
    "duration": 5,
    "start_time": "2023-04-26T11:33:51.695Z"
   },
   {
    "duration": 12,
    "start_time": "2023-04-26T11:33:51.701Z"
   },
   {
    "duration": 3,
    "start_time": "2023-04-26T11:33:51.716Z"
   },
   {
    "duration": 10,
    "start_time": "2023-04-26T11:33:51.720Z"
   },
   {
    "duration": 64,
    "start_time": "2023-04-26T11:33:51.731Z"
   },
   {
    "duration": 16,
    "start_time": "2023-04-26T11:33:51.797Z"
   },
   {
    "duration": 544,
    "start_time": "2023-04-26T11:45:03.840Z"
   },
   {
    "duration": 1178,
    "start_time": "2023-04-26T11:45:09.171Z"
   },
   {
    "duration": 75,
    "start_time": "2023-04-26T11:45:10.351Z"
   },
   {
    "duration": 18,
    "start_time": "2023-04-26T11:45:10.429Z"
   },
   {
    "duration": 8,
    "start_time": "2023-04-26T11:45:10.449Z"
   },
   {
    "duration": 17,
    "start_time": "2023-04-26T11:45:10.458Z"
   },
   {
    "duration": 12,
    "start_time": "2023-04-26T11:45:10.477Z"
   },
   {
    "duration": 20,
    "start_time": "2023-04-26T11:45:10.491Z"
   },
   {
    "duration": 26,
    "start_time": "2023-04-26T11:45:10.512Z"
   },
   {
    "duration": 26,
    "start_time": "2023-04-26T11:45:10.539Z"
   },
   {
    "duration": 34,
    "start_time": "2023-04-26T11:45:10.568Z"
   },
   {
    "duration": 14,
    "start_time": "2023-04-26T11:45:10.604Z"
   },
   {
    "duration": 19,
    "start_time": "2023-04-26T11:45:10.620Z"
   },
   {
    "duration": 261,
    "start_time": "2023-04-26T11:45:10.640Z"
   },
   {
    "duration": 4,
    "start_time": "2023-04-26T11:45:10.902Z"
   },
   {
    "duration": 266,
    "start_time": "2023-04-26T11:45:10.907Z"
   },
   {
    "duration": 189,
    "start_time": "2023-04-26T11:45:11.174Z"
   },
   {
    "duration": 336,
    "start_time": "2023-04-26T11:45:11.365Z"
   },
   {
    "duration": 18,
    "start_time": "2023-04-26T11:45:11.703Z"
   },
   {
    "duration": 223,
    "start_time": "2023-04-26T11:45:11.723Z"
   },
   {
    "duration": 12,
    "start_time": "2023-04-26T11:45:11.947Z"
   },
   {
    "duration": 319,
    "start_time": "2023-04-26T11:45:11.961Z"
   },
   {
    "duration": 17,
    "start_time": "2023-04-26T11:45:12.282Z"
   },
   {
    "duration": 195,
    "start_time": "2023-04-26T11:45:12.301Z"
   },
   {
    "duration": 4,
    "start_time": "2023-04-26T11:45:12.498Z"
   },
   {
    "duration": 318,
    "start_time": "2023-04-26T11:45:12.504Z"
   },
   {
    "duration": 4,
    "start_time": "2023-04-26T11:45:12.824Z"
   },
   {
    "duration": 304,
    "start_time": "2023-04-26T11:45:12.829Z"
   },
   {
    "duration": 59,
    "start_time": "2023-04-26T11:45:13.135Z"
   },
   {
    "duration": 429,
    "start_time": "2023-04-26T11:45:13.196Z"
   },
   {
    "duration": 72,
    "start_time": "2023-04-26T11:45:13.627Z"
   },
   {
    "duration": 10,
    "start_time": "2023-04-26T11:45:13.701Z"
   },
   {
    "duration": 7,
    "start_time": "2023-04-26T11:45:13.712Z"
   },
   {
    "duration": 4,
    "start_time": "2023-04-26T11:45:13.721Z"
   },
   {
    "duration": 13,
    "start_time": "2023-04-26T11:45:13.726Z"
   },
   {
    "duration": 55,
    "start_time": "2023-04-26T11:45:13.741Z"
   },
   {
    "duration": 12,
    "start_time": "2023-04-26T11:45:13.797Z"
   },
   {
    "duration": 21,
    "start_time": "2023-04-26T11:45:13.810Z"
   },
   {
    "duration": 65,
    "start_time": "2023-04-26T11:45:13.833Z"
   },
   {
    "duration": 55,
    "start_time": "2023-04-26T12:54:28.552Z"
   },
   {
    "duration": 46,
    "start_time": "2023-04-26T12:54:41.264Z"
   },
   {
    "duration": 1256,
    "start_time": "2023-04-26T12:54:57.860Z"
   },
   {
    "duration": 236,
    "start_time": "2023-04-26T12:54:59.118Z"
   },
   {
    "duration": 22,
    "start_time": "2023-04-26T12:54:59.355Z"
   },
   {
    "duration": 8,
    "start_time": "2023-04-26T12:54:59.379Z"
   },
   {
    "duration": 18,
    "start_time": "2023-04-26T12:54:59.551Z"
   },
   {
    "duration": 15,
    "start_time": "2023-04-26T12:55:00.631Z"
   },
   {
    "duration": 263,
    "start_time": "2023-04-26T12:55:06.056Z"
   },
   {
    "duration": 4,
    "start_time": "2023-04-26T12:55:19.540Z"
   },
   {
    "duration": 5,
    "start_time": "2023-04-26T12:55:20.331Z"
   },
   {
    "duration": 8,
    "start_time": "2023-04-26T12:55:20.537Z"
   },
   {
    "duration": 4,
    "start_time": "2023-04-26T12:55:20.754Z"
   },
   {
    "duration": 11,
    "start_time": "2023-04-26T13:05:03.701Z"
   },
   {
    "duration": 64,
    "start_time": "2023-04-26T13:05:33.535Z"
   },
   {
    "duration": 11,
    "start_time": "2023-04-26T13:19:56.669Z"
   },
   {
    "duration": 11,
    "start_time": "2023-04-26T13:20:49.232Z"
   },
   {
    "duration": 5,
    "start_time": "2023-04-26T13:22:27.774Z"
   },
   {
    "duration": 7,
    "start_time": "2023-04-26T13:22:30.787Z"
   },
   {
    "duration": 8,
    "start_time": "2023-04-26T13:23:30.428Z"
   },
   {
    "duration": 10,
    "start_time": "2023-04-26T13:25:20.435Z"
   },
   {
    "duration": 12,
    "start_time": "2023-04-26T13:35:39.264Z"
   },
   {
    "duration": 9,
    "start_time": "2023-04-26T13:35:53.131Z"
   },
   {
    "duration": 7,
    "start_time": "2023-04-26T13:37:40.982Z"
   },
   {
    "duration": 51,
    "start_time": "2023-04-26T13:41:36.964Z"
   },
   {
    "duration": 1093,
    "start_time": "2023-04-26T13:45:30.507Z"
   },
   {
    "duration": 80,
    "start_time": "2023-04-26T13:45:31.602Z"
   },
   {
    "duration": 20,
    "start_time": "2023-04-26T13:45:31.684Z"
   },
   {
    "duration": 72,
    "start_time": "2023-04-26T13:45:31.706Z"
   },
   {
    "duration": 56,
    "start_time": "2023-04-26T13:45:31.781Z"
   },
   {
    "duration": 36,
    "start_time": "2023-04-26T13:45:31.839Z"
   },
   {
    "duration": 26,
    "start_time": "2023-04-26T13:45:31.876Z"
   },
   {
    "duration": 22,
    "start_time": "2023-04-26T13:45:31.904Z"
   },
   {
    "duration": 23,
    "start_time": "2023-04-26T13:45:31.927Z"
   },
   {
    "duration": 25,
    "start_time": "2023-04-26T13:45:31.951Z"
   },
   {
    "duration": 35,
    "start_time": "2023-04-26T13:45:31.977Z"
   },
   {
    "duration": 17,
    "start_time": "2023-04-26T13:45:32.014Z"
   },
   {
    "duration": 27,
    "start_time": "2023-04-26T13:45:32.032Z"
   },
   {
    "duration": 287,
    "start_time": "2023-04-26T13:45:32.062Z"
   },
   {
    "duration": 9,
    "start_time": "2023-04-26T13:45:32.351Z"
   },
   {
    "duration": 287,
    "start_time": "2023-04-26T13:45:32.362Z"
   },
   {
    "duration": 205,
    "start_time": "2023-04-26T13:45:32.651Z"
   },
   {
    "duration": 318,
    "start_time": "2023-04-26T13:45:32.858Z"
   },
   {
    "duration": 16,
    "start_time": "2023-04-26T13:45:33.178Z"
   },
   {
    "duration": 274,
    "start_time": "2023-04-26T13:45:33.196Z"
   },
   {
    "duration": 11,
    "start_time": "2023-04-26T13:45:33.472Z"
   },
   {
    "duration": 316,
    "start_time": "2023-04-26T13:45:33.485Z"
   },
   {
    "duration": 10,
    "start_time": "2023-04-26T13:45:33.802Z"
   },
   {
    "duration": 147,
    "start_time": "2023-04-26T13:45:33.814Z"
   },
   {
    "duration": 6,
    "start_time": "2023-04-26T13:45:33.963Z"
   },
   {
    "duration": 177,
    "start_time": "2023-04-26T13:45:33.971Z"
   },
   {
    "duration": 10,
    "start_time": "2023-04-26T13:45:34.151Z"
   },
   {
    "duration": 176,
    "start_time": "2023-04-26T13:45:34.163Z"
   },
   {
    "duration": 5,
    "start_time": "2023-04-26T13:45:34.340Z"
   },
   {
    "duration": 220,
    "start_time": "2023-04-26T13:45:34.359Z"
   },
   {
    "duration": 24,
    "start_time": "2023-04-26T13:45:34.581Z"
   },
   {
    "duration": 12,
    "start_time": "2023-04-26T13:45:34.607Z"
   },
   {
    "duration": 20,
    "start_time": "2023-04-26T13:45:34.620Z"
   },
   {
    "duration": 17,
    "start_time": "2023-04-26T13:45:34.642Z"
   },
   {
    "duration": 22,
    "start_time": "2023-04-26T13:45:34.661Z"
   },
   {
    "duration": 57,
    "start_time": "2023-04-26T13:45:34.684Z"
   },
   {
    "duration": 49,
    "start_time": "2023-04-26T13:45:34.744Z"
   },
   {
    "duration": 35,
    "start_time": "2023-04-26T13:45:34.795Z"
   },
   {
    "duration": 19,
    "start_time": "2023-04-26T13:45:34.831Z"
   },
   {
    "duration": 5,
    "start_time": "2023-04-26T13:45:59.264Z"
   },
   {
    "duration": 79,
    "start_time": "2023-04-26T13:49:17.315Z"
   },
   {
    "duration": 14,
    "start_time": "2023-04-26T13:49:19.749Z"
   },
   {
    "duration": 60,
    "start_time": "2023-04-26T13:58:48.184Z"
   },
   {
    "duration": 51,
    "start_time": "2023-04-26T14:05:21.734Z"
   },
   {
    "duration": 1199,
    "start_time": "2023-04-27T06:36:59.093Z"
   },
   {
    "duration": 226,
    "start_time": "2023-04-27T06:37:00.294Z"
   },
   {
    "duration": 20,
    "start_time": "2023-04-27T06:37:00.522Z"
   },
   {
    "duration": 51,
    "start_time": "2023-04-27T06:37:00.544Z"
   },
   {
    "duration": 73,
    "start_time": "2023-04-27T06:37:00.597Z"
   },
   {
    "duration": 62,
    "start_time": "2023-04-27T06:37:00.672Z"
   },
   {
    "duration": 36,
    "start_time": "2023-04-27T06:37:00.736Z"
   },
   {
    "duration": 37,
    "start_time": "2023-04-27T06:37:00.774Z"
   },
   {
    "duration": 39,
    "start_time": "2023-04-27T06:37:00.813Z"
   },
   {
    "duration": 36,
    "start_time": "2023-04-27T06:37:00.856Z"
   },
   {
    "duration": 36,
    "start_time": "2023-04-27T06:37:00.893Z"
   },
   {
    "duration": 33,
    "start_time": "2023-04-27T06:37:00.931Z"
   },
   {
    "duration": 39,
    "start_time": "2023-04-27T06:37:00.965Z"
   },
   {
    "duration": 307,
    "start_time": "2023-04-27T06:37:01.006Z"
   },
   {
    "duration": 4,
    "start_time": "2023-04-27T06:37:01.317Z"
   },
   {
    "duration": 322,
    "start_time": "2023-04-27T06:37:01.323Z"
   },
   {
    "duration": 218,
    "start_time": "2023-04-27T06:37:01.647Z"
   },
   {
    "duration": 309,
    "start_time": "2023-04-27T06:37:01.867Z"
   },
   {
    "duration": 18,
    "start_time": "2023-04-27T06:37:02.177Z"
   },
   {
    "duration": 250,
    "start_time": "2023-04-27T06:37:02.196Z"
   },
   {
    "duration": 16,
    "start_time": "2023-04-27T06:37:02.448Z"
   },
   {
    "duration": 394,
    "start_time": "2023-04-27T06:37:02.465Z"
   },
   {
    "duration": 10,
    "start_time": "2023-04-27T06:37:02.860Z"
   },
   {
    "duration": 146,
    "start_time": "2023-04-27T06:37:02.871Z"
   },
   {
    "duration": 5,
    "start_time": "2023-04-27T06:37:03.019Z"
   },
   {
    "duration": 176,
    "start_time": "2023-04-27T06:37:03.026Z"
   },
   {
    "duration": 5,
    "start_time": "2023-04-27T06:37:03.204Z"
   },
   {
    "duration": 168,
    "start_time": "2023-04-27T06:37:03.219Z"
   },
   {
    "duration": 4,
    "start_time": "2023-04-27T06:37:03.389Z"
   },
   {
    "duration": 222,
    "start_time": "2023-04-27T06:37:03.395Z"
   },
   {
    "duration": 25,
    "start_time": "2023-04-27T06:37:03.619Z"
   },
   {
    "duration": 14,
    "start_time": "2023-04-27T06:37:03.645Z"
   },
   {
    "duration": 16,
    "start_time": "2023-04-27T06:37:03.661Z"
   },
   {
    "duration": 28,
    "start_time": "2023-04-27T06:37:03.679Z"
   },
   {
    "duration": 34,
    "start_time": "2023-04-27T06:37:03.709Z"
   },
   {
    "duration": 38,
    "start_time": "2023-04-27T06:37:03.745Z"
   },
   {
    "duration": 34,
    "start_time": "2023-04-27T06:37:03.785Z"
   },
   {
    "duration": 43,
    "start_time": "2023-04-27T06:37:03.821Z"
   },
   {
    "duration": 16,
    "start_time": "2023-04-27T06:37:03.865Z"
   },
   {
    "duration": 47,
    "start_time": "2023-04-27T07:58:06.679Z"
   },
   {
    "duration": 1341,
    "start_time": "2023-04-27T07:58:31.603Z"
   },
   {
    "duration": 241,
    "start_time": "2023-04-27T07:58:32.947Z"
   },
   {
    "duration": 25,
    "start_time": "2023-04-27T07:58:33.190Z"
   },
   {
    "duration": 13,
    "start_time": "2023-04-27T07:58:33.218Z"
   },
   {
    "duration": 27,
    "start_time": "2023-04-27T07:58:33.234Z"
   },
   {
    "duration": 38,
    "start_time": "2023-04-27T07:58:33.265Z"
   },
   {
    "duration": 5,
    "start_time": "2023-04-27T07:58:33.306Z"
   },
   {
    "duration": 8,
    "start_time": "2023-04-27T07:58:33.313Z"
   },
   {
    "duration": 32,
    "start_time": "2023-04-27T07:58:33.323Z"
   },
   {
    "duration": 5,
    "start_time": "2023-04-27T07:58:33.359Z"
   },
   {
    "duration": 149,
    "start_time": "2023-04-27T07:58:33.366Z"
   },
   {
    "duration": 0,
    "start_time": "2023-04-27T07:58:33.517Z"
   },
   {
    "duration": 0,
    "start_time": "2023-04-27T07:58:33.519Z"
   },
   {
    "duration": 0,
    "start_time": "2023-04-27T07:58:33.520Z"
   },
   {
    "duration": 0,
    "start_time": "2023-04-27T07:58:33.521Z"
   },
   {
    "duration": 0,
    "start_time": "2023-04-27T07:58:33.522Z"
   },
   {
    "duration": 0,
    "start_time": "2023-04-27T07:58:33.523Z"
   },
   {
    "duration": 1,
    "start_time": "2023-04-27T07:58:33.524Z"
   },
   {
    "duration": 0,
    "start_time": "2023-04-27T07:58:33.525Z"
   },
   {
    "duration": 0,
    "start_time": "2023-04-27T07:58:33.527Z"
   },
   {
    "duration": 0,
    "start_time": "2023-04-27T07:58:33.528Z"
   },
   {
    "duration": 0,
    "start_time": "2023-04-27T07:58:33.530Z"
   },
   {
    "duration": 0,
    "start_time": "2023-04-27T07:58:33.556Z"
   },
   {
    "duration": 0,
    "start_time": "2023-04-27T07:58:33.557Z"
   },
   {
    "duration": 0,
    "start_time": "2023-04-27T07:58:33.559Z"
   },
   {
    "duration": 0,
    "start_time": "2023-04-27T07:58:33.560Z"
   },
   {
    "duration": 0,
    "start_time": "2023-04-27T07:58:33.562Z"
   },
   {
    "duration": 0,
    "start_time": "2023-04-27T07:58:33.563Z"
   },
   {
    "duration": 0,
    "start_time": "2023-04-27T07:58:33.565Z"
   },
   {
    "duration": 0,
    "start_time": "2023-04-27T07:58:33.566Z"
   },
   {
    "duration": 0,
    "start_time": "2023-04-27T07:58:33.567Z"
   },
   {
    "duration": 0,
    "start_time": "2023-04-27T07:58:33.569Z"
   },
   {
    "duration": 0,
    "start_time": "2023-04-27T07:58:33.570Z"
   },
   {
    "duration": 0,
    "start_time": "2023-04-27T07:58:33.571Z"
   },
   {
    "duration": 0,
    "start_time": "2023-04-27T07:58:33.572Z"
   },
   {
    "duration": 0,
    "start_time": "2023-04-27T07:58:33.574Z"
   },
   {
    "duration": 0,
    "start_time": "2023-04-27T07:58:33.576Z"
   },
   {
    "duration": 0,
    "start_time": "2023-04-27T07:58:33.577Z"
   },
   {
    "duration": 0,
    "start_time": "2023-04-27T07:58:33.578Z"
   },
   {
    "duration": 0,
    "start_time": "2023-04-27T07:58:33.579Z"
   },
   {
    "duration": 11,
    "start_time": "2023-04-27T09:01:22.717Z"
   },
   {
    "duration": 10,
    "start_time": "2023-04-27T09:03:34.549Z"
   },
   {
    "duration": 1018,
    "start_time": "2023-04-27T09:04:17.198Z"
   },
   {
    "duration": 80,
    "start_time": "2023-04-27T09:04:18.217Z"
   },
   {
    "duration": 22,
    "start_time": "2023-04-27T09:04:18.299Z"
   },
   {
    "duration": 8,
    "start_time": "2023-04-27T09:04:18.323Z"
   },
   {
    "duration": 20,
    "start_time": "2023-04-27T09:04:18.333Z"
   },
   {
    "duration": 13,
    "start_time": "2023-04-27T09:04:18.355Z"
   },
   {
    "duration": 11,
    "start_time": "2023-04-27T09:04:18.370Z"
   },
   {
    "duration": 11,
    "start_time": "2023-04-27T09:04:18.383Z"
   },
   {
    "duration": 12,
    "start_time": "2023-04-27T09:04:18.396Z"
   },
   {
    "duration": 5,
    "start_time": "2023-04-27T09:04:18.410Z"
   },
   {
    "duration": 14,
    "start_time": "2023-04-27T09:04:18.416Z"
   },
   {
    "duration": 25,
    "start_time": "2023-04-27T09:04:18.432Z"
   },
   {
    "duration": 122,
    "start_time": "2023-04-27T09:04:18.459Z"
   },
   {
    "duration": 0,
    "start_time": "2023-04-27T09:04:18.583Z"
   },
   {
    "duration": 0,
    "start_time": "2023-04-27T09:04:18.584Z"
   },
   {
    "duration": 0,
    "start_time": "2023-04-27T09:04:18.586Z"
   },
   {
    "duration": 0,
    "start_time": "2023-04-27T09:04:18.587Z"
   },
   {
    "duration": 0,
    "start_time": "2023-04-27T09:04:18.589Z"
   },
   {
    "duration": 0,
    "start_time": "2023-04-27T09:04:18.591Z"
   },
   {
    "duration": 0,
    "start_time": "2023-04-27T09:04:18.592Z"
   },
   {
    "duration": 0,
    "start_time": "2023-04-27T09:04:18.594Z"
   },
   {
    "duration": 0,
    "start_time": "2023-04-27T09:04:18.595Z"
   },
   {
    "duration": 0,
    "start_time": "2023-04-27T09:04:18.597Z"
   },
   {
    "duration": 0,
    "start_time": "2023-04-27T09:04:18.598Z"
   },
   {
    "duration": 0,
    "start_time": "2023-04-27T09:04:18.599Z"
   },
   {
    "duration": 0,
    "start_time": "2023-04-27T09:04:18.600Z"
   },
   {
    "duration": 0,
    "start_time": "2023-04-27T09:04:18.601Z"
   },
   {
    "duration": 0,
    "start_time": "2023-04-27T09:04:18.602Z"
   },
   {
    "duration": 0,
    "start_time": "2023-04-27T09:04:18.602Z"
   },
   {
    "duration": 0,
    "start_time": "2023-04-27T09:04:18.603Z"
   },
   {
    "duration": 0,
    "start_time": "2023-04-27T09:04:18.605Z"
   },
   {
    "duration": 0,
    "start_time": "2023-04-27T09:04:18.606Z"
   },
   {
    "duration": 0,
    "start_time": "2023-04-27T09:04:18.607Z"
   },
   {
    "duration": 0,
    "start_time": "2023-04-27T09:04:18.608Z"
   },
   {
    "duration": 0,
    "start_time": "2023-04-27T09:04:18.609Z"
   },
   {
    "duration": 0,
    "start_time": "2023-04-27T09:04:18.612Z"
   },
   {
    "duration": 0,
    "start_time": "2023-04-27T09:04:18.656Z"
   },
   {
    "duration": 0,
    "start_time": "2023-04-27T09:04:18.657Z"
   },
   {
    "duration": 0,
    "start_time": "2023-04-27T09:04:18.659Z"
   },
   {
    "duration": 0,
    "start_time": "2023-04-27T09:04:18.660Z"
   },
   {
    "duration": 1,
    "start_time": "2023-04-27T09:04:18.661Z"
   },
   {
    "duration": 0,
    "start_time": "2023-04-27T09:04:18.663Z"
   },
   {
    "duration": 8,
    "start_time": "2023-04-27T09:05:06.200Z"
   },
   {
    "duration": 10,
    "start_time": "2023-04-27T09:05:10.551Z"
   },
   {
    "duration": 9,
    "start_time": "2023-04-27T09:05:11.450Z"
   },
   {
    "duration": 26,
    "start_time": "2023-04-27T09:05:34.650Z"
   },
   {
    "duration": 1099,
    "start_time": "2023-04-27T09:05:50.432Z"
   },
   {
    "duration": 78,
    "start_time": "2023-04-27T09:05:51.533Z"
   },
   {
    "duration": 21,
    "start_time": "2023-04-27T09:05:51.613Z"
   },
   {
    "duration": 8,
    "start_time": "2023-04-27T09:05:51.636Z"
   },
   {
    "duration": 17,
    "start_time": "2023-04-27T09:05:51.646Z"
   },
   {
    "duration": 15,
    "start_time": "2023-04-27T09:05:51.664Z"
   },
   {
    "duration": 9,
    "start_time": "2023-04-27T09:05:51.681Z"
   },
   {
    "duration": 5,
    "start_time": "2023-04-27T09:05:51.691Z"
   },
   {
    "duration": 11,
    "start_time": "2023-04-27T09:05:51.697Z"
   },
   {
    "duration": 7,
    "start_time": "2023-04-27T09:05:51.710Z"
   },
   {
    "duration": 38,
    "start_time": "2023-04-27T09:05:51.719Z"
   },
   {
    "duration": 14,
    "start_time": "2023-04-27T09:05:51.758Z"
   },
   {
    "duration": 122,
    "start_time": "2023-04-27T09:05:51.774Z"
   },
   {
    "duration": 0,
    "start_time": "2023-04-27T09:05:51.899Z"
   },
   {
    "duration": 0,
    "start_time": "2023-04-27T09:05:51.901Z"
   },
   {
    "duration": 0,
    "start_time": "2023-04-27T09:05:51.902Z"
   },
   {
    "duration": 0,
    "start_time": "2023-04-27T09:05:51.904Z"
   },
   {
    "duration": 0,
    "start_time": "2023-04-27T09:05:51.905Z"
   },
   {
    "duration": 0,
    "start_time": "2023-04-27T09:05:51.906Z"
   },
   {
    "duration": 0,
    "start_time": "2023-04-27T09:05:51.907Z"
   },
   {
    "duration": 0,
    "start_time": "2023-04-27T09:05:51.909Z"
   },
   {
    "duration": 0,
    "start_time": "2023-04-27T09:05:51.910Z"
   },
   {
    "duration": 0,
    "start_time": "2023-04-27T09:05:51.912Z"
   },
   {
    "duration": 0,
    "start_time": "2023-04-27T09:05:51.913Z"
   },
   {
    "duration": 0,
    "start_time": "2023-04-27T09:05:51.914Z"
   },
   {
    "duration": 0,
    "start_time": "2023-04-27T09:05:51.916Z"
   },
   {
    "duration": 0,
    "start_time": "2023-04-27T09:05:51.917Z"
   },
   {
    "duration": 0,
    "start_time": "2023-04-27T09:05:51.918Z"
   },
   {
    "duration": 0,
    "start_time": "2023-04-27T09:05:51.919Z"
   },
   {
    "duration": 0,
    "start_time": "2023-04-27T09:05:51.956Z"
   },
   {
    "duration": 0,
    "start_time": "2023-04-27T09:05:51.957Z"
   },
   {
    "duration": 0,
    "start_time": "2023-04-27T09:05:51.959Z"
   },
   {
    "duration": 0,
    "start_time": "2023-04-27T09:05:51.960Z"
   },
   {
    "duration": 1,
    "start_time": "2023-04-27T09:05:51.961Z"
   },
   {
    "duration": 0,
    "start_time": "2023-04-27T09:05:51.963Z"
   },
   {
    "duration": 0,
    "start_time": "2023-04-27T09:05:51.964Z"
   },
   {
    "duration": 0,
    "start_time": "2023-04-27T09:05:51.966Z"
   },
   {
    "duration": 0,
    "start_time": "2023-04-27T09:05:51.967Z"
   },
   {
    "duration": 0,
    "start_time": "2023-04-27T09:05:51.969Z"
   },
   {
    "duration": 0,
    "start_time": "2023-04-27T09:05:51.970Z"
   },
   {
    "duration": 0,
    "start_time": "2023-04-27T09:05:51.971Z"
   },
   {
    "duration": 13,
    "start_time": "2023-04-27T09:13:06.683Z"
   },
   {
    "duration": 51,
    "start_time": "2023-04-27T09:14:34.144Z"
   },
   {
    "duration": 5,
    "start_time": "2023-04-27T10:13:21.874Z"
   },
   {
    "duration": 6,
    "start_time": "2023-04-27T10:13:50.871Z"
   },
   {
    "duration": 15,
    "start_time": "2023-04-27T10:14:16.109Z"
   },
   {
    "duration": 13,
    "start_time": "2023-04-27T10:14:40.116Z"
   },
   {
    "duration": 13,
    "start_time": "2023-04-27T10:14:51.105Z"
   },
   {
    "duration": 1097,
    "start_time": "2023-04-27T10:17:45.917Z"
   },
   {
    "duration": 82,
    "start_time": "2023-04-27T10:17:47.017Z"
   },
   {
    "duration": 28,
    "start_time": "2023-04-27T10:17:47.101Z"
   },
   {
    "duration": 9,
    "start_time": "2023-04-27T10:17:47.132Z"
   },
   {
    "duration": 21,
    "start_time": "2023-04-27T10:17:47.142Z"
   },
   {
    "duration": 16,
    "start_time": "2023-04-27T10:17:47.167Z"
   },
   {
    "duration": 15,
    "start_time": "2023-04-27T10:17:47.184Z"
   },
   {
    "duration": 10,
    "start_time": "2023-04-27T10:17:47.201Z"
   },
   {
    "duration": 10,
    "start_time": "2023-04-27T10:17:47.212Z"
   },
   {
    "duration": 5,
    "start_time": "2023-04-27T10:17:47.225Z"
   },
   {
    "duration": 28,
    "start_time": "2023-04-27T10:17:47.232Z"
   },
   {
    "duration": 9,
    "start_time": "2023-04-27T10:17:47.262Z"
   },
   {
    "duration": 14,
    "start_time": "2023-04-27T10:17:47.273Z"
   },
   {
    "duration": 7,
    "start_time": "2023-04-27T10:17:47.289Z"
   },
   {
    "duration": 14,
    "start_time": "2023-04-27T10:17:47.298Z"
   },
   {
    "duration": 13,
    "start_time": "2023-04-27T10:17:47.357Z"
   },
   {
    "duration": 18,
    "start_time": "2023-04-27T10:17:47.372Z"
   },
   {
    "duration": 359,
    "start_time": "2023-04-27T10:17:47.392Z"
   },
   {
    "duration": 6,
    "start_time": "2023-04-27T10:17:47.755Z"
   },
   {
    "duration": 309,
    "start_time": "2023-04-27T10:17:47.762Z"
   },
   {
    "duration": 221,
    "start_time": "2023-04-27T10:17:48.074Z"
   },
   {
    "duration": 321,
    "start_time": "2023-04-27T10:17:48.298Z"
   },
   {
    "duration": 17,
    "start_time": "2023-04-27T10:17:48.621Z"
   },
   {
    "duration": 288,
    "start_time": "2023-04-27T10:17:48.640Z"
   },
   {
    "duration": 14,
    "start_time": "2023-04-27T10:17:48.930Z"
   },
   {
    "duration": 342,
    "start_time": "2023-04-27T10:17:48.956Z"
   },
   {
    "duration": 9,
    "start_time": "2023-04-27T10:17:49.299Z"
   },
   {
    "duration": 174,
    "start_time": "2023-04-27T10:17:49.311Z"
   },
   {
    "duration": 6,
    "start_time": "2023-04-27T10:17:49.486Z"
   },
   {
    "duration": 503,
    "start_time": "2023-04-27T10:17:49.495Z"
   },
   {
    "duration": 4,
    "start_time": "2023-04-27T10:17:50.000Z"
   },
   {
    "duration": 326,
    "start_time": "2023-04-27T10:17:50.056Z"
   },
   {
    "duration": 5,
    "start_time": "2023-04-27T10:17:50.384Z"
   },
   {
    "duration": 475,
    "start_time": "2023-04-27T10:17:50.391Z"
   },
   {
    "duration": 22,
    "start_time": "2023-04-27T10:17:50.868Z"
   },
   {
    "duration": 68,
    "start_time": "2023-04-27T10:17:50.892Z"
   },
   {
    "duration": 20,
    "start_time": "2023-04-27T10:17:50.962Z"
   },
   {
    "duration": 19,
    "start_time": "2023-04-27T10:17:50.984Z"
   },
   {
    "duration": 18,
    "start_time": "2023-04-27T10:17:51.005Z"
   },
   {
    "duration": 4,
    "start_time": "2023-04-27T10:17:51.056Z"
   },
   {
    "duration": 9,
    "start_time": "2023-04-27T10:17:51.062Z"
   },
   {
    "duration": 20,
    "start_time": "2023-04-27T10:17:51.073Z"
   },
   {
    "duration": 69,
    "start_time": "2023-04-27T10:17:51.095Z"
   },
   {
    "duration": 1365,
    "start_time": "2023-04-27T16:53:30.204Z"
   },
   {
    "duration": 85,
    "start_time": "2023-04-27T16:53:31.571Z"
   },
   {
    "duration": 38,
    "start_time": "2023-04-27T16:53:31.658Z"
   },
   {
    "duration": 12,
    "start_time": "2023-04-27T16:53:31.699Z"
   },
   {
    "duration": 57,
    "start_time": "2023-04-27T16:53:31.714Z"
   },
   {
    "duration": 58,
    "start_time": "2023-04-27T16:53:31.773Z"
   },
   {
    "duration": 54,
    "start_time": "2023-04-27T16:53:31.833Z"
   },
   {
    "duration": 48,
    "start_time": "2023-04-27T16:53:31.889Z"
   },
   {
    "duration": 55,
    "start_time": "2023-04-27T16:53:31.940Z"
   },
   {
    "duration": 45,
    "start_time": "2023-04-27T16:53:31.997Z"
   },
   {
    "duration": 34,
    "start_time": "2023-04-27T16:53:32.043Z"
   },
   {
    "duration": 29,
    "start_time": "2023-04-27T16:53:32.079Z"
   },
   {
    "duration": 22,
    "start_time": "2023-04-27T16:53:32.110Z"
   },
   {
    "duration": 28,
    "start_time": "2023-04-27T16:53:32.136Z"
   },
   {
    "duration": 23,
    "start_time": "2023-04-27T16:53:32.166Z"
   },
   {
    "duration": 31,
    "start_time": "2023-04-27T16:53:32.192Z"
   },
   {
    "duration": 41,
    "start_time": "2023-04-27T16:53:32.226Z"
   },
   {
    "duration": 393,
    "start_time": "2023-04-27T16:53:32.269Z"
   },
   {
    "duration": 6,
    "start_time": "2023-04-27T16:53:32.664Z"
   },
   {
    "duration": 688,
    "start_time": "2023-04-27T16:53:32.672Z"
   },
   {
    "duration": 482,
    "start_time": "2023-04-27T16:53:33.362Z"
   },
   {
    "duration": 521,
    "start_time": "2023-04-27T16:53:33.846Z"
   },
   {
    "duration": 74,
    "start_time": "2023-04-27T16:53:34.369Z"
   },
   {
    "duration": 512,
    "start_time": "2023-04-27T16:53:34.445Z"
   },
   {
    "duration": 15,
    "start_time": "2023-04-27T16:53:34.959Z"
   },
   {
    "duration": 395,
    "start_time": "2023-04-27T16:53:34.976Z"
   },
   {
    "duration": 11,
    "start_time": "2023-04-27T16:53:35.374Z"
   },
   {
    "duration": 174,
    "start_time": "2023-04-27T16:53:35.387Z"
   },
   {
    "duration": 6,
    "start_time": "2023-04-27T16:53:35.563Z"
   },
   {
    "duration": 199,
    "start_time": "2023-04-27T16:53:35.571Z"
   },
   {
    "duration": 5,
    "start_time": "2023-04-27T16:53:35.772Z"
   },
   {
    "duration": 258,
    "start_time": "2023-04-27T16:53:35.779Z"
   },
   {
    "duration": 8,
    "start_time": "2023-04-27T16:53:36.040Z"
   },
   {
    "duration": 279,
    "start_time": "2023-04-27T16:53:36.050Z"
   },
   {
    "duration": 29,
    "start_time": "2023-04-27T16:53:36.331Z"
   },
   {
    "duration": 14,
    "start_time": "2023-04-27T16:53:36.362Z"
   },
   {
    "duration": 9,
    "start_time": "2023-04-27T16:53:36.378Z"
   },
   {
    "duration": 11,
    "start_time": "2023-04-27T16:53:36.389Z"
   },
   {
    "duration": 41,
    "start_time": "2023-04-27T16:53:36.401Z"
   },
   {
    "duration": 13,
    "start_time": "2023-04-27T16:53:36.444Z"
   },
   {
    "duration": 20,
    "start_time": "2023-04-27T16:53:36.461Z"
   },
   {
    "duration": 33,
    "start_time": "2023-04-27T16:53:36.483Z"
   },
   {
    "duration": 34,
    "start_time": "2023-04-27T16:53:36.518Z"
   },
   {
    "duration": 9,
    "start_time": "2023-04-27T16:53:59.501Z"
   },
   {
    "duration": 10,
    "start_time": "2023-04-27T16:54:34.588Z"
   },
   {
    "duration": 11,
    "start_time": "2023-04-27T16:54:43.083Z"
   },
   {
    "duration": 7,
    "start_time": "2023-04-27T16:55:16.091Z"
   },
   {
    "duration": 16,
    "start_time": "2023-04-27T16:55:17.490Z"
   },
   {
    "duration": 1192,
    "start_time": "2023-04-27T16:55:47.382Z"
   },
   {
    "duration": 83,
    "start_time": "2023-04-27T16:55:48.576Z"
   },
   {
    "duration": 25,
    "start_time": "2023-04-27T16:55:48.661Z"
   },
   {
    "duration": 10,
    "start_time": "2023-04-27T16:55:48.687Z"
   },
   {
    "duration": 19,
    "start_time": "2023-04-27T16:55:48.700Z"
   },
   {
    "duration": 35,
    "start_time": "2023-04-27T16:55:48.721Z"
   },
   {
    "duration": 13,
    "start_time": "2023-04-27T16:55:48.758Z"
   },
   {
    "duration": 11,
    "start_time": "2023-04-27T16:55:48.773Z"
   },
   {
    "duration": 17,
    "start_time": "2023-04-27T16:55:48.786Z"
   },
   {
    "duration": 8,
    "start_time": "2023-04-27T16:55:48.805Z"
   },
   {
    "duration": 31,
    "start_time": "2023-04-27T16:55:48.816Z"
   },
   {
    "duration": 10,
    "start_time": "2023-04-27T16:55:48.850Z"
   },
   {
    "duration": 15,
    "start_time": "2023-04-27T16:55:48.862Z"
   },
   {
    "duration": 14,
    "start_time": "2023-04-27T16:55:48.881Z"
   },
   {
    "duration": 16,
    "start_time": "2023-04-27T16:55:48.897Z"
   },
   {
    "duration": 9,
    "start_time": "2023-04-27T16:55:48.940Z"
   },
   {
    "duration": 17,
    "start_time": "2023-04-27T16:55:48.951Z"
   },
   {
    "duration": 16,
    "start_time": "2023-04-27T16:55:48.970Z"
   },
   {
    "duration": 346,
    "start_time": "2023-04-27T16:55:48.988Z"
   },
   {
    "duration": 9,
    "start_time": "2023-04-27T16:55:49.336Z"
   },
   {
    "duration": 325,
    "start_time": "2023-04-27T16:55:49.347Z"
   },
   {
    "duration": 296,
    "start_time": "2023-04-27T16:55:49.675Z"
   },
   {
    "duration": 572,
    "start_time": "2023-04-27T16:55:49.973Z"
   },
   {
    "duration": 19,
    "start_time": "2023-04-27T16:55:50.547Z"
   },
   {
    "duration": 497,
    "start_time": "2023-04-27T16:55:50.568Z"
   },
   {
    "duration": 14,
    "start_time": "2023-04-27T16:55:51.067Z"
   },
   {
    "duration": 564,
    "start_time": "2023-04-27T16:55:51.083Z"
   },
   {
    "duration": 13,
    "start_time": "2023-04-27T16:55:51.649Z"
   },
   {
    "duration": 324,
    "start_time": "2023-04-27T16:55:51.664Z"
   },
   {
    "duration": 7,
    "start_time": "2023-04-27T16:55:52.042Z"
   },
   {
    "duration": 216,
    "start_time": "2023-04-27T16:55:52.051Z"
   },
   {
    "duration": 5,
    "start_time": "2023-04-27T16:55:52.269Z"
   },
   {
    "duration": 184,
    "start_time": "2023-04-27T16:55:52.276Z"
   },
   {
    "duration": 6,
    "start_time": "2023-04-27T16:55:52.462Z"
   },
   {
    "duration": 260,
    "start_time": "2023-04-27T16:55:52.470Z"
   },
   {
    "duration": 32,
    "start_time": "2023-04-27T16:55:52.732Z"
   },
   {
    "duration": 17,
    "start_time": "2023-04-27T16:55:52.766Z"
   },
   {
    "duration": 23,
    "start_time": "2023-04-27T16:55:52.786Z"
   },
   {
    "duration": 32,
    "start_time": "2023-04-27T16:55:52.811Z"
   },
   {
    "duration": 18,
    "start_time": "2023-04-27T16:55:52.846Z"
   },
   {
    "duration": 7,
    "start_time": "2023-04-27T16:55:52.869Z"
   },
   {
    "duration": 14,
    "start_time": "2023-04-27T16:55:52.878Z"
   },
   {
    "duration": 25,
    "start_time": "2023-04-27T16:55:52.893Z"
   },
   {
    "duration": 37,
    "start_time": "2023-04-27T16:55:52.919Z"
   },
   {
    "duration": 11,
    "start_time": "2023-04-27T16:56:11.673Z"
   },
   {
    "duration": 11,
    "start_time": "2023-04-27T16:56:31.586Z"
   },
   {
    "duration": 75,
    "start_time": "2023-04-27T16:59:49.026Z"
   },
   {
    "duration": 6,
    "start_time": "2023-04-27T17:00:02.924Z"
   },
   {
    "duration": 9,
    "start_time": "2023-04-27T17:00:12.690Z"
   },
   {
    "duration": 127,
    "start_time": "2023-04-27T17:02:36.415Z"
   },
   {
    "duration": 4,
    "start_time": "2023-04-27T17:03:21.975Z"
   },
   {
    "duration": 7,
    "start_time": "2023-04-27T17:03:58.309Z"
   },
   {
    "duration": 56,
    "start_time": "2023-04-27T19:44:57.137Z"
   },
   {
    "duration": 1409,
    "start_time": "2023-04-27T19:45:05.927Z"
   },
   {
    "duration": 255,
    "start_time": "2023-04-27T19:45:07.338Z"
   },
   {
    "duration": 23,
    "start_time": "2023-04-27T19:45:07.595Z"
   },
   {
    "duration": 21,
    "start_time": "2023-04-27T19:45:07.620Z"
   },
   {
    "duration": 29,
    "start_time": "2023-04-27T19:45:07.643Z"
   },
   {
    "duration": 39,
    "start_time": "2023-04-27T19:45:07.673Z"
   },
   {
    "duration": 20,
    "start_time": "2023-04-27T19:45:07.713Z"
   },
   {
    "duration": 11,
    "start_time": "2023-04-27T19:45:07.735Z"
   },
   {
    "duration": 17,
    "start_time": "2023-04-27T19:45:07.748Z"
   },
   {
    "duration": 17,
    "start_time": "2023-04-27T19:45:07.768Z"
   },
   {
    "duration": 18,
    "start_time": "2023-04-27T19:45:07.787Z"
   },
   {
    "duration": 14,
    "start_time": "2023-04-27T19:45:07.807Z"
   },
   {
    "duration": 26,
    "start_time": "2023-04-27T19:45:07.830Z"
   },
   {
    "duration": 20,
    "start_time": "2023-04-27T19:45:07.858Z"
   },
   {
    "duration": 22,
    "start_time": "2023-04-27T19:45:07.880Z"
   },
   {
    "duration": 17,
    "start_time": "2023-04-27T19:45:07.904Z"
   },
   {
    "duration": 24,
    "start_time": "2023-04-27T19:45:07.925Z"
   },
   {
    "duration": 16,
    "start_time": "2023-04-27T19:45:07.950Z"
   },
   {
    "duration": 668,
    "start_time": "2023-04-27T19:45:07.968Z"
   },
   {
    "duration": 4,
    "start_time": "2023-04-27T19:45:08.638Z"
   },
   {
    "duration": 702,
    "start_time": "2023-04-27T19:45:08.644Z"
   },
   {
    "duration": 491,
    "start_time": "2023-04-27T19:45:09.348Z"
   },
   {
    "duration": 493,
    "start_time": "2023-04-27T19:45:09.843Z"
   },
   {
    "duration": 17,
    "start_time": "2023-04-27T19:45:10.338Z"
   },
   {
    "duration": 253,
    "start_time": "2023-04-27T19:45:10.356Z"
   },
   {
    "duration": 19,
    "start_time": "2023-04-27T19:45:10.617Z"
   },
   {
    "duration": 325,
    "start_time": "2023-04-27T19:45:10.638Z"
   },
   {
    "duration": 10,
    "start_time": "2023-04-27T19:45:10.966Z"
   },
   {
    "duration": 167,
    "start_time": "2023-04-27T19:45:10.978Z"
   },
   {
    "duration": 5,
    "start_time": "2023-04-27T19:45:11.147Z"
   },
   {
    "duration": 191,
    "start_time": "2023-04-27T19:45:11.154Z"
   },
   {
    "duration": 4,
    "start_time": "2023-04-27T19:45:11.347Z"
   },
   {
    "duration": 184,
    "start_time": "2023-04-27T19:45:11.353Z"
   },
   {
    "duration": 5,
    "start_time": "2023-04-27T19:45:11.539Z"
   },
   {
    "duration": 226,
    "start_time": "2023-04-27T19:45:11.546Z"
   },
   {
    "duration": 26,
    "start_time": "2023-04-27T19:45:11.774Z"
   },
   {
    "duration": 35,
    "start_time": "2023-04-27T19:45:11.802Z"
   },
   {
    "duration": 21,
    "start_time": "2023-04-27T19:45:11.839Z"
   },
   {
    "duration": 25,
    "start_time": "2023-04-27T19:45:11.862Z"
   },
   {
    "duration": 14,
    "start_time": "2023-04-27T19:45:11.889Z"
   },
   {
    "duration": 39,
    "start_time": "2023-04-27T19:45:11.904Z"
   },
   {
    "duration": 19,
    "start_time": "2023-04-27T19:45:11.946Z"
   },
   {
    "duration": 45,
    "start_time": "2023-04-27T19:45:11.968Z"
   },
   {
    "duration": 18,
    "start_time": "2023-04-27T19:45:12.015Z"
   },
   {
    "duration": 93,
    "start_time": "2023-04-27T19:55:24.348Z"
   },
   {
    "duration": 15,
    "start_time": "2023-04-27T19:56:30.111Z"
   },
   {
    "duration": 4,
    "start_time": "2023-04-27T19:58:45.481Z"
   },
   {
    "duration": 24,
    "start_time": "2023-04-27T19:58:50.132Z"
   },
   {
    "duration": 16,
    "start_time": "2023-04-27T19:58:51.847Z"
   },
   {
    "duration": 27,
    "start_time": "2023-04-27T19:59:14.497Z"
   },
   {
    "duration": 8,
    "start_time": "2023-04-27T19:59:31.548Z"
   },
   {
    "duration": 31,
    "start_time": "2023-04-27T19:59:36.196Z"
   },
   {
    "duration": 14,
    "start_time": "2023-04-27T19:59:37.275Z"
   },
   {
    "duration": 8,
    "start_time": "2023-04-27T19:59:49.681Z"
   },
   {
    "duration": 8,
    "start_time": "2023-04-27T19:59:50.432Z"
   },
   {
    "duration": 3,
    "start_time": "2023-04-27T19:59:51.578Z"
   },
   {
    "duration": 30,
    "start_time": "2023-04-27T19:59:54.716Z"
   },
   {
    "duration": 16,
    "start_time": "2023-04-27T19:59:57.007Z"
   },
   {
    "duration": 10,
    "start_time": "2023-04-27T20:00:56.315Z"
   },
   {
    "duration": 24,
    "start_time": "2023-04-27T20:01:16.982Z"
   },
   {
    "duration": 13,
    "start_time": "2023-04-27T20:01:18.249Z"
   },
   {
    "duration": 1234,
    "start_time": "2023-04-27T20:02:59.701Z"
   },
   {
    "duration": 76,
    "start_time": "2023-04-27T20:03:00.938Z"
   },
   {
    "duration": 27,
    "start_time": "2023-04-27T20:03:01.016Z"
   },
   {
    "duration": 15,
    "start_time": "2023-04-27T20:03:01.045Z"
   },
   {
    "duration": 40,
    "start_time": "2023-04-27T20:03:01.062Z"
   },
   {
    "duration": 53,
    "start_time": "2023-04-27T20:03:01.104Z"
   },
   {
    "duration": 34,
    "start_time": "2023-04-27T20:03:01.159Z"
   },
   {
    "duration": 56,
    "start_time": "2023-04-27T20:03:01.194Z"
   },
   {
    "duration": 52,
    "start_time": "2023-04-27T20:03:01.252Z"
   },
   {
    "duration": 64,
    "start_time": "2023-04-27T20:03:01.306Z"
   },
   {
    "duration": 35,
    "start_time": "2023-04-27T20:03:01.372Z"
   },
   {
    "duration": 44,
    "start_time": "2023-04-27T20:03:01.408Z"
   },
   {
    "duration": 54,
    "start_time": "2023-04-27T20:03:01.454Z"
   },
   {
    "duration": 42,
    "start_time": "2023-04-27T20:03:01.512Z"
   },
   {
    "duration": 42,
    "start_time": "2023-04-27T20:03:01.556Z"
   },
   {
    "duration": 19,
    "start_time": "2023-04-27T20:03:01.600Z"
   },
   {
    "duration": 63,
    "start_time": "2023-04-27T20:03:01.621Z"
   },
   {
    "duration": 46,
    "start_time": "2023-04-27T20:03:01.686Z"
   },
   {
    "duration": 350,
    "start_time": "2023-04-27T20:03:01.734Z"
   },
   {
    "duration": 4,
    "start_time": "2023-04-27T20:03:02.086Z"
   },
   {
    "duration": 346,
    "start_time": "2023-04-27T20:03:02.091Z"
   },
   {
    "duration": 237,
    "start_time": "2023-04-27T20:03:02.439Z"
   },
   {
    "duration": 316,
    "start_time": "2023-04-27T20:03:02.678Z"
   },
   {
    "duration": 34,
    "start_time": "2023-04-27T20:03:02.996Z"
   },
   {
    "duration": 224,
    "start_time": "2023-04-27T20:03:03.031Z"
   },
   {
    "duration": 12,
    "start_time": "2023-04-27T20:03:03.257Z"
   },
   {
    "duration": 349,
    "start_time": "2023-04-27T20:03:03.271Z"
   },
   {
    "duration": 10,
    "start_time": "2023-04-27T20:03:03.631Z"
   },
   {
    "duration": 125,
    "start_time": "2023-04-27T20:03:03.642Z"
   },
   {
    "duration": 4,
    "start_time": "2023-04-27T20:03:03.769Z"
   },
   {
    "duration": 173,
    "start_time": "2023-04-27T20:03:03.774Z"
   },
   {
    "duration": 4,
    "start_time": "2023-04-27T20:03:03.949Z"
   },
   {
    "duration": 181,
    "start_time": "2023-04-27T20:03:03.955Z"
   },
   {
    "duration": 4,
    "start_time": "2023-04-27T20:03:04.138Z"
   },
   {
    "duration": 235,
    "start_time": "2023-04-27T20:03:04.144Z"
   },
   {
    "duration": 26,
    "start_time": "2023-04-27T20:03:04.380Z"
   },
   {
    "duration": 22,
    "start_time": "2023-04-27T20:03:04.407Z"
   },
   {
    "duration": 11,
    "start_time": "2023-04-27T20:03:04.431Z"
   },
   {
    "duration": 9,
    "start_time": "2023-04-27T20:03:04.444Z"
   },
   {
    "duration": 17,
    "start_time": "2023-04-27T20:03:04.455Z"
   },
   {
    "duration": 5,
    "start_time": "2023-04-27T20:03:04.476Z"
   },
   {
    "duration": 16,
    "start_time": "2023-04-27T20:03:04.483Z"
   },
   {
    "duration": 41,
    "start_time": "2023-04-27T20:03:04.501Z"
   },
   {
    "duration": 14,
    "start_time": "2023-04-27T20:03:04.544Z"
   },
   {
    "duration": 11,
    "start_time": "2023-04-27T20:21:32.279Z"
   },
   {
    "duration": 98,
    "start_time": "2023-04-27T20:22:04.774Z"
   },
   {
    "duration": 10,
    "start_time": "2023-04-27T20:22:22.140Z"
   },
   {
    "duration": 8,
    "start_time": "2023-04-27T20:23:17.837Z"
   },
   {
    "duration": 1172,
    "start_time": "2023-04-27T20:23:36.432Z"
   },
   {
    "duration": 84,
    "start_time": "2023-04-27T20:23:37.606Z"
   },
   {
    "duration": 22,
    "start_time": "2023-04-27T20:23:37.692Z"
   },
   {
    "duration": 24,
    "start_time": "2023-04-27T20:23:37.716Z"
   },
   {
    "duration": 28,
    "start_time": "2023-04-27T20:23:37.742Z"
   },
   {
    "duration": 29,
    "start_time": "2023-04-27T20:23:37.772Z"
   },
   {
    "duration": 36,
    "start_time": "2023-04-27T20:23:37.803Z"
   },
   {
    "duration": 11,
    "start_time": "2023-04-27T20:23:37.841Z"
   },
   {
    "duration": 16,
    "start_time": "2023-04-27T20:23:37.854Z"
   },
   {
    "duration": 21,
    "start_time": "2023-04-27T20:23:37.873Z"
   },
   {
    "duration": 34,
    "start_time": "2023-04-27T20:23:37.895Z"
   },
   {
    "duration": 19,
    "start_time": "2023-04-27T20:23:37.931Z"
   },
   {
    "duration": 55,
    "start_time": "2023-04-27T20:23:37.952Z"
   },
   {
    "duration": 32,
    "start_time": "2023-04-27T20:23:38.009Z"
   },
   {
    "duration": 33,
    "start_time": "2023-04-27T20:23:38.043Z"
   },
   {
    "duration": 34,
    "start_time": "2023-04-27T20:23:38.078Z"
   },
   {
    "duration": 343,
    "start_time": "2023-04-27T20:23:38.114Z"
   },
   {
    "duration": 4,
    "start_time": "2023-04-27T20:23:38.460Z"
   },
   {
    "duration": 561,
    "start_time": "2023-04-27T20:23:38.465Z"
   },
   {
    "duration": 434,
    "start_time": "2023-04-27T20:23:39.027Z"
   },
   {
    "duration": 575,
    "start_time": "2023-04-27T20:23:39.462Z"
   },
   {
    "duration": 86,
    "start_time": "2023-04-27T20:23:40.039Z"
   },
   {
    "duration": 516,
    "start_time": "2023-04-27T20:23:40.127Z"
   },
   {
    "duration": 12,
    "start_time": "2023-04-27T20:23:40.645Z"
   },
   {
    "duration": 409,
    "start_time": "2023-04-27T20:23:40.659Z"
   },
   {
    "duration": 9,
    "start_time": "2023-04-27T20:23:41.070Z"
   },
   {
    "duration": 159,
    "start_time": "2023-04-27T20:23:41.081Z"
   },
   {
    "duration": 5,
    "start_time": "2023-04-27T20:23:41.243Z"
   },
   {
    "duration": 189,
    "start_time": "2023-04-27T20:23:41.249Z"
   },
   {
    "duration": 4,
    "start_time": "2023-04-27T20:23:41.440Z"
   },
   {
    "duration": 187,
    "start_time": "2023-04-27T20:23:41.446Z"
   },
   {
    "duration": 5,
    "start_time": "2023-04-27T20:23:41.635Z"
   },
   {
    "duration": 281,
    "start_time": "2023-04-27T20:23:41.642Z"
   },
   {
    "duration": 35,
    "start_time": "2023-04-27T20:23:41.937Z"
   },
   {
    "duration": 18,
    "start_time": "2023-04-27T20:23:41.974Z"
   },
   {
    "duration": 34,
    "start_time": "2023-04-27T20:23:41.993Z"
   },
   {
    "duration": 13,
    "start_time": "2023-04-27T20:23:42.032Z"
   },
   {
    "duration": 34,
    "start_time": "2023-04-27T20:23:42.047Z"
   },
   {
    "duration": 15,
    "start_time": "2023-04-27T20:23:42.083Z"
   },
   {
    "duration": 27,
    "start_time": "2023-04-27T20:23:42.099Z"
   },
   {
    "duration": 53,
    "start_time": "2023-04-27T20:23:42.128Z"
   },
   {
    "duration": 69,
    "start_time": "2023-04-27T20:23:42.182Z"
   },
   {
    "duration": 15,
    "start_time": "2023-04-27T20:25:13.458Z"
   },
   {
    "duration": 25,
    "start_time": "2023-04-27T20:27:29.888Z"
   },
   {
    "duration": 100,
    "start_time": "2023-04-27T20:27:31.307Z"
   },
   {
    "duration": 11,
    "start_time": "2023-04-27T20:27:41.176Z"
   },
   {
    "duration": 9,
    "start_time": "2023-04-27T20:27:42.628Z"
   },
   {
    "duration": 1131,
    "start_time": "2023-04-28T07:06:41.533Z"
   },
   {
    "duration": 197,
    "start_time": "2023-04-28T07:06:42.666Z"
   },
   {
    "duration": 22,
    "start_time": "2023-04-28T07:06:42.866Z"
   },
   {
    "duration": 9,
    "start_time": "2023-04-28T07:06:42.890Z"
   },
   {
    "duration": 21,
    "start_time": "2023-04-28T07:06:42.901Z"
   },
   {
    "duration": 19,
    "start_time": "2023-04-28T07:06:42.924Z"
   },
   {
    "duration": 10,
    "start_time": "2023-04-28T07:06:42.945Z"
   },
   {
    "duration": 6,
    "start_time": "2023-04-28T07:06:42.957Z"
   },
   {
    "duration": 11,
    "start_time": "2023-04-28T07:06:42.965Z"
   },
   {
    "duration": 31,
    "start_time": "2023-04-28T07:06:42.980Z"
   },
   {
    "duration": 11,
    "start_time": "2023-04-28T07:06:43.013Z"
   },
   {
    "duration": 10,
    "start_time": "2023-04-28T07:06:43.026Z"
   },
   {
    "duration": 15,
    "start_time": "2023-04-28T07:06:43.037Z"
   },
   {
    "duration": 24,
    "start_time": "2023-04-28T07:06:43.054Z"
   },
   {
    "duration": 41,
    "start_time": "2023-04-28T07:06:43.080Z"
   },
   {
    "duration": 13,
    "start_time": "2023-04-28T07:06:43.122Z"
   },
   {
    "duration": 313,
    "start_time": "2023-04-28T07:06:43.137Z"
   },
   {
    "duration": 4,
    "start_time": "2023-04-28T07:06:43.452Z"
   },
   {
    "duration": 328,
    "start_time": "2023-04-28T07:06:43.458Z"
   },
   {
    "duration": 234,
    "start_time": "2023-04-28T07:06:43.787Z"
   },
   {
    "duration": 316,
    "start_time": "2023-04-28T07:06:44.023Z"
   },
   {
    "duration": 16,
    "start_time": "2023-04-28T07:06:44.342Z"
   },
   {
    "duration": 264,
    "start_time": "2023-04-28T07:06:44.360Z"
   },
   {
    "duration": 13,
    "start_time": "2023-04-28T07:06:44.625Z"
   },
   {
    "duration": 318,
    "start_time": "2023-04-28T07:06:44.639Z"
   },
   {
    "duration": 10,
    "start_time": "2023-04-28T07:06:44.959Z"
   },
   {
    "duration": 143,
    "start_time": "2023-04-28T07:06:44.971Z"
   },
   {
    "duration": 5,
    "start_time": "2023-04-28T07:06:45.119Z"
   },
   {
    "duration": 174,
    "start_time": "2023-04-28T07:06:45.125Z"
   },
   {
    "duration": 13,
    "start_time": "2023-04-28T07:06:45.301Z"
   },
   {
    "duration": 165,
    "start_time": "2023-04-28T07:06:45.316Z"
   },
   {
    "duration": 7,
    "start_time": "2023-04-28T07:06:45.483Z"
   },
   {
    "duration": 254,
    "start_time": "2023-04-28T07:06:45.492Z"
   },
   {
    "duration": 25,
    "start_time": "2023-04-28T07:06:45.748Z"
   },
   {
    "duration": 13,
    "start_time": "2023-04-28T07:06:45.775Z"
   },
   {
    "duration": 10,
    "start_time": "2023-04-28T07:06:45.812Z"
   },
   {
    "duration": 19,
    "start_time": "2023-04-28T07:06:45.824Z"
   },
   {
    "duration": 33,
    "start_time": "2023-04-28T07:06:45.845Z"
   },
   {
    "duration": 8,
    "start_time": "2023-04-28T07:06:45.880Z"
   },
   {
    "duration": 33,
    "start_time": "2023-04-28T07:06:45.890Z"
   },
   {
    "duration": 54,
    "start_time": "2023-04-28T07:06:45.926Z"
   },
   {
    "duration": 15,
    "start_time": "2023-04-28T07:06:45.981Z"
   },
   {
    "duration": 19,
    "start_time": "2023-04-28T07:08:05.417Z"
   },
   {
    "duration": 4,
    "start_time": "2023-04-28T07:08:34.530Z"
   },
   {
    "duration": 24,
    "start_time": "2023-04-28T07:08:47.880Z"
   },
   {
    "duration": 33,
    "start_time": "2023-04-28T07:08:53.971Z"
   },
   {
    "duration": 35,
    "start_time": "2023-04-28T07:13:01.431Z"
   },
   {
    "duration": 48,
    "start_time": "2023-04-28T08:52:16.799Z"
   },
   {
    "duration": 1214,
    "start_time": "2023-04-28T08:55:52.619Z"
   },
   {
    "duration": 188,
    "start_time": "2023-04-28T08:55:53.835Z"
   },
   {
    "duration": 26,
    "start_time": "2023-04-28T08:55:54.025Z"
   },
   {
    "duration": 11,
    "start_time": "2023-04-28T08:55:54.053Z"
   },
   {
    "duration": 21,
    "start_time": "2023-04-28T08:55:54.067Z"
   },
   {
    "duration": 16,
    "start_time": "2023-04-28T08:55:54.090Z"
   },
   {
    "duration": 16,
    "start_time": "2023-04-28T08:55:54.109Z"
   },
   {
    "duration": 8,
    "start_time": "2023-04-28T08:55:54.128Z"
   },
   {
    "duration": 25,
    "start_time": "2023-04-28T08:55:54.138Z"
   },
   {
    "duration": 13,
    "start_time": "2023-04-28T08:55:54.165Z"
   },
   {
    "duration": 13,
    "start_time": "2023-04-28T08:55:54.180Z"
   },
   {
    "duration": 10,
    "start_time": "2023-04-28T08:55:54.195Z"
   },
   {
    "duration": 17,
    "start_time": "2023-04-28T08:55:54.208Z"
   },
   {
    "duration": 26,
    "start_time": "2023-04-28T08:55:54.229Z"
   },
   {
    "duration": 13,
    "start_time": "2023-04-28T08:55:54.285Z"
   },
   {
    "duration": 7,
    "start_time": "2023-04-28T08:55:54.300Z"
   },
   {
    "duration": 29,
    "start_time": "2023-04-28T08:55:54.309Z"
   },
   {
    "duration": 25,
    "start_time": "2023-04-28T08:55:54.339Z"
   },
   {
    "duration": 22,
    "start_time": "2023-04-28T08:55:54.365Z"
   },
   {
    "duration": 276,
    "start_time": "2023-04-28T08:55:54.389Z"
   },
   {
    "duration": 3,
    "start_time": "2023-04-28T08:55:54.667Z"
   },
   {
    "duration": 285,
    "start_time": "2023-04-28T08:55:54.672Z"
   },
   {
    "duration": 194,
    "start_time": "2023-04-28T08:55:54.959Z"
   },
   {
    "duration": 387,
    "start_time": "2023-04-28T08:55:55.155Z"
   },
   {
    "duration": 16,
    "start_time": "2023-04-28T08:55:55.544Z"
   },
   {
    "duration": 232,
    "start_time": "2023-04-28T08:55:55.561Z"
   },
   {
    "duration": 13,
    "start_time": "2023-04-28T08:55:55.794Z"
   },
   {
    "duration": 501,
    "start_time": "2023-04-28T08:55:55.809Z"
   },
   {
    "duration": 10,
    "start_time": "2023-04-28T08:55:56.312Z"
   },
   {
    "duration": 293,
    "start_time": "2023-04-28T08:55:56.324Z"
   },
   {
    "duration": 4,
    "start_time": "2023-04-28T08:55:56.619Z"
   },
   {
    "duration": 377,
    "start_time": "2023-04-28T08:55:56.625Z"
   },
   {
    "duration": 5,
    "start_time": "2023-04-28T08:55:57.004Z"
   },
   {
    "duration": 478,
    "start_time": "2023-04-28T08:55:57.012Z"
   },
   {
    "duration": 6,
    "start_time": "2023-04-28T08:55:57.493Z"
   },
   {
    "duration": 611,
    "start_time": "2023-04-28T08:55:57.501Z"
   },
   {
    "duration": 25,
    "start_time": "2023-04-28T08:55:58.114Z"
   },
   {
    "duration": 47,
    "start_time": "2023-04-28T08:55:58.141Z"
   },
   {
    "duration": 19,
    "start_time": "2023-04-28T08:55:58.191Z"
   },
   {
    "duration": 6,
    "start_time": "2023-04-28T08:55:58.212Z"
   },
   {
    "duration": 6,
    "start_time": "2023-04-28T08:55:58.222Z"
   },
   {
    "duration": 8,
    "start_time": "2023-04-28T08:55:58.231Z"
   },
   {
    "duration": 12,
    "start_time": "2023-04-28T08:55:58.240Z"
   },
   {
    "duration": 67,
    "start_time": "2023-04-28T08:55:58.254Z"
   },
   {
    "duration": 24,
    "start_time": "2023-04-28T08:55:58.330Z"
   },
   {
    "duration": 13,
    "start_time": "2023-04-28T08:56:35.060Z"
   },
   {
    "duration": 97,
    "start_time": "2023-04-28T08:57:48.124Z"
   },
   {
    "duration": 6,
    "start_time": "2023-04-28T08:57:52.724Z"
   },
   {
    "duration": 5,
    "start_time": "2023-04-28T08:57:59.040Z"
   },
   {
    "duration": 4,
    "start_time": "2023-04-28T08:57:59.908Z"
   },
   {
    "duration": 6,
    "start_time": "2023-04-28T08:58:01.224Z"
   },
   {
    "duration": 16,
    "start_time": "2023-04-28T08:58:10.524Z"
   },
   {
    "duration": 5,
    "start_time": "2023-04-28T08:58:22.507Z"
   },
   {
    "duration": 13,
    "start_time": "2023-04-28T08:58:31.190Z"
   },
   {
    "duration": 8,
    "start_time": "2023-04-28T08:59:05.533Z"
   },
   {
    "duration": 5,
    "start_time": "2023-04-28T08:59:06.535Z"
   },
   {
    "duration": 6,
    "start_time": "2023-04-28T08:59:07.385Z"
   },
   {
    "duration": 6,
    "start_time": "2023-04-28T08:59:08.307Z"
   },
   {
    "duration": 10,
    "start_time": "2023-04-28T08:59:35.089Z"
   },
   {
    "duration": 5,
    "start_time": "2023-04-28T08:59:40.893Z"
   },
   {
    "duration": 6,
    "start_time": "2023-04-28T08:59:41.628Z"
   },
   {
    "duration": 6,
    "start_time": "2023-04-28T08:59:42.357Z"
   },
   {
    "duration": 6,
    "start_time": "2023-04-28T08:59:44.298Z"
   },
   {
    "duration": 12,
    "start_time": "2023-04-28T08:59:45.086Z"
   },
   {
    "duration": 10,
    "start_time": "2023-04-28T09:00:46.134Z"
   },
   {
    "duration": 15,
    "start_time": "2023-04-28T09:01:41.316Z"
   },
   {
    "duration": 12,
    "start_time": "2023-04-28T09:03:41.441Z"
   },
   {
    "duration": 6,
    "start_time": "2023-04-28T09:04:15.256Z"
   },
   {
    "duration": 5,
    "start_time": "2023-04-28T09:04:27.081Z"
   },
   {
    "duration": 6,
    "start_time": "2023-04-28T09:04:40.878Z"
   },
   {
    "duration": 6,
    "start_time": "2023-04-28T09:04:50.525Z"
   },
   {
    "duration": 1169,
    "start_time": "2023-04-28T09:05:52.582Z"
   },
   {
    "duration": 73,
    "start_time": "2023-04-28T09:05:53.753Z"
   },
   {
    "duration": 24,
    "start_time": "2023-04-28T09:05:53.827Z"
   },
   {
    "duration": 14,
    "start_time": "2023-04-28T09:05:53.854Z"
   },
   {
    "duration": 42,
    "start_time": "2023-04-28T09:05:53.870Z"
   },
   {
    "duration": 13,
    "start_time": "2023-04-28T09:05:53.914Z"
   },
   {
    "duration": 19,
    "start_time": "2023-04-28T09:05:53.930Z"
   },
   {
    "duration": 32,
    "start_time": "2023-04-28T09:05:53.951Z"
   },
   {
    "duration": 30,
    "start_time": "2023-04-28T09:05:53.986Z"
   },
   {
    "duration": 22,
    "start_time": "2023-04-28T09:05:54.020Z"
   },
   {
    "duration": 32,
    "start_time": "2023-04-28T09:05:54.044Z"
   },
   {
    "duration": 32,
    "start_time": "2023-04-28T09:05:54.078Z"
   },
   {
    "duration": 36,
    "start_time": "2023-04-28T09:05:54.114Z"
   },
   {
    "duration": 7,
    "start_time": "2023-04-28T09:05:54.152Z"
   },
   {
    "duration": 25,
    "start_time": "2023-04-28T09:05:54.161Z"
   },
   {
    "duration": 27,
    "start_time": "2023-04-28T09:05:54.188Z"
   },
   {
    "duration": 20,
    "start_time": "2023-04-28T09:05:54.218Z"
   },
   {
    "duration": 23,
    "start_time": "2023-04-28T09:05:54.241Z"
   },
   {
    "duration": 38,
    "start_time": "2023-04-28T09:05:54.266Z"
   },
   {
    "duration": 322,
    "start_time": "2023-04-28T09:05:54.306Z"
   },
   {
    "duration": 6,
    "start_time": "2023-04-28T09:05:54.631Z"
   },
   {
    "duration": 352,
    "start_time": "2023-04-28T09:05:54.638Z"
   },
   {
    "duration": 259,
    "start_time": "2023-04-28T09:05:54.992Z"
   },
   {
    "duration": 336,
    "start_time": "2023-04-28T09:05:55.253Z"
   },
   {
    "duration": 17,
    "start_time": "2023-04-28T09:05:55.591Z"
   },
   {
    "duration": 253,
    "start_time": "2023-04-28T09:05:55.610Z"
   },
   {
    "duration": 20,
    "start_time": "2023-04-28T09:05:55.865Z"
   },
   {
    "duration": 316,
    "start_time": "2023-04-28T09:05:55.891Z"
   },
   {
    "duration": 9,
    "start_time": "2023-04-28T09:05:56.208Z"
   },
   {
    "duration": 178,
    "start_time": "2023-04-28T09:05:56.219Z"
   },
   {
    "duration": 6,
    "start_time": "2023-04-28T09:05:56.399Z"
   },
   {
    "duration": 197,
    "start_time": "2023-04-28T09:05:56.407Z"
   },
   {
    "duration": 7,
    "start_time": "2023-04-28T09:05:56.606Z"
   },
   {
    "duration": 171,
    "start_time": "2023-04-28T09:05:56.615Z"
   },
   {
    "duration": 6,
    "start_time": "2023-04-28T09:05:56.788Z"
   },
   {
    "duration": 244,
    "start_time": "2023-04-28T09:05:56.796Z"
   },
   {
    "duration": 25,
    "start_time": "2023-04-28T09:05:57.042Z"
   },
   {
    "duration": 25,
    "start_time": "2023-04-28T09:05:57.069Z"
   },
   {
    "duration": 9,
    "start_time": "2023-04-28T09:05:57.097Z"
   },
   {
    "duration": 6,
    "start_time": "2023-04-28T09:05:57.108Z"
   },
   {
    "duration": 11,
    "start_time": "2023-04-28T09:05:57.116Z"
   },
   {
    "duration": 8,
    "start_time": "2023-04-28T09:05:57.129Z"
   },
   {
    "duration": 11,
    "start_time": "2023-04-28T09:05:57.139Z"
   },
   {
    "duration": 57,
    "start_time": "2023-04-28T09:05:57.152Z"
   },
   {
    "duration": 14,
    "start_time": "2023-04-28T09:05:57.211Z"
   },
   {
    "duration": 7,
    "start_time": "2023-04-28T09:22:27.812Z"
   },
   {
    "duration": 5,
    "start_time": "2023-04-28T09:22:35.677Z"
   },
   {
    "duration": 5,
    "start_time": "2023-04-28T09:22:36.311Z"
   },
   {
    "duration": 3,
    "start_time": "2023-04-28T09:22:37.028Z"
   },
   {
    "duration": 8,
    "start_time": "2023-04-28T09:32:50.814Z"
   },
   {
    "duration": 10,
    "start_time": "2023-04-28T09:32:56.429Z"
   },
   {
    "duration": 8,
    "start_time": "2023-04-28T09:32:57.477Z"
   },
   {
    "duration": 6,
    "start_time": "2023-04-28T09:32:58.463Z"
   },
   {
    "duration": 4,
    "start_time": "2023-04-28T09:32:59.345Z"
   },
   {
    "duration": 1029,
    "start_time": "2023-04-28T09:33:08.814Z"
   },
   {
    "duration": 71,
    "start_time": "2023-04-28T09:33:09.845Z"
   },
   {
    "duration": 19,
    "start_time": "2023-04-28T09:33:09.918Z"
   },
   {
    "duration": 8,
    "start_time": "2023-04-28T09:33:09.940Z"
   },
   {
    "duration": 20,
    "start_time": "2023-04-28T09:33:09.949Z"
   },
   {
    "duration": 13,
    "start_time": "2023-04-28T09:33:09.970Z"
   },
   {
    "duration": 6,
    "start_time": "2023-04-28T09:33:09.985Z"
   },
   {
    "duration": 5,
    "start_time": "2023-04-28T09:33:09.993Z"
   },
   {
    "duration": 19,
    "start_time": "2023-04-28T09:33:10.000Z"
   },
   {
    "duration": 19,
    "start_time": "2023-04-28T09:33:10.022Z"
   },
   {
    "duration": 13,
    "start_time": "2023-04-28T09:33:10.042Z"
   },
   {
    "duration": 8,
    "start_time": "2023-04-28T09:33:10.056Z"
   },
   {
    "duration": 6,
    "start_time": "2023-04-28T09:33:10.065Z"
   },
   {
    "duration": 13,
    "start_time": "2023-04-28T09:33:10.072Z"
   },
   {
    "duration": 16,
    "start_time": "2023-04-28T09:33:10.087Z"
   },
   {
    "duration": 9,
    "start_time": "2023-04-28T09:33:10.105Z"
   },
   {
    "duration": 10,
    "start_time": "2023-04-28T09:33:10.116Z"
   },
   {
    "duration": 15,
    "start_time": "2023-04-28T09:33:10.128Z"
   },
   {
    "duration": 293,
    "start_time": "2023-04-28T09:33:10.144Z"
   },
   {
    "duration": 4,
    "start_time": "2023-04-28T09:33:10.439Z"
   },
   {
    "duration": 289,
    "start_time": "2023-04-28T09:33:10.445Z"
   },
   {
    "duration": 384,
    "start_time": "2023-04-28T09:33:10.736Z"
   },
   {
    "duration": 478,
    "start_time": "2023-04-28T09:33:11.122Z"
   },
   {
    "duration": 21,
    "start_time": "2023-04-28T09:33:11.602Z"
   },
   {
    "duration": 475,
    "start_time": "2023-04-28T09:33:11.625Z"
   },
   {
    "duration": 12,
    "start_time": "2023-04-28T09:33:12.102Z"
   },
   {
    "duration": 514,
    "start_time": "2023-04-28T09:33:12.116Z"
   },
   {
    "duration": 13,
    "start_time": "2023-04-28T09:33:12.685Z"
   },
   {
    "duration": 204,
    "start_time": "2023-04-28T09:33:12.700Z"
   },
   {
    "duration": 5,
    "start_time": "2023-04-28T09:33:12.906Z"
   },
   {
    "duration": 162,
    "start_time": "2023-04-28T09:33:12.912Z"
   },
   {
    "duration": 4,
    "start_time": "2023-04-28T09:33:13.076Z"
   },
   {
    "duration": 155,
    "start_time": "2023-04-28T09:33:13.085Z"
   },
   {
    "duration": 5,
    "start_time": "2023-04-28T09:33:13.241Z"
   },
   {
    "duration": 203,
    "start_time": "2023-04-28T09:33:13.247Z"
   },
   {
    "duration": 22,
    "start_time": "2023-04-28T09:33:13.452Z"
   },
   {
    "duration": 16,
    "start_time": "2023-04-28T09:33:13.476Z"
   },
   {
    "duration": 16,
    "start_time": "2023-04-28T09:33:13.494Z"
   },
   {
    "duration": 6,
    "start_time": "2023-04-28T09:33:13.512Z"
   },
   {
    "duration": 10,
    "start_time": "2023-04-28T09:33:13.520Z"
   },
   {
    "duration": 18,
    "start_time": "2023-04-28T09:33:13.532Z"
   },
   {
    "duration": 18,
    "start_time": "2023-04-28T09:33:13.552Z"
   },
   {
    "duration": 33,
    "start_time": "2023-04-28T09:33:13.571Z"
   },
   {
    "duration": 13,
    "start_time": "2023-04-28T09:33:13.605Z"
   },
   {
    "duration": 1179,
    "start_time": "2023-04-28T16:02:39.679Z"
   },
   {
    "duration": 188,
    "start_time": "2023-04-28T16:02:40.860Z"
   },
   {
    "duration": 20,
    "start_time": "2023-04-28T16:02:41.050Z"
   },
   {
    "duration": 8,
    "start_time": "2023-04-28T16:02:41.072Z"
   },
   {
    "duration": 30,
    "start_time": "2023-04-28T16:02:41.081Z"
   },
   {
    "duration": 19,
    "start_time": "2023-04-28T16:02:41.113Z"
   },
   {
    "duration": 8,
    "start_time": "2023-04-28T16:02:41.134Z"
   },
   {
    "duration": 10,
    "start_time": "2023-04-28T16:02:41.144Z"
   },
   {
    "duration": 10,
    "start_time": "2023-04-28T16:02:41.155Z"
   },
   {
    "duration": 4,
    "start_time": "2023-04-28T16:02:41.167Z"
   },
   {
    "duration": 15,
    "start_time": "2023-04-28T16:02:41.173Z"
   },
   {
    "duration": 9,
    "start_time": "2023-04-28T16:02:41.189Z"
   },
   {
    "duration": 6,
    "start_time": "2023-04-28T16:02:41.199Z"
   },
   {
    "duration": 6,
    "start_time": "2023-04-28T16:02:41.207Z"
   },
   {
    "duration": 7,
    "start_time": "2023-04-28T16:02:41.214Z"
   },
   {
    "duration": 6,
    "start_time": "2023-04-28T16:02:41.223Z"
   },
   {
    "duration": 13,
    "start_time": "2023-04-28T16:02:41.231Z"
   },
   {
    "duration": 46,
    "start_time": "2023-04-28T16:02:41.246Z"
   },
   {
    "duration": 294,
    "start_time": "2023-04-28T16:02:41.294Z"
   },
   {
    "duration": 4,
    "start_time": "2023-04-28T16:02:41.590Z"
   },
   {
    "duration": 300,
    "start_time": "2023-04-28T16:02:41.595Z"
   },
   {
    "duration": 218,
    "start_time": "2023-04-28T16:02:41.897Z"
   },
   {
    "duration": 287,
    "start_time": "2023-04-28T16:02:42.117Z"
   },
   {
    "duration": 18,
    "start_time": "2023-04-28T16:02:42.406Z"
   },
   {
    "duration": 280,
    "start_time": "2023-04-28T16:02:42.426Z"
   },
   {
    "duration": 11,
    "start_time": "2023-04-28T16:02:42.708Z"
   },
   {
    "duration": 485,
    "start_time": "2023-04-28T16:02:42.721Z"
   },
   {
    "duration": 9,
    "start_time": "2023-04-28T16:02:43.209Z"
   },
   {
    "duration": 304,
    "start_time": "2023-04-28T16:02:43.220Z"
   },
   {
    "duration": 60,
    "start_time": "2023-04-28T16:02:43.525Z"
   },
   {
    "duration": 310,
    "start_time": "2023-04-28T16:02:43.587Z"
   },
   {
    "duration": 4,
    "start_time": "2023-04-28T16:02:43.899Z"
   },
   {
    "duration": 422,
    "start_time": "2023-04-28T16:02:43.905Z"
   },
   {
    "duration": 57,
    "start_time": "2023-04-28T16:02:44.329Z"
   },
   {
    "duration": 313,
    "start_time": "2023-04-28T16:02:44.388Z"
   },
   {
    "duration": 25,
    "start_time": "2023-04-28T16:02:44.703Z"
   },
   {
    "duration": 12,
    "start_time": "2023-04-28T16:02:44.730Z"
   },
   {
    "duration": 8,
    "start_time": "2023-04-28T16:02:44.743Z"
   },
   {
    "duration": 32,
    "start_time": "2023-04-28T16:02:44.753Z"
   },
   {
    "duration": 9,
    "start_time": "2023-04-28T16:02:44.787Z"
   },
   {
    "duration": 8,
    "start_time": "2023-04-28T16:02:44.797Z"
   },
   {
    "duration": 11,
    "start_time": "2023-04-28T16:02:44.807Z"
   },
   {
    "duration": 43,
    "start_time": "2023-04-28T16:02:44.819Z"
   },
   {
    "duration": 13,
    "start_time": "2023-04-28T16:02:44.864Z"
   },
   {
    "duration": 87,
    "start_time": "2023-06-19T17:34:34.247Z"
   },
   {
    "duration": 1275,
    "start_time": "2023-06-19T17:34:42.096Z"
   },
   {
    "duration": 218,
    "start_time": "2023-06-19T17:34:43.374Z"
   },
   {
    "duration": 46,
    "start_time": "2023-06-19T17:34:43.593Z"
   },
   {
    "duration": 17,
    "start_time": "2023-06-19T17:34:43.642Z"
   },
   {
    "duration": 30,
    "start_time": "2023-06-19T17:34:43.661Z"
   },
   {
    "duration": 38,
    "start_time": "2023-06-19T17:34:43.693Z"
   },
   {
    "duration": 66,
    "start_time": "2023-06-19T17:34:43.736Z"
   },
   {
    "duration": 38,
    "start_time": "2023-06-19T17:34:43.804Z"
   },
   {
    "duration": 50,
    "start_time": "2023-06-19T17:34:43.845Z"
   },
   {
    "duration": 55,
    "start_time": "2023-06-19T17:34:43.903Z"
   },
   {
    "duration": 37,
    "start_time": "2023-06-19T17:34:43.960Z"
   },
   {
    "duration": 66,
    "start_time": "2023-06-19T17:34:43.999Z"
   },
   {
    "duration": 62,
    "start_time": "2023-06-19T17:34:44.067Z"
   },
   {
    "duration": 36,
    "start_time": "2023-06-19T17:34:44.131Z"
   },
   {
    "duration": 29,
    "start_time": "2023-06-19T17:34:44.169Z"
   },
   {
    "duration": 46,
    "start_time": "2023-06-19T17:34:44.200Z"
   },
   {
    "duration": 25,
    "start_time": "2023-06-19T17:34:44.249Z"
   },
   {
    "duration": 53,
    "start_time": "2023-06-19T17:34:44.276Z"
   },
   {
    "duration": 82,
    "start_time": "2023-06-19T17:34:44.331Z"
   },
   {
    "duration": 810,
    "start_time": "2023-06-19T17:34:44.415Z"
   },
   {
    "duration": 5,
    "start_time": "2023-06-19T17:34:45.232Z"
   },
   {
    "duration": 370,
    "start_time": "2023-06-19T17:34:45.239Z"
   },
   {
    "duration": 256,
    "start_time": "2023-06-19T17:34:45.614Z"
   },
   {
    "duration": 378,
    "start_time": "2023-06-19T17:34:45.872Z"
   },
   {
    "duration": 17,
    "start_time": "2023-06-19T17:34:46.252Z"
   },
   {
    "duration": 281,
    "start_time": "2023-06-19T17:34:46.271Z"
   },
   {
    "duration": 16,
    "start_time": "2023-06-19T17:34:46.554Z"
   },
   {
    "duration": 414,
    "start_time": "2023-06-19T17:34:46.573Z"
   },
   {
    "duration": 10,
    "start_time": "2023-06-19T17:34:46.989Z"
   },
   {
    "duration": 362,
    "start_time": "2023-06-19T17:34:47.001Z"
   },
   {
    "duration": 70,
    "start_time": "2023-06-19T17:34:47.365Z"
   },
   {
    "duration": 167,
    "start_time": "2023-06-19T17:34:47.436Z"
   },
   {
    "duration": 4,
    "start_time": "2023-06-19T17:34:47.605Z"
   },
   {
    "duration": 189,
    "start_time": "2023-06-19T17:34:47.614Z"
   },
   {
    "duration": 17,
    "start_time": "2023-06-19T17:34:47.805Z"
   },
   {
    "duration": 302,
    "start_time": "2023-06-19T17:34:47.823Z"
   },
   {
    "duration": 28,
    "start_time": "2023-06-19T17:34:48.134Z"
   },
   {
    "duration": 25,
    "start_time": "2023-06-19T17:34:48.164Z"
   },
   {
    "duration": 13,
    "start_time": "2023-06-19T17:34:48.192Z"
   },
   {
    "duration": 36,
    "start_time": "2023-06-19T17:34:48.207Z"
   },
   {
    "duration": 29,
    "start_time": "2023-06-19T17:34:48.245Z"
   },
   {
    "duration": 30,
    "start_time": "2023-06-19T17:34:48.276Z"
   },
   {
    "duration": 32,
    "start_time": "2023-06-19T17:34:48.308Z"
   },
   {
    "duration": 56,
    "start_time": "2023-06-19T17:34:48.342Z"
   },
   {
    "duration": 21,
    "start_time": "2023-06-19T17:34:48.400Z"
   }
  ],
  "kernelspec": {
   "display_name": "Python 3 (ipykernel)",
   "language": "python",
   "name": "python3"
  },
  "language_info": {
   "codemirror_mode": {
    "name": "ipython",
    "version": 3
   },
   "file_extension": ".py",
   "mimetype": "text/x-python",
   "name": "python",
   "nbconvert_exporter": "python",
   "pygments_lexer": "ipython3",
   "version": "3.9.13"
  },
  "toc": {
   "base_numbering": 1,
   "nav_menu": {},
   "number_sections": true,
   "sideBar": true,
   "skip_h1_title": true,
   "title_cell": "Table of Contents",
   "title_sidebar": "Contents",
   "toc_cell": false,
   "toc_position": {
    "height": "calc(100% - 180px)",
    "left": "10px",
    "top": "150px",
    "width": "165px"
   },
   "toc_section_display": true,
   "toc_window_display": true
  }
 },
 "nbformat": 4,
 "nbformat_minor": 4
}
