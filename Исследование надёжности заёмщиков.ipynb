{
 "cells": [
  {
   "cell_type": "markdown",
   "id": "225f4913",
   "metadata": {
    "deletable": false,
    "editable": false,
    "id": "c81daeeb"
   },
   "source": [
    "# Исследование надежности заемщиков\n"
   ]
  },
  {
   "cell_type": "markdown",
   "id": "c53509b2",
   "metadata": {
    "deletable": false,
    "editable": false,
    "id": "827c20bf"
   },
   "source": [
    "Во второй части проекта вы выполните шаги 3 и 4. Их вручную проверит ревьюер.\n",
    "Чтобы вам не пришлось писать код заново для шагов 1 и 2, мы добавили авторские решения в ячейки с кодом. \n",
    "\n"
   ]
  },
  {
   "cell_type": "markdown",
   "id": "f51cf38f",
   "metadata": {
    "deletable": false,
    "editable": false,
    "id": "744d7639"
   },
   "source": [
    "## Откройте таблицу и изучите общую информацию о данных"
   ]
  },
  {
   "cell_type": "markdown",
   "id": "e9acbfa8",
   "metadata": {
    "deletable": false,
    "editable": false,
    "id": "e7a14c31"
   },
   "source": [
    "**Задание 1. Импортируйте библиотеку pandas. Считайте данные из csv-файла в датафрейм и сохраните в переменную `data`. Путь к файлу:**\n",
    "\n",
    "`/datasets/data.csv`"
   ]
  },
  {
   "cell_type": "code",
   "execution_count": 1,
   "id": "be5105df",
   "metadata": {
    "deletable": false,
    "id": "7bcf75c9"
   },
   "outputs": [],
   "source": [
    "import pandas as pd\n",
    "\n",
    "try:\n",
    "    data = pd.read_csv('/datasets/data.csv')\n",
    "except:\n",
    "    data = pd.read_csv('https://code.s3.yandex.net/datasets/data.csv')"
   ]
  },
  {
   "cell_type": "markdown",
   "id": "d3eadd61",
   "metadata": {
    "deletable": false,
    "editable": false,
    "id": "b8038fe3"
   },
   "source": [
    "**Задание 2. Выведите первые 20 строчек датафрейма `data` на экран.**"
   ]
  },
  {
   "cell_type": "code",
   "execution_count": 2,
   "id": "de502dad",
   "metadata": {
    "deletable": false,
    "id": "2a7cab99",
    "outputId": "1a8f3ef2-d323-4ec2-ddf7-89670b5944c4"
   },
   "outputs": [
    {
     "data": {
      "text/html": [
       "<div>\n",
       "<style scoped>\n",
       "    .dataframe tbody tr th:only-of-type {\n",
       "        vertical-align: middle;\n",
       "    }\n",
       "\n",
       "    .dataframe tbody tr th {\n",
       "        vertical-align: top;\n",
       "    }\n",
       "\n",
       "    .dataframe thead th {\n",
       "        text-align: right;\n",
       "    }\n",
       "</style>\n",
       "<table border=\"1\" class=\"dataframe\">\n",
       "  <thead>\n",
       "    <tr style=\"text-align: right;\">\n",
       "      <th></th>\n",
       "      <th>children</th>\n",
       "      <th>days_employed</th>\n",
       "      <th>dob_years</th>\n",
       "      <th>education</th>\n",
       "      <th>education_id</th>\n",
       "      <th>family_status</th>\n",
       "      <th>family_status_id</th>\n",
       "      <th>gender</th>\n",
       "      <th>income_type</th>\n",
       "      <th>debt</th>\n",
       "      <th>total_income</th>\n",
       "      <th>purpose</th>\n",
       "    </tr>\n",
       "  </thead>\n",
       "  <tbody>\n",
       "    <tr>\n",
       "      <th>0</th>\n",
       "      <td>1</td>\n",
       "      <td>-8437.673028</td>\n",
       "      <td>42</td>\n",
       "      <td>высшее</td>\n",
       "      <td>0</td>\n",
       "      <td>женат / замужем</td>\n",
       "      <td>0</td>\n",
       "      <td>F</td>\n",
       "      <td>сотрудник</td>\n",
       "      <td>0</td>\n",
       "      <td>253875.639453</td>\n",
       "      <td>покупка жилья</td>\n",
       "    </tr>\n",
       "    <tr>\n",
       "      <th>1</th>\n",
       "      <td>1</td>\n",
       "      <td>-4024.803754</td>\n",
       "      <td>36</td>\n",
       "      <td>среднее</td>\n",
       "      <td>1</td>\n",
       "      <td>женат / замужем</td>\n",
       "      <td>0</td>\n",
       "      <td>F</td>\n",
       "      <td>сотрудник</td>\n",
       "      <td>0</td>\n",
       "      <td>112080.014102</td>\n",
       "      <td>приобретение автомобиля</td>\n",
       "    </tr>\n",
       "    <tr>\n",
       "      <th>2</th>\n",
       "      <td>0</td>\n",
       "      <td>-5623.422610</td>\n",
       "      <td>33</td>\n",
       "      <td>Среднее</td>\n",
       "      <td>1</td>\n",
       "      <td>женат / замужем</td>\n",
       "      <td>0</td>\n",
       "      <td>M</td>\n",
       "      <td>сотрудник</td>\n",
       "      <td>0</td>\n",
       "      <td>145885.952297</td>\n",
       "      <td>покупка жилья</td>\n",
       "    </tr>\n",
       "    <tr>\n",
       "      <th>3</th>\n",
       "      <td>3</td>\n",
       "      <td>-4124.747207</td>\n",
       "      <td>32</td>\n",
       "      <td>среднее</td>\n",
       "      <td>1</td>\n",
       "      <td>женат / замужем</td>\n",
       "      <td>0</td>\n",
       "      <td>M</td>\n",
       "      <td>сотрудник</td>\n",
       "      <td>0</td>\n",
       "      <td>267628.550329</td>\n",
       "      <td>дополнительное образование</td>\n",
       "    </tr>\n",
       "    <tr>\n",
       "      <th>4</th>\n",
       "      <td>0</td>\n",
       "      <td>340266.072047</td>\n",
       "      <td>53</td>\n",
       "      <td>среднее</td>\n",
       "      <td>1</td>\n",
       "      <td>гражданский брак</td>\n",
       "      <td>1</td>\n",
       "      <td>F</td>\n",
       "      <td>пенсионер</td>\n",
       "      <td>0</td>\n",
       "      <td>158616.077870</td>\n",
       "      <td>сыграть свадьбу</td>\n",
       "    </tr>\n",
       "    <tr>\n",
       "      <th>5</th>\n",
       "      <td>0</td>\n",
       "      <td>-926.185831</td>\n",
       "      <td>27</td>\n",
       "      <td>высшее</td>\n",
       "      <td>0</td>\n",
       "      <td>гражданский брак</td>\n",
       "      <td>1</td>\n",
       "      <td>M</td>\n",
       "      <td>компаньон</td>\n",
       "      <td>0</td>\n",
       "      <td>255763.565419</td>\n",
       "      <td>покупка жилья</td>\n",
       "    </tr>\n",
       "    <tr>\n",
       "      <th>6</th>\n",
       "      <td>0</td>\n",
       "      <td>-2879.202052</td>\n",
       "      <td>43</td>\n",
       "      <td>высшее</td>\n",
       "      <td>0</td>\n",
       "      <td>женат / замужем</td>\n",
       "      <td>0</td>\n",
       "      <td>F</td>\n",
       "      <td>компаньон</td>\n",
       "      <td>0</td>\n",
       "      <td>240525.971920</td>\n",
       "      <td>операции с жильем</td>\n",
       "    </tr>\n",
       "    <tr>\n",
       "      <th>7</th>\n",
       "      <td>0</td>\n",
       "      <td>-152.779569</td>\n",
       "      <td>50</td>\n",
       "      <td>СРЕДНЕЕ</td>\n",
       "      <td>1</td>\n",
       "      <td>женат / замужем</td>\n",
       "      <td>0</td>\n",
       "      <td>M</td>\n",
       "      <td>сотрудник</td>\n",
       "      <td>0</td>\n",
       "      <td>135823.934197</td>\n",
       "      <td>образование</td>\n",
       "    </tr>\n",
       "    <tr>\n",
       "      <th>8</th>\n",
       "      <td>2</td>\n",
       "      <td>-6929.865299</td>\n",
       "      <td>35</td>\n",
       "      <td>ВЫСШЕЕ</td>\n",
       "      <td>0</td>\n",
       "      <td>гражданский брак</td>\n",
       "      <td>1</td>\n",
       "      <td>F</td>\n",
       "      <td>сотрудник</td>\n",
       "      <td>0</td>\n",
       "      <td>95856.832424</td>\n",
       "      <td>на проведение свадьбы</td>\n",
       "    </tr>\n",
       "    <tr>\n",
       "      <th>9</th>\n",
       "      <td>0</td>\n",
       "      <td>-2188.756445</td>\n",
       "      <td>41</td>\n",
       "      <td>среднее</td>\n",
       "      <td>1</td>\n",
       "      <td>женат / замужем</td>\n",
       "      <td>0</td>\n",
       "      <td>M</td>\n",
       "      <td>сотрудник</td>\n",
       "      <td>0</td>\n",
       "      <td>144425.938277</td>\n",
       "      <td>покупка жилья для семьи</td>\n",
       "    </tr>\n",
       "    <tr>\n",
       "      <th>10</th>\n",
       "      <td>2</td>\n",
       "      <td>-4171.483647</td>\n",
       "      <td>36</td>\n",
       "      <td>высшее</td>\n",
       "      <td>0</td>\n",
       "      <td>женат / замужем</td>\n",
       "      <td>0</td>\n",
       "      <td>M</td>\n",
       "      <td>компаньон</td>\n",
       "      <td>0</td>\n",
       "      <td>113943.491460</td>\n",
       "      <td>покупка недвижимости</td>\n",
       "    </tr>\n",
       "    <tr>\n",
       "      <th>11</th>\n",
       "      <td>0</td>\n",
       "      <td>-792.701887</td>\n",
       "      <td>40</td>\n",
       "      <td>среднее</td>\n",
       "      <td>1</td>\n",
       "      <td>женат / замужем</td>\n",
       "      <td>0</td>\n",
       "      <td>F</td>\n",
       "      <td>сотрудник</td>\n",
       "      <td>0</td>\n",
       "      <td>77069.234271</td>\n",
       "      <td>покупка коммерческой недвижимости</td>\n",
       "    </tr>\n",
       "    <tr>\n",
       "      <th>12</th>\n",
       "      <td>0</td>\n",
       "      <td>NaN</td>\n",
       "      <td>65</td>\n",
       "      <td>среднее</td>\n",
       "      <td>1</td>\n",
       "      <td>гражданский брак</td>\n",
       "      <td>1</td>\n",
       "      <td>M</td>\n",
       "      <td>пенсионер</td>\n",
       "      <td>0</td>\n",
       "      <td>NaN</td>\n",
       "      <td>сыграть свадьбу</td>\n",
       "    </tr>\n",
       "    <tr>\n",
       "      <th>13</th>\n",
       "      <td>0</td>\n",
       "      <td>-1846.641941</td>\n",
       "      <td>54</td>\n",
       "      <td>неоконченное высшее</td>\n",
       "      <td>2</td>\n",
       "      <td>женат / замужем</td>\n",
       "      <td>0</td>\n",
       "      <td>F</td>\n",
       "      <td>сотрудник</td>\n",
       "      <td>0</td>\n",
       "      <td>130458.228857</td>\n",
       "      <td>приобретение автомобиля</td>\n",
       "    </tr>\n",
       "    <tr>\n",
       "      <th>14</th>\n",
       "      <td>0</td>\n",
       "      <td>-1844.956182</td>\n",
       "      <td>56</td>\n",
       "      <td>высшее</td>\n",
       "      <td>0</td>\n",
       "      <td>гражданский брак</td>\n",
       "      <td>1</td>\n",
       "      <td>F</td>\n",
       "      <td>компаньон</td>\n",
       "      <td>1</td>\n",
       "      <td>165127.911772</td>\n",
       "      <td>покупка жилой недвижимости</td>\n",
       "    </tr>\n",
       "    <tr>\n",
       "      <th>15</th>\n",
       "      <td>1</td>\n",
       "      <td>-972.364419</td>\n",
       "      <td>26</td>\n",
       "      <td>среднее</td>\n",
       "      <td>1</td>\n",
       "      <td>женат / замужем</td>\n",
       "      <td>0</td>\n",
       "      <td>F</td>\n",
       "      <td>сотрудник</td>\n",
       "      <td>0</td>\n",
       "      <td>116820.904450</td>\n",
       "      <td>строительство собственной недвижимости</td>\n",
       "    </tr>\n",
       "    <tr>\n",
       "      <th>16</th>\n",
       "      <td>0</td>\n",
       "      <td>-1719.934226</td>\n",
       "      <td>35</td>\n",
       "      <td>среднее</td>\n",
       "      <td>1</td>\n",
       "      <td>женат / замужем</td>\n",
       "      <td>0</td>\n",
       "      <td>F</td>\n",
       "      <td>сотрудник</td>\n",
       "      <td>0</td>\n",
       "      <td>289202.704229</td>\n",
       "      <td>недвижимость</td>\n",
       "    </tr>\n",
       "    <tr>\n",
       "      <th>17</th>\n",
       "      <td>0</td>\n",
       "      <td>-2369.999720</td>\n",
       "      <td>33</td>\n",
       "      <td>высшее</td>\n",
       "      <td>0</td>\n",
       "      <td>гражданский брак</td>\n",
       "      <td>1</td>\n",
       "      <td>M</td>\n",
       "      <td>сотрудник</td>\n",
       "      <td>0</td>\n",
       "      <td>90410.586745</td>\n",
       "      <td>строительство недвижимости</td>\n",
       "    </tr>\n",
       "    <tr>\n",
       "      <th>18</th>\n",
       "      <td>0</td>\n",
       "      <td>400281.136913</td>\n",
       "      <td>53</td>\n",
       "      <td>среднее</td>\n",
       "      <td>1</td>\n",
       "      <td>вдовец / вдова</td>\n",
       "      <td>2</td>\n",
       "      <td>F</td>\n",
       "      <td>пенсионер</td>\n",
       "      <td>0</td>\n",
       "      <td>56823.777243</td>\n",
       "      <td>на покупку подержанного автомобиля</td>\n",
       "    </tr>\n",
       "    <tr>\n",
       "      <th>19</th>\n",
       "      <td>0</td>\n",
       "      <td>-10038.818549</td>\n",
       "      <td>48</td>\n",
       "      <td>СРЕДНЕЕ</td>\n",
       "      <td>1</td>\n",
       "      <td>в разводе</td>\n",
       "      <td>3</td>\n",
       "      <td>F</td>\n",
       "      <td>сотрудник</td>\n",
       "      <td>0</td>\n",
       "      <td>242831.107982</td>\n",
       "      <td>на покупку своего автомобиля</td>\n",
       "    </tr>\n",
       "  </tbody>\n",
       "</table>\n",
       "</div>"
      ],
      "text/plain": [
       "    children  days_employed  dob_years            education  education_id  \\\n",
       "0          1   -8437.673028         42               высшее             0   \n",
       "1          1   -4024.803754         36              среднее             1   \n",
       "2          0   -5623.422610         33              Среднее             1   \n",
       "3          3   -4124.747207         32              среднее             1   \n",
       "4          0  340266.072047         53              среднее             1   \n",
       "5          0    -926.185831         27               высшее             0   \n",
       "6          0   -2879.202052         43               высшее             0   \n",
       "7          0    -152.779569         50              СРЕДНЕЕ             1   \n",
       "8          2   -6929.865299         35               ВЫСШЕЕ             0   \n",
       "9          0   -2188.756445         41              среднее             1   \n",
       "10         2   -4171.483647         36               высшее             0   \n",
       "11         0    -792.701887         40              среднее             1   \n",
       "12         0            NaN         65              среднее             1   \n",
       "13         0   -1846.641941         54  неоконченное высшее             2   \n",
       "14         0   -1844.956182         56               высшее             0   \n",
       "15         1    -972.364419         26              среднее             1   \n",
       "16         0   -1719.934226         35              среднее             1   \n",
       "17         0   -2369.999720         33               высшее             0   \n",
       "18         0  400281.136913         53              среднее             1   \n",
       "19         0  -10038.818549         48              СРЕДНЕЕ             1   \n",
       "\n",
       "       family_status  family_status_id gender income_type  debt  \\\n",
       "0    женат / замужем                 0      F   сотрудник     0   \n",
       "1    женат / замужем                 0      F   сотрудник     0   \n",
       "2    женат / замужем                 0      M   сотрудник     0   \n",
       "3    женат / замужем                 0      M   сотрудник     0   \n",
       "4   гражданский брак                 1      F   пенсионер     0   \n",
       "5   гражданский брак                 1      M   компаньон     0   \n",
       "6    женат / замужем                 0      F   компаньон     0   \n",
       "7    женат / замужем                 0      M   сотрудник     0   \n",
       "8   гражданский брак                 1      F   сотрудник     0   \n",
       "9    женат / замужем                 0      M   сотрудник     0   \n",
       "10   женат / замужем                 0      M   компаньон     0   \n",
       "11   женат / замужем                 0      F   сотрудник     0   \n",
       "12  гражданский брак                 1      M   пенсионер     0   \n",
       "13   женат / замужем                 0      F   сотрудник     0   \n",
       "14  гражданский брак                 1      F   компаньон     1   \n",
       "15   женат / замужем                 0      F   сотрудник     0   \n",
       "16   женат / замужем                 0      F   сотрудник     0   \n",
       "17  гражданский брак                 1      M   сотрудник     0   \n",
       "18    вдовец / вдова                 2      F   пенсионер     0   \n",
       "19         в разводе                 3      F   сотрудник     0   \n",
       "\n",
       "     total_income                                 purpose  \n",
       "0   253875.639453                           покупка жилья  \n",
       "1   112080.014102                 приобретение автомобиля  \n",
       "2   145885.952297                           покупка жилья  \n",
       "3   267628.550329              дополнительное образование  \n",
       "4   158616.077870                         сыграть свадьбу  \n",
       "5   255763.565419                           покупка жилья  \n",
       "6   240525.971920                       операции с жильем  \n",
       "7   135823.934197                             образование  \n",
       "8    95856.832424                   на проведение свадьбы  \n",
       "9   144425.938277                 покупка жилья для семьи  \n",
       "10  113943.491460                    покупка недвижимости  \n",
       "11   77069.234271       покупка коммерческой недвижимости  \n",
       "12            NaN                         сыграть свадьбу  \n",
       "13  130458.228857                 приобретение автомобиля  \n",
       "14  165127.911772              покупка жилой недвижимости  \n",
       "15  116820.904450  строительство собственной недвижимости  \n",
       "16  289202.704229                            недвижимость  \n",
       "17   90410.586745              строительство недвижимости  \n",
       "18   56823.777243      на покупку подержанного автомобиля  \n",
       "19  242831.107982            на покупку своего автомобиля  "
      ]
     },
     "execution_count": 2,
     "metadata": {},
     "output_type": "execute_result"
    }
   ],
   "source": [
    "data.head(20)"
   ]
  },
  {
   "cell_type": "markdown",
   "id": "98269677",
   "metadata": {
    "deletable": false,
    "editable": false,
    "id": "1c12e233"
   },
   "source": [
    "**Задание 3. Выведите основную информацию о датафрейме с помощью метода `info()`.**"
   ]
  },
  {
   "cell_type": "code",
   "execution_count": 3,
   "id": "8a381e67",
   "metadata": {
    "deletable": false,
    "id": "2b757bca",
    "outputId": "15376089-8dad-46c9-b520-c05248d43158"
   },
   "outputs": [
    {
     "name": "stdout",
     "output_type": "stream",
     "text": [
      "<class 'pandas.core.frame.DataFrame'>\n",
      "RangeIndex: 21525 entries, 0 to 21524\n",
      "Data columns (total 12 columns):\n",
      " #   Column            Non-Null Count  Dtype  \n",
      "---  ------            --------------  -----  \n",
      " 0   children          21525 non-null  int64  \n",
      " 1   days_employed     19351 non-null  float64\n",
      " 2   dob_years         21525 non-null  int64  \n",
      " 3   education         21525 non-null  object \n",
      " 4   education_id      21525 non-null  int64  \n",
      " 5   family_status     21525 non-null  object \n",
      " 6   family_status_id  21525 non-null  int64  \n",
      " 7   gender            21525 non-null  object \n",
      " 8   income_type       21525 non-null  object \n",
      " 9   debt              21525 non-null  int64  \n",
      " 10  total_income      19351 non-null  float64\n",
      " 11  purpose           21525 non-null  object \n",
      "dtypes: float64(2), int64(5), object(5)\n",
      "memory usage: 2.0+ MB\n"
     ]
    }
   ],
   "source": [
    "data.info()"
   ]
  },
  {
   "cell_type": "markdown",
   "id": "f20510d7",
   "metadata": {
    "deletable": false,
    "editable": false,
    "id": "333ec665"
   },
   "source": [
    "## Предобработка данных"
   ]
  },
  {
   "cell_type": "markdown",
   "id": "f3c4b114",
   "metadata": {
    "deletable": false,
    "editable": false,
    "id": "02d92d53"
   },
   "source": [
    "### Удаление пропусков"
   ]
  },
  {
   "cell_type": "markdown",
   "id": "ebd9a048",
   "metadata": {
    "deletable": false,
    "editable": false,
    "id": "cd84967c"
   },
   "source": [
    "**Задание 4. Выведите количество пропущенных значений для каждого столбца. Используйте комбинацию двух методов.**"
   ]
  },
  {
   "cell_type": "code",
   "execution_count": 4,
   "id": "4ab578f0",
   "metadata": {
    "deletable": false,
    "id": "7f9b2309",
    "outputId": "81f4d817-781c-465c-ed15-91ce4446810d"
   },
   "outputs": [
    {
     "data": {
      "text/plain": [
       "children               0\n",
       "days_employed       2174\n",
       "dob_years              0\n",
       "education              0\n",
       "education_id           0\n",
       "family_status          0\n",
       "family_status_id       0\n",
       "gender                 0\n",
       "income_type            0\n",
       "debt                   0\n",
       "total_income        2174\n",
       "purpose                0\n",
       "dtype: int64"
      ]
     },
     "execution_count": 4,
     "metadata": {},
     "output_type": "execute_result"
    }
   ],
   "source": [
    "data.isna().sum()"
   ]
  },
  {
   "cell_type": "markdown",
   "id": "efdbe1f7",
   "metadata": {
    "deletable": false,
    "editable": false,
    "id": "db86e27b"
   },
   "source": [
    "**Задание 5. В двух столбцах есть пропущенные значения. Один из них — `days_employed`. Пропуски в этом столбце вы обработаете на следующем этапе. Другой столбец с пропущенными значениями — `total_income` — хранит данные о доходах. На сумму дохода сильнее всего влияет тип занятости, поэтому заполнить пропуски в этом столбце нужно медианным значением по каждому типу из столбца `income_type`. Например, у человека с типом занятости `сотрудник` пропуск в столбце `total_income` должен быть заполнен медианным доходом среди всех записей с тем же типом.**"
   ]
  },
  {
   "cell_type": "code",
   "execution_count": 5,
   "id": "b36af7a8",
   "metadata": {
    "deletable": false,
    "id": "42006a93"
   },
   "outputs": [],
   "source": [
    "for t in data['income_type'].unique():\n",
    "    data.loc[(data['income_type'] == t) & (data['total_income'].isna()), 'total_income'] = \\\n",
    "    data.loc[(data['income_type'] == t), 'total_income'].median()"
   ]
  },
  {
   "cell_type": "markdown",
   "id": "727552d5",
   "metadata": {
    "deletable": false,
    "editable": false,
    "id": "89da5ece"
   },
   "source": [
    "### Обработка аномальных значений"
   ]
  },
  {
   "cell_type": "markdown",
   "id": "a9581fff",
   "metadata": {
    "deletable": false,
    "editable": false,
    "id": "57964554"
   },
   "source": [
    "**Задание 6. В данных могут встречаться артефакты (аномалии) — значения, которые не отражают действительность и появились по какой-то ошибке. таким артефактом будет отрицательное количество дней трудового стажа в столбце `days_employed`. Для реальных данных это нормально. Обработайте значения в этом столбце: замените все отрицательные значения положительными с помощью метода `abs()`.**"
   ]
  },
  {
   "cell_type": "code",
   "execution_count": 6,
   "id": "13b6018f",
   "metadata": {
    "deletable": false,
    "id": "f6f055bf"
   },
   "outputs": [],
   "source": [
    "data['days_employed'] = data['days_employed'].abs()"
   ]
  },
  {
   "cell_type": "markdown",
   "id": "3cffe650",
   "metadata": {
    "deletable": false,
    "editable": false,
    "id": "6107dd2f"
   },
   "source": [
    "**Задание 7. Для каждого типа занятости выведите медианное значение трудового стажа `days_employed` в днях.**"
   ]
  },
  {
   "cell_type": "code",
   "execution_count": 7,
   "id": "f90ba68d",
   "metadata": {
    "deletable": false,
    "id": "85a5faf6",
    "outputId": "801ef80e-522b-4668-f34e-565af7432bcf"
   },
   "outputs": [
    {
     "data": {
      "text/plain": [
       "income_type\n",
       "безработный        366413.652744\n",
       "в декрете            3296.759962\n",
       "госслужащий          2689.368353\n",
       "компаньон            1547.382223\n",
       "пенсионер          365213.306266\n",
       "предприниматель       520.848083\n",
       "сотрудник            1574.202821\n",
       "студент               578.751554\n",
       "Name: days_employed, dtype: float64"
      ]
     },
     "execution_count": 7,
     "metadata": {},
     "output_type": "execute_result"
    }
   ],
   "source": [
    "data.groupby('income_type')['days_employed'].agg('median')"
   ]
  },
  {
   "cell_type": "markdown",
   "id": "f773dbfe",
   "metadata": {
    "deletable": false,
    "editable": false,
    "id": "38d1a030"
   },
   "source": [
    "У двух типов (безработные и пенсионеры) получатся аномально большие значения. Исправить такие значения сложно, поэтому оставьте их как есть. Тем более этот столбец не понадобится вам для исследования."
   ]
  },
  {
   "cell_type": "markdown",
   "id": "2ed912a2",
   "metadata": {
    "deletable": false,
    "editable": false,
    "id": "d8a9f147"
   },
   "source": [
    "**Задание 8. Выведите перечень уникальных значений столбца `children`.**"
   ]
  },
  {
   "cell_type": "code",
   "execution_count": 8,
   "id": "d665c901",
   "metadata": {
    "deletable": false,
    "id": "ef5056eb",
    "outputId": "6975b15c-7f95-4697-d16d-a0c79b657b03"
   },
   "outputs": [
    {
     "data": {
      "text/plain": [
       "array([ 1,  0,  3,  2, -1,  4, 20,  5])"
      ]
     },
     "execution_count": 8,
     "metadata": {},
     "output_type": "execute_result"
    }
   ],
   "source": [
    "data['children'].unique()"
   ]
  },
  {
   "cell_type": "markdown",
   "id": "4c3c4d27",
   "metadata": {
    "deletable": false,
    "editable": false,
    "id": "40b9ebf2"
   },
   "source": [
    "**Задание 9. В столбце `children` есть два аномальных значения. Удалите строки, в которых встречаются такие аномальные значения из датафрейма `data`.**"
   ]
  },
  {
   "cell_type": "code",
   "execution_count": 9,
   "id": "d7992818",
   "metadata": {
    "deletable": false,
    "id": "3ff9801d"
   },
   "outputs": [],
   "source": [
    "data = data[(data['children'] != -1) & (data['children'] != 20)]"
   ]
  },
  {
   "cell_type": "markdown",
   "id": "1f644b58",
   "metadata": {
    "deletable": false,
    "editable": false,
    "id": "bbc4d0ce"
   },
   "source": [
    "**Задание 10. Ещё раз выведите перечень уникальных значений столбца `children`, чтобы убедиться, что артефакты удалены.**"
   ]
  },
  {
   "cell_type": "code",
   "execution_count": 10,
   "id": "5fe614de",
   "metadata": {
    "deletable": false,
    "id": "ad4fa8b7",
    "outputId": "b2097101-d49d-44d9-901b-32a65c9463d1"
   },
   "outputs": [
    {
     "data": {
      "text/plain": [
       "array([1, 0, 3, 2, 4, 5])"
      ]
     },
     "execution_count": 10,
     "metadata": {},
     "output_type": "execute_result"
    }
   ],
   "source": [
    "data['children'].unique()"
   ]
  },
  {
   "cell_type": "markdown",
   "id": "2afb06bf",
   "metadata": {
    "deletable": false,
    "editable": false,
    "id": "75440b63"
   },
   "source": [
    "### Удаление пропусков (продолжение)"
   ]
  },
  {
   "cell_type": "markdown",
   "id": "1c609fe4",
   "metadata": {
    "deletable": false,
    "editable": false,
    "id": "f4ea573f"
   },
   "source": [
    "**Задание 11. Заполните пропуски в столбце `days_employed` медианными значениями по каждого типа занятости `income_type`.**"
   ]
  },
  {
   "cell_type": "code",
   "execution_count": 11,
   "id": "357cf369",
   "metadata": {
    "deletable": false,
    "id": "af6b1a7e"
   },
   "outputs": [],
   "source": [
    "for t in data['income_type'].unique():\n",
    "    data.loc[(data['income_type'] == t) & (data['days_employed'].isna()), 'days_employed'] = \\\n",
    "    data.loc[(data['income_type'] == t), 'days_employed'].median()"
   ]
  },
  {
   "cell_type": "markdown",
   "id": "1b8fd0f6",
   "metadata": {
    "deletable": false,
    "editable": false,
    "id": "2753f40d"
   },
   "source": [
    "**Задание 12. Убедитесь, что все пропуски заполнены. Проверьте себя и ещё раз выведите количество пропущенных значений для каждого столбца с помощью двух методов.**"
   ]
  },
  {
   "cell_type": "code",
   "execution_count": 12,
   "id": "06f32235",
   "metadata": {
    "deletable": false,
    "id": "55f78bc2",
    "outputId": "8da1e4e1-358e-4e87-98c9-f261bce0a7b2"
   },
   "outputs": [
    {
     "data": {
      "text/plain": [
       "children            0\n",
       "days_employed       0\n",
       "dob_years           0\n",
       "education           0\n",
       "education_id        0\n",
       "family_status       0\n",
       "family_status_id    0\n",
       "gender              0\n",
       "income_type         0\n",
       "debt                0\n",
       "total_income        0\n",
       "purpose             0\n",
       "dtype: int64"
      ]
     },
     "execution_count": 12,
     "metadata": {},
     "output_type": "execute_result"
    }
   ],
   "source": [
    "data.isna().sum()"
   ]
  },
  {
   "cell_type": "markdown",
   "id": "480e1ad6",
   "metadata": {
    "deletable": false,
    "editable": false,
    "id": "ddc81e43"
   },
   "source": [
    "### Изменение типов данных"
   ]
  },
  {
   "cell_type": "markdown",
   "id": "86bf29b0",
   "metadata": {
    "deletable": false,
    "editable": false,
    "id": "42d19d24"
   },
   "source": [
    "**Задание 13. Замените вещественный тип данных в столбце `total_income` на целочисленный с помощью метода `astype()`.**"
   ]
  },
  {
   "cell_type": "code",
   "execution_count": 13,
   "id": "94422c7e",
   "metadata": {
    "deletable": false,
    "id": "920b65ad"
   },
   "outputs": [],
   "source": [
    "data['total_income'] = data['total_income'].astype(int)"
   ]
  },
  {
   "cell_type": "markdown",
   "id": "7beec16a",
   "metadata": {
    "deletable": false,
    "editable": false,
    "id": "80c420ba"
   },
   "source": [
    "### Обработка дубликатов"
   ]
  },
  {
   "cell_type": "markdown",
   "id": "64374bda",
   "metadata": {
    "deletable": false,
    "editable": false
   },
   "source": [
    "**Задание 14. Обработайте неявные дубликаты в столбце `education`. В этом столбце есть одни и те же значения, но записанные по-разному: с использованием заглавных и строчных букв. Приведите их к нижнему регистру. Проверьте остальные столбцы.**"
   ]
  },
  {
   "cell_type": "code",
   "execution_count": 14,
   "id": "9b5d4b3c",
   "metadata": {
    "deletable": false
   },
   "outputs": [],
   "source": [
    "data['education'] = data['education'].str.lower()"
   ]
  },
  {
   "cell_type": "markdown",
   "id": "dbe6c9bb",
   "metadata": {
    "deletable": false,
    "editable": false,
    "id": "dc587695"
   },
   "source": [
    "**Задание 15. Выведите на экран количество строк-дубликатов в данных. Если такие строки присутствуют, удалите их.**"
   ]
  },
  {
   "cell_type": "code",
   "execution_count": 15,
   "id": "52407b86",
   "metadata": {
    "deletable": false,
    "id": "3ee445e4",
    "outputId": "9684deba-1934-42d1-99e1-cda61740f822"
   },
   "outputs": [
    {
     "data": {
      "text/plain": [
       "71"
      ]
     },
     "execution_count": 15,
     "metadata": {},
     "output_type": "execute_result"
    }
   ],
   "source": [
    "data.duplicated().sum()"
   ]
  },
  {
   "cell_type": "code",
   "execution_count": 16,
   "id": "7cf942ba",
   "metadata": {
    "deletable": false,
    "id": "8575fe05"
   },
   "outputs": [],
   "source": [
    "data = data.drop_duplicates()"
   ]
  },
  {
   "cell_type": "markdown",
   "id": "8c45849e",
   "metadata": {
    "deletable": false,
    "editable": false,
    "id": "9904cf55"
   },
   "source": [
    "### Категоризация данных"
   ]
  },
  {
   "cell_type": "markdown",
   "id": "9e21a5c7",
   "metadata": {
    "deletable": false,
    "editable": false,
    "id": "72fcc8a2"
   },
   "source": [
    "**Задание 16. На основании диапазонов, указанных ниже, создайте в датафрейме `data` столбец `total_income_category` с категориями:**\n",
    "\n",
    "- 0–30000 — `'E'`;\n",
    "- 30001–50000 — `'D'`;\n",
    "- 50001–200000 — `'C'`;\n",
    "- 200001–1000000 — `'B'`;\n",
    "- 1000001 и выше — `'A'`.\n",
    "\n",
    "\n",
    "**Например, кредитополучателю с доходом 25000 нужно назначить категорию `'E'`, а клиенту, получающему 235000, — `'B'`. Используйте собственную функцию с именем `categorize_income()` и метод `apply()`.**"
   ]
  },
  {
   "cell_type": "code",
   "execution_count": 17,
   "id": "8f2e4382",
   "metadata": {
    "deletable": false,
    "id": "e1771346"
   },
   "outputs": [],
   "source": [
    "def categorize_income(income):\n",
    "    try:\n",
    "        if 0 <= income <= 30000:\n",
    "            return 'E'\n",
    "        elif 30001 <= income <= 50000:\n",
    "            return 'D'\n",
    "        elif 50001 <= income <= 200000:\n",
    "            return 'C'\n",
    "        elif 200001 <= income <= 1000000:\n",
    "            return 'B'\n",
    "        elif income >= 1000001:\n",
    "            return 'A'\n",
    "    except:\n",
    "        pass"
   ]
  },
  {
   "cell_type": "code",
   "execution_count": 18,
   "id": "4a7eb30b",
   "metadata": {
    "deletable": false,
    "id": "d5f3586d"
   },
   "outputs": [],
   "source": [
    "data['total_income_category'] = data['total_income'].apply(categorize_income)"
   ]
  },
  {
   "cell_type": "markdown",
   "id": "9feef518",
   "metadata": {
    "deletable": false,
    "editable": false,
    "id": "dde49b5c"
   },
   "source": [
    "**Задание 17. Выведите на экран перечень уникальных целей взятия кредита из столбца `purpose`.**"
   ]
  },
  {
   "cell_type": "code",
   "execution_count": 19,
   "id": "e47a00a5",
   "metadata": {
    "deletable": false,
    "id": "f67ce9b3",
    "outputId": "673c12d9-7d7e-4ae0-9812-c622c89dd244"
   },
   "outputs": [
    {
     "data": {
      "text/plain": [
       "array(['покупка жилья', 'приобретение автомобиля',\n",
       "       'дополнительное образование', 'сыграть свадьбу',\n",
       "       'операции с жильем', 'образование', 'на проведение свадьбы',\n",
       "       'покупка жилья для семьи', 'покупка недвижимости',\n",
       "       'покупка коммерческой недвижимости', 'покупка жилой недвижимости',\n",
       "       'строительство собственной недвижимости', 'недвижимость',\n",
       "       'строительство недвижимости', 'на покупку подержанного автомобиля',\n",
       "       'на покупку своего автомобиля',\n",
       "       'операции с коммерческой недвижимостью',\n",
       "       'строительство жилой недвижимости', 'жилье',\n",
       "       'операции со своей недвижимостью', 'автомобили',\n",
       "       'заняться образованием', 'сделка с подержанным автомобилем',\n",
       "       'получение образования', 'автомобиль', 'свадьба',\n",
       "       'получение дополнительного образования', 'покупка своего жилья',\n",
       "       'операции с недвижимостью', 'получение высшего образования',\n",
       "       'свой автомобиль', 'сделка с автомобилем',\n",
       "       'профильное образование', 'высшее образование',\n",
       "       'покупка жилья для сдачи', 'на покупку автомобиля', 'ремонт жилью',\n",
       "       'заняться высшим образованием'], dtype=object)"
      ]
     },
     "execution_count": 19,
     "metadata": {},
     "output_type": "execute_result"
    }
   ],
   "source": [
    "data['purpose'].unique()"
   ]
  },
  {
   "cell_type": "markdown",
   "id": "701cf75c",
   "metadata": {
    "deletable": false,
    "editable": false,
    "id": "85d0aef0"
   },
   "source": [
    "**Задание 18. Создайте функцию, которая на основании данных из столбца `purpose` сформирует новый столбец `purpose_category`, в который войдут следующие категории:**\n",
    "\n",
    "- `'операции с автомобилем'`,\n",
    "- `'операции с недвижимостью'`,\n",
    "- `'проведение свадьбы'`,\n",
    "- `'получение образования'`.\n",
    "\n",
    "**Например, если в столбце `purpose` находится подстрока `'на покупку автомобиля'`, то в столбце `purpose_category` должна появиться строка `'операции с автомобилем'`.**\n",
    "\n",
    "**Используйте собственную функцию с именем `categorize_purpose()` и метод `apply()`. Изучите данные в столбце `purpose` и определите, какие подстроки помогут вам правильно определить категорию.**"
   ]
  },
  {
   "cell_type": "code",
   "execution_count": 20,
   "id": "7230608b",
   "metadata": {
    "deletable": false,
    "id": "e149fab4"
   },
   "outputs": [],
   "source": [
    "def categorize_purpose(row):\n",
    "    try:\n",
    "        if 'автом' in row:\n",
    "            return 'операции с автомобилем'\n",
    "        elif 'жил' in row or 'недвиж' in row:\n",
    "            return 'операции с недвижимостью'\n",
    "        elif 'свад' in row:\n",
    "            return 'проведение свадьбы'\n",
    "        elif 'образов' in row:\n",
    "            return 'получение образования'\n",
    "    except:\n",
    "        return 'нет категории'"
   ]
  },
  {
   "cell_type": "code",
   "execution_count": 21,
   "id": "397371c1",
   "metadata": {
    "deletable": false,
    "id": "bf36e69b"
   },
   "outputs": [],
   "source": [
    "data['purpose_category'] = data['purpose'].apply(categorize_purpose)"
   ]
  },
  {
   "cell_type": "markdown",
   "id": "d8c644ca",
   "metadata": {
    "deletable": false,
    "editable": false,
    "id": "09b242bf"
   },
   "source": [
    "### Шаг 3. Исследуйте данные и ответьте на вопросы"
   ]
  },
  {
   "cell_type": "markdown",
   "id": "9187fa75",
   "metadata": {
    "deletable": false,
    "editable": false,
    "id": "c5d66278"
   },
   "source": [
    "#### 3.1 Есть ли зависимость между количеством детей и возвратом кредита в срок?"
   ]
  },
  {
   "cell_type": "code",
   "execution_count": 22,
   "id": "3046101b",
   "metadata": {
    "deletable": false,
    "id": "2cacfc4a"
   },
   "outputs": [
    {
     "data": {
      "text/html": [
       "<div>\n",
       "<style scoped>\n",
       "    .dataframe tbody tr th:only-of-type {\n",
       "        vertical-align: middle;\n",
       "    }\n",
       "\n",
       "    .dataframe tbody tr th {\n",
       "        vertical-align: top;\n",
       "    }\n",
       "\n",
       "    .dataframe thead th {\n",
       "        text-align: right;\n",
       "    }\n",
       "</style>\n",
       "<table border=\"1\" class=\"dataframe\">\n",
       "  <thead>\n",
       "    <tr style=\"text-align: right;\">\n",
       "      <th></th>\n",
       "      <th>count_children</th>\n",
       "      <th>sum_children</th>\n",
       "      <th>result_children</th>\n",
       "    </tr>\n",
       "    <tr>\n",
       "      <th>children</th>\n",
       "      <th></th>\n",
       "      <th></th>\n",
       "      <th></th>\n",
       "    </tr>\n",
       "  </thead>\n",
       "  <tbody>\n",
       "    <tr>\n",
       "      <th>5</th>\n",
       "      <td>9</td>\n",
       "      <td>0</td>\n",
       "      <td>0.000000</td>\n",
       "    </tr>\n",
       "    <tr>\n",
       "      <th>4</th>\n",
       "      <td>41</td>\n",
       "      <td>4</td>\n",
       "      <td>0.097561</td>\n",
       "    </tr>\n",
       "    <tr>\n",
       "      <th>3</th>\n",
       "      <td>330</td>\n",
       "      <td>27</td>\n",
       "      <td>0.081818</td>\n",
       "    </tr>\n",
       "    <tr>\n",
       "      <th>2</th>\n",
       "      <td>2052</td>\n",
       "      <td>194</td>\n",
       "      <td>0.094542</td>\n",
       "    </tr>\n",
       "    <tr>\n",
       "      <th>1</th>\n",
       "      <td>4808</td>\n",
       "      <td>444</td>\n",
       "      <td>0.092346</td>\n",
       "    </tr>\n",
       "    <tr>\n",
       "      <th>0</th>\n",
       "      <td>14091</td>\n",
       "      <td>1063</td>\n",
       "      <td>0.075438</td>\n",
       "    </tr>\n",
       "  </tbody>\n",
       "</table>\n",
       "</div>"
      ],
      "text/plain": [
       "          count_children  sum_children  result_children\n",
       "children                                               \n",
       "5                      9             0         0.000000\n",
       "4                     41             4         0.097561\n",
       "3                    330            27         0.081818\n",
       "2                   2052           194         0.094542\n",
       "1                   4808           444         0.092346\n",
       "0                  14091          1063         0.075438"
      ]
     },
     "execution_count": 22,
     "metadata": {},
     "output_type": "execute_result"
    }
   ],
   "source": [
    "#создам датафрейм\n",
    "debt_from_children = pd.DataFrame()\n",
    "#посчитаю количество\n",
    "debt_from_children['count_children'] = data.groupby('children')['debt'].count()\n",
    "#посчитаю сумму\n",
    "debt_from_children['sum_children'] = data.groupby('children')['debt'].sum()\n",
    "#найду отношение суммы к количеству и получу таблицу, по которой сделаю вывод\n",
    "debt_from_children['result_children'] = debt_from_children['sum_children'] / debt_from_children['count_children'] \n",
    "debt_from_children.sort_values('children', ascending = False)"
   ]
  },
  {
   "cell_type": "markdown",
   "id": "6f401c3d",
   "metadata": {
    "deletable": false,
    "id": "3a6b99ec"
   },
   "source": [
    "**Вывод:** Бездетные реже просрачивают оплату по кредиту, чем люди с детьми. С увеличением количества детей, увеличивается и вероятность просрочки платежа, однако клиенты с 3 детьми реже просрачивают, чем с одним."
   ]
  },
  {
   "cell_type": "markdown",
   "id": "c99e5427",
   "metadata": {
    "deletable": false,
    "editable": false,
    "id": "97be82ca"
   },
   "source": [
    "#### 3.2 Есть ли зависимость между семейным положением и возвратом кредита в срок?"
   ]
  },
  {
   "cell_type": "code",
   "execution_count": 23,
   "id": "989a8f41",
   "metadata": {
    "deletable": false,
    "id": "dc3f7ee8"
   },
   "outputs": [
    {
     "data": {
      "text/html": [
       "<div>\n",
       "<style scoped>\n",
       "    .dataframe tbody tr th:only-of-type {\n",
       "        vertical-align: middle;\n",
       "    }\n",
       "\n",
       "    .dataframe tbody tr th {\n",
       "        vertical-align: top;\n",
       "    }\n",
       "\n",
       "    .dataframe thead th {\n",
       "        text-align: right;\n",
       "    }\n",
       "</style>\n",
       "<table border=\"1\" class=\"dataframe\">\n",
       "  <thead>\n",
       "    <tr style=\"text-align: right;\">\n",
       "      <th>debt</th>\n",
       "      <th>0</th>\n",
       "      <th>1</th>\n",
       "      <th>ratio</th>\n",
       "    </tr>\n",
       "    <tr>\n",
       "      <th>family_status</th>\n",
       "      <th></th>\n",
       "      <th></th>\n",
       "      <th></th>\n",
       "    </tr>\n",
       "  </thead>\n",
       "  <tbody>\n",
       "    <tr>\n",
       "      <th>Не женат / не замужем</th>\n",
       "      <td>2523</td>\n",
       "      <td>273</td>\n",
       "      <td>0.098</td>\n",
       "    </tr>\n",
       "    <tr>\n",
       "      <th>гражданский брак</th>\n",
       "      <td>3749</td>\n",
       "      <td>385</td>\n",
       "      <td>0.093</td>\n",
       "    </tr>\n",
       "    <tr>\n",
       "      <th>женат / замужем</th>\n",
       "      <td>11334</td>\n",
       "      <td>927</td>\n",
       "      <td>0.076</td>\n",
       "    </tr>\n",
       "    <tr>\n",
       "      <th>в разводе</th>\n",
       "      <td>1105</td>\n",
       "      <td>84</td>\n",
       "      <td>0.071</td>\n",
       "    </tr>\n",
       "    <tr>\n",
       "      <th>вдовец / вдова</th>\n",
       "      <td>888</td>\n",
       "      <td>63</td>\n",
       "      <td>0.066</td>\n",
       "    </tr>\n",
       "  </tbody>\n",
       "</table>\n",
       "</div>"
      ],
      "text/plain": [
       "debt                       0    1  ratio\n",
       "family_status                           \n",
       "Не женат / не замужем   2523  273  0.098\n",
       "гражданский брак        3749  385  0.093\n",
       "женат / замужем        11334  927  0.076\n",
       "в разводе               1105   84  0.071\n",
       "вдовец / вдова           888   63  0.066"
      ]
     },
     "execution_count": 23,
     "metadata": {},
     "output_type": "execute_result"
    }
   ],
   "source": [
    "data_pivot = data.pivot_table(index = ['family_status'], columns = 'debt', values = 'gender', aggfunc = 'count')\n",
    "\n",
    "# посчитаем вероятность задолженности для каждого вида семейного положения\n",
    "data_pivot['ratio'] = round(data_pivot[1] / (data_pivot[0] + data_pivot[1]), 3)\n",
    "data_pivot.sort_values('ratio', ascending = False)"
   ]
  },
  {
   "cell_type": "markdown",
   "id": "b3d2284d",
   "metadata": {
    "deletable": false,
    "id": "1cef7837"
   },
   "source": [
    "**Вывод:** Клиенты, которые оформляли отношения официально платят кредиты лучше. Если клиент хоть раз был женат/замужем, то вероятность задолженности по кредиту будет меньше. А также те кто развелись или овдовели чаще платят в срок, чем люди в браке."
   ]
  },
  {
   "cell_type": "markdown",
   "id": "c3b45020",
   "metadata": {
    "deletable": false,
    "editable": false,
    "id": "1e8b2fca"
   },
   "source": [
    "#### 3.3 Есть ли зависимость между уровнем дохода и возвратом кредита в срок?"
   ]
  },
  {
   "cell_type": "code",
   "execution_count": 24,
   "id": "db34fb7a",
   "metadata": {
    "deletable": false,
    "id": "cd7e3720"
   },
   "outputs": [
    {
     "data": {
      "text/html": [
       "<div>\n",
       "<style scoped>\n",
       "    .dataframe tbody tr th:only-of-type {\n",
       "        vertical-align: middle;\n",
       "    }\n",
       "\n",
       "    .dataframe tbody tr th {\n",
       "        vertical-align: top;\n",
       "    }\n",
       "\n",
       "    .dataframe thead th {\n",
       "        text-align: right;\n",
       "    }\n",
       "</style>\n",
       "<table border=\"1\" class=\"dataframe\">\n",
       "  <thead>\n",
       "    <tr style=\"text-align: right;\">\n",
       "      <th></th>\n",
       "      <th>Количество записей</th>\n",
       "      <th>Среднее по задолжностям</th>\n",
       "    </tr>\n",
       "    <tr>\n",
       "      <th>total_income_category</th>\n",
       "      <th></th>\n",
       "      <th></th>\n",
       "    </tr>\n",
       "  </thead>\n",
       "  <tbody>\n",
       "    <tr>\n",
       "      <th>C</th>\n",
       "      <td>15921.0</td>\n",
       "      <td>8.50%</td>\n",
       "    </tr>\n",
       "    <tr>\n",
       "      <th>B</th>\n",
       "      <td>5014.0</td>\n",
       "      <td>7.06%</td>\n",
       "    </tr>\n",
       "    <tr>\n",
       "      <th>D</th>\n",
       "      <td>349.0</td>\n",
       "      <td>6.02%</td>\n",
       "    </tr>\n",
       "    <tr>\n",
       "      <th>A</th>\n",
       "      <td>25.0</td>\n",
       "      <td>8.00%</td>\n",
       "    </tr>\n",
       "    <tr>\n",
       "      <th>E</th>\n",
       "      <td>22.0</td>\n",
       "      <td>9.09%</td>\n",
       "    </tr>\n",
       "  </tbody>\n",
       "</table>\n",
       "</div>"
      ],
      "text/plain": [
       "                       Количество записей Среднее по задолжностям\n",
       "total_income_category                                            \n",
       "C                                 15921.0                   8.50%\n",
       "B                                  5014.0                   7.06%\n",
       "D                                   349.0                   6.02%\n",
       "A                                    25.0                   8.00%\n",
       "E                                    22.0                   9.09%"
      ]
     },
     "execution_count": 24,
     "metadata": {},
     "output_type": "execute_result"
    }
   ],
   "source": [
    "inc = data.pivot_table(index = 'total_income_category', values='debt', aggfunc = ('mean', lambda X:\n",
    "                                                                       X.count()))\n",
    "def percent(x):\n",
    "    return \"{0:.2%}\".format(x)\n",
    "\n",
    "inc['mean'] = inc['mean'].apply(percent)\n",
    "inc = inc.rename(columns={\"<lambda_0>\": \"Количество записей\", \"mean\": \"Среднее по задолжностям\"})\n",
    "inc.sort_values(by='Количество записей', ascending=False)"
   ]
  },
  {
   "cell_type": "markdown",
   "id": "12cfd2b6",
   "metadata": {
    "deletable": false,
    "id": "e8593def"
   },
   "source": [
    "**Вывод:** \n",
    "0–30000 — 'E';\n",
    "30001–50000 — 'D';\n",
    "50001–200000 — 'C';\n",
    "200001–1000000 — 'B';\n",
    "1000001 и выше — 'A'. \n",
    "\n",
    "Лушчий средний показатель имеют клиенты с низким доходом.\n",
    "Объяснить это можно тем, что люди с наименьшими доходами лучше распоряжаются своими средствами и умеют контролировать свой бюджет, чем те, кто зарабатывает немногим больше."
   ]
  },
  {
   "cell_type": "markdown",
   "id": "0cc1fac4",
   "metadata": {},
   "source": [
    "<div style=\"border:solid blue 3px; padding: 20px\">\n",
    "<div class=\"alert alert-info\">\n",
    "\n",
    "    \n",
    "Люди категрии D имеют лучший показатель, то есть платят в срок.\n",
    "Самый плохой показатель по задолженностям у категории Е, это люди с наименьшим доходом.\n",
    "Основную массу клиентской базы как раз составляют люди с доходом средний и выше среднего, в целом показатель по задолженносям у них достаточно высокий. \n",
    "\n",
    "В целом вывод, что прямой зависимости есть, но она не очень явная.\n",
    "</div>\n",
    "</div>"
   ]
  },
  {
   "cell_type": "markdown",
   "id": "375bac38",
   "metadata": {},
   "source": [
    "<div class=\"alert alert-warning\">\n",
    "<h1> Комментарий ревьюера V3💡</h1>\n",
    "\n",
    "Ты верно описываешь наблюдаемые доли просрочки. Действительно категория Д самая дисциплинированная. \n",
    "    \n",
    "Но нам нужно взглянуть и на картину в целом. У нас более 20 тысяч наблюдений - это очень большая выборка. Предложенные границы категорий эту выборку разделяют очень плохо. На категории А, Е и Д приходится менее 2% от общего количества, а на группы В и С остальные 98%.\n",
    "    \n",
    "Само по себе такое разделение не совсем корректно. Стоит предложить заказчику поменять границы групп, так чтобы получались более равномерные категории.\n",
    "    \n",
    "Теперь стоит обратить внимание на группы А и Е, в них у нас по 20 с небольшим наблюдений. Даже один дополнительный просроченный кредит очень сильно исказит долю, так что делать выводы по этим двум группам не стоит совсем. Лучше их просто отбросить.\n",
    "    \n",
    "Остаются группы С, В и Д. В группе Д действительно очень низкая доля просрочки, но возможно это тоже связано с количеством клиентов, скорее всего стоит провести дополнительное исследование в этом направлении.\n",
    "    \n",
    "Из оставшихся двух групп мы видим, что лучше платят те, кто получает больше (конкретно больше 200 тыс).\n",
    "    \n",
    "Еще один вариант решения поставленного вопроса - самостоятельно разбить данные на группы используя другие границы, тогда возможно будет немного другая картина.\n",
    "    \n",
    "Кстати в таких задачах, когда нужно оценить долю между группами стоит посчитать долю для всей выборки. Это будет априорная доля, некая отправная точка, с которой можно будет сравнивать остальные расчеты.\n",
    "    \n",
    "В случае с уровнем дохода, если мне не изменяет память то для группы С доля просрочки практически совпадает с долей просрочки по всей выборке. То есть до уровня дохода в 200 тыс, вероятность просрочки совпадает с средней по всей выборке.\n",
    "\n",
    "</div>"
   ]
  },
  {
   "cell_type": "markdown",
   "id": "3096fd8d",
   "metadata": {},
   "source": [
    "<div style=\"border:solid blue 3px; padding: 20px\">\n",
    "<div class=\"alert alert-info\">\n",
    "\n",
    "В таком случае может порекомендовать объединить категории E и D, чтобы не терять показатели этих групп, нам ведь важно понимать как платят группы с низким достатком. Группу А я согласна отбросить, потому как выборка и правда очень маленькая, будет портить картину.\n",
    "Тогда предлагаю такую категоризацию: \n",
    "    \n",
    "0–60000 — 'низкий';\n",
    "60001–120000 — 'средний';\n",
    "120001–200000 — 'выше среднего';\n",
    "200001–1000000 — 'высокий';\n",
    "1000001 и выше — 'очень высокий'    \n",
    "    \n",
    "И что это значит для нас, что для С совпадает со средней выборкой? \n",
    "\n",
    "    \n",
    "</div>\n",
    "</div>"
   ]
  },
  {
   "cell_type": "markdown",
   "id": "497a2294",
   "metadata": {},
   "source": [
    "<div class=\"alert alert-success\">\n",
    "<h1> Комментарий ревьюера V4✅</h1>\n",
    "\n",
    "Хорошее решение. Группу А тоже можно было объединить и оставить категорию только больше 200.\n",
    "    \n",
    "Поскольку у нас доля просрочки для клиентов со средним уровнем дохода совпадает с долей просрочки по всей выборке, мы не можем сказать, что средний доход негативно влияет на просрочку.\n",
    "    \n",
    "Как ты верно отмечаешь в выводе дальше, все что мы можем сказать, это то, что лучше платят те, кто получает или меньше или больше чем в среднем.\n",
    "\n",
    "</div>"
   ]
  },
  {
   "cell_type": "code",
   "execution_count": 25,
   "id": "37196bf6",
   "metadata": {},
   "outputs": [],
   "source": [
    "def replace_income(income):\n",
    "    try:\n",
    "        if 0 <= income <= 60000:\n",
    "            return 'низкий'\n",
    "        elif 60001 <= income <= 120000:\n",
    "            return 'средний'\n",
    "        elif 120001 <= income <= 200000:\n",
    "            return 'выше среднего'\n",
    "        elif 200001 <= income <= 1000000:\n",
    "            return 'высокий'\n",
    "        elif income >= 1000001:\n",
    "            return 'очень высокий'\n",
    "    except:\n",
    "        pass\n"
   ]
  },
  {
   "cell_type": "code",
   "execution_count": 26,
   "id": "28ac4260",
   "metadata": {},
   "outputs": [],
   "source": [
    "data['total_income_category'] = data['total_income'].apply(replace_income)"
   ]
  },
  {
   "cell_type": "code",
   "execution_count": 27,
   "id": "faaa306b",
   "metadata": {},
   "outputs": [
    {
     "data": {
      "text/html": [
       "<div>\n",
       "<style scoped>\n",
       "    .dataframe tbody tr th:only-of-type {\n",
       "        vertical-align: middle;\n",
       "    }\n",
       "\n",
       "    .dataframe tbody tr th {\n",
       "        vertical-align: top;\n",
       "    }\n",
       "\n",
       "    .dataframe thead th {\n",
       "        text-align: right;\n",
       "    }\n",
       "</style>\n",
       "<table border=\"1\" class=\"dataframe\">\n",
       "  <thead>\n",
       "    <tr style=\"text-align: right;\">\n",
       "      <th></th>\n",
       "      <th>Количество записей</th>\n",
       "      <th>Среднее по задолжностям</th>\n",
       "    </tr>\n",
       "    <tr>\n",
       "      <th>total_income_category</th>\n",
       "      <th></th>\n",
       "      <th></th>\n",
       "    </tr>\n",
       "  </thead>\n",
       "  <tbody>\n",
       "    <tr>\n",
       "      <th>выше среднего</th>\n",
       "      <td>9096.0</td>\n",
       "      <td>8.70%</td>\n",
       "    </tr>\n",
       "    <tr>\n",
       "      <th>средний</th>\n",
       "      <td>6395.0</td>\n",
       "      <td>8.38%</td>\n",
       "    </tr>\n",
       "    <tr>\n",
       "      <th>очень высокий</th>\n",
       "      <td>25.0</td>\n",
       "      <td>8.00%</td>\n",
       "    </tr>\n",
       "    <tr>\n",
       "      <th>высокий</th>\n",
       "      <td>5014.0</td>\n",
       "      <td>7.06%</td>\n",
       "    </tr>\n",
       "    <tr>\n",
       "      <th>низкий</th>\n",
       "      <td>801.0</td>\n",
       "      <td>6.12%</td>\n",
       "    </tr>\n",
       "  </tbody>\n",
       "</table>\n",
       "</div>"
      ],
      "text/plain": [
       "                       Количество записей Среднее по задолжностям\n",
       "total_income_category                                            \n",
       "выше среднего                      9096.0                   8.70%\n",
       "средний                            6395.0                   8.38%\n",
       "очень высокий                        25.0                   8.00%\n",
       "высокий                            5014.0                   7.06%\n",
       "низкий                              801.0                   6.12%"
      ]
     },
     "execution_count": 27,
     "metadata": {},
     "output_type": "execute_result"
    }
   ],
   "source": [
    "inc = data.pivot_table(index = 'total_income_category', values='debt', aggfunc = ('mean', lambda X:\n",
    "                                                                       X.count()))\n",
    "def percent(x):\n",
    "    return \"{0:.2%}\".format(x)\n",
    "\n",
    "inc['mean'] = inc['mean'].apply(percent)\n",
    "inc = inc.rename(columns={\"<lambda_0>\": \"Количество записей\", \"mean\": \"Среднее по задолжностям\"})\n",
    "inc.sort_values(by='Среднее по задолжностям', ascending=False)"
   ]
  },
  {
   "cell_type": "markdown",
   "id": "dea15021",
   "metadata": {},
   "source": [
    "<div style=\"border:solid blue 3px; padding: 20px\">\n",
    "<div class=\"alert alert-info\">\n",
    "\n",
    "Итак, изменив категоризацию мы видим в общем подобную картину. Две категории с доходом 'низкий' и 'высокий' платят лучше всего\n",
    "    \n",
    "</div>\n",
    "</div>"
   ]
  },
  {
   "cell_type": "markdown",
   "id": "caa78717",
   "metadata": {
    "deletable": false,
    "editable": false,
    "id": "99ecbd1f"
   },
   "source": [
    "#### 3.4 Как разные цели кредита влияют на его возврат в срок?"
   ]
  },
  {
   "cell_type": "code",
   "execution_count": 28,
   "id": "78c6b059",
   "metadata": {
    "deletable": false,
    "id": "2b687290"
   },
   "outputs": [
    {
     "data": {
      "text/html": [
       "<div>\n",
       "<style scoped>\n",
       "    .dataframe tbody tr th:only-of-type {\n",
       "        vertical-align: middle;\n",
       "    }\n",
       "\n",
       "    .dataframe tbody tr th {\n",
       "        vertical-align: top;\n",
       "    }\n",
       "\n",
       "    .dataframe thead th {\n",
       "        text-align: right;\n",
       "    }\n",
       "</style>\n",
       "<table border=\"1\" class=\"dataframe\">\n",
       "  <thead>\n",
       "    <tr style=\"text-align: right;\">\n",
       "      <th></th>\n",
       "      <th>sum_purpose_category</th>\n",
       "      <th>count_purpose_category</th>\n",
       "      <th>result_purpose_category</th>\n",
       "    </tr>\n",
       "    <tr>\n",
       "      <th>purpose_category</th>\n",
       "      <th></th>\n",
       "      <th></th>\n",
       "      <th></th>\n",
       "    </tr>\n",
       "  </thead>\n",
       "  <tbody>\n",
       "    <tr>\n",
       "      <th>операции с автомобилем</th>\n",
       "      <td>400</td>\n",
       "      <td>4279</td>\n",
       "      <td>0.093480</td>\n",
       "    </tr>\n",
       "    <tr>\n",
       "      <th>получение образования</th>\n",
       "      <td>369</td>\n",
       "      <td>3988</td>\n",
       "      <td>0.092528</td>\n",
       "    </tr>\n",
       "    <tr>\n",
       "      <th>проведение свадьбы</th>\n",
       "      <td>183</td>\n",
       "      <td>2313</td>\n",
       "      <td>0.079118</td>\n",
       "    </tr>\n",
       "    <tr>\n",
       "      <th>операции с недвижимостью</th>\n",
       "      <td>780</td>\n",
       "      <td>10751</td>\n",
       "      <td>0.072551</td>\n",
       "    </tr>\n",
       "  </tbody>\n",
       "</table>\n",
       "</div>"
      ],
      "text/plain": [
       "                          sum_purpose_category  count_purpose_category  \\\n",
       "purpose_category                                                         \n",
       "операции с автомобилем                     400                    4279   \n",
       "получение образования                      369                    3988   \n",
       "проведение свадьбы                         183                    2313   \n",
       "операции с недвижимостью                   780                   10751   \n",
       "\n",
       "                          result_purpose_category  \n",
       "purpose_category                                   \n",
       "операции с автомобилем                   0.093480  \n",
       "получение образования                    0.092528  \n",
       "проведение свадьбы                       0.079118  \n",
       "операции с недвижимостью                 0.072551  "
      ]
     },
     "execution_count": 28,
     "metadata": {},
     "output_type": "execute_result"
    }
   ],
   "source": [
    "debt_from_purpose_category = pd.DataFrame()\n",
    "debt_from_purpose_category['sum_purpose_category'] = data.groupby('purpose_category')['debt'].sum()\n",
    "debt_from_purpose_category['count_purpose_category'] = data.groupby('purpose_category')['debt'].count()\n",
    "debt_from_purpose_category['result_purpose_category'] = debt_from_purpose_category['sum_purpose_category'] / debt_from_purpose_category['count_purpose_category'] \n",
    "debt_from_purpose_category.sort_values('result_purpose_category', ascending = False)"
   ]
  },
  {
   "cell_type": "markdown",
   "id": "51e92c54",
   "metadata": {
    "deletable": false,
    "id": "b4bb2ce6"
   },
   "source": [
    "**Вывод:** Кредиты на недвижимость просрачивают реже также как и с целью кредита на свадьбу, чаще просрочка у тех кому нужен кредит на авто и образование. "
   ]
  },
  {
   "cell_type": "markdown",
   "id": "37ef0c80",
   "metadata": {},
   "source": [
    "<div class=\"alert alert-success\">\n",
    "<h1> Комментарий ревьюера✅</h1>\n",
    "\n",
    "Верно. Кредиты на недвижимость и свадьбу выплачивают лучше.\n",
    "\n",
    "</div>"
   ]
  },
  {
   "cell_type": "markdown",
   "id": "b833e2e2",
   "metadata": {
    "deletable": false,
    "editable": false,
    "id": "09c3ac4c"
   },
   "source": [
    "#### 3.5 Приведите возможные причины появления пропусков в исходных данных."
   ]
  },
  {
   "cell_type": "markdown",
   "id": "5eec1d9d",
   "metadata": {
    "deletable": false,
    "id": "9da2ceda"
   },
   "source": [
    "*Ответ:* Причинами могут быть ошибки ввода данных, сокрытие информации"
   ]
  },
  {
   "cell_type": "markdown",
   "id": "84058c8a",
   "metadata": {},
   "source": [
    "<div class=\"alert alert-success\">\n",
    "<h1> Комментарий ревьюера✅</h1>\n",
    "\n",
    "Хорошие гипотезы.\n",
    "\n",
    "</div>"
   ]
  },
  {
   "cell_type": "markdown",
   "id": "fb93b727",
   "metadata": {
    "deletable": false,
    "editable": false,
    "id": "7b0487d6"
   },
   "source": [
    "#### 3.6 Объясните, почему заполнить пропуски медианным значением — лучшее решение для количественных переменных."
   ]
  },
  {
   "cell_type": "markdown",
   "id": "524e03c1",
   "metadata": {
    "deletable": false,
    "id": "7ecf2b8e"
   },
   "source": [
    "*Ответ:* В отличии от медианы среднее значение некорректно характеризует данные, некоторые значения сильно выделяются среди большинства"
   ]
  },
  {
   "cell_type": "markdown",
   "id": "34c53e24",
   "metadata": {},
   "source": [
    "<div class=\"alert alert-success\">\n",
    "<h1> Комментарий ревьюера✅</h1>\n",
    "Все так. Медиана более устойчива к выбросам.\n",
    "\n",
    "</div>"
   ]
  },
  {
   "cell_type": "markdown",
   "id": "801a673d",
   "metadata": {
    "deletable": false,
    "editable": false,
    "id": "6db5255a"
   },
   "source": [
    "### Шаг 4: общий вывод."
   ]
  },
  {
   "cell_type": "markdown",
   "id": "c64cae9e",
   "metadata": {
    "deletable": false,
    "id": "bad65432"
   },
   "source": [
    "Cемейный статус влияет на вероятность платежей по кредиту в срок - люди, бывшие в браке чаще плятят в срок чем те, кто не бывали в браке, причем разведенные и овдовевшие платят в срок чаще, чем люди в браке. Чем больше детей, тем чаще платят не в срок, бездетные реже просрачивают оплату. Люди с наименьшими доходами платят в срок с большей вероятностью, возможно это зависит от того, что им нужна хорошая кредитная история и то, что они планируют брать кредиты снова.\n",
    "\n"
   ]
  },
  {
   "cell_type": "markdown",
   "id": "42e7de53",
   "metadata": {},
   "source": [
    "<div style=\"border:solid blue 3px; padding: 20px\">\n",
    "<div class=\"alert alert-info\">\n",
    "\n",
    "    \n",
    "   \n",
    "Кредиты на недвижимость и свадьбу просрачивают реже, чаще просрочка у тех кому нужен кредит на авто и образование. \n",
    "То есть зависимость от цели есть и она чётко прослеживается. Самая \"неопасная цель\" получеия кредита - это свадьба. \"опасная\" - недвижимость. \n",
    "Тут можно предположить то, что разница в объёмах кредита на эти цели очень большая и есть риски просрчоки.\n",
    "Люди со средним достатком совершают меньше просрочек чем с низким и высоким достатком. \n",
    "Первое можно объяснить нехваткой средств, второе - возможным завышением дохода для получения кредита.\n",
    "\n",
    "Я работала с данными клиентской базы некого банка. До анализа данных в базе было несколько проблемных точек, вот почему была необходима предобработка данных.\n",
    "Решение: удаление пропусков, артефактов, замена пропусков медианными значениями, замена типов данных, обработка неявных дубликатов, категоризация данных. \n",
    "По итогу с данными удобнее стало работать и делать выводы о зависимости 4 факторов на выплаты заёмщиков.\n",
    "    \n",
    "</div>\n",
    "</div>"
   ]
  },
  {
   "cell_type": "markdown",
   "id": "04aa0277",
   "metadata": {},
   "source": [
    "<div style=\"border:solid blue 3px; padding: 20px\">\n",
    "<div class=\"alert alert-info\">\n",
    "<h1> Вывод </h1>\n",
    "\n",
    "Я работала с данными клиентской базы некого банка. До анализа данных в базе было несколько проблемных точек, вот почему была необходима предобработка данных.\n",
    "Решение: удаление пропусков, артефактов, замена пропусков медианными значениями, замена типов данных, обработка неявных дубликатов, категоризация данных. \n",
    "По итогу с данными удобнее стало работать и делать выводы о зависимости 4 факторов на выплаты заёмщиков. Я бы рассмотрела ещё один фактор - возраст, думаю это тоже помогло бы составить более точную скоринговую модель.\n",
    "\n",
    "Итак по каждому фактору, или зависимости, по порядку, чтобы упорядочить анализ.\n",
    "\n",
    "1. Зависимость между количеством детей и возвратом кредита в срок:\n",
    "    чем больше детей, тем чаще платят не в срок, бездетные реже просрачивают оплату\n",
    "2. Зависимость между семейным положением и возвратом кредита в срок: \n",
    "    семейный статус влияет на вероятность платежей по кредиту в срок - люди, бывшие в браке чаще плятят в срок чем те, кто не бывали в браке, причем разведенные и овдовевшие платят в срок чаще, чем люди в браке.\n",
    "3. Зависимость между уровнем дохода и возвратом кредита в срок:\n",
    "    из данных видно то, что наилучшими платильщиками являют люди из категории дохода 'высокий', а именно те,кто получает больше больше 200 тыс\n",
    "4. Зависимость от целей кредита и его возвратом в срок:\n",
    "    кредиты на недвижимость и свадьбу просрачивают реже, чаще просрочка у тех кому нужен кредит на авто и образование, самые дисциплинированные платильщики с целью недвижимость.\n",
    "\n",
    "\n",
    "</div>\n",
    "</div>"
   ]
  }
 ],
 "metadata": {
  "ExecuteTimeLog": [
   {
    "duration": 50,
    "start_time": "2022-12-26T03:31:42.848Z"
   },
   {
    "duration": 572,
    "start_time": "2022-12-26T03:32:01.326Z"
   },
   {
    "duration": 23,
    "start_time": "2022-12-26T03:32:01.900Z"
   },
   {
    "duration": 17,
    "start_time": "2022-12-26T03:32:01.925Z"
   },
   {
    "duration": 16,
    "start_time": "2022-12-26T03:32:01.944Z"
   },
   {
    "duration": 50,
    "start_time": "2022-12-26T03:32:01.961Z"
   },
   {
    "duration": 3,
    "start_time": "2022-12-26T03:32:02.013Z"
   },
   {
    "duration": 24,
    "start_time": "2022-12-26T03:32:02.018Z"
   },
   {
    "duration": 18,
    "start_time": "2022-12-26T03:32:02.044Z"
   },
   {
    "duration": 23,
    "start_time": "2022-12-26T03:32:02.063Z"
   },
   {
    "duration": 26,
    "start_time": "2022-12-26T03:32:02.089Z"
   },
   {
    "duration": 39,
    "start_time": "2022-12-26T03:32:02.117Z"
   },
   {
    "duration": 14,
    "start_time": "2022-12-26T03:32:02.158Z"
   },
   {
    "duration": 39,
    "start_time": "2022-12-26T03:32:02.174Z"
   },
   {
    "duration": 45,
    "start_time": "2022-12-26T03:32:02.215Z"
   },
   {
    "duration": 34,
    "start_time": "2022-12-26T03:32:02.263Z"
   },
   {
    "duration": 19,
    "start_time": "2022-12-26T03:32:02.299Z"
   },
   {
    "duration": 4,
    "start_time": "2022-12-26T03:32:02.320Z"
   },
   {
    "duration": 33,
    "start_time": "2022-12-26T03:32:02.326Z"
   },
   {
    "duration": 21,
    "start_time": "2022-12-26T03:32:02.360Z"
   },
   {
    "duration": 29,
    "start_time": "2022-12-26T03:32:02.383Z"
   },
   {
    "duration": 25,
    "start_time": "2022-12-26T03:32:02.413Z"
   },
   {
    "duration": 10,
    "start_time": "2022-12-26T03:32:02.440Z"
   },
   {
    "duration": 44,
    "start_time": "2022-12-26T03:32:02.452Z"
   },
   {
    "duration": 2,
    "start_time": "2022-12-26T03:32:02.499Z"
   },
   {
    "duration": 13,
    "start_time": "2022-12-26T03:32:02.503Z"
   },
   {
    "duration": 77,
    "start_time": "2022-12-26T03:38:15.065Z"
   },
   {
    "duration": 23,
    "start_time": "2022-12-26T03:38:58.882Z"
   },
   {
    "duration": 9,
    "start_time": "2022-12-26T03:41:07.949Z"
   },
   {
    "duration": 14,
    "start_time": "2022-12-26T03:41:38.734Z"
   },
   {
    "duration": 13,
    "start_time": "2022-12-26T03:48:24.102Z"
   },
   {
    "duration": 10,
    "start_time": "2022-12-26T03:51:40.212Z"
   },
   {
    "duration": 27,
    "start_time": "2022-12-26T03:55:15.614Z"
   },
   {
    "duration": 52,
    "start_time": "2022-12-26T06:32:13.556Z"
   },
   {
    "duration": 47,
    "start_time": "2022-12-26T14:45:14.381Z"
   },
   {
    "duration": 660,
    "start_time": "2022-12-26T14:45:49.592Z"
   },
   {
    "duration": 25,
    "start_time": "2022-12-26T14:45:50.254Z"
   },
   {
    "duration": 22,
    "start_time": "2022-12-26T14:45:50.280Z"
   },
   {
    "duration": 27,
    "start_time": "2022-12-26T14:45:50.305Z"
   },
   {
    "duration": 57,
    "start_time": "2022-12-26T14:45:50.334Z"
   },
   {
    "duration": 3,
    "start_time": "2022-12-26T14:45:50.393Z"
   },
   {
    "duration": 15,
    "start_time": "2022-12-26T14:45:50.398Z"
   },
   {
    "duration": 6,
    "start_time": "2022-12-26T14:45:50.415Z"
   },
   {
    "duration": 10,
    "start_time": "2022-12-26T14:45:50.422Z"
   },
   {
    "duration": 10,
    "start_time": "2022-12-26T14:45:50.435Z"
   },
   {
    "duration": 68,
    "start_time": "2022-12-26T14:45:50.446Z"
   },
   {
    "duration": 8,
    "start_time": "2022-12-26T14:45:50.516Z"
   },
   {
    "duration": 9,
    "start_time": "2022-12-26T14:45:50.526Z"
   },
   {
    "duration": 15,
    "start_time": "2022-12-26T14:45:50.537Z"
   },
   {
    "duration": 28,
    "start_time": "2022-12-26T14:45:50.554Z"
   },
   {
    "duration": 15,
    "start_time": "2022-12-26T14:45:50.584Z"
   },
   {
    "duration": 3,
    "start_time": "2022-12-26T14:45:50.601Z"
   },
   {
    "duration": 19,
    "start_time": "2022-12-26T14:45:50.606Z"
   },
   {
    "duration": 12,
    "start_time": "2022-12-26T14:45:50.627Z"
   },
   {
    "duration": 8,
    "start_time": "2022-12-26T14:45:50.641Z"
   },
   {
    "duration": 25,
    "start_time": "2022-12-26T14:45:50.651Z"
   },
   {
    "duration": 14,
    "start_time": "2022-12-26T14:45:50.678Z"
   },
   {
    "duration": 26,
    "start_time": "2022-12-26T14:45:50.693Z"
   },
   {
    "duration": 124,
    "start_time": "2022-12-26T14:45:50.722Z"
   },
   {
    "duration": 0,
    "start_time": "2022-12-26T14:45:50.848Z"
   },
   {
    "duration": 13,
    "start_time": "2022-12-26T14:46:43.612Z"
   },
   {
    "duration": 11,
    "start_time": "2022-12-26T14:47:15.052Z"
   },
   {
    "duration": 19,
    "start_time": "2022-12-26T14:48:32.213Z"
   },
   {
    "duration": 13,
    "start_time": "2022-12-26T14:49:29.880Z"
   },
   {
    "duration": 17,
    "start_time": "2022-12-26T14:54:15.983Z"
   },
   {
    "duration": 11,
    "start_time": "2022-12-26T15:01:58.245Z"
   },
   {
    "duration": 18,
    "start_time": "2022-12-26T15:02:12.374Z"
   },
   {
    "duration": 16,
    "start_time": "2022-12-26T15:02:44.734Z"
   },
   {
    "duration": 17,
    "start_time": "2022-12-26T15:04:37.702Z"
   },
   {
    "duration": 546,
    "start_time": "2022-12-26T18:36:49.187Z"
   },
   {
    "duration": 22,
    "start_time": "2022-12-26T18:36:49.735Z"
   },
   {
    "duration": 15,
    "start_time": "2022-12-26T18:36:49.759Z"
   },
   {
    "duration": 10,
    "start_time": "2022-12-26T18:36:49.776Z"
   },
   {
    "duration": 56,
    "start_time": "2022-12-26T18:36:49.787Z"
   },
   {
    "duration": 3,
    "start_time": "2022-12-26T18:36:49.844Z"
   },
   {
    "duration": 10,
    "start_time": "2022-12-26T18:36:49.849Z"
   },
   {
    "duration": 4,
    "start_time": "2022-12-26T18:36:49.861Z"
   },
   {
    "duration": 10,
    "start_time": "2022-12-26T18:36:49.866Z"
   },
   {
    "duration": 7,
    "start_time": "2022-12-26T18:36:49.878Z"
   },
   {
    "duration": 33,
    "start_time": "2022-12-26T18:36:49.904Z"
   },
   {
    "duration": 8,
    "start_time": "2022-12-26T18:36:49.939Z"
   },
   {
    "duration": 4,
    "start_time": "2022-12-26T18:36:49.949Z"
   },
   {
    "duration": 15,
    "start_time": "2022-12-26T18:36:49.954Z"
   },
   {
    "duration": 21,
    "start_time": "2022-12-26T18:36:49.970Z"
   },
   {
    "duration": 17,
    "start_time": "2022-12-26T18:36:49.992Z"
   },
   {
    "duration": 3,
    "start_time": "2022-12-26T18:36:50.011Z"
   },
   {
    "duration": 30,
    "start_time": "2022-12-26T18:36:50.015Z"
   },
   {
    "duration": 14,
    "start_time": "2022-12-26T18:36:50.047Z"
   },
   {
    "duration": 3,
    "start_time": "2022-12-26T18:36:50.063Z"
   },
   {
    "duration": 11,
    "start_time": "2022-12-26T18:36:50.068Z"
   },
   {
    "duration": 13,
    "start_time": "2022-12-26T18:36:50.081Z"
   },
   {
    "duration": 27,
    "start_time": "2022-12-26T18:36:50.095Z"
   },
   {
    "duration": 20,
    "start_time": "2022-12-26T18:36:50.123Z"
   },
   {
    "duration": 50,
    "start_time": "2023-01-24T20:56:21.783Z"
   },
   {
    "duration": 7,
    "start_time": "2023-01-24T20:57:04.404Z"
   },
   {
    "duration": 6,
    "start_time": "2023-01-24T21:00:50.654Z"
   },
   {
    "duration": 5,
    "start_time": "2023-01-24T21:02:07.375Z"
   },
   {
    "duration": 473,
    "start_time": "2023-01-24T21:04:03.898Z"
   },
   {
    "duration": 20,
    "start_time": "2023-01-24T21:04:04.373Z"
   },
   {
    "duration": 12,
    "start_time": "2023-01-24T21:04:04.394Z"
   },
   {
    "duration": 8,
    "start_time": "2023-01-24T21:04:04.408Z"
   },
   {
    "duration": 38,
    "start_time": "2023-01-24T21:04:04.417Z"
   },
   {
    "duration": 2,
    "start_time": "2023-01-24T21:04:04.457Z"
   },
   {
    "duration": 9,
    "start_time": "2023-01-24T21:04:04.461Z"
   },
   {
    "duration": 3,
    "start_time": "2023-01-24T21:04:04.471Z"
   },
   {
    "duration": 8,
    "start_time": "2023-01-24T21:04:04.476Z"
   },
   {
    "duration": 3,
    "start_time": "2023-01-24T21:04:04.486Z"
   },
   {
    "duration": 48,
    "start_time": "2023-01-24T21:04:04.490Z"
   },
   {
    "duration": 8,
    "start_time": "2023-01-24T21:04:04.540Z"
   },
   {
    "duration": 4,
    "start_time": "2023-01-24T21:04:04.549Z"
   },
   {
    "duration": 12,
    "start_time": "2023-01-24T21:04:04.554Z"
   },
   {
    "duration": 20,
    "start_time": "2023-01-24T21:04:04.567Z"
   },
   {
    "duration": 15,
    "start_time": "2023-01-24T21:04:04.588Z"
   },
   {
    "duration": 3,
    "start_time": "2023-01-24T21:04:04.604Z"
   },
   {
    "duration": 30,
    "start_time": "2023-01-24T21:04:04.608Z"
   },
   {
    "duration": 8,
    "start_time": "2023-01-24T21:04:04.639Z"
   },
   {
    "duration": 4,
    "start_time": "2023-01-24T21:04:04.648Z"
   },
   {
    "duration": 13,
    "start_time": "2023-01-24T21:04:04.653Z"
   },
   {
    "duration": 12,
    "start_time": "2023-01-24T21:04:04.668Z"
   },
   {
    "duration": 22,
    "start_time": "2023-01-24T21:04:04.681Z"
   },
   {
    "duration": 80,
    "start_time": "2023-01-24T21:04:04.704Z"
   },
   {
    "duration": 0,
    "start_time": "2023-01-24T21:04:04.785Z"
   },
   {
    "duration": 20,
    "start_time": "2023-01-24T21:05:36.775Z"
   },
   {
    "duration": 22,
    "start_time": "2023-01-24T21:15:28.444Z"
   },
   {
    "duration": 9,
    "start_time": "2023-01-24T22:23:27.439Z"
   },
   {
    "duration": 407,
    "start_time": "2023-01-24T22:23:43.962Z"
   },
   {
    "duration": 20,
    "start_time": "2023-01-24T22:23:44.371Z"
   },
   {
    "duration": 12,
    "start_time": "2023-01-24T22:23:44.392Z"
   },
   {
    "duration": 7,
    "start_time": "2023-01-24T22:23:44.406Z"
   },
   {
    "duration": 41,
    "start_time": "2023-01-24T22:23:44.415Z"
   },
   {
    "duration": 3,
    "start_time": "2023-01-24T22:23:44.457Z"
   },
   {
    "duration": 18,
    "start_time": "2023-01-24T22:23:44.462Z"
   },
   {
    "duration": 19,
    "start_time": "2023-01-24T22:23:44.481Z"
   },
   {
    "duration": 11,
    "start_time": "2023-01-24T22:23:44.501Z"
   },
   {
    "duration": 4,
    "start_time": "2023-01-24T22:23:44.513Z"
   },
   {
    "duration": 32,
    "start_time": "2023-01-24T22:23:44.518Z"
   },
   {
    "duration": 11,
    "start_time": "2023-01-24T22:23:44.551Z"
   },
   {
    "duration": 10,
    "start_time": "2023-01-24T22:23:44.564Z"
   },
   {
    "duration": 11,
    "start_time": "2023-01-24T22:23:44.576Z"
   },
   {
    "duration": 16,
    "start_time": "2023-01-24T22:23:44.589Z"
   },
   {
    "duration": 14,
    "start_time": "2023-01-24T22:23:44.606Z"
   },
   {
    "duration": 3,
    "start_time": "2023-01-24T22:23:44.621Z"
   },
   {
    "duration": 8,
    "start_time": "2023-01-24T22:23:44.637Z"
   },
   {
    "duration": 7,
    "start_time": "2023-01-24T22:23:44.646Z"
   },
   {
    "duration": 3,
    "start_time": "2023-01-24T22:23:44.655Z"
   },
   {
    "duration": 20,
    "start_time": "2023-01-24T22:23:44.659Z"
   },
   {
    "duration": 14,
    "start_time": "2023-01-24T22:23:44.681Z"
   },
   {
    "duration": 20,
    "start_time": "2023-01-24T22:23:44.697Z"
   },
   {
    "duration": 66,
    "start_time": "2023-01-24T22:23:44.718Z"
   },
   {
    "duration": 0,
    "start_time": "2023-01-24T22:23:44.785Z"
   },
   {
    "duration": 14,
    "start_time": "2023-01-24T22:24:19.507Z"
   },
   {
    "duration": 376,
    "start_time": "2023-01-24T22:24:55.841Z"
   },
   {
    "duration": 21,
    "start_time": "2023-01-24T22:29:45.187Z"
   },
   {
    "duration": 59,
    "start_time": "2023-01-24T22:50:24.362Z"
   },
   {
    "duration": 516,
    "start_time": "2023-01-24T22:50:35.905Z"
   },
   {
    "duration": 24,
    "start_time": "2023-01-24T22:50:36.423Z"
   },
   {
    "duration": 19,
    "start_time": "2023-01-24T22:50:36.448Z"
   },
   {
    "duration": 12,
    "start_time": "2023-01-24T22:50:36.470Z"
   },
   {
    "duration": 39,
    "start_time": "2023-01-24T22:50:36.484Z"
   },
   {
    "duration": 3,
    "start_time": "2023-01-24T22:50:36.525Z"
   },
   {
    "duration": 86,
    "start_time": "2023-01-24T22:50:36.530Z"
   },
   {
    "duration": 6,
    "start_time": "2023-01-24T22:50:36.617Z"
   },
   {
    "duration": 9,
    "start_time": "2023-01-24T22:50:36.624Z"
   },
   {
    "duration": 5,
    "start_time": "2023-01-24T22:50:36.636Z"
   },
   {
    "duration": 36,
    "start_time": "2023-01-24T22:50:36.643Z"
   },
   {
    "duration": 14,
    "start_time": "2023-01-24T22:50:36.680Z"
   },
   {
    "duration": 3,
    "start_time": "2023-01-24T22:50:36.695Z"
   },
   {
    "duration": 13,
    "start_time": "2023-01-24T22:50:36.699Z"
   },
   {
    "duration": 19,
    "start_time": "2023-01-24T22:50:36.713Z"
   },
   {
    "duration": 16,
    "start_time": "2023-01-24T22:50:36.733Z"
   },
   {
    "duration": 4,
    "start_time": "2023-01-24T22:50:36.750Z"
   },
   {
    "duration": 38,
    "start_time": "2023-01-24T22:50:36.755Z"
   },
   {
    "duration": 6,
    "start_time": "2023-01-24T22:50:36.795Z"
   },
   {
    "duration": 6,
    "start_time": "2023-01-24T22:50:36.802Z"
   },
   {
    "duration": 10,
    "start_time": "2023-01-24T22:50:36.810Z"
   },
   {
    "duration": 13,
    "start_time": "2023-01-24T22:50:36.821Z"
   },
   {
    "duration": 23,
    "start_time": "2023-01-24T22:50:36.835Z"
   },
   {
    "duration": 55,
    "start_time": "2023-01-24T22:50:36.859Z"
   },
   {
    "duration": 16,
    "start_time": "2023-01-24T22:50:36.916Z"
   },
   {
    "duration": 61,
    "start_time": "2023-01-28T13:18:37.247Z"
   },
   {
    "duration": 42,
    "start_time": "2023-01-28T13:18:40.360Z"
   },
   {
    "duration": 651,
    "start_time": "2023-01-28T13:18:54.692Z"
   },
   {
    "duration": 24,
    "start_time": "2023-01-28T13:18:55.351Z"
   },
   {
    "duration": 23,
    "start_time": "2023-01-28T13:18:55.377Z"
   },
   {
    "duration": 29,
    "start_time": "2023-01-28T13:18:55.402Z"
   },
   {
    "duration": 76,
    "start_time": "2023-01-28T13:18:55.432Z"
   },
   {
    "duration": 30,
    "start_time": "2023-01-28T13:18:55.525Z"
   },
   {
    "duration": 30,
    "start_time": "2023-01-28T13:18:55.559Z"
   },
   {
    "duration": 13,
    "start_time": "2023-01-28T13:18:55.591Z"
   },
   {
    "duration": 66,
    "start_time": "2023-01-28T13:18:55.606Z"
   },
   {
    "duration": 11,
    "start_time": "2023-01-28T13:18:55.675Z"
   },
   {
    "duration": 68,
    "start_time": "2023-01-28T13:18:55.687Z"
   },
   {
    "duration": 27,
    "start_time": "2023-01-28T13:18:55.757Z"
   },
   {
    "duration": 21,
    "start_time": "2023-01-28T13:18:55.786Z"
   },
   {
    "duration": 72,
    "start_time": "2023-01-28T13:18:55.809Z"
   },
   {
    "duration": 77,
    "start_time": "2023-01-28T13:18:55.883Z"
   },
   {
    "duration": 27,
    "start_time": "2023-01-28T13:18:55.961Z"
   },
   {
    "duration": 4,
    "start_time": "2023-01-28T13:18:55.989Z"
   },
   {
    "duration": 36,
    "start_time": "2023-01-28T13:18:55.995Z"
   },
   {
    "duration": 22,
    "start_time": "2023-01-28T13:18:56.047Z"
   },
   {
    "duration": 12,
    "start_time": "2023-01-28T13:18:56.071Z"
   },
   {
    "duration": 70,
    "start_time": "2023-01-28T13:18:56.085Z"
   },
   {
    "duration": 23,
    "start_time": "2023-01-28T13:18:56.157Z"
   },
   {
    "duration": 25,
    "start_time": "2023-01-28T13:18:56.182Z"
   },
   {
    "duration": 46,
    "start_time": "2023-01-28T13:18:56.215Z"
   },
   {
    "duration": 20,
    "start_time": "2023-01-28T13:18:56.263Z"
   },
   {
    "duration": 86,
    "start_time": "2023-01-28T13:18:56.284Z"
   },
   {
    "duration": 86,
    "start_time": "2023-01-28T13:19:09.376Z"
   },
   {
    "duration": 48,
    "start_time": "2023-01-28T13:19:47.554Z"
   },
   {
    "duration": 53,
    "start_time": "2023-01-28T13:19:53.766Z"
   },
   {
    "duration": 136,
    "start_time": "2023-01-28T13:20:53.031Z"
   },
   {
    "duration": 85,
    "start_time": "2023-01-28T13:21:19.177Z"
   },
   {
    "duration": 56,
    "start_time": "2023-01-28T13:21:40.244Z"
   },
   {
    "duration": 41,
    "start_time": "2023-01-28T13:22:14.057Z"
   },
   {
    "duration": 552,
    "start_time": "2023-01-29T09:06:45.187Z"
   },
   {
    "duration": 23,
    "start_time": "2023-01-29T09:06:45.741Z"
   },
   {
    "duration": 51,
    "start_time": "2023-01-29T09:06:45.766Z"
   },
   {
    "duration": 32,
    "start_time": "2023-01-29T09:06:45.820Z"
   },
   {
    "duration": 52,
    "start_time": "2023-01-29T09:06:45.854Z"
   },
   {
    "duration": 13,
    "start_time": "2023-01-29T09:06:45.908Z"
   },
   {
    "duration": 44,
    "start_time": "2023-01-29T09:06:45.923Z"
   },
   {
    "duration": 5,
    "start_time": "2023-01-29T09:06:45.969Z"
   },
   {
    "duration": 14,
    "start_time": "2023-01-29T09:06:45.975Z"
   },
   {
    "duration": 10,
    "start_time": "2023-01-29T09:06:45.994Z"
   },
   {
    "duration": 67,
    "start_time": "2023-01-29T09:06:46.005Z"
   },
   {
    "duration": 15,
    "start_time": "2023-01-29T09:06:46.074Z"
   },
   {
    "duration": 11,
    "start_time": "2023-01-29T09:06:46.091Z"
   },
   {
    "duration": 22,
    "start_time": "2023-01-29T09:06:46.104Z"
   },
   {
    "duration": 25,
    "start_time": "2023-01-29T09:06:46.127Z"
   },
   {
    "duration": 17,
    "start_time": "2023-01-29T09:06:46.154Z"
   },
   {
    "duration": 5,
    "start_time": "2023-01-29T09:06:46.173Z"
   },
   {
    "duration": 30,
    "start_time": "2023-01-29T09:06:46.180Z"
   },
   {
    "duration": 8,
    "start_time": "2023-01-29T09:06:46.212Z"
   },
   {
    "duration": 10,
    "start_time": "2023-01-29T09:06:46.222Z"
   },
   {
    "duration": 28,
    "start_time": "2023-01-29T09:06:46.234Z"
   },
   {
    "duration": 27,
    "start_time": "2023-01-29T09:06:46.264Z"
   },
   {
    "duration": 28,
    "start_time": "2023-01-29T09:06:46.293Z"
   },
   {
    "duration": 34,
    "start_time": "2023-01-29T09:06:46.323Z"
   },
   {
    "duration": 18,
    "start_time": "2023-01-29T09:06:46.358Z"
   },
   {
    "duration": 9,
    "start_time": "2023-01-30T00:38:18.422Z"
   },
   {
    "duration": 41,
    "start_time": "2023-01-30T00:38:19.400Z"
   },
   {
    "duration": 8,
    "start_time": "2023-01-30T00:39:05.256Z"
   },
   {
    "duration": 673,
    "start_time": "2023-01-30T00:39:24.721Z"
   },
   {
    "duration": 23,
    "start_time": "2023-01-30T00:39:25.396Z"
   },
   {
    "duration": 16,
    "start_time": "2023-01-30T00:39:25.421Z"
   },
   {
    "duration": 10,
    "start_time": "2023-01-30T00:39:25.439Z"
   },
   {
    "duration": 37,
    "start_time": "2023-01-30T00:39:25.466Z"
   },
   {
    "duration": 3,
    "start_time": "2023-01-30T00:39:25.505Z"
   },
   {
    "duration": 10,
    "start_time": "2023-01-30T00:39:25.510Z"
   },
   {
    "duration": 20,
    "start_time": "2023-01-30T00:39:25.521Z"
   },
   {
    "duration": 9,
    "start_time": "2023-01-30T00:39:25.543Z"
   },
   {
    "duration": 16,
    "start_time": "2023-01-30T00:39:25.553Z"
   },
   {
    "duration": 40,
    "start_time": "2023-01-30T00:39:25.571Z"
   },
   {
    "duration": 10,
    "start_time": "2023-01-30T00:39:25.612Z"
   },
   {
    "duration": 8,
    "start_time": "2023-01-30T00:39:25.623Z"
   },
   {
    "duration": 12,
    "start_time": "2023-01-30T00:39:25.633Z"
   },
   {
    "duration": 33,
    "start_time": "2023-01-30T00:39:25.647Z"
   },
   {
    "duration": 17,
    "start_time": "2023-01-30T00:39:25.682Z"
   },
   {
    "duration": 4,
    "start_time": "2023-01-30T00:39:25.700Z"
   },
   {
    "duration": 17,
    "start_time": "2023-01-30T00:39:25.705Z"
   },
   {
    "duration": 8,
    "start_time": "2023-01-30T00:39:25.724Z"
   },
   {
    "duration": 5,
    "start_time": "2023-01-30T00:39:25.733Z"
   },
   {
    "duration": 13,
    "start_time": "2023-01-30T00:39:25.768Z"
   },
   {
    "duration": 19,
    "start_time": "2023-01-30T00:39:25.783Z"
   },
   {
    "duration": 21,
    "start_time": "2023-01-30T00:39:25.910Z"
   },
   {
    "duration": 24,
    "start_time": "2023-01-30T00:39:46.184Z"
   },
   {
    "duration": 4,
    "start_time": "2023-01-30T00:39:46.209Z"
   },
   {
    "duration": 8,
    "start_time": "2023-01-30T00:39:46.300Z"
   },
   {
    "duration": 22,
    "start_time": "2023-01-30T00:39:46.310Z"
   },
   {
    "duration": 14,
    "start_time": "2023-01-30T00:39:46.334Z"
   },
   {
    "duration": 4,
    "start_time": "2023-01-30T00:42:03.888Z"
   },
   {
    "duration": 9,
    "start_time": "2023-01-30T00:42:05.440Z"
   },
   {
    "duration": 22,
    "start_time": "2023-01-30T00:42:07.457Z"
   },
   {
    "duration": 3,
    "start_time": "2023-01-30T00:43:04.065Z"
   },
   {
    "duration": 9,
    "start_time": "2023-01-30T00:43:04.299Z"
   },
   {
    "duration": 24,
    "start_time": "2023-01-30T00:43:04.965Z"
   },
   {
    "duration": 23,
    "start_time": "2023-01-30T01:10:20.719Z"
   },
   {
    "duration": 90,
    "start_time": "2023-01-30T01:10:39.948Z"
   },
   {
    "duration": 443,
    "start_time": "2023-01-30T01:17:12.909Z"
   },
   {
    "duration": 21,
    "start_time": "2023-01-30T01:17:13.354Z"
   },
   {
    "duration": 14,
    "start_time": "2023-01-30T01:17:13.377Z"
   },
   {
    "duration": 9,
    "start_time": "2023-01-30T01:17:13.393Z"
   },
   {
    "duration": 38,
    "start_time": "2023-01-30T01:17:13.404Z"
   },
   {
    "duration": 3,
    "start_time": "2023-01-30T01:17:13.443Z"
   },
   {
    "duration": 7,
    "start_time": "2023-01-30T01:17:13.468Z"
   },
   {
    "duration": 5,
    "start_time": "2023-01-30T01:17:13.476Z"
   },
   {
    "duration": 8,
    "start_time": "2023-01-30T01:17:13.483Z"
   },
   {
    "duration": 4,
    "start_time": "2023-01-30T01:17:13.494Z"
   },
   {
    "duration": 35,
    "start_time": "2023-01-30T01:17:13.499Z"
   },
   {
    "duration": 35,
    "start_time": "2023-01-30T01:17:13.535Z"
   },
   {
    "duration": 3,
    "start_time": "2023-01-30T01:17:13.572Z"
   },
   {
    "duration": 17,
    "start_time": "2023-01-30T01:17:13.576Z"
   },
   {
    "duration": 19,
    "start_time": "2023-01-30T01:17:13.594Z"
   },
   {
    "duration": 17,
    "start_time": "2023-01-30T01:17:13.614Z"
   },
   {
    "duration": 3,
    "start_time": "2023-01-30T01:17:13.632Z"
   },
   {
    "duration": 41,
    "start_time": "2023-01-30T01:17:13.637Z"
   },
   {
    "duration": 6,
    "start_time": "2023-01-30T01:17:13.680Z"
   },
   {
    "duration": 5,
    "start_time": "2023-01-30T01:17:13.688Z"
   },
   {
    "duration": 11,
    "start_time": "2023-01-30T01:17:13.695Z"
   },
   {
    "duration": 18,
    "start_time": "2023-01-30T01:17:13.708Z"
   },
   {
    "duration": 49,
    "start_time": "2023-01-30T01:17:13.728Z"
   },
   {
    "duration": 28,
    "start_time": "2023-01-30T01:17:13.779Z"
   },
   {
    "duration": 3,
    "start_time": "2023-01-30T01:17:13.809Z"
   },
   {
    "duration": 16,
    "start_time": "2023-01-30T01:17:13.814Z"
   },
   {
    "duration": 48,
    "start_time": "2023-01-30T01:17:13.832Z"
   },
   {
    "duration": 162,
    "start_time": "2023-01-30T01:17:13.883Z"
   },
   {
    "duration": 0,
    "start_time": "2023-01-30T01:17:14.046Z"
   },
   {
    "duration": 78,
    "start_time": "2023-01-30T01:17:33.300Z"
   },
   {
    "duration": 540,
    "start_time": "2023-01-30T18:03:24.789Z"
   },
   {
    "duration": 23,
    "start_time": "2023-01-30T18:03:25.332Z"
   },
   {
    "duration": 24,
    "start_time": "2023-01-30T18:03:25.357Z"
   },
   {
    "duration": 10,
    "start_time": "2023-01-30T18:03:25.383Z"
   },
   {
    "duration": 39,
    "start_time": "2023-01-30T18:03:25.395Z"
   },
   {
    "duration": 3,
    "start_time": "2023-01-30T18:03:25.435Z"
   },
   {
    "duration": 12,
    "start_time": "2023-01-30T18:03:25.440Z"
   },
   {
    "duration": 8,
    "start_time": "2023-01-30T18:03:25.453Z"
   },
   {
    "duration": 10,
    "start_time": "2023-01-30T18:03:25.462Z"
   },
   {
    "duration": 4,
    "start_time": "2023-01-30T18:03:25.475Z"
   },
   {
    "duration": 32,
    "start_time": "2023-01-30T18:03:25.493Z"
   },
   {
    "duration": 9,
    "start_time": "2023-01-30T18:03:25.527Z"
   },
   {
    "duration": 8,
    "start_time": "2023-01-30T18:03:25.537Z"
   },
   {
    "duration": 14,
    "start_time": "2023-01-30T18:03:25.547Z"
   },
   {
    "duration": 39,
    "start_time": "2023-01-30T18:03:25.563Z"
   },
   {
    "duration": 21,
    "start_time": "2023-01-30T18:03:25.604Z"
   },
   {
    "duration": 3,
    "start_time": "2023-01-30T18:03:25.626Z"
   },
   {
    "duration": 20,
    "start_time": "2023-01-30T18:03:25.631Z"
   },
   {
    "duration": 5,
    "start_time": "2023-01-30T18:03:25.652Z"
   },
   {
    "duration": 6,
    "start_time": "2023-01-30T18:03:25.659Z"
   },
   {
    "duration": 27,
    "start_time": "2023-01-30T18:03:25.666Z"
   },
   {
    "duration": 15,
    "start_time": "2023-01-30T18:03:25.695Z"
   },
   {
    "duration": 25,
    "start_time": "2023-01-30T18:03:25.712Z"
   },
   {
    "duration": 22,
    "start_time": "2023-01-30T18:03:25.739Z"
   },
   {
    "duration": 3,
    "start_time": "2023-01-30T18:03:25.762Z"
   },
   {
    "duration": 15,
    "start_time": "2023-01-30T18:03:25.794Z"
   },
   {
    "duration": 28,
    "start_time": "2023-01-30T18:03:25.811Z"
   },
   {
    "duration": 16,
    "start_time": "2023-01-30T18:03:25.842Z"
   }
  ],
  "colab": {
   "name": "dpp_template_part2.ipynb",
   "provenance": []
  },
  "kernelspec": {
   "display_name": "Python 3 (ipykernel)",
   "language": "python",
   "name": "python3"
  },
  "language_info": {
   "codemirror_mode": {
    "name": "ipython",
    "version": 3
   },
   "file_extension": ".py",
   "mimetype": "text/x-python",
   "name": "python",
   "nbconvert_exporter": "python",
   "pygments_lexer": "ipython3",
   "version": "3.9.13"
  },
  "toc": {
   "base_numbering": 1,
   "nav_menu": {},
   "number_sections": true,
   "sideBar": true,
   "skip_h1_title": true,
   "title_cell": "Table of Contents",
   "title_sidebar": "Contents",
   "toc_cell": false,
   "toc_position": {},
   "toc_section_display": true,
   "toc_window_display": false
  }
 },
 "nbformat": 4,
 "nbformat_minor": 5
}
